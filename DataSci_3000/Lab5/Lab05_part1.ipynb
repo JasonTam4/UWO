{
 "cells": [
  {
   "cell_type": "markdown",
   "metadata": {},
   "source": [
    "# Lab 05.1 - Crossvalidation \n"
   ]
  },
  {
   "cell_type": "code",
   "execution_count": 1,
   "metadata": {},
   "outputs": [],
   "source": [
    "import pandas as pd\n",
    "import numpy as np\n",
    "import matplotlib.pyplot as plt\n",
    "import seaborn as sns\n",
    "from sklearn.model_selection import train_test_split, cross_val_score\n",
    "from sklearn.linear_model import LinearRegression\n",
    "from sklearn.pipeline import Pipeline\n",
    "from sklearn.base import BaseEstimator, TransformerMixin\n",
    "from sklearn.decomposition import PCA\n",
    "from sklearn.preprocessing import StandardScaler, PolynomialFeatures\n",
    "from sklearn.metrics import mean_squared_error, mean_absolute_error, make_scorer\n",
    "pd.set_option('display.max_columns', 500)\n",
    "\n",
    "%matplotlib inline"
   ]
  },
  {
   "cell_type": "markdown",
   "metadata": {},
   "source": [
    "# 1. Loading a data set a building a model"
   ]
  },
  {
   "cell_type": "code",
   "execution_count": 2,
   "metadata": {},
   "outputs": [
    {
     "data": {
      "text/html": [
       "<div>\n",
       "<style scoped>\n",
       "    .dataframe tbody tr th:only-of-type {\n",
       "        vertical-align: middle;\n",
       "    }\n",
       "\n",
       "    .dataframe tbody tr th {\n",
       "        vertical-align: top;\n",
       "    }\n",
       "\n",
       "    .dataframe thead th {\n",
       "        text-align: right;\n",
       "    }\n",
       "</style>\n",
       "<table border=\"1\" class=\"dataframe\">\n",
       "  <thead>\n",
       "    <tr style=\"text-align: right;\">\n",
       "      <th></th>\n",
       "      <th>age</th>\n",
       "      <th>height_cm</th>\n",
       "      <th>weight_kg</th>\n",
       "      <th>work_rate_att</th>\n",
       "      <th>overall</th>\n",
       "    </tr>\n",
       "  </thead>\n",
       "  <tbody>\n",
       "    <tr>\n",
       "      <th>0</th>\n",
       "      <td>20</td>\n",
       "      <td>175</td>\n",
       "      <td>70</td>\n",
       "      <td>Medium</td>\n",
       "      <td>58</td>\n",
       "    </tr>\n",
       "    <tr>\n",
       "      <th>1</th>\n",
       "      <td>29</td>\n",
       "      <td>183</td>\n",
       "      <td>80</td>\n",
       "      <td>High</td>\n",
       "      <td>65</td>\n",
       "    </tr>\n",
       "    <tr>\n",
       "      <th>2</th>\n",
       "      <td>35</td>\n",
       "      <td>183</td>\n",
       "      <td>78</td>\n",
       "      <td>High</td>\n",
       "      <td>67</td>\n",
       "    </tr>\n",
       "    <tr>\n",
       "      <th>3</th>\n",
       "      <td>24</td>\n",
       "      <td>178</td>\n",
       "      <td>72</td>\n",
       "      <td>Medium</td>\n",
       "      <td>69</td>\n",
       "    </tr>\n",
       "    <tr>\n",
       "      <th>4</th>\n",
       "      <td>23</td>\n",
       "      <td>173</td>\n",
       "      <td>73</td>\n",
       "      <td>Medium</td>\n",
       "      <td>70</td>\n",
       "    </tr>\n",
       "    <tr>\n",
       "      <th>...</th>\n",
       "      <td>...</td>\n",
       "      <td>...</td>\n",
       "      <td>...</td>\n",
       "      <td>...</td>\n",
       "      <td>...</td>\n",
       "    </tr>\n",
       "    <tr>\n",
       "      <th>355</th>\n",
       "      <td>25</td>\n",
       "      <td>180</td>\n",
       "      <td>77</td>\n",
       "      <td>Medium</td>\n",
       "      <td>66</td>\n",
       "    </tr>\n",
       "    <tr>\n",
       "      <th>356</th>\n",
       "      <td>23</td>\n",
       "      <td>180</td>\n",
       "      <td>75</td>\n",
       "      <td>Medium</td>\n",
       "      <td>71</td>\n",
       "    </tr>\n",
       "    <tr>\n",
       "      <th>357</th>\n",
       "      <td>22</td>\n",
       "      <td>180</td>\n",
       "      <td>72</td>\n",
       "      <td>Medium</td>\n",
       "      <td>63</td>\n",
       "    </tr>\n",
       "    <tr>\n",
       "      <th>358</th>\n",
       "      <td>22</td>\n",
       "      <td>180</td>\n",
       "      <td>72</td>\n",
       "      <td>Medium</td>\n",
       "      <td>62</td>\n",
       "    </tr>\n",
       "    <tr>\n",
       "      <th>359</th>\n",
       "      <td>33</td>\n",
       "      <td>185</td>\n",
       "      <td>87</td>\n",
       "      <td>High</td>\n",
       "      <td>70</td>\n",
       "    </tr>\n",
       "  </tbody>\n",
       "</table>\n",
       "<p>360 rows × 5 columns</p>\n",
       "</div>"
      ],
      "text/plain": [
       "     age  height_cm  weight_kg work_rate_att  overall\n",
       "0     20        175         70        Medium       58\n",
       "1     29        183         80          High       65\n",
       "2     35        183         78          High       67\n",
       "3     24        178         72        Medium       69\n",
       "4     23        173         73        Medium       70\n",
       "..   ...        ...        ...           ...      ...\n",
       "355   25        180         77        Medium       66\n",
       "356   23        180         75        Medium       71\n",
       "357   22        180         72        Medium       63\n",
       "358   22        180         72        Medium       62\n",
       "359   33        185         87          High       70\n",
       "\n",
       "[360 rows x 5 columns]"
      ]
     },
     "execution_count": 2,
     "metadata": {},
     "output_type": "execute_result"
    }
   ],
   "source": [
    "# Read in subset of footballer data\n",
    "\n",
    "model_data = pd.read_csv('footballer_reduced.csv')\n",
    "model_data"
   ]
  },
  {
   "cell_type": "code",
   "execution_count": 3,
   "metadata": {
    "scrolled": false
   },
   "outputs": [
    {
     "data": {
      "text/html": [
       "<div>\n",
       "<style scoped>\n",
       "    .dataframe tbody tr th:only-of-type {\n",
       "        vertical-align: middle;\n",
       "    }\n",
       "\n",
       "    .dataframe tbody tr th {\n",
       "        vertical-align: top;\n",
       "    }\n",
       "\n",
       "    .dataframe thead th {\n",
       "        text-align: right;\n",
       "    }\n",
       "</style>\n",
       "<table border=\"1\" class=\"dataframe\">\n",
       "  <thead>\n",
       "    <tr style=\"text-align: right;\">\n",
       "      <th></th>\n",
       "      <th>age</th>\n",
       "      <th>height_cm</th>\n",
       "      <th>weight_kg</th>\n",
       "      <th>overall</th>\n",
       "      <th>work_rate_att_Low</th>\n",
       "      <th>work_rate_att_Medium</th>\n",
       "    </tr>\n",
       "  </thead>\n",
       "  <tbody>\n",
       "    <tr>\n",
       "      <th>0</th>\n",
       "      <td>20</td>\n",
       "      <td>175</td>\n",
       "      <td>70</td>\n",
       "      <td>58</td>\n",
       "      <td>0</td>\n",
       "      <td>1</td>\n",
       "    </tr>\n",
       "    <tr>\n",
       "      <th>1</th>\n",
       "      <td>29</td>\n",
       "      <td>183</td>\n",
       "      <td>80</td>\n",
       "      <td>65</td>\n",
       "      <td>0</td>\n",
       "      <td>0</td>\n",
       "    </tr>\n",
       "    <tr>\n",
       "      <th>2</th>\n",
       "      <td>35</td>\n",
       "      <td>183</td>\n",
       "      <td>78</td>\n",
       "      <td>67</td>\n",
       "      <td>0</td>\n",
       "      <td>0</td>\n",
       "    </tr>\n",
       "    <tr>\n",
       "      <th>3</th>\n",
       "      <td>24</td>\n",
       "      <td>178</td>\n",
       "      <td>72</td>\n",
       "      <td>69</td>\n",
       "      <td>0</td>\n",
       "      <td>1</td>\n",
       "    </tr>\n",
       "    <tr>\n",
       "      <th>4</th>\n",
       "      <td>23</td>\n",
       "      <td>173</td>\n",
       "      <td>73</td>\n",
       "      <td>70</td>\n",
       "      <td>0</td>\n",
       "      <td>1</td>\n",
       "    </tr>\n",
       "    <tr>\n",
       "      <th>...</th>\n",
       "      <td>...</td>\n",
       "      <td>...</td>\n",
       "      <td>...</td>\n",
       "      <td>...</td>\n",
       "      <td>...</td>\n",
       "      <td>...</td>\n",
       "    </tr>\n",
       "    <tr>\n",
       "      <th>355</th>\n",
       "      <td>25</td>\n",
       "      <td>180</td>\n",
       "      <td>77</td>\n",
       "      <td>66</td>\n",
       "      <td>0</td>\n",
       "      <td>1</td>\n",
       "    </tr>\n",
       "    <tr>\n",
       "      <th>356</th>\n",
       "      <td>23</td>\n",
       "      <td>180</td>\n",
       "      <td>75</td>\n",
       "      <td>71</td>\n",
       "      <td>0</td>\n",
       "      <td>1</td>\n",
       "    </tr>\n",
       "    <tr>\n",
       "      <th>357</th>\n",
       "      <td>22</td>\n",
       "      <td>180</td>\n",
       "      <td>72</td>\n",
       "      <td>63</td>\n",
       "      <td>0</td>\n",
       "      <td>1</td>\n",
       "    </tr>\n",
       "    <tr>\n",
       "      <th>358</th>\n",
       "      <td>22</td>\n",
       "      <td>180</td>\n",
       "      <td>72</td>\n",
       "      <td>62</td>\n",
       "      <td>0</td>\n",
       "      <td>1</td>\n",
       "    </tr>\n",
       "    <tr>\n",
       "      <th>359</th>\n",
       "      <td>33</td>\n",
       "      <td>185</td>\n",
       "      <td>87</td>\n",
       "      <td>70</td>\n",
       "      <td>0</td>\n",
       "      <td>0</td>\n",
       "    </tr>\n",
       "  </tbody>\n",
       "</table>\n",
       "<p>360 rows × 6 columns</p>\n",
       "</div>"
      ],
      "text/plain": [
       "     age  height_cm  weight_kg  overall  work_rate_att_Low  \\\n",
       "0     20        175         70       58                  0   \n",
       "1     29        183         80       65                  0   \n",
       "2     35        183         78       67                  0   \n",
       "3     24        178         72       69                  0   \n",
       "4     23        173         73       70                  0   \n",
       "..   ...        ...        ...      ...                ...   \n",
       "355   25        180         77       66                  0   \n",
       "356   23        180         75       71                  0   \n",
       "357   22        180         72       63                  0   \n",
       "358   22        180         72       62                  0   \n",
       "359   33        185         87       70                  0   \n",
       "\n",
       "     work_rate_att_Medium  \n",
       "0                       1  \n",
       "1                       0  \n",
       "2                       0  \n",
       "3                       1  \n",
       "4                       1  \n",
       "..                    ...  \n",
       "355                     1  \n",
       "356                     1  \n",
       "357                     1  \n",
       "358                     1  \n",
       "359                     0  \n",
       "\n",
       "[360 rows x 6 columns]"
      ]
     },
     "execution_count": 3,
     "metadata": {},
     "output_type": "execute_result"
    }
   ],
   "source": [
    "# Turn category into numeric variables\n",
    "model_data = pd.get_dummies(model_data, drop_first=True)\n",
    "model_data"
   ]
  },
  {
   "cell_type": "code",
   "execution_count": 4,
   "metadata": {},
   "outputs": [
    {
     "name": "stderr",
     "output_type": "stream",
     "text": [
      "/Users/dlizotte/opt/anaconda3/lib/python3.9/site-packages/seaborn/distributions.py:2619: FutureWarning: `distplot` is a deprecated function and will be removed in a future version. Please adapt your code to use either `displot` (a figure-level function with similar flexibility) or `histplot` (an axes-level function for histograms).\n",
      "  warnings.warn(msg, FutureWarning)\n"
     ]
    },
    {
     "data": {
      "text/plain": [
       "<AxesSubplot:xlabel='overall', ylabel='Density'>"
      ]
     },
     "execution_count": 4,
     "metadata": {},
     "output_type": "execute_result"
    },
    {
     "data": {
      "image/png": "[encoded data removed]",
      "text/plain": [
       "<Figure size 640x480 with 1 Axes>"
      ]
     },
     "metadata": {},
     "output_type": "display_data"
    }
   ],
   "source": [
    "# Let's check out our prediction target, the 'overall' variable\n",
    "sns.distplot(model_data.overall)"
   ]
  },
  {
   "cell_type": "code",
   "execution_count": 5,
   "metadata": {},
   "outputs": [],
   "source": [
    "# Define our X and y\n",
    "y = model_data.overall\n",
    "X = model_data.drop('overall', axis = 'columns')\n"
   ]
  },
  {
   "cell_type": "markdown",
   "metadata": {},
   "source": [
    "## 2. Simple train-test split"
   ]
  },
  {
   "cell_type": "code",
   "execution_count": 6,
   "metadata": {},
   "outputs": [
    {
     "name": "stdout",
     "output_type": "stream",
     "text": [
      "(288, 5) (72, 5)\n"
     ]
    }
   ],
   "source": [
    "# Split into train&validation, test\n",
    "# Random state assures that folds are consistent across models\n",
    "Xtrain, Xtest, ytrain, ytest = train_test_split(X,y, test_size = 0.20, random_state = 0)\n",
    "print(Xtrain.shape,Xtest.shape)"
   ]
  },
  {
   "cell_type": "code",
   "execution_count": 7,
   "metadata": {},
   "outputs": [
    {
     "name": "stdout",
     "output_type": "stream",
     "text": [
      "Training loss: 33.23037858247383\n",
      "Training loss: 40.952245375550405\n"
     ]
    }
   ],
   "source": [
    "# Check training and test loss\n",
    "def mse(y,ypred):\n",
    "    return np.mean((y-ypred)**2)\n",
    "\n",
    "linmodel = LinearRegression().fit(Xtrain,ytrain)\n",
    "trainloss = mse(ytrain,linmodel.predict(Xtrain))\n",
    "print(f\"Training loss: {trainloss}\")\n",
    "testloss = mse(ytest,linmodel.predict(Xtest))\n",
    "print(f\"Training loss: {testloss}\")"
   ]
  },
  {
   "cell_type": "markdown",
   "metadata": {},
   "source": [
    "## 3. Crossvalidation: define the partitions\n",
    "For more details, see: https://scikit-learn.org/stable/modules/cross_validation.html#cross-validation"
   ]
  },
  {
   "cell_type": "code",
   "execution_count": 8,
   "metadata": {},
   "outputs": [
    {
     "name": "stdout",
     "output_type": "stream",
     "text": [
      "[ 4  5  6  7  8  9 10 11 12 13 14 15 16 17 18 19] [0 1 2 3]\n",
      "[ 0  1  2  3  8  9 10 11 12 13 14 15 16 17 18 19] [4 5 6 7]\n",
      "[ 0  1  2  3  4  5  6  7 12 13 14 15 16 17 18 19] [ 8  9 10 11]\n",
      "[ 0  1  2  3  4  5  6  7  8  9 10 11 16 17 18 19] [12 13 14 15]\n",
      "[ 0  1  2  3  4  5  6  7  8  9 10 11 12 13 14 15] [16 17 18 19]\n"
     ]
    }
   ],
   "source": [
    "# Define Kfold crossvalidation \n",
    "from sklearn.model_selection import KFold\n",
    "x=np.arange(20)\n",
    "kf = KFold(n_splits=5)\n",
    "for train,test in kf.split(x):\n",
    "    print(\"%s %s\" % (train, test))\n"
   ]
  },
  {
   "cell_type": "code",
   "execution_count": 9,
   "metadata": {},
   "outputs": [
    {
     "name": "stdout",
     "output_type": "stream",
     "text": [
      "[ 0  1  2  3  6  7  8  9 10 11 13 14 16 17 18 19] [ 4  5 12 15]\n",
      "[ 0  3  4  5  6  7  8  9 12 13 14 15 16 17 18 19] [ 1  2 10 11]\n",
      "[ 0  1  2  4  5  7 10 11 12 13 14 15 16 17 18 19] [3 6 8 9]\n",
      "[ 0  1  2  3  4  5  6  7  8  9 10 11 12 14 15 19] [13 16 17 18]\n",
      "[ 1  2  3  4  5  6  8  9 10 11 12 13 15 16 17 18] [ 0  7 14 19]\n"
     ]
    }
   ],
   "source": [
    "# Define Kfold crossvalidation with random shuffeling\n",
    "from sklearn.model_selection import KFold\n",
    "x=np.arange(20)\n",
    "kf = KFold(n_splits=5,shuffle=True)\n",
    "for train,test in kf.split(x):\n",
    "    print(\"%s %s\" % (train, test))\n"
   ]
  },
  {
   "cell_type": "code",
   "execution_count": 10,
   "metadata": {},
   "outputs": [
    {
     "name": "stdout",
     "output_type": "stream",
     "text": [
      "[ 1  2  3  4  5  6  7  8  9 10 11 12 13 14 15 16 17 18 19] [0]\n",
      "[ 0  2  3  4  5  6  7  8  9 10 11 12 13 14 15 16 17 18 19] [1]\n",
      "[ 0  1  3  4  5  6  7  8  9 10 11 12 13 14 15 16 17 18 19] [2]\n",
      "[ 0  1  2  4  5  6  7  8  9 10 11 12 13 14 15 16 17 18 19] [3]\n",
      "[ 0  1  2  3  5  6  7  8  9 10 11 12 13 14 15 16 17 18 19] [4]\n",
      "[ 0  1  2  3  4  6  7  8  9 10 11 12 13 14 15 16 17 18 19] [5]\n",
      "[ 0  1  2  3  4  5  7  8  9 10 11 12 13 14 15 16 17 18 19] [6]\n",
      "[ 0  1  2  3  4  5  6  8  9 10 11 12 13 14 15 16 17 18 19] [7]\n",
      "[ 0  1  2  3  4  5  6  7  9 10 11 12 13 14 15 16 17 18 19] [8]\n",
      "[ 0  1  2  3  4  5  6  7  8 10 11 12 13 14 15 16 17 18 19] [9]\n",
      "[ 0  1  2  3  4  5  6  7  8  9 11 12 13 14 15 16 17 18 19] [10]\n",
      "[ 0  1  2  3  4  5  6  7  8  9 10 12 13 14 15 16 17 18 19] [11]\n",
      "[ 0  1  2  3  4  5  6  7  8  9 10 11 13 14 15 16 17 18 19] [12]\n",
      "[ 0  1  2  3  4  5  6  7  8  9 10 11 12 14 15 16 17 18 19] [13]\n",
      "[ 0  1  2  3  4  5  6  7  8  9 10 11 12 13 15 16 17 18 19] [14]\n",
      "[ 0  1  2  3  4  5  6  7  8  9 10 11 12 13 14 16 17 18 19] [15]\n",
      "[ 0  1  2  3  4  5  6  7  8  9 10 11 12 13 14 15 17 18 19] [16]\n",
      "[ 0  1  2  3  4  5  6  7  8  9 10 11 12 13 14 15 16 18 19] [17]\n",
      "[ 0  1  2  3  4  5  6  7  8  9 10 11 12 13 14 15 16 17 19] [18]\n",
      "[ 0  1  2  3  4  5  6  7  8  9 10 11 12 13 14 15 16 17 18] [19]\n"
     ]
    }
   ],
   "source": [
    "# Leave one out crossvalidation\n",
    "from sklearn.model_selection import LeaveOneOut\n",
    "x=np.arange(20)\n",
    "loo = LeaveOneOut()\n",
    "for train,test in loo.split(x):\n",
    "    print(\"%s %s\" % (train, test))"
   ]
  },
  {
   "cell_type": "markdown",
   "metadata": {},
   "source": [
    "## 4. Run the crossvalidation"
   ]
  },
  {
   "cell_type": "code",
   "execution_count": 11,
   "metadata": {},
   "outputs": [
    {
     "name": "stdout",
     "output_type": "stream",
     "text": [
      "[24.02742989 35.5978666  35.92285439 46.5077554  36.25261759]\n",
      "CV loss: 35.66170477264685\n"
     ]
    }
   ],
   "source": [
    "# Check CV loss\n",
    "kf = KFold(n_splits=5,shuffle=False)\n",
    "sc = make_scorer(mse)\n",
    "cv_scores = cross_val_score(LinearRegression(), X, y, cv=kf, scoring=sc)\n",
    "\n",
    "print(cv_scores)\n",
    "print(f\"CV loss: {cv_scores.mean()}\")"
   ]
  },
  {
   "cell_type": "code",
   "execution_count": null,
   "metadata": {},
   "outputs": [],
   "source": []
  }
 ],
 "metadata": {
  "kernelspec": {
   "display_name": "base",
   "language": "python",
   "name": "python3"
  },
  "language_info": {
   "codemirror_mode": {
    "name": "ipython",
    "version": 3
   },
   "file_extension": ".py",
   "mimetype": "text/x-python",
   "name": "python",
   "nbconvert_exporter": "python",
   "pygments_lexer": "ipython3",
   "version": "3.9.13"
  }
 },
 "nbformat": 4,
 "nbformat_minor": 2
}
