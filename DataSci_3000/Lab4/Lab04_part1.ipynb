{
 "cells": [
  {
   "cell_type": "code",
   "execution_count": 1,
   "metadata": {},
   "outputs": [],
   "source": [
    "import numpy as np\n",
    "import pandas as pd\n",
    "import matplotlib.pyplot as plt\n",
    "import seaborn as sns"
   ]
  },
  {
   "cell_type": "markdown",
   "metadata": {},
   "source": [
    "# 1. Constructing confidence intervals via central limit theorem"
   ]
  },
  {
   "cell_type": "code",
   "execution_count": 2,
   "metadata": {},
   "outputs": [],
   "source": [
    "# From PTSD paper, there were 52 test cases, 42 of which were correct\n",
    "\n",
    "n = 52\n",
    "c = 42\n",
    "\n",
    "# Create array of zeros, size n\n",
    "rawdata = np.zeros(n)\n",
    "\n",
    "# Set first c elements to 1\n",
    "rawdata[range(c)] = 1\n",
    "\n",
    "# Create pandas data frame\n",
    "data = pd.DataFrame({\"Correct\": rawdata})"
   ]
  },
  {
   "cell_type": "code",
   "execution_count": 3,
   "metadata": {},
   "outputs": [
    {
     "name": "stdout",
     "output_type": "stream",
     "text": [
      "Stderr: 0.055186927229187645\n",
      "Norm ci: [0.6995259303231, 0.9158586850615155]\n"
     ]
    }
   ],
   "source": [
    "## Using central limit theorem, compute confidence interval\n",
    "\n",
    "stderr = np.std(data.Correct,ddof=1)/np.sqrt(len(data.Correct))\n",
    "print(\"Stderr:\",stderr)\n",
    "\n",
    "# Area under a standard normal from -1.96 to 1.96 is about 95%\n",
    "critval = 1.96\n",
    "\n",
    "norm_ci = [data.Correct.mean() - critval*stderr, \n",
    "           data.Correct.mean() + critval*stderr]\n",
    "\n",
    "print(\"Norm ci:\",norm_ci)"
   ]
  },
  {
   "cell_type": "markdown",
   "metadata": {},
   "source": [
    "# 2. Constructing confidence intervals via bootstrap"
   ]
  },
  {
   "cell_type": "code",
   "execution_count": 4,
   "metadata": {},
   "outputs": [],
   "source": [
    "# Compute 10000 bootstrap datasets, compute means in each\n",
    "\n",
    "def createBootstrapMeans(data):\n",
    "    numboot = 10000\n",
    "    n = len(data)\n",
    "    boot_means = np.zeros(numboot)\n",
    "    np.random.seed(0)\n",
    "    for i in range(numboot):\n",
    "        d = data.sample(n, replace=True)\n",
    "        boot_means[i] = d.Correct.mean()\n",
    "    return boot_means"
   ]
  },
  {
   "cell_type": "code",
   "execution_count": 5,
   "metadata": {},
   "outputs": [
    {
     "data": {
      "text/plain": [
       "<seaborn.axisgrid.FacetGrid at 0x12bda4450>"
      ]
     },
     "execution_count": 5,
     "metadata": {},
     "output_type": "execute_result"
    },
    {
     "data": {
      "image/png": "[encoded data removed]",
      "text/plain": [
       "<Figure size 500x500 with 1 Axes>"
      ]
     },
     "metadata": {},
     "output_type": "display_data"
    }
   ],
   "source": [
    "# Plot histogram\n",
    "bm = createBootstrapMeans(data)-data.Correct.mean()\n",
    "sns.displot(bm)"
   ]
  },
  {
   "cell_type": "code",
   "execution_count": 6,
   "metadata": {},
   "outputs": [
    {
     "name": "stdout",
     "output_type": "stream",
     "text": [
      "[-0.11538462  0.09615385]\n"
     ]
    }
   ],
   "source": [
    "# Compute quantiles\n",
    "boot_quant = np.quantile(bm, [0.025, 0.975])\n",
    "print(boot_quant)"
   ]
  },
  {
   "cell_type": "code",
   "execution_count": 7,
   "metadata": {},
   "outputs": [
    {
     "name": "stdout",
     "output_type": "stream",
     "text": [
      "Boot ci: [0.7115384615384616, 0.9230769230769231]\n",
      "Norm ci: [0.6995259303231, 0.9158586850615155]\n"
     ]
    }
   ],
   "source": [
    "# Compute confidence interval\n",
    "boot_ci = [data.Correct.mean() - boot_quant[1], \n",
    "           data.Correct.mean() - boot_quant[0]]\n",
    "print(\"Boot ci:\",boot_ci)\n",
    "print(\"Norm ci:\",norm_ci)"
   ]
  }
 ],
 "metadata": {
  "kernelspec": {
   "display_name": "Python 3",
   "language": "python",
   "name": "python3"
  },
  "language_info": {
   "codemirror_mode": {
    "name": "ipython",
    "version": 3
   },
   "file_extension": ".py",
   "mimetype": "text/x-python",
   "name": "python",
   "nbconvert_exporter": "python",
   "pygments_lexer": "ipython3",
   "version": "3.11.6"
  }
 },
 "nbformat": 4,
 "nbformat_minor": 2
}
