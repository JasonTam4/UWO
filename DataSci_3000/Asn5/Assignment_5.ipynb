{
 "cells": [
  {
   "cell_type": "markdown",
   "metadata": {},
   "source": [
    "# Grade: /100 pts\n",
    "\n",
    "# Assignment 05: Model Selection & Cross Validation\n",
    "\n",
    "### You're a Data Scientist!\n",
    "You are working as a Junior Data Scientist for a professional football (er, Soccer) club.  The owner of the team is very interested in seeing how the use of data can help improve the team's peformance, and perhaps win them a championship!\n",
    "\n",
    "The draft is coming up soon (thats when you get to pick new players for your team), and the owner has asked you to create a model to help score potential draftees.  The model should look at attributes about the player and predict what their \"rating\" will be once they start playing professionally.\n",
    "\n",
    "The football club's data team has provided you with data for 17,993 footballers from the league.  Your job: work with the Senior Data Scientist to build a model or models, perform model selection, and make predictions on players you have not yet seen.\n",
    "\n",
    "### The Dataset\n",
    "\n",
    "The data is stored in a csv file called `footballer_data.csv`.  The data contain 52 columns, including some information about the player, their skills, and their overall measure as an effective footballer.\n",
    "\n",
    "Most features relate to the player's abilities in football related skills, such as passing, shooting, dribbling, etc.  Some features are rated on a 1-5 scale (5 being the best), others are rated on 0-100 (100 being the best), and others still are categorical (e.g. work rate is coded as low, medium, or high).\n",
    "\n",
    "The target variable (or $y$ variable) is `overall`.  This is an overall measure of the footballer's skill and is rated from 0 to 100.  The most amazingly skilled footballer would be rated 100, where as I would struggle to score more than a 20. The model(s) you build should use the other features to predict `overall`.\n",
    "\n",
    "\n",
    "### Follow These Steps before submitting\n",
    "Once you are finished, ensure to complete the following steps.\n",
    "\n",
    "1.  Restart your kernel by clicking 'Kernel' > 'Restart & Run All'.\n",
    "\n",
    "2.  Fix any errors which result from this.\n",
    "\n",
    "3.  Repeat steps 1. and 2. until your notebook runs without errors.\n",
    "\n",
    "4.  Submit your completed notebook to OWL by the deadline.\n",
    "\n",
    "\n",
    "### Preliminaries\n",
    "---"
   ]
  },
  {
   "cell_type": "code",
   "execution_count": 33,
   "metadata": {},
   "outputs": [],
   "source": [
    "import pandas as pd\n",
    "import numpy as np\n",
    "import matplotlib.pyplot as plt\n",
    "import seaborn as sns\n",
    "from sklearn.model_selection import train_test_split, cross_val_score\n",
    "from sklearn.linear_model import LinearRegression\n",
    "from sklearn.pipeline import Pipeline\n",
    "from sklearn.preprocessing import StandardScaler, PolynomialFeatures\n",
    "from sklearn.metrics import make_scorer\n",
    "from sklearn.base import BaseEstimator, TransformerMixin\n",
    "\n",
    "pd.set_option('display.max_columns', 500)\n",
    "\n",
    "%matplotlib inline"
   ]
  },
  {
   "cell_type": "markdown",
   "metadata": {},
   "source": [
    "### Question 1: /10pts\n",
    "\n",
    "Read in the data and take a look at the dataframe.  There should be 52 columns. The outcome of interest is called `overall` which gives an overall measure of player performance. Not all of the other columns are particularly useful for modelling though (for instance, `ID` is just a unique identifier for the player.  This is essentially an arbitrary number and has no bearing on the player's rating).\n",
    "\n",
    "The Senior Data Scientist thinks the following columns should be removed:\n",
    "\n",
    "* ID\n",
    "* club\n",
    "* club_logo\n",
    "* birth_date\n",
    "* flag\n",
    "* nationality\n",
    "* photo\n",
    "* potential\n",
    "\n",
    "The Senior Data Scientist would also like the following columns converted into dummy variables:\n",
    "\n",
    "* work_rate_att\n",
    "* work_rate_def\n",
    "* preferred_foot\n",
    "\n",
    "Clean the data according to the Senior Data Scientist's instructions, providing the python code in the cell below."
   ]
  },
  {
   "cell_type": "code",
   "execution_count": 34,
   "metadata": {},
   "outputs": [],
   "source": [
    "df = pd.read_csv('footballer_data.csv')\n",
    "\n",
    "# Drop the columns\n",
    "columns_to_drop = [\n",
    "    'ID',\n",
    "    'club',\n",
    "    'club_logo',\n",
    "    'birth_date',\n",
    "    'flag',\n",
    "    'nationality',\n",
    "    'photo',\n",
    "    'potential'\n",
    "]\n",
    "\n",
    "# Drop the specified columns\n",
    "df = df.drop(columns=columns_to_drop)\n",
    "\n",
    "# Hint: In order to get dummies, you can first convert the column with strings to Categorical type using pandas,\n",
    "# using a specific set of categories\n",
    "\n",
    "columns_to_dummy = ['work_rate_att', 'work_rate_def', 'preferred_foot']\n",
    "\n",
    "# Convert to categorical type\n",
    "for column in columns_to_dummy:\n",
    "    df[column] = pd.Categorical(df[column])\n",
    "\n",
    "# Create dummy variables\n",
    "df_dummies = pd.get_dummies(df[columns_to_dummy], prefix=[f\"{col}_\" for col in columns_to_dummy])\n",
    "# Concatenate the dummy variables to the original DataFrame\n",
    "df = pd.concat([df.drop(columns=columns_to_dummy), df_dummies], axis=1)\n",
    "\n"
   ]
  },
  {
   "cell_type": "markdown",
   "metadata": {},
   "source": [
    "### Question 2: /10 pts\n",
    "\n",
    "The data should all be numerical now. To evalute different models, define a function that returns the mean absolute error. Before we begin modelling, it is important to obtain a baseline for the accuracy of our predictive models. Compute the absolute errors on the original data that result if we use the median of the `overall` variable to make predictions. This will serve as our baseline performance. Plot the distribution of the losses (absolute errors) and print their mean and standard deviation."
   ]
  },
  {
   "cell_type": "code",
   "execution_count": 35,
   "metadata": {},
   "outputs": [
    {
     "data": {
      "image/png": "[encoded data removed]",
      "text/plain": [
       "<Figure size 640x480 with 1 Axes>"
      ]
     },
     "metadata": {},
     "output_type": "display_data"
    },
    {
     "name": "stdout",
     "output_type": "stream",
     "text": [
      "mean: 5.49133044348116\n",
      "standard deviation: 4.261886186448831\n"
     ]
    }
   ],
   "source": [
    "# Define mean absolute error function  \n",
    "def calculate_mae(n, y, yp):\n",
    "    mae = 1/n * np.sum(abs(y-yp))\n",
    "\n",
    "    return mae\n",
    "\n",
    "# Get mean and std of test loss \n",
    "median_overall = df['overall'].median()\n",
    "predictions = np.full(df.shape[0], median_overall)\n",
    "\n",
    "absolute_errors = abs(df['overall'] - predictions)\n",
    "\n",
    "# Plot distribution  \n",
    "sns.histplot(absolute_errors, bins=30)\n",
    "plt.title('Distribution of Absolute Errors')\n",
    "plt.xlabel('Absolute Error')\n",
    "plt.ylabel('Frequency')\n",
    "plt.show()\n",
    "\n",
    "mean = calculate_mae(len(predictions), df['overall'], predictions)\n",
    "std_error = np.std(absolute_errors)\n",
    "\n",
    "print(f\"mean: {mean}\")\n",
    "print(f\"standard deviation: {std_error}\")"
   ]
  },
  {
   "cell_type": "markdown",
   "metadata": {},
   "source": [
    "### Question 2: /15pts\n",
    "To prepare the data for modelling, the Senior Data Scientist recomends you use `sklearn.model_selection.train_test_split` to seperate the data into a training set and a test set.\n",
    "\n",
    "The Senior Data Scientist would like you to choose the test set size so that the estimate of the performance of the final selected model is known to within $\\pm 0.25$ units at a 95% confidence interval, using mean absolute error as the loss function of choice.\n",
    "\n",
    "Recall that a CLT-based $95\\%$ confidence interval for a mean is given by:\n",
    "\n",
    "$ \\bar{x} \\pm \\frac{1.96 \\sigma_l}{\\sqrt{n}}$,\n",
    "\n",
    "If we equate the right hand side to $d$ and re-arrange, we can choose the test set size using the following formula, which gives the test size ($n_\\mathrm{test}$) needed for a confidence interval to have width ($\\pm d$) if the standard deviation of the loss is $\\sigma_l$:\n",
    "\n",
    "$ n_\\textrm{test} = \\left(\\frac{1.96 \\sigma_l}{d}\\right)^2$.\n",
    "\n",
    "Decide on an appropriate size for the test set, then use `train_test_split` to split the features and target variables into appropriate sets."
   ]
  },
  {
   "cell_type": "code",
   "execution_count": 36,
   "metadata": {},
   "outputs": [
    {
     "name": "stdout",
     "output_type": "stream",
     "text": [
      "Training set size: 16877\n",
      "Test set size: 1117\n"
     ]
    }
   ],
   "source": [
    "# Step 1: Calculate the standard deviation of the absolute errors\n",
    "std_error = np.std(absolute_errors)\n",
    "\n",
    "# Step 2: Set the desired width of the confidence interval\n",
    "d = 0.25\n",
    "\n",
    "# Step 3: Calculate the required test size\n",
    "n_test = (1.96 * std_error / d) ** 2\n",
    "n_test = int(np.ceil(n_test))  # Round up to the nearest whole number\n",
    "\n",
    "# Step 4: Split the data into features (X) and target (y)\n",
    "X = df.drop(columns=['overall'])  # Features\n",
    "y = df['overall']  # Target variable\n",
    "\n",
    "# Use train_test_split to create training and test sets\n",
    "X_train, X_test, y_train, y_test = train_test_split(X, y, test_size=n_test/df.shape[0], random_state=42)\n",
    "\n",
    "# Print the sizes of the training and test sets\n",
    "print(f\"Training set size: {X_train.shape[0]}\")\n",
    "print(f\"Test set size: {X_test.shape[0]}\")"
   ]
  },
  {
   "cell_type": "markdown",
   "metadata": {},
   "source": [
    "### Question 4: /5pts\n",
    "The Senior Data Scientist wants you to fit a linear regression to the data as a first model.  Use sklearn to build a model pipeline which fits a linear regression to the data. You can read up on sklearn pipelines [here](https://scikit-learn.org/stable/modules/generated/sklearn.pipeline.Pipeline.html). Note that the sklearn linear regression adds its own intercept so you don't need to create a column of 1s."
   ]
  },
  {
   "cell_type": "code",
   "execution_count": 37,
   "metadata": {},
   "outputs": [
    {
     "name": "stdout",
     "output_type": "stream",
     "text": [
      "Coefficients: [ 2.09987525e-01 -1.02452133e-02  1.67688012e-01  9.95378090e-01\n",
      "  1.18020620e+00  7.60518751e-01  2.13746239e+00  1.53772442e-01\n",
      "  1.65191168e+00  6.29754248e-01  6.41301967e-01  8.41564549e-02\n",
      " -9.68032858e-02 -1.47424553e-01  1.72551922e+00  9.40187186e-01\n",
      " -1.89867856e-01 -1.84406862e+00  1.26113724e-02  1.90969623e-02\n",
      " -4.46118031e-01  1.65100115e+00  4.00936874e-02 -1.68188673e-01\n",
      " -3.18277474e-01  2.03865856e+00 -1.59139416e-01 -6.84201447e-02\n",
      " -3.89848601e-02 -3.47820478e-01 -4.29550944e-01 -5.70603651e-01\n",
      " -5.42914466e-01  2.21057143e-01 -9.17063288e-01 -4.96596159e-01\n",
      " -9.45276348e-03  1.09055428e+00  3.10377826e-01  4.25749003e-01\n",
      "  4.24535214e+12  2.13631338e+12  4.48395796e+12  6.70442566e+11\n",
      "  5.16970601e+11  7.89419212e+11 -5.28239851e+12 -5.28239851e+12]\n",
      "Intercept: 66.27354846329581\n"
     ]
    }
   ],
   "source": [
    "pipeline = Pipeline([\n",
    "    ('scaler', StandardScaler()),  # Standardize the features\n",
    "    ('linear_regression', LinearRegression())  # Linear regression model\n",
    "])\n",
    "\n",
    "# Fit the model on the training data\n",
    "pipeline.fit(X_train, y_train)\n",
    "\n",
    "# Print the coefficients of the model\n",
    "print(\"Coefficients:\", pipeline.named_steps['linear_regression'].coef_)\n",
    "print(\"Intercept:\", pipeline.named_steps['linear_regression'].intercept_)"
   ]
  },
  {
   "cell_type": "markdown",
   "metadata": {},
   "source": [
    "### Question 5: /15pts\n",
    "\n",
    "The senior data scientist wants a report of this model's cross validation score.  Use 5 fold cross validation to estimate the out of sample performance for this model, using your mean absolute error function from question 2.  "
   ]
  },
  {
   "cell_type": "code",
   "execution_count": 38,
   "metadata": {},
   "outputs": [
    {
     "name": "stdout",
     "output_type": "stream",
     "text": [
      "Cross-validation MAE scores: [2.84438964 1.91023348 1.84398194 1.89148343 3.3594996 ]\n",
      "Mean MAE: 2.3699176192734104\n",
      "Standard Deviation of MAE: 0.6198731005865077\n"
     ]
    }
   ],
   "source": [
    "def mae_scorer(estimator, X, y):\n",
    "    predictions = estimator.predict(X)\n",
    "    return calculate_mae(len(predictions), y, predictions)\n",
    "\n",
    "# Perform 5-fold cross-validation\n",
    "cv_scores = cross_val_score(pipeline, X, y, cv=5, scoring=mae_scorer)\n",
    "\n",
    "# Check if cv_scores contains any NaN values\n",
    "if np.any(np.isnan(cv_scores)):\n",
    "    print(\"Warning: Cross-validation scores contain NaN values. Check the model and data.\")\n",
    "else:\n",
    "    # Print the cross-validation scores\n",
    "    print(\"Cross-validation MAE scores:\", cv_scores)\n",
    "    print(\"Mean MAE:\", cv_scores.mean())\n",
    "    print(\"Standard Deviation of MAE:\", cv_scores.std())"
   ]
  },
  {
   "cell_type": "markdown",
   "metadata": {},
   "source": [
    "### Question 6: /15pts\n",
    "\n",
    "That's impressive!  Your model seems to be very accurate, but now the Senior Data Scientist wants to try and make it more accurate.  Scouts have shared with the Senior Data Scientist that players hit their prime in their late 20s, and as they age they become worse overall.\n",
    "\n",
    "The Senior Data Scientist wants to add a quadratic term for age to the model.  Repeat the steps above (creating a pipeline, validating the model, etc) for a model which includes a quadratic term for age. As in the Lab, include the addition of the quadratic term for Age as a Transform into the pipeline. "
   ]
  },
  {
   "cell_type": "code",
   "execution_count": 39,
   "metadata": {},
   "outputs": [
    {
     "name": "stdout",
     "output_type": "stream",
     "text": [
      "Cross-validation MAE scores: [1.30320046 0.89763682 0.88780241 0.93294341 1.52121441]\n",
      "Mean MAE: 1.1085595023561292\n",
      "Standard Deviation of MAE: 0.2577720922239148\n"
     ]
    }
   ],
   "source": [
    "# Assuming you have already imported necessary libraries and read the data\n",
    "\n",
    "# Create a new feature for age squared\n",
    "df['age_squared'] = df['age'] ** 2\n",
    "\n",
    "# Define features and target variable\n",
    "X = df.drop(columns=['overall'])  # Drop the target variable\n",
    "y = df['overall']\n",
    "\n",
    "# Create a pipeline with polynomial features and linear regression\n",
    "pipeline = Pipeline([\n",
    "    ('scaler', StandardScaler()),  # Standardize the features\n",
    "    ('poly_features', PolynomialFeatures(include_bias=False)),  # Add polynomial features\n",
    "    ('linear_regression', LinearRegression())  # Linear regression model\n",
    "])\n",
    "\n",
    "# Perform 5-fold cross-validation\n",
    "cv_scores = cross_val_score(pipeline, X, y, cv=5, scoring='neg_mean_absolute_error')\n",
    "\n",
    "# Convert scores to positive MAE\n",
    "cv_scores = -cv_scores\n",
    "\n",
    "# Print the cross-validation scores\n",
    "print(\"Cross-validation MAE scores:\", cv_scores)\n",
    "print(\"Mean MAE:\", cv_scores.mean())\n",
    "print(\"Standard Deviation of MAE:\", cv_scores.std())"
   ]
  },
  {
   "cell_type": "markdown",
   "metadata": {},
   "source": [
    "### Question 7: /10 pts\n",
    "\n",
    "\n",
    "The Senior Data Scientist isn't too happy that the quadratic term has not improved the fit of the model much and now wants to include quadratic and interaction term for every feature (That's a total of 1080 features!!!!)\n",
    "\n",
    "Add sklearn's `PolynomialFeatures` to your pipeline.  Report the cross validation score."
   ]
  },
  {
   "cell_type": "code",
   "execution_count": 40,
   "metadata": {},
   "outputs": [
    {
     "name": "stdout",
     "output_type": "stream",
     "text": [
      "Cross-validation MAE scores: [1.30320046 0.89763682 0.88780241 0.93294341 1.52121441]\n",
      "Mean MAE: 1.1085595023561292\n",
      "Standard Deviation of MAE: 0.2577720922239148\n"
     ]
    }
   ],
   "source": [
    "X = df.drop(columns=['overall'])  # Drop the target variable\n",
    "y = df['overall']\n",
    "\n",
    "# Create a pipeline with polynomial features (including interaction terms) and linear regression\n",
    "pipeline = Pipeline([\n",
    "    ('scaler', StandardScaler()),\n",
    "    ('poly_features', PolynomialFeatures(degree=2, include_bias=False, interaction_only=False)),\n",
    "    ('linear_regression', LinearRegression())  \n",
    "])\n",
    "\n",
    "# Perform 5-fold cross-validation\n",
    "cv_scores = cross_val_score(pipeline, X, y, cv=5, scoring='neg_mean_absolute_error')\n",
    "\n",
    "# Convert scores to positive MAE\n",
    "cv_scores = -cv_scores\n",
    "\n",
    "# Print the cross-validation scores\n",
    "print(\"Cross-validation MAE scores:\", cv_scores)\n",
    "print(\"Mean MAE:\", cv_scores.mean())\n",
    "print(\"Standard Deviation of MAE:\", cv_scores.std())"
   ]
  },
  {
   "cell_type": "markdown",
   "metadata": {},
   "source": [
    "### Question 8: /10pts\n",
    "\n",
    "The Senior Data Scientist is really happy with the results of adding every interaction into the model and wants to explore third order interactions (that is adding cubic terms to the model).\n",
    "\n",
    "This is not a good idea!  Explain why.  Write them an email in the cell below explaining what could happen if you add too may interactions.\n",
    "\n",
    "---"
   ]
  },
  {
   "cell_type": "markdown",
   "metadata": {},
   "source": [
    "Hey Boss,\n",
    "\n",
    "YOUR ARGUMENT HERE \n",
    "\n",
    "Adding a cubic term to the model will reduce the mean absolute error for the training model but will also cause overfitting. So even thought the training data will have less error, the test data will have more error. The model may become overly sensitive to fluctiations in the training data rather than the underlying patters.\n",
    "\n",
    "Sincerly,\n",
    "\n",
    "Junior Data Scientist\n",
    "\n"
   ]
  },
  {
   "cell_type": "markdown",
   "metadata": {},
   "source": [
    "### Question 9:  /10pts\n",
    "\n",
    "You've successfully talked the Senior Data Scientist out of adding cubic terms to the model. Good job!\n",
    "\n",
    "**a)** Based on the cross validation scores, which model would you choose?  \n",
    "\n",
    "Coding:\n",
    "\n",
    "Train your model on all the training data. \n",
    "Estimate the performance of your chosen model on the test data you held out, and do the following:\n",
    "\n",
    "- Compute a point estimate for the generalization error. (A \"point estimate\" is a single number that we expect to be close to the thing we are trying to estimate.)\n",
    "- Compute a confidence interval for the generalization error.  \n",
    "- Plot the distribution of the absolute errors.\n",
    "\n",
    "**b)** Is the test error close to the cross validation error of the model you chose? Why do you think this is the case?\n"
   ]
  },
  {
   "cell_type": "code",
   "execution_count": 41,
   "metadata": {},
   "outputs": [
    {
     "name": "stdout",
     "output_type": "stream",
     "text": [
      "Point Estimate (MAE): 0.8848318633651626\n",
      "95% Confidence Interval for Generalization Error: [-0.03, 0.05]\n"
     ]
    },
    {
     "data": {
      "image/png": "[encoded data removed]",
      "text/plain": [
       "<Figure size 640x480 with 1 Axes>"
      ]
     },
     "metadata": {},
     "output_type": "display_data"
    }
   ],
   "source": [
    "# Fit our best performing model on all the training data\n",
    "#Compute the errors and a point estimate of the generalization error\n",
    "X = df.drop(columns=['overall'])  # Features\n",
    "y = df['overall']  # Target variable\n",
    "\n",
    "# Split the data into training and test sets\n",
    "X_train, X_test, y_train, y_test = train_test_split(X, y, test_size=0.2, random_state=42)\n",
    "\n",
    "# Create a pipeline with polynomial features and linear regression\n",
    "pipeline = Pipeline([\n",
    "    ('scaler', StandardScaler()),\n",
    "    ('poly_features', PolynomialFeatures(degree=2, include_bias=False)),\n",
    "    ('linear_regression', LinearRegression())\n",
    "])\n",
    "\n",
    "#Predict on the test set\n",
    "pipeline.fit(X_train, y_train)\n",
    "\n",
    "# Make predictions on the test set\n",
    "y_pred = pipeline.predict(X_test)\n",
    "\n",
    "# Compute the point estimate for the generalization error (MAE)\n",
    "point_estimate = calculate_mae(len(y_test), y_test, y_pred)\n",
    "print(\"Point Estimate (MAE):\", point_estimate)\n",
    "\n",
    "# Compute the confidence interval for the generalization error\n",
    "# We have enough data in our test set that the appropirate t-quantile is close to 1.96 but you can use either \n",
    "# t- or z-distribution\n",
    "# Assuming df is your DataFrame and has been defined\n",
    "errors = y_test - y_pred\n",
    "mean_error = np.mean(errors)\n",
    "std_error = np.std(errors)\n",
    "n = len(errors)\n",
    "\n",
    "#Construct a confidence interval\n",
    "confidence_interval = 1.96 * (std_error / np.sqrt(n))\n",
    "lower_bound = mean_error - confidence_interval\n",
    "upper_bound = mean_error + confidence_interval\n",
    "print(f\"95% Confidence Interval for Generalization Error: [{lower_bound:.2f}, {upper_bound:.2f}]\")\n",
    "\n",
    "# Plot the distribution of absolute errors\n",
    "absolute_errors = np.abs(errors)\n",
    "sns.histplot(absolute_errors, bins=30, kde=True)\n",
    "plt.title('Distribution of Absolute Errors')\n",
    "plt.xlabel('Absolute Error')\n",
    "plt.ylabel('Frequency')\n",
    "plt.show()"
   ]
  },
  {
   "cell_type": "markdown",
   "metadata": {},
   "source": [
    "**Answer a)**\n",
    "\n",
    "\n",
    "**Answer b)**"
   ]
  },
  {
   "cell_type": "markdown",
   "metadata": {},
   "source": [
    "### Follow These Steps before submitting\n",
    "Once you are finished, ensure to complete the following steps.\n",
    "\n",
    "1.  Restart your kernel by clicking 'Kernel' > 'Restart & Run All'.\n",
    "\n",
    "2.  Fix any errors which result from this.\n",
    "\n",
    "3.  Repeat steps 1. and 2. until your notebook runs without errors.\n",
    "\n",
    "4.  Submit your completed notebook to OWL by the deadline."
   ]
  }
 ],
 "metadata": {
  "kernelspec": {
   "display_name": "Python 3",
   "language": "python",
   "name": "python3"
  },
  "language_info": {
   "codemirror_mode": {
    "name": "ipython",
    "version": 3
   },
   "file_extension": ".py",
   "mimetype": "text/x-python",
   "name": "python",
   "nbconvert_exporter": "python",
   "pygments_lexer": "ipython3",
   "version": "3.9.6"
  }
 },
 "nbformat": 4,
 "nbformat_minor": 4
}
