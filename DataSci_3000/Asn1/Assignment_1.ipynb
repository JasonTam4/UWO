{
 "cells": [
  {
   "cell_type": "markdown",
   "metadata": {},
   "source": [
    "# Grade: /100 points\n",
    "\n",
    "# Assignment 01: Supervised learning, Linear models, and Loss functions\n",
    "\n",
    "In this assignment, you're going to write your own methods to fit a linear model using either an OLS or LAD cost function.  \n",
    "\n",
    "## Data set \n",
    "\n",
    "For this assignment, we will examine some data representing possums in Australia and New Guinea. The data frame contains 46 observations on the following 6 variables:\n",
    "\n",
    "* sex: Sex, either m (male) or f (female).\n",
    "* age: Age in years.\n",
    "* headL: Head length, in mm.\n",
    "* skullW: Skull width, in mm.\n",
    "* totalL: Total length, in cm.\n",
    "* tailL: Tail length, in cm.\n",
    "\n",
    "## Follow These Steps Before Submitting\n",
    "\n",
    "You may need to install packages as follows:\n",
    "\n",
    "`python -m pip install matplotlib numpy scipy pandas scikit-learn`\n",
    "\n",
    "Once you are finished, ensure to complete the following steps.\n",
    "\n",
    "1.  Restart your kernel by clicking 'Kernel' > 'Restart & Run All'.\n",
    "\n",
    "2.  Fix any errors which result from this.\n",
    "\n",
    "3.  Repeat steps 1. and 2. until your notebook runs without errors.\n",
    "\n",
    "4.  Submit your completed notebook to OWL by the deadline.\n",
    "\n",
    "\n",
    "## Preliminaries"
   ]
  },
  {
   "cell_type": "code",
   "execution_count": 2,
   "metadata": {},
   "outputs": [],
   "source": [
    "# Import all the necessary packages: \n",
    "import matplotlib.pyplot as plt \n",
    "import numpy as np\n",
    "import pandas as pd\n",
    "import scipy.stats as ss \n",
    "import scipy.optimize as so\n",
    "from sklearn import linear_model\n",
    "\n",
    "%matplotlib inline"
   ]
  },
  {
   "cell_type": "markdown",
   "metadata": {},
   "source": [
    "\n",
    "## Part 1\n",
    "### Question 1.1:  /10 points\n",
    "\n",
    "\n",
    "Read in the `possum.csv` file as a `pandas.DataFrame`.  Investigate the relationship between the possum's age and its tail length by plotting a scatter plot of the `age` and `tailL` columns. Add an `alpha`(transparency of the plotted dots) in case some data are overlapping. "
   ]
  },
  {
   "cell_type": "code",
   "execution_count": 52,
   "metadata": {},
   "outputs": [
    {
     "data": {
      "image/png": "[encoded data removed]",
      "text/plain": [
       "<Figure size 640x480 with 1 Axes>"
      ]
     },
     "metadata": {},
     "output_type": "display_data"
    }
   ],
   "source": [
    "# Read in the data with pandas\n",
    "possum_data = pd.read_csv(\"possum.csv\")\n",
    "\n",
    "# Make the scatter plot (don't forget the axis labels)\n",
    "plt.scatter(possum_data[\"age\"], possum_data[\"tailL\"], alpha=0.5)\n",
    "plt.xlabel('Age')\n",
    "plt.ylabel('Tail Length')\n",
    "plt.show()"
   ]
  },
  {
   "cell_type": "markdown",
   "metadata": {},
   "source": [
    "### Question 1.2: /5 point\n",
    "\n",
    "Recall that the linear model, we obtain predictions by computing \n",
    "\n",
    "$$ \\hat{\\mathbf{y}} = \\mathbf{X} \\hat{\\beta} $$\n",
    "\n",
    "Here, $\\mathbf{X}$ is a design matrix which includes a column of ones, $\\hat{\\beta}$ are coefficients, and $\\hat{\\mathbf{y}}$ are outcomes.  Write a function `linearModelPredict` to compute linear model predictions given data and a coefficient vector.  The function should take as it's arguments a 1d-array of coefficients `b` and the design matrix `X` as a 2d-array and return linear model predictions `yp`.\n",
    "\n",
    "Test the function by setting \n",
    "\n",
    "```\n",
    "X = np.array([[1,0],[1,-1],[1,2]])\n",
    "b = np.array([0.1,0.3])\n",
    "```\n",
    "and call your function with these values! \n",
    "\n",
    "Report $\\hat{\\mathbf{y}}$. \n",
    "What is the dimensionality of the numpy-array that you get back? \n",
    "\n",
    "Hint:  Read the documentation for `np.dot` or the `@` operator in `numpy`."
   ]
  },
  {
   "cell_type": "code",
   "execution_count": 60,
   "metadata": {},
   "outputs": [
    {
     "name": "stdout",
     "output_type": "stream",
     "text": [
      "When b is a 1d array\n",
      "[ 0.1 -0.2  0.7]\n",
      "yp has 1 dimension and has a shape of (3,)\n",
      "\n",
      "When b is a 2d array\n",
      "[[ 0.1  0.3]\n",
      " [-0.1 -0.2]\n",
      " [ 0.5  1.3]]\n",
      "yp has 2 dimension and has a shape of (3, 2)\n"
     ]
    }
   ],
   "source": [
    "def linearModelPredict(b,X):\n",
    "    yp = X@b \n",
    "    return yp\n",
    "\n",
    "print(\"When b is a 1d array\")\n",
    "X = np.array([[1,0],[1,-1],[1,2]])\n",
    "b = np.array([0.1,0.3])\n",
    "yp = linearModelPredict(b, X)\n",
    "print(yp)\n",
    "print(f\"yp has {yp.ndim} dimension and has a shape of {yp.shape}\\n\")\n",
    "\n",
    "# By the way: What happens when b is a 2d-array? \n",
    "print(\"When b is a 2d array\")\n",
    "b = np.array([[0.1,0.3],[0.2,0.5]])\n",
    "yp = linearModelPredict(b, X)\n",
    "print(yp)\n",
    "print(f\"yp has {yp.ndim} dimension and has a shape of {yp.shape}\")"
   ]
  },
  {
   "cell_type": "markdown",
   "metadata": {},
   "source": [
    "### Question 1.3: /15 points\n",
    "\n",
    "Write a function `linearModelLossRSS` which computes and returns the loss function for an OLS model parameterized by $\\beta$, as well as the gradient of the loss.  The function should take as its first argument a 1d-array `beta` of coefficients for the linear model, as its second argument the design matrix `X` as a 2d-array, and as its third argument a 1d-array `y` of observed outcomes.\n",
    "\n",
    "Test the function with the values \n",
    "\n",
    "```\n",
    "X = np.array([[1,0],[1,-1],[1,2]])\n",
    "b = np.array([0.1,0.3])\n",
    "y = np.array([0,0.4,2]) \n",
    "```\n",
    "\n",
    "Report the loss and the gradient. \n",
    "\n",
    "**Written answer**: To minimize the cost do you need increase or decrease the value of the parameters? "
   ]
  },
  {
   "cell_type": "code",
   "execution_count": 61,
   "metadata": {},
   "outputs": [
    {
     "name": "stdout",
     "output_type": "stream",
     "text": [
      "residual_sum_of_squares:\n",
      "2.06\n",
      "\n",
      "gradient:\n",
      "[-3.6 -4. ]\n"
     ]
    },
    {
     "data": {
      "text/plain": [
       "'\\nWritten answer\\nto minimize the cost, we shoud increase both of the parameters because the slopes for both the parameters are negative\\n'"
      ]
     },
     "execution_count": 61,
     "metadata": {},
     "output_type": "execute_result"
    }
   ],
   "source": [
    "def linearModelLossRSS(b,X,y):\n",
    "    yp = X@b\n",
    "    residual_sum_of_squares = np.sum((y-yp)**2)\n",
    "\n",
    "    gradient = -2 * (X.T @ (y - yp))\n",
    "    \n",
    "    return (residual_sum_of_squares, gradient)\n",
    "\n",
    "X = np.array([[1,0],[1,-1],[1,2]])\n",
    "b = np.array([0.1,0.3])\n",
    "y = np.array([0,0.4,2]) \n",
    "\n",
    "residual_sum_of_squares, gradient = linearModelLossRSS(b,X,y)\n",
    "print(f\"residual_sum_of_squares:\\n{residual_sum_of_squares}\\n\")\n",
    "print(f\"gradient:\\n{gradient}\")\n",
    "\n",
    "\"\"\"\n",
    "Written answer\n",
    "to minimize the cost, we shoud increase both of the parameters because the slopes for both the parameters are negative\n",
    "\"\"\"\n"
   ]
  },
  {
   "cell_type": "markdown",
   "metadata": {},
   "source": [
    "### Question 1.4:  /15 points. \n",
    "\n",
    "Now that you've implemented a loss function in question 1.3, it is now time to minimize it!\n",
    "\n",
    "Write a function `linearModelFit` to fit a linear model.  The function should take as its first argument the design matrix `X` as a 2d-array, as its second argument a 1d-array `y` of outcomes, and as its third argument a function  `lossfcn` which returns as a tuple the value of the loss, as well as the gradient of the loss. As a result, it should return the estimated betas and the R2. \n",
    "\n",
    "Test the function with the values: \n",
    "```\n",
    "X = np.array([[1,0],[1,-1],[1,2]])\n",
    "y = np.array([0,0.4,2]) \n",
    "```\n",
    "\n",
    "Report best parameters and the fitted R2 \n"
   ]
  },
  {
   "cell_type": "code",
   "execution_count": 62,
   "metadata": {},
   "outputs": [
    {
     "name": "stdout",
     "output_type": "stream",
     "text": [
      "The estimated betas are [0.6 0.6], and the value or R2 is 0.75\n"
     ]
    }
   ],
   "source": [
    "def linearModelFit(X,y,lossfcn = linearModelLossRSS):\n",
    "    bstart = [0,0]\n",
    "    ybar = np.sum(y)/len(y)\n",
    "    RESULT=so.minimize(lossfcn,bstart,args=(X, y),jac=True)\n",
    "    estimated_betas = RESULT.x\n",
    "    \n",
    "    R2 = 1 - RESULT.fun/np.sum((y-ybar)**2)\n",
    "    return (estimated_betas,R2)\n",
    "\n",
    "X = np.array([[1,0],[1,-1],[1,2]])\n",
    "y = np.array([0,0.4,2]) \n",
    "estimated_betas,R2 = linearModelFit(X,y,linearModelLossRSS)\n",
    "\n",
    "print(f\"The estimated betas are {estimated_betas}, and the value or R2 is {R2}\")"
   ]
  },
  {
   "cell_type": "markdown",
   "metadata": {},
   "source": [
    "### Question 1.5: /15 points\n",
    "\n",
    "Use the above functions to fit your model to the possum data. Then use your model and the fitted parameters to make predictions along a grid of equally spaced possum ages.  \n",
    "\n",
    "Plot the data and add a line for the predicted values. You can get these by generating a new X-matrix with equally spaced ages (using for example np.linspace). Also report the R2 value for the fit. You can do this by either printing out the R2 of the fit or putting it on your plot via the `annotate` function in matplotlib.\n"
   ]
  },
  {
   "cell_type": "code",
   "execution_count": 141,
   "metadata": {},
   "outputs": [
    {
     "name": "stdout",
     "output_type": "stream",
     "text": [
      "388.10162450066576\n",
      "R2: 0.22286587947604086\n"
     ]
    },
    {
     "data": {
      "image/png": "[encoded data removed]",
      "text/plain": [
       "<Figure size 640x480 with 1 Axes>"
      ]
     },
     "metadata": {},
     "output_type": "display_data"
    }
   ],
   "source": [
    "# Make the design matrix using np.c_ \n",
    "# y = ...\n",
    "y = np.array(possum_data[\"tailL\"])\n",
    "\n",
    "# X =  np.c_[...]\n",
    "ages = np.array(possum_data[\"age\"])\n",
    "leading_ones = np.ones((ages.shape[0], 1))\n",
    "X = np.c_[leading_ones, ages]\n",
    "\n",
    "# Call your fitting function \n",
    "estimated_betas,R2 = linearModelFit(X,y,linearModelLossRSS)\n",
    "\n",
    "# Create the scatter plot (see question 1.1)\n",
    "plt.scatter(possum_data[\"age\"], possum_data[\"tailL\"], alpha=0.5)\n",
    "plt.xlabel('Age')\n",
    "plt.ylabel('Tail Length')\n",
    "\n",
    "# Create a new X matrix with equally space data \n",
    "equally_spaced_ages = np.linspace(1, 9, num=9, endpoint=True, retstep=False, dtype=None)\n",
    "leading_ones = np.ones((equally_spaced_ages.shape[0], 1))\n",
    "X = np.c_[leading_ones, equally_spaced_ages]\n",
    "\n",
    "# Add the line to the graph \n",
    "plt.plot(equally_spaced_ages, X@estimated_betas, color='red', label='Fitted line')\n",
    "\n",
    "# Report R2 \n",
    "print(f\"R2: {R2}\")\n",
    "plt.show()\n"
   ]
  },
  {
   "cell_type": "markdown",
   "metadata": {},
   "source": [
    "## Part 2: LAD Regression\n",
    "\n",
    "### Question 2.1:  /15 points\n",
    "\n",
    "In the previous section, we worked with the squared loss.  Now, we'll implement a linear model with least absolute deviation loss.\n",
    "\n",
    "Write a function `linearModelLossLAD` which computes the least absolute deviation loss function for a linear model  parameterized by $\\beta$, as well as the gradient of the loss.  The function should take as its first argument a 1d-array `beta` of coefficients for the linear model, as its second argument the design matrix `X` as a 2d-array, and as its third argument a 1d-array `y` of observed outcomes.\n",
    "\n",
    "Test the function with the values \n",
    "\n",
    "```\n",
    "X = np.array([[1,0],[1,-1],[1,2]])\n",
    "b = np.array([0.1,0.3])\n",
    "y = np.array([0,0.4,2]) \n",
    "```\n",
    "\n",
    "Report the loss and the gradient. "
   ]
  },
  {
   "cell_type": "code",
   "execution_count": 120,
   "metadata": {},
   "outputs": [
    {
     "name": "stdout",
     "output_type": "stream",
     "text": [
      "sum of absolute deviations: 2.0\n",
      "\n",
      "gradient:[-3.6 -4. ]\n"
     ]
    }
   ],
   "source": [
    "def linearModelLossLAD(b,X,y):\n",
    "    yp = X@b\n",
    "    sum_abs_dev = np.sum(abs(y-yp))\n",
    "    grad = -2 * (X.T @ (y - yp))\n",
    "\n",
    "    return (sum_abs_dev,grad)\n",
    "\n",
    "\n",
    "X = np.array([[1,0],[1,-1],[1,2]])\n",
    "b = np.array([0.1,0.3])\n",
    "y = np.array([0,0.4,2]) \n",
    "\n",
    "sum_abs_dev, grad = linearModelLossLAD(b,X,y)\n",
    "\n",
    "print(f\"sum of absolute deviations: {sum_abs_dev}\\n\")\n",
    "print(f\"gradient:{grad}\")"
   ]
  },
  {
   "cell_type": "markdown",
   "metadata": {},
   "source": [
    "### Question 2.2: /10 points\n",
    "\n",
    "\n",
    "Use the above functions to fit your LAD model. Use your model to make predictions along a grid of equally spaced possum ages.  Once fit, add the fitted line to the scatter plot as in question 1.5.  Also report the R2-value. \n",
    "\n",
    "**Written answer**: What is the difference in the fit obtained with an L1 as compared to the L2 cost function? Which one has a higher R2 value? Why?  \n",
    "\n",
    "Note: If you recieve an error from the optimizer, it may be because the loss function for the LAD model is not differentiable at its minimum.  This will lead to some gradient based optimizers to fail to converge.  If this happens to you then pass `method=\"Powell\"` to `scipy.optimize.minimize`.\n",
    "\n"
   ]
  },
  {
   "cell_type": "code",
   "execution_count": 140,
   "metadata": {},
   "outputs": [
    {
     "name": "stdout",
     "output_type": "stream",
     "text": [
      "81.23140169944158\n",
      "R2: 0.8373423610379254\n"
     ]
    },
    {
     "data": {
      "image/png": "[encoded data removed]",
      "text/plain": [
       "<Figure size 640x480 with 1 Axes>"
      ]
     },
     "metadata": {},
     "output_type": "display_data"
    }
   ],
   "source": [
    "def linearModelFitLAD(X,y,lossfcn = linearModelLossLAD):\n",
    "    bstart = [0,0]\n",
    "    ybar = np.sum(y)/len(y)\n",
    "    RESULT=so.minimize(lossfcn,bstart,args=(X, y),jac=True)\n",
    "    estimated_betas = RESULT.x\n",
    "    \n",
    "    R2 = 1 - RESULT.fun/np.sum((y-ybar)**2)\n",
    "    return (estimated_betas,R2)\n",
    "\n",
    "y = np.array(possum_data[\"tailL\"])\n",
    "ages = np.array(possum_data[\"age\"])\n",
    "leading_ones = np.ones((ages.shape[0], 1))\n",
    "X = np.c_[leading_ones, ages]\n",
    "\n",
    "estimated_betas,R2 = linearModelFitLAD(X,y,linearModelLossLAD)\n",
    "\n",
    "# Create the scatter plot (see question 1.1)\n",
    "plt.scatter(possum_data[\"age\"], possum_data[\"tailL\"], alpha=0.5)\n",
    "plt.xlabel('Age')\n",
    "plt.ylabel('Tail Length')\n",
    "\n",
    "# Create a new X matrix with equally space data \n",
    "equally_spaced_ages = np.linspace(1, 9, num=9, endpoint=True, retstep=False, dtype=None)\n",
    "leading_ones = np.ones((equally_spaced_ages.shape[0], 1))\n",
    "X = np.c_[leading_ones, equally_spaced_ages]\n",
    "\n",
    "# Add the line to the graph \n",
    "plt.plot(equally_spaced_ages, X@estimated_betas, color='red', label='Fitted line')\n",
    "\n",
    "# Report R2 \n",
    "print(f\"R2: {R2}\")\n",
    "plt.show()"
   ]
  },
  {
   "cell_type": "markdown",
   "metadata": {},
   "source": [
    "Written answer: The fit for L1 has a much higher R-squared value. This is because the difference between the estimated and actual values for L1 are much smaller than those of L2. This means L1 has a better fit. L2's fit accounted more for outliers and thats why its overall R-squared value is less."
   ]
  },
  {
   "cell_type": "markdown",
   "metadata": {},
   "source": [
    "### Question 2.3: /15 points\n",
    "\n",
    "Fit an OLS model to the possum data with the `linear_model` module from the `sklearn` package by using the `LinearRegression` class.  In no more than two sentences, comment on the rsquared values from `sklearn` and the rsquared values from your models. Are they similar?"
   ]
  },
  {
   "cell_type": "code",
   "execution_count": 145,
   "metadata": {},
   "outputs": [
    {
     "name": "stdout",
     "output_type": "stream",
     "text": [
      "0.22286587947604108\n"
     ]
    },
    {
     "data": {
      "image/png": "[encoded data removed]",
      "text/plain": [
       "<Figure size 640x480 with 1 Axes>"
      ]
     },
     "metadata": {},
     "output_type": "display_data"
    }
   ],
   "source": [
    "ages = np.array(possum_data[\"age\"])\n",
    "leading_ones = np.ones((ages.shape[0], 1))\n",
    "X = np.c_[leading_ones, ages]\n",
    "reg = linear_model.LinearRegression().fit(X, y)\n",
    "R2 = reg.score(X, y)\n",
    "\n",
    "print(R2)"
   ]
  },
  {
   "cell_type": "code",
   "execution_count": null,
   "metadata": {},
   "outputs": [],
   "source": [
    "\"\"\"\n",
    "The R2 value from sklean and the R2 value from my models are very similar. This means the optimizer from my model works similarly to the methods in sklearn.\n",
    "\"\"\""
   ]
  }
 ],
 "metadata": {
  "kernelspec": {
   "display_name": "Python 3",
   "language": "python",
   "name": "python3"
  },
  "language_info": {
   "codemirror_mode": {
    "name": "ipython",
    "version": 3
   },
   "file_extension": ".py",
   "mimetype": "text/x-python",
   "name": "python",
   "nbconvert_exporter": "python",
   "pygments_lexer": "ipython3",
   "version": "3.9.6"
  }
 },
 "nbformat": 4,
 "nbformat_minor": 4
}
