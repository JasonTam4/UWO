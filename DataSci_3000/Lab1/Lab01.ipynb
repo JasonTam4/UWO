{
 "cells": [
  {
   "cell_type": "markdown",
   "metadata": {},
   "source": [
    "# Lab 01: Pandas, Numpy, and Statsmodels\n",
    "\n",
    "\n",
    "### Pandas\n",
    "\n",
    "Pandas is a popular library for data analysis in python.  The library allows users to work with tabular data similar to R's `data.frame`.  Today, you'll learn how to :\n",
    "\n",
    "* Load in data\n",
    "* Select columns and rows\n",
    "* Assign new colums\n",
    "* Extract data from columns as numpy arrays\n",
    "\n"
   ]
  },
  {
   "cell_type": "code",
   "execution_count": 3,
   "metadata": {},
   "outputs": [],
   "source": [
    "import numpy as np\n",
    "import pandas as pd\n",
    "from statsmodels.regression.linear_model import OLS\n",
    "from statsmodels.regression.quantile_regression import QuantReg\n",
    "from IPython.display import display"
   ]
  },
  {
   "cell_type": "markdown",
   "metadata": {},
   "source": [
    "Data comes in a lot of forms.  Comma seperated value (csv) files are most common.  You can read in a csv files into python using `pandas.read_csv`."
   ]
  },
  {
   "cell_type": "code",
   "execution_count": 4,
   "metadata": {},
   "outputs": [
    {
     "data": {
      "text/html": [
       "<div>\n",
       "<style scoped>\n",
       "    .dataframe tbody tr th:only-of-type {\n",
       "        vertical-align: middle;\n",
       "    }\n",
       "\n",
       "    .dataframe tbody tr th {\n",
       "        vertical-align: top;\n",
       "    }\n",
       "\n",
       "    .dataframe thead th {\n",
       "        text-align: right;\n",
       "    }\n",
       "</style>\n",
       "<table border=\"1\" class=\"dataframe\">\n",
       "  <thead>\n",
       "    <tr style=\"text-align: right;\">\n",
       "      <th></th>\n",
       "      <th>created_at</th>\n",
       "      <th>apparentTemperature</th>\n",
       "      <th>humidity</th>\n",
       "      <th>precipIntensity</th>\n",
       "      <th>precipProbability</th>\n",
       "      <th>precipType</th>\n",
       "      <th>pressure</th>\n",
       "      <th>visibility</th>\n",
       "      <th>windBearing</th>\n",
       "      <th>windSpeed</th>\n",
       "      <th>wr</th>\n",
       "    </tr>\n",
       "  </thead>\n",
       "  <tbody>\n",
       "    <tr>\n",
       "      <th>0</th>\n",
       "      <td>2018-01-02 06:28:33</td>\n",
       "      <td>-23.27</td>\n",
       "      <td>0.83</td>\n",
       "      <td>0.0</td>\n",
       "      <td>0.0</td>\n",
       "      <td>NoPrecip</td>\n",
       "      <td>1031.23</td>\n",
       "      <td>16.093</td>\n",
       "      <td>240.0</td>\n",
       "      <td>16.56</td>\n",
       "      <td>9.0</td>\n",
       "    </tr>\n",
       "    <tr>\n",
       "      <th>1</th>\n",
       "      <td>2018-01-02 06:58:21</td>\n",
       "      <td>-23.27</td>\n",
       "      <td>0.83</td>\n",
       "      <td>0.0</td>\n",
       "      <td>0.0</td>\n",
       "      <td>NoPrecip</td>\n",
       "      <td>1031.23</td>\n",
       "      <td>16.093</td>\n",
       "      <td>240.0</td>\n",
       "      <td>16.56</td>\n",
       "      <td>10.0</td>\n",
       "    </tr>\n",
       "    <tr>\n",
       "      <th>2</th>\n",
       "      <td>2018-01-02 07:27:11</td>\n",
       "      <td>-24.22</td>\n",
       "      <td>0.83</td>\n",
       "      <td>0.0</td>\n",
       "      <td>0.0</td>\n",
       "      <td>NoPrecip</td>\n",
       "      <td>1030.51</td>\n",
       "      <td>16.093</td>\n",
       "      <td>199.0</td>\n",
       "      <td>20.54</td>\n",
       "      <td>10.0</td>\n",
       "    </tr>\n",
       "    <tr>\n",
       "      <th>3</th>\n",
       "      <td>2018-01-02 07:58:38</td>\n",
       "      <td>-24.22</td>\n",
       "      <td>0.83</td>\n",
       "      <td>0.0</td>\n",
       "      <td>0.0</td>\n",
       "      <td>NoPrecip</td>\n",
       "      <td>1030.51</td>\n",
       "      <td>16.093</td>\n",
       "      <td>199.0</td>\n",
       "      <td>20.54</td>\n",
       "      <td>7.0</td>\n",
       "    </tr>\n",
       "    <tr>\n",
       "      <th>4</th>\n",
       "      <td>2018-01-02 08:27:15</td>\n",
       "      <td>-19.47</td>\n",
       "      <td>0.85</td>\n",
       "      <td>0.0</td>\n",
       "      <td>0.0</td>\n",
       "      <td>NoPrecip</td>\n",
       "      <td>1030.29</td>\n",
       "      <td>16.093</td>\n",
       "      <td>255.0</td>\n",
       "      <td>6.43</td>\n",
       "      <td>18.0</td>\n",
       "    </tr>\n",
       "  </tbody>\n",
       "</table>\n",
       "</div>"
      ],
      "text/plain": [
       "            created_at  apparentTemperature  humidity  precipIntensity  \\\n",
       "0  2018-01-02 06:28:33               -23.27      0.83              0.0   \n",
       "1  2018-01-02 06:58:21               -23.27      0.83              0.0   \n",
       "2  2018-01-02 07:27:11               -24.22      0.83              0.0   \n",
       "3  2018-01-02 07:58:38               -24.22      0.83              0.0   \n",
       "4  2018-01-02 08:27:15               -19.47      0.85              0.0   \n",
       "\n",
       "   precipProbability precipType  pressure  visibility  windBearing  windSpeed  \\\n",
       "0                0.0   NoPrecip   1031.23      16.093        240.0      16.56   \n",
       "1                0.0   NoPrecip   1031.23      16.093        240.0      16.56   \n",
       "2                0.0   NoPrecip   1030.51      16.093        199.0      20.54   \n",
       "3                0.0   NoPrecip   1030.51      16.093        199.0      20.54   \n",
       "4                0.0   NoPrecip   1030.29      16.093        255.0       6.43   \n",
       "\n",
       "     wr  \n",
       "0   9.0  \n",
       "1  10.0  \n",
       "2  10.0  \n",
       "3   7.0  \n",
       "4  18.0  "
      ]
     },
     "execution_count": 4,
     "metadata": {},
     "output_type": "execute_result"
    }
   ],
   "source": [
    "# Read in data\n",
    "df = pd.read_csv('2018_data.csv')\n",
    "\n",
    "# See the top 5 rows\n",
    "df.head()\n"
   ]
  },
  {
   "cell_type": "markdown",
   "metadata": {},
   "source": [
    "There are several ways to extract a column using pandas. You can use one of:\n",
    "\n",
    "* `df['column_name']`\n",
    "\n",
    "* `df.column_name`\n",
    "\n",
    "* `df.loc[:, 'column_name']`\n",
    "\n"
   ]
  },
  {
   "cell_type": "code",
   "execution_count": 5,
   "metadata": {},
   "outputs": [
    {
     "data": {
      "text/plain": [
       "0      -23.27\n",
       "1      -23.27\n",
       "2      -24.22\n",
       "3      -24.22\n",
       "4      -19.47\n",
       "        ...  \n",
       "6419    -8.02\n",
       "6420    -8.02\n",
       "6421    -8.02\n",
       "6422    -7.17\n",
       "6423    -8.69\n",
       "Name: apparentTemperature, Length: 6424, dtype: float64"
      ]
     },
     "metadata": {},
     "output_type": "display_data"
    },
    {
     "data": {
      "text/plain": [
       "0      -23.27\n",
       "1      -23.27\n",
       "2      -24.22\n",
       "3      -24.22\n",
       "4      -19.47\n",
       "        ...  \n",
       "6419    -8.02\n",
       "6420    -8.02\n",
       "6421    -8.02\n",
       "6422    -7.17\n",
       "6423    -8.69\n",
       "Name: apparentTemperature, Length: 6424, dtype: float64"
      ]
     },
     "metadata": {},
     "output_type": "display_data"
    },
    {
     "data": {
      "text/plain": [
       "0      -23.27\n",
       "1      -23.27\n",
       "2      -24.22\n",
       "3      -24.22\n",
       "4      -19.47\n",
       "        ...  \n",
       "6419    -8.02\n",
       "6420    -8.02\n",
       "6421    -8.02\n",
       "6422    -7.17\n",
       "6423    -8.69\n",
       "Name: apparentTemperature, Length: 6424, dtype: float64"
      ]
     },
     "metadata": {},
     "output_type": "display_data"
    }
   ],
   "source": [
    "# Extract the temperature column using the three methods\n",
    "display(df['apparentTemperature'])\n",
    "\n",
    "display(df.apparentTemperature)\n",
    "\n",
    "display(df.loc[:, 'apparentTemperature'])\n"
   ]
  },
  {
   "cell_type": "markdown",
   "metadata": {},
   "source": [
    "Creating a new column in pandas cal be done by \n",
    "\n",
    "`df['new_column'] = ...`\n",
    "\n",
    "Let's create a new column for the temperature in Fahrenheit."
   ]
  },
  {
   "cell_type": "code",
   "execution_count": 6,
   "metadata": {},
   "outputs": [
    {
     "data": {
      "text/html": [
       "<div>\n",
       "<style scoped>\n",
       "    .dataframe tbody tr th:only-of-type {\n",
       "        vertical-align: middle;\n",
       "    }\n",
       "\n",
       "    .dataframe tbody tr th {\n",
       "        vertical-align: top;\n",
       "    }\n",
       "\n",
       "    .dataframe thead th {\n",
       "        text-align: right;\n",
       "    }\n",
       "</style>\n",
       "<table border=\"1\" class=\"dataframe\">\n",
       "  <thead>\n",
       "    <tr style=\"text-align: right;\">\n",
       "      <th></th>\n",
       "      <th>created_at</th>\n",
       "      <th>apparentTemperature</th>\n",
       "      <th>humidity</th>\n",
       "      <th>precipIntensity</th>\n",
       "      <th>precipProbability</th>\n",
       "      <th>precipType</th>\n",
       "      <th>pressure</th>\n",
       "      <th>visibility</th>\n",
       "      <th>windBearing</th>\n",
       "      <th>windSpeed</th>\n",
       "      <th>wr</th>\n",
       "      <th>temp_in_Fahrenheit</th>\n",
       "    </tr>\n",
       "  </thead>\n",
       "  <tbody>\n",
       "    <tr>\n",
       "      <th>0</th>\n",
       "      <td>2018-01-02 06:28:33</td>\n",
       "      <td>-23.27</td>\n",
       "      <td>0.83</td>\n",
       "      <td>0.0</td>\n",
       "      <td>0.0</td>\n",
       "      <td>NoPrecip</td>\n",
       "      <td>1031.23</td>\n",
       "      <td>16.093</td>\n",
       "      <td>240.0</td>\n",
       "      <td>16.56</td>\n",
       "      <td>9.0</td>\n",
       "      <td>-9.886</td>\n",
       "    </tr>\n",
       "    <tr>\n",
       "      <th>1</th>\n",
       "      <td>2018-01-02 06:58:21</td>\n",
       "      <td>-23.27</td>\n",
       "      <td>0.83</td>\n",
       "      <td>0.0</td>\n",
       "      <td>0.0</td>\n",
       "      <td>NoPrecip</td>\n",
       "      <td>1031.23</td>\n",
       "      <td>16.093</td>\n",
       "      <td>240.0</td>\n",
       "      <td>16.56</td>\n",
       "      <td>10.0</td>\n",
       "      <td>-9.886</td>\n",
       "    </tr>\n",
       "    <tr>\n",
       "      <th>2</th>\n",
       "      <td>2018-01-02 07:27:11</td>\n",
       "      <td>-24.22</td>\n",
       "      <td>0.83</td>\n",
       "      <td>0.0</td>\n",
       "      <td>0.0</td>\n",
       "      <td>NoPrecip</td>\n",
       "      <td>1030.51</td>\n",
       "      <td>16.093</td>\n",
       "      <td>199.0</td>\n",
       "      <td>20.54</td>\n",
       "      <td>10.0</td>\n",
       "      <td>-11.596</td>\n",
       "    </tr>\n",
       "    <tr>\n",
       "      <th>3</th>\n",
       "      <td>2018-01-02 07:58:38</td>\n",
       "      <td>-24.22</td>\n",
       "      <td>0.83</td>\n",
       "      <td>0.0</td>\n",
       "      <td>0.0</td>\n",
       "      <td>NoPrecip</td>\n",
       "      <td>1030.51</td>\n",
       "      <td>16.093</td>\n",
       "      <td>199.0</td>\n",
       "      <td>20.54</td>\n",
       "      <td>7.0</td>\n",
       "      <td>-11.596</td>\n",
       "    </tr>\n",
       "    <tr>\n",
       "      <th>4</th>\n",
       "      <td>2018-01-02 08:27:15</td>\n",
       "      <td>-19.47</td>\n",
       "      <td>0.85</td>\n",
       "      <td>0.0</td>\n",
       "      <td>0.0</td>\n",
       "      <td>NoPrecip</td>\n",
       "      <td>1030.29</td>\n",
       "      <td>16.093</td>\n",
       "      <td>255.0</td>\n",
       "      <td>6.43</td>\n",
       "      <td>18.0</td>\n",
       "      <td>-3.046</td>\n",
       "    </tr>\n",
       "  </tbody>\n",
       "</table>\n",
       "</div>"
      ],
      "text/plain": [
       "            created_at  apparentTemperature  humidity  precipIntensity  \\\n",
       "0  2018-01-02 06:28:33               -23.27      0.83              0.0   \n",
       "1  2018-01-02 06:58:21               -23.27      0.83              0.0   \n",
       "2  2018-01-02 07:27:11               -24.22      0.83              0.0   \n",
       "3  2018-01-02 07:58:38               -24.22      0.83              0.0   \n",
       "4  2018-01-02 08:27:15               -19.47      0.85              0.0   \n",
       "\n",
       "   precipProbability precipType  pressure  visibility  windBearing  windSpeed  \\\n",
       "0                0.0   NoPrecip   1031.23      16.093        240.0      16.56   \n",
       "1                0.0   NoPrecip   1031.23      16.093        240.0      16.56   \n",
       "2                0.0   NoPrecip   1030.51      16.093        199.0      20.54   \n",
       "3                0.0   NoPrecip   1030.51      16.093        199.0      20.54   \n",
       "4                0.0   NoPrecip   1030.29      16.093        255.0       6.43   \n",
       "\n",
       "     wr  temp_in_Fahrenheit  \n",
       "0   9.0              -9.886  \n",
       "1  10.0              -9.886  \n",
       "2  10.0             -11.596  \n",
       "3   7.0             -11.596  \n",
       "4  18.0              -3.046  "
      ]
     },
     "execution_count": 6,
     "metadata": {},
     "output_type": "execute_result"
    }
   ],
   "source": [
    "\n",
    "# Note, pandas columns act like vectors in so far as\n",
    "# operations act elementwise.\n",
    "df['temp_in_Fahrenheit'] = 1.8*df.apparentTemperature + 32\n",
    "\n",
    "df.head()"
   ]
  },
  {
   "cell_type": "markdown",
   "metadata": {},
   "source": [
    "If you have data in python you would like to convert into a DataFrame, you can do so as follows"
   ]
  },
  {
   "cell_type": "code",
   "execution_count": 7,
   "metadata": {},
   "outputs": [
    {
     "data": {
      "text/html": [
       "<div>\n",
       "<style scoped>\n",
       "    .dataframe tbody tr th:only-of-type {\n",
       "        vertical-align: middle;\n",
       "    }\n",
       "\n",
       "    .dataframe tbody tr th {\n",
       "        vertical-align: top;\n",
       "    }\n",
       "\n",
       "    .dataframe thead th {\n",
       "        text-align: right;\n",
       "    }\n",
       "</style>\n",
       "<table border=\"1\" class=\"dataframe\">\n",
       "  <thead>\n",
       "    <tr style=\"text-align: right;\">\n",
       "      <th></th>\n",
       "      <th>a_column_name</th>\n",
       "    </tr>\n",
       "  </thead>\n",
       "  <tbody>\n",
       "    <tr>\n",
       "      <th>0</th>\n",
       "      <td>3</td>\n",
       "    </tr>\n",
       "    <tr>\n",
       "      <th>1</th>\n",
       "      <td>2</td>\n",
       "    </tr>\n",
       "    <tr>\n",
       "      <th>2</th>\n",
       "      <td>1</td>\n",
       "    </tr>\n",
       "  </tbody>\n",
       "</table>\n",
       "</div>"
      ],
      "text/plain": [
       "   a_column_name\n",
       "0              3\n",
       "1              2\n",
       "2              1"
      ]
     },
     "execution_count": 7,
     "metadata": {},
     "output_type": "execute_result"
    }
   ],
   "source": [
    "array_data = np.array([3,2,1])\n",
    "\n",
    "array_to_df = pd.DataFrame({'a_column_name': array_data})\n",
    "\n",
    "array_to_df"
   ]
  },
  {
   "cell_type": "markdown",
   "metadata": {},
   "source": [
    "___\n",
    "\n",
    "\n",
    "### Numpy\n",
    "\n",
    "#### Linear algebra and dot products\n",
    "\n",
    "In math, a vector $\\mathbf{x} \\in \\mathbb{R}^n$ is usually understood to be a *column vector*.  That is, if I were to write out $\\mathbf{x}$ then it would look like\n",
    "\n",
    "$$ \\mathbf{x} = \\begin{bmatrix} x_1 \\\\ x_2 \\\\ \\vdots \\\\ x_n \\end{bmatrix} $$\n",
    "\n",
    "When we write $\\mathbf{x}^T$ that makes $\\mathbf{x}$ a *row vector*.  So if I were to write out $\\mathbf{x}^T$ it would look like\n",
    "\n",
    "$$ \\mathbf{x}^T = \\begin{bmatrix} x_1 \\,, x_2 \\,, \\cdots \\,, x_n \\end{bmatrix} $$\n",
    "\n",
    "When I want to compute a dot product between two vectors $\\mathbf{x}$ and $\\mathbf{y}$ I write\n",
    "\n",
    "$$ \\mathbf{y}^T \\mathbf{x} $$\n",
    "\n",
    "Which means that this is the product between a *row vector* and a *column vector*. \n",
    "\n",
    "\n",
    "#### One- and two dimensional arrays in numpy\n",
    "Intuitively, we expect that Numpy behaves the same way. The confusion arises because vectors can be represented as 1-d or 2-d arrays. \n",
    "\n"
   ]
  },
  {
   "cell_type": "code",
   "execution_count": 8,
   "metadata": {},
   "outputs": [
    {
     "name": "stdout",
     "output_type": "stream",
     "text": [
      "x looks like:\n",
      "[1 2 3]\n",
      "[4 5 6]\n",
      "shape of x: (3,)\n",
      "shape of y: (3,)\n",
      "x has 1 dimension(s)\n",
      "y has 1 dimension(s)\n"
     ]
    }
   ],
   "source": [
    "\n",
    "# These are a one-dimensional numpy arrays\n",
    "x = np.array([1,2,3])\n",
    "y = np.array([4,5,6])\n",
    "\n",
    "print('x looks like:')\n",
    "print(x)\n",
    "print(y)\n",
    "\n",
    "print('shape of x:', x.shape)\n",
    "print('shape of y:', x.shape)\n",
    "\n",
    "print(f'x has {x.ndim} dimension(s)')\n",
    "print(f'y has {y.ndim} dimension(s)')"
   ]
  },
  {
   "cell_type": "code",
   "execution_count": 9,
   "metadata": {},
   "outputs": [
    {
     "name": "stdout",
     "output_type": "stream",
     "text": [
      "x looks like:\n",
      "[[1]\n",
      " [2]\n",
      " [3]]\n",
      "[[4]\n",
      " [5]\n",
      " [6]]\n",
      "shape of x: (3, 1)\n",
      "shape of y: (3, 1)\n",
      "x has 2 dimension(s)\n",
      "y has 2 dimension(s)\n"
     ]
    }
   ],
   "source": [
    "# Write x and y as 2d- arrays\n",
    "\n",
    "x = np.array([[1,2,3]]).T\n",
    "y = np.array([[4,5,6]]).T\n",
    "\n",
    "print('x looks like:')\n",
    "print(x)\n",
    "print(y)\n",
    "\n",
    "print('shape of x:', x.shape)\n",
    "print('shape of y:', x.shape)\n",
    "\n",
    "print(f'x has {x.ndim} dimension(s)')\n",
    "print(f'y has {y.ndim} dimension(s)')"
   ]
  },
  {
   "cell_type": "markdown",
   "metadata": {},
   "source": [
    "#### Dot products in numpy \n",
    "The dot-product between two 2d-arrays behaves as we would expect (Note that the result is still technically a 2-d array):"
   ]
  },
  {
   "cell_type": "code",
   "execution_count": 10,
   "metadata": {},
   "outputs": [
    {
     "data": {
      "text/plain": [
       "array([[32]])"
      ]
     },
     "execution_count": 10,
     "metadata": {},
     "output_type": "execute_result"
    }
   ],
   "source": [
    "x.T@y"
   ]
  },
  {
   "cell_type": "code",
   "execution_count": 11,
   "metadata": {},
   "outputs": [
    {
     "ename": "ValueError",
     "evalue": "matmul: Input operand 1 has a mismatch in its core dimension 0, with gufunc signature (n?,k),(k,m?)->(n?,m?) (size 3 is different from 1)",
     "output_type": "error",
     "traceback": [
      "\u001b[0;31m---------------------------------------------------------------------------\u001b[0m",
      "\u001b[0;31mValueError\u001b[0m                                Traceback (most recent call last)",
      "Cell \u001b[0;32mIn[11], line 4\u001b[0m\n\u001b[1;32m      1\u001b[0m \u001b[38;5;66;03m# If the sizes of the arrays do not align, I am getting an error message \u001b[39;00m\n\u001b[1;32m      2\u001b[0m \u001b[38;5;66;03m# Since x is a column vector, the inner product does not work.\u001b[39;00m\n\u001b[1;32m      3\u001b[0m \u001b[38;5;66;03m# x must be a row vector and have the same dimension as y\u001b[39;00m\n\u001b[0;32m----> 4\u001b[0m \u001b[43mx\u001b[49m\u001b[38;5;129;43m@y\u001b[39;49m\n",
      "\u001b[0;31mValueError\u001b[0m: matmul: Input operand 1 has a mismatch in its core dimension 0, with gufunc signature (n?,k),(k,m?)->(n?,m?) (size 3 is different from 1)"
     ]
    }
   ],
   "source": [
    "# If the sizes of the arrays do not align, I am getting an error message \n",
    "# Since x is a column vector, the inner product does not work.\n",
    "# x must be a row vector and have the same dimension as y\n",
    "x@y"
   ]
  },
  {
   "cell_type": "markdown",
   "metadata": {},
   "source": [
    " But take a look at what happens when I compute the dot product between two arrays using `@`."
   ]
  },
  {
   "cell_type": "code",
   "execution_count": 12,
   "metadata": {},
   "outputs": [
    {
     "name": "stdout",
     "output_type": "stream",
     "text": [
      "3\n",
      "3\n"
     ]
    }
   ],
   "source": [
    "# I shouldn't be able to do either of these operations with vectors\n",
    "# because they don't have the right shape\n",
    "x = np.array([1,2,3])\n",
    "y = np.array([-1,2,0])\n",
    "print(x@y)\n",
    "print(y@x)\n",
    "# But as you can see, I can:"
   ]
  },
  {
   "cell_type": "markdown",
   "metadata": {},
   "source": [
    "This isn't allowed to happen in linear algebra.  If `x` and `y` are \"vectors\", then numpy is allowing me to take the product of two column vectors without transposing one of them.  The answer is right, the dot product is 3, but 1-d numpy arrays do not behave like vectors.  \n",
    "\n",
    "Indeed, the transpose operator leaves a 1-d array unchanged"
   ]
  },
  {
   "cell_type": "code",
   "execution_count": 34,
   "metadata": {},
   "outputs": [
    {
     "name": "stdout",
     "output_type": "stream",
     "text": [
      "[1 2 3]\n",
      "[1 2 3]\n"
     ]
    }
   ],
   "source": [
    "print(x)\n",
    "print(x.T) #Transposing does not change a 1d array"
   ]
  },
  {
   "cell_type": "markdown",
   "metadata": {},
   "source": [
    "A useful function to transform 1-d arrays into 2-d arrays is the function `reshape`. We can transform or data into  `(n,1)` shaped arrays using `x.reshape(-1,1)`.  When you pass `-1` to reshape, you're telling numpy to infer the shape in that dimension.  So if I had an array, `z`, of 3 elements and I called `z.reshape(-1,1)`.  This will reshape the array to be a `(3,1)` array.  We didn't have to tell numpy the size for the first dimension, numpy inferred it from the size of the array.\n",
    "\n"
   ]
  },
  {
   "cell_type": "code",
   "execution_count": 38,
   "metadata": {},
   "outputs": [
    {
     "name": "stdout",
     "output_type": "stream",
     "text": [
      "[1 2 3]\n",
      "[[1]\n",
      " [2]\n",
      " [3]]\n"
     ]
    }
   ],
   "source": [
    "print(x)\n",
    "\n",
    "z = x.reshape(-1,1)\n",
    "\n",
    "print(z)"
   ]
  },
  {
   "cell_type": "code",
   "execution_count": null,
   "metadata": {},
   "outputs": [],
   "source": []
  }
 ],
 "metadata": {
  "kernelspec": {
   "display_name": "Python 3",
   "language": "python",
   "name": "python3"
  },
  "language_info": {
   "codemirror_mode": {
    "name": "ipython",
    "version": 3
   },
   "file_extension": ".py",
   "mimetype": "text/x-python",
   "name": "python",
   "nbconvert_exporter": "python",
   "pygments_lexer": "ipython3",
   "version": "3.9.6"
  }
 },
 "nbformat": 4,
 "nbformat_minor": 2
}
