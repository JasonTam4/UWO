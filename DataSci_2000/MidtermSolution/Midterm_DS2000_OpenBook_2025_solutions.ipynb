{
  "cells": [
    {
      "cell_type": "markdown",
      "metadata": {
        "id": "S9yERFupcVSO"
      },
      "source": [
        "# Midterm Data Science 2000\n",
        "## Student ID: xxxxxx\n",
        "## General comments\n",
        "The open-book Midterm tests for knowledge and skills acquired in the first half of the semester, especially in the first 6 Assignments. You are allowed to use any document and source on your computer and look up documents on the internet. You or not allowed to share documents, or communicate in any other way with people inside or outside the class room during the midterm. You are not allowed to use ChatGPT, co-pilot or any other similar AI.\n",
        "\n",
        "In VScode, you need to have the CoPilot and CoPilot extension **uninstalled** before starting the midterm.\n",
        "In Google Collab you need to go to settings to disable the AI functionality. See last announcement for details.\n",
        "\n",
        "**If you get caught with AI completion installed (even if it seems disabled at this point), it will be reported as academic dishonesty.**\n",
        "\n",
        "You need to submit the midterm by the due date (12:20) on OWL under Midterm_OpenBook. Late submission will be scored with 0 pts, unless you have received extra accommodation. So please start your submission five minutes before the deadline!  \n",
        "\n",
        "### Additional Guidance\n",
        "The midterm is supposed to be challenging. If you get stuck on a particular question because you can't solve a programming problem, just write down in text *how* you would try to solve the problem - if correct, this can give you partial points. Then continue the next question.\n",
        "If you need the solution from a previous problem, just *assume* some outcome and answer the question under that assumption. If you do this, make your assumptions explicit.\n",
        "\n",
        "Read all the questions carefully. Most questions demands a written answer as part of it. These need to be spelled out in a whole English sentence.\n",
        "\n",
        "To finish the midterm in the alloted time, you will have to work fast and efficiently. Good luck!\n",
        "\n",
        "## General grading criteria\n",
        "- The code must be working. After you are done clear the output and re-run the whole notebook to check.\n",
        "- The notebook should be submitted with the final output shown.\n",
        "- Results should be reported in understandable sentences.\n",
        "- Results should be reported rounded to a reasonable number of decimals.\n",
        "- Each figure needs to have x and y axes labeled.\n",
        "- Each Figure should have a text caption that explains what is displayed in the Figure (type of plot, x, y, grouping variables).\n",
        "\n",
        "\n",
        "## Preliminaries\n",
        "You are allowed to use the following packages in python, but no other packages. For solving the problems, use the approaches and concepts you learned in class."
      ]
    },
    {
      "cell_type": "code",
      "execution_count": 1,
      "metadata": {
        "id": "RfX2m-b2cVSP"
      },
      "outputs": [],
      "source": [
        "import matplotlib.pyplot as plt\n",
        "import scipy.stats as ss\n",
        "import pandas as pd\n",
        "import numpy as np\n",
        "import seaborn as sb"
      ]
    },
    {
      "cell_type": "markdown",
      "metadata": {
        "id": "IcmOTcpecVSQ"
      },
      "source": [
        "## Data set\n",
        "Based on your suggestions from the close-book portion of the exam, the researchers from the weight-loss study have redone their experiment with a full random assignment of participants to the four groups. This time they relied only on random assignment and did not block for gender.\n",
        "As before, the experiment compares different weight-loss drugs against each other. Adult participants were recruited to the experiment. Participants were randomly assigned to one of four groups: Placebo (P), Semaglutide (S), Phentermine-topiramate (Pt), and Orlistat (O). They received the medication. a nutritional plan, and a regular exercise regiment. The main outcome variable was body weight - this was measured before and after 1 month of taking the drug / placebo and following the program.\n",
        "\n",
        "The data frame contains the data fields\n",
        "- group: \t        Whether the participant was in the Placebo (P), Semaglutide (S), Phentermine-topiramate (Pt), or Orlistat (O) group\n",
        "- age:   \t\t    Age of the person in years\n",
        "- gender:\t\t\t'M':male  or 'F':female\n",
        "- weight_before: \tweight (in kg) at the Beginning of the study\n",
        "- weight_after:     weight (in kg) at the end of the study\n",
        "- weight_change:    Difference in weight from before to after\n",
        "\n",
        "Note that some participants did not finish the trial - this may be because they did not tolerate the side-effects of the medication, or because they terminated the study for other reasons not related to the medication.\n",
        "These participants have a `nan` value as missing value for the weight_after and weight_change."
      ]
    },
    {
      "cell_type": "markdown",
      "metadata": {
        "id": "VLElDgtecVSR"
      },
      "source": [
        "## Question 1 (4pt)\n",
        "Load the weight_loss.csv file.\n",
        "Report the frequencies of male and female participants in the four groups in a table. [2ts]\n",
        "Which group has the largest proportion of female participants? [2pts]\n"
      ]
    },
    {
      "cell_type": "code",
      "execution_count": 2,
      "metadata": {
        "colab": {
          "base_uri": "https://localhost:8080/",
          "height": 235
        },
        "id": "Cvze_RQycVSR",
        "outputId": "40dd246c-78fd-4054-9d62-9c2edf2b005e"
      },
      "outputs": [
        {
          "data": {
            "text/html": [
              "<div>\n",
              "<style scoped>\n",
              "    .dataframe tbody tr th:only-of-type {\n",
              "        vertical-align: middle;\n",
              "    }\n",
              "\n",
              "    .dataframe tbody tr th {\n",
              "        vertical-align: top;\n",
              "    }\n",
              "\n",
              "    .dataframe thead th {\n",
              "        text-align: right;\n",
              "    }\n",
              "</style>\n",
              "<table border=\"1\" class=\"dataframe\">\n",
              "  <thead>\n",
              "    <tr style=\"text-align: right;\">\n",
              "      <th>gender</th>\n",
              "      <th>F</th>\n",
              "      <th>M</th>\n",
              "      <th>All</th>\n",
              "    </tr>\n",
              "    <tr>\n",
              "      <th>group</th>\n",
              "      <th></th>\n",
              "      <th></th>\n",
              "      <th></th>\n",
              "    </tr>\n",
              "  </thead>\n",
              "  <tbody>\n",
              "    <tr>\n",
              "      <th>O</th>\n",
              "      <td>14</td>\n",
              "      <td>21</td>\n",
              "      <td>35</td>\n",
              "    </tr>\n",
              "    <tr>\n",
              "      <th>P</th>\n",
              "      <td>16</td>\n",
              "      <td>19</td>\n",
              "      <td>35</td>\n",
              "    </tr>\n",
              "    <tr>\n",
              "      <th>Pt</th>\n",
              "      <td>21</td>\n",
              "      <td>14</td>\n",
              "      <td>35</td>\n",
              "    </tr>\n",
              "    <tr>\n",
              "      <th>S</th>\n",
              "      <td>17</td>\n",
              "      <td>18</td>\n",
              "      <td>35</td>\n",
              "    </tr>\n",
              "    <tr>\n",
              "      <th>All</th>\n",
              "      <td>68</td>\n",
              "      <td>72</td>\n",
              "      <td>140</td>\n",
              "    </tr>\n",
              "  </tbody>\n",
              "</table>\n",
              "</div>"
            ],
            "text/plain": [
              "gender   F   M  All\n",
              "group              \n",
              "O       14  21   35\n",
              "P       16  19   35\n",
              "Pt      21  14   35\n",
              "S       17  18   35\n",
              "All     68  72  140"
            ]
          },
          "execution_count": 2,
          "metadata": {},
          "output_type": "execute_result"
        }
      ],
      "source": [
        "D = pd.read_csv('weight_loss.csv')  # [1pt]\n",
        "pd.crosstab(D.group,D.gender,margins=True) #[2pts]"
      ]
    },
    {
      "cell_type": "markdown",
      "metadata": {
        "id": "tiF4yoQZcVSR"
      },
      "source": [
        "The Pt group has the largest proportion of female participants. [1pts]"
      ]
    },
    {
      "cell_type": "markdown",
      "metadata": {
        "id": "i27t-OY_cVSS"
      },
      "source": [
        "## Question 2 (5pt)\n",
        "Generate a box plot, which shows the weight change  for the four groups, separately for male and female participants.\n",
        "Remember to provide X and Y label and a figure caption.\n",
        "\n",
        "Which group shows the largest average weight loss overall?\n",
        "\n",
        "What other observation can you make that is relevant when interpreting how well each medication works? Why is it relevant?"
      ]
    },
    {
      "cell_type": "code",
      "execution_count": 3,
      "metadata": {
        "colab": {
          "base_uri": "https://localhost:8080/",
          "height": 466
        },
        "id": "doHFeWY0cVSS",
        "outputId": "79d3a8e0-0cdf-4f48-dd2c-25706cd3273b"
      },
      "outputs": [
        {
          "data": {
            "text/plain": [
              "Text(0, 0.5, 'weight change [kg]')"
            ]
          },
          "execution_count": 3,
          "metadata": {},
          "output_type": "execute_result"
        },
        {
          "data": {
            "image/png": "[encoded data removed]",
            "text/plain": [
              "<Figure size 640x480 with 1 Axes>"
            ]
          },
          "metadata": {},
          "output_type": "display_data"
        }
      ],
      "source": [
        "\n",
        "sb.boxplot(data=D,x='group',y='weight_change',hue='gender') # 3pts for one that shows all four groups (1pt for any barplot)\n",
        "plt.ylabel('weight change [kg]') # [1pt]"
      ]
    },
    {
      "cell_type": "markdown",
      "metadata": {
        "id": "LZ6es3i9cVST"
      },
      "source": [
        "Figure 1. Box plot of weight-change (negative numbers indicating weight loss) for the Placebo (P) and the medical (S, Pt, O) groups. [1pt]"
      ]
    },
    {
      "cell_type": "markdown",
      "metadata": {
        "id": "sihge6PRcVST"
      },
      "source": [
        "The Semaglutide group shows the largest weight loss [1pt]\n",
        "\n",
        "Men show a larger weight loss than women [1pt]- given that men and women are not full balanced in the groups, this may induce a bias in the results. [1pt]\n"
      ]
    },
    {
      "cell_type": "markdown",
      "metadata": {
        "id": "mO_8rXcIcVST"
      },
      "source": [
        "## Question 3 (4pts)\n",
        "It has been shown that the amount of weight loss is usually proportional to the initial weight of the person.\n",
        "\n",
        "Given this, calculate and report the mean initial weight (`weight_before`) for each of the groups (P, S, Pt, O),\n",
        "\n",
        "Also report the mean initial weight, split only by gender.\n",
        "\n",
        "Give this, and the observations from Question 1 amd 2, explain how these group differences could bias your conclusion about which medication is the most effective."
      ]
    },
    {
      "cell_type": "code",
      "execution_count": 4,
      "metadata": {
        "colab": {
          "base_uri": "https://localhost:8080/"
        },
        "id": "XJ-0DSKCcVSU",
        "outputId": "f44ef2f4-18ab-4c3d-821f-52a2353a0369"
      },
      "outputs": [
        {
          "name": "stdout",
          "output_type": "stream",
          "text": [
            "group\n",
            "O     83.999757\n",
            "P     83.477457\n",
            "Pt    79.432663\n",
            "S     82.769868\n",
            "Name: weight_before, dtype: float64\n"
          ]
        }
      ],
      "source": [
        "A = D.groupby(['group'])\n",
        "print(A.weight_before.mean()) # 1pt"
      ]
    },
    {
      "cell_type": "code",
      "execution_count": 5,
      "metadata": {
        "colab": {
          "base_uri": "https://localhost:8080/"
        },
        "id": "Z73aHlimcVSU",
        "outputId": "0bfb55eb-6268-4410-df76-6e8b67845697"
      },
      "outputs": [
        {
          "name": "stdout",
          "output_type": "stream",
          "text": [
            "gender\n",
            "F    76.291407\n",
            "M    88.207992\n",
            "Name: weight_before, dtype: float64\n"
          ]
        }
      ],
      "source": [
        "A = D.groupby(['gender'])\n",
        "print(A.weight_before.mean()) # 1pt"
      ]
    },
    {
      "cell_type": "markdown",
      "metadata": {
        "id": "8BIQTxM7cVSV"
      },
      "source": [
        "\n",
        "Men have a larger initial weight than women. This could be relevant because the weight loss is often proportional to the initial weight. If there are more women in the Pt group, we likely underestimate weight loss effect in this group.\n",
        "\n",
        "The initial weight is also lowest in that group, which again could lead to an underestimation of the effect of the Pt medication.\n",
        "(eitehr of these two points is enough for full credit) [2pts]"
      ]
    },
    {
      "cell_type": "markdown",
      "metadata": {
        "id": "1VdtVoR1cVSV"
      },
      "source": [
        "## Question 4 (3pt)\n",
        "\n",
        "Based on your insights from Question 1-3, suggest a way of avoiding a bias when you try to estimate the mean effect of the medication.\n",
        "Without having to redo the study and collect new data, how could you address this issue in the analysis? Describe your approach in a few sentences. [2pts]"
      ]
    },
    {
      "cell_type": "markdown",
      "metadata": {
        "id": "HAslBacecVSV"
      },
      "source": [
        "To address this issue without collecting new data, we could calculate the average weight loss for each group and gender seperately, and then calcualte the average weight across the two genders. This basically re-weights the observation in each group.\n",
        "\n",
        "Alternatively, we could expresss the weight loss as a percentage of the initial weight, which would account for the differences in initial weight across the genders.  \n",
        "\n",
        "Either answer would be fine [3pts]"
      ]
    },
    {
      "cell_type": "markdown",
      "metadata": {
        "id": "_8r9m_xycVSW"
      },
      "source": [
        "## Question 5 [5pts]\n",
        "Calculate and report the dropout rates for the four groups.\n",
        "\n",
        "Written answer: What could could the dropout rates you observed mean? How may this influence you conclusion from the study?"
      ]
    },
    {
      "cell_type": "code",
      "execution_count": 6,
      "metadata": {
        "colab": {
          "base_uri": "https://localhost:8080/"
        },
        "id": "Hf5YtKOscVSW",
        "outputId": "9352ccd8-6d89-4c7e-eb0b-fa326af19868"
      },
      "outputs": [
        {
          "name": "stdout",
          "output_type": "stream",
          "text": [
            "dropout  False  True  All\n",
            "group                    \n",
            "O           33     2   35\n",
            "P           34     1   35\n",
            "Pt          30     5   35\n",
            "S           32     3   35\n",
            "All        129    11  140\n"
          ]
        }
      ],
      "source": [
        "# Calculates and report  for the the four groups.\n",
        "D['dropout'] = D.weight_change.isna() # [2pt]\n",
        "observed = pd.crosstab(D.group,D.dropout,margins=True)\n",
        "print(observed) # [1pt]\n"
      ]
    },
    {
      "cell_type": "markdown",
      "metadata": {
        "id": "n2D8tW84cVSW"
      },
      "source": [
        "The dropout rates are highest in the Pt group. This could indicate that this medication has more unpleasant side effects than the others. \n",
        "This means this medication may be less suitable for being approved for general use. [2pt]"
      ]
    },
    {
      "cell_type": "markdown",
      "metadata": {
        "id": "L9t3rWZMcVSW"
      },
      "source": [
        "## Question 6 (5pts)\n",
        "Write a function that calculates and the Chi2-square value for the difference between the observed dropout rate and the expected dropout rate across groups, assuming that the dropout is independent of the medication group.  "
      ]
    },
    {
      "cell_type": "code",
      "execution_count": 7,
      "metadata": {
        "colab": {
          "base_uri": "https://localhost:8080/"
        },
        "id": "1bGk6kfBcVSX",
        "outputId": "bfd90a6f-29ab-4d3e-fb7c-0b59c8e24803"
      },
      "outputs": [
        {
          "data": {
            "text/plain": [
              "np.float64(3.4531360112755465)"
            ]
          },
          "execution_count": 7,
          "metadata": {},
          "output_type": "execute_result"
        }
      ],
      "source": [
        "def calcX2(D,rows='group',cols='dropout'):\n",
        "    observed = pd.crosstab(D[rows],D[cols], margins=True)\n",
        "    expected = np.outer(observed[\"All\"][0:-1], observed.loc[\"All\"][0:-1]) /observed['All']['All']\n",
        "    observed = pd.crosstab(D[rows],D[cols],margins=False)\n",
        "    return sum(sum((observed.values-expected)**2/expected))\n",
        "\n",
        "calcX2(D)"
      ]
    },
    {
      "cell_type": "markdown",
      "metadata": {
        "id": "hRd3eJSkcVSX"
      },
      "source": [
        "# Question 7 (5pts)\n",
        "Using the function from Q4, test the hypothesis that the dropout rates are the same for all groups (use a permutation test).\n",
        "What is your null hypothesis and what is your conclusion?"
      ]
    },
    {
      "cell_type": "code",
      "execution_count": 8,
      "metadata": {
        "id": "SFb_RMBwcVSX"
      },
      "outputs": [],
      "source": [
        "# Helper function:\n",
        "def randomize_column(df,colname):\n",
        "    df_copy = df.copy()\n",
        "    var = df_copy[colname].values\n",
        "    np.random.shuffle(var)\n",
        "    df_copy[colname]=var\n",
        "    return df_copy\n",
        "\n",
        "# Randomization test function\n",
        "def randomization_test(D,fcn,shuffle,numIterations=500,sides=1, nbins = 10):\n",
        "    listOfTS =  np.array(range(numIterations),dtype = 'float64')\n",
        "    for i in range(numIterations):\n",
        "        #1. Randomly shuffle the data\n",
        "        S= randomize_column(D,shuffle)\n",
        "        #2. Calculate test statistics\n",
        "        listOfTS[i] = fcn(S)\n",
        "\n",
        "    # 3. Calculate the real test statistic\n",
        "    realTS = fcn(D)\n",
        "\n",
        "    # 4. Plot a histogram of the\n",
        "    plt.hist(listOfTS,bins= nbins)\n",
        "    plt.axvline(x=realTS, color='k')\n",
        "    plt.xlabel('Chi-squared value')\n",
        "    plt.ylabel('Frequency')\n",
        "\n",
        "    # 5. determine p-value (one sided) with rejection region above the threshold\n",
        "    if sides==1:\n",
        "        p=sum(listOfTS>=realTS)/len(listOfTS)\n",
        "    if sides==-1:\n",
        "        p=sum(listOfTS<=realTS)/len(listOfTS)\n",
        "    # 5. determine p-value (two sided) with rejection region outside the threshold\n",
        "\n",
        "    print(' P-value of the randomisation test is p = ',p)\n",
        "    return p\n",
        "\n",
        "#[1pt] for correct functoin"
      ]
    },
    {
      "cell_type": "markdown",
      "metadata": {},
      "source": [
        "The Null hypothesis is that the dropout rates are the same across all groups. (or indepenent of the group). [1pt]"
      ]
    },
    {
      "cell_type": "code",
      "execution_count": 9,
      "metadata": {
        "colab": {
          "base_uri": "https://localhost:8080/",
          "height": 483
        },
        "id": "eZvQEplLcVSY",
        "outputId": "4844b6d5-1884-4a63-eb6e-61704b44418e"
      },
      "outputs": [
        {
          "name": "stdout",
          "output_type": "stream",
          "text": [
            " P-value of the randomisation test is p =  0.301\n"
          ]
        },
        {
          "data": {
            "text/plain": [
              "np.float64(0.301)"
            ]
          },
          "execution_count": 9,
          "metadata": {},
          "output_type": "execute_result"
        },
        {
          "data": {
            "image/png": "[encoded data removed]",
            "text/plain": [
              "<Figure size 640x480 with 1 Axes>"
            ]
          },
          "metadata": {},
          "output_type": "display_data"
        }
      ],
      "source": [
        "randomization_test(D,calcX2,'group',numIterations=1000,sides=1,nbins=20) # [1pt] for valid p-value"
      ]
    },
    {
      "cell_type": "markdown",
      "metadata": {
        "id": "yHKL66jgcVSY"
      },
      "source": [
        "Caption. Distribution of the Chi2-square values for the difference between the observed and expected dropout rates under the null hypothesis that the dropout rate is independent of the medication group. [Figure + Caption 1pt]"
      ]
    },
    {
      "cell_type": "markdown",
      "metadata": {
        "id": "NUrlVYpDcVSY"
      },
      "source": [
        "Based on the results of the permutation test, we can reject he null hypothesis that the dropout rates are the same for all groups.\n",
        "The differences in dropout rates is likely depends on the medication.  [1pt]"
      ]
    },
    {
      "cell_type": "markdown",
      "metadata": {
        "id": "EeWJ7w70cVSY"
      },
      "source": [
        "## Question 8 (4pt)\n",
        "Write a function that calculates the difference in the median of one of the groups and the median of the placebo group. The group of interest should be an optional input parameter of the function, with the default value of 'S'. Report the median difference for all three groups (S, Pt, O) compared to the placebo group rounded to 3 decimal places.\n",
        "\n",
        "Written answer: Which group shows the largest difference?"
      ]
    },
    {
      "cell_type": "code",
      "execution_count": 10,
      "metadata": {
        "id": "iMQUkgSgcVSY"
      },
      "outputs": [],
      "source": [
        "def median_difference(D,group='S'):  # Use Function to calculate the mean difference (1pts)\n",
        "    a = np.nanmedian(D.weight_change[D.group==group])\n",
        "    b = np.nanmedian(D.weight_change[D.group=='P'])\n",
        "    return a-b"
      ]
    },
    {
      "cell_type": "code",
      "execution_count": 11,
      "metadata": {
        "colab": {
          "base_uri": "https://localhost:8080/"
        },
        "id": "e9TnwPIQcVSY",
        "outputId": "e3f4cc26-ce88-4ee9-ecd2-8c3ce4288d26"
      },
      "outputs": [
        {
          "name": "stdout",
          "output_type": "stream",
          "text": [
            "the median difference between S and P is -1.780\n",
            "the median difference between Pt and P is -0.417\n",
            "the median difference between O and P is -0.829\n"
          ]
        }
      ],
      "source": [
        "# correct median different [1pt each]\n",
        "a = median_difference(D,'S')\n",
        "b = median_difference(D,'Pt')\n",
        "c = median_difference(D,'O')\n",
        "print (f'the median difference between S and P is {a:.3f}')\n",
        "print (f'the median difference between Pt and P is {b:.3f}')\n",
        "print (f'the median difference between O and P is {c:.3f}')"
      ]
    },
    {
      "cell_type": "markdown",
      "metadata": {
        "id": "b-NdSWYQcVSY"
      },
      "source": [
        "The Semaglutide group shows the largest difference in median weight loss compared to the placebo group."
      ]
    },
    {
      "cell_type": "markdown",
      "metadata": {
        "id": "-jcc99hTcVSY"
      },
      "source": [
        "## Question 9 (5pts)\n",
        "Conduct a permutation test to test the hypothesis that the median weight loss in the Semaglutide group is larger than the Placebo group.\n",
        "Your code should produce a figure that shows the distribution of the chosen test statistics under the Null hypothesis, as well as the empirical value as a vertical line.  Remember to provide axis labels and a caption.\n",
        "\n",
        "Written answer: Report the value of the statistics and the associated p-value, using at least 5000 iterations. What do you conclude regarding the hypothesis formulated above, using a significance threshold of p=0.05?"
      ]
    },
    {
      "cell_type": "code",
      "execution_count": 12,
      "metadata": {
        "colab": {
          "base_uri": "https://localhost:8080/",
          "height": 483
        },
        "id": "fVTwalf0cVSY",
        "outputId": "f8586b49-7fa0-4990-8f1d-998f70d8d8b4"
      },
      "outputs": [
        {
          "name": "stdout",
          "output_type": "stream",
          "text": [
            " P-value of the randomisation test is p =  0.0\n"
          ]
        },
        {
          "data": {
            "text/plain": [
              "np.float64(0.0)"
            ]
          },
          "execution_count": 12,
          "metadata": {},
          "output_type": "execute_result"
        },
        {
          "data": {
            "image/png": "[encoded data removed]",
            "text/plain": [
              "<Figure size 640x480 with 1 Axes>"
            ]
          },
          "metadata": {},
          "output_type": "display_data"
        }
      ],
      "source": [
        "randomization_test(D,median_difference,'group',numIterations=5000,sides=-1,nbins=20) # 2 pts for test, 1 pt for the correct p-value read off the left tail! [3pts]"
      ]
    },
    {
      "cell_type": "markdown",
      "metadata": {
        "id": "avz8zH8lcVSY"
      },
      "source": [
        "Caption: Distribution of the difference in median weight loss between the Semaglutide and Placebo group under the null hypothesis that the median weight loss is the same in the two groups. Line shows observed value [1pt]."
      ]
    },
    {
      "cell_type": "markdown",
      "metadata": {
        "id": "BRW-CNPIcVSZ"
      },
      "source": [
        "Based on the permutation test, we conclude that the median weight loss between the Semaglutide group is larger than the median weight loss in the Placebo group. [1pt]"
      ]
    },
    {
      "cell_type": "markdown",
      "metadata": {
        "id": "hhrRYV2ycVSZ"
      },
      "source": [
        "## Question 10 (10pts)\n",
        "We are coming back to Question 9 and on the closed-book exam:\n",
        "Here we wanted to establish the average effect size (median weight loss difference per month) for Semaglutide vs. Placebo group with confidence interval. You hopefully recommended to perform a bootstrap as opposed to a randomization test. The correct approach here is to resample data for each group separately, each time calculating the median difference between the two bootstrap groups. Write a bootstrap function that achieves this goal.\n",
        "Plot the histogram on the bootstrap estimates of the median difference. Remember to provide X and Y label and caption. Report the 95% confidence interval for the median difference in weight loss between the Semaglutide and Placebo group. Show the CI in your plot.\n",
        "\n",
        "Written answer: How would the CI change if we conducted a bootstrap on the Semaglutide only, and each time subtract the median of the real (non-boostrapped) Placebo group? Why would this not the the correct approach?  "
      ]
    },
    {
      "cell_type": "code",
      "execution_count": 13,
      "metadata": {
        "id": "4cnHO1_OcVSZ"
      },
      "outputs": [],
      "source": [
        "def bootstrap_med(data, numIter = 1000):\n",
        "    stats = np.array(range(numIter), dtype = 'float64') ## initializing the stats array (the function output)\n",
        "    data_p = data.weight_change[data.group=='P']\n",
        "    data_s = data.weight_change[data.group=='S']\n",
        "    for i in range(numIter):\n",
        "        sample_p=np.random.choice(data_p,data_p.shape[0], replace = True)\n",
        "        sample_s=np.random.choice(data_s,data_s.shape[0], replace = True)\n",
        "        stats[i]=np.nanmedian(sample_s)-np.nanmedian(sample_p)\n",
        "    return stats\n",
        "\n",
        "def confidenceInt(data, prec):\n",
        "    lp = (100 - prec)/2\n",
        "    Int = [np.percentile(data, lp), np.percentile(data, 100-(lp/2))]\n",
        "    return Int\n",
        "\n",
        "# [3pts] - 1pt for overall bootstrap, 1pt for correct sampling from both groups, 1pt for the confidence interval function (2-sided)"
      ]
    },
    {
      "cell_type": "code",
      "execution_count": 14,
      "metadata": {
        "id": "6I1bd4SfcVSZ"
      },
      "outputs": [],
      "source": [
        "boostrap = bootstrap_med(D, numIter = 1000)"
      ]
    },
    {
      "cell_type": "code",
      "execution_count": 15,
      "metadata": {
        "colab": {
          "base_uri": "https://localhost:8080/",
          "height": 466
        },
        "id": "CTYnGlVlcVSZ",
        "outputId": "a3e5b626-1e0d-45f2-83ee-0daca0e01a3a"
      },
      "outputs": [
        {
          "data": {
            "text/plain": [
              "Text(0, 0.5, 'Frequency')"
            ]
          },
          "execution_count": 15,
          "metadata": {},
          "output_type": "execute_result"
        },
        {
          "data": {
            "image/png": "[encoded data removed]",
            "text/plain": [
              "<Figure size 640x480 with 1 Axes>"
            ]
          },
          "metadata": {},
          "output_type": "display_data"
        }
      ],
      "source": [
        "sb.histplot(boostrap, bins = 30)\n",
        "CI = confidenceInt(boostrap, 95)\n",
        "plt.axvline(CI[0], color = 'r')\n",
        "plt.axvline(CI[1], color = 'r')\n",
        "plt.xlabel('Median difference')\n",
        "plt.ylabel('Frequency')\n",
        "# [3pts for correct histogram, Labels, confidence interval]"
      ]
    },
    {
      "cell_type": "code",
      "execution_count": 16,
      "metadata": {
        "colab": {
          "base_uri": "https://localhost:8080/"
        },
        "id": "b666oEkocVSZ",
        "outputId": "abf7a601-3df2-4d26-ba0c-ff3963b291f4"
      },
      "outputs": [
        {
          "name": "stdout",
          "output_type": "stream",
          "text": [
            "The 95% confidence interval for the median difference in weight loss between the Semaglutide and Placebo group is [-2.902, -0.419]\n"
          ]
        }
      ],
      "source": [
        "print(f\"The 95% confidence interval for the median difference in weight loss between the Semaglutide and Placebo group is [{CI[0]:.3f}, {CI[1]:.3f}]\") # [1pt]"
      ]
    },
    {
      "cell_type": "markdown",
      "metadata": {
        "id": "FbPvORLacVSZ"
      },
      "source": [
        "If we conducted a bootstrap analysis on the Semaglutide group only, we would get a narrowed CI. [2pts] We would not account for the variability induced into the estimate by the sampling of the Placebo group. This would lead to an underestimation of the uncertainty in the estimate of the median difference. [1pt]"
      ]
    },
    {
      "cell_type": "code",
      "execution_count": 22,
      "metadata": {},
      "outputs": [
        {
          "ename": "AttributeError",
          "evalue": "'Series' object has no attribute 'weight_change'",
          "output_type": "error",
          "traceback": [
            "\u001b[0;31m---------------------------------------------------------------------------\u001b[0m",
            "\u001b[0;31mAttributeError\u001b[0m                            Traceback (most recent call last)",
            "\u001b[0;32m/var/folders/m7/x0qbfd55451fl063_lpv3kxm0000gn/T/ipykernel_9002/2751369206.py\u001b[0m in \u001b[0;36m?\u001b[0;34m()\u001b[0m\n\u001b[0;32m----> 7\u001b[0;31m \u001b[0;32mdef\u001b[0m \u001b[0mdiff\u001b[0m\u001b[0;34m(\u001b[0m\u001b[0mD\u001b[0m\u001b[0;34m,\u001b[0m \u001b[0mgroup\u001b[0m\u001b[0;34m=\u001b[0m\u001b[0;36m0\u001b[0m\u001b[0;34m)\u001b[0m\u001b[0;34m:\u001b[0m\u001b[0;34m\u001b[0m\u001b[0;34m\u001b[0m\u001b[0m\n\u001b[0m\u001b[1;32m      8\u001b[0m     \u001b[0ma\u001b[0m \u001b[0;34m=\u001b[0m \u001b[0mnp\u001b[0m\u001b[0;34m.\u001b[0m\u001b[0mmean\u001b[0m\u001b[0;34m(\u001b[0m\u001b[0mD\u001b[0m\u001b[0;34m.\u001b[0m\u001b[0mweight_change\u001b[0m\u001b[0;34m[\u001b[0m\u001b[0mD\u001b[0m\u001b[0;34m.\u001b[0m\u001b[0mgroup\u001b[0m\u001b[0;34m==\u001b[0m\u001b[0mgroup\u001b[0m\u001b[0;34m]\u001b[0m\u001b[0;34m)\u001b[0m\u001b[0;34m\u001b[0m\u001b[0;34m\u001b[0m\u001b[0m\n\u001b[1;32m      9\u001b[0m     \u001b[0mb\u001b[0m \u001b[0;34m=\u001b[0m \u001b[0mnp\u001b[0m\u001b[0;34m.\u001b[0m\u001b[0mmean\u001b[0m\u001b[0;34m(\u001b[0m\u001b[0mD\u001b[0m\u001b[0;34m.\u001b[0m\u001b[0mweight_change\u001b[0m\u001b[0;34m[\u001b[0m\u001b[0mD\u001b[0m\u001b[0;34m.\u001b[0m\u001b[0mgroup\u001b[0m\u001b[0;34m==\u001b[0m\u001b[0mgroup\u001b[0m\u001b[0;34m]\u001b[0m\u001b[0;34m)\u001b[0m\u001b[0;34m\u001b[0m\u001b[0;34m\u001b[0m\u001b[0m\n\u001b[1;32m     10\u001b[0m     \u001b[0;32mreturn\u001b[0m \u001b[0ma\u001b[0m\u001b[0;34m-\u001b[0m\u001b[0mb\u001b[0m\u001b[0;34m\u001b[0m\u001b[0;34m\u001b[0m\u001b[0m\n",
            "\u001b[0;32m/var/folders/m7/x0qbfd55451fl063_lpv3kxm0000gn/T/ipykernel_9002/2751369206.py\u001b[0m in \u001b[0;36m?\u001b[0;34m(D, group)\u001b[0m\n\u001b[1;32m      1\u001b[0m \u001b[0;32mdef\u001b[0m \u001b[0mdiff\u001b[0m\u001b[0;34m(\u001b[0m\u001b[0mD\u001b[0m\u001b[0;34m,\u001b[0m \u001b[0mgroup\u001b[0m\u001b[0;34m=\u001b[0m\u001b[0;36m0\u001b[0m\u001b[0;34m)\u001b[0m\u001b[0;34m:\u001b[0m\u001b[0;34m\u001b[0m\u001b[0;34m\u001b[0m\u001b[0m\n\u001b[0;32m----> 2\u001b[0;31m     \u001b[0ma\u001b[0m \u001b[0;34m=\u001b[0m \u001b[0mnp\u001b[0m\u001b[0;34m.\u001b[0m\u001b[0mmean\u001b[0m\u001b[0;34m(\u001b[0m\u001b[0mD\u001b[0m\u001b[0;34m.\u001b[0m\u001b[0mweight_change\u001b[0m\u001b[0;34m[\u001b[0m\u001b[0mD\u001b[0m\u001b[0;34m.\u001b[0m\u001b[0mgroup\u001b[0m\u001b[0;34m==\u001b[0m\u001b[0mgroup\u001b[0m\u001b[0;34m]\u001b[0m\u001b[0;34m)\u001b[0m\u001b[0;34m\u001b[0m\u001b[0;34m\u001b[0m\u001b[0m\n\u001b[0m\u001b[1;32m      3\u001b[0m     \u001b[0mb\u001b[0m \u001b[0;34m=\u001b[0m \u001b[0mnp\u001b[0m\u001b[0;34m.\u001b[0m\u001b[0mmean\u001b[0m\u001b[0;34m(\u001b[0m\u001b[0mD\u001b[0m\u001b[0;34m.\u001b[0m\u001b[0mweight_change\u001b[0m\u001b[0;34m[\u001b[0m\u001b[0mD\u001b[0m\u001b[0;34m.\u001b[0m\u001b[0mgroup\u001b[0m\u001b[0;34m==\u001b[0m\u001b[0mgroup\u001b[0m\u001b[0;34m]\u001b[0m\u001b[0;34m)\u001b[0m\u001b[0;34m\u001b[0m\u001b[0;34m\u001b[0m\u001b[0m\n\u001b[1;32m      4\u001b[0m     \u001b[0;32mreturn\u001b[0m \u001b[0ma\u001b[0m\u001b[0;34m-\u001b[0m\u001b[0mb\u001b[0m\u001b[0;34m\u001b[0m\u001b[0;34m\u001b[0m\u001b[0m\n",
            "\u001b[0;32m~/Library/Python/3.9/lib/python/site-packages/pandas/core/generic.py\u001b[0m in \u001b[0;36m?\u001b[0;34m(self, name)\u001b[0m\n\u001b[1;32m   6295\u001b[0m             \u001b[0;32mand\u001b[0m \u001b[0mname\u001b[0m \u001b[0;32mnot\u001b[0m \u001b[0;32min\u001b[0m \u001b[0mself\u001b[0m\u001b[0;34m.\u001b[0m\u001b[0m_accessors\u001b[0m\u001b[0;34m\u001b[0m\u001b[0;34m\u001b[0m\u001b[0m\n\u001b[1;32m   6296\u001b[0m             \u001b[0;32mand\u001b[0m \u001b[0mself\u001b[0m\u001b[0;34m.\u001b[0m\u001b[0m_info_axis\u001b[0m\u001b[0;34m.\u001b[0m\u001b[0m_can_hold_identifiers_and_holds_name\u001b[0m\u001b[0;34m(\u001b[0m\u001b[0mname\u001b[0m\u001b[0;34m)\u001b[0m\u001b[0;34m\u001b[0m\u001b[0;34m\u001b[0m\u001b[0m\n\u001b[1;32m   6297\u001b[0m         ):\n\u001b[1;32m   6298\u001b[0m             \u001b[0;32mreturn\u001b[0m \u001b[0mself\u001b[0m\u001b[0;34m[\u001b[0m\u001b[0mname\u001b[0m\u001b[0;34m]\u001b[0m\u001b[0;34m\u001b[0m\u001b[0;34m\u001b[0m\u001b[0m\n\u001b[0;32m-> 6299\u001b[0;31m         \u001b[0;32mreturn\u001b[0m \u001b[0mobject\u001b[0m\u001b[0;34m.\u001b[0m\u001b[0m__getattribute__\u001b[0m\u001b[0;34m(\u001b[0m\u001b[0mself\u001b[0m\u001b[0;34m,\u001b[0m \u001b[0mname\u001b[0m\u001b[0;34m)\u001b[0m\u001b[0;34m\u001b[0m\u001b[0;34m\u001b[0m\u001b[0m\n\u001b[0m",
            "\u001b[0;31mAttributeError\u001b[0m: 'Series' object has no attribute 'weight_change'"
          ]
        }
      ],
      "source": [
        "def diff(D, group=0):\n",
        "    a = np.mean(D.weight_change[D.group==group])\n",
        "    b = np.mean(D.weight_change[D.group==group])\n",
        "    return a-b\n",
        "    \n",
        "\n",
        "diff(D['weight_change'], D['group'])"
      ]
    }
  ],
  "metadata": {
    "colab": {
      "provenance": []
    },
    "kernelspec": {
      "display_name": "Python 3",
      "language": "python",
      "name": "python3"
    },
    "language_info": {
      "codemirror_mode": {
        "name": "ipython",
        "version": 3
      },
      "file_extension": ".py",
      "mimetype": "text/x-python",
      "name": "python",
      "nbconvert_exporter": "python",
      "pygments_lexer": "ipython3",
      "version": "3.9.6"
    }
  },
  "nbformat": 4,
  "nbformat_minor": 0
}
