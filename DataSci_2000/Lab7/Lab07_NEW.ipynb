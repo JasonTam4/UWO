{
 "cells": [
  {
   "cell_type": "markdown",
   "metadata": {},
   "source": [
    "# Lab 7: Simple Linear Regression\n",
    "In this tutorial, we will walk through different steps of linear regression modeling introduced in the lecture. We will be working on __The World Happiness Dataset__ from Kaggle website:<br>\n",
    "https://www.kaggle.com/unsdsn/world-happiness <br>\n",
    "You will need to modify and combine these steps into several functions for the Assignment."
   ]
  },
  {
   "cell_type": "code",
   "execution_count": 1,
   "metadata": {},
   "outputs": [],
   "source": [
    "import matplotlib\n",
    "matplotlib.use('TkAgg')\n",
    "import matplotlib.pyplot as plt\n",
    "%matplotlib inline\n",
    "import scipy.optimize as so\n",
    "import pandas as pd\n",
    "import numpy as np\n",
    "import seaborn as sns"
   ]
  },
  {
   "cell_type": "markdown",
   "metadata": {},
   "source": [
    "## Import the dataset"
   ]
  },
  {
   "cell_type": "code",
   "execution_count": 2,
   "metadata": {},
   "outputs": [
    {
     "data": {
      "text/html": [
       "<div>\n",
       "<style scoped>\n",
       "    .dataframe tbody tr th:only-of-type {\n",
       "        vertical-align: middle;\n",
       "    }\n",
       "\n",
       "    .dataframe tbody tr th {\n",
       "        vertical-align: top;\n",
       "    }\n",
       "\n",
       "    .dataframe thead th {\n",
       "        text-align: right;\n",
       "    }\n",
       "</style>\n",
       "<table border=\"1\" class=\"dataframe\">\n",
       "  <thead>\n",
       "    <tr style=\"text-align: right;\">\n",
       "      <th></th>\n",
       "      <th>Overall rank</th>\n",
       "      <th>Country or region</th>\n",
       "      <th>Score</th>\n",
       "      <th>GDP per capita</th>\n",
       "      <th>Social support</th>\n",
       "      <th>Healthy life expectancy</th>\n",
       "      <th>Freedom to make life choices</th>\n",
       "      <th>Generosity</th>\n",
       "      <th>Perceptions of corruption</th>\n",
       "    </tr>\n",
       "  </thead>\n",
       "  <tbody>\n",
       "    <tr>\n",
       "      <th>0</th>\n",
       "      <td>1</td>\n",
       "      <td>Finland</td>\n",
       "      <td>7.769</td>\n",
       "      <td>1.340</td>\n",
       "      <td>1.587</td>\n",
       "      <td>0.986</td>\n",
       "      <td>0.596</td>\n",
       "      <td>0.153</td>\n",
       "      <td>0.393</td>\n",
       "    </tr>\n",
       "    <tr>\n",
       "      <th>1</th>\n",
       "      <td>2</td>\n",
       "      <td>Denmark</td>\n",
       "      <td>7.600</td>\n",
       "      <td>1.383</td>\n",
       "      <td>1.573</td>\n",
       "      <td>0.996</td>\n",
       "      <td>0.592</td>\n",
       "      <td>0.252</td>\n",
       "      <td>0.410</td>\n",
       "    </tr>\n",
       "    <tr>\n",
       "      <th>2</th>\n",
       "      <td>3</td>\n",
       "      <td>Norway</td>\n",
       "      <td>7.554</td>\n",
       "      <td>1.488</td>\n",
       "      <td>1.582</td>\n",
       "      <td>1.028</td>\n",
       "      <td>0.603</td>\n",
       "      <td>0.271</td>\n",
       "      <td>0.341</td>\n",
       "    </tr>\n",
       "    <tr>\n",
       "      <th>3</th>\n",
       "      <td>4</td>\n",
       "      <td>Iceland</td>\n",
       "      <td>7.494</td>\n",
       "      <td>1.380</td>\n",
       "      <td>1.624</td>\n",
       "      <td>1.026</td>\n",
       "      <td>0.591</td>\n",
       "      <td>0.354</td>\n",
       "      <td>0.118</td>\n",
       "    </tr>\n",
       "    <tr>\n",
       "      <th>4</th>\n",
       "      <td>5</td>\n",
       "      <td>Netherlands</td>\n",
       "      <td>7.488</td>\n",
       "      <td>1.396</td>\n",
       "      <td>1.522</td>\n",
       "      <td>0.999</td>\n",
       "      <td>0.557</td>\n",
       "      <td>0.322</td>\n",
       "      <td>0.298</td>\n",
       "    </tr>\n",
       "  </tbody>\n",
       "</table>\n",
       "</div>"
      ],
      "text/plain": [
       "   Overall rank Country or region  Score  GDP per capita  Social support  \\\n",
       "0             1           Finland  7.769           1.340           1.587   \n",
       "1             2           Denmark  7.600           1.383           1.573   \n",
       "2             3            Norway  7.554           1.488           1.582   \n",
       "3             4           Iceland  7.494           1.380           1.624   \n",
       "4             5       Netherlands  7.488           1.396           1.522   \n",
       "\n",
       "   Healthy life expectancy  Freedom to make life choices  Generosity  \\\n",
       "0                    0.986                         0.596       0.153   \n",
       "1                    0.996                         0.592       0.252   \n",
       "2                    1.028                         0.603       0.271   \n",
       "3                    1.026                         0.591       0.354   \n",
       "4                    0.999                         0.557       0.322   \n",
       "\n",
       "   Perceptions of corruption  \n",
       "0                      0.393  \n",
       "1                      0.410  \n",
       "2                      0.341  \n",
       "3                      0.118  \n",
       "4                      0.298  "
      ]
     },
     "execution_count": 2,
     "metadata": {},
     "output_type": "execute_result"
    }
   ],
   "source": [
    "df = pd.read_csv(\"2019.csv\")\n",
    "df.head()"
   ]
  },
  {
   "cell_type": "code",
   "execution_count": 4,
   "metadata": {},
   "outputs": [
    {
     "data": {
      "text/plain": [
       "<Axes: xlabel='Generosity', ylabel='Score'>"
      ]
     },
     "execution_count": 4,
     "metadata": {},
     "output_type": "execute_result"
    },
    {
     "data": {
      "image/png": "[encoded data removed]",
      "text/plain": [
       "<Figure size 640x480 with 1 Axes>"
      ]
     },
     "metadata": {},
     "output_type": "display_data"
    }
   ],
   "source": [
    "sns.scatterplot(x = \"Generosity\", y=\"Score\", data=df)"
   ]
  },
  {
   "cell_type": "markdown",
   "metadata": {},
   "source": [
    "## Relationship between Happiness score and other variables\n",
    "Here, we will be using scatter plots to have a quick look at the relationship between Happiness score of countries and other variables reported in the dataset. <br>\n",
    "What do you think about the relationship between the happiness score and the variable on the y-axis?"
   ]
  },
  {
   "cell_type": "code",
   "execution_count": 5,
   "metadata": {},
   "outputs": [
    {
     "data": {
      "text/plain": [
       "<Axes: xlabel='Healthy life expectancy', ylabel='Score'>"
      ]
     },
     "execution_count": 5,
     "metadata": {},
     "output_type": "execute_result"
    },
    {
     "data": {
      "image/png": "[encoded data removed]",
      "text/plain": [
       "<Figure size 640x480 with 1 Axes>"
      ]
     },
     "metadata": {},
     "output_type": "display_data"
    }
   ],
   "source": [
    "sns.scatterplot(x = \"Healthy life expectancy\", y=\"Score\", data=df)"
   ]
  },
  {
   "cell_type": "markdown",
   "metadata": {},
   "source": [
    "## Fit a linear regression line \"by hand\"\n",
    "Let's take a closet look at the relationship between Happiness Score and Healthy life expectancy.<br>\n",
    "We will fit a linear regression line to the data.<br>\n",
    "The formula: _y = b0 + b1*x_"
   ]
  },
  {
   "cell_type": "code",
   "execution_count": null,
   "metadata": {},
   "outputs": [],
   "source": [
    "y1 = df[\"Score\"].values\n",
    "x1 = df[\"Healthy life expectancy\"].values\n",
    "print(type(x1))"
   ]
  },
  {
   "cell_type": "code",
   "execution_count": 8,
   "metadata": {},
   "outputs": [],
   "source": [
    "def simpleRegPredict(b, x):\n",
    "    yp = b[0] + b[1] * x\n",
    "    return yp"
   ]
  },
  {
   "cell_type": "code",
   "execution_count": 9,
   "metadata": {},
   "outputs": [
    {
     "name": "stdout",
     "output_type": "stream",
     "text": [
      "[2.072 2.092 2.156 2.152 2.098 2.204 2.118 2.152 2.178 2.132 2.172 2.026\n",
      " 2.158 2.124 2.092 2.098 2.074 2.072 1.848 1.94  1.75  2.098 1.822 2.19\n",
      " 1.928 1.94  1.592 1.69  1.842 2.224 1.92  1.704 1.882 2.382 1.678 2.178\n",
      " 1.842 1.862 1.526 1.868 1.612 1.736 1.782 2.006 1.77  1.616 1.862 1.75\n",
      " 2.184 1.836 1.716 1.756 1.724 2.172 1.848 1.762 1.696 2.276 1.756 1.558\n",
      " 1.512 1.756 1.654 2.184 1.808 2.098 1.17  1.552 1.414 1.808 1.578 1.446\n",
      " 1.842 1.536 1.928 2.344 1.658 1.79  1.716 1.756 1.678 2.098 1.434 1.776\n",
      " 0.59  1.546 1.414 1.67  1.664 1.638 1.73  1.42  1.886 1.802 1.308 0.762\n",
      " 1.73  1.072 0.564 1.454 1.73  0.894 1.116 1.242 1.202 1.038 1.848 1.71\n",
      " 1.374 1.444 1.242 0.636 1.054 0.832 0.86  1.73  1.67  0.85  1.604 0.956\n",
      " 1.262 1.078 0.88  1.73  1.546 1.248 0.814 0.716 0.584 1.762 1.21  0.484\n",
      " 1.578 1.164 0.1   0.986 1.388 0.952 0.92  1.276 0.986 1.11  1.21  0.436\n",
      " 0.86  0.966 0.998 1.176 0.98  1.09  1.026 1.328 1.098 0.822 0.31  0.69 ]\n"
     ]
    }
   ],
   "source": [
    "yp1 = simpleRegPredict(b = [0.1, 2], x=x1)\n",
    "print(yp1)"
   ]
  },
  {
   "cell_type": "markdown",
   "metadata": {},
   "source": [
    "### Playing around with regression coefficients\n",
    "We'll be using the simpleregPredict function to predict y-values"
   ]
  },
  {
   "cell_type": "markdown",
   "metadata": {},
   "source": [
    "#### 1. do the scatter plot\n",
    "plot _Healthy life expectancy_ against _Score_"
   ]
  },
  {
   "cell_type": "code",
   "execution_count": 11,
   "metadata": {},
   "outputs": [],
   "source": [
    "def plotPrediction(b, x, y, predictFnc = simpleRegPredict):\n",
    "    fig = plt.figure()\n",
    "    ax = fig.add_subplot(1, 1, 1)\n",
    "    ax.scatter(x, y)\n",
    "    xp = np.linspace(min(x), max(x), num=50)\n",
    "    yp = predictFnc(b, xp)\n",
    "    return ax.plot(xp, yp, 'r')"
   ]
  },
  {
   "cell_type": "markdown",
   "metadata": {},
   "source": [
    "#### 2. plot a linear regression line \n",
    "We will do this step for different regression coefficient arrays"
   ]
  },
  {
   "cell_type": "code",
   "execution_count": 12,
   "metadata": {},
   "outputs": [
    {
     "name": "stdout",
     "output_type": "stream",
     "text": [
      "[0.         0.00736129 0.01472258 0.02208387 0.02944516 0.03680645\n",
      " 0.04416774 0.05152903 0.05889032 0.06625161 0.0736129  0.08097419\n",
      " 0.08833548 0.09569677 0.10305806 0.11041935 0.11778065 0.12514194\n",
      " 0.13250323 0.13986452 0.14722581 0.1545871  0.16194839 0.16930968\n",
      " 0.17667097 0.18403226 0.19139355 0.19875484 0.20611613 0.21347742\n",
      " 0.22083871 0.2282     0.23556129 0.24292258 0.25028387 0.25764516\n",
      " 0.26500645 0.27236774 0.27972903 0.28709032 0.29445161 0.3018129\n",
      " 0.30917419 0.31653548 0.32389677 0.33125806 0.33861935 0.34598065\n",
      " 0.35334194 0.36070323 0.36806452 0.37542581 0.3827871  0.39014839\n",
      " 0.39750968 0.40487097 0.41223226 0.41959355 0.42695484 0.43431613\n",
      " 0.44167742 0.44903871 0.4564     0.46376129 0.47112258 0.47848387\n",
      " 0.48584516 0.49320645 0.50056774 0.50792903 0.51529032 0.52265161\n",
      " 0.5300129  0.53737419 0.54473548 0.55209677 0.55945806 0.56681935\n",
      " 0.57418065 0.58154194 0.58890323 0.59626452 0.60362581 0.6109871\n",
      " 0.61834839 0.62570968 0.63307097 0.64043226 0.64779355 0.65515484\n",
      " 0.66251613 0.66987742 0.67723871 0.6846     0.69196129 0.69932258\n",
      " 0.70668387 0.71404516 0.72140645 0.72876774 0.73612903 0.74349032\n",
      " 0.75085161 0.7582129  0.76557419 0.77293548 0.78029677 0.78765806\n",
      " 0.79501935 0.80238065 0.80974194 0.81710323 0.82446452 0.83182581\n",
      " 0.8391871  0.84654839 0.85390968 0.86127097 0.86863226 0.87599355\n",
      " 0.88335484 0.89071613 0.89807742 0.90543871 0.9128     0.92016129\n",
      " 0.92752258 0.93488387 0.94224516 0.94960645 0.95696774 0.96432903\n",
      " 0.97169032 0.97905161 0.9864129  0.99377419 1.00113548 1.00849677\n",
      " 1.01585806 1.02321935 1.03058065 1.03794194 1.04530323 1.05266452\n",
      " 1.06002581 1.0673871  1.07474839 1.08210968 1.08947097 1.09683226\n",
      " 1.10419355 1.11155484 1.11891613 1.12627742 1.13363871 1.141     ]\n"
     ]
    }
   ],
   "source": [
    "x_simulated = np.linspace(min(x1), max(x1), num=len(x1))\n",
    "\n",
    "b1 = [0, 1]\n",
    "yp1 = simpleRegPredict(b = b1, x = x_simulated)\n",
    "print(yp1)"
   ]
  },
  {
   "cell_type": "markdown",
   "metadata": {},
   "source": [
    "#### 3. plot the regression line for the two regression models on top of the scatter plot\n",
    "* when plotting the linear regression, we will create a new \"x\" array and use it for plotting"
   ]
  },
  {
   "cell_type": "code",
   "execution_count": 13,
   "metadata": {},
   "outputs": [
    {
     "data": {
      "text/plain": [
       "[<matplotlib.lines.Line2D at 0x164e12820>]"
      ]
     },
     "execution_count": 13,
     "metadata": {},
     "output_type": "execute_result"
    },
    {
     "data": {
      "image/png": "[encoded data removed]",
      "text/plain": [
       "<Figure size 640x480 with 1 Axes>"
      ]
     },
     "metadata": {},
     "output_type": "display_data"
    }
   ],
   "source": [
    "plotPrediction(b1, x1, y1, predictFnc=simpleRegPredict)"
   ]
  },
  {
   "cell_type": "code",
   "execution_count": 14,
   "metadata": {},
   "outputs": [
    {
     "data": {
      "text/plain": [
       "[<matplotlib.lines.Line2D at 0x164e41b20>]"
      ]
     },
     "execution_count": 14,
     "metadata": {},
     "output_type": "execute_result"
    },
    {
     "data": {
      "image/png": "[encoded data removed]",
      "text/plain": [
       "<Figure size 640x480 with 1 Axes>"
      ]
     },
     "metadata": {},
     "output_type": "display_data"
    }
   ],
   "source": [
    "# Eye balling this better\n",
    "b2 = [3, 3.5]\n",
    "plotPrediction(b2, x1, y1, predictFnc=simpleRegPredict)"
   ]
  },
  {
   "cell_type": "code",
   "execution_count": 16,
   "metadata": {},
   "outputs": [
    {
     "name": "stdout",
     "output_type": "stream",
     "text": [
      "77.9958295\n"
     ]
    }
   ],
   "source": [
    "yp3 = simpleRegPredict(b2, x1)\n",
    "res = y1 - yp3\n",
    "res2 = res**2\n",
    "rss = sum(res2)\n",
    "print(rss)"
   ]
  },
  {
   "cell_type": "code",
   "execution_count": 17,
   "metadata": {},
   "outputs": [
    {
     "name": "stdout",
     "output_type": "stream",
     "text": [
      "3555.4587670000024\n"
     ]
    }
   ],
   "source": [
    "yp1 = simpleRegPredict(b1, x1)\n",
    "res = y1 - yp1\n",
    "res2 = res**2\n",
    "rss = sum(res2)\n",
    "print(rss)"
   ]
  },
  {
   "cell_type": "markdown",
   "metadata": {},
   "source": [
    "### Define the _Residual Sum of Squares_ loss function and its derivative\n",
    "We can go on forever, playaround with the coefficients and look at the line! But that's neither efficient nor optimal! So we will take on another approach!<br>\n",
    "We will define a __loss__ function and try to find the coefficients for which this __loss__ function becomes minimum. The function will take in the regression coefficient array, x, and y and returns both the __rss__ and __gradient__ (vector of partial derivatives).\n",
    "Then it should do the following steps:\n",
    "* use b and x as inputs to the linear regression function and get the predicted y values\n",
    "* Calculate the residual sum of squares\n",
    "* calculate the derivatives"
   ]
  },
  {
   "cell_type": "code",
   "execution_count": 18,
   "metadata": {},
   "outputs": [
    {
     "name": "stdout",
     "output_type": "stream",
     "text": [
      "40.952000000000034 28.148760000000006\n"
     ]
    }
   ],
   "source": [
    "deriv = [0,0]\n",
    "b3 = [3, 3.5]\n",
    "res = y1 - simpleRegPredict(b3, x1)\n",
    "res2 = res**2\n",
    "rss = sum(res2)\n",
    "\n",
    "deriv[0] = -2*sum(res)\n",
    "deriv[1] = -2*sum(res * x1)\n",
    "print(deriv[0], deriv[1])"
   ]
  },
  {
   "cell_type": "code",
   "execution_count": 19,
   "metadata": {},
   "outputs": [],
   "source": [
    "def simpleRegLossRSS(b, x, y):\n",
    "    predY = simpleRegPredict(b, x)\n",
    "    res = y - predY\n",
    "    rss = sum(res**2)\n",
    "\n",
    "    deriv[0] = -2*sum(res)\n",
    "    deriv[1] = -2*sum(res * x1)\n",
    "\n",
    "    return (rss, deriv)\n"
   ]
  },
  {
   "cell_type": "code",
   "execution_count": 23,
   "metadata": {},
   "outputs": [
    {
     "name": "stdout",
     "output_type": "stream",
     "text": [
      "77.9958295\n",
      "[np.float64(40.952000000000034), np.float64(28.148760000000006)]\n"
     ]
    }
   ],
   "source": [
    "RSS, gradient = simpleRegLossRSS(b3, x1, y1)\n",
    "print(RSS)\n",
    "print(gradient)"
   ]
  },
  {
   "cell_type": "markdown",
   "metadata": {},
   "source": [
    "#### Calculate the derivatives of rss with respect to each coefficients\n",
    "As we are trying to find the parameters for which the __loss__ function is minimized, we will take the derivative of the __loss__ function with respect to each coef.<br>\n",
    "Lets derive the derivatives:<br>\n",
    "y_predicted = b0+b1*x\n",
    "\n",
    "RSS = sum((y1 - y_predicted)**2)\n",
    "\n",
    "RSS = sum((y1 - (b0 + b1*x))**2)"
   ]
  },
  {
   "cell_type": "code",
   "execution_count": null,
   "metadata": {},
   "outputs": [],
   "source": []
  },
  {
   "cell_type": "code",
   "execution_count": null,
   "metadata": {},
   "outputs": [],
   "source": []
  },
  {
   "cell_type": "code",
   "execution_count": null,
   "metadata": {},
   "outputs": [],
   "source": []
  },
  {
   "cell_type": "code",
   "execution_count": null,
   "metadata": {},
   "outputs": [],
   "source": []
  },
  {
   "cell_type": "markdown",
   "metadata": {},
   "source": [
    "#### Increase the parameter or decrease it?\n",
    "Based on the derivatives would you increase the parameter or decrease it?"
   ]
  },
  {
   "cell_type": "code",
   "execution_count": null,
   "metadata": {},
   "outputs": [],
   "source": []
  },
  {
   "cell_type": "markdown",
   "metadata": {},
   "source": [
    "### Using scipy.optimize.minimize to fit the linear regression line\n",
    "Again, we can go on and on and try out different parameters to see which one is giving us the best answer (is the __loss__ getting smaller and smaller as you change the parameters?) <br>\n",
    "Scipy provides you with a method to minimize the loss function. Make sure you go through the documentation:<br>\n",
    "https://docs.scipy.org/doc/scipy/reference/generated/scipy.optimize.minimize.html <br>\n",
    "Make sure you go through the document and understand the output fields"
   ]
  },
  {
   "cell_type": "code",
   "execution_count": 21,
   "metadata": {},
   "outputs": [],
   "source": [
    "import scipy.optimize as so"
   ]
  },
  {
   "cell_type": "code",
   "execution_count": 25,
   "metadata": {},
   "outputs": [
    {
     "data": {
      "text/plain": [
       "  message: Optimization terminated successfully.\n",
       "  success: True\n",
       "   status: 0\n",
       "      fun: 75.2420032886066\n",
       "        x: [ 2.807e+00  3.585e+00]\n",
       "      nit: 5\n",
       "      jac: [-1.776e-15  9.992e-15]\n",
       " hess_inv: [[ 3.215e-02 -3.991e-02]\n",
       "            [-3.991e-02  5.503e-02]]\n",
       "     nfev: 7\n",
       "     njev: 7"
      ]
     },
     "execution_count": 25,
     "metadata": {},
     "output_type": "execute_result"
    }
   ],
   "source": [
    "loss_fcn = simpleRegLossRSS\n",
    "\n",
    "b0 = np.zeros(2)\n",
    "RESULT = so.minimize(loss_fcn, b0, args = (x1, y1), jac = True)\n",
    "\n",
    "RESULT"
   ]
  },
  {
   "cell_type": "code",
   "execution_count": 28,
   "metadata": {},
   "outputs": [
    {
     "data": {
      "text/plain": [
       "array([2.80683162, 3.58536714])"
      ]
     },
     "execution_count": 28,
     "metadata": {},
     "output_type": "execute_result"
    }
   ],
   "source": [
    "b = RESULT.x\n",
    "b"
   ]
  },
  {
   "cell_type": "code",
   "execution_count": 30,
   "metadata": {},
   "outputs": [
    {
     "data": {
      "text/plain": [
       "[<matplotlib.lines.Line2D at 0x1652d71c0>]"
      ]
     },
     "execution_count": 30,
     "metadata": {},
     "output_type": "execute_result"
    },
    {
     "data": {
      "image/png": "[encoded data removed]",
      "text/plain": [
       "<Figure size 640x480 with 1 Axes>"
      ]
     },
     "metadata": {},
     "output_type": "display_data"
    }
   ],
   "source": [
    "plotPrediction(b, x1, y1, predictFnc=simpleRegPredict)"
   ]
  },
  {
   "cell_type": "markdown",
   "metadata": {},
   "source": [
    "### Calculating R2 \n",
    "R2 = 1 - (RSS/TSS) <br>\n",
    "* TSS is the total sum of squares\n",
    "* RSS is the residual sum of squares"
   ]
  },
  {
   "cell_type": "code",
   "execution_count": 37,
   "metadata": {},
   "outputs": [
    {
     "name": "stdout",
     "output_type": "stream",
     "text": [
      "0.5938786572446549\n"
     ]
    }
   ],
   "source": [
    "TSS = sum((y1 - np.mean(y1))**2)\n",
    "R2 = 1 - (rss/TSS)\n",
    "print(R2)"
   ]
  },
  {
   "cell_type": "code",
   "execution_count": null,
   "metadata": {},
   "outputs": [],
   "source": []
  },
  {
   "cell_type": "markdown",
   "metadata": {},
   "source": [
    "What does a $R^2$ of 0.61 mean? "
   ]
  },
  {
   "cell_type": "markdown",
   "metadata": {},
   "source": [
    "### This is just a check to see if our code is working fine (delete): \n",
    "You can skip this in the lab - sklearn won't be allowed until DS3000. "
   ]
  },
  {
   "cell_type": "code",
   "execution_count": null,
   "metadata": {},
   "outputs": [],
   "source": []
  },
  {
   "cell_type": "code",
   "execution_count": null,
   "metadata": {},
   "outputs": [],
   "source": []
  },
  {
   "cell_type": "code",
   "execution_count": null,
   "metadata": {},
   "outputs": [],
   "source": []
  },
  {
   "cell_type": "code",
   "execution_count": null,
   "metadata": {},
   "outputs": [],
   "source": []
  },
  {
   "cell_type": "code",
   "execution_count": null,
   "metadata": {},
   "outputs": [],
   "source": []
  }
 ],
 "metadata": {
  "kernelspec": {
   "display_name": "Python 3",
   "language": "python",
   "name": "python3"
  },
  "language_info": {
   "codemirror_mode": {
    "name": "ipython",
    "version": 3
   },
   "file_extension": ".py",
   "mimetype": "text/x-python",
   "name": "python",
   "nbconvert_exporter": "python",
   "pygments_lexer": "ipython3",
   "version": "3.9.6"
  }
 },
 "nbformat": 4,
 "nbformat_minor": 4
}
