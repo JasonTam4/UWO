{
 "cells": [
  {
   "cell_type": "markdown",
   "metadata": {},
   "source": [
    "# Midterm Data Science 2000 / Integrated Science 2002\n",
    "## Student ID: xxxxxx\n",
    "## General comments \n",
    "This Midterm integrates knowledge and skills acquired in the first half of the semester, especially in first 6 Assignments. You are allowed to use any document and source on your computer and look up documents on the internet. **You or not allowed to share documents, or communicate in any other way with people inside or outside the class room during the midterm. You are not allowed to use ChatGPT, co-pilot or any other similar AI - so if you IDE has a copilot plugin, disable it. If you get caught with the plugin enabled, it will be reported as academic dishonesty.**\n",
    "\n",
    "You need to submit the midterm by the due date (12:20) on OWL under Gradescope/Midterm_OpenBook. Late submission will be scored with 0 pts, unless you have received extra accommodation. So please start your submission five minutes before the deadline!  \n",
    "\n",
    "### Additional Guidance\n",
    "The midterm is supposed to be challenging (especially Question 9). If you get stuck on a particular question because you can't solve a programming problem, just write down in text *how* you would try to solve the problem - if correct this can give you partial points. Then continue the other parts of the question, the next question, or next task. The midterm is designed, such that the solutions do not require that the previous question is solved correctly. \n",
    "If you need the solution from a previous problem, just *assume* some outcome and answer the question under that assumption. If you do this, make your assumptions explicit. \n",
    "\n",
    "Read all the questions carefully. Most questions demands a written answer as part of it. These need to be spelled out in a whole English sentence. \n",
    "\n",
    "To finish the midterm in the alloted time, you will have to work fast and efficiently. Good luck!\n",
    "\n",
    "## General grading criteria \n",
    "- The code must be working - if you are instructed to test the function, the output needs to the shown. \n",
    "- Results should be reported in understandable sentences. \n",
    "- Results should be reported rounded to a reasonable number of decimals\n",
    "- x and y axes should be labeled in plots.\n",
    "- Each Figure should have a text caption that explains what is displayed in the Figure (type of plot, x,y, grouping variables)\n",
    "\n",
    "\n",
    "## Preliminaries\n",
    "You are allowed to use the following packages in python, but no other packages. "
   ]
  },
  {
   "cell_type": "code",
   "execution_count": null,
   "metadata": {},
   "outputs": [],
   "source": [
    "import matplotlib.pyplot as plt\n",
    "import scipy.stats as ss\n",
    "import pandas as pd\n",
    "import numpy as np\n",
    "import seaborn as sb"
   ]
  },
  {
   "cell_type": "markdown",
   "metadata": {},
   "source": [
    "## Data set \n",
    "The data set comes from a study looking at how action video-gaming influences visual processing - and how these effect interact with the intake of performance-enhancing drugs (in this case caffeine). The study recruited 100 undergraduate students with minimal experience in video gaming. The students were randomly assigned to one of two groups. The Experimental group played a First-person shooter game (FPS) for 30 hours over 4 weeks. The control group played a non-action role-playing game (RPG) for the same amount of time. \n",
    "\n",
    "The authors also asked the participants whether they regularly use high doses of caffeine (>40mg per day, i.e. 3 Espresso shots or 1 High-caffeine energy drink) while studying. They instructed the participants to follow their normal intake of caffeine during the gaming and during the final attention test. The authors used  caffeine intake as a blocking variable during the random assignment.\n",
    "\n",
    "The participants were tested on a peripheral visual attention task after the 4 weeks of gaming. In this task, they had to read sentences presented in the middle of the screen and at the same time detect the presence small targets in the visual periphery, but ignore distractors. A higher score on this task indicates better ability to process visual information across the entire visual field in parallel. \n",
    "\n",
    "The data frame contains the data fields\n",
    "- video_game: \t    Whether the participant played a First-person shooter game (FPS) or a non-action role-playing game (RPG).\n",
    "- age:   \t\t    Age of the person in years \n",
    "- caffeine:\t\t\tCaffeine intake per day during the study (0: < 20mg. 1 > 40mg)\n",
    "- attention_score: \tScore in the visual attention task, high scores indicate better performance   \n"
   ]
  },
  {
   "cell_type": "markdown",
   "metadata": {},
   "source": [
    "\n",
    "## Question 1 (5pt)\n",
    "Load the video_game_study.csv file and generate a bar plot, which shows the mean of attention scores for the two video game groups, separately for subjects with low and high caffeine intake."
   ]
  },
  {
   "cell_type": "code",
   "execution_count": null,
   "metadata": {},
   "outputs": [],
   "source": []
  },
  {
   "cell_type": "markdown",
   "metadata": {},
   "source": []
  },
  {
   "cell_type": "markdown",
   "metadata": {},
   "source": [
    "## Question 2 (4pts)\n",
    "Which of the two video game groups has a higher attention score? Which one of the two caffeine groups has a higher attention score? If these effects were significant, could you conclude that playing a FPS game (causally) improves attention scores? Could you conclude that that taking more than 40mg of caffeine (causally) improves attention score? "
   ]
  },
  {
   "cell_type": "markdown",
   "metadata": {},
   "source": []
  },
  {
   "cell_type": "markdown",
   "metadata": {},
   "source": [
    "## Question 3 (4pts)\n",
    "Generate a box-plot the ages of the participants in the two groups.\n",
    "What is the video-game group of the oldest participant? What is the caffeine group of the oldest participant? "
   ]
  },
  {
   "cell_type": "code",
   "execution_count": null,
   "metadata": {},
   "outputs": [],
   "source": []
  },
  {
   "cell_type": "markdown",
   "metadata": {},
   "source": []
  },
  {
   "cell_type": "markdown",
   "metadata": {},
   "source": []
  },
  {
   "cell_type": "markdown",
   "metadata": {},
   "source": [
    "## Question 4 (4pts)\n",
    "Check whether the authors of the study were successful in using caffeine intake as a blocking variable. Show the code that you used to check this. Did they do it correctly? \n"
   ]
  },
  {
   "cell_type": "code",
   "execution_count": null,
   "metadata": {},
   "outputs": [],
   "source": []
  },
  {
   "cell_type": "markdown",
   "metadata": {},
   "source": []
  },
  {
   "cell_type": "markdown",
   "metadata": {},
   "source": [
    "## Question 5 (3pt)\n",
    "We want to use a frequentist approach to test the hypothesis that 30hrs of playing a first-person shooter game increases the attention score on the visual attention test. \n",
    "Formulate the alternative hypothesis. and null hypothesis for this test. For this test, we will ignore the influence of caffeine intake."
   ]
  },
  {
   "cell_type": "markdown",
   "metadata": {},
   "source": []
  },
  {
   "cell_type": "markdown",
   "metadata": {},
   "source": [
    "## Question 6 (4pts)\n",
    "Write a function that calculates the mean difference in the attention score between the FPS and RPG groups. Positive values should refer to the FPS group having a higher attention score. Test the function with the data set and report the mean difference. "
   ]
  },
  {
   "cell_type": "code",
   "execution_count": null,
   "metadata": {},
   "outputs": [],
   "source": []
  },
  {
   "cell_type": "markdown",
   "metadata": {},
   "source": [
    "## Question 7 (9pt)\n",
    "Perform a randomization test to test whether you can reject the Null-hypothesis formulated in Question 5. Your code should produce a figure that shows the distribution of chosen test statistics under the Null hypothesis, as well as the empirical value as a vertical line.  Remember to provide axis labels and a caption. \n",
    "Written answer: Report the value of the statistics and the associated p-value, using at least 5000 iterations. What do you conclude regarding the hypotheses formulated above, using a significance threshold of p=0.05? "
   ]
  },
  {
   "cell_type": "code",
   "execution_count": null,
   "metadata": {},
   "outputs": [],
   "source": []
  },
  {
   "cell_type": "code",
   "execution_count": null,
   "metadata": {},
   "outputs": [],
   "source": []
  },
  {
   "cell_type": "markdown",
   "metadata": {},
   "source": []
  },
  {
   "cell_type": "markdown",
   "metadata": {},
   "source": []
  },
  {
   "cell_type": "markdown",
   "metadata": {},
   "source": [
    "## Question 8 (9pt)\n",
    "There maybe a difference in how video games influence attention score, depending on caffeine intake. Perform the permutation test for participants for the group that consumed caffeine and the group that did not consume caffeine during the attention test separately. You can skip a caption if you plot a histogram, but the p-value for each group needs to be clearly reported.  \n",
    "\n",
    "Written answer: Conclude for each group separately whether you can reject the null hypothesis that playing the FPS game increases the attention score - again use a significance threshold of p=0.05.\n",
    "Why does the conclusion seem logically inconsistent with the results of the test in Question 7?\n",
    "What are possible reasons for this inconsistency?"
   ]
  },
  {
   "cell_type": "code",
   "execution_count": null,
   "metadata": {},
   "outputs": [],
   "source": []
  },
  {
   "cell_type": "code",
   "execution_count": null,
   "metadata": {},
   "outputs": [],
   "source": []
  },
  {
   "cell_type": "markdown",
   "metadata": {},
   "source": []
  },
  {
   "cell_type": "markdown",
   "metadata": {},
   "source": [
    "## Question 9 (8pts)\n",
    "In the randomization test performed in Question 7, you were instructed to ignore the caffeine intake and simply shuffle the group assignment of the participants. However, the authors of the study were careful to balance the number of caffeine users and non-users in the two groups (they blocked for caffeine intake). \n",
    "\n",
    "Written answer: What is consequence ignoring the blocking variable in the randomization test in Question 7? How does will this likely change our distribution of the test statistics? What is the influence on our p-value? \n",
    "\n",
    "To test the effect of video-gaming on the attention score overall, the best way however, is to perform and permutation test that takes into account the blocking variable. Write a function that performs a permutation test for the difference in attention score between the two groups, ensuring that the number of caffeine users and non-users is the same in the two groups. Test the function with the data set and report the results. "
   ]
  },
  {
   "cell_type": "markdown",
   "metadata": {},
   "source": [
    "By ignoring the blocking variable, the assignment of the caffeine users and non-users to the video game groups **is not the same in each iteration of the permutation test.** [1pt] \n",
    "\n",
    "Because caffeine appears to have an influence on attention score, this could **increase the variability of the test statistics in the permutation test** [1pt],\n",
    "\n",
    " leading to a **higher p-value.** [1pt]"
   ]
  },
  {
   "cell_type": "code",
   "execution_count": null,
   "metadata": {},
   "outputs": [],
   "source": []
  },
  {
   "cell_type": "code",
   "execution_count": null,
   "metadata": {},
   "outputs": [],
   "source": []
  },
  {
   "cell_type": "markdown",
   "metadata": {},
   "source": []
  }
 ],
 "metadata": {
  "kernelspec": {
   "display_name": "base",
   "language": "python",
   "name": "python3"
  },
  "language_info": {
   "codemirror_mode": {
    "name": "ipython",
    "version": 3
   },
   "file_extension": ".py",
   "mimetype": "text/x-python",
   "name": "python",
   "nbconvert_exporter": "python",
   "pygments_lexer": "ipython3",
   "version": "3.9.5"
  },
  "vscode": {
   "interpreter": {
    "hash": "3d597f4c481aa0f25dceb95d2a0067e73c0966dcbd003d741d821a7208527ecf"
   }
  }
 },
 "nbformat": 4,
 "nbformat_minor": 1
}
