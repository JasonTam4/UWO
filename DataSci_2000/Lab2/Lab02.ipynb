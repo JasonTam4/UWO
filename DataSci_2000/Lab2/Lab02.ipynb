{
 "cells": [
  {
   "cell_type": "markdown",
   "metadata": {},
   "source": [
    "# Lab Tutorial 02\n",
    "### Learning Outcomes \n",
    "In this tutorial we will learn \n",
    "- to create 2D numpy arrays and work with them\n",
    "- how to use plt.subplots to have multiple plots\n",
    "- about n-dimensional numpy arrays\n",
    "- how to create a contingency table and work with it\n",
    "- how to group data by a specific variable (like gender)\n",
    "\n",
    "We will be using the student performance dataset found here:\\\n",
    "https://www.kaggle.com/spscientist/students-performance-in-exams"
   ]
  },
  {
   "cell_type": "markdown",
   "metadata": {},
   "source": [
    "<font color = 'red'> __TALK ABOUT NAN VALUES AND HOW USING PD.CROSSTAB HANDLES THEM. FEW STUDENTS USED THEIR OWN METHOD FOR CALCULATING THE PROBABILITIES IN TASK 3. THEIR METHOD DID NOT HANDLE THE NAN PROBLEM AND THEY GOT DIFFERENT ANSWERS. EMPHASIZE WHAT NANS ARE AND HOW IMPORTANT IT IS TO HANDLE THEM. I HAVE ADDED THE NOTEBOOK FOR ONE OF THE STUDENTS THAT USED A METHOD OTHER THAN PD.CROSSTAB__"
   ]
  },
  {
   "cell_type": "markdown",
   "metadata": {},
   "source": [
    "## importing packages\n"
   ]
  },
  {
   "cell_type": "code",
   "execution_count": 2,
   "metadata": {},
   "outputs": [],
   "source": [
    "import pandas as pd\n",
    "import numpy as np\n",
    "\n",
    "import seaborn as sns\n",
    "import matplotlib\n",
    "import matplotlib.pyplot as plt \n",
    "%matplotlib inline"
   ]
  },
  {
   "cell_type": "markdown",
   "metadata": {},
   "source": [
    "# Python prerequisites"
   ]
  },
  {
   "cell_type": "markdown",
   "metadata": {},
   "source": [
    "## Working with n-dimensional numpy arrays"
   ]
  },
  {
   "cell_type": "markdown",
   "metadata": {},
   "source": [
    "### different ways to create n-dimensional arrays"
   ]
  },
  {
   "cell_type": "code",
   "execution_count": 3,
   "metadata": {},
   "outputs": [
    {
     "name": "stdout",
     "output_type": "stream",
     "text": [
      "[[0. 0. 0. 0.]\n",
      " [0. 0. 0. 0.]\n",
      " [0. 0. 0. 0.]\n",
      " [0. 0. 0. 0.]] 4 4\n"
     ]
    }
   ],
   "source": [
    "# all zeros\n",
    "myZeros = np.zeros((4, 4))\n",
    "[r, c] = myZeros.shape\n",
    "print(myZeros,r,c)"
   ]
  },
  {
   "cell_type": "code",
   "execution_count": 16,
   "metadata": {},
   "outputs": [
    {
     "name": "stdout",
     "output_type": "stream",
     "text": [
      "[[1 2 3]\n",
      " [2 3 5]] 2 3\n"
     ]
    }
   ],
   "source": [
    "myArray = np.array([[1, 2, 3],[2, 3, 5]])\n",
    "[r,c] = myArray.shape \n",
    "print(myArray,r,c)"
   ]
  },
  {
   "cell_type": "code",
   "execution_count": 5,
   "metadata": {},
   "outputs": [
    {
     "name": "stdout",
     "output_type": "stream",
     "text": [
      "[[1 2 3]\n",
      " [2 3 5]] 2 3\n"
     ]
    }
   ],
   "source": [
    "# your array\n",
    "myArray = np.array([[1, 2, 3],[2, 3, 5]])\n",
    "[r, c] = myArray.shape\n",
    "print(myArray,r,c) "
   ]
  },
  {
   "cell_type": "code",
   "execution_count": 19,
   "metadata": {},
   "outputs": [],
   "source": [
    "random_1 = np.random.normal(size = 4)"
   ]
  },
  {
   "cell_type": "code",
   "execution_count": 20,
   "metadata": {},
   "outputs": [],
   "source": [
    "random_2 = np.random.normal(size = 4)"
   ]
  },
  {
   "cell_type": "code",
   "execution_count": 22,
   "metadata": {},
   "outputs": [],
   "source": [
    "myArray2 = np.array([random_1,random_2])"
   ]
  },
  {
   "cell_type": "code",
   "execution_count": 6,
   "metadata": {},
   "outputs": [
    {
     "name": "stdout",
     "output_type": "stream",
     "text": [
      "[[-0.81064903  1.4894682   1.61878088  0.92864475]\n",
      " [-0.11232611 -1.23924983  0.66638017 -0.6156785 ]] 2 4\n"
     ]
    }
   ],
   "source": [
    "# array of random numbers\n",
    "myArray2 = np.array([np.random.normal(size = 4), np.random.normal(size = 4)])\n",
    "[r, c] = myArray2.shape\n",
    "print(myArray2,r,c)  \n"
   ]
  },
  {
   "cell_type": "code",
   "execution_count": 77,
   "metadata": {},
   "outputs": [
    {
     "name": "stdout",
     "output_type": "stream",
     "text": [
      "[[1. 1. 1. 1.]\n",
      " [1. 1. 1. 1.]\n",
      " [1. 1. 1. 1.]\n",
      " [1. 1. 1. 1.]] 4 4\n"
     ]
    }
   ],
   "source": [
    "# all ones\n",
    "myOnes = np.ones((4, 4))\n",
    "[r, c] = myOnes.shape\n",
    "print(myOnes,r,c)  "
   ]
  },
  {
   "cell_type": "markdown",
   "metadata": {},
   "source": [
    "## indexing rows and columns of a 2D array"
   ]
  },
  {
   "cell_type": "code",
   "execution_count": 35,
   "metadata": {},
   "outputs": [
    {
     "data": {
      "text/plain": [
       "array([30, 40, 50])"
      ]
     },
     "execution_count": 35,
     "metadata": {},
     "output_type": "execute_result"
    }
   ],
   "source": [
    "# more on indexing 1D arrays first \n",
    "arr = np.array([10, 20, 30, 40, 50]) \n",
    "arr[4]  ## arr[4] = arr[-1] , arr[0] = arr[-5]  \n",
    "arr[arr > 25] "
   ]
  },
  {
   "cell_type": "code",
   "execution_count": 56,
   "metadata": {},
   "outputs": [
    {
     "name": "stdout",
     "output_type": "stream",
     "text": [
      "[[1 2 3]\n",
      " [4 5 6]\n",
      " [7 8 9]]\n",
      "1\n",
      "2\n",
      "5\n",
      "[1 2 3]\n",
      "[1 4 7]\n"
     ]
    }
   ],
   "source": [
    "# indexing 2D array \n",
    "array_2d = np.array([[1,2,3],[4,5,6],[7,8,9]]) \n",
    "print(matrix) \n",
    "\n",
    "print(matrix[0,0]) # output:1\n",
    "print(matrix[0,1]) # output:2\n",
    "print(matrix[1,1]) # output:5\n",
    "\n",
    "print(matrix[0,:]) # output:[1,2,3] : extract 1st row \n",
    "print(matrix[:,0]) # output:[1,4,7] : extract 1st column "
   ]
  },
  {
   "cell_type": "code",
   "execution_count": 54,
   "metadata": {},
   "outputs": [
    {
     "name": "stdout",
     "output_type": "stream",
     "text": [
      "[[1 2 3]\n",
      " [4 5 6]]\n",
      "[[2 3]\n",
      " [5 6]\n",
      " [8 9]]\n",
      "[[2 3]\n",
      " [5 6]]\n"
     ]
    }
   ],
   "source": [
    "print(matrix[0:2,:]) # never include index 2 \n",
    "print(matrix[:,1:3]) \n",
    "\n",
    "print(matrix[0:2,1:3]) ## first 2 rows, last 2 columns"
   ]
  },
  {
   "cell_type": "markdown",
   "metadata": {},
   "source": [
    "### looping through elements of a 2D array"
   ]
  },
  {
   "cell_type": "code",
   "execution_count": 70,
   "metadata": {},
   "outputs": [
    {
     "data": {
      "text/plain": [
       "(3, 3)"
      ]
     },
     "execution_count": 70,
     "metadata": {},
     "output_type": "execute_result"
    }
   ],
   "source": [
    "array_2d.shape"
   ]
  },
  {
   "cell_type": "code",
   "execution_count": 59,
   "metadata": {},
   "outputs": [
    {
     "name": "stdout",
     "output_type": "stream",
     "text": [
      "Element at (0,0):1\n",
      "Element at (0,1):2\n",
      "Element at (0,2):3\n",
      "Element at (1,0):4\n",
      "Element at (1,1):5\n",
      "Element at (1,2):6\n",
      "Element at (2,0):7\n",
      "Element at (2,1):8\n",
      "Element at (2,2):9\n"
     ]
    }
   ],
   "source": [
    "# Looping throw rows and columns using two for-loops\n",
    "for row in range(array_2d.shape[0]): # loop the rows \n",
    "    for col in range(array_2d.shape[1]):\n",
    "        print(f\"Element at ({row},{col}):{array_2d[row,col]}\")"
   ]
  },
  {
   "cell_type": "markdown",
   "metadata": {},
   "source": [
    "## String formatting and print statements using f-strings"
   ]
  },
  {
   "cell_type": "code",
   "execution_count": 78,
   "metadata": {},
   "outputs": [
    {
     "name": "stdout",
     "output_type": "stream",
     "text": [
      "Hello Good morning\n",
      "the integer is 2 (using d)\n",
      "the integer is 2.000000 (using f)\n",
      "the integer is 2.00 (f with places before and after decimal points)\n",
      "\n",
      "the number is 0.200000 (using f)\n",
      "the number is 0.20 (f with places before and after decimal points)\n",
      "\n",
      "the number is 0.333333 (using f)\n",
      "the number is 0.33 (f with places before and after decimal points)\n",
      "\n",
      "myOnes variable is a <class 'numpy.ndarray'> variable\n"
     ]
    }
   ],
   "source": [
    "# String formatting: https://www.w3schools.com/python/python_string_formatting.asp\n",
    "\n",
    "string = 'Hello'\n",
    "print(f\"{string} Good morning\")\n",
    "\n",
    "integer = 2\n",
    "print(f\"the integer is {integer:d} (using d)\" )\n",
    "print(f\"the integer is {integer:f} (using f)\" )\n",
    "print(f\"the integer is {integer:4.2f} (f with places before and after decimal points)\\n\" )\n",
    "\n",
    "number = 0.2\n",
    "print(f\"the number is {number:f} (using f)\" )\n",
    "print(f\"the number is {number:4.2f} (f with places before and after decimal points)\\n\" )\n",
    "\n",
    "number = 1/3\n",
    "print(f\"the number is {number:f} (using f)\" )\n",
    "print(f\"the number is {number:4.2f} (f with places before and after decimal points)\\n\" )\n",
    "\n",
    "# how to have nice print statements\n",
    "## * Use print statements to check the code\n",
    "print(f\"myOnes variable is a {type(myOnes)} variable\")"
   ]
  },
  {
   "cell_type": "markdown",
   "metadata": {},
   "source": [
    "# The Student performance datasete"
   ]
  },
  {
   "cell_type": "markdown",
   "metadata": {},
   "source": [
    "## load in the dataset"
   ]
  },
  {
   "cell_type": "code",
   "execution_count": 81,
   "metadata": {
    "scrolled": true
   },
   "outputs": [
    {
     "data": {
      "text/html": [
       "<div>\n",
       "<style scoped>\n",
       "    .dataframe tbody tr th:only-of-type {\n",
       "        vertical-align: middle;\n",
       "    }\n",
       "\n",
       "    .dataframe tbody tr th {\n",
       "        vertical-align: top;\n",
       "    }\n",
       "\n",
       "    .dataframe thead th {\n",
       "        text-align: right;\n",
       "    }\n",
       "</style>\n",
       "<table border=\"1\" class=\"dataframe\">\n",
       "  <thead>\n",
       "    <tr style=\"text-align: right;\">\n",
       "      <th></th>\n",
       "      <th>gender</th>\n",
       "      <th>race/ethnicity</th>\n",
       "      <th>parental level of education</th>\n",
       "      <th>lunch</th>\n",
       "      <th>test preparation course</th>\n",
       "      <th>math score</th>\n",
       "      <th>reading score</th>\n",
       "      <th>writing score</th>\n",
       "    </tr>\n",
       "  </thead>\n",
       "  <tbody>\n",
       "    <tr>\n",
       "      <th>0</th>\n",
       "      <td>female</td>\n",
       "      <td>group B</td>\n",
       "      <td>bachelor's degree</td>\n",
       "      <td>standard</td>\n",
       "      <td>none</td>\n",
       "      <td>72</td>\n",
       "      <td>72</td>\n",
       "      <td>74</td>\n",
       "    </tr>\n",
       "    <tr>\n",
       "      <th>1</th>\n",
       "      <td>female</td>\n",
       "      <td>group C</td>\n",
       "      <td>some college</td>\n",
       "      <td>standard</td>\n",
       "      <td>completed</td>\n",
       "      <td>69</td>\n",
       "      <td>90</td>\n",
       "      <td>88</td>\n",
       "    </tr>\n",
       "    <tr>\n",
       "      <th>2</th>\n",
       "      <td>female</td>\n",
       "      <td>group B</td>\n",
       "      <td>master's degree</td>\n",
       "      <td>standard</td>\n",
       "      <td>none</td>\n",
       "      <td>90</td>\n",
       "      <td>95</td>\n",
       "      <td>93</td>\n",
       "    </tr>\n",
       "    <tr>\n",
       "      <th>3</th>\n",
       "      <td>male</td>\n",
       "      <td>group A</td>\n",
       "      <td>associate's degree</td>\n",
       "      <td>free/reduced</td>\n",
       "      <td>none</td>\n",
       "      <td>47</td>\n",
       "      <td>57</td>\n",
       "      <td>44</td>\n",
       "    </tr>\n",
       "    <tr>\n",
       "      <th>4</th>\n",
       "      <td>male</td>\n",
       "      <td>group C</td>\n",
       "      <td>some college</td>\n",
       "      <td>standard</td>\n",
       "      <td>none</td>\n",
       "      <td>76</td>\n",
       "      <td>78</td>\n",
       "      <td>75</td>\n",
       "    </tr>\n",
       "  </tbody>\n",
       "</table>\n",
       "</div>"
      ],
      "text/plain": [
       "   gender race/ethnicity parental level of education         lunch  \\\n",
       "0  female        group B           bachelor's degree      standard   \n",
       "1  female        group C                some college      standard   \n",
       "2  female        group B             master's degree      standard   \n",
       "3    male        group A          associate's degree  free/reduced   \n",
       "4    male        group C                some college      standard   \n",
       "\n",
       "  test preparation course  math score  reading score  writing score  \n",
       "0                    none          72             72             74  \n",
       "1               completed          69             90             88  \n",
       "2                    none          90             95             93  \n",
       "3                    none          47             57             44  \n",
       "4                    none          76             78             75  "
      ]
     },
     "metadata": {},
     "output_type": "display_data"
    },
    {
     "data": {
      "text/plain": [
       "Index(['gender', 'race/ethnicity', 'parental level of education', 'lunch',\n",
       "       'test preparation course', 'math score', 'reading score',\n",
       "       'writing score'],\n",
       "      dtype='object')"
      ]
     },
     "execution_count": 81,
     "metadata": {},
     "output_type": "execute_result"
    }
   ],
   "source": [
    "# load, display, get the columns and rows\n",
    "df = pd.read_csv('StudentsPerformance.csv')\n",
    "display(df.head())\n",
    "df.columns"
   ]
  },
  {
   "cell_type": "code",
   "execution_count": 84,
   "metadata": {},
   "outputs": [
    {
     "data": {
      "text/plain": [
       "<seaborn.axisgrid.FacetGrid at 0x7f835baa1f10>"
      ]
     },
     "execution_count": 84,
     "metadata": {},
     "output_type": "execute_result"
    },
    {
     "data": {
      "image/png": "[encoded data removed]",
      "text/plain": [
       "<Figure size 500x500 with 1 Axes>"
      ]
     },
     "metadata": {},
     "output_type": "display_data"
    }
   ],
   "source": [
    "# PLOT HSITOFRAMS OF SOME COLUMS \n",
    "\n",
    "ax = sns.displot(df['math score']) \n",
    "# Add title and labels\n",
    "ax.set(title=\"histogram Plot\", xlabel=\"xlabel\", ylabel=\"ylabel\")"
   ]
  },
  {
   "cell_type": "markdown",
   "metadata": {},
   "source": [
    "## Creating contingency tables"
   ]
  },
  {
   "cell_type": "markdown",
   "metadata": {},
   "source": [
    "### getting help from documents\n",
    "if you google pandas crosstab, you'll see that there are two links: one for pandas version 0.25.3 and another for pandas version 0.23.4. \n",
    "* https://pandas.pydata.org/pandas-docs/version/0.23.4/generated/pandas.crosstab.html\n",
    "* https://pandas.pydata.org/pandas-docs/stable/reference/api/pandas.crosstab.html\n",
    "\n",
    "Which one do you use? To answer that first you need to find your version of Pandas."
   ]
  },
  {
   "cell_type": "code",
   "execution_count": 85,
   "metadata": {},
   "outputs": [
    {
     "data": {
      "text/plain": [
       "'1.4.4'"
      ]
     },
     "execution_count": 85,
     "metadata": {},
     "output_type": "execute_result"
    }
   ],
   "source": [
    "# finding the version of Pandas installed\n",
    "pd.__version__"
   ]
  },
  {
   "cell_type": "markdown",
   "metadata": {},
   "source": [
    "Now what? my installed version is different from the versions that came up in google search. Two ways to work around:\n",
    "* google pandas crosstab 0.25.1 (or whatever your version of pandas is)\n",
    "* google the versions: 0.25.1 and 0.25.3:\n",
    "https://pandas.pydata.org/pandas-docs/version/0.25/whatsnew/v0.25.3.html"
   ]
  },
  {
   "cell_type": "code",
   "execution_count": 89,
   "metadata": {},
   "outputs": [
    {
     "name": "stdout",
     "output_type": "stream",
     "text": [
      "table variable is of type <class 'pandas.core.frame.DataFrame'>\n"
     ]
    },
    {
     "data": {
      "text/html": [
       "<div>\n",
       "<style scoped>\n",
       "    .dataframe tbody tr th:only-of-type {\n",
       "        vertical-align: middle;\n",
       "    }\n",
       "\n",
       "    .dataframe tbody tr th {\n",
       "        vertical-align: top;\n",
       "    }\n",
       "\n",
       "    .dataframe thead th {\n",
       "        text-align: right;\n",
       "    }\n",
       "</style>\n",
       "<table border=\"1\" class=\"dataframe\">\n",
       "  <thead>\n",
       "    <tr style=\"text-align: right;\">\n",
       "      <th>test preparation course</th>\n",
       "      <th>completed</th>\n",
       "      <th>none</th>\n",
       "      <th>All</th>\n",
       "    </tr>\n",
       "    <tr>\n",
       "      <th>gender</th>\n",
       "      <th></th>\n",
       "      <th></th>\n",
       "      <th></th>\n",
       "    </tr>\n",
       "  </thead>\n",
       "  <tbody>\n",
       "    <tr>\n",
       "      <th>female</th>\n",
       "      <td>184</td>\n",
       "      <td>334</td>\n",
       "      <td>518</td>\n",
       "    </tr>\n",
       "    <tr>\n",
       "      <th>male</th>\n",
       "      <td>174</td>\n",
       "      <td>308</td>\n",
       "      <td>482</td>\n",
       "    </tr>\n",
       "    <tr>\n",
       "      <th>All</th>\n",
       "      <td>358</td>\n",
       "      <td>642</td>\n",
       "      <td>1000</td>\n",
       "    </tr>\n",
       "  </tbody>\n",
       "</table>\n",
       "</div>"
      ],
      "text/plain": [
       "test preparation course  completed  none   All\n",
       "gender                                        \n",
       "female                         184   334   518\n",
       "male                           174   308   482\n",
       "All                            358   642  1000"
      ]
     },
     "metadata": {},
     "output_type": "display_data"
    },
    {
     "name": "stdout",
     "output_type": "stream",
     "text": [
      "the first row of the table is test preparation course\n",
      "completed    184\n",
      "none         334\n",
      "All          518\n",
      "Name: female, dtype: int64\n",
      "Index(['female', 'male', 'All'], dtype='object', name='gender')\n"
     ]
    }
   ],
   "source": [
    "table = pd.crosstab(df['gender'], df['test preparation course'], margins = True)\n",
    "\n",
    "# what are the first, second, and third inputs\n",
    "## the first input will be the rows\n",
    "## the second input the columns \n",
    "## set the third input \"margins\" to True if you want to get the margins as well (it will give you the sum of total )\n",
    "## print type, indices, and columns\n",
    "print(f\"table variable is of type {type(table)}\") # it is a dataframe object and all the methods and attributes of a pandas dataframe can be used \n",
    "display(table)\n",
    "print(f\"the first row of the table is {table.iloc[0]}\")\n",
    "print(table.index)"
   ]
  },
  {
   "cell_type": "code",
   "execution_count": 92,
   "metadata": {},
   "outputs": [
    {
     "data": {
      "text/plain": [
       "test preparation course\n",
       "completed    184\n",
       "none         334\n",
       "All          518\n",
       "Name: female, dtype: int64"
      ]
     },
     "execution_count": 92,
     "metadata": {},
     "output_type": "execute_result"
    }
   ],
   "source": [
    "table.iloc[0]"
   ]
  },
  {
   "cell_type": "code",
   "execution_count": 87,
   "metadata": {},
   "outputs": [
    {
     "name": "stdout",
     "output_type": "stream",
     "text": [
      "data on the row number 0 in the table dataframe is test preparation course\n",
      "completed    184\n",
      "none         334\n",
      "All          518\n",
      "Name: female, dtype: int64\n",
      "data on the row number 1 in the table dataframe is test preparation course\n",
      "completed    174\n",
      "none         308\n",
      "All          482\n",
      "Name: male, dtype: int64\n",
      "data on the row number 2 in the table dataframe is test preparation course\n",
      "completed     358\n",
      "none          642\n",
      "All          1000\n",
      "Name: All, dtype: int64\n"
     ]
    }
   ],
   "source": [
    "# use for loop to get all the rows (1)\n",
    "## when using i as a number pointing to the index\n",
    "### with iloc\n",
    "for i in range(len(table.index)):\n",
    "    print(f\"data on the row number {i} in the table dataframe is {table.iloc[i]}\")"
   ]
  },
  {
   "cell_type": "code",
   "execution_count": 93,
   "metadata": {},
   "outputs": [
    {
     "name": "stdout",
     "output_type": "stream",
     "text": [
      "data on the row labeled as female in the table dataframe is test preparation course\n",
      "completed    184\n",
      "none         334\n",
      "All          518\n",
      "Name: female, dtype: int64\n",
      "data on the row labeled as male in the table dataframe is test preparation course\n",
      "completed    174\n",
      "none         308\n",
      "All          482\n",
      "Name: male, dtype: int64\n",
      "data on the row labeled as All in the table dataframe is test preparation course\n",
      "completed     358\n",
      "none          642\n",
      "All          1000\n",
      "Name: All, dtype: int64\n"
     ]
    }
   ],
   "source": [
    "# use for loop to get all the rows (2)\n",
    "## when using i as the lable of the index itself\n",
    "### with loc\n",
    "#### what is the difference between loc and iloc\n",
    "for i in table.index:\n",
    "    print(f\"data on the row labeled as {i} in the table dataframe is {table.loc[i]}\")"
   ]
  },
  {
   "cell_type": "code",
   "execution_count": 94,
   "metadata": {},
   "outputs": [
    {
     "name": "stdout",
     "output_type": "stream",
     "text": [
      "the data in column completed is: gender\n",
      "female    184\n",
      "male      174\n",
      "All       358\n",
      "Name: completed, dtype: int64\n",
      "the data in column none is: gender\n",
      "female    334\n",
      "male      308\n",
      "All       642\n",
      "Name: none, dtype: int64\n",
      "the data in column All is: gender\n",
      "female     518\n",
      "male       482\n",
      "All       1000\n",
      "Name: All, dtype: int64\n"
     ]
    }
   ],
   "source": [
    "# Use the same method to get the data in each column (ask them to do it and then ask for volunteers)\n",
    "for j in table.columns:\n",
    "    print(f\"the data in column {j} is: {table[j]}\")"
   ]
  },
  {
   "cell_type": "markdown",
   "metadata": {},
   "source": [
    "### Getting different entries of a contingency table"
   ]
  },
  {
   "cell_type": "code",
   "execution_count": 95,
   "metadata": {},
   "outputs": [
    {
     "data": {
      "text/html": [
       "<div>\n",
       "<style scoped>\n",
       "    .dataframe tbody tr th:only-of-type {\n",
       "        vertical-align: middle;\n",
       "    }\n",
       "\n",
       "    .dataframe tbody tr th {\n",
       "        vertical-align: top;\n",
       "    }\n",
       "\n",
       "    .dataframe thead th {\n",
       "        text-align: right;\n",
       "    }\n",
       "</style>\n",
       "<table border=\"1\" class=\"dataframe\">\n",
       "  <thead>\n",
       "    <tr style=\"text-align: right;\">\n",
       "      <th>test preparation course</th>\n",
       "      <th>completed</th>\n",
       "      <th>none</th>\n",
       "      <th>All</th>\n",
       "    </tr>\n",
       "    <tr>\n",
       "      <th>gender</th>\n",
       "      <th></th>\n",
       "      <th></th>\n",
       "      <th></th>\n",
       "    </tr>\n",
       "  </thead>\n",
       "  <tbody>\n",
       "    <tr>\n",
       "      <th>female</th>\n",
       "      <td>184</td>\n",
       "      <td>334</td>\n",
       "      <td>518</td>\n",
       "    </tr>\n",
       "    <tr>\n",
       "      <th>male</th>\n",
       "      <td>174</td>\n",
       "      <td>308</td>\n",
       "      <td>482</td>\n",
       "    </tr>\n",
       "    <tr>\n",
       "      <th>All</th>\n",
       "      <td>358</td>\n",
       "      <td>642</td>\n",
       "      <td>1000</td>\n",
       "    </tr>\n",
       "  </tbody>\n",
       "</table>\n",
       "</div>"
      ],
      "text/plain": [
       "test preparation course  completed  none   All\n",
       "gender                                        \n",
       "female                         184   334   518\n",
       "male                           174   308   482\n",
       "All                            358   642  1000"
      ]
     },
     "metadata": {},
     "output_type": "display_data"
    },
    {
     "name": "stdout",
     "output_type": "stream",
     "text": [
      "Index(['completed', 'none', 'All'], dtype='object', name='test preparation course')\n",
      "Index(['female', 'male', 'All'], dtype='object', name='gender')\n"
     ]
    },
    {
     "data": {
      "text/plain": [
       "184"
      ]
     },
     "execution_count": 95,
     "metadata": {},
     "output_type": "execute_result"
    }
   ],
   "source": [
    "# you may want to use these entries to calculate different probabilities\n",
    "display(table)\n",
    "print(table.columns)\n",
    "print(table.index)\n",
    "table['completed']['female'] # the first entry is the column"
   ]
  },
  {
   "cell_type": "markdown",
   "metadata": {},
   "source": [
    "## TO ADD: \n",
    "Go thorugh from lecture how you would get \n",
    "* Joint probability \n",
    "* Marginal probability\n",
    "* Conditional probability\n"
   ]
  },
  {
   "cell_type": "markdown",
   "metadata": {},
   "source": [
    "## Use Groupby method to categorize the dataset"
   ]
  },
  {
   "cell_type": "code",
   "execution_count": 96,
   "metadata": {},
   "outputs": [
    {
     "data": {
      "text/plain": [
       "<pandas.core.groupby.generic.SeriesGroupBy object at 0x7f836774c580>"
      ]
     },
     "metadata": {},
     "output_type": "display_data"
    },
    {
     "name": "stdout",
     "output_type": "stream",
     "text": [
      "<pandas.core.groupby.generic.SeriesGroupBy object at 0x7f836774c580>\n"
     ]
    }
   ],
   "source": [
    "a = df['reading score'].groupby(df['gender'])\n",
    "display(a)\n",
    "print(a)"
   ]
  },
  {
   "cell_type": "markdown",
   "metadata": {},
   "source": [
    "### getting the names of different sub-catogories"
   ]
  },
  {
   "cell_type": "code",
   "execution_count": 97,
   "metadata": {},
   "outputs": [
    {
     "data": {
      "text/plain": [
       "dict_keys"
      ]
     },
     "execution_count": 97,
     "metadata": {},
     "output_type": "execute_result"
    }
   ],
   "source": [
    "a = df.groupby('parental level of education').groups.keys()\n",
    "type(a) # it is not a numpy array or a list"
   ]
  },
  {
   "cell_type": "markdown",
   "metadata": {},
   "source": [
    "### getting descriptive statistic by category"
   ]
  },
  {
   "cell_type": "code",
   "execution_count": 98,
   "metadata": {},
   "outputs": [
    {
     "name": "stdout",
     "output_type": "stream",
     "text": [
      "***** Printing std scores grouped by gender *****\n",
      "the std of math scores grouped by gender is gender\n",
      "female    15.491453\n",
      "male      14.356277\n",
      "Name: math score, dtype: float64\n",
      "the std of math score of female students is 15.491453242339517\n"
     ]
    }
   ],
   "source": [
    "stdmScore = df['math score'].groupby(df['gender']).std()\n",
    "      \n",
    "print(\"***** Printing std scores grouped by gender *****\")\n",
    "print(f\"the std of math scores grouped by gender is {stdmScore}\")\n",
    "print(f\"the std of math score of female students is {stdmScore['female']}\")\n",
    "\n",
    "# you can do the same for min, max, and mean"
   ]
  },
  {
   "cell_type": "markdown",
   "metadata": {},
   "source": [
    "# Visualization"
   ]
  },
  {
   "cell_type": "markdown",
   "metadata": {},
   "source": [
    "## Using pandas plot method\n",
    "see the link below for all the kinds of plotting available <font color = 'red'>__(what are the inputs for grouped bar plot?)__:<br>\n",
    "https://pandas.pydata.org/pandas-docs/version/0.23.4/generated/pandas.DataFrame.plot.html"
   ]
  },
  {
   "cell_type": "code",
   "execution_count": 99,
   "metadata": {},
   "outputs": [
    {
     "data": {
      "text/html": [
       "<div>\n",
       "<style scoped>\n",
       "    .dataframe tbody tr th:only-of-type {\n",
       "        vertical-align: middle;\n",
       "    }\n",
       "\n",
       "    .dataframe tbody tr th {\n",
       "        vertical-align: top;\n",
       "    }\n",
       "\n",
       "    .dataframe thead th {\n",
       "        text-align: right;\n",
       "    }\n",
       "</style>\n",
       "<table border=\"1\" class=\"dataframe\">\n",
       "  <thead>\n",
       "    <tr style=\"text-align: right;\">\n",
       "      <th>test preparation course</th>\n",
       "      <th>completed</th>\n",
       "      <th>none</th>\n",
       "    </tr>\n",
       "    <tr>\n",
       "      <th>race/ethnicity</th>\n",
       "      <th></th>\n",
       "      <th></th>\n",
       "    </tr>\n",
       "  </thead>\n",
       "  <tbody>\n",
       "    <tr>\n",
       "      <th>group A</th>\n",
       "      <td>31</td>\n",
       "      <td>58</td>\n",
       "    </tr>\n",
       "    <tr>\n",
       "      <th>group B</th>\n",
       "      <td>68</td>\n",
       "      <td>122</td>\n",
       "    </tr>\n",
       "    <tr>\n",
       "      <th>group C</th>\n",
       "      <td>117</td>\n",
       "      <td>202</td>\n",
       "    </tr>\n",
       "    <tr>\n",
       "      <th>group D</th>\n",
       "      <td>82</td>\n",
       "      <td>180</td>\n",
       "    </tr>\n",
       "    <tr>\n",
       "      <th>group E</th>\n",
       "      <td>60</td>\n",
       "      <td>80</td>\n",
       "    </tr>\n",
       "  </tbody>\n",
       "</table>\n",
       "</div>"
      ],
      "text/plain": [
       "test preparation course  completed  none\n",
       "race/ethnicity                          \n",
       "group A                         31    58\n",
       "group B                         68   122\n",
       "group C                        117   202\n",
       "group D                         82   180\n",
       "group E                         60    80"
      ]
     },
     "metadata": {},
     "output_type": "display_data"
    },
    {
     "data": {
      "text/plain": [
       "array([<AxesSubplot:ylabel='completed'>, <AxesSubplot:ylabel='none'>],\n",
       "      dtype=object)"
      ]
     },
     "execution_count": 99,
     "metadata": {},
     "output_type": "execute_result"
    },
    {
     "data": {
      "image/png": "[encoded data removed]",
      "text/plain": [
       "<Figure size 640x480 with 2 Axes>"
      ]
     },
     "metadata": {},
     "output_type": "display_data"
    }
   ],
   "source": [
    "# USE STACKED BAR PLOT INSTEAD OF PIE CHARTS, PLEASe1 \n",
    "\n",
    "\n",
    "# Use the doc and go over this in the lab\n",
    "# table2 = pd.crosstab(df['race/ethnicity'], df['test preparation course'], margins = True)\n",
    "# table2.plot(kind = 'bar', stacked = False)\n",
    "\n",
    "# lose the last coloumn \"All\"\n",
    "table3 = pd.crosstab(df['race/ethnicity'], df['test preparation course'], margins = False)\n",
    "display(table3)\n",
    "table3.plot(kind = 'pie', subplots = True)"
   ]
  },
  {
   "cell_type": "markdown",
   "metadata": {},
   "source": [
    "## Using pyplot subplots to have multiple figures"
   ]
  },
  {
   "cell_type": "code",
   "execution_count": 100,
   "metadata": {},
   "outputs": [
    {
     "name": "stdout",
     "output_type": "stream",
     "text": [
      "(2, 2)\n"
     ]
    },
    {
     "data": {
      "text/plain": [
       "Text(0.5, 1.0, 'The violinplot for math score')"
      ]
     },
     "execution_count": 100,
     "metadata": {},
     "output_type": "execute_result"
    },
    {
     "data": {
      "image/png": "[encoded data removed]",
      "text/plain": [
       "<Figure size 1000x1500 with 4 Axes>"
      ]
     },
     "metadata": {},
     "output_type": "display_data"
    }
   ],
   "source": [
    "fig, axes = plt.subplots(nrows = 2, ncols = 2, figsize = (10, 15)) # axes variable is a matplotlib axes object\n",
    "print(axes.shape)\n",
    "\n",
    "axes[0, 0].hist(df['math score'], bins = 20, color = 'r') # hist is always the easiest. use color input to set the color\n",
    "axes[0, 0].set_xlabel('math score')\n",
    "axes[0, 0].set_ylabel('Count')\n",
    "df['writing score'].plot(kind = 'hist', ax = axes[0, 1], bins = 10)\n",
    "axes[0, 1].set_xlabel('writing score')\n",
    "axes[0, 1].set_ylabel('Count')\n",
    "axes[0, 1].set_title('histogram for writing score')\n",
    "\n",
    "axes[0, 0].set_title('histogram for math score')\n",
    "\n",
    "axes[1, 1].set_title('to be plotted')\n",
    "\n",
    "sns.violinplot(df['math score'], ax = axes[1, 0]) # google seaborn plot with pyplot subplots\n",
    "axes[1, 0].set_title('The violinplot for math score')"
   ]
  },
  {
   "cell_type": "markdown",
   "metadata": {},
   "source": [
    "## Have multiple plots in a single figure with different colors"
   ]
  },
  {
   "cell_type": "code",
   "execution_count": 101,
   "metadata": {},
   "outputs": [
    {
     "data": {
      "text/plain": [
       "<AxesSubplot:>"
      ]
     },
     "execution_count": 101,
     "metadata": {},
     "output_type": "execute_result"
    },
    {
     "data": {
      "image/png": "[encoded data removed]",
      "text/plain": [
       "<Figure size 640x480 with 1 Axes>"
      ]
     },
     "metadata": {},
     "output_type": "display_data"
    }
   ],
   "source": [
    "df['math score'].hist()\n",
    "df['writing score'].hist(color = 'r', alpha = 0.5) # alpha sets the transparency"
   ]
  },
  {
   "cell_type": "markdown",
   "metadata": {},
   "source": [
    "## multiple violinplots in a single figure"
   ]
  },
  {
   "cell_type": "code",
   "execution_count": 102,
   "metadata": {},
   "outputs": [
    {
     "data": {
      "text/plain": [
       "<AxesSubplot:xlabel='gender', ylabel='math score'>"
      ]
     },
     "execution_count": 102,
     "metadata": {},
     "output_type": "execute_result"
    },
    {
     "data": {
      "image/png": "[encoded data removed]",
      "text/plain": [
       "<Figure size 640x480 with 1 Axes>"
      ]
     },
     "metadata": {},
     "output_type": "display_data"
    }
   ],
   "source": [
    "# do it with them! use the doc \n",
    "# doc link: https://seaborn.pydata.org/generated/seaborn.violinplot.html\n",
    "sns.violinplot(x = 'gender', y = 'math score', data = df)"
   ]
  },
  {
   "cell_type": "code",
   "execution_count": null,
   "metadata": {},
   "outputs": [],
   "source": []
  }
 ],
 "metadata": {
  "kernelspec": {
   "display_name": "Python 3 (ipykernel)",
   "language": "python",
   "name": "python3"
  },
  "language_info": {
   "codemirror_mode": {
    "name": "ipython",
    "version": 3
   },
   "file_extension": ".py",
   "mimetype": "text/x-python",
   "name": "python",
   "nbconvert_exporter": "python",
   "pygments_lexer": "ipython3",
   "version": "3.8.8"
  }
 },
 "nbformat": 4,
 "nbformat_minor": 2
}
