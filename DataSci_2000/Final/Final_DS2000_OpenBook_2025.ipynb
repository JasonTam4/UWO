{
 "cells": [
  {
   "attachments": {},
   "cell_type": "markdown",
   "metadata": {},
   "source": [
    "# DataScience 2000B Final 2025 - Open Book part\n",
    "\n",
    "## Your Student ID: 251171681\n",
    "\n",
    "## General \n",
    "The instruction for the final exam for DS2000B is included in this Jupyter Notebook. \n",
    "\n",
    "- You are allowed to use any document and source and look up documents on the internet. You are not allowed to use chatGPT, copilot, or any other AI engine that provides programming assistance. \n",
    "- You or not allowed to share documents, or communicate in any other way with people during period of final. Given that there are students with extra time, this is until 3pm.  \n",
    "- You are only allowed to use the python packages listed under \"preliminaries\" - the use of other regression (e.g., statsmodels, numpy polyfit) or machine learning toolboxes (e.g., sklearn) is not permitted. \n",
    "- All the code you are using from previous assignments or labs needs to be included in the notebook. \n",
    "- Most questions also require some written answer. The answer to these questions should be given in full English sentences. \n",
    "- All Figures should be appropriately labeled in x and y axis.  \n",
    "- The Final exam needs to be submitted via OWL / Gradescope before 12:00pm, noon. If you have approved accommodation, you need to submit after 12:00pm + your extra time after the start of the exam at 2pm.\n",
    "- Ensure that your notebook runs before submitting. Submit the notebook with all output included. \n",
    "- Any final submitted later than the alloted time will be scored with 0 pts.\n",
    "- You can submit multiple version - the last submitted version will be graded.   \n",
    "- **It is your responsibility that you submit the correct file. Please check that you uploaded the correct file by downloading the submitted version and opening it in jupyter before you leave the exam room.** "
   ]
  },
  {
   "attachments": {},
   "cell_type": "markdown",
   "metadata": {},
   "source": [
    "## Problem description \n",
    "\n",
    "In the risk of being overly self-referential, you will be analyzing the grades from the Introduction to Data Science course from 2024. The dataset is provided in the file `grades_DS2000.csv`. Last years course did not have lecture questions or lab quizzes. Instead all assignment were graded between 0-100pts. The total course grade was 30\\% Assignments, 30\\% Midterm, and 40\\% Final. Last year, students could enrol in the course via the DataScience 2000 course code, or the Integrated Science 2002 course code. \n",
    "\n",
    "The file contains the following columns:\n",
    "- `Gender`: Gender of the student ('M' or 'F')\n",
    "- `Course`: Whether the student was enrolled via the DATASCI or INTEGSCI course code.  \n",
    "- `MidtermOpen`: Open-book part of the midterm (0-50) \n",
    "- `MidtermClosed`: Closed-book part of the midterm (0-50)\n",
    "- `Midterm`: Total score on the midterm (0-100)\n",
    "- `FinalOpen`: Open-book part of the final exam (0-50) \n",
    "- `FinalClosed`: Closed-book part of the final exam (0-50)\n",
    "- `Final`: Total score on the final exam (0-100)\n",
    "- `Assign_first`: Average score on the assignments 1-6 (0-100))\n",
    "- `Assign_second`: Average score on the assignments 7-11 (0-100)\n",
    "- `Total`: Total course grade after adjustment (0-100)\n",
    "- `passed`: Did the student pass the course? (0: no, 1: yes)\n",
    "\n",
    "*Note that the Gender and Course column have been randomly shuffled to protect the privacy of last year's student. Otherwise, the data set in entirely veridical. For the purposed of this exam, assume that the data have not been shuffled.*  "
   ]
  },
  {
   "cell_type": "code",
   "execution_count": 83,
   "metadata": {},
   "outputs": [],
   "source": [
    "# Preliminaries - you are only allowed to use the following packages\n",
    "import numpy as np\n",
    "import pandas as pd\n",
    "import matplotlib.pyplot as plt\n",
    "import seaborn as sns\n",
    "import scipy.optimize as so"
   ]
  },
  {
   "cell_type": "markdown",
   "metadata": {},
   "source": [
    "## Task 1: (15pts)\n",
    "### Questions 1.1: \n",
    "How many female students were enrolled via the Integrated Science course code?  [2pts]"
   ]
  },
  {
   "cell_type": "code",
   "execution_count": 84,
   "metadata": {},
   "outputs": [
    {
     "name": "stdout",
     "output_type": "stream",
     "text": [
      "Course  DATASCI  INTEGSCI\n",
      "Gender                   \n",
      "F            45        11\n",
      "M            53        11\n",
      "There are 11 female students enrolled via the integrated science course code\n"
     ]
    }
   ],
   "source": [
    "df = pd.read_csv('grades_DS2000.csv')\n",
    "\n",
    "table = pd.crosstab(df['Gender'], df['Course'])\n",
    "print(table)\n",
    "print(f\"There are {table['INTEGSCI']['F']} female students enrolled via the integrated science course code\")\n"
   ]
  },
  {
   "cell_type": "markdown",
   "metadata": {},
   "source": [
    "### Question 1.2\n",
    "What is the conditional probability of passing the course, given that the student was male and enrolled in DATASCI (not Integrated Science Course code)? [2pts]"
   ]
  },
  {
   "cell_type": "code",
   "execution_count": 85,
   "metadata": {},
   "outputs": [
    {
     "name": "stdout",
     "output_type": "stream",
     "text": [
      "Course  DATASCI  INTEGSCI  All\n",
      "passed                        \n",
      "0.0          10         2   12\n",
      "1.0          88        20  108\n",
      "All          98        22  120\n"
     ]
    },
    {
     "data": {
      "text/plain": [
       "np.float64(0.8979591836734694)"
      ]
     },
     "execution_count": 85,
     "metadata": {},
     "output_type": "execute_result"
    }
   ],
   "source": [
    "table2 = pd.crosstab(df['passed'], df['Course'], margins=True)\n",
    "print(table2)\n",
    "\n",
    "table2['DATASCI'][1.0]/table2['DATASCI']['All']"
   ]
  },
  {
   "cell_type": "markdown",
   "metadata": {},
   "source": [
    "### Question 1.3\n",
    "If you want to compare the total course grade (`Total`) in this course between DataSci and IntegSci students or between male and female students, which statistics would you use? Justify your answer from the characteristics of the distribution of total grades. [2pts]"
   ]
  },
  {
   "cell_type": "code",
   "execution_count": 86,
   "metadata": {},
   "outputs": [
    {
     "name": "stdout",
     "output_type": "stream",
     "text": [
      "I would use median as there are a lot of outliers that would skew the mean\n"
     ]
    },
    {
     "data": {
      "image/png": "[encoded data removed]",
      "text/plain": [
       "<Figure size 640x480 with 1 Axes>"
      ]
     },
     "metadata": {},
     "output_type": "display_data"
    }
   ],
   "source": [
    "sns.boxplot(x = 'Gender', y = 'Total',  data = df)\n",
    "sns.boxplot(x = 'Course', y = 'Total',  data = df)\n",
    "print('I would use median as there are a lot of outliers that would skew the mean')\n"
   ]
  },
  {
   "cell_type": "markdown",
   "metadata": {},
   "source": [
    "### Question 1.4 \n",
    "How many students missed the midterm (the grade for midterm is missing in the data frame)? What is the median grade of the students that missed the midterm in the final exam (``Final``)? What was the median grade of `Final` for the students that took the midterm exam? [3pts]"
   ]
  },
  {
   "cell_type": "code",
   "execution_count": 87,
   "metadata": {},
   "outputs": [
    {
     "name": "stdout",
     "output_type": "stream",
     "text": [
      "12 students missed the midterm\n",
      "median ffinal inal grade for students who missed the midterm is 32.0\n",
      "median grade for students who took the midterm is 56.5\n"
     ]
    }
   ],
   "source": [
    "count = sum(df['Midterm'].isna())\n",
    "print(f\"{count} students missed the midterm\")\n",
    "\n",
    "print(f\"median ffinal inal grade for students who missed the midterm is {df[df['Midterm'].isna()]['Final'].median()}\")\n",
    "print(f\"median grade for students who took the midterm is {df[~df['Midterm'].isna()]['Final'].median()}\")\n"
   ]
  },
  {
   "cell_type": "markdown",
   "metadata": {},
   "source": [
    "### Question 1.5\n",
    "Does taking the midterm (no matter the grade) have a positive practice effect for the final exam (`Final`)? If we assume that the factors that led students to miss the midterm were **random**, we *could* consider whether students took the midterm or not as **random assignment**. Given this assumption, test the hypothesis that taking the midterm has a **positive** practice effect for (i.e. makes your score higher on) the final exam. \n",
    "\n",
    "Written answer: Clearly state the Null-hypothesis. \n",
    "\n",
    "Conduct a suitable statistical test to establish whether the difference in **median** grade of the group that took the midterm and the group that missed the midterm is statistically significant.  \n",
    "\n",
    "Written answer: What would be your conclusion be, if you assumed that students were missing the midterm at random? What is a possible caveat with this assumption and hence the conclusion? [6pts]"
   ]
  },
  {
   "cell_type": "markdown",
   "metadata": {},
   "source": [
    "Null hypotheses: Taking the midterm has no or a negative effect for final exam score."
   ]
  },
  {
   "cell_type": "code",
   "execution_count": 97,
   "metadata": {},
   "outputs": [
    {
     "ename": "ValueError",
     "evalue": "a must be 1-dimensional",
     "output_type": "error",
     "traceback": [
      "\u001b[0;31m---------------------------------------------------------------------------\u001b[0m",
      "\u001b[0;31mValueError\u001b[0m                                Traceback (most recent call last)",
      "Cell \u001b[0;32mIn[97], line 14\u001b[0m\n\u001b[1;32m     11\u001b[0m \u001b[38;5;28;01mdef\u001b[39;00m \u001b[38;5;21mmedian_fcn\u001b[39m(data):\n\u001b[1;32m     12\u001b[0m     \u001b[38;5;28;01mreturn\u001b[39;00m data\u001b[38;5;241m.\u001b[39mmedian()\n\u001b[0;32m---> 14\u001b[0m \u001b[43mbootstrap\u001b[49m\u001b[43m(\u001b[49m\u001b[43mdf\u001b[49m\u001b[43m,\u001b[49m\u001b[43m \u001b[49m\u001b[38;5;241;43m50\u001b[39;49m\u001b[43m,\u001b[49m\u001b[43m \u001b[49m\u001b[43mmedian_fcn\u001b[49m\u001b[43m)\u001b[49m\n",
      "Cell \u001b[0;32mIn[97], line 4\u001b[0m, in \u001b[0;36mbootstrap\u001b[0;34m(data, N, fcn, numIter)\u001b[0m\n\u001b[1;32m      2\u001b[0m array \u001b[38;5;241m=\u001b[39m np\u001b[38;5;241m.\u001b[39mzeros(numIter)\n\u001b[1;32m      3\u001b[0m \u001b[38;5;28;01mfor\u001b[39;00m i \u001b[38;5;129;01min\u001b[39;00m \u001b[38;5;28mrange\u001b[39m(numIter):\n\u001b[0;32m----> 4\u001b[0m     sample \u001b[38;5;241m=\u001b[39m \u001b[43mnp\u001b[49m\u001b[38;5;241;43m.\u001b[39;49m\u001b[43mrandom\u001b[49m\u001b[38;5;241;43m.\u001b[39;49m\u001b[43mchoice\u001b[49m\u001b[43m(\u001b[49m\u001b[43mdata\u001b[49m\u001b[43m,\u001b[49m\u001b[43m \u001b[49m\u001b[43mN\u001b[49m\u001b[43m,\u001b[49m\u001b[43m \u001b[49m\u001b[43mreplace\u001b[49m\u001b[38;5;241;43m=\u001b[39;49m\u001b[38;5;28;43;01mTrue\u001b[39;49;00m\u001b[43m)\u001b[49m\n\u001b[1;32m      5\u001b[0m     array[i] \u001b[38;5;241m=\u001b[39m fcn(sample)\n\u001b[1;32m      7\u001b[0m \u001b[38;5;28;01mreturn\u001b[39;00m array\n",
      "File \u001b[0;32mnumpy/random/mtrand.pyx:970\u001b[0m, in \u001b[0;36mnumpy.random.mtrand.RandomState.choice\u001b[0;34m()\u001b[0m\n",
      "\u001b[0;31mValueError\u001b[0m: a must be 1-dimensional"
     ]
    }
   ],
   "source": [
    "def bootstrap(data, N, fcn, numIter=1000):\n",
    "    array = np.zeros(numIter)\n",
    "    for i in range(numIter):\n",
    "        sample = np.random.choice(data, N, replace=True)\n",
    "        array[i] = fcn(sample)\n",
    "    \n",
    "    return array\n",
    "    \n",
    "\n",
    "\n",
    "def median_fcn(data):\n",
    "    return data.median()\n",
    "\n",
    "bootstrap(df, 50, median_fcn)"
   ]
  },
  {
   "attachments": {},
   "cell_type": "markdown",
   "metadata": {},
   "source": [
    "## Task 2: Predicting the Performance on the final (25pts)\n",
    "In Task 2, we are building a predictive model of the performance on the final exam. For **all** questions in Task 2, you will use the variable ``Final`` as the **dependent** variable.   "
   ]
  },
  {
   "attachments": {},
   "cell_type": "markdown",
   "metadata": {},
   "source": [
    "### Question 2.1: \n",
    "Using Ordinary least-square (OLS) linear regression, report the $R^2$-value for a model that uses only the grade for the first half of Assignments to predict the ``Final``. Also report the $R^2$-value for a OLS regression model that uses only the grade of the second half of Assignments. Which of the two has a higher **fitted** $R^2$ value? [3pts]\n"
   ]
  },
  {
   "cell_type": "code",
   "execution_count": 53,
   "metadata": {},
   "outputs": [
    {
     "name": "stdout",
     "output_type": "stream",
     "text": [
      "R2 for first half of assignments is 0.25198654056500125\n",
      "R2 for second half of assignments is 0.20441225378240035\n",
      "The R2 for first half of assignments have a higher fitted r2\n"
     ]
    },
    {
     "data": {
      "image/png": "[encoded data removed]",
      "text/plain": [
       "<Figure size 640x480 with 1 Axes>"
      ]
     },
     "metadata": {},
     "output_type": "display_data"
    }
   ],
   "source": [
    "def simpleRegPredict(b,x):\n",
    "    yp=b[0]+b[1]*x\n",
    "    return yp\n",
    "\n",
    "def simpleRegLossRSS(b,x,y):\n",
    "    predY = simpleRegPredict(b,x)\n",
    "    res = y-predY\n",
    "    rss = sum(res**2)\n",
    "    deriv = np.zeros(2)\n",
    "    deriv[0]=-2*sum(res)\n",
    "    deriv[1]=-2*sum(res*x)\n",
    "    return (rss,deriv)\n",
    "\n",
    "def simpleRegLossL1(b, x, y, fcn=simpleRegPredict):\n",
    "    deriv = np.zeros(2)\n",
    "    yp = fcn(b, x)\n",
    "\n",
    "    yp = fcn(b, x)\n",
    "    residual = y - yp\n",
    "    sad = sum(abs(residual))\n",
    "    deriv[0] = -sum(np.sign(residual))\n",
    "    deriv[1] = -sum(np.sign(residual)*x)\n",
    "\n",
    "    return sad, deriv\n",
    "\n",
    "def plotPrediction(b, x, y, fcn=simpleRegPredict):\n",
    "    plt.scatter(x, y)\n",
    "    xp = np.linspace(min(x), max(x), num=50)\n",
    "    yp = fcn(b, xp)\n",
    "    return plt.plot(xp, yp, 'r')\n",
    "\n",
    "\n",
    "def simpleRegFit(x, y, fcn=simpleRegLossRSS):\n",
    "    b0=[np.mean(y),0]\n",
    "    RESULT = so.minimize(fcn, b0, args = (x, y), jac = True)\n",
    "    b = RESULT.x\n",
    "\n",
    "    plotPrediction(b, x, y)\n",
    "\n",
    "    RSS = simpleRegLossRSS(b, x, y)[0]\n",
    "    TSS = sum((y - np.mean(y))**2)\n",
    "    R2 = 1 - (RSS/TSS)\n",
    "    return R2\n",
    "\n",
    "x = df['Assign_first']\n",
    "y = df['Final']\n",
    "R2 = simpleRegFit(x, y, fcn=simpleRegLossRSS)\n",
    "print(f\"R2 for first half of assignments is {R2}\")\n",
    "\n",
    "x2 = df['Assign_second']\n",
    "y = df['Final']\n",
    "R2 = simpleRegFit(x2, y, fcn=simpleRegLossRSS)\n",
    "print(f\"R2 for second half of assignments is {R2}\")\n",
    "\n",
    "print('The R2 for first half of assignments have a higher fitted r2')\n"
   ]
  },
  {
   "cell_type": "markdown",
   "metadata": {},
   "source": [
    "### Question 2.2: \n",
    "Report the 95% Confidence interval for the difference in $R^2$ for the model using the first half of the assignment minus the $R^2$ for the model using the second half of the assignments. [6pts]  "
   ]
  },
  {
   "cell_type": "code",
   "execution_count": 51,
   "metadata": {},
   "outputs": [
    {
     "data": {
      "text/plain": [
       "[np.float64(-6.670699999999999), np.float64(7.908716666666668)]"
      ]
     },
     "execution_count": 51,
     "metadata": {},
     "output_type": "execute_result"
    }
   ],
   "source": [
    "def bootstrap(data, N, fcn, numIter=1000):\n",
    "    array = np.zeros(numIter)\n",
    "    for i in range(numIter):\n",
    "        sample = np.random.choice(data, N, replace=True)\n",
    "        array[i] = fcn(sample)\n",
    "    \n",
    "    return array\n",
    "\n",
    "def mean_fcn(data):\n",
    "    return data.mean()\n",
    "\n",
    "def confidenceInt(data, prec):\n",
    "    lower = (100-prec)/2\n",
    "    upper = (prec + lower)\n",
    "    list = [np.percentile(data, lower), np.percentile(data, upper)]\n",
    "    return list\n",
    "\n",
    "df['Asn_difference'] = df['Assign_first'] - df['Assign_second']\n",
    "\n",
    "sampling_dist = bootstrap(df['Asn_difference'], 25, mean_fcn)\n",
    "confidenceInt(sampling_dist, 95)"
   ]
  },
  {
   "cell_type": "markdown",
   "metadata": {},
   "source": [
    "### Question 2.3: \n",
    "Using ordinary least-square linear regression, determine whether the Open-book or Closed-book part of the Midterm is a better explanatory variable for the ``Final`` grade. Report your conclusion supported by the corresponding fitted $R^2$-values. For this analysis you need to exclude the students that did not take the midterm. [2pts]"
   ]
  },
  {
   "cell_type": "code",
   "execution_count": 65,
   "metadata": {},
   "outputs": [
    {
     "name": "stdout",
     "output_type": "stream",
     "text": [
      "R2 for open midterm is 0.08254855553043028\n",
      "R2 for closed misterm is 0.08254855553043028\n",
      "\n"
     ]
    },
    {
     "data": {
      "image/png": "[encoded data removed]",
      "text/plain": [
       "<Figure size 640x480 with 1 Axes>"
      ]
     },
     "metadata": {},
     "output_type": "display_data"
    }
   ],
   "source": [
    "x = ~df['MidtermOpen'].isna()\n",
    "y = df['Final']\n",
    "R2 = simpleRegFit(x, y, fcn=simpleRegLossRSS)\n",
    "print(f\"R2 for open midterm is {R2}\")\n",
    "\n",
    "x2 = ~df['MidtermClosed'].isna()\n",
    "y = df['Final']\n",
    "R2 = simpleRegFit(x2, y, fcn=simpleRegLossRSS)\n",
    "print(f\"R2 for closed misterm is {R2}\")\n",
    "\n",
    "print(\"The R2 open book and closed book part of the exam are the same\")"
   ]
  },
  {
   "cell_type": "markdown",
   "metadata": {},
   "source": [
    "### Question 2.4 \n",
    "Report the regression coefficient for ``MidtermClosed`` alone to fit the grade in the ``Final``. Then report the regression coefficient of ``MidtermClosed`` if we account for ``MidtermOpen`` in the same model. \n",
    "\n",
    "Written answer: How and why does the regression coefficient for MidtermClosed change between the models? If you were to conduct a bootstrap analysis on the model with both MidtermClosed and MidtermOpen, would be the correlation between the the two regression coefficients across bootstrap samples be positive or negative? [3pts]"
   ]
  },
  {
   "cell_type": "code",
   "execution_count": 70,
   "metadata": {},
   "outputs": [
    {
     "name": "stdout",
     "output_type": "stream",
     "text": [
      "regression coeficient for midterm closed is [36.4999997 17.3750003]\n",
      "regression coeficient for midterm closed is [36.5     8.6875  8.6875]\n"
     ]
    }
   ],
   "source": [
    "def multRegPredict(b, D, xname):\n",
    "    yp=np.ones(len(D))*b[0] \n",
    "\n",
    "    for i in range(len(xname)):\n",
    "        yp += b[i+1]*D[xname[i]]\n",
    "    return yp\n",
    "\n",
    "def multRegLossRSS(b,D,y,xname):\n",
    "    deriv = np.zeros(len(b))\n",
    "    yp = multRegPredict(b, D, xname)\n",
    "    res = y - yp\n",
    "    rss = sum(res**2)\n",
    "    deriv[0]=-2*sum(res)\n",
    "    for i in range(len(xname)):\n",
    "        deriv[i+1] = -2*sum(res*D[xname[i]])\n",
    "    return rss, deriv\n",
    "\n",
    "def multRegFit(D, y, xname):\n",
    "    b0 = np.zeros(len(xname)+1)\n",
    "    RESULT = so.minimize(multRegLossRSS, b0, args=(D,y,xname), jac=True)\n",
    "    b = RESULT.x\n",
    "\n",
    "    RSS = multRegLossRSS(b,D,y,xname)[0]\n",
    "    TSS = sum((y - np.mean(y))**2)\n",
    "    R2 = 1 - RSS/TSS\n",
    "\n",
    "    return R2, b\n",
    "\n",
    "df['MidtermClosed_no_na'] = ~df['MidtermClosed'].isna()\n",
    "df['MidtermOpen_no_na'] = ~df['MidtermOpen'].isna()\n",
    "y = df['Final']\n",
    "\n",
    "R2, b = multRegFit(df, y, ['MidtermClosed_no_na'])\n",
    "print(f\"regression coefficient for midterm closed is {b}\")\n",
    "\n",
    "R2, b = multRegFit(df, y, ['MidtermClosed_no_na', 'MidtermOpen_no_na'])\n",
    "print(f\"regression coefficient for midterm closed is {b}\")"
   ]
  },
  {
   "cell_type": "markdown",
   "metadata": {},
   "source": [
    "The coefficient for the model changed because there both predictors positively correlate to the final. With double the predictors, each one would have to be less (in this case around half) for the coefficient to fit the model similarly to the last. The relationship between the two regression coefficients would be positive."
   ]
  },
  {
   "cell_type": "markdown",
   "metadata": {},
   "source": [
    "### Question 2.5: \n",
    "Now we want to predict the ``Final`` grade in a **single** model that takes into account whether students missed the midterm, and if they did not miss the midterm, what grade they had on ``MidtermOpen`` and ``MidtermClosed``. For this, you need to set ``MidtermOpen`` and ``MidtermClosed`` to zero for the students who missed the exam, and add a variable into the model that informs the model whether they missed the midterm. \n",
    "\n",
    "Use leave-one-out cross-validation to compare a model that only uses ``MidtermOpen`` and ``MidtermClosed`` as predictor variables (for missed midterms, assumeing a grade of zero) to a mode that uses ``MidtermOpen``,``MidtermClosed``, and whether they mussed the midterm. Based on result, which one is the better predictive model? [3pts]"
   ]
  },
  {
   "cell_type": "code",
   "execution_count": 96,
   "metadata": {},
   "outputs": [
    {
     "name": "stdout",
     "output_type": "stream",
     "text": [
      "(0.3445107570295105, 0.38344556580284017)\n",
      "(0.20340971489296644, 0.3835555905240614)\n"
     ]
    }
   ],
   "source": [
    "def leaveOneOutCV(df, y, xname, fit_fcn=multRegFit, predict_fcn=multRegPredict):\n",
    "    N = len(df)\n",
    "    yp = np.zeros(N)\n",
    "    ind = np.arange(N)\n",
    "    for i in range(len(df)):\n",
    "        xtrain = df.iloc[ind!=i]\n",
    "        ytrain = y[ind!=i]\n",
    "        b = fit_fcn(xtrain, ytrain, xname)[1]\n",
    "        yp[i] = predict_fcn(b, df.iloc[i], xname)[0]\n",
    "    \n",
    "    TSS = sum((y - np.mean(y))**2)\n",
    "    RSScv = sum((y-yp)**2)\n",
    "    R2cv = 1 - RSScv/TSS\n",
    "\n",
    "    b = fit_fcn(df, y, xname)[1]\n",
    "    yf = predict_fcn(b, df, xname)\n",
    "    RSS = sum((y-yf)**2)\n",
    "    R2 = 1 - RSS/TSS\n",
    "\n",
    "    return R2cv, R2\n",
    "\n",
    "df['MidtermClosed_zero'] = df['MidtermClosed'].fillna(0) \n",
    "df['MidtermOpen_zero'] = df['MidtermOpen'].fillna(0)\n",
    "df['Missed_Midterm'] = df['MidtermClosed']==0\n",
    "\n",
    "R2, b = multRegFit(df, y, ['Missed_Midterm', 'MidtermClosed_zero', 'MidtermOpen_zero'])\n",
    "\n",
    "print(leaveOneOutCV(df, y, ['MidtermClosed_zero', 'MidtermOpen_zero']))\n",
    "print(leaveOneOutCV(df, y, ['Missed_Midterm', 'MidtermClosed_zero', 'MidtermOpen_zero']))\n"
   ]
  },
  {
   "cell_type": "markdown",
   "metadata": {},
   "source": [
    "The model with just midterm closed and open parameters is a better model This is because the R2cv has a higher score"
   ]
  },
  {
   "cell_type": "markdown",
   "metadata": {},
   "source": [
    "### Question 2.6:  \n",
    "Now we want build the best possible linear prediction model of the ``Final`` exam performance from the following variables: \n",
    " * MidtermOpen (use 0 for missed midterms)\n",
    " * MidtermClosed (use 0 for missed midterms)\n",
    " * Whether the midterm was missed \n",
    " * Assign_first \n",
    " * Assign_second\n",
    " * Gender (Male vs Female)\n",
    " * Course (DS vs. Integrated Science)\n",
    "\n",
    "Introduce appropriate coding for the discrete variables. \n",
    "Using backwards stepwise regression to choose the most appropriate model (optimal subset of explanatory variables) for this data set. For model comparision, again use **leave-one-out** crossvalidation. Show your procedure that you use to identify the best model. [6pts]\n",
    "\n",
    "*Tip: If you cannot get the model fit or cross-validation to work, do write some (pseudo-code), which shows how you would proceed for partial points* "
   ]
  },
  {
   "cell_type": "code",
   "execution_count": null,
   "metadata": {},
   "outputs": [],
   "source": []
  },
  {
   "cell_type": "markdown",
   "metadata": {},
   "source": [
    "for i in range(n^2):\n",
    "    select 1 item from the subset of all possible combination of explanatory variables\n",
    "    do crossvalidation\n",
    "    save the maximum R2cv and note the combination of explanatory variables\n",
    "\n",
    "return the combination of explanatory variables with the highest R2cv"
   ]
  },
  {
   "cell_type": "markdown",
   "metadata": {},
   "source": [
    "### Question 2.7 \n",
    "Written answer: Assume your best model from all the models you considered had a predictive $R^2 = 0.4$. If you now used the best to predict the grade for another year of DS2000 (assuming the class was taught the same way), would you on average be able to predict $40\\%$ of the variation in the final? If not, mention **two** factors that would make the average predictive accuracy of the model lower than the predictive R2 that you established by cross-validation.  [2pts]"
   ]
  },
  {
   "attachments": {},
   "cell_type": "markdown",
   "metadata": {},
   "source": [
    "## Task 3 (10pts)\n",
    "In this task, we will try to build a predictive model of whether the student will pass the class or not (``passed``) from the information we have available after the midterm. "
   ]
  },
  {
   "attachments": {},
   "cell_type": "markdown",
   "metadata": {},
   "source": [
    "### Question 3.1: \n",
    "Create and fit a logistic regression model that predicts whether the student passed the course from the following variables. \n",
    " * MidtermOpen  (for missed midterm, assume 0 grade)\n",
    " * MidtermClosed (for missed midterm, assume 0 grade)\n",
    " * Did they miss the midterm? \n",
    " * Assign_first \n",
    " * Gender (Male vs Female)\n",
    " \n",
    "Report the log-likelihood of the model, well as the regression coefficient for Gender. Based on the sign of the regression coefficient, does being male seem to increase or decrease your chances of passing the course (accounting for the other variables)? [4pts] \n",
    "\n",
    "\n"
   ]
  },
  {
   "cell_type": "code",
   "execution_count": 98,
   "metadata": {},
   "outputs": [
    {
     "ename": "TypeError",
     "evalue": "can't multiply sequence by non-int of type 'float'",
     "output_type": "error",
     "traceback": [
      "\u001b[0;31m---------------------------------------------------------------------------\u001b[0m",
      "\u001b[0;31mTypeError\u001b[0m                                 Traceback (most recent call last)",
      "File \u001b[0;32m~/Library/Python/3.9/lib/python/site-packages/pandas/core/ops/array_ops.py:218\u001b[0m, in \u001b[0;36m_na_arithmetic_op\u001b[0;34m(left, right, op, is_cmp)\u001b[0m\n\u001b[1;32m    217\u001b[0m \u001b[38;5;28;01mtry\u001b[39;00m:\n\u001b[0;32m--> 218\u001b[0m     result \u001b[38;5;241m=\u001b[39m \u001b[43mfunc\u001b[49m\u001b[43m(\u001b[49m\u001b[43mleft\u001b[49m\u001b[43m,\u001b[49m\u001b[43m \u001b[49m\u001b[43mright\u001b[49m\u001b[43m)\u001b[49m\n\u001b[1;32m    219\u001b[0m \u001b[38;5;28;01mexcept\u001b[39;00m \u001b[38;5;167;01mTypeError\u001b[39;00m:\n",
      "File \u001b[0;32m~/Library/Python/3.9/lib/python/site-packages/pandas/core/computation/expressions.py:242\u001b[0m, in \u001b[0;36mevaluate\u001b[0;34m(op, a, b, use_numexpr)\u001b[0m\n\u001b[1;32m    240\u001b[0m     \u001b[38;5;28;01mif\u001b[39;00m use_numexpr:\n\u001b[1;32m    241\u001b[0m         \u001b[38;5;66;03m# error: \"None\" not callable\u001b[39;00m\n\u001b[0;32m--> 242\u001b[0m         \u001b[38;5;28;01mreturn\u001b[39;00m \u001b[43m_evaluate\u001b[49m\u001b[43m(\u001b[49m\u001b[43mop\u001b[49m\u001b[43m,\u001b[49m\u001b[43m \u001b[49m\u001b[43mop_str\u001b[49m\u001b[43m,\u001b[49m\u001b[43m \u001b[49m\u001b[43ma\u001b[49m\u001b[43m,\u001b[49m\u001b[43m \u001b[49m\u001b[43mb\u001b[49m\u001b[43m)\u001b[49m  \u001b[38;5;66;03m# type: ignore[misc]\u001b[39;00m\n\u001b[1;32m    243\u001b[0m \u001b[38;5;28;01mreturn\u001b[39;00m _evaluate_standard(op, op_str, a, b)\n",
      "File \u001b[0;32m~/Library/Python/3.9/lib/python/site-packages/pandas/core/computation/expressions.py:73\u001b[0m, in \u001b[0;36m_evaluate_standard\u001b[0;34m(op, op_str, a, b)\u001b[0m\n\u001b[1;32m     72\u001b[0m     _store_test_result(\u001b[38;5;28;01mFalse\u001b[39;00m)\n\u001b[0;32m---> 73\u001b[0m \u001b[38;5;28;01mreturn\u001b[39;00m \u001b[43mop\u001b[49m\u001b[43m(\u001b[49m\u001b[43ma\u001b[49m\u001b[43m,\u001b[49m\u001b[43m \u001b[49m\u001b[43mb\u001b[49m\u001b[43m)\u001b[49m\n",
      "\u001b[0;31mTypeError\u001b[0m: can't multiply sequence by non-int of type 'float'",
      "\nDuring handling of the above exception, another exception occurred:\n",
      "\u001b[0;31mTypeError\u001b[0m                                 Traceback (most recent call last)",
      "Cell \u001b[0;32mIn[98], line 41\u001b[0m\n\u001b[1;32m     38\u001b[0m         ax\u001b[38;5;241m.\u001b[39mspines[\u001b[38;5;124m'\u001b[39m\u001b[38;5;124mright\u001b[39m\u001b[38;5;124m'\u001b[39m]\u001b[38;5;241m.\u001b[39mset_visible(\u001b[38;5;28;01mFalse\u001b[39;00m)\n\u001b[1;32m     39\u001b[0m     \u001b[38;5;28;01mreturn\u001b[39;00m (ll,b)\n\u001b[0;32m---> 41\u001b[0m \u001b[43mlogisticRegFit\u001b[49m\u001b[43m(\u001b[49m\u001b[43mdf\u001b[49m\u001b[43m,\u001b[49m\u001b[43my\u001b[49m\u001b[43m,\u001b[49m\u001b[43m[\u001b[49m\u001b[38;5;124;43m'\u001b[39;49m\u001b[38;5;124;43mGender\u001b[39;49m\u001b[38;5;124;43m'\u001b[39;49m\u001b[43m]\u001b[49m\u001b[43m,\u001b[49m\u001b[43mfigure\u001b[49m\u001b[38;5;241;43m=\u001b[39;49m\u001b[38;5;241;43m1\u001b[39;49m\u001b[43m)\u001b[49m\n",
      "Cell \u001b[0;32mIn[98], line 22\u001b[0m, in \u001b[0;36mlogisticRegFit\u001b[0;34m(D, y, xname, figure)\u001b[0m\n\u001b[1;32m     20\u001b[0m N\u001b[38;5;241m=\u001b[39m\u001b[38;5;28mlen\u001b[39m(xname)\n\u001b[1;32m     21\u001b[0m b0\u001b[38;5;241m=\u001b[39mnp\u001b[38;5;241m.\u001b[39mzeros(N\u001b[38;5;241m+\u001b[39m\u001b[38;5;241m1\u001b[39m)\n\u001b[0;32m---> 22\u001b[0m RES \u001b[38;5;241m=\u001b[39m \u001b[43mso\u001b[49m\u001b[38;5;241;43m.\u001b[39;49m\u001b[43mminimize\u001b[49m\u001b[43m(\u001b[49m\u001b[43mlogisticRegLoss\u001b[49m\u001b[43m,\u001b[49m\u001b[43mb0\u001b[49m\u001b[43m,\u001b[49m\u001b[43margs\u001b[49m\u001b[38;5;241;43m=\u001b[39;49m\u001b[43m(\u001b[49m\u001b[43mD\u001b[49m\u001b[43m,\u001b[49m\u001b[43my\u001b[49m\u001b[43m,\u001b[49m\u001b[43mxname\u001b[49m\u001b[43m)\u001b[49m\u001b[43m,\u001b[49m\u001b[43mjac\u001b[49m\u001b[38;5;241;43m=\u001b[39;49m\u001b[38;5;28;43;01mTrue\u001b[39;49;00m\u001b[43m)\u001b[49m\n\u001b[1;32m     23\u001b[0m b \u001b[38;5;241m=\u001b[39m RES\u001b[38;5;241m.\u001b[39mx\n\u001b[1;32m     24\u001b[0m ll \u001b[38;5;241m=\u001b[39m \u001b[38;5;241m-\u001b[39mRES\u001b[38;5;241m.\u001b[39mfun \n",
      "File \u001b[0;32m~/Library/Python/3.9/lib/python/site-packages/scipy/optimize/_minimize.py:708\u001b[0m, in \u001b[0;36mminimize\u001b[0;34m(fun, x0, args, method, jac, hess, hessp, bounds, constraints, tol, callback, options)\u001b[0m\n\u001b[1;32m    706\u001b[0m     res \u001b[38;5;241m=\u001b[39m _minimize_cg(fun, x0, args, jac, callback, \u001b[38;5;241m*\u001b[39m\u001b[38;5;241m*\u001b[39moptions)\n\u001b[1;32m    707\u001b[0m \u001b[38;5;28;01melif\u001b[39;00m meth \u001b[38;5;241m==\u001b[39m \u001b[38;5;124m'\u001b[39m\u001b[38;5;124mbfgs\u001b[39m\u001b[38;5;124m'\u001b[39m:\n\u001b[0;32m--> 708\u001b[0m     res \u001b[38;5;241m=\u001b[39m \u001b[43m_minimize_bfgs\u001b[49m\u001b[43m(\u001b[49m\u001b[43mfun\u001b[49m\u001b[43m,\u001b[49m\u001b[43m \u001b[49m\u001b[43mx0\u001b[49m\u001b[43m,\u001b[49m\u001b[43m \u001b[49m\u001b[43margs\u001b[49m\u001b[43m,\u001b[49m\u001b[43m \u001b[49m\u001b[43mjac\u001b[49m\u001b[43m,\u001b[49m\u001b[43m \u001b[49m\u001b[43mcallback\u001b[49m\u001b[43m,\u001b[49m\u001b[43m \u001b[49m\u001b[38;5;241;43m*\u001b[39;49m\u001b[38;5;241;43m*\u001b[39;49m\u001b[43moptions\u001b[49m\u001b[43m)\u001b[49m\n\u001b[1;32m    709\u001b[0m \u001b[38;5;28;01melif\u001b[39;00m meth \u001b[38;5;241m==\u001b[39m \u001b[38;5;124m'\u001b[39m\u001b[38;5;124mnewton-cg\u001b[39m\u001b[38;5;124m'\u001b[39m:\n\u001b[1;32m    710\u001b[0m     res \u001b[38;5;241m=\u001b[39m _minimize_newtoncg(fun, x0, args, jac, hess, hessp, callback,\n\u001b[1;32m    711\u001b[0m                              \u001b[38;5;241m*\u001b[39m\u001b[38;5;241m*\u001b[39moptions)\n",
      "File \u001b[0;32m~/Library/Python/3.9/lib/python/site-packages/scipy/optimize/_optimize.py:1372\u001b[0m, in \u001b[0;36m_minimize_bfgs\u001b[0;34m(fun, x0, args, jac, callback, gtol, norm, eps, maxiter, disp, return_all, finite_diff_rel_step, xrtol, c1, c2, hess_inv0, **unknown_options)\u001b[0m\n\u001b[1;32m   1369\u001b[0m \u001b[38;5;28;01mif\u001b[39;00m maxiter \u001b[38;5;129;01mis\u001b[39;00m \u001b[38;5;28;01mNone\u001b[39;00m:\n\u001b[1;32m   1370\u001b[0m     maxiter \u001b[38;5;241m=\u001b[39m \u001b[38;5;28mlen\u001b[39m(x0) \u001b[38;5;241m*\u001b[39m \u001b[38;5;241m200\u001b[39m\n\u001b[0;32m-> 1372\u001b[0m sf \u001b[38;5;241m=\u001b[39m \u001b[43m_prepare_scalar_function\u001b[49m\u001b[43m(\u001b[49m\u001b[43mfun\u001b[49m\u001b[43m,\u001b[49m\u001b[43m \u001b[49m\u001b[43mx0\u001b[49m\u001b[43m,\u001b[49m\u001b[43m \u001b[49m\u001b[43mjac\u001b[49m\u001b[43m,\u001b[49m\u001b[43m \u001b[49m\u001b[43margs\u001b[49m\u001b[38;5;241;43m=\u001b[39;49m\u001b[43margs\u001b[49m\u001b[43m,\u001b[49m\u001b[43m \u001b[49m\u001b[43mepsilon\u001b[49m\u001b[38;5;241;43m=\u001b[39;49m\u001b[43meps\u001b[49m\u001b[43m,\u001b[49m\n\u001b[1;32m   1373\u001b[0m \u001b[43m                              \u001b[49m\u001b[43mfinite_diff_rel_step\u001b[49m\u001b[38;5;241;43m=\u001b[39;49m\u001b[43mfinite_diff_rel_step\u001b[49m\u001b[43m)\u001b[49m\n\u001b[1;32m   1375\u001b[0m f \u001b[38;5;241m=\u001b[39m sf\u001b[38;5;241m.\u001b[39mfun\n\u001b[1;32m   1376\u001b[0m myfprime \u001b[38;5;241m=\u001b[39m sf\u001b[38;5;241m.\u001b[39mgrad\n",
      "File \u001b[0;32m~/Library/Python/3.9/lib/python/site-packages/scipy/optimize/_optimize.py:288\u001b[0m, in \u001b[0;36m_prepare_scalar_function\u001b[0;34m(fun, x0, jac, args, bounds, epsilon, finite_diff_rel_step, hess)\u001b[0m\n\u001b[1;32m    284\u001b[0m     bounds \u001b[38;5;241m=\u001b[39m (\u001b[38;5;241m-\u001b[39mnp\u001b[38;5;241m.\u001b[39minf, np\u001b[38;5;241m.\u001b[39minf)\n\u001b[1;32m    286\u001b[0m \u001b[38;5;66;03m# ScalarFunction caches. Reuse of fun(x) during grad\u001b[39;00m\n\u001b[1;32m    287\u001b[0m \u001b[38;5;66;03m# calculation reduces overall function evaluations.\u001b[39;00m\n\u001b[0;32m--> 288\u001b[0m sf \u001b[38;5;241m=\u001b[39m \u001b[43mScalarFunction\u001b[49m\u001b[43m(\u001b[49m\u001b[43mfun\u001b[49m\u001b[43m,\u001b[49m\u001b[43m \u001b[49m\u001b[43mx0\u001b[49m\u001b[43m,\u001b[49m\u001b[43m \u001b[49m\u001b[43margs\u001b[49m\u001b[43m,\u001b[49m\u001b[43m \u001b[49m\u001b[43mgrad\u001b[49m\u001b[43m,\u001b[49m\u001b[43m \u001b[49m\u001b[43mhess\u001b[49m\u001b[43m,\u001b[49m\n\u001b[1;32m    289\u001b[0m \u001b[43m                    \u001b[49m\u001b[43mfinite_diff_rel_step\u001b[49m\u001b[43m,\u001b[49m\u001b[43m \u001b[49m\u001b[43mbounds\u001b[49m\u001b[43m,\u001b[49m\u001b[43m \u001b[49m\u001b[43mepsilon\u001b[49m\u001b[38;5;241;43m=\u001b[39;49m\u001b[43mepsilon\u001b[49m\u001b[43m)\u001b[49m\n\u001b[1;32m    291\u001b[0m \u001b[38;5;28;01mreturn\u001b[39;00m sf\n",
      "File \u001b[0;32m~/Library/Python/3.9/lib/python/site-packages/scipy/optimize/_differentiable_functions.py:166\u001b[0m, in \u001b[0;36mScalarFunction.__init__\u001b[0;34m(self, fun, x0, args, grad, hess, finite_diff_rel_step, finite_diff_bounds, epsilon)\u001b[0m\n\u001b[1;32m    163\u001b[0m     \u001b[38;5;28mself\u001b[39m\u001b[38;5;241m.\u001b[39mf \u001b[38;5;241m=\u001b[39m fun_wrapped(\u001b[38;5;28mself\u001b[39m\u001b[38;5;241m.\u001b[39mx)\n\u001b[1;32m    165\u001b[0m \u001b[38;5;28mself\u001b[39m\u001b[38;5;241m.\u001b[39m_update_fun_impl \u001b[38;5;241m=\u001b[39m update_fun\n\u001b[0;32m--> 166\u001b[0m \u001b[38;5;28;43mself\u001b[39;49m\u001b[38;5;241;43m.\u001b[39;49m\u001b[43m_update_fun\u001b[49m\u001b[43m(\u001b[49m\u001b[43m)\u001b[49m\n\u001b[1;32m    168\u001b[0m \u001b[38;5;66;03m# Gradient evaluation\u001b[39;00m\n\u001b[1;32m    169\u001b[0m \u001b[38;5;28;01mif\u001b[39;00m \u001b[38;5;28mcallable\u001b[39m(grad):\n",
      "File \u001b[0;32m~/Library/Python/3.9/lib/python/site-packages/scipy/optimize/_differentiable_functions.py:262\u001b[0m, in \u001b[0;36mScalarFunction._update_fun\u001b[0;34m(self)\u001b[0m\n\u001b[1;32m    260\u001b[0m \u001b[38;5;28;01mdef\u001b[39;00m \u001b[38;5;21m_update_fun\u001b[39m(\u001b[38;5;28mself\u001b[39m):\n\u001b[1;32m    261\u001b[0m     \u001b[38;5;28;01mif\u001b[39;00m \u001b[38;5;129;01mnot\u001b[39;00m \u001b[38;5;28mself\u001b[39m\u001b[38;5;241m.\u001b[39mf_updated:\n\u001b[0;32m--> 262\u001b[0m         \u001b[38;5;28;43mself\u001b[39;49m\u001b[38;5;241;43m.\u001b[39;49m\u001b[43m_update_fun_impl\u001b[49m\u001b[43m(\u001b[49m\u001b[43m)\u001b[49m\n\u001b[1;32m    263\u001b[0m         \u001b[38;5;28mself\u001b[39m\u001b[38;5;241m.\u001b[39mf_updated \u001b[38;5;241m=\u001b[39m \u001b[38;5;28;01mTrue\u001b[39;00m\n",
      "File \u001b[0;32m~/Library/Python/3.9/lib/python/site-packages/scipy/optimize/_differentiable_functions.py:163\u001b[0m, in \u001b[0;36mScalarFunction.__init__.<locals>.update_fun\u001b[0;34m()\u001b[0m\n\u001b[1;32m    162\u001b[0m \u001b[38;5;28;01mdef\u001b[39;00m \u001b[38;5;21mupdate_fun\u001b[39m():\n\u001b[0;32m--> 163\u001b[0m     \u001b[38;5;28mself\u001b[39m\u001b[38;5;241m.\u001b[39mf \u001b[38;5;241m=\u001b[39m \u001b[43mfun_wrapped\u001b[49m\u001b[43m(\u001b[49m\u001b[38;5;28;43mself\u001b[39;49m\u001b[38;5;241;43m.\u001b[39;49m\u001b[43mx\u001b[49m\u001b[43m)\u001b[49m\n",
      "File \u001b[0;32m~/Library/Python/3.9/lib/python/site-packages/scipy/optimize/_differentiable_functions.py:145\u001b[0m, in \u001b[0;36mScalarFunction.__init__.<locals>.fun_wrapped\u001b[0;34m(x)\u001b[0m\n\u001b[1;32m    141\u001b[0m \u001b[38;5;28mself\u001b[39m\u001b[38;5;241m.\u001b[39mnfev \u001b[38;5;241m+\u001b[39m\u001b[38;5;241m=\u001b[39m \u001b[38;5;241m1\u001b[39m\n\u001b[1;32m    142\u001b[0m \u001b[38;5;66;03m# Send a copy because the user may overwrite it.\u001b[39;00m\n\u001b[1;32m    143\u001b[0m \u001b[38;5;66;03m# Overwriting results in undefined behaviour because\u001b[39;00m\n\u001b[1;32m    144\u001b[0m \u001b[38;5;66;03m# fun(self.x) will change self.x, with the two no longer linked.\u001b[39;00m\n\u001b[0;32m--> 145\u001b[0m fx \u001b[38;5;241m=\u001b[39m \u001b[43mfun\u001b[49m\u001b[43m(\u001b[49m\u001b[43mnp\u001b[49m\u001b[38;5;241;43m.\u001b[39;49m\u001b[43mcopy\u001b[49m\u001b[43m(\u001b[49m\u001b[43mx\u001b[49m\u001b[43m)\u001b[49m\u001b[43m,\u001b[49m\u001b[43m \u001b[49m\u001b[38;5;241;43m*\u001b[39;49m\u001b[43margs\u001b[49m\u001b[43m)\u001b[49m\n\u001b[1;32m    146\u001b[0m \u001b[38;5;66;03m# Make sure the function returns a true scalar\u001b[39;00m\n\u001b[1;32m    147\u001b[0m \u001b[38;5;28;01mif\u001b[39;00m \u001b[38;5;129;01mnot\u001b[39;00m np\u001b[38;5;241m.\u001b[39misscalar(fx):\n",
      "File \u001b[0;32m~/Library/Python/3.9/lib/python/site-packages/scipy/optimize/_optimize.py:79\u001b[0m, in \u001b[0;36mMemoizeJac.__call__\u001b[0;34m(self, x, *args)\u001b[0m\n\u001b[1;32m     77\u001b[0m \u001b[38;5;28;01mdef\u001b[39;00m \u001b[38;5;21m__call__\u001b[39m(\u001b[38;5;28mself\u001b[39m, x, \u001b[38;5;241m*\u001b[39margs):\n\u001b[1;32m     78\u001b[0m \u001b[38;5;250m    \u001b[39m\u001b[38;5;124;03m\"\"\" returns the function value \"\"\"\u001b[39;00m\n\u001b[0;32m---> 79\u001b[0m     \u001b[38;5;28;43mself\u001b[39;49m\u001b[38;5;241;43m.\u001b[39;49m\u001b[43m_compute_if_needed\u001b[49m\u001b[43m(\u001b[49m\u001b[43mx\u001b[49m\u001b[43m,\u001b[49m\u001b[43m \u001b[49m\u001b[38;5;241;43m*\u001b[39;49m\u001b[43margs\u001b[49m\u001b[43m)\u001b[49m\n\u001b[1;32m     80\u001b[0m     \u001b[38;5;28;01mreturn\u001b[39;00m \u001b[38;5;28mself\u001b[39m\u001b[38;5;241m.\u001b[39m_value\n",
      "File \u001b[0;32m~/Library/Python/3.9/lib/python/site-packages/scipy/optimize/_optimize.py:73\u001b[0m, in \u001b[0;36mMemoizeJac._compute_if_needed\u001b[0;34m(self, x, *args)\u001b[0m\n\u001b[1;32m     71\u001b[0m \u001b[38;5;28;01mif\u001b[39;00m \u001b[38;5;129;01mnot\u001b[39;00m np\u001b[38;5;241m.\u001b[39mall(x \u001b[38;5;241m==\u001b[39m \u001b[38;5;28mself\u001b[39m\u001b[38;5;241m.\u001b[39mx) \u001b[38;5;129;01mor\u001b[39;00m \u001b[38;5;28mself\u001b[39m\u001b[38;5;241m.\u001b[39m_value \u001b[38;5;129;01mis\u001b[39;00m \u001b[38;5;28;01mNone\u001b[39;00m \u001b[38;5;129;01mor\u001b[39;00m \u001b[38;5;28mself\u001b[39m\u001b[38;5;241m.\u001b[39mjac \u001b[38;5;129;01mis\u001b[39;00m \u001b[38;5;28;01mNone\u001b[39;00m:\n\u001b[1;32m     72\u001b[0m     \u001b[38;5;28mself\u001b[39m\u001b[38;5;241m.\u001b[39mx \u001b[38;5;241m=\u001b[39m np\u001b[38;5;241m.\u001b[39masarray(x)\u001b[38;5;241m.\u001b[39mcopy()\n\u001b[0;32m---> 73\u001b[0m     fg \u001b[38;5;241m=\u001b[39m \u001b[38;5;28;43mself\u001b[39;49m\u001b[38;5;241;43m.\u001b[39;49m\u001b[43mfun\u001b[49m\u001b[43m(\u001b[49m\u001b[43mx\u001b[49m\u001b[43m,\u001b[49m\u001b[43m \u001b[49m\u001b[38;5;241;43m*\u001b[39;49m\u001b[43margs\u001b[49m\u001b[43m)\u001b[49m\n\u001b[1;32m     74\u001b[0m     \u001b[38;5;28mself\u001b[39m\u001b[38;5;241m.\u001b[39mjac \u001b[38;5;241m=\u001b[39m fg[\u001b[38;5;241m1\u001b[39m]\n\u001b[1;32m     75\u001b[0m     \u001b[38;5;28mself\u001b[39m\u001b[38;5;241m.\u001b[39m_value \u001b[38;5;241m=\u001b[39m fg[\u001b[38;5;241m0\u001b[39m]\n",
      "Cell \u001b[0;32mIn[98], line 9\u001b[0m, in \u001b[0;36mlogisticRegLoss\u001b[0;34m(b, D, y, xname)\u001b[0m\n\u001b[1;32m      8\u001b[0m \u001b[38;5;28;01mdef\u001b[39;00m \u001b[38;5;21mlogisticRegLoss\u001b[39m(b,D,y,xname):\n\u001b[0;32m----> 9\u001b[0m     p \u001b[38;5;241m=\u001b[39m \u001b[43mlogisticRegPredict\u001b[49m\u001b[43m(\u001b[49m\u001b[43mb\u001b[49m\u001b[43m,\u001b[49m\u001b[43mD\u001b[49m\u001b[43m,\u001b[49m\u001b[43mxname\u001b[49m\u001b[43m)\u001b[49m\n\u001b[1;32m     10\u001b[0m     cost \u001b[38;5;241m=\u001b[39m \u001b[38;5;241m-\u001b[39my\u001b[38;5;241m*\u001b[39mnp\u001b[38;5;241m.\u001b[39mlog(p)\u001b[38;5;241m-\u001b[39m(\u001b[38;5;241m1\u001b[39m\u001b[38;5;241m-\u001b[39my)\u001b[38;5;241m*\u001b[39mnp\u001b[38;5;241m.\u001b[39mlog(\u001b[38;5;241m1\u001b[39m\u001b[38;5;241m-\u001b[39mp)\n\u001b[1;32m     11\u001b[0m     N\u001b[38;5;241m=\u001b[39m\u001b[38;5;28mlen\u001b[39m(xname)\n",
      "Cell \u001b[0;32mIn[98], line 4\u001b[0m, in \u001b[0;36mlogisticRegPredict\u001b[0;34m(b, D, xname)\u001b[0m\n\u001b[1;32m      2\u001b[0m yp\u001b[38;5;241m=\u001b[39mnp\u001b[38;5;241m.\u001b[39mones(\u001b[38;5;28mlen\u001b[39m(D\u001b[38;5;241m.\u001b[39mindex))\u001b[38;5;241m*\u001b[39mb[\u001b[38;5;241m0\u001b[39m]      \n\u001b[1;32m      3\u001b[0m \u001b[38;5;28;01mfor\u001b[39;00m i \u001b[38;5;129;01min\u001b[39;00m \u001b[38;5;28mrange\u001b[39m(\u001b[38;5;28mlen\u001b[39m(xname)):\n\u001b[0;32m----> 4\u001b[0m     yp\u001b[38;5;241m=\u001b[39myp\u001b[38;5;241m+\u001b[39m\u001b[43mD\u001b[49m\u001b[43m[\u001b[49m\u001b[43mxname\u001b[49m\u001b[43m[\u001b[49m\u001b[43mi\u001b[49m\u001b[43m]\u001b[49m\u001b[43m]\u001b[49m\u001b[38;5;241;43m*\u001b[39;49m\u001b[43mb\u001b[49m\u001b[43m[\u001b[49m\u001b[43mi\u001b[49m\u001b[38;5;241;43m+\u001b[39;49m\u001b[38;5;241;43m1\u001b[39;49m\u001b[43m]\u001b[49m       \n\u001b[1;32m      5\u001b[0m p \u001b[38;5;241m=\u001b[39m np\u001b[38;5;241m.\u001b[39mexp(yp)\u001b[38;5;241m/\u001b[39m(\u001b[38;5;241m1\u001b[39m\u001b[38;5;241m+\u001b[39mnp\u001b[38;5;241m.\u001b[39mexp(yp))\n\u001b[1;32m      6\u001b[0m \u001b[38;5;28;01mreturn\u001b[39;00m p\n",
      "File \u001b[0;32m~/Library/Python/3.9/lib/python/site-packages/pandas/core/ops/common.py:76\u001b[0m, in \u001b[0;36m_unpack_zerodim_and_defer.<locals>.new_method\u001b[0;34m(self, other)\u001b[0m\n\u001b[1;32m     72\u001b[0m             \u001b[38;5;28;01mreturn\u001b[39;00m \u001b[38;5;28mNotImplemented\u001b[39m\n\u001b[1;32m     74\u001b[0m other \u001b[38;5;241m=\u001b[39m item_from_zerodim(other)\n\u001b[0;32m---> 76\u001b[0m \u001b[38;5;28;01mreturn\u001b[39;00m \u001b[43mmethod\u001b[49m\u001b[43m(\u001b[49m\u001b[38;5;28;43mself\u001b[39;49m\u001b[43m,\u001b[49m\u001b[43m \u001b[49m\u001b[43mother\u001b[49m\u001b[43m)\u001b[49m\n",
      "File \u001b[0;32m~/Library/Python/3.9/lib/python/site-packages/pandas/core/arraylike.py:202\u001b[0m, in \u001b[0;36mOpsMixin.__mul__\u001b[0;34m(self, other)\u001b[0m\n\u001b[1;32m    200\u001b[0m \u001b[38;5;129m@unpack_zerodim_and_defer\u001b[39m(\u001b[38;5;124m\"\u001b[39m\u001b[38;5;124m__mul__\u001b[39m\u001b[38;5;124m\"\u001b[39m)\n\u001b[1;32m    201\u001b[0m \u001b[38;5;28;01mdef\u001b[39;00m \u001b[38;5;21m__mul__\u001b[39m(\u001b[38;5;28mself\u001b[39m, other):\n\u001b[0;32m--> 202\u001b[0m     \u001b[38;5;28;01mreturn\u001b[39;00m \u001b[38;5;28;43mself\u001b[39;49m\u001b[38;5;241;43m.\u001b[39;49m\u001b[43m_arith_method\u001b[49m\u001b[43m(\u001b[49m\u001b[43mother\u001b[49m\u001b[43m,\u001b[49m\u001b[43m \u001b[49m\u001b[43moperator\u001b[49m\u001b[38;5;241;43m.\u001b[39;49m\u001b[43mmul\u001b[49m\u001b[43m)\u001b[49m\n",
      "File \u001b[0;32m~/Library/Python/3.9/lib/python/site-packages/pandas/core/series.py:6135\u001b[0m, in \u001b[0;36mSeries._arith_method\u001b[0;34m(self, other, op)\u001b[0m\n\u001b[1;32m   6133\u001b[0m \u001b[38;5;28;01mdef\u001b[39;00m \u001b[38;5;21m_arith_method\u001b[39m(\u001b[38;5;28mself\u001b[39m, other, op):\n\u001b[1;32m   6134\u001b[0m     \u001b[38;5;28mself\u001b[39m, other \u001b[38;5;241m=\u001b[39m \u001b[38;5;28mself\u001b[39m\u001b[38;5;241m.\u001b[39m_align_for_op(other)\n\u001b[0;32m-> 6135\u001b[0m     \u001b[38;5;28;01mreturn\u001b[39;00m \u001b[43mbase\u001b[49m\u001b[38;5;241;43m.\u001b[39;49m\u001b[43mIndexOpsMixin\u001b[49m\u001b[38;5;241;43m.\u001b[39;49m\u001b[43m_arith_method\u001b[49m\u001b[43m(\u001b[49m\u001b[38;5;28;43mself\u001b[39;49m\u001b[43m,\u001b[49m\u001b[43m \u001b[49m\u001b[43mother\u001b[49m\u001b[43m,\u001b[49m\u001b[43m \u001b[49m\u001b[43mop\u001b[49m\u001b[43m)\u001b[49m\n",
      "File \u001b[0;32m~/Library/Python/3.9/lib/python/site-packages/pandas/core/base.py:1382\u001b[0m, in \u001b[0;36mIndexOpsMixin._arith_method\u001b[0;34m(self, other, op)\u001b[0m\n\u001b[1;32m   1379\u001b[0m     rvalues \u001b[38;5;241m=\u001b[39m np\u001b[38;5;241m.\u001b[39marange(rvalues\u001b[38;5;241m.\u001b[39mstart, rvalues\u001b[38;5;241m.\u001b[39mstop, rvalues\u001b[38;5;241m.\u001b[39mstep)\n\u001b[1;32m   1381\u001b[0m \u001b[38;5;28;01mwith\u001b[39;00m np\u001b[38;5;241m.\u001b[39merrstate(\u001b[38;5;28mall\u001b[39m\u001b[38;5;241m=\u001b[39m\u001b[38;5;124m\"\u001b[39m\u001b[38;5;124mignore\u001b[39m\u001b[38;5;124m\"\u001b[39m):\n\u001b[0;32m-> 1382\u001b[0m     result \u001b[38;5;241m=\u001b[39m \u001b[43mops\u001b[49m\u001b[38;5;241;43m.\u001b[39;49m\u001b[43marithmetic_op\u001b[49m\u001b[43m(\u001b[49m\u001b[43mlvalues\u001b[49m\u001b[43m,\u001b[49m\u001b[43m \u001b[49m\u001b[43mrvalues\u001b[49m\u001b[43m,\u001b[49m\u001b[43m \u001b[49m\u001b[43mop\u001b[49m\u001b[43m)\u001b[49m\n\u001b[1;32m   1384\u001b[0m \u001b[38;5;28;01mreturn\u001b[39;00m \u001b[38;5;28mself\u001b[39m\u001b[38;5;241m.\u001b[39m_construct_result(result, name\u001b[38;5;241m=\u001b[39mres_name)\n",
      "File \u001b[0;32m~/Library/Python/3.9/lib/python/site-packages/pandas/core/ops/array_ops.py:283\u001b[0m, in \u001b[0;36marithmetic_op\u001b[0;34m(left, right, op)\u001b[0m\n\u001b[1;32m    279\u001b[0m     _bool_arith_check(op, left, right)  \u001b[38;5;66;03m# type: ignore[arg-type]\u001b[39;00m\n\u001b[1;32m    281\u001b[0m     \u001b[38;5;66;03m# error: Argument 1 to \"_na_arithmetic_op\" has incompatible type\u001b[39;00m\n\u001b[1;32m    282\u001b[0m     \u001b[38;5;66;03m# \"Union[ExtensionArray, ndarray[Any, Any]]\"; expected \"ndarray[Any, Any]\"\u001b[39;00m\n\u001b[0;32m--> 283\u001b[0m     res_values \u001b[38;5;241m=\u001b[39m \u001b[43m_na_arithmetic_op\u001b[49m\u001b[43m(\u001b[49m\u001b[43mleft\u001b[49m\u001b[43m,\u001b[49m\u001b[43m \u001b[49m\u001b[43mright\u001b[49m\u001b[43m,\u001b[49m\u001b[43m \u001b[49m\u001b[43mop\u001b[49m\u001b[43m)\u001b[49m  \u001b[38;5;66;03m# type: ignore[arg-type]\u001b[39;00m\n\u001b[1;32m    285\u001b[0m \u001b[38;5;28;01mreturn\u001b[39;00m res_values\n",
      "File \u001b[0;32m~/Library/Python/3.9/lib/python/site-packages/pandas/core/ops/array_ops.py:227\u001b[0m, in \u001b[0;36m_na_arithmetic_op\u001b[0;34m(left, right, op, is_cmp)\u001b[0m\n\u001b[1;32m    219\u001b[0m \u001b[38;5;28;01mexcept\u001b[39;00m \u001b[38;5;167;01mTypeError\u001b[39;00m:\n\u001b[1;32m    220\u001b[0m     \u001b[38;5;28;01mif\u001b[39;00m \u001b[38;5;129;01mnot\u001b[39;00m is_cmp \u001b[38;5;129;01mand\u001b[39;00m (\n\u001b[1;32m    221\u001b[0m         left\u001b[38;5;241m.\u001b[39mdtype \u001b[38;5;241m==\u001b[39m \u001b[38;5;28mobject\u001b[39m \u001b[38;5;129;01mor\u001b[39;00m \u001b[38;5;28mgetattr\u001b[39m(right, \u001b[38;5;124m\"\u001b[39m\u001b[38;5;124mdtype\u001b[39m\u001b[38;5;124m\"\u001b[39m, \u001b[38;5;28;01mNone\u001b[39;00m) \u001b[38;5;241m==\u001b[39m \u001b[38;5;28mobject\u001b[39m\n\u001b[1;32m    222\u001b[0m     ):\n\u001b[0;32m   (...)\u001b[0m\n\u001b[1;32m    225\u001b[0m         \u001b[38;5;66;03m# Don't do this for comparisons, as that will handle complex numbers\u001b[39;00m\n\u001b[1;32m    226\u001b[0m         \u001b[38;5;66;03m#  incorrectly, see GH#32047\u001b[39;00m\n\u001b[0;32m--> 227\u001b[0m         result \u001b[38;5;241m=\u001b[39m \u001b[43m_masked_arith_op\u001b[49m\u001b[43m(\u001b[49m\u001b[43mleft\u001b[49m\u001b[43m,\u001b[49m\u001b[43m \u001b[49m\u001b[43mright\u001b[49m\u001b[43m,\u001b[49m\u001b[43m \u001b[49m\u001b[43mop\u001b[49m\u001b[43m)\u001b[49m\n\u001b[1;32m    228\u001b[0m     \u001b[38;5;28;01melse\u001b[39;00m:\n\u001b[1;32m    229\u001b[0m         \u001b[38;5;28;01mraise\u001b[39;00m\n",
      "File \u001b[0;32m~/Library/Python/3.9/lib/python/site-packages/pandas/core/ops/array_ops.py:182\u001b[0m, in \u001b[0;36m_masked_arith_op\u001b[0;34m(x, y, op)\u001b[0m\n\u001b[1;32m    179\u001b[0m         mask \u001b[38;5;241m=\u001b[39m np\u001b[38;5;241m.\u001b[39mwhere(y \u001b[38;5;241m==\u001b[39m \u001b[38;5;241m1\u001b[39m, \u001b[38;5;28;01mFalse\u001b[39;00m, mask)\n\u001b[1;32m    181\u001b[0m     \u001b[38;5;28;01mif\u001b[39;00m mask\u001b[38;5;241m.\u001b[39many():\n\u001b[0;32m--> 182\u001b[0m         result[mask] \u001b[38;5;241m=\u001b[39m \u001b[43mop\u001b[49m\u001b[43m(\u001b[49m\u001b[43mxrav\u001b[49m\u001b[43m[\u001b[49m\u001b[43mmask\u001b[49m\u001b[43m]\u001b[49m\u001b[43m,\u001b[49m\u001b[43m \u001b[49m\u001b[43my\u001b[49m\u001b[43m)\u001b[49m\n\u001b[1;32m    184\u001b[0m np\u001b[38;5;241m.\u001b[39mputmask(result, \u001b[38;5;241m~\u001b[39mmask, np\u001b[38;5;241m.\u001b[39mnan)\n\u001b[1;32m    185\u001b[0m result \u001b[38;5;241m=\u001b[39m result\u001b[38;5;241m.\u001b[39mreshape(x\u001b[38;5;241m.\u001b[39mshape)  \u001b[38;5;66;03m# 2D compat\u001b[39;00m\n",
      "\u001b[0;31mTypeError\u001b[0m: can't multiply sequence by non-int of type 'float'"
     ]
    }
   ],
   "source": [
    "def logisticRegPredict(b,D,xname):\n",
    "    yp=np.ones(len(D.index))*b[0]      \n",
    "    for i in range(len(xname)):\n",
    "        yp=yp+D[xname[i]]*b[i+1]       \n",
    "    p = np.exp(yp)/(1+np.exp(yp))\n",
    "    return p\n",
    "\n",
    "def logisticRegLoss(b,D,y,xname):\n",
    "    p = logisticRegPredict(b,D,xname)\n",
    "    cost = -y*np.log(p)-(1-y)*np.log(1-p)\n",
    "    N=len(xname)\n",
    "    grad=np.zeros(N+1)\n",
    "    res = y-p\n",
    "    grad[0]=-sum(res)\n",
    "    for i in range(N):\n",
    "        grad[i+1]=-np.sum(D[xname[i]]*res)    \n",
    "    return (cost.sum(),grad)\n",
    "\n",
    "def logisticRegFit(D,y,xname,figure=1):\n",
    "    N=len(xname)\n",
    "    b0=np.zeros(N+1)\n",
    "    RES = so.minimize(logisticRegLoss,b0,args=(D,y,xname),jac=True)\n",
    "    b = RES.x\n",
    "    ll = -RES.fun \n",
    "    p = logisticRegPredict(b,D,xname)\n",
    "    if (N==1 & figure==1):\n",
    "        fig = plt.figure()\n",
    "        ax = fig.add_subplot(1,1,1)\n",
    "        ax.scatter(D[xname[0]],y)\n",
    "        xRange=[min(D[xname[0]]),max(D[xname[0]])]\n",
    "        xp=np.arange(xRange[0],xRange[1],(xRange[1]-xRange[0])/50)\n",
    "        yp=b[0]+b[1]*xp\n",
    "        print(b[0])\n",
    "        print(b[1])\n",
    "        pp=np.exp(yp)/(1+np.exp(yp))\n",
    "        ax.plot(xp,pp,'r-')\n",
    "        ax.spines['top'].set_visible(False)\n",
    "        ax.spines['right'].set_visible(False)\n",
    "    return (ll,b)\n",
    "\n",
    "logisticRegFit(df,y,['Gender'],figure=1)"
   ]
  },
  {
   "attachments": {},
   "cell_type": "markdown",
   "metadata": {},
   "source": [
    "### Question 3.2: \n",
    "Use 10-fold cross-validation to determine whether the model from Question 3.1 predicts the passing of the course better than the model that uses only the first four variables (and thus excludes gender). Which one is the better model? [4pts]"
   ]
  },
  {
   "cell_type": "code",
   "execution_count": null,
   "metadata": {},
   "outputs": [],
   "source": []
  },
  {
   "cell_type": "markdown",
   "metadata": {},
   "source": [
    "### Question 3.3: \n",
    "From the results of question 3.2, report the bayes factor that tests the idea of whether Gender is a good predictor of passing the course, given the other variables in the model. What do you conclude?\n",
    "\n",
    "*Note: If you did not solve 3.2, just assume some answer and describe what you would conclude from that (and how)* "
   ]
  },
  {
   "cell_type": "code",
   "execution_count": null,
   "metadata": {},
   "outputs": [],
   "source": []
  }
 ],
 "metadata": {
  "kernelspec": {
   "display_name": "Python 3",
   "language": "python",
   "name": "python3"
  },
  "language_info": {
   "codemirror_mode": {
    "name": "ipython",
    "version": 3
   },
   "file_extension": ".py",
   "mimetype": "text/x-python",
   "name": "python",
   "nbconvert_exporter": "python",
   "pygments_lexer": "ipython3",
   "version": "3.9.6"
  }
 },
 "nbformat": 4,
 "nbformat_minor": 2
}
