{
 "cells": [
  {
   "cell_type": "markdown",
   "metadata": {},
   "source": [
    "# Lab09: Introduction to multiple regression\n",
    "\n",
    "### Learning Outcomes\n",
    "In this tutorial, we will learn how do multiple regression. We will also use some of our previous skills (bootstrapping) to build distributions for the regression coefficients.\n",
    "### Data set \n",
    "Again, I will be using the __World Happiness dataset__ from Kaggle:<br>\n",
    "https://www.kaggle.com/unsdsn/world-happiness <br>\n",
    "You will need to modify and combine these steps into several functions for the Assignment.<br>\n",
    "\n",
    "<font color = 'red'> To do the assignment, use the lecture notes and the tutorial notebook!"
   ]
  },
  {
   "cell_type": "markdown",
   "metadata": {},
   "source": [
    "### Preliminaries\n",
    "Set up the environment by importing pandas, numpy, and matplotlib, scipy.optimize. This is already done in the preliminaries. Ensure that you have fully mastered and understood HW7 before starting the assignment. <br>\n"
   ]
  },
  {
   "cell_type": "code",
   "execution_count": 1,
   "metadata": {},
   "outputs": [],
   "source": [
    "import matplotlib\n",
    "import matplotlib.pyplot as plt\n",
    "%matplotlib inline\n",
    "import scipy.optimize as so\n",
    "import pandas as pd\n",
    "import numpy as np\n"
   ]
  },
  {
   "cell_type": "code",
   "execution_count": 2,
   "metadata": {},
   "outputs": [
    {
     "data": {
      "text/html": [
       "<div>\n",
       "<style scoped>\n",
       "    .dataframe tbody tr th:only-of-type {\n",
       "        vertical-align: middle;\n",
       "    }\n",
       "\n",
       "    .dataframe tbody tr th {\n",
       "        vertical-align: top;\n",
       "    }\n",
       "\n",
       "    .dataframe thead th {\n",
       "        text-align: right;\n",
       "    }\n",
       "</style>\n",
       "<table border=\"1\" class=\"dataframe\">\n",
       "  <thead>\n",
       "    <tr style=\"text-align: right;\">\n",
       "      <th></th>\n",
       "      <th>OverallRank</th>\n",
       "      <th>Country</th>\n",
       "      <th>Score</th>\n",
       "      <th>GDPpercapita</th>\n",
       "      <th>SocialSupport</th>\n",
       "      <th>HealthyLifeExpectancy</th>\n",
       "      <th>FreedomToMakeLifeChoices</th>\n",
       "      <th>Generosity</th>\n",
       "      <th>PerceptionsOfCorruption</th>\n",
       "    </tr>\n",
       "  </thead>\n",
       "  <tbody>\n",
       "    <tr>\n",
       "      <th>0</th>\n",
       "      <td>1</td>\n",
       "      <td>Finland</td>\n",
       "      <td>7.769</td>\n",
       "      <td>1.340</td>\n",
       "      <td>1.587</td>\n",
       "      <td>0.986</td>\n",
       "      <td>0.596</td>\n",
       "      <td>0.153</td>\n",
       "      <td>0.393</td>\n",
       "    </tr>\n",
       "    <tr>\n",
       "      <th>1</th>\n",
       "      <td>2</td>\n",
       "      <td>Denmark</td>\n",
       "      <td>7.600</td>\n",
       "      <td>1.383</td>\n",
       "      <td>1.573</td>\n",
       "      <td>0.996</td>\n",
       "      <td>0.592</td>\n",
       "      <td>0.252</td>\n",
       "      <td>0.410</td>\n",
       "    </tr>\n",
       "    <tr>\n",
       "      <th>2</th>\n",
       "      <td>3</td>\n",
       "      <td>Norway</td>\n",
       "      <td>7.554</td>\n",
       "      <td>1.488</td>\n",
       "      <td>1.582</td>\n",
       "      <td>1.028</td>\n",
       "      <td>0.603</td>\n",
       "      <td>0.271</td>\n",
       "      <td>0.341</td>\n",
       "    </tr>\n",
       "    <tr>\n",
       "      <th>3</th>\n",
       "      <td>4</td>\n",
       "      <td>Iceland</td>\n",
       "      <td>7.494</td>\n",
       "      <td>1.380</td>\n",
       "      <td>1.624</td>\n",
       "      <td>1.026</td>\n",
       "      <td>0.591</td>\n",
       "      <td>0.354</td>\n",
       "      <td>0.118</td>\n",
       "    </tr>\n",
       "    <tr>\n",
       "      <th>4</th>\n",
       "      <td>5</td>\n",
       "      <td>Netherlands</td>\n",
       "      <td>7.488</td>\n",
       "      <td>1.396</td>\n",
       "      <td>1.522</td>\n",
       "      <td>0.999</td>\n",
       "      <td>0.557</td>\n",
       "      <td>0.322</td>\n",
       "      <td>0.298</td>\n",
       "    </tr>\n",
       "  </tbody>\n",
       "</table>\n",
       "</div>"
      ],
      "text/plain": [
       "   OverallRank      Country  Score  GDPpercapita  SocialSupport  \\\n",
       "0            1      Finland  7.769         1.340          1.587   \n",
       "1            2      Denmark  7.600         1.383          1.573   \n",
       "2            3       Norway  7.554         1.488          1.582   \n",
       "3            4      Iceland  7.494         1.380          1.624   \n",
       "4            5  Netherlands  7.488         1.396          1.522   \n",
       "\n",
       "   HealthyLifeExpectancy  FreedomToMakeLifeChoices  Generosity  \\\n",
       "0                  0.986                     0.596       0.153   \n",
       "1                  0.996                     0.592       0.252   \n",
       "2                  1.028                     0.603       0.271   \n",
       "3                  1.026                     0.591       0.354   \n",
       "4                  0.999                     0.557       0.322   \n",
       "\n",
       "   PerceptionsOfCorruption  \n",
       "0                    0.393  \n",
       "1                    0.410  \n",
       "2                    0.341  \n",
       "3                    0.118  \n",
       "4                    0.298  "
      ]
     },
     "execution_count": 2,
     "metadata": {},
     "output_type": "execute_result"
    }
   ],
   "source": [
    "df =pd.read_csv('2019.csv')\n",
    "df.head()"
   ]
  },
  {
   "cell_type": "markdown",
   "metadata": {},
   "source": [
    "## 1. Multiple Regression\n",
    "In multiple regression modelling, you are trying to model the response variable using __multiple__ explanatory variables! Basically, all you need to do is to implement the following formula:<br>\n",
    "\n",
    "\\begin{align}\n",
    "\\ y & = \\beta_0\\ + \\beta_1 x_1\\ + \\beta_2 x_2 \\ + \\beta_3 x_3\\ + ... + \\beta_i x_i\\\\\n",
    "\\end{align}\n",
    "\n",
    "To have a better understanding of what you need to do, take a look at the following formula, which is basically the same formula written in a different form:\n",
    "\n",
    "\\begin{align}\n",
    "\\ y & = \\beta_0 \\times\\ 1\\ + \\beta_1 x_1\\ + \\beta_2 x_2 \\ + \\beta_3 x_3\\ + ... + \\beta_i x_i\\\\\n",
    "\\end{align}\n",
    "\n",
    "    \n",
    "__Take a look at the formula! What do you need to implement it in python?__\n",
    "\n",
    "In the following example, I will be implementing a multiple regression with two explanatory variables.\n",
    "\n",
    "<font color = 'red'>__Make sure you make the necessary changes so that your code implements a multiple regression model with any number of explanatory variables__"
   ]
  },
  {
   "cell_type": "markdown",
   "metadata": {},
   "source": [
    "### 1.1 multiple regression prediction function.\n",
    "I will be showing you the steps you need to implement within your function.\n",
    "\n",
    "Lets say we want to model __Happiness score__ using __Healthy life expectancy__ and __Social support__.<br>\n",
    "There will be two explanatory variables and ONE intercept (b0)\n",
    "\n",
    "The following example is using a _hypothetical_ model with a _hypothetical parameter array_. You will need to incorporate these steps into a function!\n",
    "\n",
    "<font color = 'red'>__This is just one way of implementing the function. You can come up with your own methods to implement this multiple regression prediction function__\n",
    "    \n",
    "    ** use print statements on the way for debugging"
   ]
  },
  {
   "cell_type": "code",
   "execution_count": 9,
   "metadata": {},
   "outputs": [
    {
     "name": "stdout",
     "output_type": "stream",
     "text": [
      "<class 'list'>\n",
      "<class 'list'>\n",
      "<class 'numpy.ndarray'>\n",
      "[1.5 1.5 1.5 1.5 1.5 1.5 1.5 1.5 1.5 1.5 1.5 1.5 1.5 1.5 1.5 1.5 1.5 1.5\n",
      " 1.5 1.5 1.5 1.5 1.5 1.5 1.5 1.5 1.5 1.5 1.5 1.5 1.5 1.5 1.5 1.5 1.5 1.5\n",
      " 1.5 1.5 1.5 1.5 1.5 1.5 1.5 1.5 1.5 1.5 1.5 1.5 1.5 1.5 1.5 1.5 1.5 1.5\n",
      " 1.5 1.5 1.5 1.5 1.5 1.5 1.5 1.5 1.5 1.5 1.5 1.5 1.5 1.5 1.5 1.5 1.5 1.5\n",
      " 1.5 1.5 1.5 1.5 1.5 1.5 1.5 1.5 1.5 1.5 1.5 1.5 1.5 1.5 1.5 1.5 1.5 1.5\n",
      " 1.5 1.5 1.5 1.5 1.5 1.5 1.5 1.5 1.5 1.5 1.5 1.5 1.5 1.5 1.5 1.5 1.5 1.5\n",
      " 1.5 1.5 1.5 1.5 1.5 1.5 1.5 1.5 1.5 1.5 1.5 1.5 1.5 1.5 1.5 1.5 1.5 1.5\n",
      " 1.5 1.5 1.5 1.5 1.5 1.5 1.5 1.5 1.5 1.5 1.5 1.5 1.5 1.5 1.5 1.5 1.5 1.5\n",
      " 1.5 1.5 1.5 1.5 1.5 1.5 1.5 1.5 1.5 1.5 1.5 1.5 1.5]\n",
      "[1.5 1.5 1.5 1.5 1.5 1.5 1.5 1.5 1.5 1.5 1.5 1.5 1.5 1.5 1.5 1.5 1.5 1.5\n",
      " 1.5 1.5 1.5 1.5 1.5 1.5 1.5 1.5 1.5 1.5 1.5 1.5 1.5 1.5 1.5 1.5 1.5 1.5\n",
      " 1.5 1.5 1.5 1.5 1.5 1.5 1.5 1.5 1.5 1.5 1.5 1.5 1.5 1.5 1.5 1.5 1.5 1.5\n",
      " 1.5 1.5 1.5 1.5 1.5 1.5 1.5 1.5 1.5 1.5 1.5 1.5 1.5 1.5 1.5 1.5 1.5 1.5\n",
      " 1.5 1.5 1.5 1.5 1.5 1.5 1.5 1.5 1.5 1.5 1.5 1.5 1.5 1.5 1.5 1.5 1.5 1.5\n",
      " 1.5 1.5 1.5 1.5 1.5 1.5 1.5 1.5 1.5 1.5 1.5 1.5 1.5 1.5 1.5 1.5 1.5 1.5\n",
      " 1.5 1.5 1.5 1.5 1.5 1.5 1.5 1.5 1.5 1.5 1.5 1.5 1.5 1.5 1.5 1.5 1.5 1.5\n",
      " 1.5 1.5 1.5 1.5 1.5 1.5 1.5 1.5 1.5 1.5 1.5 1.5 1.5 1.5 1.5 1.5 1.5 1.5\n",
      " 1.5 1.5 1.5 1.5 1.5 1.5 1.5 1.5 1.5 1.5 1.5 1.5 1.5]\n"
     ]
    },
    {
     "data": {
      "text/plain": [
       "0      8.233\n",
       "1      8.211\n",
       "2      8.302\n",
       "3      8.424\n",
       "4      8.064\n",
       "       ...  \n",
       "152    5.153\n",
       "153    3.773\n",
       "154    1.710\n",
       "155    3.815\n",
       "156    8.661\n",
       "Length: 157, dtype: float64"
      ]
     },
     "execution_count": 9,
     "metadata": {},
     "output_type": "execute_result"
    }
   ],
   "source": [
    "b_toy = [1.5, 2, 3]\n",
    "print(type(b_toy))\n",
    "\n",
    "xnames = ['HealthyLifeExpectancy', 'SocialSupport']\n",
    "print(type(xnames))\n",
    "\n",
    "yp = np.ones(len(df.index)) * b_toy[0]\n",
    "print(type(yp))\n",
    "print(yp)\n",
    "\n",
    "def multiRegPredict(b, D, xnames):\n",
    "    yp = np.ones(len(D.index)) * b[0]\n",
    "    for i in range(2):\n",
    "        yp = yp + D[xnames[i]]*b[i+1]\n",
    "    return yp\n",
    "\n",
    "print(yp)\n",
    "\n",
    "multiRegPredict(b_toy, df, xnames)\n",
    "\n"
   ]
  },
  {
   "cell_type": "markdown",
   "metadata": {},
   "source": [
    "### 1.2 The LOSS function\n",
    "Here, I will show you the steps for implementing the RSS loss function. The function should be returning the RSS value __AND__ the derivative array. Use print statement at each step of the way. It will help you debug the code!\n",
    "\n",
    "__Again, keep in mind that I am showing you the steps for a multiple regression with two explanatory variables__"
   ]
  },
  {
   "cell_type": "markdown",
   "metadata": {},
   "source": [
    "#### 1.2.1 Calculate the RSS value"
   ]
  },
  {
   "cell_type": "code",
   "execution_count": null,
   "metadata": {},
   "outputs": [],
   "source": [
    "y = df['Score']\n",
    "print(y)\n",
    "print(type(yp))\n",
    "\n",
    "\n",
    "# 1. Calculate the residuals\n",
    "res = y - yp\n",
    "print(type(res))\n",
    "\n",
    "# 2. Calcualate the sum quare of the residuals\n",
    "res2 = res**2\n",
    "\n",
    "# 3. Calculate the sum of the square of the residuals\n",
    "RSS = sum(res2)\n",
    "print(\"The RSS is %f\" %RSS)"
   ]
  },
  {
   "cell_type": "markdown",
   "metadata": {},
   "source": [
    "#### 1.2.2 Build up the derivative array"
   ]
  },
  {
   "cell_type": "code",
   "execution_count": null,
   "metadata": {},
   "outputs": [],
   "source": [
    "# 1. Initialize the derivative array\n",
    "deriv = np.zeros(3) # 3 for this specific situation, Use len(xnames) + 1 for other cases\n",
    "\n",
    "# 2. Compute the derivative for the intercept\n",
    "deriv[0] = -2 * sum(res)\n",
    "\n",
    "# 3. Use a for loop to cmpute the derivatives for the slopes\n",
    "for i in range(len(xnames)):\n",
    "    # Select the corresponsding predictors\n",
    "    xi = df[xnames[i]]\n",
    "    deriv[i+1] = -2 * np.sum(xi*res)\n",
    "\n",
    "print(deriv)\n",
    "\n",
    "def multiRegLossRSS(b, D, y, xnames):\n",
    "    # compute yp using multiRegPredict\n",
    "    yp = multiRegPredict(b, D, xnames)\n",
    "    res = ...\n",
    "    rss = ...\n",
    "    grad = ...\n",
    "    return (rss, grad)\n",
    "\n",
    "RSS, grad = multiRegLossRSS([1.5, 2, 3], df, df.score, ['HealthyLifeExpectancy', 'SocialSupport'])"
   ]
  },
  {
   "cell_type": "markdown",
   "metadata": {},
   "source": [
    "## 3. leave-one-out cross validation\n",
    "All the steps performed in the previous assignment are applicable in here.\n",
    "\n",
    "As an example, lets say I want to use the first half of the dataframe for training and the second half for testing. The the code will be:"
   ]
  },
  {
   "cell_type": "code",
   "execution_count": null,
   "metadata": {},
   "outputs": [],
   "source": [
    "# train vs test\n",
    "train_df = df.loc[0:79]\n",
    "test_df = df.loc[79:157]\n",
    "\n",
    "def leaveOneOutCV(D, y, xname, fitcn=?, predictfcn=multiRegPredict):\n",
    "    N = len(y)\n",
    "    yp = np.zeros(N)\n",
    "    ind = np.arange(N)\n",
    "\n",
    "    # 1. Create a for loop that goes over each observation and removes it to make a prediction\n",
    "    # 2. Compute R2, b using your function that optimizes the loss\n",
    "    yp[i] = predictfcn(b, D[ind==i], xname)     # 3. Predict the value you removed\n",
    "\n"
   ]
  },
  {
   "cell_type": "markdown",
   "metadata": {},
   "source": [
    "## 4. Bootstrapping for regression \n",
    "The steps you need to perform here are the same as the bootstrap function you have already defined in the previous assignments. Except here, you are using the bootstrapping method to get the distributions for the regression parameters. So basically, each parameter will be a stat which is calculated in each iteration and the output of this bootstrapping function is going to be a __numpy array__ with the distribution for each parameter on each column.\n",
    "\n",
    "Just like before, I will show you the steps you need to perform for a special case in which you have 2 explanatory variables. You will need to put these steps together to build your bootstrapping function.\n",
    "\n",
    "We will be using smf for fitting the model! The input to your bootstrap function, as stated in the question, is the explanatory variables part of the formula, basically, whatever comes after the '~'. So, it would be good to use smf.fit() to fit the model and get the number of parameters.\n",
    "\n",
    "<font color = 'red'>__Again, this is just one way to do this and you are free to come up with new methods__"
   ]
  },
  {
   "cell_type": "markdown",
   "metadata": {},
   "source": [
    "### 4.1 Fit a model right away JUST to get the number of parameters\n",
    "Keep in mind that in the assignment, you are supposed to write a function that does the fitting. I don't have the function in here."
   ]
  },
  {
   "cell_type": "code",
   "execution_count": null,
   "metadata": {},
   "outputs": [],
   "source": [
    "R2, b = fitcn(D, y, ...)\n",
    "\n",
    "numParam = len(b)"
   ]
  },
  {
   "cell_type": "markdown",
   "metadata": {},
   "source": [
    "### 4.2 create an array that represents the indices.\n",
    "random sampling with replacements will be done using this array"
   ]
  },
  {
   "cell_type": "code",
   "execution_count": 10,
   "metadata": {},
   "outputs": [],
   "source": [
    "N = len(df.index)\n",
    "ind = np.arange(N)"
   ]
  },
  {
   "cell_type": "markdown",
   "metadata": {},
   "source": [
    "### 4.3 Initialize the array that will have your stats (here: parameter estimates)\n",
    "lets say, just like your previous bootstrap function, you want to do numIter iterations. The distribution for each parameter will be placed within each column of the array that we are initializing here!"
   ]
  },
  {
   "cell_type": "code",
   "execution_count": 11,
   "metadata": {},
   "outputs": [
    {
     "ename": "NameError",
     "evalue": "name 'numParam' is not defined",
     "output_type": "error",
     "traceback": [
      "\u001b[0;31m---------------------------------------------------------------------------\u001b[0m",
      "\u001b[0;31mNameError\u001b[0m                                 Traceback (most recent call last)",
      "Cell \u001b[0;32mIn[11], line 2\u001b[0m\n\u001b[1;32m      1\u001b[0m numIter \u001b[38;5;241m=\u001b[39m \u001b[38;5;241m1000\u001b[39m\n\u001b[0;32m----> 2\u001b[0m stats \u001b[38;5;241m=\u001b[39m np\u001b[38;5;241m.\u001b[39mzeros((numIter, \u001b[43mnumParam\u001b[49m))\n",
      "\u001b[0;31mNameError\u001b[0m: name 'numParam' is not defined"
     ]
    }
   ],
   "source": [
    "numIter = 1000\n",
    "stats = np.zeros((numIter, numParam))"
   ]
  },
  {
   "cell_type": "markdown",
   "metadata": {},
   "source": [
    "### 4.4 iterate over the following steps (put the steps within a for loop, just like your previous bootstrap function)\n",
    "<font color = 'red'>Again, you might need to modify these steps to work with the function you define for the assignment"
   ]
  },
  {
   "cell_type": "code",
   "execution_count": null,
   "metadata": {},
   "outputs": [],
   "source": [
    "sample = np.random.choice(ind, N)\n",
    "\n",
    "R2, b = fitfcn(...)\n",
    "\n",
    "stat[i, :] = b"
   ]
  },
  {
   "cell_type": "markdown",
   "metadata": {},
   "source": [
    "### 4.5 you can use the your function for confidence interval to build confidence intervals for each parameter separately.\n",
    "Remember, in here, I coded my bootstrap so that I have the distribution for each parameter on one column. For example, the distribution for the intercept, which is the first parameter, will be stat[:, 0]."
   ]
  }
 ],
 "metadata": {
  "kernelspec": {
   "display_name": "Python 3",
   "language": "python",
   "name": "python3"
  },
  "language_info": {
   "codemirror_mode": {
    "name": "ipython",
    "version": 3
   },
   "file_extension": ".py",
   "mimetype": "text/x-python",
   "name": "python",
   "nbconvert_exporter": "python",
   "pygments_lexer": "ipython3",
   "version": "3.9.6"
  }
 },
 "nbformat": 4,
 "nbformat_minor": 2
}
