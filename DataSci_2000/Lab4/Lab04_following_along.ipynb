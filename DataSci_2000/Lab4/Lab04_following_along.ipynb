{
 "cells": [
  {
   "cell_type": "markdown",
   "metadata": {},
   "source": [
    "# Lab Tutorial 04\n",
    "### Learning Outcomes \n",
    "In this tutorial we will review and practice what we have learned so far and learn new stuff to be able to write a function for permutation testing + calculating p-values for hypothesis testing. <br>\n",
    "We will be using StudentsPerformance dataset from the second lab tutorial.<br>\n",
    "Again the dataset can be found in:\n",
    "https://www.kaggle.com/spscientist/students-performance-in-exams\n"
   ]
  },
  {
   "cell_type": "markdown",
   "metadata": {},
   "source": [
    "# Importing packages"
   ]
  },
  {
   "cell_type": "code",
   "execution_count": 1,
   "metadata": {},
   "outputs": [],
   "source": [
    "import pandas as pd\n",
    "import numpy as np\n",
    "import seaborn as sns\n",
    "import matplotlib.pyplot as plt\n",
    "%matplotlib inline"
   ]
  },
  {
   "cell_type": "markdown",
   "metadata": {},
   "source": [
    "# Load in the dataset"
   ]
  },
  {
   "cell_type": "code",
   "execution_count": 3,
   "metadata": {},
   "outputs": [
    {
     "data": {
      "text/html": [
       "<div>\n",
       "<style scoped>\n",
       "    .dataframe tbody tr th:only-of-type {\n",
       "        vertical-align: middle;\n",
       "    }\n",
       "\n",
       "    .dataframe tbody tr th {\n",
       "        vertical-align: top;\n",
       "    }\n",
       "\n",
       "    .dataframe thead th {\n",
       "        text-align: right;\n",
       "    }\n",
       "</style>\n",
       "<table border=\"1\" class=\"dataframe\">\n",
       "  <thead>\n",
       "    <tr style=\"text-align: right;\">\n",
       "      <th></th>\n",
       "      <th>gender</th>\n",
       "      <th>race/ethnicity</th>\n",
       "      <th>parental level of education</th>\n",
       "      <th>lunch</th>\n",
       "      <th>test preparation course</th>\n",
       "      <th>math score</th>\n",
       "      <th>reading score</th>\n",
       "      <th>writing score</th>\n",
       "    </tr>\n",
       "  </thead>\n",
       "  <tbody>\n",
       "    <tr>\n",
       "      <th>0</th>\n",
       "      <td>female</td>\n",
       "      <td>group B</td>\n",
       "      <td>bachelor's degree</td>\n",
       "      <td>standard</td>\n",
       "      <td>none</td>\n",
       "      <td>72</td>\n",
       "      <td>72</td>\n",
       "      <td>74</td>\n",
       "    </tr>\n",
       "    <tr>\n",
       "      <th>1</th>\n",
       "      <td>female</td>\n",
       "      <td>group C</td>\n",
       "      <td>some college</td>\n",
       "      <td>standard</td>\n",
       "      <td>completed</td>\n",
       "      <td>69</td>\n",
       "      <td>90</td>\n",
       "      <td>88</td>\n",
       "    </tr>\n",
       "    <tr>\n",
       "      <th>2</th>\n",
       "      <td>female</td>\n",
       "      <td>group B</td>\n",
       "      <td>master's degree</td>\n",
       "      <td>standard</td>\n",
       "      <td>none</td>\n",
       "      <td>90</td>\n",
       "      <td>95</td>\n",
       "      <td>93</td>\n",
       "    </tr>\n",
       "    <tr>\n",
       "      <th>3</th>\n",
       "      <td>male</td>\n",
       "      <td>group A</td>\n",
       "      <td>associate's degree</td>\n",
       "      <td>free/reduced</td>\n",
       "      <td>none</td>\n",
       "      <td>47</td>\n",
       "      <td>57</td>\n",
       "      <td>44</td>\n",
       "    </tr>\n",
       "    <tr>\n",
       "      <th>4</th>\n",
       "      <td>male</td>\n",
       "      <td>group C</td>\n",
       "      <td>some college</td>\n",
       "      <td>standard</td>\n",
       "      <td>none</td>\n",
       "      <td>76</td>\n",
       "      <td>78</td>\n",
       "      <td>75</td>\n",
       "    </tr>\n",
       "  </tbody>\n",
       "</table>\n",
       "</div>"
      ],
      "text/plain": [
       "   gender race/ethnicity parental level of education         lunch  \\\n",
       "0  female        group B           bachelor's degree      standard   \n",
       "1  female        group C                some college      standard   \n",
       "2  female        group B             master's degree      standard   \n",
       "3    male        group A          associate's degree  free/reduced   \n",
       "4    male        group C                some college      standard   \n",
       "\n",
       "  test preparation course  math score  reading score  writing score  \n",
       "0                    none          72             72             74  \n",
       "1               completed          69             90             88  \n",
       "2                    none          90             95             93  \n",
       "3                    none          47             57             44  \n",
       "4                    none          76             78             75  "
      ]
     },
     "execution_count": 3,
     "metadata": {},
     "output_type": "execute_result"
    }
   ],
   "source": [
    "df = pd.read_csv(\"StudentsPerformance.csv\")\n",
    "df.head()"
   ]
  },
  {
   "cell_type": "markdown",
   "metadata": {},
   "source": [
    "## A contingency table again!\n",
    "_Question 1 - Create contingency table of ethnicity by gender"
   ]
  },
  {
   "cell_type": "code",
   "execution_count": 7,
   "metadata": {},
   "outputs": [
    {
     "data": {
      "text/html": [
       "<div>\n",
       "<style scoped>\n",
       "    .dataframe tbody tr th:only-of-type {\n",
       "        vertical-align: middle;\n",
       "    }\n",
       "\n",
       "    .dataframe tbody tr th {\n",
       "        vertical-align: top;\n",
       "    }\n",
       "\n",
       "    .dataframe thead th {\n",
       "        text-align: right;\n",
       "    }\n",
       "</style>\n",
       "<table border=\"1\" class=\"dataframe\">\n",
       "  <thead>\n",
       "    <tr style=\"text-align: right;\">\n",
       "      <th>gender</th>\n",
       "      <th>female</th>\n",
       "      <th>male</th>\n",
       "      <th>All</th>\n",
       "    </tr>\n",
       "    <tr>\n",
       "      <th>race/ethnicity</th>\n",
       "      <th></th>\n",
       "      <th></th>\n",
       "      <th></th>\n",
       "    </tr>\n",
       "  </thead>\n",
       "  <tbody>\n",
       "    <tr>\n",
       "      <th>group A</th>\n",
       "      <td>36</td>\n",
       "      <td>53</td>\n",
       "      <td>89</td>\n",
       "    </tr>\n",
       "    <tr>\n",
       "      <th>group B</th>\n",
       "      <td>104</td>\n",
       "      <td>86</td>\n",
       "      <td>190</td>\n",
       "    </tr>\n",
       "    <tr>\n",
       "      <th>group C</th>\n",
       "      <td>180</td>\n",
       "      <td>139</td>\n",
       "      <td>319</td>\n",
       "    </tr>\n",
       "    <tr>\n",
       "      <th>group D</th>\n",
       "      <td>129</td>\n",
       "      <td>133</td>\n",
       "      <td>262</td>\n",
       "    </tr>\n",
       "    <tr>\n",
       "      <th>group E</th>\n",
       "      <td>69</td>\n",
       "      <td>71</td>\n",
       "      <td>140</td>\n",
       "    </tr>\n",
       "    <tr>\n",
       "      <th>All</th>\n",
       "      <td>518</td>\n",
       "      <td>482</td>\n",
       "      <td>1000</td>\n",
       "    </tr>\n",
       "  </tbody>\n",
       "</table>\n",
       "</div>"
      ],
      "text/plain": [
       "gender          female  male   All\n",
       "race/ethnicity                    \n",
       "group A             36    53    89\n",
       "group B            104    86   190\n",
       "group C            180   139   319\n",
       "group D            129   133   262\n",
       "group E             69    71   140\n",
       "All                518   482  1000"
      ]
     },
     "metadata": {},
     "output_type": "display_data"
    }
   ],
   "source": [
    "ctab = pd.crosstab(df['race/ethnicity'], df['gender'], margins=True)\n",
    "display(ctab)"
   ]
  },
  {
   "cell_type": "code",
   "execution_count": 9,
   "metadata": {},
   "outputs": [
    {
     "data": {
      "text/plain": [
       "np.float64(0.089)"
      ]
     },
     "execution_count": 9,
     "metadata": {},
     "output_type": "execute_result"
    }
   ],
   "source": [
    "p_groupA = ctab['All']['group A']/ctab['All']['All']\n",
    "p_groupA"
   ]
  },
  {
   "cell_type": "markdown",
   "metadata": {},
   "source": [
    "Separating two groups in terms of their race: A not A"
   ]
  },
  {
   "cell_type": "code",
   "execution_count": 13,
   "metadata": {},
   "outputs": [
    {
     "data": {
      "text/html": [
       "<div>\n",
       "<style scoped>\n",
       "    .dataframe tbody tr th:only-of-type {\n",
       "        vertical-align: middle;\n",
       "    }\n",
       "\n",
       "    .dataframe tbody tr th {\n",
       "        vertical-align: top;\n",
       "    }\n",
       "\n",
       "    .dataframe thead th {\n",
       "        text-align: right;\n",
       "    }\n",
       "</style>\n",
       "<table border=\"1\" class=\"dataframe\">\n",
       "  <thead>\n",
       "    <tr style=\"text-align: right;\">\n",
       "      <th>gender</th>\n",
       "      <th>female</th>\n",
       "      <th>male</th>\n",
       "      <th>All</th>\n",
       "    </tr>\n",
       "    <tr>\n",
       "      <th>race/ethnicity</th>\n",
       "      <th></th>\n",
       "      <th></th>\n",
       "      <th></th>\n",
       "    </tr>\n",
       "  </thead>\n",
       "  <tbody>\n",
       "    <tr>\n",
       "      <th>False</th>\n",
       "      <td>482</td>\n",
       "      <td>429</td>\n",
       "      <td>911</td>\n",
       "    </tr>\n",
       "    <tr>\n",
       "      <th>True</th>\n",
       "      <td>36</td>\n",
       "      <td>53</td>\n",
       "      <td>89</td>\n",
       "    </tr>\n",
       "    <tr>\n",
       "      <th>All</th>\n",
       "      <td>518</td>\n",
       "      <td>482</td>\n",
       "      <td>1000</td>\n",
       "    </tr>\n",
       "  </tbody>\n",
       "</table>\n",
       "</div>"
      ],
      "text/plain": [
       "gender          female  male   All\n",
       "race/ethnicity                    \n",
       "False              482   429   911\n",
       "True                36    53    89\n",
       "All                518   482  1000"
      ]
     },
     "execution_count": 13,
     "metadata": {},
     "output_type": "execute_result"
    }
   ],
   "source": [
    "ctab2 = pd.crosstab(df['race/ethnicity'] == \"group A\", df['gender'], margins=True)\n",
    "ctab2"
   ]
  },
  {
   "cell_type": "code",
   "execution_count": 16,
   "metadata": {},
   "outputs": [
    {
     "data": {
      "text/plain": [
       "np.float64(0.089)"
      ]
     },
     "execution_count": 16,
     "metadata": {},
     "output_type": "execute_result"
    }
   ],
   "source": [
    "p_groupA = ctab2['All'][True]/ctab2['All']['All']\n",
    "p_groupA\n"
   ]
  },
  {
   "cell_type": "code",
   "execution_count": 17,
   "metadata": {},
   "outputs": [
    {
     "data": {
      "text/plain": [
       "np.float64(0.911)"
      ]
     },
     "execution_count": 17,
     "metadata": {},
     "output_type": "execute_result"
    }
   ],
   "source": [
    "p_groupnotA = ctab2['All'][False]/ctab2['All']['All']\n",
    "p_groupnotA"
   ]
  },
  {
   "cell_type": "markdown",
   "metadata": {},
   "source": [
    "# Defining functions again!"
   ]
  },
  {
   "cell_type": "markdown",
   "metadata": {},
   "source": [
    "## Write a function that takes in a dataframe and a column name and returns the mean and std of that column"
   ]
  },
  {
   "cell_type": "code",
   "execution_count": 18,
   "metadata": {},
   "outputs": [],
   "source": [
    "def my_function(data, colname):\n",
    "    mean_col = data[colname].mean()\n",
    "    std_col = data[colname].std()\n",
    "\n",
    "    return (mean_col, std_col)"
   ]
  },
  {
   "cell_type": "markdown",
   "metadata": {},
   "source": [
    "### Use the function to get the mean and std of column \"math score\""
   ]
  },
  {
   "cell_type": "code",
   "execution_count": 19,
   "metadata": {},
   "outputs": [
    {
     "name": "stdout",
     "output_type": "stream",
     "text": [
      "the mean is 66.089\n",
      "the std is 15.16308009600945\n"
     ]
    }
   ],
   "source": [
    "[m, s] = my_function(df, 'math score')\n",
    "print(f\"the mean is {m}\")\n",
    "print(f\"the std is {s}\")"
   ]
  },
  {
   "cell_type": "markdown",
   "metadata": {},
   "source": [
    "## Write a function that takes in a dataframe and calculate the probability of all the races\n",
    "Useful when you are doing this question _(What we are doing here is more complicated than what you need to do for the question)_ :<br>\n",
    "Task 1/Question 3 - Define a function that calculates this difference in probability (10pts)"
   ]
  },
  {
   "cell_type": "code",
   "execution_count": 33,
   "metadata": {},
   "outputs": [],
   "source": [
    "def prob_race(data, nvar = 'race/ethnicity'):\n",
    "    races = data.groupby(nvar).groups.keys()\n",
    "\n",
    "    probs = np.zeros((1, len(races)))\n",
    "\n",
    "    i = 0\n",
    "    for r in races:\n",
    "        ctab_tmp = pd.crosstab(df[nvar] == r, df['gender'], margins=True)\n",
    "        prob_tmp = ctab_tmp['All'][True]/ctab_tmp['All']['All']\n",
    "        probs[0, i] = prob_tmp\n",
    "        i += 1\n",
    "\n",
    "    return probs\n"
   ]
  },
  {
   "cell_type": "code",
   "execution_count": 38,
   "metadata": {},
   "outputs": [
    {
     "data": {
      "text/plain": [
       "array([[0.089, 0.19 , 0.319, 0.262, 0.14 ]])"
      ]
     },
     "execution_count": 38,
     "metadata": {},
     "output_type": "execute_result"
    }
   ],
   "source": [
    "P = prob_race(df)\n",
    "P"
   ]
  },
  {
   "cell_type": "markdown",
   "metadata": {},
   "source": [
    "### Use the funciton to calculate the probabilities"
   ]
  },
  {
   "cell_type": "code",
   "execution_count": 39,
   "metadata": {},
   "outputs": [
    {
     "data": {
      "text/plain": [
       "array([[0.518, 0.482]])"
      ]
     },
     "execution_count": 39,
     "metadata": {},
     "output_type": "execute_result"
    }
   ],
   "source": [
    "prob_race(df, 'gender')"
   ]
  },
  {
   "cell_type": "markdown",
   "metadata": {},
   "source": [
    "## Write a function that takes the number of rows and columns of a numpy array and returns a numpy array with elements drawn from normal distribution (a random 2D numpy array)\n",
    "This is just for practicing function. It is not usually the way we use to create a matrix of random numbers <br>\n",
    "Use __np.random.normal__ : https://docs.scipy.org/doc/numpy-1.15.0/reference/generated/numpy.random.normal.html"
   ]
  },
  {
   "cell_type": "code",
   "execution_count": 42,
   "metadata": {},
   "outputs": [],
   "source": [
    "def rand_array(nrow = 2, ncol = 2):\n",
    "    out_nump = np.zeros((nrow, ncol))\n",
    "\n",
    "    for i in np.arange(nrow):\n",
    "        for j in np.arange(ncol):\n",
    "            out_nump[i,j] = np.random.normal(0,1) # 0 is the mean and 1 is the std\n",
    "    \n",
    "    return out_nump\n"
   ]
  },
  {
   "cell_type": "code",
   "execution_count": 41,
   "metadata": {},
   "outputs": [
    {
     "data": {
      "text/plain": [
       "array([0, 1, 2, 3, 4])"
      ]
     },
     "execution_count": 41,
     "metadata": {},
     "output_type": "execute_result"
    }
   ],
   "source": [
    "np.arange(5)"
   ]
  },
  {
   "cell_type": "markdown",
   "metadata": {},
   "source": [
    "### Use the function to create a 3 by 3 array of random numbers"
   ]
  },
  {
   "cell_type": "code",
   "execution_count": 53,
   "metadata": {},
   "outputs": [],
   "source": [
    "A = rand_array(3,3)"
   ]
  },
  {
   "cell_type": "markdown",
   "metadata": {},
   "source": [
    "### Print all the entries (with 3 decimal points) with row and col number:\n",
    "the output should be like:<br>\n",
    "\"The entry on row 1 col 2 is 0.1\""
   ]
  },
  {
   "cell_type": "code",
   "execution_count": 56,
   "metadata": {},
   "outputs": [
    {
     "name": "stdout",
     "output_type": "stream",
     "text": [
      "The entry cell on row 0 and colum 0 is -1.080\n",
      "The entry cell on row 0 and colum 1 is -0.314\n",
      "The entry cell on row 0 and colum 2 is 1.291\n",
      "The entry cell on row 1 and colum 0 is 0.167\n",
      "The entry cell on row 1 and colum 1 is -0.110\n",
      "The entry cell on row 1 and colum 2 is 0.631\n",
      "The entry cell on row 2 and colum 0 is 0.482\n",
      "The entry cell on row 2 and colum 1 is 0.111\n",
      "The entry cell on row 2 and colum 2 is 0.893\n"
     ]
    }
   ],
   "source": [
    "[r, c] = A.shape\n",
    "\n",
    "for i in np.arange(r):\n",
    "    for j in np.arange(c):\n",
    "        print(f\"The entry cell on row %d and colum %d is %.3f\" %(i, j, A[i,j]))"
   ]
  },
  {
   "cell_type": "markdown",
   "metadata": {},
   "source": [
    "### Practice more:\n",
    "https://www.w3resource.com/python-exercises/python-functions-exercises.php"
   ]
  },
  {
   "cell_type": "markdown",
   "metadata": {},
   "source": [
    "# Problem Description\n",
    "An increasingly common statistical tool for determining whether a difference is significant is the randomization or permutation test. A randomization test builds - rather than assumes – a distribution of the test statistics. This is achieved by exchanging or permuting variables which are “exchangeable” under the Null-hypothesis. A randomization test gives a simple way to compute the distribution for any test statistic under the null hypothesis that the dependent variable is statistically not dependent of the shuffled variable.<br><br><br>\n",
    "Assuming that the gender variable is exchangeable, randomly shuffle the dataframe.<br>\n",
    "The docs that you will need:\n",
    "* https://docs.scipy.org/doc/numpy-1.15.0/reference/generated/numpy.random.shuffle.html\n",
    "* https://pandas.pydata.org/pandas-docs/stable/reference/api/pandas.DataFrame.reset_index.html\n",
    "\n",
    "\n",
    "We want to test the hypothesis that male students are more likely than female students to take test preparation course. Under this hypothesis the p(test|male) should be higher than p(test|female)."
   ]
  },
  {
   "cell_type": "markdown",
   "metadata": {},
   "source": [
    "## 1. create a copy of the dataframe\n",
    "you don't want to change the original dataframe cause in each iteration, you want to shuffle the original one."
   ]
  },
  {
   "cell_type": "code",
   "execution_count": 65,
   "metadata": {},
   "outputs": [
    {
     "data": {
      "text/html": [
       "<div>\n",
       "<style scoped>\n",
       "    .dataframe tbody tr th:only-of-type {\n",
       "        vertical-align: middle;\n",
       "    }\n",
       "\n",
       "    .dataframe tbody tr th {\n",
       "        vertical-align: top;\n",
       "    }\n",
       "\n",
       "    .dataframe thead th {\n",
       "        text-align: right;\n",
       "    }\n",
       "</style>\n",
       "<table border=\"1\" class=\"dataframe\">\n",
       "  <thead>\n",
       "    <tr style=\"text-align: right;\">\n",
       "      <th></th>\n",
       "      <th>gender</th>\n",
       "      <th>race/ethnicity</th>\n",
       "      <th>parental level of education</th>\n",
       "      <th>lunch</th>\n",
       "      <th>test preparation course</th>\n",
       "      <th>math score</th>\n",
       "      <th>reading score</th>\n",
       "      <th>writing score</th>\n",
       "    </tr>\n",
       "  </thead>\n",
       "  <tbody>\n",
       "    <tr>\n",
       "      <th>0</th>\n",
       "      <td>female</td>\n",
       "      <td>group B</td>\n",
       "      <td>bachelor's degree</td>\n",
       "      <td>standard</td>\n",
       "      <td>none</td>\n",
       "      <td>72</td>\n",
       "      <td>72</td>\n",
       "      <td>74</td>\n",
       "    </tr>\n",
       "    <tr>\n",
       "      <th>1</th>\n",
       "      <td>female</td>\n",
       "      <td>group C</td>\n",
       "      <td>some college</td>\n",
       "      <td>standard</td>\n",
       "      <td>completed</td>\n",
       "      <td>69</td>\n",
       "      <td>90</td>\n",
       "      <td>88</td>\n",
       "    </tr>\n",
       "    <tr>\n",
       "      <th>2</th>\n",
       "      <td>female</td>\n",
       "      <td>group B</td>\n",
       "      <td>master's degree</td>\n",
       "      <td>standard</td>\n",
       "      <td>none</td>\n",
       "      <td>90</td>\n",
       "      <td>95</td>\n",
       "      <td>93</td>\n",
       "    </tr>\n",
       "    <tr>\n",
       "      <th>3</th>\n",
       "      <td>male</td>\n",
       "      <td>group A</td>\n",
       "      <td>associate's degree</td>\n",
       "      <td>free/reduced</td>\n",
       "      <td>none</td>\n",
       "      <td>47</td>\n",
       "      <td>57</td>\n",
       "      <td>44</td>\n",
       "    </tr>\n",
       "    <tr>\n",
       "      <th>4</th>\n",
       "      <td>male</td>\n",
       "      <td>group C</td>\n",
       "      <td>some college</td>\n",
       "      <td>standard</td>\n",
       "      <td>none</td>\n",
       "      <td>76</td>\n",
       "      <td>78</td>\n",
       "      <td>75</td>\n",
       "    </tr>\n",
       "  </tbody>\n",
       "</table>\n",
       "</div>"
      ],
      "text/plain": [
       "   gender race/ethnicity parental level of education         lunch  \\\n",
       "0  female        group B           bachelor's degree      standard   \n",
       "1  female        group C                some college      standard   \n",
       "2  female        group B             master's degree      standard   \n",
       "3    male        group A          associate's degree  free/reduced   \n",
       "4    male        group C                some college      standard   \n",
       "\n",
       "  test preparation course  math score  reading score  writing score  \n",
       "0                    none          72             72             74  \n",
       "1               completed          69             90             88  \n",
       "2                    none          90             95             93  \n",
       "3                    none          47             57             44  \n",
       "4                    none          76             78             75  "
      ]
     },
     "execution_count": 65,
     "metadata": {},
     "output_type": "execute_result"
    }
   ],
   "source": [
    "df_copy = df.copy()\n",
    "df_copy.head()"
   ]
  },
  {
   "cell_type": "markdown",
   "metadata": {},
   "source": [
    "## 2. create an array that represent the indices\n",
    "as the indices are integers, you can create an array, having the same numbers as the indices in the dataframe and use it as the index!"
   ]
  },
  {
   "cell_type": "code",
   "execution_count": 78,
   "metadata": {},
   "outputs": [
    {
     "data": {
      "text/plain": [
       "array([  0,   1,   2,   3,   4,   5,   6,   7,   8,   9,  10,  11,  12,\n",
       "        13,  14,  15,  16,  17,  18,  19,  20,  21,  22,  23,  24,  25,\n",
       "        26,  27,  28,  29,  30,  31,  32,  33,  34,  35,  36,  37,  38,\n",
       "        39,  40,  41,  42,  43,  44,  45,  46,  47,  48,  49,  50,  51,\n",
       "        52,  53,  54,  55,  56,  57,  58,  59,  60,  61,  62,  63,  64,\n",
       "        65,  66,  67,  68,  69,  70,  71,  72,  73,  74,  75,  76,  77,\n",
       "        78,  79,  80,  81,  82,  83,  84,  85,  86,  87,  88,  89,  90,\n",
       "        91,  92,  93,  94,  95,  96,  97,  98,  99, 100, 101, 102, 103,\n",
       "       104, 105, 106, 107, 108, 109, 110, 111, 112, 113, 114, 115, 116,\n",
       "       117, 118, 119, 120, 121, 122, 123, 124, 125, 126, 127, 128, 129,\n",
       "       130, 131, 132, 133, 134, 135, 136, 137, 138, 139, 140, 141, 142,\n",
       "       143, 144, 145, 146, 147, 148, 149, 150, 151, 152, 153, 154, 155,\n",
       "       156, 157, 158, 159, 160, 161, 162, 163, 164, 165, 166, 167, 168,\n",
       "       169, 170, 171, 172, 173, 174, 175, 176, 177, 178, 179, 180, 181,\n",
       "       182, 183, 184, 185, 186, 187, 188, 189, 190, 191, 192, 193, 194,\n",
       "       195, 196, 197, 198, 199, 200, 201, 202, 203, 204, 205, 206, 207,\n",
       "       208, 209, 210, 211, 212, 213, 214, 215, 216, 217, 218, 219, 220,\n",
       "       221, 222, 223, 224, 225, 226, 227, 228, 229, 230, 231, 232, 233,\n",
       "       234, 235, 236, 237, 238, 239, 240, 241, 242, 243, 244, 245, 246,\n",
       "       247, 248, 249, 250, 251, 252, 253, 254, 255, 256, 257, 258, 259,\n",
       "       260, 261, 262, 263, 264, 265, 266, 267, 268, 269, 270, 271, 272,\n",
       "       273, 274, 275, 276, 277, 278, 279, 280, 281, 282, 283, 284, 285,\n",
       "       286, 287, 288, 289, 290, 291, 292, 293, 294, 295, 296, 297, 298,\n",
       "       299, 300, 301, 302, 303, 304, 305, 306, 307, 308, 309, 310, 311,\n",
       "       312, 313, 314, 315, 316, 317, 318, 319, 320, 321, 322, 323, 324,\n",
       "       325, 326, 327, 328, 329, 330, 331, 332, 333, 334, 335, 336, 337,\n",
       "       338, 339, 340, 341, 342, 343, 344, 345, 346, 347, 348, 349, 350,\n",
       "       351, 352, 353, 354, 355, 356, 357, 358, 359, 360, 361, 362, 363,\n",
       "       364, 365, 366, 367, 368, 369, 370, 371, 372, 373, 374, 375, 376,\n",
       "       377, 378, 379, 380, 381, 382, 383, 384, 385, 386, 387, 388, 389,\n",
       "       390, 391, 392, 393, 394, 395, 396, 397, 398, 399, 400, 401, 402,\n",
       "       403, 404, 405, 406, 407, 408, 409, 410, 411, 412, 413, 414, 415,\n",
       "       416, 417, 418, 419, 420, 421, 422, 423, 424, 425, 426, 427, 428,\n",
       "       429, 430, 431, 432, 433, 434, 435, 436, 437, 438, 439, 440, 441,\n",
       "       442, 443, 444, 445, 446, 447, 448, 449, 450, 451, 452, 453, 454,\n",
       "       455, 456, 457, 458, 459, 460, 461, 462, 463, 464, 465, 466, 467,\n",
       "       468, 469, 470, 471, 472, 473, 474, 475, 476, 477, 478, 479, 480,\n",
       "       481, 482, 483, 484, 485, 486, 487, 488, 489, 490, 491, 492, 493,\n",
       "       494, 495, 496, 497, 498, 499, 500, 501, 502, 503, 504, 505, 506,\n",
       "       507, 508, 509, 510, 511, 512, 513, 514, 515, 516, 517, 518, 519,\n",
       "       520, 521, 522, 523, 524, 525, 526, 527, 528, 529, 530, 531, 532,\n",
       "       533, 534, 535, 536, 537, 538, 539, 540, 541, 542, 543, 544, 545,\n",
       "       546, 547, 548, 549, 550, 551, 552, 553, 554, 555, 556, 557, 558,\n",
       "       559, 560, 561, 562, 563, 564, 565, 566, 567, 568, 569, 570, 571,\n",
       "       572, 573, 574, 575, 576, 577, 578, 579, 580, 581, 582, 583, 584,\n",
       "       585, 586, 587, 588, 589, 590, 591, 592, 593, 594, 595, 596, 597,\n",
       "       598, 599, 600, 601, 602, 603, 604, 605, 606, 607, 608, 609, 610,\n",
       "       611, 612, 613, 614, 615, 616, 617, 618, 619, 620, 621, 622, 623,\n",
       "       624, 625, 626, 627, 628, 629, 630, 631, 632, 633, 634, 635, 636,\n",
       "       637, 638, 639, 640, 641, 642, 643, 644, 645, 646, 647, 648, 649,\n",
       "       650, 651, 652, 653, 654, 655, 656, 657, 658, 659, 660, 661, 662,\n",
       "       663, 664, 665, 666, 667, 668, 669, 670, 671, 672, 673, 674, 675,\n",
       "       676, 677, 678, 679, 680, 681, 682, 683, 684, 685, 686, 687, 688,\n",
       "       689, 690, 691, 692, 693, 694, 695, 696, 697, 698, 699, 700, 701,\n",
       "       702, 703, 704, 705, 706, 707, 708, 709, 710, 711, 712, 713, 714,\n",
       "       715, 716, 717, 718, 719, 720, 721, 722, 723, 724, 725, 726, 727,\n",
       "       728, 729, 730, 731, 732, 733, 734, 735, 736, 737, 738, 739, 740,\n",
       "       741, 742, 743, 744, 745, 746, 747, 748, 749, 750, 751, 752, 753,\n",
       "       754, 755, 756, 757, 758, 759, 760, 761, 762, 763, 764, 765, 766,\n",
       "       767, 768, 769, 770, 771, 772, 773, 774, 775, 776, 777, 778, 779,\n",
       "       780, 781, 782, 783, 784, 785, 786, 787, 788, 789, 790, 791, 792,\n",
       "       793, 794, 795, 796, 797, 798, 799, 800, 801, 802, 803, 804, 805,\n",
       "       806, 807, 808, 809, 810, 811, 812, 813, 814, 815, 816, 817, 818,\n",
       "       819, 820, 821, 822, 823, 824, 825, 826, 827, 828, 829, 830, 831,\n",
       "       832, 833, 834, 835, 836, 837, 838, 839, 840, 841, 842, 843, 844,\n",
       "       845, 846, 847, 848, 849, 850, 851, 852, 853, 854, 855, 856, 857,\n",
       "       858, 859, 860, 861, 862, 863, 864, 865, 866, 867, 868, 869, 870,\n",
       "       871, 872, 873, 874, 875, 876, 877, 878, 879, 880, 881, 882, 883,\n",
       "       884, 885, 886, 887, 888, 889, 890, 891, 892, 893, 894, 895, 896,\n",
       "       897, 898, 899, 900, 901, 902, 903, 904, 905, 906, 907, 908, 909,\n",
       "       910, 911, 912, 913, 914, 915, 916, 917, 918, 919, 920, 921, 922,\n",
       "       923, 924, 925, 926, 927, 928, 929, 930, 931, 932, 933, 934, 935,\n",
       "       936, 937, 938, 939, 940, 941, 942, 943, 944, 945, 946, 947, 948,\n",
       "       949, 950, 951, 952, 953, 954, 955, 956, 957, 958, 959, 960, 961,\n",
       "       962, 963, 964, 965, 966, 967, 968, 969, 970, 971, 972, 973, 974,\n",
       "       975, 976, 977, 978, 979, 980, 981, 982, 983, 984, 985, 986, 987,\n",
       "       988, 989, 990, 991, 992, 993, 994, 995, 996, 997, 998, 999])"
      ]
     },
     "execution_count": 78,
     "metadata": {},
     "output_type": "execute_result"
    }
   ],
   "source": [
    "inds = np.arange(1000)\n",
    "inds"
   ]
  },
  {
   "cell_type": "markdown",
   "metadata": {},
   "source": [
    "## 3. use np.random.shuffle to randomly shuffle indices.\n",
    "the array that represents the indices will be shuffled."
   ]
  },
  {
   "cell_type": "code",
   "execution_count": 79,
   "metadata": {},
   "outputs": [
    {
     "name": "stdout",
     "output_type": "stream",
     "text": [
      "[569 658 286 609  98 375 689 792 210 874 224 841 748 137 504 758 324 417\n",
      " 320 469  52 766 883 154 701 746 636 513 978 141 483 915 413 587 801 237\n",
      "  41 404 643 975 401 257 855 142 246 940 785 558 783 967 140 887 768 853\n",
      " 111 303 707  48  40 869 962  57 654 510 221  97  62 298 812 449 903 244\n",
      " 183 156 663 825 366 329 642 332 179 791 149 361 845 143 214 379 674 633\n",
      " 101 651 794 780 842 150 590 606 705 993 564 703 828 282 751 374 833 457\n",
      " 133 909 895 817 334 615 555 509 586   4 943 549 195 387 835 809 408 613\n",
      " 388 852 382 157  46  85 611 650  21 697 370 458 559 818 146 238 882 204\n",
      " 676 728 868 155 717 931 715 944  89 682 745 422 169 583 253 202 541 597\n",
      " 519 398  74 891 346 772 311 393 953 738 295 885 600 344 545 846 108 635\n",
      " 899 608 938 679 740 511 556 534  29 423 369 313 972  53 207 675  50 959\n",
      " 380 245  59 546 949 242  14 436 942 849 984 348 259 836 435 151 129 358\n",
      " 276 297 291 184 240   8 958 974 770   0 261 284 832 409 110 399 983 218\n",
      " 339 496 460 479 798 316 349 439 360 872 727 234 288 622 920  70 684 574\n",
      " 800 805 814 579 268 589 881 213 566 485 994 709 136 911 538 381 162 533\n",
      " 426  73 548 986 861 411 954 400 575 880  78 700 607 918 647 536 252 685\n",
      " 863 824 913 432 277 203 786 396 228 641 216 619 666 427 493 638 624 820\n",
      " 610  51 482 673 865 278 468 626 761 326  68 837 665 390 936 888 797 876\n",
      " 896  76   2 830 850 722  18 980 741 578 450 209 544 644  65 789 233 131\n",
      " 402 823  87 243 451 890  88 115 389 521 902 512 305 497 547 192 220 862\n",
      "  79 529 353  23 737 258 710 230 424 235 117  63 478 917 561 919 473 262\n",
      " 928 910 690 289 731  99 747 121 637 532 826 582 527 248 778 419 594 301\n",
      " 453  17 971 247 867 161 858 501 498 843 300 272 434 476 403 595 138 645\n",
      " 576 144  54 617 540 599 906 706 265 802 733 106 199 724 601 445 446 927\n",
      " 639 721 279 671 466 168 517  19 629   6 489 571  22 227 363 481 612 982\n",
      " 557 310  82 662  20 543 112 119 989 807 280 437  28  55 572 331 425 711\n",
      "  39 442 886 407 201  67 211 188 625 726 447  43 443 159 970 459 584 118\n",
      " 901 304 178 941 839 946 208 999 438 226 857 302 603  75 827 646 336 100\n",
      " 520 472 875 273 935 153 338 811 856 916 217 759 769 771 767 350 160 104\n",
      " 518 799 696  64 813 471 260 870 205 293 678   5 197 415 172 318 762 107\n",
      " 492 914  45 653 550 669 484 126 898 979 580  83 524 551 314 614 657 351\n",
      " 668  11 854 900 720 263 317 764 623 806 464 507  86 514 328 947 147 907\n",
      " 585 648 345 955 505 834 528 312 166 961 937 788 912 596 672 879 405 325\n",
      " 440 976 467 190  66 392 779 593  80 139 736 750 775 702 391 884 787 592\n",
      " 163 175 904 515 444 803 677 130 394  15 964 290 816 632 732 219 822 490\n",
      " 734 951 152  25 416 894 383 921 441 486 373 694 757  12 760 562 367 287\n",
      " 347 255 752 171 686 934 966 652 477 127 605 116 215 232 526   9 897 754\n",
      " 531 908 998 397 181 418 270   3 200 522  69  60 341 719 491 249 308  32\n",
      " 516 568 873 335  72  77  30 114 508 229 322  49 167 588 241 539 997 848\n",
      " 793 377 103 327 776 500 774 968 431 475 730  44 552 414 718 554 356 342\n",
      " 965  95 506 950 251 364 189 892 120 198 132  93 991 488 773  58 354 714\n",
      "  37 790 808 553 956 782  42 930 145 691 739 274 815 180 269 384  35 866\n",
      " 877 723 925 222   1 239 784 692 695 743 266 271 365 421 781 186 462 454\n",
      " 125 929  16 194 164  36 330 158 122 315 206 542 135 565 333 182 499 753\n",
      " 292 840 452 860 708 988 455  94 777 829 535 177 193 357 656 923 456 851\n",
      " 628 352 256  38 631 661  31 123 386 343 838 664 362 428 285   7 250 294\n",
      " 973 306 742  90 712 948 952 831 296 223 729 634 254 926 487 804 212 176\n",
      "  26 340 323 461 494 321 309 939 231 523 755 667 977 698 871  27 598 699\n",
      " 630 465 687 893 620 990 765 985 796 604 905 433 688 463 713 878  24  56\n",
      " 945 570 735 474 616 495 922 725 281 368 173 225 567 963 649 716 573 995\n",
      " 655 683 448 560 406  81 420 503 996  91 165 480  96 763 847 128 525 385\n",
      " 749 819 283 267 337 681 124 113 372 660  33 105 307 395 987 170 670 371\n",
      " 591 378 924 844  13 191 470 821 102 187 148 889 410 430  47 756 563 502\n",
      " 957 319 864 299 932 659 810 602 627 621 969 704 236 376  61  71 412 359\n",
      " 109 693 355 744 264  84 992 429 185 640 859 530 981 960 196 174 618  92\n",
      " 933 577  34 680 537  10 134 795 275 581]\n"
     ]
    }
   ],
   "source": [
    "np.random.shuffle(inds)\n",
    "print(inds)"
   ]
  },
  {
   "cell_type": "markdown",
   "metadata": {},
   "source": [
    "## 4. shuffle the exchangeable variable\n",
    "Which variable is exchangeable under the null hypothesis?"
   ]
  },
  {
   "cell_type": "code",
   "execution_count": 80,
   "metadata": {},
   "outputs": [
    {
     "data": {
      "text/plain": [
       "569      male\n",
       "658    female\n",
       "286      male\n",
       "609    female\n",
       "98     female\n",
       "        ...  \n",
       "10       male\n",
       "134      male\n",
       "795    female\n",
       "275      male\n",
       "581    female\n",
       "Name: gender, Length: 1000, dtype: object"
      ]
     },
     "execution_count": 80,
     "metadata": {},
     "output_type": "execute_result"
    }
   ],
   "source": [
    "tmp = df['gender'].iloc[inds]\n",
    "tmp"
   ]
  },
  {
   "cell_type": "markdown",
   "metadata": {},
   "source": [
    "## 5. reorder the shuffled indices. \n",
    "You will be putting the shuffled variable back to the dataframe. You want the indices for your dataframe to start from 0 (like the original one). You don't want to use the shuffled indices.<br>\n",
    "https://pandas.pydata.org/pandas-docs/stable/reference/api/pandas.Series.reset_index.html"
   ]
  },
  {
   "cell_type": "code",
   "execution_count": 81,
   "metadata": {},
   "outputs": [
    {
     "data": {
      "text/plain": [
       "0        male\n",
       "1      female\n",
       "2        male\n",
       "3      female\n",
       "4      female\n",
       "        ...  \n",
       "995      male\n",
       "996      male\n",
       "997    female\n",
       "998      male\n",
       "999    female\n",
       "Name: gender, Length: 1000, dtype: object"
      ]
     },
     "execution_count": 81,
     "metadata": {},
     "output_type": "execute_result"
    }
   ],
   "source": [
    "tmp = tmp.reset_index(drop = True)\n",
    "tmp"
   ]
  },
  {
   "cell_type": "markdown",
   "metadata": {},
   "source": [
    "## 6. put the shuffled exchangeable variable back into the copy of the dataframe"
   ]
  },
  {
   "cell_type": "code",
   "execution_count": 82,
   "metadata": {},
   "outputs": [
    {
     "data": {
      "text/html": [
       "<div>\n",
       "<style scoped>\n",
       "    .dataframe tbody tr th:only-of-type {\n",
       "        vertical-align: middle;\n",
       "    }\n",
       "\n",
       "    .dataframe tbody tr th {\n",
       "        vertical-align: top;\n",
       "    }\n",
       "\n",
       "    .dataframe thead th {\n",
       "        text-align: right;\n",
       "    }\n",
       "</style>\n",
       "<table border=\"1\" class=\"dataframe\">\n",
       "  <thead>\n",
       "    <tr style=\"text-align: right;\">\n",
       "      <th></th>\n",
       "      <th>gender</th>\n",
       "      <th>race/ethnicity</th>\n",
       "      <th>parental level of education</th>\n",
       "      <th>lunch</th>\n",
       "      <th>test preparation course</th>\n",
       "      <th>math score</th>\n",
       "      <th>reading score</th>\n",
       "      <th>writing score</th>\n",
       "    </tr>\n",
       "  </thead>\n",
       "  <tbody>\n",
       "    <tr>\n",
       "      <th>0</th>\n",
       "      <td>male</td>\n",
       "      <td>group B</td>\n",
       "      <td>bachelor's degree</td>\n",
       "      <td>standard</td>\n",
       "      <td>none</td>\n",
       "      <td>72</td>\n",
       "      <td>72</td>\n",
       "      <td>74</td>\n",
       "    </tr>\n",
       "    <tr>\n",
       "      <th>1</th>\n",
       "      <td>female</td>\n",
       "      <td>group C</td>\n",
       "      <td>some college</td>\n",
       "      <td>standard</td>\n",
       "      <td>completed</td>\n",
       "      <td>69</td>\n",
       "      <td>90</td>\n",
       "      <td>88</td>\n",
       "    </tr>\n",
       "    <tr>\n",
       "      <th>2</th>\n",
       "      <td>male</td>\n",
       "      <td>group B</td>\n",
       "      <td>master's degree</td>\n",
       "      <td>standard</td>\n",
       "      <td>none</td>\n",
       "      <td>90</td>\n",
       "      <td>95</td>\n",
       "      <td>93</td>\n",
       "    </tr>\n",
       "    <tr>\n",
       "      <th>3</th>\n",
       "      <td>female</td>\n",
       "      <td>group A</td>\n",
       "      <td>associate's degree</td>\n",
       "      <td>free/reduced</td>\n",
       "      <td>none</td>\n",
       "      <td>47</td>\n",
       "      <td>57</td>\n",
       "      <td>44</td>\n",
       "    </tr>\n",
       "    <tr>\n",
       "      <th>4</th>\n",
       "      <td>female</td>\n",
       "      <td>group C</td>\n",
       "      <td>some college</td>\n",
       "      <td>standard</td>\n",
       "      <td>none</td>\n",
       "      <td>76</td>\n",
       "      <td>78</td>\n",
       "      <td>75</td>\n",
       "    </tr>\n",
       "  </tbody>\n",
       "</table>\n",
       "</div>"
      ],
      "text/plain": [
       "   gender race/ethnicity parental level of education         lunch  \\\n",
       "0    male        group B           bachelor's degree      standard   \n",
       "1  female        group C                some college      standard   \n",
       "2    male        group B             master's degree      standard   \n",
       "3  female        group A          associate's degree  free/reduced   \n",
       "4  female        group C                some college      standard   \n",
       "\n",
       "  test preparation course  math score  reading score  writing score  \n",
       "0                    none          72             72             74  \n",
       "1               completed          69             90             88  \n",
       "2                    none          90             95             93  \n",
       "3                    none          47             57             44  \n",
       "4                    none          76             78             75  "
      ]
     },
     "execution_count": 82,
     "metadata": {},
     "output_type": "execute_result"
    }
   ],
   "source": [
    "df_copy['gender'] = tmp\n",
    "df_copy.head()"
   ]
  },
  {
   "cell_type": "markdown",
   "metadata": {},
   "source": [
    "## Now compare the original dataframe with the copy you created!"
   ]
  },
  {
   "cell_type": "code",
   "execution_count": 83,
   "metadata": {},
   "outputs": [
    {
     "data": {
      "text/html": [
       "<div>\n",
       "<style scoped>\n",
       "    .dataframe tbody tr th:only-of-type {\n",
       "        vertical-align: middle;\n",
       "    }\n",
       "\n",
       "    .dataframe tbody tr th {\n",
       "        vertical-align: top;\n",
       "    }\n",
       "\n",
       "    .dataframe thead th {\n",
       "        text-align: right;\n",
       "    }\n",
       "</style>\n",
       "<table border=\"1\" class=\"dataframe\">\n",
       "  <thead>\n",
       "    <tr style=\"text-align: right;\">\n",
       "      <th></th>\n",
       "      <th>gender</th>\n",
       "      <th>race/ethnicity</th>\n",
       "      <th>parental level of education</th>\n",
       "      <th>lunch</th>\n",
       "      <th>test preparation course</th>\n",
       "      <th>math score</th>\n",
       "      <th>reading score</th>\n",
       "      <th>writing score</th>\n",
       "    </tr>\n",
       "  </thead>\n",
       "  <tbody>\n",
       "    <tr>\n",
       "      <th>0</th>\n",
       "      <td>female</td>\n",
       "      <td>group B</td>\n",
       "      <td>bachelor's degree</td>\n",
       "      <td>standard</td>\n",
       "      <td>none</td>\n",
       "      <td>72</td>\n",
       "      <td>72</td>\n",
       "      <td>74</td>\n",
       "    </tr>\n",
       "    <tr>\n",
       "      <th>1</th>\n",
       "      <td>female</td>\n",
       "      <td>group C</td>\n",
       "      <td>some college</td>\n",
       "      <td>standard</td>\n",
       "      <td>completed</td>\n",
       "      <td>69</td>\n",
       "      <td>90</td>\n",
       "      <td>88</td>\n",
       "    </tr>\n",
       "    <tr>\n",
       "      <th>2</th>\n",
       "      <td>female</td>\n",
       "      <td>group B</td>\n",
       "      <td>master's degree</td>\n",
       "      <td>standard</td>\n",
       "      <td>none</td>\n",
       "      <td>90</td>\n",
       "      <td>95</td>\n",
       "      <td>93</td>\n",
       "    </tr>\n",
       "    <tr>\n",
       "      <th>3</th>\n",
       "      <td>male</td>\n",
       "      <td>group A</td>\n",
       "      <td>associate's degree</td>\n",
       "      <td>free/reduced</td>\n",
       "      <td>none</td>\n",
       "      <td>47</td>\n",
       "      <td>57</td>\n",
       "      <td>44</td>\n",
       "    </tr>\n",
       "    <tr>\n",
       "      <th>4</th>\n",
       "      <td>male</td>\n",
       "      <td>group C</td>\n",
       "      <td>some college</td>\n",
       "      <td>standard</td>\n",
       "      <td>none</td>\n",
       "      <td>76</td>\n",
       "      <td>78</td>\n",
       "      <td>75</td>\n",
       "    </tr>\n",
       "  </tbody>\n",
       "</table>\n",
       "</div>"
      ],
      "text/plain": [
       "   gender race/ethnicity parental level of education         lunch  \\\n",
       "0  female        group B           bachelor's degree      standard   \n",
       "1  female        group C                some college      standard   \n",
       "2  female        group B             master's degree      standard   \n",
       "3    male        group A          associate's degree  free/reduced   \n",
       "4    male        group C                some college      standard   \n",
       "\n",
       "  test preparation course  math score  reading score  writing score  \n",
       "0                    none          72             72             74  \n",
       "1               completed          69             90             88  \n",
       "2                    none          90             95             93  \n",
       "3                    none          47             57             44  \n",
       "4                    none          76             78             75  "
      ]
     },
     "metadata": {},
     "output_type": "display_data"
    },
    {
     "data": {
      "text/html": [
       "<div>\n",
       "<style scoped>\n",
       "    .dataframe tbody tr th:only-of-type {\n",
       "        vertical-align: middle;\n",
       "    }\n",
       "\n",
       "    .dataframe tbody tr th {\n",
       "        vertical-align: top;\n",
       "    }\n",
       "\n",
       "    .dataframe thead th {\n",
       "        text-align: right;\n",
       "    }\n",
       "</style>\n",
       "<table border=\"1\" class=\"dataframe\">\n",
       "  <thead>\n",
       "    <tr style=\"text-align: right;\">\n",
       "      <th></th>\n",
       "      <th>gender</th>\n",
       "      <th>race/ethnicity</th>\n",
       "      <th>parental level of education</th>\n",
       "      <th>lunch</th>\n",
       "      <th>test preparation course</th>\n",
       "      <th>math score</th>\n",
       "      <th>reading score</th>\n",
       "      <th>writing score</th>\n",
       "    </tr>\n",
       "  </thead>\n",
       "  <tbody>\n",
       "    <tr>\n",
       "      <th>0</th>\n",
       "      <td>male</td>\n",
       "      <td>group B</td>\n",
       "      <td>bachelor's degree</td>\n",
       "      <td>standard</td>\n",
       "      <td>none</td>\n",
       "      <td>72</td>\n",
       "      <td>72</td>\n",
       "      <td>74</td>\n",
       "    </tr>\n",
       "    <tr>\n",
       "      <th>1</th>\n",
       "      <td>female</td>\n",
       "      <td>group C</td>\n",
       "      <td>some college</td>\n",
       "      <td>standard</td>\n",
       "      <td>completed</td>\n",
       "      <td>69</td>\n",
       "      <td>90</td>\n",
       "      <td>88</td>\n",
       "    </tr>\n",
       "    <tr>\n",
       "      <th>2</th>\n",
       "      <td>male</td>\n",
       "      <td>group B</td>\n",
       "      <td>master's degree</td>\n",
       "      <td>standard</td>\n",
       "      <td>none</td>\n",
       "      <td>90</td>\n",
       "      <td>95</td>\n",
       "      <td>93</td>\n",
       "    </tr>\n",
       "    <tr>\n",
       "      <th>3</th>\n",
       "      <td>female</td>\n",
       "      <td>group A</td>\n",
       "      <td>associate's degree</td>\n",
       "      <td>free/reduced</td>\n",
       "      <td>none</td>\n",
       "      <td>47</td>\n",
       "      <td>57</td>\n",
       "      <td>44</td>\n",
       "    </tr>\n",
       "    <tr>\n",
       "      <th>4</th>\n",
       "      <td>female</td>\n",
       "      <td>group C</td>\n",
       "      <td>some college</td>\n",
       "      <td>standard</td>\n",
       "      <td>none</td>\n",
       "      <td>76</td>\n",
       "      <td>78</td>\n",
       "      <td>75</td>\n",
       "    </tr>\n",
       "  </tbody>\n",
       "</table>\n",
       "</div>"
      ],
      "text/plain": [
       "   gender race/ethnicity parental level of education         lunch  \\\n",
       "0    male        group B           bachelor's degree      standard   \n",
       "1  female        group C                some college      standard   \n",
       "2    male        group B             master's degree      standard   \n",
       "3  female        group A          associate's degree  free/reduced   \n",
       "4  female        group C                some college      standard   \n",
       "\n",
       "  test preparation course  math score  reading score  writing score  \n",
       "0                    none          72             72             74  \n",
       "1               completed          69             90             88  \n",
       "2                    none          90             95             93  \n",
       "3                    none          47             57             44  \n",
       "4                    none          76             78             75  "
      ]
     },
     "metadata": {},
     "output_type": "display_data"
    }
   ],
   "source": [
    "display(df.head())\n",
    "display(df_copy.head())"
   ]
  },
  {
   "cell_type": "markdown",
   "metadata": {},
   "source": [
    "## Check to see if the proportion of each category of the exchangeable variable changed"
   ]
  },
  {
   "cell_type": "code",
   "execution_count": 84,
   "metadata": {},
   "outputs": [
    {
     "data": {
      "text/html": [
       "<div>\n",
       "<style scoped>\n",
       "    .dataframe tbody tr th:only-of-type {\n",
       "        vertical-align: middle;\n",
       "    }\n",
       "\n",
       "    .dataframe tbody tr th {\n",
       "        vertical-align: top;\n",
       "    }\n",
       "\n",
       "    .dataframe thead th {\n",
       "        text-align: right;\n",
       "    }\n",
       "</style>\n",
       "<table border=\"1\" class=\"dataframe\">\n",
       "  <thead>\n",
       "    <tr style=\"text-align: right;\">\n",
       "      <th>gender</th>\n",
       "      <th>female</th>\n",
       "      <th>male</th>\n",
       "      <th>All</th>\n",
       "    </tr>\n",
       "    <tr>\n",
       "      <th>test preparation course</th>\n",
       "      <th></th>\n",
       "      <th></th>\n",
       "      <th></th>\n",
       "    </tr>\n",
       "  </thead>\n",
       "  <tbody>\n",
       "    <tr>\n",
       "      <th>completed</th>\n",
       "      <td>184</td>\n",
       "      <td>174</td>\n",
       "      <td>358</td>\n",
       "    </tr>\n",
       "    <tr>\n",
       "      <th>none</th>\n",
       "      <td>334</td>\n",
       "      <td>308</td>\n",
       "      <td>642</td>\n",
       "    </tr>\n",
       "    <tr>\n",
       "      <th>All</th>\n",
       "      <td>518</td>\n",
       "      <td>482</td>\n",
       "      <td>1000</td>\n",
       "    </tr>\n",
       "  </tbody>\n",
       "</table>\n",
       "</div>"
      ],
      "text/plain": [
       "gender                   female  male   All\n",
       "test preparation course                    \n",
       "completed                   184   174   358\n",
       "none                        334   308   642\n",
       "All                         518   482  1000"
      ]
     },
     "metadata": {},
     "output_type": "display_data"
    },
    {
     "data": {
      "text/html": [
       "<div>\n",
       "<style scoped>\n",
       "    .dataframe tbody tr th:only-of-type {\n",
       "        vertical-align: middle;\n",
       "    }\n",
       "\n",
       "    .dataframe tbody tr th {\n",
       "        vertical-align: top;\n",
       "    }\n",
       "\n",
       "    .dataframe thead th {\n",
       "        text-align: right;\n",
       "    }\n",
       "</style>\n",
       "<table border=\"1\" class=\"dataframe\">\n",
       "  <thead>\n",
       "    <tr style=\"text-align: right;\">\n",
       "      <th>gender</th>\n",
       "      <th>female</th>\n",
       "      <th>male</th>\n",
       "      <th>All</th>\n",
       "    </tr>\n",
       "    <tr>\n",
       "      <th>test preparation course</th>\n",
       "      <th></th>\n",
       "      <th></th>\n",
       "      <th></th>\n",
       "    </tr>\n",
       "  </thead>\n",
       "  <tbody>\n",
       "    <tr>\n",
       "      <th>completed</th>\n",
       "      <td>190</td>\n",
       "      <td>168</td>\n",
       "      <td>358</td>\n",
       "    </tr>\n",
       "    <tr>\n",
       "      <th>none</th>\n",
       "      <td>328</td>\n",
       "      <td>314</td>\n",
       "      <td>642</td>\n",
       "    </tr>\n",
       "    <tr>\n",
       "      <th>All</th>\n",
       "      <td>518</td>\n",
       "      <td>482</td>\n",
       "      <td>1000</td>\n",
       "    </tr>\n",
       "  </tbody>\n",
       "</table>\n",
       "</div>"
      ],
      "text/plain": [
       "gender                   female  male   All\n",
       "test preparation course                    \n",
       "completed                   190   168   358\n",
       "none                        328   314   642\n",
       "All                         518   482  1000"
      ]
     },
     "metadata": {},
     "output_type": "display_data"
    }
   ],
   "source": [
    "cTab3 = pd.crosstab(df['test preparation course'], df['gender'], margins = True)\n",
    "cTab4 = pd.crosstab(df_copy['test preparation course'], df_copy['gender'], margins = True)\n",
    "display(cTab3)\n",
    "display(cTab4)"
   ]
  },
  {
   "cell_type": "markdown",
   "metadata": {},
   "source": [
    "## Another way of shuffling\n",
    "How about creating a random array of 0s and 1s (0s for males, 1s for females)?<br>\n",
    "you can create a random array of 0s and 1s using random.randint:<br>\n",
    "https://docs.scipy.org/doc/numpy-1.10.1/reference/generated/numpy.random.randint.html"
   ]
  },
  {
   "cell_type": "code",
   "execution_count": null,
   "metadata": {},
   "outputs": [],
   "source": []
  },
  {
   "cell_type": "code",
   "execution_count": null,
   "metadata": {},
   "outputs": [],
   "source": []
  },
  {
   "cell_type": "markdown",
   "metadata": {},
   "source": [
    "### Now check the proportions"
   ]
  },
  {
   "cell_type": "code",
   "execution_count": null,
   "metadata": {},
   "outputs": [],
   "source": []
  },
  {
   "cell_type": "markdown",
   "metadata": {},
   "source": [
    "## 7. Calculate the stat\n",
    "After you have created successfully shuffled the exchangeable variable in the dataset, you can calculate the stat."
   ]
  },
  {
   "cell_type": "code",
   "execution_count": 86,
   "metadata": {},
   "outputs": [
    {
     "data": {
      "text/html": [
       "<div>\n",
       "<style scoped>\n",
       "    .dataframe tbody tr th:only-of-type {\n",
       "        vertical-align: middle;\n",
       "    }\n",
       "\n",
       "    .dataframe tbody tr th {\n",
       "        vertical-align: top;\n",
       "    }\n",
       "\n",
       "    .dataframe thead th {\n",
       "        text-align: right;\n",
       "    }\n",
       "</style>\n",
       "<table border=\"1\" class=\"dataframe\">\n",
       "  <thead>\n",
       "    <tr style=\"text-align: right;\">\n",
       "      <th>gender</th>\n",
       "      <th>female</th>\n",
       "      <th>male</th>\n",
       "      <th>All</th>\n",
       "    </tr>\n",
       "    <tr>\n",
       "      <th>test preparation course</th>\n",
       "      <th></th>\n",
       "      <th></th>\n",
       "      <th></th>\n",
       "    </tr>\n",
       "  </thead>\n",
       "  <tbody>\n",
       "    <tr>\n",
       "      <th>False</th>\n",
       "      <td>328</td>\n",
       "      <td>314</td>\n",
       "      <td>642</td>\n",
       "    </tr>\n",
       "    <tr>\n",
       "      <th>True</th>\n",
       "      <td>190</td>\n",
       "      <td>168</td>\n",
       "      <td>358</td>\n",
       "    </tr>\n",
       "    <tr>\n",
       "      <th>All</th>\n",
       "      <td>518</td>\n",
       "      <td>482</td>\n",
       "      <td>1000</td>\n",
       "    </tr>\n",
       "  </tbody>\n",
       "</table>\n",
       "</div>"
      ],
      "text/plain": [
       "gender                   female  male   All\n",
       "test preparation course                    \n",
       "False                       328   314   642\n",
       "True                        190   168   358\n",
       "All                         518   482  1000"
      ]
     },
     "execution_count": 86,
     "metadata": {},
     "output_type": "execute_result"
    }
   ],
   "source": [
    "ctab5 = pd.crosstab(df_copy['test preparation course'] == 'completed', df_copy['gender'], margins = True)\n",
    "ctab5"
   ]
  },
  {
   "cell_type": "code",
   "execution_count": 87,
   "metadata": {},
   "outputs": [
    {
     "name": "stdout",
     "output_type": "stream",
     "text": [
      "0.19\n",
      "0.168\n"
     ]
    }
   ],
   "source": [
    "p_com_fem = ctab5['female'][True]/ctab5['All']['All']\n",
    "p_com_m = ctab5['male'][True]/ctab5['All']['All']\n",
    "print(p_com_fem)\n",
    "print(p_com_m)"
   ]
  },
  {
   "cell_type": "markdown",
   "metadata": {},
   "source": [
    "# All the steps above must be done in a loop (same as bootstrap)\n",
    "like the bootstrap, you will have to perform the steps above within a loop with a specific number of iterations! You will end up with a stat for each iteration!<br>\n",
    "Once the loop is done, you can calculate the p-value: \n",
    "* __One Sided:__ How many times the calculated stats were bigger than the actual value of the stat, calculated from the original data?/ number of times you have permuted the exchangeable variable."
   ]
  },
  {
   "cell_type": "markdown",
   "metadata": {},
   "source": [
    "### What you need to do to calculate the p-value?\n",
    "The calculations you need to do will be similar to what we will do in this example:<br>\n",
    "Suppose you have created an array of 1000 random integers between 0 and 100. What is the probability that created integers is higher than 60?"
   ]
  },
  {
   "cell_type": "code",
   "execution_count": 89,
   "metadata": {},
   "outputs": [
    {
     "data": {
      "text/plain": [
       "array([ 67,  76,  26,  36,   2,   4,  38,  96,  22,   5,  69,  73,   8,\n",
       "        28,  10,  34,  46,  55,  28,  15,  61,  96,  41,  72,  68,  86,\n",
       "        69,  33,  72,  34,  33,  40,  10,  37,   5,   4,   1,  45,  37,\n",
       "        78,  60,  79,  16,   7,  93,   3,  64,  88,  94,  84,  65,  64,\n",
       "        20,  73,  14,  33,  55,   1,   5,  33,  87,  69,  40,   2,  52,\n",
       "        29,  65,  95,  53,  28,  13,  30,  13,  69,   5,  84,  63,  76,\n",
       "         0,  83,  46,  74,  42,  15,  82,  12,  95,  45,  71,  93,  21,\n",
       "        90,  39,  20,  76,  87,  79,  70,  82,  94,   8,  39,  21,  21,\n",
       "        72,  96,  78,  19,  39,  72,  23,  32,  27,  15,  51,  67,  80,\n",
       "        48,  85,  73,  59,  54,  54,  11,  87,  28,  11,  65,  20,  46,\n",
       "        72,  95,  53,  33,  43,  84,  98,  91,  27,  51,  88,  14,   6,\n",
       "        84,  32,  62,   5,  19,  97,  44,  77, 100,  15,   7,  92,  40,\n",
       "        61,  65,  34,  81,  83,  70,  85,  39,  55,   3,  10,  46,  30,\n",
       "        41,  24,  43,  65,  14,  69,  10,  87,  45,  54,   1,  94,   7,\n",
       "        99,   7,  57,  89,  69,  68,  30,  35,   3,  72,  67,   6,  39,\n",
       "        22,  18,  88,   2,  43,  56,  76,  32,  85,  43,  21,  74,  42,\n",
       "        96,  57,  64, 100,  80,  54,  14,  88,  88,  28,  54,  30,  50,\n",
       "        90,  76,  38,  54,   7,  26,  45,   1,  22,  95,  31,  13,   7,\n",
       "         0,   8,   2,  72,  25,   8,   5,  73,  97,   4,  90,  54,  23,\n",
       "        16,  77,  29,  13,  97,  43,  83,   3,  79,  17,  89,  67,  57,\n",
       "        16,  41,  65,  43,  99,  15,  76,  62,  68,  12,  14,  33,  40,\n",
       "        37,  15,  11,  40,  44,   9,  77,  99,  32,  21,  81, 100,  13,\n",
       "        11,  21,  22,  64,  39,  55,  34,  88,   0,  98,  28,  24,  56,\n",
       "        58,  52,  78,  88,  45, 100,  18,  53,  74,  94,  42,   2,  36,\n",
       "        76,  72,  67,  51,  64,  34,  83,  39,  33,  87,  20, 100,  42,\n",
       "        82,  31,  75,   1,  51,  49,  11,  47,  65,  45,  92,   9,   8,\n",
       "        85,  64, 100,  41,  23,  17,  93,  56,  29,  45,   2,  70,  78,\n",
       "        19,  97,  70,  87,  44,  33,  50,  30,  40,   5,  33,  33,  99,\n",
       "        42,  50,  15,  40,  91,  84,  77,   4,  11,   5,  95,  90,  34,\n",
       "        72,  66,  12,   8,  62,  82,  81,  21,  93,  36,  71,  69,  44,\n",
       "        16,  67,  28,  50,  96,  62,  37,  75,  58,  21,  45,  59,  83,\n",
       "       100,  59,   5,  10,   0,  59,  43,  84,  20,  78,  77,   8,  71,\n",
       "        95,  19,  39,  49,   3,  38,   0,  28,   6,  15,  20,   6,  56,\n",
       "        27,  84,  83,  45,  31,  57,   4,  71,  88,  76,  13,  68,  34,\n",
       "        40,  16,  41,  92,  34,  88,  55,  69,  51,  26,  64,  77,  95,\n",
       "        80,  84,  12,  82,  46,  54,  91,  19,  12,  31,  23,  85,  67,\n",
       "        80,  14,  57,  43,   4,  27,  67, 100,   1,  60,  52,  56,  73,\n",
       "        78,  64,  56,  91,  56,  36,  31,  73,  44,  66,  70,  72,  13,\n",
       "        45,  36,   2,  98,  21,  16,  35,  61, 100,   7,  42,  34,  96,\n",
       "        41,  69,   4,  36,   9,  17,  68,  72, 100,  92,  70,  54,  72,\n",
       "        82,  34,  88,  80,  89,  46,  26,  73,  65,  15,  76,  85,  23,\n",
       "        50,  22,  86,  48,  25,  15,  19,   1,  32,  33,   9,  74,  91,\n",
       "        60,  41,  36,  68,  68,  21,  96,  38,  14,  30,  69, 100,   7,\n",
       "        68,  90,   5,  13,   4,  69,   9,  61,  87,  45,  90,  25,  14,\n",
       "        14,   6,  41,  69,  78,  88,  83,  81,  43,  63,  55,  34,  61,\n",
       "        27,  10,  67,  46,  15,  13,  37,  97,  84,  86,  36,  56,  21,\n",
       "        35,  46,  50,  26,  88,  89,  70,  96,  16,  63,  15,  13,  78,\n",
       "        99,   2,  49,  35,  59,  42,  77,  46,  15,   1,  35,  52,  90,\n",
       "        24,  20,  24,  95,   4,  26,  47,  53,   4,  66,  32,  39,  50,\n",
       "        62,  84,  24,  48,  69,  72,  65,  67,  10,  18,  60,  54,  33,\n",
       "        24,  62,   1,  22,  30,  51,  25,  51,  82,  66,  86,  98,  98,\n",
       "        39,  71,  78,   5,  42,  51,  34,  85,   8,  94,  78,  28,  66,\n",
       "         9,  81,  77,   1,  40,  77,  15,  74,  98,  38,  49,  30,  71,\n",
       "        65,  27,  14,  53,  11,  12,   7,   7,  66,  30,  45,  25,  33,\n",
       "        15,  38,  36,  89,  44,  83,  36,  44,  36,  20,  31,  98,  79,\n",
       "         3,  74,   5,   6,  39,  57,   6,  87,  47,  45,  89,  37,  63,\n",
       "        62,  92,   6,  12,  19,  16,  72,  25,  66,  53,  15,   7,  59,\n",
       "        60,  89,  10,  44, 100,  10,  46,  74,  66,  52,  29,  86,  82,\n",
       "         5,  30,  64,  35,   8,   3,  95,  48,   0,  55, 100,   9,  73,\n",
       "        77,   2,  83,  22,  52,  49,  18,  66,  31,  22,  51,   1,  83,\n",
       "        68,  59,  54,  45,  86,  23,  33,   9,  30,  18,  56,  67,  11,\n",
       "        90,  30,  80,  27,  52,  25,  17,  55,  26,  25,  67,  16,   2,\n",
       "        56,  16,  26,  96,  10,   6,   5,  90,  87,  54,  78,  27,  65,\n",
       "        97,  36,  58,   9,  14,  10,  59,  21,  90,  99,  72,  92,  74,\n",
       "         6,  17,  44,  66,  55,  89,  96,  88,  99,  92,  62,  98,   5,\n",
       "        35,  52,  82,  64,  55,  43,  18,   9,  76,  81,  53,  31,  26,\n",
       "        10,  40,  20,  47,  97,  46,  48,  40,  51,  45,  36,  84,  37,\n",
       "        34,  13,   5,  55,  18,  43,  91,   2,  87,  57,  50,  99,  84,\n",
       "        60,  18, 100,  61,  79,  52,  53,  93,  12,   5,  23,  41,  75,\n",
       "        55,  20,  50,  48,  87,  20,  66,  38,  93,  22,  27,  65,  93,\n",
       "        72,  53,  40,  99,  19,  89,  16,  70,  95,  48,  40,  40,  43,\n",
       "        98,   8,  24,  86,  49,  41,  78,  24,  39,  49,  29,  69,  75,\n",
       "        32,  49,  64,  72,  33,  42,  60,  97,  34,  84,   9,  24,  47,\n",
       "        48,  28,  51,  64,  90,  85,   6,  23,  23,  92,  33,  36,  87,\n",
       "        67,   6,  73,  21,  32,   8,  80,  63,  27,  49,   0,  10,  69,\n",
       "        41,  79,  10,   2,  68,  53,  85,  52,  70,   8,  47,  29,  76,\n",
       "        28,  56,  88,   6,  63,  41,  29,  12,  24,  88,  70,  73])"
      ]
     },
     "execution_count": 89,
     "metadata": {},
     "output_type": "execute_result"
    }
   ],
   "source": [
    "Ex_array = np.random.randint(101, size = 1000)\n",
    "Ex_array"
   ]
  },
  {
   "cell_type": "code",
   "execution_count": null,
   "metadata": {},
   "outputs": [],
   "source": [
    "diff = Ex_array >= 60\n",
    "diff\n",
    "\n",
    "ntrues = sum(diff)\n",
    "p_value = ntrues/len(diff)\n",
    "p_value"
   ]
  },
  {
   "cell_type": "code",
   "execution_count": null,
   "metadata": {},
   "outputs": [],
   "source": []
  }
 ],
 "metadata": {
  "kernelspec": {
   "display_name": "Python 3",
   "language": "python",
   "name": "python3"
  },
  "language_info": {
   "codemirror_mode": {
    "name": "ipython",
    "version": 3
   },
   "file_extension": ".py",
   "mimetype": "text/x-python",
   "name": "python",
   "nbconvert_exporter": "python",
   "pygments_lexer": "ipython3",
   "version": "3.9.6"
  }
 },
 "nbformat": 4,
 "nbformat_minor": 2
}
