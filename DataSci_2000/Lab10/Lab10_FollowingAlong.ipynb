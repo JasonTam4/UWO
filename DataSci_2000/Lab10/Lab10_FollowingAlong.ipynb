{
 "cells": [
  {
   "cell_type": "markdown",
   "metadata": {
    "id": "PwmypqMFUhk4"
   },
   "source": [
    "# Lab10: Introduction to Disrete predictors and Logistic Regression\n",
    "\n",
    "### Learning Outcomes\n",
    "In this tutorial, we will learn how to use discrete variables as predictors, and as dependent variables (logistic regression). We will also use some of our previous skills (bootstrapping) to build distributions for the regression coefficients.\n",
    "### Data set\n",
    "I will be using the births dataset from Assignment 6. Briefly,\n",
    "The dataset includes a random sample of 150 births from the birth records in the US state of North Carolina in 2004. The data contains 50 records from mothers that self-identified as having smoked on average more than 2 cigarettes per week during the pregnancy (smokers) and 100 mothers that smoked not at all or less than 2 cigarettes per week during the pregnancy.\n",
    "\n",
    "The data frame has 150 observations with the following 9 variables:\n",
    "\n",
    "- fAge: Father’s age.\n",
    "- mAge: Mother’s age.\n",
    "- weeks:  Weeks at which the mother gave birth.\n",
    "- premature: Indicates whether the baby was premature or not.\n",
    "- visits: Number of hospital visits.\n",
    "- gained: Weight gained by mother (lbs)\n",
    "- weight: Birth weight of the baby (lbs)\n",
    "- sexBaby: Gender of the baby\n",
    "- smoke:  Whether or not the mother self-reported to be a smoker.\n",
    "\n",
    "<font color = 'red'> To do the assignment, use the lecture notes and the tutorial notebook!"
   ]
  },
  {
   "cell_type": "markdown",
   "metadata": {
    "id": "Yp277SQ2Uhk5"
   },
   "source": [
    "### Preliminaries\n",
    "Set up the environment by importing pandas, numpy, matplotlib, scipy.optimize interface.\n"
   ]
  },
  {
   "cell_type": "code",
   "execution_count": 1,
   "metadata": {
    "id": "mQRXOm9jUhk5"
   },
   "outputs": [],
   "source": [
    "import matplotlib\n",
    "import matplotlib.pyplot as plt\n",
    "%matplotlib inline\n",
    "import scipy.optimize as so\n",
    "import pandas as pd\n",
    "import numpy as np"
   ]
  },
  {
   "cell_type": "code",
   "execution_count": 2,
   "metadata": {
    "id": "XR4SfkzRUhk5"
   },
   "outputs": [],
   "source": [
    "df = pd.read_csv('births.csv')"
   ]
  },
  {
   "cell_type": "markdown",
   "metadata": {
    "id": "h24kKO7nUhk6"
   },
   "source": [
    "# Discrete Explanatory variables"
   ]
  },
  {
   "cell_type": "markdown",
   "metadata": {
    "id": "bTwpU7WkUhk6"
   },
   "source": [
    "## 1. Creating dummy variables for discrete variables\n",
    "As you saw in the lecture notes, there are two ways of dummy coding. Here, we will be using one of those ways.\n",
    "\n",
    "First step is to convert the discrete variables you want to use in regression to a dummy variable:\n",
    "Let's consider smoke as the discreate variable we want to use in our model.\n",
    "\n",
    "There are many ways to do it and you can come up with your own ways (or just google!). Here, I will be showing just one way of doing it.\n",
    "\n",
    "The variable will be 1 where smoke is 'smoker' (the coded group) and 0 where smoke is 'nonsmoker' (the comparison group).\n",
    "For the assignment, you need to put this dummy variable into a new column in the dataframe.<br>"
   ]
  },
  {
   "cell_type": "markdown",
   "metadata": {
    "id": "OQ7gghEpUhk6"
   },
   "source": [
    "### 1.1 Dummy variable for dirGender"
   ]
  },
  {
   "cell_type": "code",
   "execution_count": 8,
   "metadata": {
    "id": "D_qWQcK3Uhk6"
   },
   "outputs": [
    {
     "name": "stdout",
     "output_type": "stream",
     "text": [
      "0       True\n",
      "1      False\n",
      "2      False\n",
      "3      False\n",
      "4      False\n",
      "       ...  \n",
      "145    False\n",
      "146     True\n",
      "147    False\n",
      "148    False\n",
      "149    False\n",
      "Name: smoke, Length: 150, dtype: bool\n",
      "[1. 0. 0. 0. 0. 1. 0. 1. 1. 0. 0. 0. 1. 0. 1. 0. 0. 0. 1. 0. 0. 1. 1. 0.\n",
      " 1. 0. 1. 1. 0. 0. 0. 0. 0. 0. 0. 0. 1. 0. 1. 1. 0. 1. 0. 0. 0. 1. 1. 1.\n",
      " 0. 0. 0. 0. 0. 0. 1. 0. 0. 1. 0. 0. 0. 1. 0. 0. 0. 1. 1. 0. 1. 1. 1. 0.\n",
      " 1. 1. 0. 0. 0. 1. 0. 0. 1. 1. 0. 1. 0. 0. 0. 0. 0. 0. 0. 0. 0. 0. 0. 0.\n",
      " 0. 0. 0. 0. 0. 1. 0. 1. 1. 1. 0. 0. 0. 1. 1. 0. 0. 0. 0. 0. 0. 1. 0. 0.\n",
      " 1. 1. 0. 0. 0. 1. 0. 1. 1. 0. 0. 0. 0. 0. 0. 1. 0. 0. 0. 1. 0. 1. 0. 1.\n",
      " 0. 0. 1. 0. 0. 0.]\n",
      "<class 'numpy.dtypes.BoolDType'>\n",
      "<class 'numpy.dtypes.Float64DType'>\n"
     ]
    },
    {
     "data": {
      "text/html": [
       "<div>\n",
       "<style scoped>\n",
       "    .dataframe tbody tr th:only-of-type {\n",
       "        vertical-align: middle;\n",
       "    }\n",
       "\n",
       "    .dataframe tbody tr th {\n",
       "        vertical-align: top;\n",
       "    }\n",
       "\n",
       "    .dataframe thead th {\n",
       "        text-align: right;\n",
       "    }\n",
       "</style>\n",
       "<table border=\"1\" class=\"dataframe\">\n",
       "  <thead>\n",
       "    <tr style=\"text-align: right;\">\n",
       "      <th></th>\n",
       "      <th>fAge</th>\n",
       "      <th>mAge</th>\n",
       "      <th>weeks</th>\n",
       "      <th>premature</th>\n",
       "      <th>visits</th>\n",
       "      <th>gained</th>\n",
       "      <th>weight</th>\n",
       "      <th>sexBaby</th>\n",
       "      <th>smoke</th>\n",
       "      <th>smokeI</th>\n",
       "      <th>smokeID</th>\n",
       "    </tr>\n",
       "  </thead>\n",
       "  <tbody>\n",
       "    <tr>\n",
       "      <th>0</th>\n",
       "      <td>31</td>\n",
       "      <td>30</td>\n",
       "      <td>39</td>\n",
       "      <td>full term</td>\n",
       "      <td>13</td>\n",
       "      <td>1</td>\n",
       "      <td>6.88</td>\n",
       "      <td>male</td>\n",
       "      <td>smoker</td>\n",
       "      <td>True</td>\n",
       "      <td>1.0</td>\n",
       "    </tr>\n",
       "    <tr>\n",
       "      <th>1</th>\n",
       "      <td>34</td>\n",
       "      <td>36</td>\n",
       "      <td>39</td>\n",
       "      <td>full term</td>\n",
       "      <td>5</td>\n",
       "      <td>35</td>\n",
       "      <td>7.69</td>\n",
       "      <td>male</td>\n",
       "      <td>nonsmoker</td>\n",
       "      <td>False</td>\n",
       "      <td>0.0</td>\n",
       "    </tr>\n",
       "    <tr>\n",
       "      <th>2</th>\n",
       "      <td>36</td>\n",
       "      <td>35</td>\n",
       "      <td>40</td>\n",
       "      <td>full term</td>\n",
       "      <td>12</td>\n",
       "      <td>29</td>\n",
       "      <td>8.88</td>\n",
       "      <td>male</td>\n",
       "      <td>nonsmoker</td>\n",
       "      <td>False</td>\n",
       "      <td>0.0</td>\n",
       "    </tr>\n",
       "    <tr>\n",
       "      <th>3</th>\n",
       "      <td>41</td>\n",
       "      <td>40</td>\n",
       "      <td>40</td>\n",
       "      <td>full term</td>\n",
       "      <td>13</td>\n",
       "      <td>30</td>\n",
       "      <td>9.00</td>\n",
       "      <td>female</td>\n",
       "      <td>nonsmoker</td>\n",
       "      <td>False</td>\n",
       "      <td>0.0</td>\n",
       "    </tr>\n",
       "    <tr>\n",
       "      <th>4</th>\n",
       "      <td>42</td>\n",
       "      <td>37</td>\n",
       "      <td>40</td>\n",
       "      <td>full term</td>\n",
       "      <td>0</td>\n",
       "      <td>10</td>\n",
       "      <td>7.94</td>\n",
       "      <td>male</td>\n",
       "      <td>nonsmoker</td>\n",
       "      <td>False</td>\n",
       "      <td>0.0</td>\n",
       "    </tr>\n",
       "  </tbody>\n",
       "</table>\n",
       "</div>"
      ],
      "text/plain": [
       "   fAge  mAge  weeks  premature  visits  gained  weight sexBaby      smoke  \\\n",
       "0    31    30     39  full term      13       1    6.88    male     smoker   \n",
       "1    34    36     39  full term       5      35    7.69    male  nonsmoker   \n",
       "2    36    35     40  full term      12      29    8.88    male  nonsmoker   \n",
       "3    41    40     40  full term      13      30    9.00  female  nonsmoker   \n",
       "4    42    37     40  full term       0      10    7.94    male  nonsmoker   \n",
       "\n",
       "   smokeI  smokeID  \n",
       "0    True      1.0  \n",
       "1   False      0.0  \n",
       "2   False      0.0  \n",
       "3   False      0.0  \n",
       "4   False      0.0  "
      ]
     },
     "execution_count": 8,
     "metadata": {},
     "output_type": "execute_result"
    }
   ],
   "source": [
    "smokeI = df['smoke'] == 'smoker'\n",
    "\n",
    "print(smokeI)\n",
    "\n",
    "smokeID = np.double(smokeI)\n",
    "\n",
    "print(smokeID)\n",
    "\n",
    "print(type(smokeI.dtype))\n",
    "print(type(smokeID.dtype))\n",
    "\n",
    "df['smokeI'] = smokeI\n",
    "df['smokeID'] = smokeID\n",
    "df.head()"
   ]
  },
  {
   "cell_type": "markdown",
   "metadata": {
    "id": "QBanl0yKUhk6"
   },
   "source": [
    "## 2. Doing multiple regression with discrete variables as predictors:\n",
    "Now let's try to predict the birth weight from wether the mother was smoker or not.\n",
    "\n",
    "You can use your multiple regression functions from previous assignments cause this is basically like the multiple regression you implemented in the previous assignment."
   ]
  },
  {
   "cell_type": "code",
   "execution_count": 16,
   "metadata": {
    "id": "-WAc0Uq_Uhk6"
   },
   "outputs": [],
   "source": [
    "def multRegPredict(b,D,xname):\n",
    "    yp=np.ones(len(D.index))*b[0]        # Intercept\n",
    "    for i in range(len(xname)):\n",
    "        yp=yp+D[xname[i]]*b[i+1]         # Add each regression value\n",
    "    return yp\n",
    "\n",
    "def multRegLossRSS(b,D,y,xname):\n",
    "    predY = multRegPredict(b,D,xname)\n",
    "    res = y-predY\n",
    "    rss = sum(res**2)\n",
    "    grad=np.zeros(len(b))\n",
    "    grad[0]=-2*np.sum(res)\n",
    "    for i in range(len(xname)):\n",
    "        grad[i+1]=-2*np.sum(D[xname[i]]*res)\n",
    "    return (rss,grad)\n",
    "\n",
    "def multRegFit(D,y,xname):\n",
    "    N=len(xname)\n",
    "    b0=np.zeros((N+1,))\n",
    "    RES = so.minimize(multRegLossRSS,b0,args=(D,y,xname),jac=True)\n",
    "    b=RES.x # Results\n",
    "    res = y-np.mean(y)\n",
    "    TSS = sum(res**2)\n",
    "    RSS,deriv = multRegLossRSS(b,D,y,xname)\n",
    "    R2 = 1-RSS/TSS\n",
    "    return (R2,b)"
   ]
  },
  {
   "cell_type": "code",
   "execution_count": 18,
   "metadata": {
    "id": "Us3hyG-lUhk6"
   },
   "outputs": [
    {
     "name": "stdout",
     "output_type": "stream",
     "text": [
      "0.022855729977791395\n",
      "[ 7.1882 -0.4716]\n"
     ]
    }
   ],
   "source": [
    "R2, b = multRegFit(df, df['weight'], ['smokeI'])\n",
    "print(R2)\n",
    "print(b)"
   ]
  },
  {
   "cell_type": "code",
   "execution_count": 19,
   "metadata": {
    "id": "IzkhOI_zUhk6"
   },
   "outputs": [
    {
     "name": "stdout",
     "output_type": "stream",
     "text": [
      "0.022855729977791395\n",
      "[ 7.1882 -0.4716]\n"
     ]
    }
   ],
   "source": [
    "R2, b = multRegFit(df, df['weight'], ['smokeID'])\n",
    "print(R2)\n",
    "print(b)"
   ]
  },
  {
   "cell_type": "markdown",
   "metadata": {
    "id": "Al_WjrZ_Uhk6"
   },
   "source": [
    "<font color = 'red'>You can use either of the two variables you just created! But the one for which dtype = float is preferrable"
   ]
  },
  {
   "cell_type": "markdown",
   "metadata": {
    "id": "n-l2B6oqUhk7"
   },
   "source": [
    "<font color = 'red'> Common mistakes:\n",
    "    \n",
    "* multRegFit takes a LIST as xname not a string, not a numpy array, not a series\n",
    "* The type of second input to multRegFit is np.ndarray or Pandas Series object not a string\n",
    "* the order of outputs is important: the function we have here returns R2 as the first output, and b as the second output"
   ]
  },
  {
   "cell_type": "markdown",
   "metadata": {
    "id": "wFiMfYO0Uhk7"
   },
   "source": [
    "### 2.1 plot data and the regression line (Have different colors for males and females)"
   ]
  },
  {
   "cell_type": "code",
   "execution_count": 33,
   "metadata": {
    "id": "UcuMfi9EUhk7"
   },
   "outputs": [
    {
     "data": {
      "text/plain": [
       "Text(0, 0.5, 'Birth Weight')"
      ]
     },
     "execution_count": 33,
     "metadata": {},
     "output_type": "execute_result"
    },
    {
     "data": {
      "image/png": "[encoded data removed]",
      "text/plain": [
       "<Figure size 640x480 with 1 Axes>"
      ]
     },
     "metadata": {},
     "output_type": "display_data"
    }
   ],
   "source": [
    "plt.scatter(df['smokeID'], df['weight'])\n",
    "\n",
    "yp = multRegPredict(b, df, ['smokeID'])\n",
    "plt.plot(df['smokeID'], yp, 'r-')\n",
    "plt.xlabel('Smoke (smoker or not)')\n",
    "plt.ylabel('Birth Weight')"
   ]
  },
  {
   "cell_type": "markdown",
   "metadata": {
    "id": "01llBCBWUhk7"
   },
   "source": [
    "### 2.2 Multiple regression with multiple discrete variables\n",
    "Lets say we want to model birth weight as a function of 3 variables:\n",
    "* wether the mother is smoker or not (smokerId)\n",
    "* Weeks at which the mother gave birth (weeks)\n",
    "* Number of hospital visits (visits)\n",
    "Implement the following formula:\n",
    "\n",
    "'weight ~ smokeId + visits + weeks'\n",
    "\n",
    "Again, you can use your functions from previous assignment!"
   ]
  },
  {
   "cell_type": "code",
   "execution_count": 37,
   "metadata": {
    "id": "CdJ7EikuUhk7"
   },
   "outputs": [
    {
     "name": "stdout",
     "output_type": "stream",
     "text": [
      "0.48627452602295573\n",
      "[-6.45888975 -0.41670915  0.05480599  0.33731952]\n"
     ]
    }
   ],
   "source": [
    "R2, b = multRegFit(df, df['weight'], ['smokeID', 'visits', 'weeks'])\n",
    "print(R2)\n",
    "print(b)"
   ]
  },
  {
   "cell_type": "markdown",
   "metadata": {
    "id": "1U_HxEFKUhk7"
   },
   "source": [
    "### 2.3 some more plotting\n",
    "Remember, you can always do a simple plot to get \"an idea\" of the relationship between variables. Just like we did in the previous assignments.\n",
    "\n",
    "Lets say you want to plot the birth weight against weeks (Weeks at which the mother gave birth) with smokers and non-smokers colored differently.\n",
    "\n"
   ]
  },
  {
   "cell_type": "code",
   "execution_count": null,
   "metadata": {
    "id": "TMrs1hLZUhk7"
   },
   "outputs": [
    {
     "data": {
      "text/plain": [
       "<matplotlib.collections.PathCollection at 0x14c02d730>"
      ]
     },
     "execution_count": 39,
     "metadata": {},
     "output_type": "execute_result"
    },
    {
     "data": {
      "image/png": "[encoded data removed]",
      "text/plain": [
       "<Figure size 640x480 with 1 Axes>"
      ]
     },
     "metadata": {},
     "output_type": "display_data"
    }
   ],
   "source": [
    "# make categorical a legend ??\n",
    "\n",
    "plt.scatter(df['weeks'].loc[df['smokeID'] == 0], df['weight'].loc[df['smokeID'] == 0])\n",
    "plt.scatter(df['weeks'].loc[df['smokeID'] == 1], df['weight'].loc[df['smokeID'] == 1])"
   ]
  },
  {
   "cell_type": "code",
   "execution_count": 47,
   "metadata": {
    "id": "oHNspZxaUhk7"
   },
   "outputs": [
    {
     "name": "stdout",
     "output_type": "stream",
     "text": [
      "0.46878623949044973\n",
      "[-6.63359745 -0.46801458  0.35854209]\n"
     ]
    },
    {
     "data": {
      "text/plain": [
       "[<matplotlib.lines.Line2D at 0x14c325580>]"
      ]
     },
     "execution_count": 47,
     "metadata": {},
     "output_type": "execute_result"
    },
    {
     "data": {
      "image/png": "[encoded data removed]",
      "text/plain": [
       "<Figure size 640x480 with 1 Axes>"
      ]
     },
     "metadata": {},
     "output_type": "display_data"
    }
   ],
   "source": [
    "R2, b = multRegFit(df, df['weight'], ['smokeID', 'weeks'])\n",
    "print(R2)\n",
    "print(b)\n",
    "\n",
    "yp = multRegPredict(b, df, ['smokeID', 'weeks'])\n",
    "\n",
    "plt.scatter(df['weeks'].loc[df['smokeID'] == 0], df['weight'].loc[df['smokeID'] == 0])\n",
    "plt.scatter(df['weeks'].loc[df['smokeID'] == 1], df['weight'].loc[df['smokeID'] == 1])\n",
    "\n",
    "plt.plot(df['weeks'][df['smokeID'] == 1] , yp[df['smokeID'] == 1], 'b-')\n",
    "plt.plot(df['weeks'][df['smokeID'] == 0] , yp[df['smokeID'] == 0], 'r-')"
   ]
  },
  {
   "cell_type": "markdown",
   "metadata": {
    "id": "2i5hbVSdUhk7"
   },
   "source": [
    "### 2.4 Interpreting regression coefficients (Slide 8 and 9)\n",
    "\n",
    "What each regression coefficient mean? (the general approach to interpreting the regression coefficients)\n",
    "with the smf.ols, I have used RSS as the loss function so Group __means__ are used in model fitting!\n",
    "\n",
    "* using 1 and 0:\n",
    "    * smoker coded as 1 (coded group)\n",
    "    * non-smoker coded as 0 (comparison group)\n",
    "Now lets plug in these variables into the regression formula:\n",
    "\n",
    "\\begin{align}\n",
    "\\ y & = \\beta_0\\ + \\beta_1 x_1\\\\\n",
    "\\end{align}\n",
    "\n",
    "1. __The variable has 1s for where the gender was 'female' and 0s for where the gender was 'male'.__\n",
    "    * Lets see what happens for where the smoke is 'smoker' (smokerId = 1):\n",
    "    \\begin{align}\n",
    "    \\ y & = \\beta_0\\ + \\beta_1 * 1\\\\\n",
    "    \\ y & = \\beta_0\\ + \\beta_1\\\n",
    "    \\end{align}\n",
    "    * and what happens for where the smoke is 'nonsmoker' (smokerId = 0):\n",
    "    \\begin{align}\n",
    "    \\ y & = \\beta_0\\ + \\beta_1 * 0\\\\\n",
    "    \\ y & = \\beta_0\\\\\n",
    "    \\end{align}\n",
    "    * How do you interpret the values of intercept and slope?\n",
    "        * intercept will be the mean of the comparison group (what happens where gender is 'male'?)\n",
    "        * slope will be:\n",
    "        \\begin{align}\n",
    "        \\beta_1\\ & = \\ y  - \\beta_0\\\\\n",
    "        \\end{align}\n",
    "        the value of the slope will be the difference between y (mean of smoker group) and mean of non-smokr group (the intercept)\n",
    "        \n",
    "Follow the same steps when you have multiple discrete explanatory variables to interpret each regression coefficient."
   ]
  },
  {
   "cell_type": "markdown",
   "metadata": {
    "id": "66OyfBijUhk7"
   },
   "source": [
    "### 2.5 Making parametric inferences on the coefficients\n",
    "I will write the code for bootstraping step by step (just as a practice). In my code, I will be using smf formula interface. You are free to use your functions from previous assignment!\n",
    "\n",
    "I want to get the distributions for coefficients of the following regression model:\n",
    "\n",
    "'weight ~ smokeId + visits + weeks'"
   ]
  },
  {
   "cell_type": "code",
   "execution_count": 48,
   "metadata": {
    "id": "Xhv1CG3lUhk7"
   },
   "outputs": [],
   "source": [
    "def bootstrapReg(D,y,args,fitfcn=multRegFit,numIter=500):\n",
    "    R2,b=fitfcn(D,y,args)\n",
    "    numParams=len(b)\n",
    "    N = len(D.index)\n",
    "    ind  = np.arange(N)\n",
    "    stats = np.zeros((numIter,numParams))\n",
    "    for i in range(numIter):\n",
    "        sample=np.random.choice(ind,N)\n",
    "        R2,stats[i,:]=fitfcn(D.iloc[sample],y[sample],args)\n",
    "    return stats\n",
    "\n",
    "def confidenceInt(data,perc):\n",
    "    tail = (100-perc)/2 # Weight on each tail\n",
    "    Int=(np.percentile(data,tail),np.percentile(data,100-tail))\n",
    "    return Int"
   ]
  },
  {
   "cell_type": "code",
   "execution_count": 66,
   "metadata": {
    "id": "8I-3hy5AUhk7"
   },
   "outputs": [],
   "source": [
    "B = bootstrapReg(df, df['weight'], ['smokeID', 'visits', 'weeks'], numIter = 100)"
   ]
  },
  {
   "cell_type": "code",
   "execution_count": 67,
   "metadata": {
    "id": "_FgtEWo2Uhk7"
   },
   "outputs": [
    {
     "data": {
      "text/plain": [
       "(array([ 5., 10., 12., 18., 16., 15., 13.,  7.,  0.,  4.]),\n",
       " array([0.24874314, 0.26830283, 0.28786252, 0.30742221, 0.32698189,\n",
       "        0.34654158, 0.36610127, 0.38566096, 0.40522065, 0.42478033,\n",
       "        0.44434002]),\n",
       " <BarContainer object of 10 artists>)"
      ]
     },
     "execution_count": 67,
     "metadata": {},
     "output_type": "execute_result"
    },
    {
     "data": {
      "image/png": "[encoded data removed]",
      "text/plain": [
       "<Figure size 640x480 with 1 Axes>"
      ]
     },
     "metadata": {},
     "output_type": "display_data"
    }
   ],
   "source": [
    "plt.hist(B[:, 3]) # 3 represents weeks"
   ]
  },
  {
   "cell_type": "code",
   "execution_count": 78,
   "metadata": {},
   "outputs": [
    {
     "data": {
      "text/plain": [
       "(np.float64(0.3316532721285558), np.float64(0.33179375246286785))"
      ]
     },
     "execution_count": 78,
     "metadata": {},
     "output_type": "execute_result"
    }
   ],
   "source": [
    "confidenceInt(B[:, 3], 0.95) # 0 = intercept, 1 = smokeID, 2 = visits, 3 = weeks"
   ]
  },
  {
   "cell_type": "markdown",
   "metadata": {
    "id": "LHhzDMyDUhk8"
   },
   "source": [
    "# Discrete Response variable\n",
    "Lets say we are interested in doing predictions about wether the baby is premature or not.\n",
    "\n",
    "First we need to create the dummy variable and put into the dataframe"
   ]
  },
  {
   "cell_type": "code",
   "execution_count": 79,
   "metadata": {
    "id": "3M74xNQzUhk8"
   },
   "outputs": [
    {
     "data": {
      "text/html": [
       "<div>\n",
       "<style scoped>\n",
       "    .dataframe tbody tr th:only-of-type {\n",
       "        vertical-align: middle;\n",
       "    }\n",
       "\n",
       "    .dataframe tbody tr th {\n",
       "        vertical-align: top;\n",
       "    }\n",
       "\n",
       "    .dataframe thead th {\n",
       "        text-align: right;\n",
       "    }\n",
       "</style>\n",
       "<table border=\"1\" class=\"dataframe\">\n",
       "  <thead>\n",
       "    <tr style=\"text-align: right;\">\n",
       "      <th></th>\n",
       "      <th>fAge</th>\n",
       "      <th>mAge</th>\n",
       "      <th>weeks</th>\n",
       "      <th>premature</th>\n",
       "      <th>visits</th>\n",
       "      <th>gained</th>\n",
       "      <th>weight</th>\n",
       "      <th>sexBaby</th>\n",
       "      <th>smoke</th>\n",
       "      <th>smokeI</th>\n",
       "      <th>smokeID</th>\n",
       "      <th>premDummy</th>\n",
       "    </tr>\n",
       "  </thead>\n",
       "  <tbody>\n",
       "    <tr>\n",
       "      <th>0</th>\n",
       "      <td>31</td>\n",
       "      <td>30</td>\n",
       "      <td>39</td>\n",
       "      <td>full term</td>\n",
       "      <td>13</td>\n",
       "      <td>1</td>\n",
       "      <td>6.88</td>\n",
       "      <td>male</td>\n",
       "      <td>smoker</td>\n",
       "      <td>True</td>\n",
       "      <td>1.0</td>\n",
       "      <td>1.0</td>\n",
       "    </tr>\n",
       "    <tr>\n",
       "      <th>1</th>\n",
       "      <td>34</td>\n",
       "      <td>36</td>\n",
       "      <td>39</td>\n",
       "      <td>full term</td>\n",
       "      <td>5</td>\n",
       "      <td>35</td>\n",
       "      <td>7.69</td>\n",
       "      <td>male</td>\n",
       "      <td>nonsmoker</td>\n",
       "      <td>False</td>\n",
       "      <td>0.0</td>\n",
       "      <td>1.0</td>\n",
       "    </tr>\n",
       "    <tr>\n",
       "      <th>2</th>\n",
       "      <td>36</td>\n",
       "      <td>35</td>\n",
       "      <td>40</td>\n",
       "      <td>full term</td>\n",
       "      <td>12</td>\n",
       "      <td>29</td>\n",
       "      <td>8.88</td>\n",
       "      <td>male</td>\n",
       "      <td>nonsmoker</td>\n",
       "      <td>False</td>\n",
       "      <td>0.0</td>\n",
       "      <td>1.0</td>\n",
       "    </tr>\n",
       "    <tr>\n",
       "      <th>3</th>\n",
       "      <td>41</td>\n",
       "      <td>40</td>\n",
       "      <td>40</td>\n",
       "      <td>full term</td>\n",
       "      <td>13</td>\n",
       "      <td>30</td>\n",
       "      <td>9.00</td>\n",
       "      <td>female</td>\n",
       "      <td>nonsmoker</td>\n",
       "      <td>False</td>\n",
       "      <td>0.0</td>\n",
       "      <td>1.0</td>\n",
       "    </tr>\n",
       "    <tr>\n",
       "      <th>4</th>\n",
       "      <td>42</td>\n",
       "      <td>37</td>\n",
       "      <td>40</td>\n",
       "      <td>full term</td>\n",
       "      <td>0</td>\n",
       "      <td>10</td>\n",
       "      <td>7.94</td>\n",
       "      <td>male</td>\n",
       "      <td>nonsmoker</td>\n",
       "      <td>False</td>\n",
       "      <td>0.0</td>\n",
       "      <td>1.0</td>\n",
       "    </tr>\n",
       "  </tbody>\n",
       "</table>\n",
       "</div>"
      ],
      "text/plain": [
       "   fAge  mAge  weeks  premature  visits  gained  weight sexBaby      smoke  \\\n",
       "0    31    30     39  full term      13       1    6.88    male     smoker   \n",
       "1    34    36     39  full term       5      35    7.69    male  nonsmoker   \n",
       "2    36    35     40  full term      12      29    8.88    male  nonsmoker   \n",
       "3    41    40     40  full term      13      30    9.00  female  nonsmoker   \n",
       "4    42    37     40  full term       0      10    7.94    male  nonsmoker   \n",
       "\n",
       "   smokeI  smokeID  premDummy  \n",
       "0    True      1.0        1.0  \n",
       "1   False      0.0        1.0  \n",
       "2   False      0.0        1.0  \n",
       "3   False      0.0        1.0  \n",
       "4   False      0.0        1.0  "
      ]
     },
     "execution_count": 79,
     "metadata": {},
     "output_type": "execute_result"
    }
   ],
   "source": [
    "df['premDummy'] = np.double(df['premature'] == 'full term')\n",
    "df.head()"
   ]
  },
  {
   "cell_type": "markdown",
   "metadata": {
    "id": "mIYWYtyMUhk8"
   },
   "source": [
    "## 1. Do a linear regression model\n",
    "Model the dummy variable for premature as a linear function of birth weight. What do you see?"
   ]
  },
  {
   "cell_type": "code",
   "execution_count": 82,
   "metadata": {
    "id": "dEVdkqotUhk8"
   },
   "outputs": [
    {
     "name": "stdout",
     "output_type": "stream",
     "text": [
      "0.38517360434352665\n",
      "[-0.16964759  0.14644398]\n"
     ]
    },
    {
     "data": {
      "text/plain": [
       "[<matplotlib.lines.Line2D at 0x14cc0a7f0>]"
      ]
     },
     "execution_count": 82,
     "metadata": {},
     "output_type": "execute_result"
    },
    {
     "data": {
      "image/png": "[encoded data removed]",
      "text/plain": [
       "<Figure size 640x480 with 1 Axes>"
      ]
     },
     "metadata": {},
     "output_type": "display_data"
    }
   ],
   "source": [
    "R2, b = multRegFit(df, df['premDummy'], ['weight'])\n",
    "print(R2)\n",
    "print(b)\n",
    "\n",
    "yp1 = multRegPredict(b, df, ['weight'])\n",
    "\n",
    "plt.scatter(df['weight'], df['premDummy'])\n",
    "plt.plot(df['weight'], yp1, 'r-')\n"
   ]
  },
  {
   "cell_type": "markdown",
   "metadata": {
    "id": "TS7kX5ocUhk8"
   },
   "source": [
    "## 2. Logistic regression\n",
    "Here, I will show you how to implement the logistic regression function (basically a logistic function).\n",
    "With a discrete response variable, essentially, we want to predict the __probability__, a value between 0 and 1.\n",
    "\n",
    "\n",
    "### 2.1 prediction function (slides 16)\n",
    "pseudocode:\n",
    "1. Write the code for a simple multiple regression prediction function (implementing the following formula):\n",
    "\n",
    "$$\n",
    "a_n  = b_0 + b_1 x_1 + b_2 x_2 + ...\n",
    "$$\n",
    "\n",
    "2. implement the following formula:\n",
    "\n",
    "$$\n",
    "p_n  = \\ 1 \\ / \\ 1 + exp(a_n)\n",
    "$$\n",
    "\n",
    "    To implement this formula, you will need numpy exponential function (numpy.exp):<br>\n",
    "    https://docs.scipy.org/doc/numpy/reference/generated/numpy.exp.html"
   ]
  },
  {
   "cell_type": "code",
   "execution_count": 87,
   "metadata": {
    "id": "kusP690iUhk8"
   },
   "outputs": [],
   "source": [
    "def logisticRegPredict(b, D, xname):\n",
    "    an = np.ones(len(D.index))*b[0]\n",
    "\n",
    "    for i in range(len(xname)):\n",
    "        an = an + b[i + 1] * D[xname[i]]\n",
    "\n",
    "    pn = 1/(1+np.exp(an))\n",
    "\n",
    "    return pn "
   ]
  },
  {
   "cell_type": "markdown",
   "metadata": {
    "id": "-GZuY3vbUhk8"
   },
   "source": [
    "### 2.2 Plot the logistic function\n",
    "Here, we will create a dataframe with a single column (as an example) and use it to plot the logistic function"
   ]
  },
  {
   "cell_type": "code",
   "execution_count": 91,
   "metadata": {
    "id": "KRDbVwXLUhk8"
   },
   "outputs": [
    {
     "data": {
      "text/html": [
       "<div>\n",
       "<style scoped>\n",
       "    .dataframe tbody tr th:only-of-type {\n",
       "        vertical-align: middle;\n",
       "    }\n",
       "\n",
       "    .dataframe tbody tr th {\n",
       "        vertical-align: top;\n",
       "    }\n",
       "\n",
       "    .dataframe thead th {\n",
       "        text-align: right;\n",
       "    }\n",
       "</style>\n",
       "<table border=\"1\" class=\"dataframe\">\n",
       "  <thead>\n",
       "    <tr style=\"text-align: right;\">\n",
       "      <th></th>\n",
       "      <th>MyEntries</th>\n",
       "    </tr>\n",
       "  </thead>\n",
       "  <tbody>\n",
       "    <tr>\n",
       "      <th>0</th>\n",
       "      <td>-10.000000</td>\n",
       "    </tr>\n",
       "    <tr>\n",
       "      <th>1</th>\n",
       "      <td>-9.591837</td>\n",
       "    </tr>\n",
       "    <tr>\n",
       "      <th>2</th>\n",
       "      <td>-9.183673</td>\n",
       "    </tr>\n",
       "    <tr>\n",
       "      <th>3</th>\n",
       "      <td>-8.775510</td>\n",
       "    </tr>\n",
       "    <tr>\n",
       "      <th>4</th>\n",
       "      <td>-8.367347</td>\n",
       "    </tr>\n",
       "  </tbody>\n",
       "</table>\n",
       "</div>"
      ],
      "text/plain": [
       "   MyEntries\n",
       "0 -10.000000\n",
       "1  -9.591837\n",
       "2  -9.183673\n",
       "3  -8.775510\n",
       "4  -8.367347"
      ]
     },
     "execution_count": 91,
     "metadata": {},
     "output_type": "execute_result"
    }
   ],
   "source": [
    "entries = np.linspace(-10, 10, num = 50)\n",
    "\n",
    "Ef = pd.DataFrame(entries, columns = [\"MyEntries\"])\n",
    "\n",
    "Ef.head()"
   ]
  },
  {
   "cell_type": "code",
   "execution_count": 92,
   "metadata": {
    "id": "mxPkRVXhUhk8"
   },
   "outputs": [],
   "source": [
    "p = logisticRegPredict([-1, 1], Ef, ['MyEntries'])"
   ]
  },
  {
   "cell_type": "code",
   "execution_count": 94,
   "metadata": {
    "id": "8w9DSMvJUhk8"
   },
   "outputs": [
    {
     "data": {
      "text/plain": [
       "[<matplotlib.lines.Line2D at 0x14c1f68e0>]"
      ]
     },
     "execution_count": 94,
     "metadata": {},
     "output_type": "execute_result"
    },
    {
     "data": {
      "image/png": "[encoded data removed]",
      "text/plain": [
       "<Figure size 640x480 with 1 Axes>"
      ]
     },
     "metadata": {},
     "output_type": "display_data"
    }
   ],
   "source": [
    "plt.plot(entries, p)"
   ]
  },
  {
   "cell_type": "markdown",
   "metadata": {
    "id": "ACgHXuCbUhk8"
   },
   "source": [
    "## 2.3 Logistic regression loss function"
   ]
  },
  {
   "cell_type": "code",
   "execution_count": 97,
   "metadata": {
    "id": "tJZuiJ7zUhk8"
   },
   "outputs": [
    {
     "data": {
      "text/plain": [
       "[-104.6562765225926]"
      ]
     },
     "execution_count": 97,
     "metadata": {},
     "output_type": "execute_result"
    }
   ],
   "source": [
    "b = [-8, 1.5]\n",
    "\n",
    "yp = logisticRegPredict(b, df, ['weight'])\n",
    "y = df['premDummy']\n",
    "\n",
    "A = y*np.log(p)\n",
    "B = (1 - y)\n",
    "C = np.log(1 - yp)\n",
    "\n",
    "# initialize with the value for the intercept\n",
    "grad = []\n",
    "res = y - yp\n",
    "grad.append(-sum(res))\n",
    "\n",
    "# loop for the other\n",
    "# for: ...\n",
    "# grad[i+1] = np.sum(D[xname[i]])\n",
    "\n",
    "grad"
   ]
  },
  {
   "cell_type": "markdown",
   "metadata": {
    "id": "IRc8aG7BUhk8"
   },
   "source": [
    "## 2.4 optimize cost\n",
    "use scipy.optimize.minimize as before"
   ]
  },
  {
   "cell_type": "code",
   "execution_count": null,
   "metadata": {
    "id": "Sa_tREz8Uhk8"
   },
   "outputs": [],
   "source": [
    "# Res = so.optimize(logisticRegLoss, b0, args = (D, y, ['weight'], jac = True))"
   ]
  },
  {
   "cell_type": "markdown",
   "metadata": {
    "id": "S5J0TBGRUhk8"
   },
   "source": [
    "## 2.5 plot the predictions\n"
   ]
  },
  {
   "cell_type": "code",
   "execution_count": 98,
   "metadata": {
    "id": "V8UX4qDUUhk9"
   },
   "outputs": [
    {
     "data": {
      "text/plain": [
       "[<matplotlib.lines.Line2D at 0x14bda3490>]"
      ]
     },
     "execution_count": 98,
     "metadata": {},
     "output_type": "execute_result"
    },
    {
     "data": {
      "image/png": "[encoded data removed]",
      "text/plain": [
       "<Figure size 640x480 with 1 Axes>"
      ]
     },
     "metadata": {},
     "output_type": "display_data"
    }
   ],
   "source": [
    "plt.scatter(df['weight'], df['premDummy'])\n",
    "\n",
    "plt.plot(df['weight'], yp, 'r-')"
   ]
  },
  {
   "cell_type": "markdown",
   "metadata": {
    "id": "uX2Vu71MUhk9"
   },
   "source": [
    "## 2.6 The likelihood value\n",
    "How to get the likelihood value from the output of smf,logit?"
   ]
  },
  {
   "cell_type": "code",
   "execution_count": null,
   "metadata": {
    "id": "GezZZ4v9Uhk9"
   },
   "outputs": [],
   "source": [
    "# ll, b = logisticRegFit(D, D['premDummy'], ['weight'])\n",
    "\n",
    "# use likelyhood to compute this. Use lectures to compute"
   ]
  },
  {
   "cell_type": "markdown",
   "metadata": {},
   "source": [
    "whats the significgance of the 1 and 0 graph\n",
    "\n",
    "did not understand 2.2 and 2.3"
   ]
  }
 ],
 "metadata": {
  "colab": {
   "provenance": []
  },
  "kernelspec": {
   "display_name": "Python 3",
   "language": "python",
   "name": "python3"
  },
  "language_info": {
   "codemirror_mode": {
    "name": "ipython",
    "version": 3
   },
   "file_extension": ".py",
   "mimetype": "text/x-python",
   "name": "python",
   "nbconvert_exporter": "python",
   "pygments_lexer": "ipython3",
   "version": "3.9.6"
  }
 },
 "nbformat": 4,
 "nbformat_minor": 0
}
