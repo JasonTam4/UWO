{
 "cells": [
  {
   "cell_type": "markdown",
   "metadata": {
    "scrolled": true
   },
   "source": [
    "## Regression demo 1\n",
    "This Jupyter notebook runs a the regression demo from Lecture 7 of the DS2000 course. \n",
    "\n",
    "Under the hood, it uses plotly and dash to create an interactive Jupyter notebook.\n",
    "These are very cool tools that are worth learning about, but not required for the course. \n",
    "\n",
    "Plotly: \n",
    "Dash\n",
    "\n",
    "You should however play around with the interactive features of this notebook to strengthen your intuitions about regression. \n"
   ]
  },
  {
   "cell_type": "code",
   "execution_count": 2,
   "metadata": {},
   "outputs": [
    {
     "name": "stdout",
     "output_type": "stream",
     "text": [
      "zsh:1: command not found: pip\n"
     ]
    }
   ],
   "source": [
    "# Make sure that you have the following libraries installed\n",
    "! pip install dash plotly "
   ]
  },
  {
   "cell_type": "code",
   "execution_count": 3,
   "metadata": {},
   "outputs": [],
   "source": [
    "import dash\n",
    "from dash import dcc # Dash core components \n",
    "from dash import html # Dash html components\n",
    "from dash.dependencies import Input, Output # Dash callback inputs and outputs\n",
    "import plotly.express as px # Plotly express\n",
    "import plotly.graph_objects as go # or plotly.express as px\n",
    "import pandas as pd\n",
    "import numpy as np"
   ]
  },
  {
   "cell_type": "code",
   "execution_count": 4,
   "metadata": {
    "scrolled": true,
    "tags": []
   },
   "outputs": [],
   "source": [
    "# Read the data frame as global variable\n",
    "D = pd.read_csv('RunningSpeeds.csv')\n",
    "\n",
    "# Generate the x-axis for the regression line\n",
    "predx = np.linspace(18, 83, 4)\n",
    "\n",
    "# Build the App layout:\n",
    "app = dash.Dash()\n",
    "app.layout = html.Div([\n",
    "    dcc.Graph(id='strava_fig'),\n",
    "    html.P('intercept: 0.05',id='intercept_val'),\n",
    "    dcc.Slider(\n",
    "        id='intercept_slide',\n",
    "        min=0.0,\n",
    "        max=8.0,\n",
    "        value=5.0,\n",
    "        step=0.01,\n",
    "        updatemode='drag'),\n",
    "    html.P('slope: 0.01',id='slope_val'),\n",
    "    dcc.Slider(\n",
    "        id='slope_slide',\n",
    "        min=-0.1,\n",
    "        max=0.2,\n",
    "        value=0,\n",
    "        step=0.001,\n",
    "        updatemode='drag'),\n",
    "    html.P(id='Loss_val',style = {'font-size': '20px'}),\n",
    "    dcc.Checklist(\n",
    "        id='check',\n",
    "        options=[\n",
    "            {'label': 'Subtract 40', 'value': 'Sub'},\n",
    "            {'label': 'Show Loss', 'value': 'Loss'},\n",
    "            {'label': 'Show Deriv', 'value': 'Deriv'}\n",
    "        ],\n",
    "        value=['Sub'],\n",
    "        labelStyle={'display': 'inline-block'})\n",
    "    ],style={'width':'500px',\n",
    "            'background':'#ffffff',\n",
    "            'font-family': 'sans-serif',\n",
    "            'font-size': '16px'})\n",
    "\n",
    "# Define the callback function\n",
    "@app.callback(\n",
    "    Output('strava_fig', 'figure'),\n",
    "    Output('Loss_val',  'children'),\n",
    "    Output('intercept_val', 'children'),\n",
    "    Output('slope_val', 'children'),\n",
    "    Input('intercept_slide', 'value'),\n",
    "    Input('slope_slide', 'value'),\n",
    "    Input('check','value'))\n",
    "\n",
    "# This function updates the graph\n",
    "def update_graph(b0, b1, checkitems):\n",
    "    # Dependng on whether subtract 40 is toggled -\n",
    "    # subtract 40 from the age.\n",
    "    if 'Sub' in checkitems:\n",
    "        predy = b0+b1*(predx-40)\n",
    "        xx = D.age - 40\n",
    "    else:\n",
    "        predy = b0+b1*(predx)\n",
    "        xx = D.age\n",
    "\n",
    "    # Calculate residuals and  Loss\n",
    "    res = D.pace - b0 - b1*xx\n",
    "    Loss = np.sum((res)**2)\n",
    "\n",
    "    # Generate the scatter plot\n",
    "    fig = px.scatter(D,x='age',y='pace')\n",
    "    fig.add_trace(go.Scatter(x=predx, y=predy,\n",
    "                    mode='lines',\n",
    "                    name='prediction'))\n",
    "    fig.update_layout(title=\"Running Speeds from Strava\",\n",
    "        autosize=False,\n",
    "        width=500, height=350,margin=dict(l=50,r=50,b=50,t=50,pad=4),\n",
    "        paper_bgcolor=\"#fdfdff\",\n",
    "        xaxis_title=\"Age [years]\",\n",
    "        yaxis_title=\"Pace [min/km]\")\n",
    "    fig.update_xaxes(range=[17, 85],fixedrange=True)\n",
    "    fig.update_yaxes(range=[2.5, 8.5],fixedrange=True)\n",
    "\n",
    "    if 'Loss' in checkitems:\n",
    "        Loss_str = f'Loss:{Loss:.1f}'\n",
    "    else:\n",
    "        Loss_str = ''\n",
    "\n",
    "    # Plot the slope and intercept\n",
    "    Intercept_str = f'Intercept:{b0:.2f}'\n",
    "    #\n",
    "    Slope_str = f'Slope: {b1:.2f}'\n",
    "    if 'Deriv' in checkitems:\n",
    "        dLb0 = -2*np.sum(res)\n",
    "        dLb1 = -2*np.sum(res * xx)\n",
    "        Intercept_str = Intercept_str + f'  [{dLb0:.2f}]'\n",
    "        Slope_str = Slope_str + f'  [{dLb1:.2f}]'\n",
    "    return fig, Loss_str, Intercept_str, Slope_str\n"
   ]
  },
  {
   "cell_type": "markdown",
   "metadata": {},
   "source": [
    "# Dash example for the optimization of a regression line \n",
    "The following dash-app allows you to \n",
    "vary the value of the slope and intercept of a regression line and see the immediate effects on the fit. \n",
    "\n",
    "`subtract 40`: \n",
    "Selected : The regression line is: y = slope * (age-40) + intercept \n",
    "Not Selected: The regression line is :y = slope * age + intercept \n",
    "\n",
    "`show Loss`: \n",
    "Shows the squared loss: try to adjust the line minimizing this quantity\n",
    "\n",
    "`show derivative`: \n",
    "Shows the derivative for slope and intercept. Note that you have to move the parameter in the direction *opposite* to the derivative, as you are trying to *minimize* the loss function. "
   ]
  },
  {
   "cell_type": "code",
   "execution_count": 5,
   "metadata": {
    "scrolled": false
   },
   "outputs": [
    {
     "data": {
      "text/html": [
       "\n",
       "        <iframe\n",
       "            width=\"100%\"\n",
       "            height=\"650\"\n",
       "            src=\"http://127.0.0.1:8050/\"\n",
       "            frameborder=\"0\"\n",
       "            allowfullscreen\n",
       "            \n",
       "        ></iframe>\n",
       "        "
      ],
      "text/plain": [
       "<IPython.lib.display.IFrame at 0x118d02b50>"
      ]
     },
     "metadata": {},
     "output_type": "display_data"
    }
   ],
   "source": [
    "app.run(jupyter_mode='inline')"
   ]
  },
  {
   "cell_type": "code",
   "execution_count": null,
   "metadata": {},
   "outputs": [],
   "source": []
  }
 ],
 "metadata": {
  "kernelspec": {
   "display_name": "Python 3",
   "language": "python",
   "name": "python3"
  },
  "language_info": {
   "codemirror_mode": {
    "name": "ipython",
    "version": 3
   },
   "file_extension": ".py",
   "mimetype": "text/x-python",
   "name": "python",
   "nbconvert_exporter": "python",
   "pygments_lexer": "ipython3",
   "version": "3.9.6"
  }
 },
 "nbformat": 4,
 "nbformat_minor": 4
}
