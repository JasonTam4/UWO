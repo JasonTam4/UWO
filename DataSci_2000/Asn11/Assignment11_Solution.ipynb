{
 "cells": [
  {
   "attachments": {},
   "cell_type": "markdown",
   "metadata": {},
   "source": [
    "# Assignment 11: Model Selection, Regularized regression and final practice\n",
    "## Learning goals \n",
    "This homework includes some repeated task and variations on model fitting, and model comparison, which should prepare you optimally for the final. \n",
    "The homework also introduces z-standardization and regularized (L2) regression. \n",
    "Try to solve the task in the homework independently, and prepare a cheat-sheet and a file with useful functions, such that you can complete this homework in 3 hrs or less. \n",
    "\n",
    "## Data set \n",
    "The file kaiser.csv contains a subset of data from the Child Health and Development Studies, which investigate a range of topics. One study considered all pregnancies between 1960 and 1967 among women in the Kaiser Foundation Health Plan in the San Francisco East Bay area. Here, we look at the predictor of birth weight of babies, measured in pounds, as well as the occurrence of complications in the first 3 month. \n",
    "\n",
    "The data frame stored in kaiser.csv contains the variables: \n",
    "- age:          Age of the mom at time of birth\n",
    "- smoke:        Is the mom a smoker / non-smoker? \n",
    "- hospital:     Which hospital was the birth at? Oakland, SanFrancisco, WalnutCreek, SanJose, and Richmond.\n",
    "- gestation:    Gestation period (length of pregnancy) [days]\n",
    "- parity:       1: child the first born 0: Child has older siblings \n",
    "- weight:       Weight of the baby [pounds].  \n",
    "- complication: Was there a complication within the first 3 month of pregnancy (0: No 1:Yes) \n",
    "\n",
    "## Preliminaries\n",
    "Set up the environment by importing pandas, seaborn, numpy, scipy.optimize and matplotlib. \n",
    "Then add your multiple regression functions (multRegPredict,multRegLossRSS, multRegFit) from the last homeworks. \n",
    "\n",
    "To make it easier - we have done these things already! "
   ]
  },
  {
   "cell_type": "code",
   "execution_count": 1,
   "metadata": {},
   "outputs": [],
   "source": [
    "import matplotlib\n",
    "import matplotlib.pyplot as plt\n",
    "import scipy.optimize as so\n",
    "import seaborn as sns\n",
    "import pandas as pd\n",
    "import numpy as np"
   ]
  },
  {
   "cell_type": "code",
   "execution_count": null,
   "metadata": {},
   "outputs": [],
   "source": [
    "def multRegPredict(b,D,xname):\n",
    "    \"\"\"Prediction function for multiple regression\n",
    "\n",
    "    Args:\n",
    "        b (nd.array): Array of regression coefficients - first is intercept\n",
    "        D (pd.DataFrame): Pandas data frame with explanatory variables\n",
    "        xname (list): List of strings with names of explanatory variables\n",
    "\n",
    "    Returns:\n",
    "        yp (nd.array): Predicted y - values\n",
    "    \"\"\"\n",
    "    yp=np.ones(len(D.index))*b[0]        # Intercept\n",
    "    for i in range(len(xname)):\n",
    "        yp=yp+D[xname[i]]*b[i+1]         # Add each regression value\n",
    "    return yp\n",
    "\n",
    "def multRegLossRSS(b,D,y,xname):\n",
    "    \"\"\"Loss function for OLS multiple regression\n",
    "\n",
    "    Args:\n",
    "        b (nd.array): Array of regression coefficients - first is intercept\n",
    "        D (pd.DataFrame): Pandas data frame with explanatory variables\n",
    "        y (ndarray): Dependent variable\n",
    "        xname (list): List of strings with names of explanatory variables\n",
    "\n",
    "    Returns:\n",
    "        rss: Current loss\n",
    "        grad: gradient of loss function in respect to parameters\n",
    "    \"\"\"\n",
    "    predY = multRegPredict(b,D,xname)\n",
    "    res = y-predY\n",
    "    rss = sum(res**2)\n",
    "    grad=np.zeros(len(b))\n",
    "    grad[0]=-2*np.sum(res)\n",
    "    for i in range(len(xname)):\n",
    "        grad[i+1]=-2*np.sum(D[xname[i]]*res)\n",
    "    return (rss,grad)\n",
    "\n",
    "def multRegFit(D,y,xname=[],figure=0,b0=[]):\n",
    "    \"\"\"Fits a multiple regression loss function\n",
    "\n",
    "    Args:\n",
    "        D (pd.DataFrame): Pandas data frame with explanatory variables\n",
    "        y (ndarray): Dependent variable\n",
    "        xname (list): List of strings with names of explanatory variables\n",
    "        figure (int): Plot figure? Defaults to 0.\n",
    "        b0 (np.ndarray). Initial guess for the parameter vector\n",
    "\n",
    "    Returns:\n",
    "        R2: Fitted R2 value\n",
    "        b: Fitted\n",
    "    \"\"\"\n",
    "    k=len(xname)+1\n",
    "    if (len(b0)!=k):\n",
    "        b0=np.zeros((k,))\n",
    "    RES = so.minimize(multRegLossRSS,b0,args=(D,y,xname),jac=True)\n",
    "    b=RES.x # Results\n",
    "    res = y-np.mean(y)\n",
    "    TSS = sum(res**2)\n",
    "    RSS,deriv = multRegLossRSS(b,D,y,xname)\n",
    "    R2 = 1-RSS/TSS\n",
    "    if (k==2 and figure==1):\n",
    "        fig = plt.figure()\n",
    "        ax = fig.add_subplot(1,1,1)\n",
    "        ax.scatter(D[xname[0]],y)\n",
    "        xRange=[min(D[xname[0]]),max(D[xname[0]])]\n",
    "        xp=np.arange(xRange[0],xRange[1],(xRange[1]-xRange[0])/50)\n",
    "        yp=b[0]+b[1]*xp\n",
    "        ax.plot(xp,yp,'r-')\n",
    "        ax.spines['top'].set_visible(False)\n",
    "        ax.spines['right'].set_visible(False)\n",
    "    return (R2,b)"
   ]
  },
  {
   "attachments": {},
   "cell_type": "markdown",
   "metadata": {},
   "source": [
    "## Task 1: Multiple regression with discrete variables ( / 30 pts)\n",
    "### Question 1.1 ( / 10pt)\n",
    "Create a dummy variable for Smoker / Non-smoker. Set the value for “Smoker” to 1 and for “Non-smoker” to 0. Estimate a regression model with the dummy variable as a regressor *and birth weight as the response variable.* Use the RSS as the loss function. \n",
    "\n",
    "Report the value of the intercept and slope. \n",
    "\n",
    "Written answer: What does the intercept and slope value indicate? \n"
   ]
  },
  {
   "cell_type": "code",
   "execution_count": 3,
   "metadata": {},
   "outputs": [],
   "source": [
    "D = pd.read_csv('kaiser.csv')"
   ]
  },
  {
   "cell_type": "code",
   "execution_count": 4,
   "metadata": {},
   "outputs": [],
   "source": [
    "D['smokeDummy'] = np.double(D['smoke'] == 'smoker')"
   ]
  },
  {
   "cell_type": "code",
   "execution_count": 5,
   "metadata": {},
   "outputs": [
    {
     "name": "stdout",
     "output_type": "stream",
     "text": [
      "The intercept is 7.69\n",
      "The slope is -1.21 \n"
     ]
    },
    {
     "data": {
      "image/png": "[encoded data removed]",
      "text/plain": [
       "<Figure size 432x288 with 1 Axes>"
      ]
     },
     "metadata": {
      "needs_background": "light"
     },
     "output_type": "display_data"
    }
   ],
   "source": [
    "r2, b = multRegFit(D,D['weight'],['smokeDummy'],figure=1,b0=[])\n",
    "plt.xlabel('smoke dummy variable')\n",
    "plt.ylabel('birth weight')\n",
    "print(f'The intercept is {b[0]:.2f}')\n",
    "print(f'The slope is {b[1]:.2f} ' )"
   ]
  },
  {
   "cell_type": "markdown",
   "metadata": {},
   "source": [
    "*Figure 1*. Shows the scatter plot of birth weight of babies with smoking mothers (1) and non-smoking moms (0). The red line is the regression line."
   ]
  },
  {
   "attachments": {},
   "cell_type": "markdown",
   "metadata": {},
   "source": [
    "> b0 (the intercept) is the mean of the non-smoking group (y = b[0] + b[1] * 0) and b[1] is the difference between the means of smokers and non-smokers (y = b[0] + b[1] * 1). Since b[1] is a negative value, the mean birth weight of babies of smoker group is lower than the mean of the non-smoker group."
   ]
  },
  {
   "attachments": {},
   "cell_type": "markdown",
   "metadata": {},
   "source": [
    "### Question 1.2 ( / 8pt)\n",
    "Make a boxplot of hospital on the x-axis and birthweight on the y-axis (see HW2 for an example). Which hospital has the lowest overall birth weight?  "
   ]
  },
  {
   "cell_type": "code",
   "execution_count": 6,
   "metadata": {},
   "outputs": [
    {
     "data": {
      "text/plain": [
       "<Axes: xlabel='hospital', ylabel='weight'>"
      ]
     },
     "execution_count": 6,
     "metadata": {},
     "output_type": "execute_result"
    },
    {
     "data": {
      "image/png": "[encoded data removed]",
      "text/plain": [
       "<Figure size 432x288 with 1 Axes>"
      ]
     },
     "metadata": {
      "needs_background": "light"
     },
     "output_type": "display_data"
    }
   ],
   "source": [
    "sns.boxplot(x=D.hospital,y=D.weight)"
   ]
  },
  {
   "cell_type": "markdown",
   "metadata": {},
   "source": [
    "*Figure 2*. Boxplot of birth weight of babies grouped by the hospital"
   ]
  },
  {
   "cell_type": "code",
   "execution_count": 7,
   "metadata": {},
   "outputs": [
    {
     "data": {
      "text/plain": [
       "hospital\n",
       "Oakland         7.441426\n",
       "Richmond        7.313273\n",
       "SanFrancisco    7.667122\n",
       "SanJose         7.544500\n",
       "WalnutCreek     7.645780\n",
       "Name: weight, dtype: float64"
      ]
     },
     "execution_count": 7,
     "metadata": {},
     "output_type": "execute_result"
    }
   ],
   "source": [
    "# Calucate the mean weight for each hospital\n",
    "D.groupby('hospital').mean()['weight']"
   ]
  },
  {
   "attachments": {},
   "cell_type": "markdown",
   "metadata": {},
   "source": [
    "Richmond has the lowest average birth weight. "
   ]
  },
  {
   "attachments": {},
   "cell_type": "markdown",
   "metadata": {},
   "source": [
    "### Question 1.3  ( / 12pt)\n",
    "Create a set of 4 dummy variables that together code the hospital. Set Walnut Creek to be your comparison group. Run a multiple regression model with the 4 dummy variables as explanatory variables. Report the interecept and slope values. What do the intercept and slope values mean? "
   ]
  },
  {
   "cell_type": "code",
   "execution_count": 8,
   "metadata": {},
   "outputs": [],
   "source": [
    "D['hospOAK'] = np.double(D.hospital=='Oakland')\n",
    "D['hospSFO'] = np.double(D.hospital=='SanFrancisco')\n",
    "D['hospSJO'] = np.double(D.hospital=='SanJose')\n",
    "D['hospRIM'] = np.double(D.hospital=='Richmond')"
   ]
  },
  {
   "cell_type": "code",
   "execution_count": 9,
   "metadata": {},
   "outputs": [
    {
     "name": "stdout",
     "output_type": "stream",
     "text": [
      "B:7.646\n",
      "B:-0.204\n",
      "B:0.021\n",
      "B:-0.101\n",
      "B:-0.333\n"
     ]
    }
   ],
   "source": [
    "r2,b=multRegFit(D,D.weight,['hospOAK','hospSFO','hospSJO','hospRIM'])\n",
    "print(f\"B:{b[0]:3.3f}\")\n",
    "print(f\"B:{b[1]:3.3f}\")\n",
    "print(f\"B:{b[2]:3.3f}\")\n",
    "print(f\"B:{b[3]:3.3f}\")\n",
    "print(f\"B:{b[4]:3.3f}\")"
   ]
  },
  {
   "attachments": {},
   "cell_type": "markdown",
   "metadata": {},
   "source": [
    "> The incept is 7.429, which is the average weight for WalnutCreek<br> \n",
    "The slope for Oakland is -0.204, which means that the birth weight of babies in Oakland is 0.2 pounds lower than in WC <br>\n",
    "The slope for SFO is 0.021, which means that the birth weight of babies in SF is 0.021 pounds higher than in WC<br>\n",
    "The slope for SJO is -0.101, which means that the birth weight of babies in San Jose is 0.101 lower than in WC<br>\n",
    "The slope for Richmond is -0.33, which means that the birth weight of babies in Richmond is 0.33 pounds lower than in WC<br>"
   ]
  },
  {
   "attachments": {},
   "cell_type": "markdown",
   "metadata": {},
   "source": [
    "## Task 2: Model selection for multiple regression  ( / 35 pts)\n",
    "### Question 2.1 ( / 20 pts)\n",
    "Write a version of the crossvalidation function that does K-fold crossvalidation and works specifically with multRegFit as the fitting function. \n",
    "\n",
    "KfoldCVmultReg(D,y,xname,K=20,fitfcn=multRegFit,param={},predictfcn=multRegPredict):\n",
    "- D: Data Frame with explanatory variables  \n",
    "- y: response variable \n",
    "- xname: List of explanatory variables\n",
    "- K: Number of crossvalidation folds\n",
    "\n",
    "For dividing the data up in K pieces, you can use the following trick to assign a partition index to each of the data-points:\n",
    "```\n",
    "#N = number of data points \n",
    "#K = number of test sets (folds)\n",
    "ind = np.arange(N)\n",
    "ind = np.floor(ind/N*K)\n",
    "```\n",
    "\n",
    "\n",
    "The code should compute and return the predictive (crossvalidated) $R^2$ (R2cv) and the fitted $R^2$ (R2). \n",
    "It should use the entries in the Dictionary to pass them to the function using `fitfcn(D,y,xname,**param)`\n",
    "Run 20-fold crossvalidation on the multiple regression model, with birth weight as the response variable and \n",
    "\n",
    "- age of the mother \n",
    "- smoker (dummy coded) \n",
    "- birth occurred in Oakland? \n",
    "- gestation \n",
    "\n",
    "as explanatory variables. \n",
    "Report R2cv and R2. "
   ]
  },
  {
   "cell_type": "code",
   "execution_count": 10,
   "metadata": {},
   "outputs": [],
   "source": [
    "def KfoldCVmultReg(D,y,xname,K=20):\n",
    "    \"\"\"K-fold Crossvalidation for multiple regression\"\"\"\n",
    "    N = len(y) #Number of observations\n",
    "    yp= np.zeros(N)\n",
    "\n",
    "    # Make an index vector with K folds\n",
    "    ind = np.arange(N)\n",
    "    ind = np.floor(ind/N*K)\n",
    "\n",
    "    # Get overall model fit\n",
    "    R2,b_all=multRegFit(D,y,xname)\n",
    "\n",
    "    # Loop over the crossvalidation folds\n",
    "    for i in range(K):\n",
    "        r,b=multRegFit(D[ind!=i],y[ind!=i],xname,b0=b_all)\n",
    "        yp[ind==i]=multRegPredict(b,D[ind==i],xname)\n",
    "\n",
    "    # Calculate crossvalidated model fit\n",
    "    TSS  = sum((y-y.mean())**2)\n",
    "    RSScv = sum((y-yp)**2)\n",
    "    R2cv = 1-RSScv/TSS\n",
    "    return R2cv,R2"
   ]
  },
  {
   "cell_type": "code",
   "execution_count": 11,
   "metadata": {},
   "outputs": [
    {
     "name": "stdout",
     "output_type": "stream",
     "text": [
      "Fitted R2:0.3503\n",
      "Crossvalidated R2:0.2882\n"
     ]
    }
   ],
   "source": [
    "R2cv,R2 = KfoldCVmultReg(D,D.weight,['age','smokeDummy','gestation','parity'])\n",
    "print(f\"Fitted R2:{R2:.4f}\")\n",
    "print(f\"Crossvalidated R2:{R2cv:.4f}\")"
   ]
  },
  {
   "attachments": {},
   "cell_type": "markdown",
   "metadata": {},
   "source": [
    "> R2 is 0.3503, and cv R2 is 0.2882. So overall, we are able to predict 28.82% of the variance "
   ]
  },
  {
   "attachments": {},
   "cell_type": "markdown",
   "metadata": {},
   "source": [
    "### Question 2.2 ( / 15 pts)\n",
    "Using the R2cv from the 20-fold crossvalidation, determine the best predictive model for birthweight using the following candidate variables \n",
    "\n",
    "- age of mom\n",
    "- smoker (dummy coded) \n",
    "- gestation \n",
    "- parity \n",
    "\n",
    "Start with the R2cv for the full model (Question 2.1)and use **backwards** step-wise regression to find the best model (the model that increases R2cv the most). Show all steps of your selection procedure. Report the formula of your best model. "
   ]
  },
  {
   "cell_type": "code",
   "execution_count": 12,
   "metadata": {},
   "outputs": [
    {
     "name": "stdout",
     "output_type": "stream",
     "text": [
      "Fitted R2:0.3423\n",
      "Crossvalidated R2:0.2950\n"
     ]
    }
   ],
   "source": [
    "# Dropping Age\n",
    "R2cv,R2 = KfoldCVmultReg(D,D.weight,['smokeDummy','gestation','parity'])\n",
    "print(f\"Fitted R2:{R2:.4f}\")\n",
    "print(f\"Crossvalidated R2:{R2cv:.4f}\")"
   ]
  },
  {
   "cell_type": "code",
   "execution_count": 13,
   "metadata": {},
   "outputs": [
    {
     "name": "stdout",
     "output_type": "stream",
     "text": [
      "Fitted R2:0.2244\n",
      "Crossvalidated R2:0.1626\n"
     ]
    }
   ],
   "source": [
    "# Dropping Smoke Dummy\n",
    "R2cv,R2 = KfoldCVmultReg(D,D.weight,['age','gestation','parity'])\n",
    "print(f\"Fitted R2:{R2:.4f}\")\n",
    "print(f\"Crossvalidated R2:{R2cv:.4f}\")"
   ]
  },
  {
   "cell_type": "code",
   "execution_count": 14,
   "metadata": {},
   "outputs": [
    {
     "name": "stdout",
     "output_type": "stream",
     "text": [
      "Fitted R2:0.1917\n",
      "Crossvalidated R2:0.1282\n"
     ]
    }
   ],
   "source": [
    "# Dropping gestation\n",
    "R2cv,R2 = KfoldCVmultReg(D,D.weight,['age','smokeDummy','parity'])\n",
    "print(f\"Fitted R2:{R2:.4f}\")\n",
    "print(f\"Crossvalidated R2:{R2cv:.4f}\")\n"
   ]
  },
  {
   "cell_type": "code",
   "execution_count": 15,
   "metadata": {},
   "outputs": [
    {
     "name": "stdout",
     "output_type": "stream",
     "text": [
      "Fitted R2:0.3503\n",
      "Crossvalidated R2:0.2936\n"
     ]
    }
   ],
   "source": [
    "# Dropping parity\n",
    "R2cv,R2 = KfoldCVmultReg(D,D.weight,['age','smokeDummy','gestation'])\n",
    "print(f\"Fitted R2:{R2:.4f}\")\n",
    "print(f\"Crossvalidated R2:{R2cv:.4f}\")"
   ]
  },
  {
   "attachments": {},
   "cell_type": "markdown",
   "metadata": {},
   "source": [
    "> The R2cv increases most when dropping age as an explanatory variables. So we drop age and proceed with trying to drop another variable. "
   ]
  },
  {
   "cell_type": "code",
   "execution_count": 16,
   "metadata": {},
   "outputs": [
    {
     "name": "stdout",
     "output_type": "stream",
     "text": [
      "Fitted R2:0.2216\n",
      "Crossvalidated R2:0.1757\n"
     ]
    }
   ],
   "source": [
    "# Dropping Smoke Dummy\n",
    "R2cv,R2 = KfoldCVmultReg(D,D.weight,['gestation','parity'])\n",
    "print(f\"Fitted R2:{R2:.4f}\")\n",
    "print(f\"Crossvalidated R2:{R2cv:.4f}\")"
   ]
  },
  {
   "cell_type": "code",
   "execution_count": 17,
   "metadata": {},
   "outputs": [
    {
     "name": "stdout",
     "output_type": "stream",
     "text": [
      "Fitted R2:0.0067\n",
      "Crossvalidated R2:-0.0606\n"
     ]
    }
   ],
   "source": [
    "# Dropping gestation\n",
    "R2cv,R2 = KfoldCVmultReg(D,D.weight,['age','parity'])\n",
    "print(f\"Fitted R2:{R2:.4f}\")\n",
    "print(f\"Crossvalidated R2:{R2cv:.4f}\")"
   ]
  },
  {
   "cell_type": "code",
   "execution_count": 18,
   "metadata": {},
   "outputs": [
    {
     "name": "stdout",
     "output_type": "stream",
     "text": [
      "Fitted R2:0.3403\n",
      "Crossvalidated R2:0.3014\n"
     ]
    }
   ],
   "source": [
    "# Dropping parity\n",
    "R2cv,R2 = KfoldCVmultReg(D,D.weight,['smokeDummy','gestation'])\n",
    "print(f\"Fitted R2:{R2:.4f}\")\n",
    "print(f\"Crossvalidated R2:{R2cv:.4f}\")"
   ]
  },
  {
   "attachments": {},
   "cell_type": "markdown",
   "metadata": {},
   "source": [
    "Dropping Parity improves the cross-validated R2 most. \n",
    "Dropping either of these terms now decreases R2cv quite dramatically - so \n",
    "\n",
    "weight = b_0 + b_1 * smokeDummy + b_2 * gestation \n",
    "\n",
    "is our best model"
   ]
  },
  {
   "attachments": {},
   "cell_type": "markdown",
   "metadata": {},
   "source": [
    "## Task 3: Implement regularized regression to build a better predictive model (/35pts)\n",
    "In this task you will implement regularized regression to try to build a better predictive model for the birthweight of data. \n",
    "Like in Task 2, we will consider the following explanatory variables:\n",
    "\n",
    "- age of the mother \n",
    "- smoker (dummy coded) \n",
    "- birth occurred in Oakland? \n",
    "- gestation "
   ]
  },
  {
   "attachments": {},
   "cell_type": "markdown",
   "metadata": {},
   "source": [
    "### Question 3.1: Z-standardize the regressors (/8pts)\n",
    "Write a function `zstandardize`, which takes as an input a pandas series or ndarray \n",
    "and returns a z-standardized version of the data \n",
    "\n",
    "Use the function to z-standardize the columns age,gestation,parity, and smokeDummy. \n",
    "\n",
    "Create new columns in the data frame called ageZ,gestationZ,parityZ, and smokeDummyZ.\n",
    "\n",
    "Check that the mean of the new variables in very close to and the std very close to 1.  "
   ]
  },
  {
   "cell_type": "code",
   "execution_count": 19,
   "metadata": {},
   "outputs": [
    {
     "name": "stdout",
     "output_type": "stream",
     "text": [
      "Mean: 7.915890165577366e-16\n",
      "Std: 1.0\n"
     ]
    }
   ],
   "source": [
    "# Z-standardize the data\n",
    "def zstandardize(d):\n",
    "    d = (d-d.mean())/d.std()\n",
    "    return d\n",
    "\n",
    "D['ageZ'] = zstandardize(D.age)\n",
    "D['gestationZ'] = zstandardize(D.gestation)\n",
    "D['parityZ'] = zstandardize(D.parity)\n",
    "D['smokeDummyZ'] = zstandardize(D.smokeDummy)\n",
    "\n",
    "print(f'Mean: {D.ageZ.mean()}')\n",
    "print(f'Std: {D.ageZ.std()}')\n",
    "\n"
   ]
  },
  {
   "attachments": {},
   "cell_type": "markdown",
   "metadata": {},
   "source": [
    "### Question 3.2 Implement Ridge regression (L2 regularized regression) (/17pts)\n",
    "\n",
    "To implement ridge regression you need to modify two functions, the most important being the loss function. \n",
    "Make a copy of the function `multRegLossRSS` from assigment 10. \n",
    "Rename it to `ridgeLoss`. Give the function an additional input parameter, namely alpha. Give this a default value of 1.0. \n",
    "\n",
    "Change the loss and the gradient to take into account the regularization. \n",
    "\n",
    "**Note that we are not regularizing the intercept regressor (b0)**\n",
    "\n",
    "Overall the function should take the following input arguments:\n",
    "\n",
    "    Args:\n",
    "        b (nd.array): Array of regression coefficients - first is intercept \n",
    "        D (pd.DataFrame): Pandas data frame with explanatory variables\n",
    "        y (ndarray): Dependent variable \n",
    "        xname (list): List of strings with names of explanatory variables\n",
    "        alpha (float): Regularization parameter \n",
    "\n",
    "    Returns:\n",
    "        loss: Current loss\n",
    "        grad: gradient of loss function in respect to parameters  \n",
    "\n",
    "Then make a copy of `multRegFit` from the last homework and rename it to `ridgeFit`. \n",
    "Again, you need to add an additional input parameter (alpha) to the function. \n",
    "Alpha needs to be passed to your loss function (`ridgeLoss`) when you call so.minimize: \n",
    "\n",
    "`so.minimize(ridgeLoss,b0,args=(D,y,xname,alpha),jac=True)`\n",
    "\n",
    "You need to take care when you calculate R2 of the fit - Since ridgeLoss does not return the \n",
    "residual-sum-of-squares, you need to use the appropriate function to calculate the RSS.\n",
    "\n",
    "To test your function:\n",
    "* Use it to fit a model that explains weight with the explanatory variables `['ageZ','smokeDummyZ','gestationZ','parityZ']`. Note: use the zstandardized version of the variables.  \n",
    "* Do the fit setting `alpha=0` and `alpha=8`, and report both R2 and the regression coefficients (b)\n",
    "* Compare the R2 between the two settings of alpha. Also compare to the one found for normal multiple regression (Question 2.1). What do you see and why?\n",
    "* Compare the regression weights (b) between the two settings of alpha. which regression weights changed and why? \n"
   ]
  },
  {
   "cell_type": "code",
   "execution_count": 20,
   "metadata": {},
   "outputs": [],
   "source": [
    "def ridgeLoss(b,D,y,xname,alpha=1.0):\n",
    "    \"\"\"Loss function for Ridge regression\n",
    "\n",
    "    Args:\n",
    "        b (nd.array): Array of regression coefficients - first is intercept\n",
    "        D (pd.DataFrame): Pandas data frame with explanatory variables\n",
    "        y (ndarray): Dependent variable\n",
    "        xname (list): List of strings with names of explanatory variables\n",
    "        alpha (float): Ridge regression parameter\n",
    "    Returns:\n",
    "        rss: Current loss\n",
    "        grad: gradient of loss function in respect to parameters\n",
    "    \"\"\"\n",
    "    predY = multRegPredict(b,D,xname)\n",
    "    res = y-predY\n",
    "    rss = sum(res**2)+alpha*sum(b[1:]**2)\n",
    "    grad=np.zeros(len(b))\n",
    "    grad[0]=-2*np.sum(res)\n",
    "    for i in range(len(xname)):\n",
    "        grad[i+1]=-2*np.sum(D[xname[i]]*res)+2*alpha*b[i+1]\n",
    "    return (rss,grad)\n",
    "\n",
    "def ridgeFit(D,y,xname,figure=0,b0=[],alpha=1.0):\n",
    "    \"\"\"Fits a multiple regression loss function\n",
    "\n",
    "    Args:\n",
    "        D (pd.DataFrame): Pandas data frame with explanatory variables\n",
    "        y (ndarray): Dependent variable\n",
    "        xname (list): List of strings with names of explanatory variables\n",
    "        figure (int): Plot figure? Defaults to 0.\n",
    "        b0 (np.ndarray). Initial guess for the parameter vector\n",
    "        alpha (float): Ridge regression parameter\n",
    "    Returns:\n",
    "        R2: Fitted R2 value\n",
    "        b: Fitted\n",
    "    \"\"\"\n",
    "    k=len(xname)+1\n",
    "    if (len(b0)!=k):\n",
    "        b0=np.zeros((k,))\n",
    "    RES = so.minimize(ridgeLoss,b0,args=(D,y,xname,alpha),jac=True)\n",
    "    b=RES.x # Results\n",
    "    res = y-np.mean(y)\n",
    "    TSS = sum(res**2)\n",
    "    RSS,deriv = multRegLossRSS(b,D,y,xname)\n",
    "    R2 = 1-RSS/TSS\n",
    "    if (k==2 and figure==1):\n",
    "        fig = plt.figure()\n",
    "        ax = fig.add_subplot(1,1,1)\n",
    "        ax.scatter(D[xname[0]],y)\n",
    "        xRange=[min(D[xname[0]]),max(D[xname[0]])]\n",
    "        xp=np.arange(xRange[0],xRange[1],(xRange[1]-xRange[0])/50)\n",
    "        yp=b[0]+b[1]*xp\n",
    "        ax.plot(xp,yp,'r-')\n",
    "        ax.spines['top'].set_visible(False)\n",
    "        ax.spines['right'].set_visible(False)\n",
    "    return (R2,b)"
   ]
  },
  {
   "cell_type": "code",
   "execution_count": 21,
   "metadata": {},
   "outputs": [
    {
     "name": "stdout",
     "output_type": "stream",
     "text": [
      "alpha=0\n",
      "R2: 0.3503\n",
      "alpha=8\n",
      "R2: 0.3488\n"
     ]
    }
   ],
   "source": [
    "R2_0,b_0 = ridgeFit(D,D.weight,['ageZ','smokeDummyZ','gestationZ','parityZ'],alpha=0.0)\n",
    "R2_1,b_1 = ridgeFit(D,D.weight,['ageZ','smokeDummyZ','gestationZ','parityZ'],alpha=8.0)\n",
    "\n",
    "print('alpha=0')\n",
    "print(f'R2: {R2_0:.4f}')\n",
    "\n",
    "print('alpha=8')\n",
    "print(f'R2: {R2_1:.4f}')\n"
   ]
  },
  {
   "attachments": {},
   "cell_type": "markdown",
   "metadata": {},
   "source": [
    "The fitted R2 value reduces when we add regularization to the model. The R2 for `alpha=0` is identical to normal regression - because we set the regularization to zero, so it has no effect. *BTW: this is also a good test if your functions work correctly!*"
   ]
  },
  {
   "cell_type": "code",
   "execution_count": 22,
   "metadata": {},
   "outputs": [
    {
     "name": "stdout",
     "output_type": "stream",
     "text": [
      "alpha=0\n",
      "[ 7.495e+00 -1.040e-01 -3.830e-01  4.340e-01  4.000e-03]\n",
      "alpha=8\n",
      "[ 7.495e+00 -9.400e-02 -3.580e-01  4.050e-01  3.000e-03]\n"
     ]
    }
   ],
   "source": [
    "print('alpha=0')\n",
    "print(b_0.round(3))\n",
    "print('alpha=8')\n",
    "print(b_1.round(3))\n"
   ]
  },
  {
   "attachments": {},
   "cell_type": "markdown",
   "metadata": {},
   "source": [
    "The intercept regressor (`b[0]`) did not change, as it was not regularized. However, all other regression coefficients are now closer to zero. "
   ]
  },
  {
   "attachments": {},
   "cell_type": "markdown",
   "metadata": {},
   "source": [
    "### Question 3.3: Crossvalidate Ridge regression (10pts)\n",
    "Copy your function `KfoldCVmultReg` from Question 2.1, rename it to `KfoldCVridge`, and modify it to work with Ridge regression. \n",
    "That means it needs to take an additional input parameter `alpha` that it passes on to the fitting function. \n",
    "\n",
    "To calculate the R2 and R2cv for the model of `weight` using the explanatory variables `['ageZ','smokeDummyZ','gestationZ','parityZ']`. Like in question 3.2, use the standardized versions of the variables and try both the setting `alpha=0` and `alpha=8`. \n",
    "\n",
    "How to the R2 and R2cv values compare between the two settings of alpha? Do you get better predictive performance than the reduced model that you found using feature selection (Question 2.2)?\n",
    "\n",
    "\n",
    "*Note: If you want, play a bit with the regularization parameter to see if you can find a better setting. What happens when you make `alpha` very large (i.e. 1000)? (this is optional, but educational)*"
   ]
  },
  {
   "cell_type": "code",
   "execution_count": 23,
   "metadata": {},
   "outputs": [],
   "source": [
    "def KfoldCVridge(D,y,xname,K=20,alpha=1.0):\n",
    "    \"\"\"K-fold Crossvalidation for multiple regression\"\"\"\n",
    "    N = len(y) #Number of observations\n",
    "    yp= np.zeros(N)\n",
    "\n",
    "    # Make an index vector with K folds\n",
    "    ind = np.arange(N)\n",
    "    ind = np.floor(ind/N*K)\n",
    "\n",
    "    # Get overall model fit\n",
    "    R2,b_all=ridgeFit(D,y,xname,alpha=alpha)\n",
    "\n",
    "    # Loop over the crossvalidation folds\n",
    "    for i in range(K):\n",
    "        r,b=ridgeFit(D[ind!=i],y[ind!=i],xname,b0=b_all,alpha=alpha)\n",
    "        yp[ind==i]=multRegPredict(b,D[ind==i],xname)\n",
    "\n",
    "    # Calculate crossvalidated model fit\n",
    "    TSS  = sum((y-y.mean())**2)\n",
    "    RSScv = sum((y-yp)**2)\n",
    "    R2cv = 1-RSScv/TSS\n",
    "    return R2cv,R2"
   ]
  },
  {
   "cell_type": "code",
   "execution_count": 24,
   "metadata": {},
   "outputs": [
    {
     "name": "stdout",
     "output_type": "stream",
     "text": [
      "Fitted R2:0.3503\n",
      "Crossvalidated R2:0.2882\n"
     ]
    }
   ],
   "source": [
    "R2cv,R2 = KfoldCVridge(D,D.weight,['ageZ','smokeDummyZ','gestationZ','parityZ'],alpha=0)\n",
    "print(f\"Fitted R2:{R2:.4f}\")\n",
    "print(f\"Crossvalidated R2:{R2cv:.4f}\")"
   ]
  },
  {
   "cell_type": "code",
   "execution_count": 25,
   "metadata": {},
   "outputs": [
    {
     "name": "stdout",
     "output_type": "stream",
     "text": [
      "Fitted R2:0.3487\n",
      "Crossvalidated R2:0.2950\n"
     ]
    }
   ],
   "source": [
    "R2cv,R2 = KfoldCVridge(D,D.weight,['ageZ','smokeDummyZ','gestationZ'],alpha=8)\n",
    "print(f\"Fitted R2:{R2:.4f}\")\n",
    "print(f\"Crossvalidated R2:{R2cv:.4f}\")"
   ]
  },
  {
   "attachments": {},
   "cell_type": "markdown",
   "metadata": {},
   "source": [
    "As stated in Question 3.2. the fitted R2 becomes smaller for higher regularization parameter, because we do not minimize RSS anymore. \n",
    "\n",
    "In contrast, cross-validated R2 increases when regularizing the model. However the regularized model is not quite as good as the one that we found in question 2.2 using backwards stepwise regression. \n",
    " "
   ]
  },
  {
   "attachments": {},
   "cell_type": "markdown",
   "metadata": {},
   "source": [
    "## Task 4: Use logistic regression to predict complications \n",
    "In this task you will create and test a logistic regression model that predicts the presence of a complication in the first three month (0: no complication, 1: complication). \n",
    "\n",
    "** Task 4 of the Homework does not have to be handed in and will not be graded! It is only added here to provide additional preparation and practice for you for the final. So if you are short on time, leave these questions open and solve them when you practice for the final.**\n",
    "\n",
    "### Question 4.1: Improving your logistic regression model code\n",
    "Improve your code for logisitic regression in two ways: \n",
    "\n",
    "1. prevent log(0) errors by making sure that your predicted value never is smaller than 1e-20 or larger than 1-1e-20. (tip you can use the numpy function `clip`)\n",
    "\n",
    "2. Let logisticRegFit take an additional input parameter, telling it whether it should plot a figure or not (figure=1) \n",
    "\n",
    "3. Let logisticRegFit take an additional input parameter, specifying the starting value for the parameters (b_init=[]). If b_init is empty, the function should start with a vector off all zeros. "
   ]
  },
  {
   "cell_type": "code",
   "execution_count": 26,
   "metadata": {},
   "outputs": [],
   "source": [
    "def logisticRegPredict(b,D,xname):\n",
    "    yp=np.ones(len(D.index))*b[0]       # Start out with the intercept\n",
    "    for i in range(len(xname)):\n",
    "        yp=yp+D[xname[i]]*b[i+1]        # Add the prediction of each regressor seperately\n",
    "    p = np.exp(yp)/(1+np.exp(yp))\n",
    "    p = p.clip(1e-12,1-(1e-12))\n",
    "    return p\n",
    "\n",
    "def logisticRegLoss(b,D,y,xname):\n",
    "    p = logisticRegPredict(b,D,xname)\n",
    "    cost = -y*np.log(p)-(1-y)*np.log(1-p)\n",
    "    N=len(xname)\n",
    "    grad=np.zeros(N+1)\n",
    "    res = y-p\n",
    "    grad[0]=-sum(res)\n",
    "    for i in range(N):\n",
    "        grad[i+1]=-np.sum(D[xname[i]]*res)         # Add each regressor\n",
    "    return (cost.sum(),grad)\n",
    "\n",
    "def logisticRegFit(D,y,xname,figure=0,b_init=[]):\n",
    "    k=len(xname)+1\n",
    "    if (len(b_init)!=k):\n",
    "        b_init=np.zeros(k)\n",
    "    RES = so.minimize(logisticRegLoss,b_init,args=(D,y,xname),jac=True)\n",
    "    b = RES.x\n",
    "    ll = -RES.fun # Negative function value is the log likelihood\n",
    "    p = logisticRegPredict(b,D,xname)\n",
    "    if (k==2 & figure==1):\n",
    "        fig = plt.figure()\n",
    "        ax = fig.add_subplot(1,1,1)\n",
    "        ax.scatter(D[xname[0]],y)\n",
    "        xRange=[min(D[xname[0]]),max(D[xname[0]])]\n",
    "        xp=np.arange(xRange[0],xRange[1],(xRange[1]-xRange[0])/50)\n",
    "        yp=b[0]+b[1]*xp\n",
    "        pp=np.exp(yp)/(1+np.exp(yp))\n",
    "        ax.plot(xp,pp,'r-')\n",
    "        ax.spines['top'].set_visible(False)\n",
    "        ax.spines['right'].set_visible(False)\n",
    "    return (ll,b)"
   ]
  },
  {
   "attachments": {},
   "cell_type": "markdown",
   "metadata": {},
   "source": [
    "### Question 4.2: Crossvalidation of logistic models\n",
    "Modify the KfoldCVmultReg function to make it work for logistic regression. As before, use K-fold crossvalidation. The main changes are that \n",
    "- you need to use logisticRegFit and logisticRegPredict as fitfcn and predictfcn respectively. \n",
    "- To save time, initialize each optimization with from the parameters that you found on the entire data by setting `b_init` \n",
    "- instead of the crossvalidated R2, your function should return the crossvalidated log-likelihood and non-crossvalidated log-likelihood. \n",
    "\n",
    "Using your function, calculate the the difference in crossvalidated log-likelihood for the model that predicts complications with an intercept only (b0) and a model that predicts complications with an intercept and smokeDummy. \n",
    "From the difference, report the Bayes-Factor between the two models. What do you conclude? "
   ]
  },
  {
   "cell_type": "code",
   "execution_count": 27,
   "metadata": {},
   "outputs": [],
   "source": [
    "def KfoldCVlogisticReg(D,y,xname,K=20,fitfcn=logisticRegFit,predictfcn=logisticRegPredict):\n",
    "    N = len(y) #Number of observations\n",
    "    yp= np.zeros(N)\n",
    "    ind = np.arange(N)\n",
    "    ind = np.floor(ind/N*K)\n",
    "\n",
    "    # Get overall model fit\n",
    "    LL,b_all=fitfcn(D,y,xname,figure=0)\n",
    "\n",
    "    # Loop over the crossvalidation folds\n",
    "    for i in range(K):\n",
    "        r,b=fitfcn(D[ind!=i],y[ind!=i],xname,b_init=b_all,figure=0)\n",
    "        yp[ind==i]=predictfcn(b,D[ind==i],xname)\n",
    "    LLcv = sum(y*np.log(yp)+(1-y)*np.log(1-yp))\n",
    "    return LLcv,LL"
   ]
  },
  {
   "cell_type": "code",
   "execution_count": 28,
   "metadata": {},
   "outputs": [
    {
     "name": "stdout",
     "output_type": "stream",
     "text": [
      "Log-likelihood difference between Smoke and intercept model:1.8248\n",
      "Bayes Factor: 6.201\n"
     ]
    }
   ],
   "source": [
    "llcv0,ll0=KfoldCVlogisticReg(D,D.complication,[])\n",
    "llcv1,ll1=KfoldCVlogisticReg(D,D.complication,['smokeDummy'])\n",
    "print(f'Log-likelihood difference between Smoke and intercept model:{llcv1-llcv0:.4f}')\n",
    "print(f'Bayes Factor: {np.exp(llcv1-llcv0):.3f}')"
   ]
  },
  {
   "attachments": {},
   "cell_type": "markdown",
   "metadata": {},
   "source": [
    "> There is positive evidence that smoking leads to increased chance of complications in the first 3 month.  "
   ]
  },
  {
   "attachments": {},
   "cell_type": "markdown",
   "metadata": {},
   "source": [
    "### Question 4.3:\n",
    "Compare the model that uses only intercept, smoking as explanatory variable to one that uses: \n",
    "\n",
    " * intercept, smoking, weight \n",
    " * intercept, smoking, age \n",
    " * intercept, smoking, weight, age \n",
    " \n",
    "Report the cross-validated Log-likelihood for each model. Which one is the best model? "
   ]
  },
  {
   "cell_type": "code",
   "execution_count": 29,
   "metadata": {},
   "outputs": [
    {
     "name": "stdout",
     "output_type": "stream",
     "text": [
      "Adding weight to baseline mode: 1.751\n"
     ]
    }
   ],
   "source": [
    "llcv2,ll2=KfoldCVlogisticReg(D,D.complication,['smokeDummy','weight'])\n",
    "print(f'Adding weight to baseline mode: {llcv2-llcv1:.3f}')"
   ]
  },
  {
   "cell_type": "code",
   "execution_count": 30,
   "metadata": {},
   "outputs": [
    {
     "name": "stdout",
     "output_type": "stream",
     "text": [
      "Adding age to baseline mode: -0.976\n"
     ]
    }
   ],
   "source": [
    "llcv3,ll3=KfoldCVlogisticReg(D,D.complication,['smokeDummy','age'])\n",
    "print(f'Adding age to baseline mode: {llcv3-llcv1:.3f}')"
   ]
  },
  {
   "cell_type": "code",
   "execution_count": 31,
   "metadata": {},
   "outputs": [
    {
     "name": "stdout",
     "output_type": "stream",
     "text": [
      "Adding age and weight to baseline mode: 0.699\n"
     ]
    }
   ],
   "source": [
    "llcv4,ll4=KfoldCVlogisticReg(D,D.complication,['smokeDummy','weight','age'])\n",
    "print(f'Adding age and weight to baseline mode: {llcv4-llcv1:.3f}')"
   ]
  },
  {
   "attachments": {},
   "cell_type": "markdown",
   "metadata": {},
   "source": [
    "> According to the crossvalidated likelihood, the model with smoking, weight is the best model. However, there is no positive evidence (in terms of a Bayes factor) that adding age into the model increases the prediction. The most complex model (smoking, weight, age) is not better than the model with only smoking and weight. "
   ]
  },
  {
   "attachments": {},
   "cell_type": "markdown",
   "metadata": {},
   "source": [
    "### Question 4.4 : \n",
    "In the model (['smokeDummy','weight']), how do each of the explanatory variables contribute to the chance of complication? That is, for each variable, would an increase an the variable lead to an increased or decreased probability of a complication? \n",
    "\n",
    "What reduction in birth weight causes the same amount of risk of complication as having a smoking mother?  "
   ]
  },
  {
   "cell_type": "code",
   "execution_count": 32,
   "metadata": {},
   "outputs": [
    {
     "name": "stdout",
     "output_type": "stream",
     "text": [
      "Intercept: 3.764\n",
      "Smoke: 0.611\n",
      "Weight: -0.719\n"
     ]
    }
   ],
   "source": [
    "ll,b=logisticRegFit(D,D.complication,['smokeDummy','weight'])\n",
    "print(f'Intercept: {b[0]:.3f}')\n",
    "print(f'Smoke: {b[1]:.3f}')\n",
    "print(f'Weight: {b[2]:.3f}')"
   ]
  },
  {
   "cell_type": "code",
   "execution_count": 33,
   "metadata": {},
   "outputs": [
    {
     "name": "stdout",
     "output_type": "stream",
     "text": [
      "Ratio of slopes smoking / pounds: -0.850\n"
     ]
    }
   ],
   "source": [
    "print(f'Ratio of slopes smoking / pounds: {b[1]/b[2]:.3f}')"
   ]
  },
  {
   "attachments": {},
   "cell_type": "markdown",
   "metadata": {},
   "source": [
    "> Smoking increases the chances of complication. Lower weight also increases the chances of complications. Smoking adds about as much risk as a lower birthweight of 0.85 pounds."
   ]
  }
 ],
 "metadata": {
  "kernelspec": {
   "display_name": "base",
   "language": "python",
   "name": "python3"
  },
  "language_info": {
   "codemirror_mode": {
    "name": "ipython",
    "version": 3
   },
   "file_extension": ".py",
   "mimetype": "text/x-python",
   "name": "python",
   "nbconvert_exporter": "python",
   "pygments_lexer": "ipython3",
   "version": "3.9.5"
  },
  "vscode": {
   "interpreter": {
    "hash": "3d597f4c481aa0f25dceb95d2a0067e73c0966dcbd003d741d821a7208527ecf"
   }
  }
 },
 "nbformat": 4,
 "nbformat_minor": 1
}
