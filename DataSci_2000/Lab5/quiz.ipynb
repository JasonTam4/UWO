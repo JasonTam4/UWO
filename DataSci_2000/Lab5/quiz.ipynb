{
 "cells": [
  {
   "cell_type": "code",
   "execution_count": 2,
   "metadata": {},
   "outputs": [],
   "source": [
    "import pandas as pd\n",
    "import numpy as np\n",
    "import matplotlib\n",
    "import matplotlib.pyplot as plt\n",
    "import scipy.stats\n",
    "%matplotlib inline"
   ]
  },
  {
   "cell_type": "code",
   "execution_count": 4,
   "metadata": {},
   "outputs": [],
   "source": [
    "df = pd.read_csv('tDCS_study_data.csv')"
   ]
  },
  {
   "cell_type": "code",
   "execution_count": 6,
   "metadata": {},
   "outputs": [
    {
     "data": {
      "text/html": [
       "<div>\n",
       "<style scoped>\n",
       "    .dataframe tbody tr th:only-of-type {\n",
       "        vertical-align: middle;\n",
       "    }\n",
       "\n",
       "    .dataframe tbody tr th {\n",
       "        vertical-align: top;\n",
       "    }\n",
       "\n",
       "    .dataframe thead th {\n",
       "        text-align: right;\n",
       "    }\n",
       "</style>\n",
       "<table border=\"1\" class=\"dataframe\">\n",
       "  <thead>\n",
       "    <tr style=\"text-align: right;\">\n",
       "      <th>gender</th>\n",
       "      <th>F</th>\n",
       "      <th>M</th>\n",
       "    </tr>\n",
       "    <tr>\n",
       "      <th>tDCS</th>\n",
       "      <th></th>\n",
       "      <th></th>\n",
       "    </tr>\n",
       "  </thead>\n",
       "  <tbody>\n",
       "    <tr>\n",
       "      <th>0</th>\n",
       "      <td>6</td>\n",
       "      <td>6</td>\n",
       "    </tr>\n",
       "    <tr>\n",
       "      <th>1</th>\n",
       "      <td>6</td>\n",
       "      <td>6</td>\n",
       "    </tr>\n",
       "  </tbody>\n",
       "</table>\n",
       "</div>"
      ],
      "text/plain": [
       "gender  F  M\n",
       "tDCS        \n",
       "0       6  6\n",
       "1       6  6"
      ]
     },
     "execution_count": 6,
     "metadata": {},
     "output_type": "execute_result"
    }
   ],
   "source": [
    "# Q1 Was there blocking\n",
    "tab1 = pd.crosstab(df['tDCS'], df['gender'])\n",
    "tab1"
   ]
  },
  {
   "cell_type": "code",
   "execution_count": 14,
   "metadata": {},
   "outputs": [
    {
     "data": {
      "text/plain": [
       "np.float64(0.1266558726331463)"
      ]
     },
     "execution_count": 14,
     "metadata": {},
     "output_type": "execute_result"
    }
   ],
   "source": [
    "# Q2 What is the SEM\n",
    "df['MT_pre'].sem()"
   ]
  },
  {
   "cell_type": "code",
   "execution_count": 18,
   "metadata": {},
   "outputs": [
    {
     "name": "stdout",
     "output_type": "stream",
     "text": [
      "2.9650455103609663\n",
      "2.468554489639033\n"
     ]
    }
   ],
   "source": [
    "# Q3\n",
    "print(df['MT_pre'].mean() + df['MT_pre'].sem()*1.96)\n",
    "print(df['MT_pre'].mean() - df['MT_pre'].sem()*1.96)\n"
   ]
  },
  {
   "cell_type": "code",
   "execution_count": null,
   "metadata": {},
   "outputs": [],
   "source": [
    "# Q4 How to get %80 confidence interval\n",
    "quantiles = ss.norm.ppf[0,1]...\n",
    "print(df['MT_pre'].mean() + df['MT_pre'].sem()*1.28)\n",
    "print(df['MT_pre'].mean() - df['MT_pre'].sem()*1.28)"
   ]
  },
  {
   "cell_type": "code",
   "execution_count": 30,
   "metadata": {},
   "outputs": [
    {
     "name": "stdout",
     "output_type": "stream",
     "text": [
      "0.6096250000000001\n"
     ]
    }
   ],
   "source": [
    "# Q6\n",
    "def p_diff_func(data):\n",
    "    return data[data['tDCS'] == 0]['MT_post'].median() - data[data['tDCS'] == 1]['MT_post'].median()\n",
    "\n",
    "print(p_diff_func(df))\n"
   ]
  },
  {
   "cell_type": "code",
   "execution_count": 38,
   "metadata": {},
   "outputs": [
    {
     "data": {
      "image/png": "[encoded data removed]",
      "text/plain": [
       "<Figure size 640x480 with 1 Axes>"
      ]
     },
     "metadata": {},
     "output_type": "display_data"
    },
    {
     "name": "stdout",
     "output_type": "stream",
     "text": [
      "Empirical Test Statistic: 0.6096250000000001\n",
      "P-value: 0.000000\n",
      "None\n"
     ]
    }
   ],
   "source": [
    "# Q9\n",
    "def shuffle_column(df, colname):\n",
    "    \"\"\"Shuffle a specific column in the DataFrame.\"\"\"\n",
    "    shuffled_df = df.copy()\n",
    "    shuffled_df[colname] = np.random.permutation(shuffled_df[colname])\n",
    "    return shuffled_df\n",
    "\n",
    "# Write the function for the permutation test\n",
    "def permutation_test(df, numIter=1000):\n",
    "    \"\"\"Perform a permutation test to evaluate the significance of the difference in probabilities.\"\"\"\n",
    "    empirical_stat = p_diff_func(df)\n",
    "\n",
    "    test_stats = []\n",
    "\n",
    "    for _ in range(numIter):\n",
    "        shuffled_df = shuffle_column(df, 'tDCS')\n",
    "        test_stat = p_diff_func(shuffled_df)\n",
    "        test_stats.append(test_stat)\n",
    "\n",
    "    test_stats = np.array(test_stats)\n",
    "\n",
    "    plt.hist(test_stats, bins=30, alpha=0.7, color='blue', edgecolor='black')\n",
    "    plt.axvline(empirical_stat, color='red', linestyle='dashed', linewidth=2)\n",
    "    plt.title('Permutation Test Statistics')\n",
    "    plt.xlabel('Test Statistic')\n",
    "    plt.ylabel('Frequency')\n",
    "    plt.show()\n",
    "\n",
    "    p_value = np.mean(test_stats >= empirical_stat)\n",
    "    print(f'Empirical Test Statistic: {empirical_stat}')\n",
    "    print(\"P-value: {:.6f}\".format(p_value))  # Change 6 to the desired number of decimal places\n",
    "\n",
    "print(permutation_test(df))"
   ]
  }
 ],
 "metadata": {
  "kernelspec": {
   "display_name": "Python 3",
   "language": "python",
   "name": "python3"
  },
  "language_info": {
   "codemirror_mode": {
    "name": "ipython",
    "version": 3
   },
   "file_extension": ".py",
   "mimetype": "text/x-python",
   "name": "python",
   "nbconvert_exporter": "python",
   "pygments_lexer": "ipython3",
   "version": "3.9.6"
  }
 },
 "nbformat": 4,
 "nbformat_minor": 2
}
