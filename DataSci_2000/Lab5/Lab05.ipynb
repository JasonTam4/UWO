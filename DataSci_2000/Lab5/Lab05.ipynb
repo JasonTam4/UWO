{
 "cells": [
  {
   "cell_type": "markdown",
   "metadata": {},
   "source": [
    "# Lab Tutorial 05\n",
    "## Learning Outcomes\n",
    "In this tutorial, again we will be using the randomization function we defined for the previous assignment. We will also learn to calculate new test statistics. Also, we will be playing around with p-values!\n",
    "\n",
    "We'll be using the student performance dataset again!"
   ]
  },
  {
   "cell_type": "markdown",
   "metadata": {},
   "source": [
    "# Import packages and load in the dataset"
   ]
  },
  {
   "cell_type": "code",
   "execution_count": 2,
   "metadata": {},
   "outputs": [],
   "source": [
    "import matplotlib\n",
    "matplotlib.use('TkAgg')\n",
    "import matplotlib.pyplot as plt \n",
    "%matplotlib inline\n",
    "\n",
    "import numpy as np\n",
    "import pandas as pd"
   ]
  },
  {
   "cell_type": "code",
   "execution_count": 3,
   "metadata": {},
   "outputs": [
    {
     "data": {
      "text/html": [
       "<div>\n",
       "<style scoped>\n",
       "    .dataframe tbody tr th:only-of-type {\n",
       "        vertical-align: middle;\n",
       "    }\n",
       "\n",
       "    .dataframe tbody tr th {\n",
       "        vertical-align: top;\n",
       "    }\n",
       "\n",
       "    .dataframe thead th {\n",
       "        text-align: right;\n",
       "    }\n",
       "</style>\n",
       "<table border=\"1\" class=\"dataframe\">\n",
       "  <thead>\n",
       "    <tr style=\"text-align: right;\">\n",
       "      <th></th>\n",
       "      <th>gender</th>\n",
       "      <th>race/ethnicity</th>\n",
       "      <th>parental level of education</th>\n",
       "      <th>lunch</th>\n",
       "      <th>test preparation course</th>\n",
       "      <th>math score</th>\n",
       "      <th>reading score</th>\n",
       "      <th>writing score</th>\n",
       "    </tr>\n",
       "  </thead>\n",
       "  <tbody>\n",
       "    <tr>\n",
       "      <th>0</th>\n",
       "      <td>female</td>\n",
       "      <td>group B</td>\n",
       "      <td>bachelor's degree</td>\n",
       "      <td>standard</td>\n",
       "      <td>none</td>\n",
       "      <td>72</td>\n",
       "      <td>72</td>\n",
       "      <td>74</td>\n",
       "    </tr>\n",
       "    <tr>\n",
       "      <th>1</th>\n",
       "      <td>female</td>\n",
       "      <td>group C</td>\n",
       "      <td>some college</td>\n",
       "      <td>standard</td>\n",
       "      <td>completed</td>\n",
       "      <td>69</td>\n",
       "      <td>90</td>\n",
       "      <td>88</td>\n",
       "    </tr>\n",
       "    <tr>\n",
       "      <th>2</th>\n",
       "      <td>female</td>\n",
       "      <td>group B</td>\n",
       "      <td>master's degree</td>\n",
       "      <td>standard</td>\n",
       "      <td>none</td>\n",
       "      <td>90</td>\n",
       "      <td>95</td>\n",
       "      <td>93</td>\n",
       "    </tr>\n",
       "    <tr>\n",
       "      <th>3</th>\n",
       "      <td>male</td>\n",
       "      <td>group A</td>\n",
       "      <td>associate's degree</td>\n",
       "      <td>free/reduced</td>\n",
       "      <td>none</td>\n",
       "      <td>47</td>\n",
       "      <td>57</td>\n",
       "      <td>44</td>\n",
       "    </tr>\n",
       "    <tr>\n",
       "      <th>4</th>\n",
       "      <td>male</td>\n",
       "      <td>group C</td>\n",
       "      <td>some college</td>\n",
       "      <td>standard</td>\n",
       "      <td>none</td>\n",
       "      <td>76</td>\n",
       "      <td>78</td>\n",
       "      <td>75</td>\n",
       "    </tr>\n",
       "  </tbody>\n",
       "</table>\n",
       "</div>"
      ],
      "text/plain": [
       "   gender race/ethnicity parental level of education         lunch  \\\n",
       "0  female        group B           bachelor's degree      standard   \n",
       "1  female        group C                some college      standard   \n",
       "2  female        group B             master's degree      standard   \n",
       "3    male        group A          associate's degree  free/reduced   \n",
       "4    male        group C                some college      standard   \n",
       "\n",
       "  test preparation course  math score  reading score  writing score  \n",
       "0                    none          72             72             74  \n",
       "1               completed          69             90             88  \n",
       "2                    none          90             95             93  \n",
       "3                    none          47             57             44  \n",
       "4                    none          76             78             75  "
      ]
     },
     "execution_count": 3,
     "metadata": {},
     "output_type": "execute_result"
    }
   ],
   "source": [
    "# load in the dataset and display it\n",
    "df = pd.read_csv('StudentsPerformance.csv')\n",
    "df.head()"
   ]
  },
  {
   "cell_type": "markdown",
   "metadata": {},
   "source": [
    "# 1. Writing functions with flexible inputs (task 2)\n",
    "We will be doing the exact same thing as in Assignment 4.\n",
    "\n",
    "\n",
    "We want to test the hypothesis that male students are more likely than female students to take test preparation course. Under this hypothesis the p(completed|male) should be higher than p(completed|female).<br>\n",
    "What is the null hypothesis?"
   ]
  },
  {
   "cell_type": "markdown",
   "metadata": {},
   "source": [
    "## Write a function that calculates p(completed|female)-p(completed|male)\n",
    "For now, this will be our test statistic (like in Assignment04)"
   ]
  },
  {
   "cell_type": "code",
   "execution_count": 4,
   "metadata": {},
   "outputs": [
    {
     "data": {
      "text/html": [
       "<div>\n",
       "<style scoped>\n",
       "    .dataframe tbody tr th:only-of-type {\n",
       "        vertical-align: middle;\n",
       "    }\n",
       "\n",
       "    .dataframe tbody tr th {\n",
       "        vertical-align: top;\n",
       "    }\n",
       "\n",
       "    .dataframe thead th {\n",
       "        text-align: right;\n",
       "    }\n",
       "</style>\n",
       "<table border=\"1\" class=\"dataframe\">\n",
       "  <thead>\n",
       "    <tr style=\"text-align: right;\">\n",
       "      <th>gender</th>\n",
       "      <th>female</th>\n",
       "      <th>male</th>\n",
       "      <th>All</th>\n",
       "    </tr>\n",
       "    <tr>\n",
       "      <th>test preparation course</th>\n",
       "      <th></th>\n",
       "      <th></th>\n",
       "      <th></th>\n",
       "    </tr>\n",
       "  </thead>\n",
       "  <tbody>\n",
       "    <tr>\n",
       "      <th>False</th>\n",
       "      <td>334</td>\n",
       "      <td>308</td>\n",
       "      <td>642</td>\n",
       "    </tr>\n",
       "    <tr>\n",
       "      <th>True</th>\n",
       "      <td>184</td>\n",
       "      <td>174</td>\n",
       "      <td>358</td>\n",
       "    </tr>\n",
       "    <tr>\n",
       "      <th>All</th>\n",
       "      <td>518</td>\n",
       "      <td>482</td>\n",
       "      <td>1000</td>\n",
       "    </tr>\n",
       "  </tbody>\n",
       "</table>\n",
       "</div>"
      ],
      "text/plain": [
       "gender                   female  male   All\n",
       "test preparation course                    \n",
       "False                       334   308   642\n",
       "True                        184   174   358\n",
       "All                         518   482  1000"
      ]
     },
     "execution_count": 4,
     "metadata": {},
     "output_type": "execute_result"
    }
   ],
   "source": [
    "tab = pd.crosstab(df['test preparation course'] == 'completed', df['gender'], margins = True)\n",
    "tab "
   ]
  },
  {
   "cell_type": "code",
   "execution_count": 5,
   "metadata": {},
   "outputs": [
    {
     "name": "stdout",
     "output_type": "stream",
     "text": [
      "482\n",
      "174\n",
      "0.36099585062240663\n"
     ]
    }
   ],
   "source": [
    "print(tab['male']['All']) ## total number of male\n",
    "print(tab['male'][True])  ## number of male who completed the course \n",
    "\n",
    "print((tab['male'][True])  / (tab['male']['All'])) ## p(completed|male): percentage of male who completed the course"
   ]
  },
  {
   "cell_type": "code",
   "execution_count": 6,
   "metadata": {},
   "outputs": [],
   "source": [
    "def prob_diff(data):\n",
    "    \n",
    "    # generate the contingency table\n",
    "    tab = pd.crosstab(data['test preparation course'] == 'completed', data['gender'], margins = True)\n",
    "    \n",
    "    # calculate the difference\n",
    "    p_diff = (tab['male'][True]/tab['male']['All']) - (tab['female'][True]/tab['female']['All'])\n",
    "    \n",
    "    return p_diff"
   ]
  },
  {
   "cell_type": "code",
   "execution_count": 7,
   "metadata": {},
   "outputs": [
    {
     "data": {
      "text/plain": [
       "0.005783495410051409"
      ]
     },
     "execution_count": 7,
     "metadata": {},
     "output_type": "execute_result"
    }
   ],
   "source": [
    "prob_diff(df)"
   ]
  },
  {
   "cell_type": "markdown",
   "metadata": {},
   "source": [
    "## Use the same function for permutation testing with \"flexible\" inputs\n",
    "We will modify the function a little, so that its inputs are more \"flexible\".<br>\n",
    "When making the inputs flexible, you will have to make sure that there will be no discrepancies. For example, for the fcn input, you will write the functions that are calculating the stat. All of those functions should have the same number and type of inputs and outputs."
   ]
  },
  {
   "cell_type": "code",
   "execution_count": 11,
   "metadata": {},
   "outputs": [
    {
     "data": {
      "text/html": [
       "<div>\n",
       "<style scoped>\n",
       "    .dataframe tbody tr th:only-of-type {\n",
       "        vertical-align: middle;\n",
       "    }\n",
       "\n",
       "    .dataframe tbody tr th {\n",
       "        vertical-align: top;\n",
       "    }\n",
       "\n",
       "    .dataframe thead th {\n",
       "        text-align: right;\n",
       "    }\n",
       "</style>\n",
       "<table border=\"1\" class=\"dataframe\">\n",
       "  <thead>\n",
       "    <tr style=\"text-align: right;\">\n",
       "      <th></th>\n",
       "      <th>gender</th>\n",
       "      <th>race/ethnicity</th>\n",
       "      <th>parental level of education</th>\n",
       "      <th>lunch</th>\n",
       "      <th>test preparation course</th>\n",
       "      <th>math score</th>\n",
       "      <th>reading score</th>\n",
       "      <th>writing score</th>\n",
       "    </tr>\n",
       "  </thead>\n",
       "  <tbody>\n",
       "    <tr>\n",
       "      <th>0</th>\n",
       "      <td>female</td>\n",
       "      <td>group B</td>\n",
       "      <td>bachelor's degree</td>\n",
       "      <td>standard</td>\n",
       "      <td>none</td>\n",
       "      <td>72</td>\n",
       "      <td>72</td>\n",
       "      <td>74</td>\n",
       "    </tr>\n",
       "    <tr>\n",
       "      <th>1</th>\n",
       "      <td>female</td>\n",
       "      <td>group C</td>\n",
       "      <td>some college</td>\n",
       "      <td>standard</td>\n",
       "      <td>completed</td>\n",
       "      <td>69</td>\n",
       "      <td>90</td>\n",
       "      <td>88</td>\n",
       "    </tr>\n",
       "    <tr>\n",
       "      <th>2</th>\n",
       "      <td>female</td>\n",
       "      <td>group B</td>\n",
       "      <td>master's degree</td>\n",
       "      <td>standard</td>\n",
       "      <td>none</td>\n",
       "      <td>90</td>\n",
       "      <td>95</td>\n",
       "      <td>93</td>\n",
       "    </tr>\n",
       "    <tr>\n",
       "      <th>3</th>\n",
       "      <td>male</td>\n",
       "      <td>group A</td>\n",
       "      <td>associate's degree</td>\n",
       "      <td>free/reduced</td>\n",
       "      <td>none</td>\n",
       "      <td>47</td>\n",
       "      <td>57</td>\n",
       "      <td>44</td>\n",
       "    </tr>\n",
       "    <tr>\n",
       "      <th>4</th>\n",
       "      <td>male</td>\n",
       "      <td>group C</td>\n",
       "      <td>some college</td>\n",
       "      <td>standard</td>\n",
       "      <td>none</td>\n",
       "      <td>76</td>\n",
       "      <td>78</td>\n",
       "      <td>75</td>\n",
       "    </tr>\n",
       "    <tr>\n",
       "      <th>...</th>\n",
       "      <td>...</td>\n",
       "      <td>...</td>\n",
       "      <td>...</td>\n",
       "      <td>...</td>\n",
       "      <td>...</td>\n",
       "      <td>...</td>\n",
       "      <td>...</td>\n",
       "      <td>...</td>\n",
       "    </tr>\n",
       "    <tr>\n",
       "      <th>995</th>\n",
       "      <td>female</td>\n",
       "      <td>group E</td>\n",
       "      <td>master's degree</td>\n",
       "      <td>standard</td>\n",
       "      <td>completed</td>\n",
       "      <td>88</td>\n",
       "      <td>99</td>\n",
       "      <td>95</td>\n",
       "    </tr>\n",
       "    <tr>\n",
       "      <th>996</th>\n",
       "      <td>male</td>\n",
       "      <td>group C</td>\n",
       "      <td>high school</td>\n",
       "      <td>free/reduced</td>\n",
       "      <td>none</td>\n",
       "      <td>62</td>\n",
       "      <td>55</td>\n",
       "      <td>55</td>\n",
       "    </tr>\n",
       "    <tr>\n",
       "      <th>997</th>\n",
       "      <td>female</td>\n",
       "      <td>group C</td>\n",
       "      <td>high school</td>\n",
       "      <td>free/reduced</td>\n",
       "      <td>completed</td>\n",
       "      <td>59</td>\n",
       "      <td>71</td>\n",
       "      <td>65</td>\n",
       "    </tr>\n",
       "    <tr>\n",
       "      <th>998</th>\n",
       "      <td>female</td>\n",
       "      <td>group D</td>\n",
       "      <td>some college</td>\n",
       "      <td>standard</td>\n",
       "      <td>completed</td>\n",
       "      <td>68</td>\n",
       "      <td>78</td>\n",
       "      <td>77</td>\n",
       "    </tr>\n",
       "    <tr>\n",
       "      <th>999</th>\n",
       "      <td>female</td>\n",
       "      <td>group D</td>\n",
       "      <td>some college</td>\n",
       "      <td>free/reduced</td>\n",
       "      <td>none</td>\n",
       "      <td>77</td>\n",
       "      <td>86</td>\n",
       "      <td>86</td>\n",
       "    </tr>\n",
       "  </tbody>\n",
       "</table>\n",
       "<p>1000 rows × 8 columns</p>\n",
       "</div>"
      ],
      "text/plain": [
       "     gender race/ethnicity parental level of education         lunch  \\\n",
       "0    female        group B           bachelor's degree      standard   \n",
       "1    female        group C                some college      standard   \n",
       "2    female        group B             master's degree      standard   \n",
       "3      male        group A          associate's degree  free/reduced   \n",
       "4      male        group C                some college      standard   \n",
       "..      ...            ...                         ...           ...   \n",
       "995  female        group E             master's degree      standard   \n",
       "996    male        group C                 high school  free/reduced   \n",
       "997  female        group C                 high school  free/reduced   \n",
       "998  female        group D                some college      standard   \n",
       "999  female        group D                some college  free/reduced   \n",
       "\n",
       "    test preparation course  math score  reading score  writing score  \n",
       "0                      none          72             72             74  \n",
       "1                 completed          69             90             88  \n",
       "2                      none          90             95             93  \n",
       "3                      none          47             57             44  \n",
       "4                      none          76             78             75  \n",
       "..                      ...         ...            ...            ...  \n",
       "995               completed          88             99             95  \n",
       "996                    none          62             55             55  \n",
       "997               completed          59             71             65  \n",
       "998               completed          68             78             77  \n",
       "999                    none          77             86             86  \n",
       "\n",
       "[1000 rows x 8 columns]"
      ]
     },
     "metadata": {},
     "output_type": "display_data"
    },
    {
     "name": "stdout",
     "output_type": "stream",
     "text": [
      "RangeIndex(start=0, stop=1000, step=1)\n",
      "1000\n",
      "range(0, 1000)\n"
     ]
    }
   ],
   "source": [
    "display(df)\n",
    "print(df.index)   \n",
    "print(len(df.index)) ## give you a number of 1000  \n",
    "print(range(len(df.index))) "
   ]
  },
  {
   "cell_type": "code",
   "execution_count": 14,
   "metadata": {},
   "outputs": [],
   "source": [
    "def permutation_test(data, stat_fcn = prob_diff, shuffle_var = 'gender', numIter = 100):\n",
    "    \n",
    "    # takes in dataframe \"data\" and performs permutation testing given the function that will be used \n",
    "    # to calculate the stat \"stat_fcn\", number of iterations \"numIter\", and the variable that will be\n",
    "    # shuffled \"shuffle_var\".\n",
    "    # The function will return the p-value\n",
    "    \n",
    "    stat = np.zeros(numIter, dtype = 'float64') # initialize the numpy array that will store the test stat\n",
    "    \n",
    "    ## 1. shuffling the \"exchangeable\" variable\n",
    "    i = 0 # iteration variable \n",
    "    while i < numIter:\n",
    "        \n",
    "        ## permute (shuffle) the exchangeable variable\n",
    "        tmpDf = df.copy() # make a copy of the dataframe so that we don't modify the original dataframe object\n",
    "        sInd  = np.array(range(len(tmpDf.index))) # creates a new np array that will contain the indeces. These indeces will then be shuffled\n",
    "        \n",
    "        np.random.shuffle(sInd) # shuffling the indeces (will be used to shuffle (permute) the gender)\n",
    "        \n",
    "        tmpGender = tmpDf[shuffle_var].iloc[sInd] # shuffling the gender\n",
    "        tmpGender = tmpGender.reset_index(drop = True) # reorder the shuffled indeces (the gender variable has already been shuffled)\n",
    "        \n",
    "        ## insert the shuffled variable into the dataframe \n",
    "        tmpDf[shuffle_var] = tmpGender \n",
    "        \n",
    "        ## calculate the test stat.\n",
    "        stat[i] = stat_fcn(tmpDf) ## stat_fcn(tmpDf): calculate the probability difference between gender in each iteration \n",
    "        ## stat[i] = [0.034,0.056,...] \n",
    "        i += 1\n",
    "        \n",
    "    ## 2. plotting the histogram of the test statistic\n",
    "    plt.figure()\n",
    "    plt.hist(stat, bins = 10)\n",
    "    plt.xlabel('stat')\n",
    "    plt.ylabel('frequency')\n",
    "    empStat = stat_fcn(data)\n",
    "    plt.axvline(x = empStat, color = 'r')\n",
    "    \n",
    "    plt.show()\n",
    "    \n",
    "    ## 3. calculating the p-value (one-sided)\n",
    "    p_value = sum(stat >= empStat)/len(stat)   \n",
    "    \n",
    "    print('P-value of the randomization test is p=',p_value)\n",
    "    \n",
    "    return p_value"
   ]
  },
  {
   "cell_type": "code",
   "execution_count": 15,
   "metadata": {},
   "outputs": [
    {
     "data": {
      "image/png": "[encoded data removed]",
      "text/plain": [
       "<Figure size 640x480 with 1 Axes>"
      ]
     },
     "metadata": {},
     "output_type": "display_data"
    },
    {
     "name": "stdout",
     "output_type": "stream",
     "text": [
      "P-value of the randomization test is p= 0.5\n"
     ]
    }
   ],
   "source": [
    "p = permutation_test(df)"
   ]
  },
  {
   "attachments": {
    "Screen%20Shot%202020-02-05%20at%2011.32.42%20AM.png": {
     "image/png": "[encoded data removed]"
    }
   },
   "cell_type": "markdown",
   "metadata": {},
   "source": [
    "## <font color = 'red'> What is the p-value? (Slide 2)\n",
    "* P-value is defined as the probability of rejecting H0 conditional on the H0 being true.\n",
    "* It holds no information about what happens if HA was true.\n",
    "    \n",
    "![Screen%20Shot%202020-02-05%20at%2011.32.42%20AM.png](attachment:Screen%20Shot%202020-02-05%20at%2011.32.42%20AM.png)"
   ]
  },
  {
   "cell_type": "markdown",
   "metadata": {},
   "source": [
    "### Given the definition of the p-value and the hypothesis you are testing, what is the calculated p-value telling you?"
   ]
  },
  {
   "cell_type": "markdown",
   "metadata": {},
   "source": [
    "> p-value is the probability of rejecting the null hypothesis given that the null hypothesis is actually true. So we will have 0.36 chance of rejecting the null hypothesis given that it is true! "
   ]
  },
  {
   "cell_type": "markdown",
   "metadata": {},
   "source": [
    "# 2. Now lets test another hypothesis\n",
    "The hypothesis we'll be testing is as follows:<br>\n",
    "Parental level of education and sompleting the test preparation course by the student are dependent. Completing test preparation course vary by parental level of education.\n",
    "\n",
    "What is the null hypothesis in this case?\n"
   ]
  },
  {
   "cell_type": "markdown",
   "metadata": {},
   "source": [
    "> Parental level of education and taking the test preparation course are independent."
   ]
  },
  {
   "cell_type": "markdown",
   "metadata": {},
   "source": [
    "## To test idependence, we will be usig Chi-squared test of independence! (slides: [5:10])\n",
    "You will need to write a function that calculates the Chi-squared statistic.\n",
    "\n",
    "The chi2-test statistics measures the deviation between the observed counts for each cell and the expected counts under the Null-hypothesis. In this case it will be calculating the deviation between the observed value and expected value under the null hypothesis that parental level and taking the test preparation course are independent. \n",
    "\n",
    "Calculation steps are as follows:\n"
   ]
  },
  {
   "cell_type": "markdown",
   "metadata": {},
   "source": [
    "### 2.1. Create a contingency table with parental level of education and test preparation course as rows and columns\n",
    "This table will be given you the __\"Observed\"__ values"
   ]
  },
  {
   "cell_type": "code",
   "execution_count": 41,
   "metadata": {},
   "outputs": [
    {
     "data": {
      "text/html": [
       "<div>\n",
       "<style scoped>\n",
       "    .dataframe tbody tr th:only-of-type {\n",
       "        vertical-align: middle;\n",
       "    }\n",
       "\n",
       "    .dataframe tbody tr th {\n",
       "        vertical-align: top;\n",
       "    }\n",
       "\n",
       "    .dataframe thead th {\n",
       "        text-align: right;\n",
       "    }\n",
       "</style>\n",
       "<table border=\"1\" class=\"dataframe\">\n",
       "  <thead>\n",
       "    <tr style=\"text-align: right;\">\n",
       "      <th>test preparation course</th>\n",
       "      <th>completed</th>\n",
       "      <th>none</th>\n",
       "    </tr>\n",
       "    <tr>\n",
       "      <th>parental level of education</th>\n",
       "      <th></th>\n",
       "      <th></th>\n",
       "    </tr>\n",
       "  </thead>\n",
       "  <tbody>\n",
       "    <tr>\n",
       "      <th>associate's degree</th>\n",
       "      <td>82</td>\n",
       "      <td>140</td>\n",
       "    </tr>\n",
       "    <tr>\n",
       "      <th>bachelor's degree</th>\n",
       "      <td>46</td>\n",
       "      <td>72</td>\n",
       "    </tr>\n",
       "    <tr>\n",
       "      <th>high school</th>\n",
       "      <td>56</td>\n",
       "      <td>140</td>\n",
       "    </tr>\n",
       "    <tr>\n",
       "      <th>master's degree</th>\n",
       "      <td>20</td>\n",
       "      <td>39</td>\n",
       "    </tr>\n",
       "    <tr>\n",
       "      <th>some college</th>\n",
       "      <td>77</td>\n",
       "      <td>149</td>\n",
       "    </tr>\n",
       "    <tr>\n",
       "      <th>some high school</th>\n",
       "      <td>77</td>\n",
       "      <td>102</td>\n",
       "    </tr>\n",
       "  </tbody>\n",
       "</table>\n",
       "</div>"
      ],
      "text/plain": [
       "test preparation course      completed  none\n",
       "parental level of education                 \n",
       "associate's degree                  82   140\n",
       "bachelor's degree                   46    72\n",
       "high school                         56   140\n",
       "master's degree                     20    39\n",
       "some college                        77   149\n",
       "some high school                    77   102"
      ]
     },
     "execution_count": 41,
     "metadata": {},
     "output_type": "execute_result"
    }
   ],
   "source": [
    "# The observed values in a contingency table!\n",
    "observed_tab = pd.crosstab(df['parental level of education'], df['test preparation course'], margins = False)\n",
    "observed_tab"
   ]
  },
  {
   "cell_type": "markdown",
   "metadata": {},
   "source": [
    "### 2.2. Convert the table to a numpy array\n",
    "To calculate the deviation between the observed and expected values, we will be doing a simple subtraction. It would be much easier if we have the observed variable in form of a numpy array, so that we are able to do the operations on numpy arrays (matrices)."
   ]
  },
  {
   "cell_type": "code",
   "execution_count": 43,
   "metadata": {},
   "outputs": [
    {
     "name": "stdout",
     "output_type": "stream",
     "text": [
      "[[ 82 140]\n",
      " [ 46  72]\n",
      " [ 56 140]\n",
      " [ 20  39]\n",
      " [ 77 149]\n",
      " [ 77 102]]\n",
      "<class 'pandas.core.frame.DataFrame'>\n",
      "<class 'numpy.ndarray'>\n"
     ]
    }
   ],
   "source": [
    "# The observed values in a numpy array (matrix)\n",
    "observed_array = np.array(observed_tab)\n",
    "print(observed_array)\n",
    "\n",
    "# Compare the types \n",
    "print(type(observed_tab))\n",
    "print(type(observed_array))"
   ]
  },
  {
   "cell_type": "markdown",
   "metadata": {},
   "source": [
    "### 2.3 Generate a table that shows the expected frequencies if test preparation course and parental level of education were independen (Slide 7)\n",
    "Expected count(A,B) = Marginal counts (A)  * Marginal counts (B) / table total"
   ]
  },
  {
   "cell_type": "markdown",
   "metadata": {},
   "source": [
    "#### First take a look at the contingency table again"
   ]
  },
  {
   "cell_type": "code",
   "execution_count": 44,
   "metadata": {},
   "outputs": [
    {
     "data": {
      "text/html": [
       "<div>\n",
       "<style scoped>\n",
       "    .dataframe tbody tr th:only-of-type {\n",
       "        vertical-align: middle;\n",
       "    }\n",
       "\n",
       "    .dataframe tbody tr th {\n",
       "        vertical-align: top;\n",
       "    }\n",
       "\n",
       "    .dataframe thead th {\n",
       "        text-align: right;\n",
       "    }\n",
       "</style>\n",
       "<table border=\"1\" class=\"dataframe\">\n",
       "  <thead>\n",
       "    <tr style=\"text-align: right;\">\n",
       "      <th>test preparation course</th>\n",
       "      <th>completed</th>\n",
       "      <th>none</th>\n",
       "    </tr>\n",
       "    <tr>\n",
       "      <th>parental level of education</th>\n",
       "      <th></th>\n",
       "      <th></th>\n",
       "    </tr>\n",
       "  </thead>\n",
       "  <tbody>\n",
       "    <tr>\n",
       "      <th>associate's degree</th>\n",
       "      <td>82</td>\n",
       "      <td>140</td>\n",
       "    </tr>\n",
       "    <tr>\n",
       "      <th>bachelor's degree</th>\n",
       "      <td>46</td>\n",
       "      <td>72</td>\n",
       "    </tr>\n",
       "    <tr>\n",
       "      <th>high school</th>\n",
       "      <td>56</td>\n",
       "      <td>140</td>\n",
       "    </tr>\n",
       "    <tr>\n",
       "      <th>master's degree</th>\n",
       "      <td>20</td>\n",
       "      <td>39</td>\n",
       "    </tr>\n",
       "    <tr>\n",
       "      <th>some college</th>\n",
       "      <td>77</td>\n",
       "      <td>149</td>\n",
       "    </tr>\n",
       "    <tr>\n",
       "      <th>some high school</th>\n",
       "      <td>77</td>\n",
       "      <td>102</td>\n",
       "    </tr>\n",
       "  </tbody>\n",
       "</table>\n",
       "</div>"
      ],
      "text/plain": [
       "test preparation course      completed  none\n",
       "parental level of education                 \n",
       "associate's degree                  82   140\n",
       "bachelor's degree                   46    72\n",
       "high school                         56   140\n",
       "master's degree                     20    39\n",
       "some college                        77   149\n",
       "some high school                    77   102"
      ]
     },
     "execution_count": 44,
     "metadata": {},
     "output_type": "execute_result"
    }
   ],
   "source": [
    "# First let's take a look at the contingency table again\n",
    "observed_tab"
   ]
  },
  {
   "cell_type": "markdown",
   "metadata": {},
   "source": [
    "#### Now let's take a look at the numpy array version of it"
   ]
  },
  {
   "cell_type": "code",
   "execution_count": 46,
   "metadata": {},
   "outputs": [
    {
     "name": "stdout",
     "output_type": "stream",
     "text": [
      "[[ 82 140]\n",
      " [ 46  72]\n",
      " [ 56 140]\n",
      " [ 20  39]\n",
      " [ 77 149]\n",
      " [ 77 102]]\n",
      "(6, 2)\n"
     ]
    }
   ],
   "source": [
    "# See the correspondence between the numpy array and the contingency table\n",
    "print(observed_array)\n",
    "\n",
    "print(observed_array.shape)"
   ]
  },
  {
   "cell_type": "markdown",
   "metadata": {},
   "source": [
    "#### <font color = 'red'> Now let's _Initialize_ the numpy array which will be holding the expected values!\n",
    "it will be the same size as the array for the observed values"
   ]
  },
  {
   "cell_type": "code",
   "execution_count": 47,
   "metadata": {},
   "outputs": [
    {
     "data": {
      "text/plain": [
       "array([[0., 0.],\n",
       "       [0., 0.],\n",
       "       [0., 0.],\n",
       "       [0., 0.],\n",
       "       [0., 0.],\n",
       "       [0., 0.]])"
      ]
     },
     "execution_count": 47,
     "metadata": {},
     "output_type": "execute_result"
    }
   ],
   "source": [
    "# first get the dimensions of the observed_array\n",
    "[r, c] = observed_array.shape\n",
    "\n",
    "# Initialize the expected_array to be all zeros\n",
    "expected_array = np.zeros((r, c))\n",
    "expected_array"
   ]
  },
  {
   "cell_type": "markdown",
   "metadata": {},
   "source": [
    "### 2.4 You'll be filling in the expected values using a loop\n",
    "* initialize the array before the loop\n",
    "* use the number of rows and columns (r and c) to loop through all the elements\n",
    "\n",
    "Here, as an example, we will calculate the expected value for one of the entries.<br>\n",
    "_Hint_ : Use indices to get the elements that you want and also to fill in the elements in the expected array"
   ]
  },
  {
   "cell_type": "code",
   "execution_count": 48,
   "metadata": {},
   "outputs": [
    {
     "name": "stdout",
     "output_type": "stream",
     "text": [
      "[[ 82 140]\n",
      " [ 46  72]\n",
      " [ 56 140]\n",
      " [ 20  39]\n",
      " [ 77 149]\n",
      " [ 77 102]]\n",
      "test preparation course      completed  none\n",
      "parental level of education                 \n",
      "associate's degree                  82   140\n",
      "bachelor's degree                   46    72\n",
      "high school                         56   140\n",
      "master's degree                     20    39\n",
      "some college                        77   149\n",
      "some high school                    77   102\n"
     ]
    }
   ],
   "source": [
    "# Now as an example, let's calculate the expected count for 'high school degree' and 'completed'\n",
    "# Expected count(A,B) = Marginal counts (A)  * Marginal counts (B) / table total\n",
    "# first let's take a look at the variables again\n",
    "print(observed_array)\n",
    "print(observed_tab)"
   ]
  },
  {
   "cell_type": "markdown",
   "metadata": {},
   "source": [
    "#### To get the marginal counts, you will need to use python's sum()\n",
    "The following link gives you a definition for all of python's built-in functions:<br>\n",
    "https://docs.python.org/3/library/functions.html\n",
    "\n",
    "Let's see how the sum() function works:\n"
   ]
  },
  {
   "cell_type": "code",
   "execution_count": 52,
   "metadata": {},
   "outputs": [
    {
     "name": "stdout",
     "output_type": "stream",
     "text": [
      "[358 642]\n"
     ]
    }
   ],
   "source": [
    "# Apply sum() to observed_array (2-D array)\n",
    "## It returs the sum of all the elements on the columns\n",
    "### so the first element will be the sum of elements on the first column and so forth ...\n",
    "S = sum(observed_array)\n",
    "print(S)"
   ]
  },
  {
   "cell_type": "code",
   "execution_count": 50,
   "metadata": {},
   "outputs": [
    {
     "data": {
      "text/plain": [
       "1000"
      ]
     },
     "execution_count": 50,
     "metadata": {},
     "output_type": "execute_result"
    }
   ],
   "source": [
    "# What will sum() do if its input is 1D?\n",
    "S2 = sum(S)\n",
    "S2"
   ]
  },
  {
   "cell_type": "code",
   "execution_count": 53,
   "metadata": {},
   "outputs": [],
   "source": [
    "# Now calculate the expected value for high school and completed! 196*358/10000\n",
    "expected_array[2, 0] = sum(observed_array[2, :])*sum(observed_array[:, 0])/sum(sum(observed_array))"
   ]
  },
  {
   "cell_type": "code",
   "execution_count": 57,
   "metadata": {},
   "outputs": [
    {
     "data": {
      "text/plain": [
       "70.168"
      ]
     },
     "execution_count": 57,
     "metadata": {},
     "output_type": "execute_result"
    }
   ],
   "source": [
    "expected_array[2, 0] ## = total number of high school * total number of completed / sample size "
   ]
  },
  {
   "cell_type": "code",
   "execution_count": 55,
   "metadata": {},
   "outputs": [
    {
     "data": {
      "text/plain": [
       "196"
      ]
     },
     "execution_count": 55,
     "metadata": {},
     "output_type": "execute_result"
    }
   ],
   "source": [
    "sum(observed_array[2, :]) ## total number of high school "
   ]
  },
  {
   "cell_type": "code",
   "execution_count": 56,
   "metadata": {},
   "outputs": [
    {
     "data": {
      "text/plain": [
       "358"
      ]
     },
     "execution_count": 56,
     "metadata": {},
     "output_type": "execute_result"
    }
   ],
   "source": [
    "sum(observed_array[:, 0]) ## total number of completed "
   ]
  },
  {
   "cell_type": "markdown",
   "metadata": {},
   "source": [
    "<font color = 'red'> Loop through elements with indexing and do the same thing as above "
   ]
  },
  {
   "cell_type": "markdown",
   "metadata": {},
   "source": [
    "### 2.5 The deviation will be calculated as follows:\n",
    "$χ^2 = \\sum_i(O_i-E_i)^2/E_i)$\n",
    "\n",
    "You can just apply math operations like subtraction, addition, etc. to the elements of a numpy array.\n",
    "\n",
    "Basically, we will be calculating the difference, raise the difference to the power of two and divide that by the second numpy array!"
   ]
  },
  {
   "cell_type": "code",
   "execution_count": 54,
   "metadata": {},
   "outputs": [
    {
     "name": "stdout",
     "output_type": "stream",
     "text": [
      "[[ 82 140]\n",
      " [ 46  72]\n",
      " [ 56 140]\n",
      " [ 20  39]\n",
      " [ 77 149]\n",
      " [ 77 102]]\n",
      "[[ 0.     0.   ]\n",
      " [ 0.     0.   ]\n",
      " [70.168  0.   ]\n",
      " [ 0.     0.   ]\n",
      " [ 0.     0.   ]\n",
      " [ 0.     0.   ]]\n"
     ]
    }
   ],
   "source": [
    "# print both arrays\n",
    "print(observed_array)\n",
    "print(expected_array)"
   ]
  },
  {
   "cell_type": "code",
   "execution_count": 17,
   "metadata": {},
   "outputs": [
    {
     "name": "stdout",
     "output_type": "stream",
     "text": [
      "[[ 82.    140.   ]\n",
      " [ 46.     72.   ]\n",
      " [-14.168 140.   ]\n",
      " [ 20.     39.   ]\n",
      " [ 77.    149.   ]\n",
      " [ 77.    102.   ]]\n"
     ]
    }
   ],
   "source": [
    "# Calculate the difference between the arrays\n",
    "D = observed_array - expected_array\n",
    "print(D)"
   ]
  },
  {
   "cell_type": "code",
   "execution_count": 18,
   "metadata": {},
   "outputs": [
    {
     "name": "stdout",
     "output_type": "stream",
     "text": [
      "[[ 6724.       19600.      ]\n",
      " [ 2116.        5184.      ]\n",
      " [  200.732224 19600.      ]\n",
      " [  400.        1521.      ]\n",
      " [ 5929.       22201.      ]\n",
      " [ 5929.       10404.      ]]\n"
     ]
    }
   ],
   "source": [
    "# square!\n",
    "## see how the operation is performed element-wise\n",
    "D2 = D**2\n",
    "print(D2)"
   ]
  },
  {
   "cell_type": "code",
   "execution_count": 19,
   "metadata": {},
   "outputs": [
    {
     "name": "stdout",
     "output_type": "stream",
     "text": [
      "[[       inf        inf]\n",
      " [       inf        inf]\n",
      " [2.86073743        inf]\n",
      " [       inf        inf]\n",
      " [       inf        inf]\n",
      " [       inf        inf]]\n"
     ]
    },
    {
     "name": "stderr",
     "output_type": "stream",
     "text": [
      "/var/folders/sz/7lqgfrln5738xc_hktty2sb00000gp/T/ipykernel_8456/1835028625.py:3: RuntimeWarning: divide by zero encountered in divide\n",
      "  D2E = D2/expected_array\n"
     ]
    }
   ],
   "source": [
    "# divide by the expected array\n",
    "## now here, as we have zeros in the expected_array we will get ZeroDivisionError or you might get a warning\n",
    "D2E = D2/expected_array\n",
    "print(D2E)"
   ]
  },
  {
   "cell_type": "code",
   "execution_count": 20,
   "metadata": {},
   "outputs": [
    {
     "name": "stdout",
     "output_type": "stream",
     "text": [
      "[[       inf        inf]\n",
      " [       inf        inf]\n",
      " [2.86073743        inf]\n",
      " [       inf        inf]\n",
      " [       inf        inf]\n",
      " [       inf        inf]]\n"
     ]
    },
    {
     "name": "stderr",
     "output_type": "stream",
     "text": [
      "/var/folders/sz/7lqgfrln5738xc_hktty2sb00000gp/T/ipykernel_8456/2051982424.py:2: RuntimeWarning: divide by zero encountered in divide\n",
      "  A = ((observed_array - expected_array)**2)/expected_array\n"
     ]
    }
   ],
   "source": [
    "# combine all these operations into one line!\n",
    "A = ((observed_array - expected_array)**2)/expected_array\n",
    "print(A) "
   ]
  },
  {
   "cell_type": "code",
   "execution_count": 21,
   "metadata": {},
   "outputs": [
    {
     "data": {
      "text/plain": [
       "array([inf, inf])"
      ]
     },
     "execution_count": 21,
     "metadata": {},
     "output_type": "execute_result"
    }
   ],
   "source": [
    "s = sum(A) \n",
    "s "
   ]
  },
  {
   "cell_type": "code",
   "execution_count": 66,
   "metadata": {},
   "outputs": [
    {
     "name": "stdout",
     "output_type": "stream",
     "text": [
      "[[ 92.                  inf]\n",
      " [ 32.11111111  10.29787234]\n",
      " [ 12.8                 inf]\n",
      " [ 49.72857143  17.35714286]\n",
      " [132.54545455   4.92307692]]\n",
      "[319.18513709          inf]\n",
      "inf\n"
     ]
    },
    {
     "name": "stderr",
     "output_type": "stream",
     "text": [
      "/var/folders/dn/82jw7mfs5v5gkwktc0d1ntyh0000gn/T/ipykernel_22985/519009762.py:4: RuntimeWarning: divide by zero encountered in true_divide\n",
      "  mat = ((A1 - A2)**2)/A2\n"
     ]
    }
   ],
   "source": [
    "# Do the calculations with two random arrays \n",
    "A1 = np.random.randint(100, size = (5, 2)) ## 100: means from 0 - 99\n",
    "A2 = np.random.randint(100, size = (5, 2))\n",
    "mat = ((A1 - A2)**2)/A2\n",
    "print(mat)\n",
    "print(sum(mat))\n",
    "print(sum(sum(mat)))"
   ]
  },
  {
   "cell_type": "markdown",
   "metadata": {},
   "source": [
    "### 2.6 Put the expected value into a contingency table (optional)\n",
    "You may want to create a table of the expected value!"
   ]
  },
  {
   "cell_type": "code",
   "execution_count": 68,
   "metadata": {},
   "outputs": [
    {
     "data": {
      "text/html": [
       "<div>\n",
       "<style scoped>\n",
       "    .dataframe tbody tr th:only-of-type {\n",
       "        vertical-align: middle;\n",
       "    }\n",
       "\n",
       "    .dataframe tbody tr th {\n",
       "        vertical-align: top;\n",
       "    }\n",
       "\n",
       "    .dataframe thead th {\n",
       "        text-align: right;\n",
       "    }\n",
       "</style>\n",
       "<table border=\"1\" class=\"dataframe\">\n",
       "  <thead>\n",
       "    <tr style=\"text-align: right;\">\n",
       "      <th></th>\n",
       "      <th>0</th>\n",
       "      <th>1</th>\n",
       "    </tr>\n",
       "  </thead>\n",
       "  <tbody>\n",
       "    <tr>\n",
       "      <th>0</th>\n",
       "      <td>0.000</td>\n",
       "      <td>0.0</td>\n",
       "    </tr>\n",
       "    <tr>\n",
       "      <th>1</th>\n",
       "      <td>0.000</td>\n",
       "      <td>0.0</td>\n",
       "    </tr>\n",
       "    <tr>\n",
       "      <th>2</th>\n",
       "      <td>70.168</td>\n",
       "      <td>0.0</td>\n",
       "    </tr>\n",
       "    <tr>\n",
       "      <th>3</th>\n",
       "      <td>0.000</td>\n",
       "      <td>0.0</td>\n",
       "    </tr>\n",
       "    <tr>\n",
       "      <th>4</th>\n",
       "      <td>0.000</td>\n",
       "      <td>0.0</td>\n",
       "    </tr>\n",
       "    <tr>\n",
       "      <th>5</th>\n",
       "      <td>0.000</td>\n",
       "      <td>0.0</td>\n",
       "    </tr>\n",
       "  </tbody>\n",
       "</table>\n",
       "</div>"
      ],
      "text/plain": [
       "        0    1\n",
       "0   0.000  0.0\n",
       "1   0.000  0.0\n",
       "2  70.168  0.0\n",
       "3   0.000  0.0\n",
       "4   0.000  0.0\n",
       "5   0.000  0.0"
      ]
     },
     "metadata": {},
     "output_type": "display_data"
    },
    {
     "data": {
      "text/html": [
       "<div>\n",
       "<style scoped>\n",
       "    .dataframe tbody tr th:only-of-type {\n",
       "        vertical-align: middle;\n",
       "    }\n",
       "\n",
       "    .dataframe tbody tr th {\n",
       "        vertical-align: top;\n",
       "    }\n",
       "\n",
       "    .dataframe thead th {\n",
       "        text-align: right;\n",
       "    }\n",
       "</style>\n",
       "<table border=\"1\" class=\"dataframe\">\n",
       "  <thead>\n",
       "    <tr style=\"text-align: right;\">\n",
       "      <th>test preparation course</th>\n",
       "      <th>completed</th>\n",
       "      <th>none</th>\n",
       "    </tr>\n",
       "    <tr>\n",
       "      <th>parental level of education</th>\n",
       "      <th></th>\n",
       "      <th></th>\n",
       "    </tr>\n",
       "  </thead>\n",
       "  <tbody>\n",
       "    <tr>\n",
       "      <th>associate's degree</th>\n",
       "      <td>0.000</td>\n",
       "      <td>0.0</td>\n",
       "    </tr>\n",
       "    <tr>\n",
       "      <th>bachelor's degree</th>\n",
       "      <td>0.000</td>\n",
       "      <td>0.0</td>\n",
       "    </tr>\n",
       "    <tr>\n",
       "      <th>high school</th>\n",
       "      <td>70.168</td>\n",
       "      <td>0.0</td>\n",
       "    </tr>\n",
       "    <tr>\n",
       "      <th>master's degree</th>\n",
       "      <td>0.000</td>\n",
       "      <td>0.0</td>\n",
       "    </tr>\n",
       "    <tr>\n",
       "      <th>some college</th>\n",
       "      <td>0.000</td>\n",
       "      <td>0.0</td>\n",
       "    </tr>\n",
       "    <tr>\n",
       "      <th>some high school</th>\n",
       "      <td>0.000</td>\n",
       "      <td>0.0</td>\n",
       "    </tr>\n",
       "  </tbody>\n",
       "</table>\n",
       "</div>"
      ],
      "text/plain": [
       "test preparation course      completed  none\n",
       "parental level of education                 \n",
       "associate's degree               0.000   0.0\n",
       "bachelor's degree                0.000   0.0\n",
       "high school                     70.168   0.0\n",
       "master's degree                  0.000   0.0\n",
       "some college                     0.000   0.0\n",
       "some high school                 0.000   0.0"
      ]
     },
     "execution_count": 68,
     "metadata": {},
     "output_type": "execute_result"
    }
   ],
   "source": [
    "# create a dataframe\n",
    "expected_tab = pd.DataFrame(expected_array)\n",
    "display(expected_tab)\n",
    "\n",
    "# set the columns to be the same as observed_tab\n",
    "expected_tab.columns = observed_tab.columns\n",
    "\n",
    "# set the index to be the same as observed_tab\n",
    "expected_tab.index = observed_tab.index\n",
    "expected_tab"
   ]
  },
  {
   "cell_type": "markdown",
   "metadata": {},
   "source": [
    "# 3. Monte-carlo Simulation\n",
    "Write a function (monteCarloSim) that simulates coin tossing. On each trial, the function should produce a specific number (N) of coin tosses and record the number of successes (heads). It should repeat this experiment numIter number of times. The inputs to the function should be a) probability of a success on each coin toss, b) the number of coin tosses per trial (N) and c) the number of trials. The function should return an np.array(range(numIter)) that holds the recorded number of heads for all trials (see lecture handout for tips).\n",
    "\n",
    "monteCarloSim(a=probability,N=numberOfCoin,numIter)<br>\n",
    "    for numIter<br>\n",
    "        $\\;\\;\\;\\;$Generate new sample of N coin tosses<br>\n",
    "        $\\;\\;\\;\\;$record number of heads in array X<br>        \n",
    "        \n",
    "**What are the inputs?**\n",
    "* probability of H0. Probability array will be calculated based on this single value\n",
    "* Number of heads (successes). Be careful with how you define success. success could mean complication!\n",
    "* number of times you want to simulate the coin toss (same as numIter)."
   ]
  },
  {
   "cell_type": "markdown",
   "metadata": {},
   "source": [
    "## 3.1 Generate a specific number of 1s and 0s (as heads and tails)\n",
    "to simulate coin tosses, we will use numpy.random.choice:<br>\n",
    "https://docs.scipy.org/doc/numpy-1.15.0/reference/generated/numpy.random.choice.html\n",
    "\n",
    "Let's take a look at np.random.choice options <br>\n",
    "numpy.random.choice(a, size=None, replace=True, p=None)."
   ]
  },
  {
   "cell_type": "code",
   "execution_count": 70,
   "metadata": {},
   "outputs": [
    {
     "data": {
      "text/plain": [
       "array([0, 0, 0, 1, 1, 1, 1, 0, 1, 1, 1, 1, 0, 0, 0, 0, 1, 1, 1, 0, 1, 1,\n",
       "       0, 0, 0, 1, 1, 1, 0, 0, 1, 1, 1, 0, 1, 1, 0, 1, 1, 0, 0, 1, 0, 1,\n",
       "       0, 1, 0, 1, 1, 0, 0, 1, 1, 1, 1, 0, 0, 0, 1, 1, 0, 1, 1, 1, 0, 1,\n",
       "       0, 0, 0, 0, 1, 1, 1, 1, 1, 0, 0, 0, 1, 0, 0, 1, 0, 1, 1, 0, 1, 0,\n",
       "       1, 0, 1, 0, 0, 0, 1, 0, 1, 0, 1, 1])"
      ]
     },
     "execution_count": 70,
     "metadata": {},
     "output_type": "execute_result"
    }
   ],
   "source": [
    "# To draw numbers with specific probability values, your first input should be a 1D array and the the p input \n",
    "# will be an array with the same size.\n",
    "# To simulate coin tosses, lets assume that heads are 1s and tails are 0s.\n",
    "# if a coin is fair before tossing we know that the probability of head is 0.5.\n",
    "a = np.random.choice([0, 1], 100, p = [0.5, 0.5])\n",
    "a\n",
    "\n",
    "# be careful when you are creating the numpy array for probabilities!\n",
    "# If my first input to np.random.choice is [0, 1], then the first element in p is the probability of 0 (tails/failiure)!"
   ]
  },
  {
   "cell_type": "markdown",
   "metadata": {},
   "source": [
    "## 3.2 Record the number of heads (successes) for an iteration\n",
    "Remember, again you need to do the whole thing numIter times. For each iteration, calculate the number of heads and record it in an array! (you have to initialize the array before the loop for numIter)"
   ]
  },
  {
   "cell_type": "code",
   "execution_count": 71,
   "metadata": {},
   "outputs": [
    {
     "data": {
      "text/plain": [
       "54"
      ]
     },
     "execution_count": 71,
     "metadata": {},
     "output_type": "execute_result"
    }
   ],
   "source": [
    "# we have an array of only 0s and 1s.\n",
    "# the number of 1s (the number of heads/sucesses) will be:\n",
    "nHeads = sum(a)\n",
    "nHeads"
   ]
  },
  {
   "cell_type": "markdown",
   "metadata": {},
   "source": [
    "# 4. Monte-carlo Test\n",
    "\n",
    "Write a function (monteCarloTest) that uses monteCarloSim to \n",
    "* simulate 1000 trials (coin tosses). numIter input to Monte-carlo simulation function. \n",
    "* The function should also plot a histogram of the recorded number of heads, and mark the real measured number with a vertical line (axvline). Heads are usually success. You can define success to be different things depending on the question! Complication can be success!\n",
    "* The function should print out the probability that the simulated number of heads is smaller than or equal to the measured number of heads. \n",
    "\n",
    "Input arguments should be \n",
    "a) the probability of a success under the Null-hypothesis, \n",
    "b) the number of coin tosses per trial, and \n",
    "c) the measured number of heads. Use the function to evaluate the probability to get 3 complications in 62 cases if the probability of a complication in the population is known to be 10%."
   ]
  }
 ],
 "metadata": {
  "kernelspec": {
   "display_name": "Python 3 (ipykernel)",
   "language": "python",
   "name": "python3"
  },
  "language_info": {
   "codemirror_mode": {
    "name": "ipython",
    "version": 3
   },
   "file_extension": ".py",
   "mimetype": "text/x-python",
   "name": "python",
   "nbconvert_exporter": "python",
   "pygments_lexer": "ipython3",
   "version": "3.8.8"
  }
 },
 "nbformat": 4,
 "nbformat_minor": 2
}
