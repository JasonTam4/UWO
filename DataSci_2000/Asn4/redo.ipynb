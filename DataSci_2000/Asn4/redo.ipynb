{
 "cells": [
  {
   "cell_type": "markdown",
   "metadata": {
    "collapsed": true
   },
   "source": [
    "# Assignment 4: Permutation test 1\n",
    "## Learning Outcomes\n",
    "By completing this assignment, you will be able to implement and use randomization tests to determine whether a specific effect is statistically significant. Randomization tests are a highly universal and powerful way to do this, and form an essential part of the toolkit of any Data Scientist. \n",
    "\n",
    "## Problem Description\n",
    "An increasingly common statistical tool for determining whether a difference is significant is the randomization or permutation test. A randomization test builds - rather than assumes – a sampling distribution of the test statistics. This is achieved by exchanging or permuting variables which are “exchangeable” under the Null-hypothesis. A randomization test gives a simple way to compute the sampling distribution for any test statistic under the null hypothesis that the dependent variable is statistically not dependent on the shuffled variable. \n",
    "In this assignment, we continue with the income dataset from week 1 and 2. This week your main task is to determine whether the difference in proportion for female vs. male directors to direct action movies is significant. \n",
    "You are allowed to use standard numpy and pandas functions such as mean, groupby, shuffle. But you are not allowed to use a permutation functions that have been already been designed. Numeric calculations in python that are printed should be rounded to 6 decimal places. \n",
    "\n",
    "Methods that you may find beneficial. \n",
    "Pandas: crosstab, iloc. Numpy: random.shuffle, reset_index, matplotlib: hist, axvline \n",
    "\n",
    "## Tbe dataset \n",
    "As a data scientist for a Hollywood law firm, your task is to provide evidence for the claim there is gender discrimination on the movie industry. You are provided with a summary of the last 250 movies, and the gender and income of the director. The dataset also includes a number of other variables\n",
    "- North American box office revenue (boxoff)\n",
    "- Production cost of the movie (prodcost)\n",
    "- Income of the director (dirIncome in millions)\n",
    "- Gender of the director (dirGender) \n",
    "- Year of release (year)\n",
    "- Month of release (month) \n",
    "- Movie genre (genre): Action, Comedy \n",
    "- Number of theatres (numTheatrs)\n",
    "\n",
    "\n",
    "## Preliminaries \n",
    "Import pandas, numpy, matplotlib, and load the dataset file"
   ]
  },
  {
   "cell_type": "code",
   "execution_count": 3,
   "metadata": {},
   "outputs": [
    {
     "data": {
      "text/html": [
       "<div>\n",
       "<style scoped>\n",
       "    .dataframe tbody tr th:only-of-type {\n",
       "        vertical-align: middle;\n",
       "    }\n",
       "\n",
       "    .dataframe tbody tr th {\n",
       "        vertical-align: top;\n",
       "    }\n",
       "\n",
       "    .dataframe thead th {\n",
       "        text-align: right;\n",
       "    }\n",
       "</style>\n",
       "<table border=\"1\" class=\"dataframe\">\n",
       "  <thead>\n",
       "    <tr style=\"text-align: right;\">\n",
       "      <th></th>\n",
       "      <th>boxoff</th>\n",
       "      <th>prodcost</th>\n",
       "      <th>dirIncome</th>\n",
       "      <th>dirGender</th>\n",
       "      <th>year</th>\n",
       "      <th>month</th>\n",
       "      <th>genre</th>\n",
       "      <th>numTheatres</th>\n",
       "    </tr>\n",
       "  </thead>\n",
       "  <tbody>\n",
       "    <tr>\n",
       "      <th>0</th>\n",
       "      <td>88.648583</td>\n",
       "      <td>44.742936</td>\n",
       "      <td>1.143234</td>\n",
       "      <td>male</td>\n",
       "      <td>2012</td>\n",
       "      <td>3</td>\n",
       "      <td>comedy</td>\n",
       "      <td>139</td>\n",
       "    </tr>\n",
       "    <tr>\n",
       "      <th>1</th>\n",
       "      <td>145.334924</td>\n",
       "      <td>38.835516</td>\n",
       "      <td>3.393535</td>\n",
       "      <td>female</td>\n",
       "      <td>2014</td>\n",
       "      <td>11</td>\n",
       "      <td>drama</td>\n",
       "      <td>213</td>\n",
       "    </tr>\n",
       "    <tr>\n",
       "      <th>2</th>\n",
       "      <td>238.265684</td>\n",
       "      <td>29.532283</td>\n",
       "      <td>2.418883</td>\n",
       "      <td>male</td>\n",
       "      <td>2015</td>\n",
       "      <td>6</td>\n",
       "      <td>other</td>\n",
       "      <td>100</td>\n",
       "    </tr>\n",
       "    <tr>\n",
       "      <th>3</th>\n",
       "      <td>212.714742</td>\n",
       "      <td>157.111899</td>\n",
       "      <td>2.034115</td>\n",
       "      <td>male</td>\n",
       "      <td>2014</td>\n",
       "      <td>10</td>\n",
       "      <td>adventure</td>\n",
       "      <td>436</td>\n",
       "    </tr>\n",
       "    <tr>\n",
       "      <th>4</th>\n",
       "      <td>120.175461</td>\n",
       "      <td>30.547155</td>\n",
       "      <td>0.963219</td>\n",
       "      <td>female</td>\n",
       "      <td>2012</td>\n",
       "      <td>1</td>\n",
       "      <td>comedy</td>\n",
       "      <td>115</td>\n",
       "    </tr>\n",
       "    <tr>\n",
       "      <th>...</th>\n",
       "      <td>...</td>\n",
       "      <td>...</td>\n",
       "      <td>...</td>\n",
       "      <td>...</td>\n",
       "      <td>...</td>\n",
       "      <td>...</td>\n",
       "      <td>...</td>\n",
       "      <td>...</td>\n",
       "    </tr>\n",
       "    <tr>\n",
       "      <th>245</th>\n",
       "      <td>187.231562</td>\n",
       "      <td>72.743712</td>\n",
       "      <td>3.105438</td>\n",
       "      <td>male</td>\n",
       "      <td>2012</td>\n",
       "      <td>12</td>\n",
       "      <td>adventure</td>\n",
       "      <td>366</td>\n",
       "    </tr>\n",
       "    <tr>\n",
       "      <th>246</th>\n",
       "      <td>215.713195</td>\n",
       "      <td>136.851707</td>\n",
       "      <td>1.917771</td>\n",
       "      <td>male</td>\n",
       "      <td>2013</td>\n",
       "      <td>7</td>\n",
       "      <td>adventure</td>\n",
       "      <td>285</td>\n",
       "    </tr>\n",
       "    <tr>\n",
       "      <th>247</th>\n",
       "      <td>166.827002</td>\n",
       "      <td>50.684470</td>\n",
       "      <td>2.414571</td>\n",
       "      <td>male</td>\n",
       "      <td>2014</td>\n",
       "      <td>1</td>\n",
       "      <td>other</td>\n",
       "      <td>233</td>\n",
       "    </tr>\n",
       "    <tr>\n",
       "      <th>248</th>\n",
       "      <td>223.226998</td>\n",
       "      <td>40.103513</td>\n",
       "      <td>2.176928</td>\n",
       "      <td>male</td>\n",
       "      <td>2015</td>\n",
       "      <td>2</td>\n",
       "      <td>drama</td>\n",
       "      <td>489</td>\n",
       "    </tr>\n",
       "    <tr>\n",
       "      <th>249</th>\n",
       "      <td>123.511036</td>\n",
       "      <td>48.287595</td>\n",
       "      <td>2.315791</td>\n",
       "      <td>male</td>\n",
       "      <td>2012</td>\n",
       "      <td>7</td>\n",
       "      <td>comedy</td>\n",
       "      <td>251</td>\n",
       "    </tr>\n",
       "  </tbody>\n",
       "</table>\n",
       "<p>250 rows × 8 columns</p>\n",
       "</div>"
      ],
      "text/plain": [
       "         boxoff    prodcost  dirIncome dirGender  year  month      genre  \\\n",
       "0     88.648583   44.742936   1.143234      male  2012      3     comedy   \n",
       "1    145.334924   38.835516   3.393535    female  2014     11      drama   \n",
       "2    238.265684   29.532283   2.418883      male  2015      6      other   \n",
       "3    212.714742  157.111899   2.034115      male  2014     10  adventure   \n",
       "4    120.175461   30.547155   0.963219    female  2012      1     comedy   \n",
       "..          ...         ...        ...       ...   ...    ...        ...   \n",
       "245  187.231562   72.743712   3.105438      male  2012     12  adventure   \n",
       "246  215.713195  136.851707   1.917771      male  2013      7  adventure   \n",
       "247  166.827002   50.684470   2.414571      male  2014      1      other   \n",
       "248  223.226998   40.103513   2.176928      male  2015      2      drama   \n",
       "249  123.511036   48.287595   2.315791      male  2012      7     comedy   \n",
       "\n",
       "     numTheatres  \n",
       "0            139  \n",
       "1            213  \n",
       "2            100  \n",
       "3            436  \n",
       "4            115  \n",
       "..           ...  \n",
       "245          366  \n",
       "246          285  \n",
       "247          233  \n",
       "248          489  \n",
       "249          251  \n",
       "\n",
       "[250 rows x 8 columns]"
      ]
     },
     "execution_count": 3,
     "metadata": {},
     "output_type": "execute_result"
    }
   ],
   "source": [
    "import matplotlib.pyplot as plt\n",
    "import numpy as np\n",
    "import pandas as pd\n",
    "import scipy.stats as stats\n",
    "\n",
    "df = pd.read_csv('movieDataset.csv')\n",
    "df"
   ]
  },
  {
   "cell_type": "markdown",
   "metadata": {},
   "source": [
    "## TASK 1: Defining the test statistics (40pts)\n",
    "### Question 1.1  - Explore the gender imbalance across movie genres (10pts)\n",
    "As you did in Assignment 02, create a table that displays the number of movies per genre and director gender. Make a stacked barplot that best let's you see what proprtion of directors were female for each movie genre.   Remember x-, y-axis labels and caption. Written answer: Which movie genre has the highest proportion of female directors? \n",
    "\n",
    "*Hint: Since this is a new dataset for you, it is excellent practice to explore the dataset as you did in Assignment number 2*"
   ]
  },
  {
   "cell_type": "code",
   "execution_count": 11,
   "metadata": {},
   "outputs": [
    {
     "name": "stdout",
     "output_type": "stream",
     "text": [
      "dirGender    female      male\n",
      "genre                        \n",
      "action     0.157895  0.842105\n",
      "adventure  0.093750  0.906250\n",
      "comedy     0.270833  0.729167\n",
      "drama      0.138889  0.861111\n",
      "other      0.088889  0.911111\n"
     ]
    },
    {
     "data": {
      "text/plain": [
       "<Axes: xlabel='genre'>"
      ]
     },
     "execution_count": 11,
     "metadata": {},
     "output_type": "execute_result"
    },
    {
     "data": {
      "image/png": "[encoded data removed]",
      "text/plain": [
       "<Figure size 640x480 with 1 Axes>"
      ]
     },
     "metadata": {},
     "output_type": "display_data"
    }
   ],
   "source": [
    "table = pd.crosstab(df['genre'], df['dirGender'], normalize='index')\n",
    "print(table)\n",
    "\n",
    "table.plot(kind='bar', stacked=True)"
   ]
  },
  {
   "cell_type": "markdown",
   "metadata": {},
   "source": []
  },
  {
   "cell_type": "markdown",
   "metadata": {},
   "source": [
    "### Question 1.2 - Create contingency table of comedy (yes/no) by director gender (5pts)\n",
    "Generate and display a cross-tabulation table of the 2x2 proportions of directorGender vs. whether the movie is a comedy or not (all other genres should be combined into non-comedy movies).  "
   ]
  },
  {
   "cell_type": "code",
   "execution_count": 13,
   "metadata": {
    "scrolled": true
   },
   "outputs": [
    {
     "data": {
      "text/html": [
       "<div>\n",
       "<style scoped>\n",
       "    .dataframe tbody tr th:only-of-type {\n",
       "        vertical-align: middle;\n",
       "    }\n",
       "\n",
       "    .dataframe tbody tr th {\n",
       "        vertical-align: top;\n",
       "    }\n",
       "\n",
       "    .dataframe thead th {\n",
       "        text-align: right;\n",
       "    }\n",
       "</style>\n",
       "<table border=\"1\" class=\"dataframe\">\n",
       "  <thead>\n",
       "    <tr style=\"text-align: right;\">\n",
       "      <th>dirGender</th>\n",
       "      <th>female</th>\n",
       "      <th>male</th>\n",
       "      <th>All</th>\n",
       "    </tr>\n",
       "    <tr>\n",
       "      <th>genre</th>\n",
       "      <th></th>\n",
       "      <th></th>\n",
       "      <th></th>\n",
       "    </tr>\n",
       "  </thead>\n",
       "  <tbody>\n",
       "    <tr>\n",
       "      <th>False</th>\n",
       "      <td>24</td>\n",
       "      <td>178</td>\n",
       "      <td>202</td>\n",
       "    </tr>\n",
       "    <tr>\n",
       "      <th>True</th>\n",
       "      <td>13</td>\n",
       "      <td>35</td>\n",
       "      <td>48</td>\n",
       "    </tr>\n",
       "    <tr>\n",
       "      <th>All</th>\n",
       "      <td>37</td>\n",
       "      <td>213</td>\n",
       "      <td>250</td>\n",
       "    </tr>\n",
       "  </tbody>\n",
       "</table>\n",
       "</div>"
      ],
      "text/plain": [
       "dirGender  female  male  All\n",
       "genre                       \n",
       "False          24   178  202\n",
       "True           13    35   48\n",
       "All            37   213  250"
      ]
     },
     "execution_count": 13,
     "metadata": {},
     "output_type": "execute_result"
    }
   ],
   "source": [
    "table2 = pd.crosstab(df['genre'] == \"comedy\", df['dirGender'], margins=True)\n",
    "table2"
   ]
  },
  {
   "cell_type": "markdown",
   "metadata": {},
   "source": [
    "### Question 1.3 - Calculate p(comedy|female)-p(comedy|male) (15pts)\n",
    "Calculate and report the probability that the movie is a comedy given that the director Gender is female, p(comedy|female), the probability of the movie is a comedy given that the director Gender is male, p(comedy|male), as well as the difference between these two numbers, p(comedy|female)- p(comedy|male) (for help, see solution to homework 2)."
   ]
  },
  {
   "cell_type": "code",
   "execution_count": 19,
   "metadata": {},
   "outputs": [
    {
     "data": {
      "text/plain": [
       "np.float64(0.35135135135135137)"
      ]
     },
     "execution_count": 19,
     "metadata": {},
     "output_type": "execute_result"
    }
   ],
   "source": [
    "p_comedy_female = table2['female'][True]/table2['female']['All']\n",
    "p_comedy_female"
   ]
  },
  {
   "cell_type": "code",
   "execution_count": 21,
   "metadata": {},
   "outputs": [
    {
     "data": {
      "text/plain": [
       "np.float64(0.1643192488262911)"
      ]
     },
     "execution_count": 21,
     "metadata": {},
     "output_type": "execute_result"
    }
   ],
   "source": [
    "p_comedy_male = table2['male'][True]/table2['male']['All']\n",
    "p_comedy_male"
   ]
  },
  {
   "cell_type": "code",
   "execution_count": 22,
   "metadata": {},
   "outputs": [
    {
     "data": {
      "text/plain": [
       "np.float64(0.18703210252506028)"
      ]
     },
     "execution_count": 22,
     "metadata": {},
     "output_type": "execute_result"
    }
   ],
   "source": [
    "p_comedy_female - p_comedy_male"
   ]
  },
  {
   "cell_type": "markdown",
   "metadata": {},
   "source": [
    "### Question 1.4 - Define a function that calculates this difference in probability (10pts)\n",
    "Write a function (e.g., https://www.tutorialspoint.com/python/python_functions.htm) that takes the data frame as an input and returns the difference on conditional probabilities (as calculated in question 2). \n",
    "Test the function by calling it with your data and report the difference in probability. \n",
    "This difference is your test statistics for the coming permutation test."
   ]
  },
  {
   "cell_type": "code",
   "execution_count": 24,
   "metadata": {},
   "outputs": [],
   "source": [
    "# Provide the function here\n",
    "def prob_diff(data):\n",
    "\n",
    "    tab = pd.crosstab(data['genre'] == 'comedy', data['dirGender'], margins = True)\n",
    "\n",
    "    p_diff = (tab['female'][True]/tab['female']['All']) - (tab['male'][True]/tab['male']['All'])\n",
    "\n",
    "    return p_diff"
   ]
  },
  {
   "cell_type": "code",
   "execution_count": 25,
   "metadata": {},
   "outputs": [
    {
     "data": {
      "text/plain": [
       "np.float64(0.18703210252506028)"
      ]
     },
     "execution_count": 25,
     "metadata": {},
     "output_type": "execute_result"
    }
   ],
   "source": [
    "# Execute the function with you data\n",
    "prob_diff(df)"
   ]
  },
  {
   "cell_type": "markdown",
   "metadata": {},
   "source": [
    "## Task 2: Perform a permutation test (60pts)\n",
    "### Question 2.1 (10pts)\n",
    "Written answer: We want to test the hypothesis that female directors are more likely than male directors to conduct a comedy. Under this hypothesis the p(comedy|female) should be higher than p(comedy|male). What is the Null-hypothesis we need to consider? "
   ]
  },
  {
   "cell_type": "markdown",
   "metadata": {},
   "source": []
  },
  {
   "cell_type": "markdown",
   "metadata": {},
   "source": [
    "### Question 2.2 (40pts)\n",
    "Perform a permutation test. Under the Null-hypothesis the director gender is exchangeable. \n",
    "\n",
    "First, write a function that takes a data frame as an input, and then randomly permutes a specific column of that that data frame (see lab for hints). The function should then return a modified copy of the dataframe.\n",
    "\n",
    "Then write a function ``permutation_test`` that takes a data frame as an input and the loops ``numIter`` times. Every iteration of the  the loop it should shuffle the dirGender column of the data and then calls the function written for Question 1.4 to get the test statistic. Each iteration, the test statistic should  be stored in a list.  \n",
    "\n",
    "After building up the numpy array of test statistics, the function should plot a histogram of the test statistics and mark the value of the empirical test statistics by a vertical line (see https://matplotlib.org/api/_as_gen/matplotlib.axes.Axes.axvline.html). Finally, it should report the p-value. \n",
    "\n",
    "For Pseudo code see lecture. Start with 500 iterations to test your code – for the final result, use 5000 iterations."
   ]
  },
  {
   "cell_type": "code",
   "execution_count": 30,
   "metadata": {},
   "outputs": [],
   "source": [
    "# Write a function that shuffels the column of one data frame\n",
    "def shuffle(df, col_name):\n",
    "    shuffled_df = df.copy()\n",
    "    shuffled_df[col_name] = np.random.permutation(shuffled_df[col_name])\n",
    "    return shuffled_df\n",
    "\n",
    "\n",
    "# Write the function for the permutation test\n",
    "def permutation_test(df, numIter=1000):\n",
    "    array = np.zeros(numIter)\n",
    "    for i in range(numIter):\n",
    "        shuffled_df = shuffle(df, 'dirGender')\n",
    "        array[i] = prob_diff(shuffled_df)\n",
    "\n",
    "    empStat = prob_diff(df)\n",
    "\n",
    "    plt.hist(array)\n",
    "    plt.axvline(empStat, color='red')\n",
    "    \n",
    "    p_value = sum(array >= empStat)/len(array)\n",
    "\n",
    "\n",
    "    return p_value"
   ]
  },
  {
   "cell_type": "code",
   "execution_count": 32,
   "metadata": {},
   "outputs": [
    {
     "data": {
      "text/plain": [
       "np.float64(0.011)"
      ]
     },
     "execution_count": 32,
     "metadata": {},
     "output_type": "execute_result"
    },
    {
     "data": {
      "image/png": "[encoded data removed]",
      "text/plain": [
       "<Figure size 640x480 with 1 Axes>"
      ]
     },
     "metadata": {},
     "output_type": "display_data"
    }
   ],
   "source": [
    "# Call the permutation test with your data \n",
    "permutation_test(df, 5000)"
   ]
  },
  {
   "cell_type": "markdown",
   "metadata": {},
   "source": [
    "## Question 2.3 (10pts)\n",
    "Written response: What do you conclude from this result?\n"
   ]
  },
  {
   "cell_type": "markdown",
   "metadata": {},
   "source": []
  }
 ],
 "metadata": {
  "kernelspec": {
   "display_name": "Python 3",
   "language": "python",
   "name": "python3"
  },
  "language_info": {
   "codemirror_mode": {
    "name": "ipython",
    "version": 3
   },
   "file_extension": ".py",
   "mimetype": "text/x-python",
   "name": "python",
   "nbconvert_exporter": "python",
   "pygments_lexer": "ipython3",
   "version": "3.9.6"
  }
 },
 "nbformat": 4,
 "nbformat_minor": 2
}
