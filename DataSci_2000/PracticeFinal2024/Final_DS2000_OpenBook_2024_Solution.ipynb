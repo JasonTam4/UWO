{
 "cells": [
  {
   "attachments": {},
   "cell_type": "markdown",
   "metadata": {},
   "source": [
    "# DataScience 2000B / Integrated Science 2000B Final 2024 - Open Book part\n",
    "\n",
    "## Your Student ID: ########\n",
    "\n",
    "## General \n",
    "The instruction for the final exam for DS2000B / IS2002B is included in this Jupyter Notebook. \n",
    "\n",
    "- You are allowed to use any document and source and look up documents on the internet. You are not allowed to use chatGPT, copilot, or any other AI engine that provides programming assistance. \n",
    "- You or not allowed to share documents, or communicate in any other way with people during period of final. Given that there are students with extra time, this is until 7pm.  \n",
    "- You are only allowed to use the python packages listed under \"preliminaries\" - the use of other regression (e.g., statsmodels, numpy polyfit) or machine learning toolboxes (e.g., sklearn) is not permitted. \n",
    "- All the code you are using from previous assignments or labs needs to be included in the notebook. \n",
    "- Most questions also require some written answer. The answer to these questions should be given in full English sentences. \n",
    "- All Figures should be appropriately labeled in x and y axis.  \n",
    "- The Final exam needs to be submitted on Gradescope (Final) before 5:30pm. If you have approved accommodation, you need to submit after 3.5 hrs + your extra time after the start of the exam at 2pm.\n",
    "- Ensure that your notebook runs before submitting. Submit the notebook with all output included. \n",
    "- Any final submitted later than the alloted time will be scored with 0 pts.  \n",
    "- **It is your responsibility that you submit the correct file. Please check that you uploaded the correct file by downloading the submitted version and opening it in jupyter before you leave the exam room.** "
   ]
  },
  {
   "attachments": {},
   "cell_type": "markdown",
   "metadata": {},
   "source": [
    "## Problem description \n",
    "\n",
    "About 1\\% of the population will be diagnosed with schizophrenia at some point in their life, usually at the age of 17-22years, with devastating consequences for the individual and their family. If we could use brain imaging and a mathematical model to predict who will develop schizophrenia, we could intervene early and potentially prevent the onset of the disease.\n",
    "\n",
    "One brain structure that has been associated with schizophrenia is the cerebellum. The cerebellum consists of regions that are involved in motor control and in cognitive functions. The dataset for the final contains the volume of these two part of the cerebellum in 200 individuals. The individuals for this studied were sampled from a cohort of individuals with a family history of schizophrenia, and thus have a much higher risk of schizophrenia than the general population.\n",
    "\n",
    "The ages at which the brain scans were taken varies from 5-17 (before the potential onset of the disease). The brain still undergoes considerable growth during this period. We can determine whether a child is developing normal by comparing the volumes to sex and age matched norms. In this final you will build such a normative model, and then use it to predict the risk of schizophrenia.\n",
    "\n",
    "The dataset is provided in the file `brain_volumes.csv`. The file contains the following the following columns:\n",
    "- `age`: the age of the individual in years\n",
    "- `sex`: the biological sex of the individual (either `male` or `female`)\n",
    "- `income`: the income of individual's family (Socioeconomic status) (either `low`, `middle`, or `high`)\n",
    "- `schizophrenia`: a binary variable indicating whether the individual developed schizophrenia (1) or not (0)\n",
    "- `vol_motor`: the volume of the motor regions of the cerebellum in cm^3\n",
    "- `vol_cognitive`: the volume of the cognitive regions of the cerebellum in cm^3\n",
    "- `z_motor`: the z-score of the motor regions' volume (relative to the normal population)\n",
    "- `z_cognitive`: the z-score of the cognitive regions' volume (relative to the normal population)\n"
   ]
  },
  {
   "cell_type": "code",
   "execution_count": null,
   "metadata": {},
   "outputs": [],
   "source": [
    "# Preliminaries - you are only allowed to import the following packages\n",
    "import numpy as np\n",
    "import pandas as pd\n",
    "import matplotlib.pyplot as plt\n",
    "import seaborn as sns\n",
    "import scipy.optimize as so"
   ]
  },
  {
   "cell_type": "markdown",
   "metadata": {},
   "source": [
    "## Task 1: (8pts)\n",
    "### Questions 1.1: (2pts)\n",
    "Report the numbers of children that develop schizophrenia (and the numbers that do not) for each level of income status of the family (low, middle, high).   \n",
    "\n",
    "From these numbers report the \n",
    "* conditional probability of developing schizophrenia given that the family has a low income level.\n",
    "* conditional probability of developing schizophrenia given that the family has a high income level."
   ]
  },
  {
   "cell_type": "code",
   "execution_count": null,
   "metadata": {},
   "outputs": [],
   "source": [
    "D=pd.read_csv('brain_volumes.csv')\n",
    "table = pd.crosstab(D.schizophrenia, D.income, margins = True)\n",
    "table"
   ]
  },
  {
   "cell_type": "code",
   "execution_count": null,
   "metadata": {},
   "outputs": [],
   "source": [
    "p_low = table['Low'][1]/table['Low']['All']\n",
    "p_high = table['High'][1]/table['High']['All']\n",
    "print(f'p(Schizophrenia|Low): {p_low:.3f}')\n",
    "print(f'p(Schizophrenia|High): {p_high:.3f}')"
   ]
  },
  {
   "cell_type": "markdown",
   "metadata": {},
   "source": [
    "*Grading: 1pt for cross-tab. 0.5 for each conditional probability.* "
   ]
  },
  {
   "attachments": {},
   "cell_type": "markdown",
   "metadata": {},
   "source": [
    "### Question 1.2: (2pts)\n",
    "Write a function that returns the difference in the conditional probability of the child developing Schizophrenia for **Low vs. Middle** income families. The result should be returned in percent. The function should take a dataframe as an input. A positive return value should indicate that the probability of developing Schizophrenia is higher in low-income families.   \n",
    "\n",
    "Call the function with the original data and report the difference in probability in percent. "
   ]
  },
  {
   "cell_type": "code",
   "execution_count": null,
   "metadata": {},
   "outputs": [],
   "source": [
    "# Correct function (1pts) - Note that the difference could be reported the other way around\n",
    "def calc_prob_diff(D):\n",
    "    \"\"\"Calculate the difference in conditional probability\n",
    "\n",
    "    Args:\n",
    "        D (DataFrame): recruitment data\n",
    "    \"\"\"\n",
    "    table = pd.crosstab(D.schizophrenia, D.income, margins = True)\n",
    "    p_low = table['Low'][1]/table['Low']['All']\n",
    "    p_mid = table['Middle'][1]/table['Middle']['All']\n",
    "    return (p_low-p_mid)*100\n",
    "\n",
    "pdiff = calc_prob_diff(D)\n",
    "# Correctly reported in percent (1pt)\n",
    "print(f'Difference in probability {pdiff:.3f}')"
   ]
  },
  {
   "attachments": {},
   "cell_type": "markdown",
   "metadata": {},
   "source": [
    "### Question 1.3: (4pts)\n",
    "Conduct a permutation test (with at least 2000 iterations) to test the directed hypothesis that the probability of developing schizophrenia is higher in low-income families than in middle-income families. \n",
    "\n",
    "- Clearly state the null hypothesis [1pt]\n",
    "- Provide a histogram of the test statistic and indicate the observed value. [1pt]\n",
    "- Report the correct p-value [1pt] \n",
    "- Draw a conclusion from the data [1pt]  "
   ]
  },
  {
   "cell_type": "markdown",
   "metadata": {},
   "source": [
    "The corresponding Null-hypothesis is that the probability of developing schizophrenia for low-income family is the same or lower than for middle-income families. [1pt]"
   ]
  },
  {
   "cell_type": "code",
   "execution_count": null,
   "metadata": {},
   "outputs": [],
   "source": [
    "# Write a function that shuffels the column\n",
    "# of one single variable. We need to be carful here,\n",
    "# as the functions get the data frame as an object\n",
    "def randomize_column (df,colname):\n",
    "    df_copy = df.copy()\n",
    "    var = df_copy[colname].values\n",
    "    np.random.shuffle(var)\n",
    "    df_copy[colname]=var\n",
    "    return df_copy\n",
    "\n",
    "def permutation_test(data):\n",
    "    numIter = 2000\n",
    "    stat = np.zeros(numIter,) # initialize the numpy array that will store the test stat\n",
    "\n",
    "    ## 1. shuffling the \"exchangeable\" variable\n",
    "    for i in range(numIter):\n",
    "\n",
    "        ## permute (shuffle) the exchangeable variable\n",
    "        tmpDF = randomize_column(data,'schizophrenia')\n",
    "\n",
    "        ## calculate the test stat.\n",
    "        stat[i] = calc_prob_diff(tmpDF)\n",
    "\n",
    "    ## 2. plotting the histogram of the test statistic\n",
    "    plt.figure()\n",
    "    plt.hist(stat, bins = 10)\n",
    "    empStat = calc_prob_diff(data)\n",
    "    plt.axvline(x = empStat, color = 'r')\n",
    "    plt.xlabel('Difference in probability (%)')\n",
    "    plt.ylabel('Frequency')\n",
    "    plt.show()\n",
    "\n",
    "    ## 3. calculating the p-value (one-sided)\n",
    "    p_value = sum(stat >= empStat)/len(stat)\n",
    "\n",
    "    print('P-value of the randomisation test is p=',p_value)\n",
    "\n",
    "    return p_value\n"
   ]
  },
  {
   "cell_type": "code",
   "execution_count": null,
   "metadata": {},
   "outputs": [],
   "source": [
    "permutation_test(D)"
   ]
  },
  {
   "cell_type": "markdown",
   "metadata": {},
   "source": [
    "> *Conclusion:*\n",
    "Based on the p-value (p=0.043) we can reject the Null-hypothesis that children from low-income families have equal or lower probability of developing schizophrenia, as compared to middle income families."
   ]
  },
  {
   "attachments": {},
   "cell_type": "markdown",
   "metadata": {},
   "source": [
    "## Task 2: (28pts)\n",
    "In this task, we will build a model that models the normal development of the human cerebellum. So, for this task, we want to restrict the dataset to the individuals that did not develop schizophrenia.\n",
    "\n",
    "Having a model of normal healthy brain growth is important, as it allows us to identify individuals that deviate from the normal growth pattern. "
   ]
  },
  {
   "attachments": {},
   "cell_type": "markdown",
   "metadata": {},
   "source": [
    "### Question 2.1: (2pts) \n",
    "\n",
    "Create dummy coded variables for gender (male / female) \n",
    "and whether it is a low income family (Low vs. (Middle, High)).\n",
    "Use these dummy variables to report the count in each of the four categories (male/low), (male/not low), (female/low), (female/not low)\n"
   ]
  },
  {
   "cell_type": "code",
   "execution_count": null,
   "metadata": {},
   "outputs": [],
   "source": [
    "D['sex_ind'] = (D.sex=='Male').astype(int)\n",
    "D['income_low'] = (D.income=='Low').astype(int) # [1pt]\n",
    "pd.crosstab(D.sex_ind,D.income_low) #[1pt]"
   ]
  },
  {
   "attachments": {},
   "cell_type": "markdown",
   "metadata": {},
   "source": [
    "### Question 2.2: (4pts)\n",
    "Build a regression model to predict the volume of the cognitive regions of the cerebellum (vol_cognitive) using age as explanatory variable. \n",
    "* Use only the healthy sample (non-schizophrenic) and fit the model to the data.\n",
    "* Produce a scatter plot of age (x-axis) and vol_cognitive (y-axis). \n",
    "* Plot the prediction line. "
   ]
  },
  {
   "cell_type": "code",
   "execution_count": null,
   "metadata": {},
   "outputs": [],
   "source": [
    "def multRegPredict(b,D,xname):\n",
    "    \"\"\"Model prediction function for multiple regression\n",
    "\n",
    "    Args:\n",
    "        b (array): Q+1 regression coefficients for Q variables\n",
    "        D (pd.DataFrame): Data frame\n",
    "        xname (list): Names of explanatory variables\n",
    "\n",
    "    Returns:\n",
    "        yp (array): predicted y-values\n",
    "    \"\"\"\n",
    "    yp=np.ones(len(D.index))*b[0]        # Intercept\n",
    "    for i in range(len(xname)):\n",
    "        yp=yp+D[xname[i]]*b[i+1]         # Add each regression value\n",
    "    return yp\n",
    "\n",
    "def multRegLossRSS(b,D,y,xname):\n",
    "    \"\"\"Residual sums of squares loss function for multiple regression\n",
    "    Args:\n",
    "        b (array): Q+1 regression coefficients for Q variables\n",
    "        D (pd.DataFrame): Data frame\n",
    "        xname (list): Names of explanatory variables\n",
    "\n",
    "    Returns:\n",
    "        rss (float): Residual sums of squares\n",
    "        deriv (array): array of derivatives of the loss function with respect to b\n",
    "    \"\"\"\n",
    "    predY = multRegPredict(b,D,xname)\n",
    "    res = y-predY\n",
    "    rss = sum(res**2)\n",
    "    grad=np.zeros(len(b))\n",
    "    grad[0]=-2*np.sum(res)\n",
    "    for i in range(len(xname)):\n",
    "        grad[i+1]=-2*np.sum(D[xname[i]]*res)\n",
    "    return (rss,grad)\n",
    "\n",
    "def multRegFit(D,y,xname,b0=[]):\n",
    "    \"\"\"Multiple regression fitting function\n",
    "    Args:\n",
    "        D (pd.DataFrame): Data frame\n",
    "        y (array): array of y values\n",
    "        xname (list): Names of explanatory variables\n",
    "        b0:\n",
    "    Returns:\n",
    "        R2 (float): Coefficient of determination\n",
    "        b (array): array of fitted parameter values\n",
    "    \"\"\"\n",
    "    k=len(xname)+1\n",
    "    if (len(b0)!=k):\n",
    "        b0=np.zeros((k,))\n",
    "    RES = so.minimize(multRegLossRSS,b0,args=(D,y,xname),\n",
    "                    jac=True,\n",
    "                    tol=1e-3)\n",
    "    if (not(RES.success)):\n",
    "        print('unsuccessful fit')\n",
    "        print(RES)\n",
    "    b=RES.x # Results\n",
    "    res = y-np.mean(y)\n",
    "    TSS = sum(res**2)\n",
    "    RSS,deriv = multRegLossRSS(b,D,y,xname)\n",
    "    R2 = 1-RSS/TSS\n",
    "    return (R2,b)"
   ]
  },
  {
   "cell_type": "code",
   "execution_count": null,
   "metadata": {},
   "outputs": [],
   "source": [
    "Dn = D[D.schizophrenia==0]\n",
    "[R2,b]=multRegFit(Dn,Dn.vol_cognitive,xname=['age'])\n",
    "plt.plot(Dn.age,Dn.vol_cognitive,'.')\n",
    "age=np.linspace(5,17,10)\n",
    "P=pd.DataFrame({'age':age})\n",
    "pred = multRegPredict(b,P,['age'])\n",
    "plt.plot(age,pred,'r')\n",
    "print(f'R2:{R2:.3f}')\n",
    "plt.xlabel('age')\n",
    "plt.ylabel('vol cognitive')"
   ]
  },
  {
   "cell_type": "markdown",
   "metadata": {},
   "source": [
    "*Grading*\n",
    "* Correct linear regression fit [1pt]\n",
    "* Correctly limited to non-schizophrenic [1pt]\n",
    "* Scatterplot and Axis labeling [1pt]\n",
    "* Prediction line [1pt]"
   ]
  },
  {
   "attachments": {},
   "cell_type": "markdown",
   "metadata": {},
   "source": [
    "### Question 2.3 (5pts)\n",
    "\n",
    "Build a polynomial regression model of order 2 using age as explanatory and vol_cognitive as a dependent variable. \n",
    "\n",
    "* As in question 2.2, only use the non-schizophrenic individuals.\n",
    "* Report the R2-value. \n",
    "* Show a scatter plot of the healthy individuals and show the quadratic prediction line. \n",
    "* On this plot, add the schizophrenic individuals in a different color.\n",
    "* Written answer: What do you observe? "
   ]
  },
  {
   "cell_type": "code",
   "execution_count": null,
   "metadata": {},
   "outputs": [],
   "source": [
    "D['age2']=D.age**2\n",
    "Dn = D[D.schizophrenia==0]\n",
    "\n",
    "[R2,b]=multRegFit(Dn,Dn.vol_cognitive,xname=['age','age2'])\n",
    "plt.plot(Dn.age,Dn.vol_cognitive,'.')\n",
    "age=np.linspace(5,17,10)\n",
    "P=pd.DataFrame({'age':age,'age2':age**2})\n",
    "pred = multRegPredict(b,P,['age','age2'])\n",
    "plt.plot(age,pred,'r')\n",
    "print(f'R2:{R2:.3f}')\n",
    "plt.plot()\n",
    "\n",
    "Ds = D[D.schizophrenia==1]\n",
    "plt.plot(Ds.age,Ds.vol_cognitive,'ro')\n",
    "plt.xlabel('age')\n",
    "plt.ylabel('vol cognitive')"
   ]
  },
  {
   "cell_type": "markdown",
   "metadata": {},
   "source": [
    "Even though patients seems to fall above and below the line, they seem to be mostly below (lower volume)"
   ]
  },
  {
   "cell_type": "markdown",
   "metadata": {},
   "source": [
    "*Grading*\n",
    "* Correct Polynomial model and R2 [1pt]\n",
    "* Correctly limited to non-schizophrenic [1pt]\n",
    "* Axis labeling [1pt]\n",
    "* prediction line  [1pt]\n",
    "* Additional points plotted + observation [1pt]"
   ]
  },
  {
   "cell_type": "markdown",
   "metadata": {},
   "source": [
    "### Question 2.4 (6pts)\n",
    "Extend the polynomial order 2 model from question 2.3, by adding the sex of the child as an additional regressor. \n",
    "Again, fir the model only to the healthy (non-schizophrenic) data. \n",
    "\n",
    "* Report the $R^2$ value of the fit.\n",
    "* Show a scatter plot of the healthy individuals, plotted in different colors depending on the sex of the individual (age on the x, vol_cognitive on the y-axis)\n",
    "* Add separate prediction lines for females and males. \n",
    "* Written answer: How do males and females differ in terms of the growth of their brain volume? \n",
    "\n",
    "*Hint: If cannot figure out how to combine a polynomial order 2 with a discrete predictor variable (sex), implement a simple linear regression model with age and sex as regressor to get partial points*"
   ]
  },
  {
   "cell_type": "code",
   "execution_count": null,
   "metadata": {},
   "outputs": [],
   "source": [
    "[R2,b]=multRegFit(Dn,Dn.vol_cognitive,xname=['age','age2','sex_ind'])\n",
    "plt.plot(Dn.age[Dn.sex_ind==0],Dn.vol_cognitive[Dn.sex_ind==0],'r.')\n",
    "plt.plot(Dn.age[Dn.sex_ind==1],Dn.vol_cognitive[Dn.sex_ind==1],'b.')\n",
    "\n",
    "age=np.linspace(5,17,10)\n",
    "P0=pd.DataFrame({'age':age,'age2':age**2,'sex_ind':0})\n",
    "pred = multRegPredict(b,P0,['age','age2','sex_ind'])\n",
    "plt.plot(age,pred,'r')\n",
    "P1=pd.DataFrame({'age':age,'age2':age**2,'sex_ind':1})\n",
    "pred = multRegPredict(b,P1,['age','age2','sex_ind'])\n",
    "plt.plot(age,pred,'b')\n",
    "\n",
    "print(f'R2:{R2:.3f}')\n",
    "plt.xlabel('age')\n",
    "plt.ylabel('vol cognitive')"
   ]
  },
  {
   "cell_type": "markdown",
   "metadata": {},
   "source": [
    "Males appear to have a larger volume in this brain structure. The growth rates, however, seem to be similar."
   ]
  },
  {
   "cell_type": "markdown",
   "metadata": {},
   "source": [
    "*Grading*\n",
    "* Correct Polynomial model + Sex [3pt, 1pt for simple linear regression]. \n",
    "* Correctly limited to non-schizophrenic [1pt]\n",
    "* prediction lines [1pt]\n",
    "* Observation (mean difference is enough) [1pt]"
   ]
  },
  {
   "cell_type": "markdown",
   "metadata": {},
   "source": [
    "### Question 2.5 (1pt) \n",
    "Assume that the model in question 2.4 yielded a higher $R^2$ value than the one in question 2.3. A researcher concludes from this observation that the volume of the structure differs between the sexes. Why can you NOT draw this conclusion from this analysis? "
   ]
  },
  {
   "cell_type": "markdown",
   "metadata": {},
   "source": [
    "The model in 2.4 includes all regressors from model 2.3 and one additional one. This means that the R2 needs to be at least as high as the $R^2$ for the one in 2.3. Thus a difference in R2 does not mean that the more complex model in 2.4 is better - it could simply overfit the data.   "
   ]
  },
  {
   "cell_type": "markdown",
   "metadata": {},
   "source": [
    "### Question 2.6 (5pts)\n",
    "In this question, you will test whether the volume of the cognitive part of the cerebellum differs between the sexes, after accounting for the effect of age. For this, perform a model comparison: \n",
    "\n",
    "* Choose the two appropriate models to compare and justify your answer.   \n",
    "* Conduct a 10-fold cross-validation to compare the two models. \n",
    "* What criterion do you use to compare the models? Report the value of this criterion.   \n",
    "* What is your conclusion?\n",
    "\n",
    "*Hint: For full points, you do NOT require a measure of strength of evidence (Bayes Factor)* "
   ]
  },
  {
   "cell_type": "markdown",
   "metadata": {},
   "source": [
    "To account of the effect of age appropriately, I choose the quadratic model. To then test whether sex has an influence on top of this trend, I compare it to the $y=age+age^2+sex$ model. "
   ]
  },
  {
   "cell_type": "code",
   "execution_count": null,
   "metadata": {},
   "outputs": [],
   "source": [
    "def KfoldCVmultReg(D,y,xname,K=10):\n",
    "    \"\"\"K-fold Crossvalidation for multiple regression\"\"\"\n",
    "    N = len(y) #Number of observations\n",
    "    yp= np.zeros(N)\n",
    "\n",
    "    # Make an index vector with K folds\n",
    "    ind = np.arange(N)\n",
    "    ind = np.floor(ind/N*K)\n",
    "\n",
    "    # Get overall model fit\n",
    "    R2,b_all=multRegFit(D,y,xname)\n",
    "\n",
    "    # Loop over the crossvalidation folds\n",
    "    for i in range(K):\n",
    "        r,b=multRegFit(D[ind!=i],y[ind!=i],xname,b0=b_all)\n",
    "        yp[ind==i]=multRegPredict(b,D[ind==i],xname)\n",
    "\n",
    "    # Calculate crossvalidated model fit\n",
    "    TSS  = sum((y-y.mean())**2)\n",
    "    RSScv = sum((y-yp)**2)\n",
    "    R2cv = 1-RSScv/TSS\n",
    "    return R2cv,R2"
   ]
  },
  {
   "cell_type": "code",
   "execution_count": null,
   "metadata": {},
   "outputs": [],
   "source": [
    "pR2_H0,R2_H0=KfoldCVmultReg(Dn,Dn.vol_cognitive,['age','age2'])\n",
    "pR2_H1,R2_H1=KfoldCVmultReg(Dn,Dn.vol_cognitive,['age','age2','sex_ind'])\n",
    "print(f'Sex as a predictor variable increases predictive R2 from {pR2_H0:.3f} to {pR2_H1:.3f}')"
   ]
  },
  {
   "cell_type": "markdown",
   "metadata": {},
   "source": [
    "Given the increase in predictive R2, there is a substantial increase in predictive accuracy, when adding sex to the model. \n",
    "Thus sex does appear to have an influence on volume (after accounting for age). "
   ]
  },
  {
   "cell_type": "markdown",
   "metadata": {},
   "source": [
    "**GRading** \n",
    "* Pick the right models [2pt]\n",
    "* Cross-validation routine [1pt]\n",
    "* Predictive R2 as criterion [1pt] \n",
    "* Correct conclusion [1pt]"
   ]
  },
  {
   "cell_type": "markdown",
   "metadata": {},
   "source": [
    "### Question 2.7.(5pts)\n",
    "To characterize the volume of individuals in relationship to the age- and sex-appropriate comparison group, researchers use z-scores. These are calculated by determining the deviation of the the individual score against the model prediction (using the model from question 2.4), and then z-standardizing these residuals. For the z-standardization, use the mean and the standard deviation from the deviations of the non-schizophrenic control group only. \n",
    "\n",
    "* Calculate z-score for the deviation of vol_cognitive for all individuals in the sample. [1pt]\n",
    "* Report the mean and standard deviation of the z-scores of the non-schizophrenic and schizophrenic individuals separately. [2pt]\n",
    "* Written answer: Explain why you got the particular values for the non-schizophrenic individuals - and why does the same logic not apply to the schizophrenic patients? [1pt]\n",
    "* Written answer: What can you conclude from the mean and standard deviation of the z-scores of the schizophrenic individuals? [1pt]\n",
    "\n",
    "*Hint: Note that the z-scores provided in the data frame are derived from a larger normative model. So your answer will likely differ somewhat from the column `z_cognitive`.* "
   ]
  },
  {
   "cell_type": "code",
   "execution_count": null,
   "metadata": {},
   "outputs": [],
   "source": [
    "# Get the differences from the prediction for all the patients\n",
    "pred = multRegPredict(b,D,['age','age2','sex_ind'])\n",
    "residual = D.vol_cognitive - pred\n",
    "m = residual[D.schizophrenia==0].mean()\n",
    "sd = residual[D.schizophrenia==0].std()\n",
    "D['z-score']=(residual-m)/sd\n",
    "M = D.groupby('schizophrenia')['z-score'].mean()\n",
    "S = D.groupby('schizophrenia')['z-score'].std()\n",
    "print(f'Healthy Mean: {M[0]:.3f}  SD: {S[0]:.3f}')\n",
    "print(f'Schizophrenic Mean: {M[1]:.3f}  SD: {S[1]:.3f}')"
   ]
  },
  {
   "cell_type": "markdown",
   "metadata": {},
   "source": [
    "The healthy mean and standard deviation are 0 and 1, respectively. This is because the z-score is calculated by subtracting the mean and dividing by the standard deviation. This is not the case for the schizophrenic individuals, as we used the mean and sd of the healthy normal controls. "
   ]
  },
  {
   "cell_type": "markdown",
   "metadata": {},
   "source": [
    "The mean z-value indicates that patients are nearly half an sd below the healthy mean. The standard deviation indicates that the z-scores are equally variable as in the healthy group."
   ]
  },
  {
   "cell_type": "markdown",
   "metadata": {},
   "source": [
    "**Grading**\n",
    "* Calculate z-scores  [1pt]\n",
    "* Report the mean and standard deviation for non-schizophrenic and schizophrenic [2pt]\n",
    "* Written answer: Explain mean + sd  [1pt]\n",
    "* Written answer: Conclusion [1pt]\n"
   ]
  },
  {
   "cell_type": "markdown",
   "metadata": {},
   "source": [
    "## Task 3: Logistic regression (14pts)\n",
    "In this task, we will use the brain volumes of the cognitive and motor regions of the cerebellum to predict whether a teenager will develop schizophrenia or not. For this we will use the z-scores that are calculated from a larger and more representative model of the normal population (`z_motor` and `z_cognitive`). "
   ]
  },
  {
   "attachments": {},
   "cell_type": "markdown",
   "metadata": {},
   "source": [
    "### Question 3.1  (3pts)\n",
    "Fit logistic regression model that predicts the probability of developing schizophrenia based on sex and family income (low vs. medium/high).\n",
    "\n",
    "Report the regression coefficients of the model. \n",
    "\n",
    "Written answers: \n",
    "Based on the the coefficients, answer the following questions: \n",
    "* does being male increase or decrease the probability of developing schizophrenia in the sample? \n",
    "* does being from a low-income family increase or decrease the probability of developing schizophrenia in the sample?\n",
    "* which one of the two factors has a larger effect on the probability of developing schizophrenia?\n",
    "\n",
    "Finally provide a reason why the intercept coefficient has a negative value. What can you conclude about the predicted probabilities?  "
   ]
  },
  {
   "cell_type": "code",
   "execution_count": null,
   "metadata": {},
   "outputs": [],
   "source": [
    "def logisticRegPredict(b,D,xname):\n",
    "    yp=np.ones(len(D.index))*b[0]       # Start out with the intercept\n",
    "    for i in range(len(xname)):\n",
    "        yp=yp+D[xname[i]]*b[i+1]        # Add the prediction of each regressor seperately\n",
    "    p = np.exp(yp)/(1+np.exp(yp))\n",
    "    p = p.clip(1e-12,1-(1e-12))\n",
    "    return p\n",
    "\n",
    "def logisticRegLoss(b,D,y,xname):\n",
    "    p = logisticRegPredict(b,D,xname)\n",
    "    cost = -y*np.log(p)-(1-y)*np.log(1-p)\n",
    "    N=len(xname)\n",
    "    grad=np.zeros(N+1)\n",
    "    res = y-p\n",
    "    grad[0]=-sum(res)\n",
    "    for i in range(N):\n",
    "        grad[i+1]=-np.sum(D[xname[i]]*res)         # Add each regressor\n",
    "    return (cost.sum(),grad)\n",
    "\n",
    "def logisticRegFit(D,y,xname,figure=0,b_init=[]):\n",
    "    k=len(xname)+1\n",
    "    if (len(b_init)!=k):\n",
    "        b_init=np.zeros(k)\n",
    "    RES = so.minimize(logisticRegLoss,b_init,args=(D,y,xname),jac=True)\n",
    "    b = RES.x\n",
    "    ll = -RES.fun # Negative function value is the log likelihood\n",
    "    p = logisticRegPredict(b,D,xname)\n",
    "    if (k==2 & figure==1):\n",
    "        fig = plt.figure()\n",
    "        ax = fig.add_subplot(1,1,1)\n",
    "        ax.scatter(D[xname[0]],y)\n",
    "        xRange=[min(D[xname[0]]),max(D[xname[0]])]\n",
    "        xp=np.arange(xRange[0],xRange[1],(xRange[1]-xRange[0])/50)\n",
    "        yp=b[0]+b[1]*xp\n",
    "        pp=np.exp(yp)/(1+np.exp(yp))\n",
    "        ax.plot(xp,pp,'r-')\n",
    "        ax.spines['top'].set_visible(False)\n",
    "        ax.spines['right'].set_visible(False)\n",
    "    return (ll,b)"
   ]
  },
  {
   "cell_type": "code",
   "execution_count": null,
   "metadata": {},
   "outputs": [],
   "source": [
    "ll,b=logisticRegFit(D,D.schizophrenia,xname=['sex_ind','income_low']) # ourrect model + coefficients: 1pt\n",
    "print(b)"
   ]
  },
  {
   "cell_type": "markdown",
   "metadata": {},
   "source": [
    "Written answer: \n",
    "* The coefficient for sex is positive, so being male slightly increases the prob of developing schizophrenia. \n",
    "* The coefficient for low income is positive, so being from a low-income family slightly increases the prob of developing schizophrenia. \n",
    "* The coefficient for income is larger than the for sex, so income has a larger effect on the probability [1pt]\n",
    "\n",
    "The intercept is negative because the probability of developing schizophrenia is lower than 0.5 for the the average female individual from a medium/high income family. [1pt]"
   ]
  },
  {
   "attachments": {},
   "cell_type": "markdown",
   "metadata": {},
   "source": [
    "### Question 3.2 (6pts)\n",
    "You are tasked with developing a model that predicts the chance of developing schizophrenia based on some combination of the following variables:\n",
    "* sex\n",
    "* income (low vs. medium/high)\n",
    "* z_motor\n",
    "* z_cognitive\n",
    "\n",
    "Describe what strategy you would use to pick the best combination of predictor variables. What criterion do you use to decide which model is better? Implement your strategy and report the best model. \n",
    "\n",
    "*Hint: There are multiple strategies that are correct. Simply pick one, describe it in a few sentences and execute it. In the interest of time, I recommend choosing a simple strategy.*"
   ]
  },
  {
   "cell_type": "markdown",
   "metadata": {},
   "source": [
    "*Note that forward stepwise regression, backwards stepwise regression, and complete model search, or using regularized regression are all correct answers here. As an example I give the forward stepwise regression.*"
   ]
  },
  {
   "cell_type": "markdown",
   "metadata": {},
   "source": [
    "To select the best combination of predictors, I will use a stepwise selection strategy. I will start with the null model and add the predictor that increases the log-liklihood the most. I will continue to add predictors until the cross-validated log-likelihood decreases. For crossvalidation I will use 20-fold cross-validation."
   ]
  },
  {
   "cell_type": "code",
   "execution_count": null,
   "metadata": {},
   "outputs": [],
   "source": [
    "def KfoldCVlogisticReg(D,y,xname,K=20,fitfcn=logisticRegFit,predictfcn=logisticRegPredict):\n",
    "    N = len(y) #Number of observations\n",
    "    yp= np.zeros(N)\n",
    "    ind = np.arange(N)\n",
    "    ind = np.floor(ind/N*K)\n",
    "\n",
    "    # Get overall model fit\n",
    "    LL,b_all=fitfcn(D,y,xname,figure=0)\n",
    "\n",
    "    # Loop over the crossvalidation folds\n",
    "    for i in range(K):\n",
    "        r,b=fitfcn(D[ind!=i],y[ind!=i],xname,b_init=b_all,figure=0)\n",
    "        yp[ind==i]=predictfcn(b,D[ind==i],xname)\n",
    "    LLcv = sum(y*np.log(yp)+(1-y)*np.log(1-yp))\n",
    "    return LLcv,LL"
   ]
  },
  {
   "cell_type": "code",
   "execution_count": null,
   "metadata": {},
   "outputs": [],
   "source": [
    "L0,ll = KfoldCVlogisticReg(D,D.schizophrenia,[],K=20)\n",
    "L1,ll = KfoldCVlogisticReg(D,D.schizophrenia,['sex_ind'],K=20)\n",
    "L2,ll = KfoldCVlogisticReg(D,D.schizophrenia,['income_low'],K=20)\n",
    "L3,ll = KfoldCVlogisticReg(D,D.schizophrenia,['z_motor'],K=20)\n",
    "L4,ll = KfoldCVlogisticReg(D,D.schizophrenia,['z_cognitive'],K=20)\n",
    "print(f'Sex: {L1-L0:.3f} Income:{L2-L0:.3f} motor:{L3-L0:.3f} cognitive:{L4-L0:.3f}')"
   ]
  },
  {
   "cell_type": "markdown",
   "metadata": {},
   "source": [
    "Based on these differences, I would add income as a predictor. "
   ]
  },
  {
   "cell_type": "code",
   "execution_count": null,
   "metadata": {},
   "outputs": [],
   "source": [
    "L21,ll = KfoldCVlogisticReg(D,D.schizophrenia,['income_low','sex_ind'],K=20)\n",
    "L23,ll = KfoldCVlogisticReg(D,D.schizophrenia,['income_low','z_motor'],K=20)\n",
    "L24,ll = KfoldCVlogisticReg(D,D.schizophrenia,['income_low','z_cognitive'],K=20)\n",
    "print(f'Sex: {L21-L2:.3f} motor:{L23-L2:.3f} cognitive:{L24-L2:.3f}')"
   ]
  },
  {
   "cell_type": "markdown",
   "metadata": {},
   "source": [
    "Based on these restuls, we need to add z-scores for the cognitive regions of the cerebellum to the model"
   ]
  },
  {
   "cell_type": "code",
   "execution_count": null,
   "metadata": {},
   "outputs": [],
   "source": [
    "L241,ll = KfoldCVlogisticReg(D,D.schizophrenia,['income_low','z_cognitive','sex_ind'],K=20)\n",
    "L243,ll = KfoldCVlogisticReg(D,D.schizophrenia,['income_low','z_cognitive','z_motor'],K=20)\n",
    "print(f'Sex: {L241-L24:.3f} motor:{L243-L24:.3f}')"
   ]
  },
  {
   "cell_type": "markdown",
   "metadata": {},
   "source": [
    "Based on this result, we would add motor to the model"
   ]
  },
  {
   "cell_type": "code",
   "execution_count": null,
   "metadata": {},
   "outputs": [],
   "source": [
    "L2431,ll = KfoldCVlogisticReg(D,D.schizophrenia,['income_low','z_cognitive','z_motor','sex_ind'],K=20)\n",
    "print(f'Sex: {L2431-L243:.3f}')"
   ]
  },
  {
   "cell_type": "markdown",
   "metadata": {},
   "source": [
    "We are not increasing the model complexity any further, as the log-likelihood is decreasing. So, my final model includes the regression 'income_low','z_cognitive', and 'z_motor'. "
   ]
  },
  {
   "cell_type": "markdown",
   "metadata": {},
   "source": [
    "**Grading:**  \n",
    "* Appropriate model selection strategy described [2pts]\n",
    "* Appropriate evaluation criterion chosen [1pts]\n",
    "* Strategy correctly executed [2pts]\n",
    "* Clear and correct conclusion [1pts]"
   ]
  },
  {
   "cell_type": "markdown",
   "metadata": {},
   "source": [
    "### Question 3.3 (5pts)\n",
    "Independent of your answer to question 3.2, let us assume you think that the model with z_cognitive and z_motor is the best model. \n",
    "\n",
    "You now want to deploy the model to help child psychiatrists identify children at risk of developing schizophrenia. To do this, your model will raise a `red flag` (predict schizophrenia) if the predicted probability that the child will later develop schizophrenia is larger than 0.5. If the probability is below 0.5, your model does not raise a `red flag` (predicts no schizophrenia). \n",
    "\n",
    "Using only the data that you are given, answer the following questions: \n",
    "* Estimate how accurate your model will likely be to predict schizophrenia in a completely **new** sample. \n",
    "* Estimate the sensitivity of your model (the probability of predicting schizophrenia in a person that will develop schizophrenia, again in a new sample). \n",
    "* Estimate the false alarm rate of your model (the probability of predicting schizophrenia in a person that will not develop schizophrenia, again in a new sample)?\n",
    "\n",
    "*Hint: If you cannot figure out how to estimate these numbers for a new sample, report accuracy, sensitivity, and false alarm rate for the present sample for partial points.* "
   ]
  },
  {
   "cell_type": "code",
   "execution_count": null,
   "metadata": {},
   "outputs": [],
   "source": [
    "def cv_pred_logisticReg(D,y,xname,K=20,fitfcn=logisticRegFit,predictfcn=logisticRegPredict):\n",
    "    N = len(y) #Number of observations\n",
    "    yp= np.zeros(N)\n",
    "    ind = np.arange(N)\n",
    "    ind = np.floor(ind/N*K)\n",
    "\n",
    "    # Get overall model fit\n",
    "    LL,b_all=fitfcn(D,y,xname,figure=0)\n",
    "\n",
    "    # Loop over the crossvalidation folds\n",
    "    for i in range(K):\n",
    "        r,b=fitfcn(D[ind!=i],y[ind!=i],xname,b_init=b_all,figure=0)\n",
    "        yp[ind==i]=predictfcn(b,D[ind==i],xname)\n",
    "    return yp"
   ]
  },
  {
   "cell_type": "code",
   "execution_count": null,
   "metadata": {},
   "outputs": [],
   "source": [
    "yp = cv_pred_logisticReg(D,D.schizophrenia,['z_motor','z_cognitive'],20)"
   ]
  },
  {
   "cell_type": "code",
   "execution_count": null,
   "metadata": {},
   "outputs": [],
   "source": [
    "decision = yp>0.5\n",
    "accuracy = (decision == D.schizophrenia).mean()\n",
    "print(f'Accuracy: {accuracy:.3f}')"
   ]
  },
  {
   "cell_type": "code",
   "execution_count": null,
   "metadata": {},
   "outputs": [],
   "source": [
    "sensitivity = (decision & D.schizophrenia).sum()/D.schizophrenia.sum()\n",
    "false_alarm = (decision & (D.schizophrenia==0)).sum()/(D.schizophrenia==0).sum()\n",
    "print(f'sensitivity: {sensitivity:.3f}')\n",
    "print(f'False_alarm: {false_alarm:.3f}')"
   ]
  },
  {
   "cell_type": "markdown",
   "metadata": {},
   "source": [
    "** Grading:**\n",
    "* Get the predictions from a suitable Cross-validation routine [2pts]\n",
    "* Report Accuracy [1pt]\n",
    "* Report Sensitivity [1pt]\n",
    "* Report False alarm [1pt]"
   ]
  },
  {
   "cell_type": "markdown",
   "metadata": {},
   "source": [
    "**Congrats: You are done with the Final and Data Science 2000. This was a challenging course, and if you finished the final, you can be proud of yourself!**"
   ]
  }
 ],
 "metadata": {
  "kernelspec": {
   "display_name": "Python 3 (ipykernel)",
   "language": "python",
   "name": "python3"
  },
  "language_info": {
   "codemirror_mode": {
    "name": "ipython",
    "version": 3
   },
   "file_extension": ".py",
   "mimetype": "text/x-python",
   "name": "python",
   "nbconvert_exporter": "python",
   "pygments_lexer": "ipython3",
   "version": "3.9.5"
  }
 },
 "nbformat": 4,
 "nbformat_minor": 2
}
