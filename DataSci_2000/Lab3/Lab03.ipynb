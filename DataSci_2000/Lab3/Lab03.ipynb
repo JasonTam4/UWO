{
 "cells": [
  {
   "cell_type": "markdown",
   "metadata": {},
   "source": [
    "# Lab Tutorial 03\n",
    "### Learning Outcomes \n",
    "In this tutorial we will learn \n",
    "- how to define a function\n",
    "- initialize a numpy array\n",
    "- use while or for loops to iteratively update that numpy array\n",
    "- randomly sample from data with and without replacements\n",
    "- how to get the qth percentile of the data"
   ]
  },
  {
   "cell_type": "markdown",
   "metadata": {},
   "source": [
    "# Importing packages"
   ]
  },
  {
   "cell_type": "code",
   "execution_count": 2,
   "metadata": {},
   "outputs": [],
   "source": [
    "import pandas as pd\n",
    "import numpy as np\n",
    "\n",
    "import seaborn as sns\n",
    "import matplotlib\n",
    "matplotlib.use('TkAgg') ## is to instruct matplotlib to use the TkAgg backend\n",
    "## allowing your plots to be displayed in an interactive Tkinter window.\n",
    "import matplotlib.pyplot as plt \n",
    "%matplotlib inline"
   ]
  },
  {
   "cell_type": "markdown",
   "metadata": {},
   "source": [
    "# Defining a function"
   ]
  },
  {
   "cell_type": "markdown",
   "metadata": {},
   "source": [
    "## A simple function: without input and output"
   ]
  },
  {
   "cell_type": "code",
   "execution_count": 40,
   "metadata": {},
   "outputs": [
    {
     "name": "stdout",
     "output_type": "stream",
     "text": [
      "this is my function\n",
      "this is my function\n"
     ]
    }
   ],
   "source": [
    "## if we want to print a sentence : this is my function\n",
    "## 1. f-string  \n",
    "print(f\"this is my function\")\n",
    "## 2. print \n",
    "print(\"this is my function\")\n",
    "## 3. define a simple function to print"
   ]
  },
  {
   "cell_type": "code",
   "execution_count": 41,
   "metadata": {},
   "outputs": [],
   "source": [
    "def myFunction(): # no input and output. Just printing\n",
    "    print('this is my function')  "
   ]
  },
  {
   "cell_type": "code",
   "execution_count": 43,
   "metadata": {},
   "outputs": [
    {
     "name": "stdout",
     "output_type": "stream",
     "text": [
      "this is my function\n"
     ]
    }
   ],
   "source": [
    "myFunction()  "
   ]
  },
  {
   "cell_type": "markdown",
   "metadata": {},
   "source": [
    "## Function with input"
   ]
  },
  {
   "cell_type": "code",
   "execution_count": 47,
   "metadata": {},
   "outputs": [],
   "source": [
    "def print_name(name): # a simple function with a string as input\n",
    "    print('my name is %s' % name)\n",
    "    return"
   ]
  },
  {
   "cell_type": "code",
   "execution_count": 48,
   "metadata": {},
   "outputs": [
    {
     "name": "stdout",
     "output_type": "stream",
     "text": [
      "my name is ladan\n"
     ]
    }
   ],
   "source": [
    "print_name('ladan')"
   ]
  },
  {
   "cell_type": "markdown",
   "metadata": {},
   "source": [
    "## Function with input and output\n",
    "- simple function \n",
    "- using while and for loops within functions"
   ]
  },
  {
   "cell_type": "code",
   "execution_count": 7,
   "metadata": {},
   "outputs": [],
   "source": [
    "def add_vals(a, b): # a function that takes two inputs and return their sum in the output\n",
    "    # takes in two values and returns their sum in the output\n",
    "    # inputs: a - first number\n",
    "    #         b - second number\n",
    "    # outputs: s - sum of a and b\n",
    "    s = a + b\n",
    "    return s "
   ]
  },
  {
   "cell_type": "code",
   "execution_count": 8,
   "metadata": {},
   "outputs": [
    {
     "name": "stdout",
     "output_type": "stream",
     "text": [
      "Adding 100 and 45 will result in 145\n",
      "Adding 100.02 and 45.009 will result in 145.029000\n"
     ]
    }
   ],
   "source": [
    "print(f'Adding 100 and 45 will result in {add_vals(100, 45):d}') \n",
    "print(f'Adding 100.02 and 45.009 will result in {add_vals(100.02, 45.009):f}')"
   ]
  },
  {
   "cell_type": "code",
   "execution_count": 57,
   "metadata": {},
   "outputs": [],
   "source": [
    "# how to set default values for function inputs?\n",
    "# How will the function operate with and without set default values\n",
    "## with default values \n",
    "## 2! = 2! * 1! \n",
    "## 3! = 3! * 2! * 1!  \n",
    "def factorial1(n = 1):\n",
    "    # Calculates n! \n",
    "    # Input: n - the number for which we want to calculate the factorial\n",
    "    # Output: f - n!\n",
    "    \n",
    "    f = 1 # initialize the variable that will have the factorial\n",
    "    i = 1 \n",
    "    while i <= n: ## 1 <= 2        ## i = 2 <= n= 2    ## i = 3 <= N = 2? (FALSE --> stop while)\n",
    "        f = f * i ## f = 1*1 = 1   ## f = 1*2 = 2\n",
    "        i = i + 1 ## i = 1+1 = 2   ## i = 2+1 = 3 \n",
    "        \n",
    "    return f\n"
   ]
  },
  {
   "cell_type": "code",
   "execution_count": 58,
   "metadata": {},
   "outputs": [
    {
     "data": {
      "text/plain": [
       "1"
      ]
     },
     "execution_count": 58,
     "metadata": {},
     "output_type": "execute_result"
    }
   ],
   "source": [
    "myF = factorial1()\n",
    "myF"
   ]
  },
  {
   "cell_type": "code",
   "execution_count": 59,
   "metadata": {},
   "outputs": [],
   "source": [
    "## without default values\n",
    "def factorial2(n): \n",
    "    # Calculates n!\n",
    "    # Input: n - the number for which we want to calculate the factorial\n",
    "    # Output: f - n!\n",
    "    \n",
    "    f = 1 # initialize the variable that will have the factorial\n",
    "    i = 1 \n",
    "    while i <= n:  ## 1 <= 2        ## i = 2 <= n= 2    ## i = 3 <= N = 2? (FALSE --> stop while)\n",
    "        f = f * i  ## f = 1*1 = 1   ## f = 1*2 = 2\n",
    "        i = i + 1  ## i = 1+1 = 2   ## i = 2+1 = 3 \n",
    "        \n",
    "    return f"
   ]
  },
  {
   "cell_type": "code",
   "execution_count": 60,
   "metadata": {},
   "outputs": [
    {
     "data": {
      "text/plain": [
       "2"
      ]
     },
     "execution_count": 60,
     "metadata": {},
     "output_type": "execute_result"
    }
   ],
   "source": [
    "myF2 = factorial2(2)\n",
    "myF2"
   ]
  },
  {
   "cell_type": "markdown",
   "metadata": {},
   "source": [
    "# Random sampling from data"
   ]
  },
  {
   "cell_type": "markdown",
   "metadata": {},
   "source": [
    "## generate random data "
   ]
  },
  {
   "cell_type": "code",
   "execution_count": 61,
   "metadata": {},
   "outputs": [
    {
     "data": {
      "text/plain": [
       "(array([  5.,  15.,  76., 181., 236., 229., 172.,  62.,  22.,   2.]),\n",
       " array([-3.04625177, -2.43074971, -1.81524765, -1.19974559, -0.58424353,\n",
       "         0.03125853,  0.64676059,  1.26226265,  1.87776471,  2.49326677,\n",
       "         3.10876883]),\n",
       " <BarContainer object of 10 artists>)"
      ]
     },
     "execution_count": 61,
     "metadata": {},
     "output_type": "execute_result"
    },
    {
     "data": {
      "image/png": "[encoded data removed]",
      "text/plain": [
       "<Figure size 640x480 with 1 Axes>"
      ]
     },
     "metadata": {},
     "output_type": "display_data"
    }
   ],
   "source": [
    "d = np.random.normal(size = 1000) # 1000 samples (numbers) drawn from normal distribution\n",
    "plt.hist(d) "
   ]
  },
  {
   "cell_type": "markdown",
   "metadata": {},
   "source": [
    "## random sampling from data\n",
    "- with replacement\n",
    "- without replacement\n",
    "\n",
    "Question to class: Why do we sample with replacement in the bootstrap? "
   ]
  },
  {
   "cell_type": "code",
   "execution_count": 64,
   "metadata": {},
   "outputs": [
    {
     "data": {
      "text/plain": [
       "'Bootstrapping statistics is a form of hypothesis testing that involves resampling a single data set to create a multitude of simulated samples. Those samples are used to calculate standard errors, confidence intervals and for hypothesis testing.'"
      ]
     },
     "execution_count": 64,
     "metadata": {},
     "output_type": "execute_result"
    }
   ],
   "source": [
    "\"\"\"\n",
    "what is bootstrapping? \n",
    "Bootstrapping statistics is a form of hypothesis testing that involves resampling a single data set to create a multitude of simulated samples. Those samples are used to calculate standard errors, confidence intervals and for hypothesis testing. \n",
    "\n",
    "what is bootstrap sample? \n",
    "The sample we get from sampling from the data with replacement is called the bootstrap sample. \n",
    "\n",
    "why replacement?\n",
    "1.Sampling with replacement is important. If we did not sample with replacement, we would always get the same sample median as the observed value. \n",
    "2.replacement allows a single sample observation to represent multiple observations in the population which have similar values.\n",
    "\"\"\""
   ]
  },
  {
   "cell_type": "markdown",
   "metadata": {},
   "source": [
    "### random sampling from the generated data"
   ]
  },
  {
   "cell_type": "code",
   "execution_count": 66,
   "metadata": {},
   "outputs": [],
   "source": [
    "##  recall\n",
    "## d = np.random.normal(size = 1000) # 1000 samples (numbers) drawn from normal distribution"
   ]
  },
  {
   "cell_type": "code",
   "execution_count": 14,
   "metadata": {},
   "outputs": [
    {
     "data": {
      "text/plain": [
       "array([-0.64780294, -0.66660754, -0.97717732,  0.20792807, -2.60310583,\n",
       "       -2.53699231, -0.66791843,  0.49277474,  0.0582973 , -1.24494435,\n",
       "        0.51456333,  0.30104315, -1.9657063 ,  0.3100116 , -0.14733352,\n",
       "       -0.09753695,  0.5435793 , -1.42545539, -0.47392989, -0.89776382,\n",
       "        2.43699764, -0.06406698,  0.1843519 , -0.16201132,  0.83739463])"
      ]
     },
     "execution_count": 14,
     "metadata": {},
     "output_type": "execute_result"
    }
   ],
   "source": [
    "sample = np.random.choice(d, size = 25, replace = True) \n",
    "# Whether the sample is with or without replacement. \n",
    "# Default is True, meaning that a value of a can be selected multiple times.\n",
    "sample.shape \n",
    "sample"
   ]
  },
  {
   "cell_type": "markdown",
   "metadata": {},
   "source": [
    "### random sampling (random numbers) from a range of numbers (from the lecture notes)"
   ]
  },
  {
   "cell_type": "code",
   "execution_count": 69,
   "metadata": {},
   "outputs": [
    {
     "data": {
      "text/plain": [
       "range(0, 2)"
      ]
     },
     "execution_count": 69,
     "metadata": {},
     "output_type": "execute_result"
    }
   ],
   "source": [
    "range(146) ##  never include number of 146"
   ]
  },
  {
   "cell_type": "code",
   "execution_count": 15,
   "metadata": {},
   "outputs": [
    {
     "data": {
      "text/plain": [
       "array([127,  94,  52,  67,  81,  26,  55,  11,  20,  60, 123,  72, 116,\n",
       "        89,  57,  48,  66, 144,  21,  75,   7,  32, 103, 109, 114])"
      ]
     },
     "execution_count": 15,
     "metadata": {},
     "output_type": "execute_result"
    }
   ],
   "source": [
    "sample2 = np.random.choice(range(146), size = 25, replace = False) ## never include number of 146\n",
    "sample2"
   ]
  },
  {
   "cell_type": "markdown",
   "metadata": {},
   "source": [
    "## A function to simulate random numbers N times"
   ]
  },
  {
   "cell_type": "code",
   "execution_count": 16,
   "metadata": {},
   "outputs": [
    {
     "data": {
      "text/plain": [
       "array([[0., 0., 0., 0., 0., 0., 0., 0., 0., 0., 0., 0., 0., 0., 0., 0.,\n",
       "        0., 0., 0., 0., 0., 0., 0., 0., 0.],\n",
       "       [0., 0., 0., 0., 0., 0., 0., 0., 0., 0., 0., 0., 0., 0., 0., 0.,\n",
       "        0., 0., 0., 0., 0., 0., 0., 0., 0.]])"
      ]
     },
     "execution_count": 16,
     "metadata": {},
     "output_type": "execute_result"
    }
   ],
   "source": [
    "np.zeros((2, 25)) ## 25 zeros in each array, and we have 2 arrays combined"
   ]
  },
  {
   "cell_type": "code",
   "execution_count": 95,
   "metadata": {},
   "outputs": [],
   "source": [
    "# using print statements to check the output of each line\n",
    "def N_random_sample(data, N = 1000, sample_size = 25):\n",
    "    # randomly draws \"sample_size\" samples from a normal distribution\n",
    "    # repeat this operation N times\n",
    "    # outputs the randomly drawn samples in a numpy array\n",
    "    # Inputs: N           - number of iterations\n",
    "    #         sample_size - number of samples that are to be drawn from normal distribution\n",
    "    #         data        - data\n",
    "    # Outputs: Nsamp      - numpy array that have all the randomly drawn samples\n",
    "    \n",
    "    \n",
    "    # initializing: \n",
    "    ## the output matrix (numpy array)\\\n",
    "    Nsamp  = np.zeros((N, sample_size)) # each row of this matrix will be sample_size randomly drawn samples\n",
    "    ## loop variable\n",
    "    iter = 1 # iteration number\n",
    "    while iter < N:\n",
    "        print(f\"iteration {iter}\")\n",
    "        Nsamp[iter, :] = np.random.choice(data, size = sample_size, replace = True) # replace = False?\n",
    "        \n",
    "        \n",
    "        iter = iter + 1\n",
    "    return Nsamp"
   ]
  },
  {
   "cell_type": "code",
   "execution_count": 97,
   "metadata": {},
   "outputs": [
    {
     "name": "stdout",
     "output_type": "stream",
     "text": [
      "iteration 1\n",
      "iteration 2\n",
      "iteration 3\n",
      "iteration 4\n",
      "iteration 5\n",
      "iteration 6\n",
      "iteration 7\n",
      "iteration 8\n",
      "iteration 9\n",
      "iteration 10\n",
      "iteration 11\n",
      "[[ 0.  0.]\n",
      " [79. 58.]\n",
      " [60. 32.]\n",
      " [54. 49.]\n",
      " [84. 15.]\n",
      " [73. 99.]\n",
      " [63. 15.]\n",
      " [90. 41.]\n",
      " [79. 43.]\n",
      " [45. 77.]\n",
      " [86. 66.]\n",
      " [42. 24.]]\n"
     ]
    }
   ],
   "source": [
    " ## check \n",
    "data = np.arange(1, 101)  # Example data: integers from 1 to 100\n",
    "samples = N_random_sample(data, N=12, sample_size=2) ## 12 iteration & 2 sample number in each \n",
    "print(samples)"
   ]
  },
  {
   "cell_type": "code",
   "execution_count": 18,
   "metadata": {},
   "outputs": [
    {
     "data": {
      "text/plain": [
       "(array([ 11.,  46.,  91., 167., 212., 198., 151.,  83.,  28.,  13.]),\n",
       " array([-2.66279634, -2.11032966, -1.55786298, -1.0053963 , -0.45292962,\n",
       "         0.09953706,  0.65200374,  1.20447042,  1.7569371 ,  2.30940378,\n",
       "         2.86187045]),\n",
       " <BarContainer object of 10 artists>)"
      ]
     },
     "execution_count": 18,
     "metadata": {},
     "output_type": "execute_result"
    },
    {
     "data": {
      "image/png": "[encoded data removed]",
      "text/plain": [
       "<Figure size 640x480 with 1 Axes>"
      ]
     },
     "metadata": {},
     "output_type": "display_data"
    }
   ],
   "source": [
    "# again generate data\n",
    "d = np.random.normal(size = 1000) # 1000 samples (numbers) drawn from normal distribution\n",
    "plt.hist(d)"
   ]
  },
  {
   "cell_type": "code",
   "execution_count": 19,
   "metadata": {},
   "outputs": [
    {
     "name": "stdout",
     "output_type": "stream",
     "text": [
      "[[ 0.          0.          0.          0.          0.          0.\n",
      "   0.          0.          0.          0.          0.          0.\n",
      "   0.          0.          0.          0.          0.          0.\n",
      "   0.          0.          0.          0.          0.          0.\n",
      "   0.        ]\n",
      " [ 0.2052407   0.56144798  0.16163317  0.12121584 -1.05223747  1.2889075\n",
      "  -0.76757253  0.13088339  0.47995408  1.16365874  1.23325963  1.42446273\n",
      "  -0.82967432  0.48573542 -1.930222    0.39270077  0.3591948  -0.22272855\n",
      "   0.40681774  0.03037462  0.51364242  0.12274012  2.01158423  0.2928329\n",
      "   0.73884536]\n",
      " [ 0.37639771  0.76769834  0.94312823 -0.49288918 -1.20280223 -0.13817074\n",
      "  -0.84788253 -0.65713635 -0.4799287  -1.14744742 -0.74425228  0.52887153\n",
      "  -0.74287051  0.66305897  0.20421142  0.44572604  0.08801107 -0.41111687\n",
      "  -0.56415828  0.58382917  0.38931354  1.61828308  0.22790368 -0.5618471\n",
      "  -0.8520177 ]\n",
      " [-0.06807613  0.68290313  0.44572604 -0.3986378   2.01158423  0.15772505\n",
      "  -1.32381393  0.38931354 -1.65238918 -0.33430045 -1.26554157  0.42226788\n",
      "  -0.77340362  0.12121584  1.02901312  1.48878605 -1.03024684 -0.24009683\n",
      "   0.29869921 -1.00250878  0.20333685 -0.22272855  0.88939688 -0.46037314\n",
      "   0.74123504]\n",
      " [ 0.58552084  0.46772595 -1.7141771  -0.8118489  -2.02120344 -1.02089673\n",
      "  -0.99177019  1.02836906 -0.82471558  0.2928329   0.01544417 -1.17582803\n",
      "  -0.96166367 -0.0409743   1.15229108  0.92078344  0.46130622  0.03037462\n",
      "  -0.80930789 -0.19782997  1.88258924 -0.02078596  1.03060704  0.26630956\n",
      "   1.29790629]\n",
      " [ 0.74123504  1.37901464  0.18447102 -1.94377817  0.8961547  -0.20132166\n",
      "  -0.21625245  0.26797678  0.74239042  1.65732621  0.10031441  1.87983141\n",
      "  -0.04421441  0.26470542  0.01403345 -0.48211042 -0.69684913 -0.80930789\n",
      "   0.12477737  0.71251223 -0.16470833  0.52133531  0.27232837  0.05249738\n",
      "  -1.24015029]\n",
      " [-0.86131967  0.45678729 -0.32087986  0.84281234  0.45899814  1.455694\n",
      "  -0.10804156 -1.24015029  0.28664725  0.27851463  0.0081482   0.25839786\n",
      "   0.71641433  1.51283016 -0.10310198  1.69156816 -2.30801948  1.3646226\n",
      "  -0.29543289 -1.4705043  -0.91546794 -0.40425972 -0.92130271  2.04279163\n",
      "   0.28929343]\n",
      " [-0.32477502 -0.25895189 -2.43936328  1.62110222 -1.97898701  0.18520814\n",
      "  -0.65023722  0.25385899 -1.30278769 -0.27762275  0.94348743  0.02131667\n",
      "   1.01149932  0.18891479 -1.79024923 -1.07511727  0.96309552 -0.94734661\n",
      "  -2.44611575 -0.58019665  0.07050803  0.28319404 -1.19410636 -1.21786579\n",
      "   0.96551845]\n",
      " [-2.34066839  0.67847403  0.01161023  0.59789166 -1.07511727  0.65109155\n",
      "   0.22790368 -1.12068016 -0.94513122 -0.89069943 -0.89525428 -0.3212887\n",
      "  -1.10078606 -1.39645393  0.12918977 -0.85625115 -0.72898269 -0.70954265\n",
      "   0.03328441  0.03037462  1.23266784 -1.15714171 -1.14175079  1.23325963\n",
      "   1.50242533]\n",
      " [-1.19981973  0.50540993 -1.75815035 -1.1464398  -0.33607736 -0.09478701\n",
      "  -0.1967808   0.41376381  1.56640134  0.71948737 -1.69979312  0.56144798\n",
      "   1.3154806  -0.23135289  1.93320791 -0.19213951  0.028238    0.03037462\n",
      "   0.09388779  0.93512362  1.06466556  2.02124154  0.01507745  2.01158423\n",
      "   0.70998015]]\n"
     ]
    }
   ],
   "source": [
    "samples= N_random_sample(N = 10, sample_size = 25, data = d)\n",
    "print(samples)"
   ]
  },
  {
   "cell_type": "markdown",
   "metadata": {},
   "source": [
    "## A function to be applied to numbers as input"
   ]
  },
  {
   "cell_type": "code",
   "execution_count": 20,
   "metadata": {},
   "outputs": [],
   "source": [
    "def myFunction(a, fcn = np.sqrt):\n",
    "    # taked array a and apply function fcn to array a\n",
    "    # Inputs:  a      - the array of numbers\n",
    "    #          fcn    - function to be applied to array a\n",
    "    # Outputs: Result - Result of applying fcn to array a\n",
    "    \n",
    "    Result = fcn(a)\n",
    "    \n",
    "    return Result"
   ]
  },
  {
   "cell_type": "code",
   "execution_count": 21,
   "metadata": {},
   "outputs": [
    {
     "name": "stdout",
     "output_type": "stream",
     "text": [
      "[0.         1.         1.41421356 1.73205081 2.         2.23606798\n",
      " 2.44948974 2.64575131 2.82842712 3.        ]\n"
     ]
    }
   ],
   "source": [
    "Results1 = myFunction(range(10)) # range(10) : means number form 0 to 9(never include 10)\n",
    "print(Results1) ## = np.sqrt(0) to np.sqrt(9)"
   ]
  },
  {
   "cell_type": "code",
   "execution_count": 22,
   "metadata": {},
   "outputs": [
    {
     "data": {
      "text/plain": [
       "3.0"
      ]
     },
     "execution_count": 22,
     "metadata": {},
     "output_type": "execute_result"
    }
   ],
   "source": [
    "np.sqrt(9)"
   ]
  },
  {
   "cell_type": "code",
   "execution_count": 23,
   "metadata": {},
   "outputs": [
    {
     "name": "stdout",
     "output_type": "stream",
     "text": [
      "2.86187045470396\n"
     ]
    }
   ],
   "source": [
    "Results2 = myFunction(d, fcn = np.max) ## np.max(d)\n",
    "print(Results2)"
   ]
  },
  {
   "cell_type": "code",
   "execution_count": 24,
   "metadata": {},
   "outputs": [
    {
     "name": "stdout",
     "output_type": "stream",
     "text": [
      "0.0392083934980224\n"
     ]
    }
   ],
   "source": [
    "Results3 = myFunction(d, fcn = np.mean) ## np.mean(d)\n",
    "print(Results3)"
   ]
  },
  {
   "cell_type": "code",
   "execution_count": 25,
   "metadata": {},
   "outputs": [
    {
     "name": "stdout",
     "output_type": "stream",
     "text": [
      "0.9885812264385646\n"
     ]
    }
   ],
   "source": [
    "Results4 = myFunction(d, fcn = np.std)\n",
    "print(Results4)"
   ]
  },
  {
   "cell_type": "markdown",
   "metadata": {},
   "source": [
    "## bootstrap pseudocode"
   ]
  },
  {
   "cell_type": "markdown",
   "metadata": {},
   "source": [
    "For 10000 times: (use for or while loop)\n",
    "    \n",
    "    * resample N data points **with replacement**\n",
    "    * calculate the sample statistic \n",
    "    * record sample statistic (store it in a numpy array that you have initialized before the loop)\n",
    "    \n",
    "   return recorded sample statistics (distribution of sample statistic)"
   ]
  },
  {
   "cell_type": "markdown",
   "metadata": {},
   "source": [
    "# Getting the qth percentile \n",
    "(Lecture notes - first slide for confidence interval: slide 21)"
   ]
  },
  {
   "cell_type": "markdown",
   "metadata": {},
   "source": [
    "There are two ways to do it:\n",
    "- https://docs.scipy.org/doc/numpy/reference/generated/numpy.quantile.html\n",
    "- https://docs.scipy.org/doc/numpy/reference/generated/numpy.percentile.html"
   ]
  },
  {
   "cell_type": "code",
   "execution_count": 26,
   "metadata": {},
   "outputs": [
    {
     "data": {
      "text/plain": [
       "-1.2056730332194785"
      ]
     },
     "execution_count": 26,
     "metadata": {},
     "output_type": "execute_result"
    }
   ],
   "source": [
    "np.quantile(d, q = 0.1) ## Compute the q-th quantile of the data along the specified axis.\n",
    "\n",
    "## q=0.5 means  = median（第 50 分位点）  \n",
    "# np.quantile(d, q = 0.5)  "
   ]
  },
  {
   "cell_type": "code",
   "execution_count": 27,
   "metadata": {},
   "outputs": [
    {
     "data": {
      "text/plain": [
       "-1.2056730332194785"
      ]
     },
     "execution_count": 27,
     "metadata": {},
     "output_type": "execute_result"
    }
   ],
   "source": [
    "np.percentile(d, q = 10) ## Compute the q-th percentile of the data along the specified axis.\n",
    "#Returns the q-th percentile(s) of the array elements.  \n",
    "\n",
    "## quantile(q) = percentile(q×100)     "
   ]
  },
  {
   "cell_type": "markdown",
   "metadata": {},
   "source": [
    "# plotting vertical and horizental lines"
   ]
  },
  {
   "cell_type": "code",
   "execution_count": 30,
   "metadata": {},
   "outputs": [
    {
     "data": {
      "text/plain": [
       "<matplotlib.lines.Line2D at 0x7f8dafc28430>"
      ]
     },
     "execution_count": 30,
     "metadata": {},
     "output_type": "execute_result"
    },
    {
     "data": {
      "image/png": "[encoded data removed]",
      "text/plain": [
       "<Figure size 640x480 with 1 Axes>"
      ]
     },
     "metadata": {},
     "output_type": "display_data"
    }
   ],
   "source": [
    "# plot the histogram for the data and draw a vertical red line at 95th percentile\n",
    "plt.hist(d) \n",
    "plt.axvline(x = np.percentile(d, q = 95), color = 'r') "
   ]
  },
  {
   "cell_type": "code",
   "execution_count": 31,
   "metadata": {},
   "outputs": [
    {
     "data": {
      "text/plain": [
       "2.86187045470396"
      ]
     },
     "execution_count": 31,
     "metadata": {},
     "output_type": "execute_result"
    }
   ],
   "source": [
    "d.max()"
   ]
  },
  {
   "cell_type": "markdown",
   "metadata": {},
   "source": [
    "# About the Assignment\n"
   ]
  },
  {
   "cell_type": "markdown",
   "metadata": {},
   "source": [
    "## Task 2 - Question 1\n",
    "- Correction: What is the mean finishing time in the whole population of runners? Written answer: How much does it differ from the mean finishing time of the sample analyzed in Task 1\n",
    "- To Answer the question, Calculate proportions and means and justify your answer with the numbers you have calculated"
   ]
  },
  {
   "cell_type": "markdown",
   "metadata": {},
   "source": [
    "More on groupby: https://pandas.pydata.org/pandas-docs/stable/user_guide/groupby.html\n",
    "- use groupby to get a groupby object\n",
    "- You can use groups.keys() to get the group keys\n",
    "- Use get_group() with one of the keys to get the data for that group\n",
    "- Use .count() or .size() the same way as you did with .mean()\n"
   ]
  },
  {
   "cell_type": "code",
   "execution_count": 32,
   "metadata": {},
   "outputs": [],
   "source": [
    "df = pd.DataFrame({'A': ['foo', 'bar', 'f\n",
    "                         oo', 'bar',\n",
    "                         'foo', 'bar', 'foo', 'foo'],\n",
    "                    'B': ['one', 'one', 'two', 'three',\n",
    "                            'two', 'two', 'one', 'three'],\n",
    "                    'C': np.random.randn(8),\n",
    "                    'D': np.random.randn(8)})"
   ]
  },
  {
   "cell_type": "code",
   "execution_count": 33,
   "metadata": {},
   "outputs": [
    {
     "data": {
      "text/html": [
       "<div>\n",
       "<style scoped>\n",
       "    .dataframe tbody tr th:only-of-type {\n",
       "        vertical-align: middle;\n",
       "    }\n",
       "\n",
       "    .dataframe tbody tr th {\n",
       "        vertical-align: top;\n",
       "    }\n",
       "\n",
       "    .dataframe thead th {\n",
       "        text-align: right;\n",
       "    }\n",
       "</style>\n",
       "<table border=\"1\" class=\"dataframe\">\n",
       "  <thead>\n",
       "    <tr style=\"text-align: right;\">\n",
       "      <th></th>\n",
       "      <th>A</th>\n",
       "      <th>B</th>\n",
       "      <th>C</th>\n",
       "      <th>D</th>\n",
       "    </tr>\n",
       "  </thead>\n",
       "  <tbody>\n",
       "    <tr>\n",
       "      <th>0</th>\n",
       "      <td>foo</td>\n",
       "      <td>one</td>\n",
       "      <td>0.049998</td>\n",
       "      <td>0.014455</td>\n",
       "    </tr>\n",
       "    <tr>\n",
       "      <th>1</th>\n",
       "      <td>bar</td>\n",
       "      <td>one</td>\n",
       "      <td>0.778488</td>\n",
       "      <td>0.208411</td>\n",
       "    </tr>\n",
       "    <tr>\n",
       "      <th>2</th>\n",
       "      <td>foo</td>\n",
       "      <td>two</td>\n",
       "      <td>-0.413977</td>\n",
       "      <td>-0.413695</td>\n",
       "    </tr>\n",
       "    <tr>\n",
       "      <th>3</th>\n",
       "      <td>bar</td>\n",
       "      <td>three</td>\n",
       "      <td>-0.324717</td>\n",
       "      <td>0.076633</td>\n",
       "    </tr>\n",
       "    <tr>\n",
       "      <th>4</th>\n",
       "      <td>foo</td>\n",
       "      <td>two</td>\n",
       "      <td>0.696744</td>\n",
       "      <td>-0.234470</td>\n",
       "    </tr>\n",
       "    <tr>\n",
       "      <th>5</th>\n",
       "      <td>bar</td>\n",
       "      <td>two</td>\n",
       "      <td>0.086005</td>\n",
       "      <td>0.351196</td>\n",
       "    </tr>\n",
       "    <tr>\n",
       "      <th>6</th>\n",
       "      <td>foo</td>\n",
       "      <td>one</td>\n",
       "      <td>-0.370265</td>\n",
       "      <td>-0.658507</td>\n",
       "    </tr>\n",
       "    <tr>\n",
       "      <th>7</th>\n",
       "      <td>foo</td>\n",
       "      <td>three</td>\n",
       "      <td>-0.867727</td>\n",
       "      <td>-0.175382</td>\n",
       "    </tr>\n",
       "  </tbody>\n",
       "</table>\n",
       "</div>"
      ],
      "text/plain": [
       "     A      B         C         D\n",
       "0  foo    one  0.049998  0.014455\n",
       "1  bar    one  0.778488  0.208411\n",
       "2  foo    two -0.413977 -0.413695\n",
       "3  bar  three -0.324717  0.076633\n",
       "4  foo    two  0.696744 -0.234470\n",
       "5  bar    two  0.086005  0.351196\n",
       "6  foo    one -0.370265 -0.658507\n",
       "7  foo  three -0.867727 -0.175382"
      ]
     },
     "metadata": {},
     "output_type": "display_data"
    }
   ],
   "source": [
    "display(df) "
   ]
  },
  {
   "cell_type": "code",
   "execution_count": 34,
   "metadata": {},
   "outputs": [
    {
     "data": {
      "text/plain": [
       "dict_keys(['bar', 'foo'])"
      ]
     },
     "execution_count": 34,
     "metadata": {},
     "output_type": "execute_result"
    }
   ],
   "source": [
    "grouped = df.groupby(df['A'])\n",
    "grouped.groups.keys() "
   ]
  },
  {
   "cell_type": "code",
   "execution_count": 35,
   "metadata": {},
   "outputs": [
    {
     "data": {
      "text/plain": [
       "A    3\n",
       "B    3\n",
       "C    3\n",
       "D    3\n",
       "dtype: int64"
      ]
     },
     "execution_count": 35,
     "metadata": {},
     "output_type": "execute_result"
    }
   ],
   "source": [
    "bar_group = grouped.get_group('bar').count()\n",
    "bar_group"
   ]
  },
  {
   "cell_type": "code",
   "execution_count": 36,
   "metadata": {},
   "outputs": [
    {
     "data": {
      "text/html": [
       "<div>\n",
       "<style scoped>\n",
       "    .dataframe tbody tr th:only-of-type {\n",
       "        vertical-align: middle;\n",
       "    }\n",
       "\n",
       "    .dataframe tbody tr th {\n",
       "        vertical-align: top;\n",
       "    }\n",
       "\n",
       "    .dataframe thead th {\n",
       "        text-align: right;\n",
       "    }\n",
       "</style>\n",
       "<table border=\"1\" class=\"dataframe\">\n",
       "  <thead>\n",
       "    <tr style=\"text-align: right;\">\n",
       "      <th></th>\n",
       "      <th>A</th>\n",
       "      <th>B</th>\n",
       "      <th>C</th>\n",
       "      <th>D</th>\n",
       "    </tr>\n",
       "  </thead>\n",
       "  <tbody>\n",
       "    <tr>\n",
       "      <th>0</th>\n",
       "      <td>foo</td>\n",
       "      <td>one</td>\n",
       "      <td>0.049998</td>\n",
       "      <td>0.014455</td>\n",
       "    </tr>\n",
       "    <tr>\n",
       "      <th>2</th>\n",
       "      <td>foo</td>\n",
       "      <td>two</td>\n",
       "      <td>-0.413977</td>\n",
       "      <td>-0.413695</td>\n",
       "    </tr>\n",
       "    <tr>\n",
       "      <th>4</th>\n",
       "      <td>foo</td>\n",
       "      <td>two</td>\n",
       "      <td>0.696744</td>\n",
       "      <td>-0.234470</td>\n",
       "    </tr>\n",
       "    <tr>\n",
       "      <th>6</th>\n",
       "      <td>foo</td>\n",
       "      <td>one</td>\n",
       "      <td>-0.370265</td>\n",
       "      <td>-0.658507</td>\n",
       "    </tr>\n",
       "    <tr>\n",
       "      <th>7</th>\n",
       "      <td>foo</td>\n",
       "      <td>three</td>\n",
       "      <td>-0.867727</td>\n",
       "      <td>-0.175382</td>\n",
       "    </tr>\n",
       "  </tbody>\n",
       "</table>\n",
       "</div>"
      ],
      "text/plain": [
       "     A      B         C         D\n",
       "0  foo    one  0.049998  0.014455\n",
       "2  foo    two -0.413977 -0.413695\n",
       "4  foo    two  0.696744 -0.234470\n",
       "6  foo    one -0.370265 -0.658507\n",
       "7  foo  three -0.867727 -0.175382"
      ]
     },
     "execution_count": 36,
     "metadata": {},
     "output_type": "execute_result"
    }
   ],
   "source": [
    "foo_group = grouped.get_group('foo')\n",
    "foo_group"
   ]
  },
  {
   "cell_type": "code",
   "execution_count": 37,
   "metadata": {},
   "outputs": [
    {
     "data": {
      "text/plain": [
       "A    5\n",
       "B    5\n",
       "C    5\n",
       "D    5\n",
       "dtype: int64"
      ]
     },
     "execution_count": 37,
     "metadata": {},
     "output_type": "execute_result"
    }
   ],
   "source": [
    "nFoo = foo_group.count()\n",
    "nFoo"
   ]
  }
 ],
 "metadata": {
  "kernelspec": {
   "display_name": "Python 3 (ipykernel)",
   "language": "python",
   "name": "python3"
  },
  "language_info": {
   "codemirror_mode": {
    "name": "ipython",
    "version": 3
   },
   "file_extension": ".py",
   "mimetype": "text/x-python",
   "name": "python",
   "nbconvert_exporter": "python",
   "pygments_lexer": "ipython3",
   "version": "3.8.8"
  }
 },
 "nbformat": 4,
 "nbformat_minor": 2
}
