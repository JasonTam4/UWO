{
 "cells": [
  {
   "cell_type": "markdown",
   "metadata": {},
   "source": [
    "# Lab Tutorial 03\n",
    "### Learning Outcomes \n",
    "In this tutorial we will learn \n",
    "- how to define a function\n",
    "- initialize a numpy array\n",
    "- use while or for loops to iteratively update that numpy array\n",
    "- randomly sample from data with and without replacements\n",
    "- how to get the qth percentile of the data"
   ]
  },
  {
   "cell_type": "markdown",
   "metadata": {},
   "source": [
    "# Importing packages"
   ]
  },
  {
   "cell_type": "code",
   "execution_count": 53,
   "metadata": {},
   "outputs": [],
   "source": [
    "import pandas as pd\n",
    "import numpy as np\n",
    "import seaborn as sns\n",
    "import matplotlib\n",
    "matplotlib.use('TKAgg')\n",
    "import matplotlib.pyplot as plt  # Correct import\n",
    "%matplotlib inline"
   ]
  },
  {
   "cell_type": "markdown",
   "metadata": {},
   "source": [
    "# Defining a function"
   ]
  },
  {
   "cell_type": "markdown",
   "metadata": {},
   "source": [
    "## A simple function: without input and output"
   ]
  },
  {
   "cell_type": "code",
   "execution_count": 4,
   "metadata": {},
   "outputs": [],
   "source": [
    " # no input and output. Just printing\n",
    "def myFunction():\n",
    "    print(\"This is my function\")"
   ]
  },
  {
   "cell_type": "code",
   "execution_count": 5,
   "metadata": {},
   "outputs": [
    {
     "name": "stdout",
     "output_type": "stream",
     "text": [
      "This is my function\n"
     ]
    }
   ],
   "source": [
    "myFunction()"
   ]
  },
  {
   "cell_type": "markdown",
   "metadata": {},
   "source": [
    "## Function with input"
   ]
  },
  {
   "cell_type": "code",
   "execution_count": 7,
   "metadata": {},
   "outputs": [],
   "source": [
    "# a simple function with a string as input\n",
    "def print_name(name):\n",
    "    print(\"my name is %s\" % name)"
   ]
  },
  {
   "cell_type": "code",
   "execution_count": 8,
   "metadata": {},
   "outputs": [
    {
     "name": "stdout",
     "output_type": "stream",
     "text": [
      "my name is Jason\n"
     ]
    }
   ],
   "source": [
    "print_name(\"Jason\")"
   ]
  },
  {
   "cell_type": "markdown",
   "metadata": {},
   "source": [
    "## Function with input and output\n",
    "- simple function \n",
    "- using while and for loops within functions"
   ]
  },
  {
   "cell_type": "code",
   "execution_count": 9,
   "metadata": {},
   "outputs": [],
   "source": [
    " # a function that takes two inputs and return their sum in the output\n",
    "    # takes in two values and returns their sum in the output\n",
    "    # inputs: a - first number\n",
    "    #         b - second number\n",
    "    # outputs: s - sum of a and b\n",
    "\n",
    "def add_vals(number1, number2):\n",
    "    s = number1 + number2\n",
    "    return s"
   ]
  },
  {
   "cell_type": "code",
   "execution_count": 10,
   "metadata": {},
   "outputs": [
    {
     "data": {
      "text/plain": [
       "145"
      ]
     },
     "execution_count": 10,
     "metadata": {},
     "output_type": "execute_result"
    }
   ],
   "source": [
    "add_vals(100, 45)"
   ]
  },
  {
   "cell_type": "code",
   "execution_count": 16,
   "metadata": {},
   "outputs": [],
   "source": [
    "# how to set default values for function inputs?\n",
    "# How will the function operate with and without set default values\n",
    "## with default values\n",
    "\n",
    "    # Calculates n!\n",
    "    # Input: n - the number for which we want to calculate the factorial\n",
    "    # Output: f - n!\n",
    "    \n",
    "def factorial(n = 1):\n",
    "    f = 1\n",
    "    i = 1\n",
    "    while i<=n:\n",
    "        f = f * i\n",
    "        i = i + 1\n",
    "    \n",
    "    return f\n",
    "\n",
    "## without default values\n",
    "\n",
    "    # Calculates n!\n",
    "    # Input: n - the number for which we want to calculate the factorial\n",
    "    # Output: f - n!\n",
    "    \n"
   ]
  },
  {
   "cell_type": "code",
   "execution_count": 17,
   "metadata": {},
   "outputs": [
    {
     "data": {
      "text/plain": [
       "6"
      ]
     },
     "execution_count": 17,
     "metadata": {},
     "output_type": "execute_result"
    }
   ],
   "source": [
    "factorial(3)"
   ]
  },
  {
   "cell_type": "markdown",
   "metadata": {},
   "source": [
    "# Random sampling from data"
   ]
  },
  {
   "cell_type": "markdown",
   "metadata": {},
   "source": [
    "## generate random data "
   ]
  },
  {
   "cell_type": "code",
   "execution_count": 56,
   "metadata": {},
   "outputs": [
    {
     "data": {
      "text/plain": [
       "(array([  9.,  25.,  85., 145., 242., 220., 169.,  68.,  29.,   8.]),\n",
       " array([-3.08533193, -2.4673943 , -1.84945667, -1.23151903, -0.6135814 ,\n",
       "         0.00435623,  0.62229386,  1.24023149,  1.85816912,  2.47610675,\n",
       "         3.09404438]),\n",
       " <BarContainer object of 10 artists>)"
      ]
     },
     "execution_count": 56,
     "metadata": {},
     "output_type": "execute_result"
    },
    {
     "data": {
      "image/png": "[encoded data removed]",
      "text/plain": [
       "<Figure size 640x480 with 1 Axes>"
      ]
     },
     "metadata": {},
     "output_type": "display_data"
    }
   ],
   "source": [
    " # 1000 samples (numbers) drawn from normal distribution\n",
    "d = np.random.normal(size = 1000)\n",
    "plt.hist(d)"
   ]
  },
  {
   "cell_type": "markdown",
   "metadata": {},
   "source": [
    "## random sampling from data\n",
    "- with replacement\n",
    "- without replacement\n",
    "\n",
    "Question to class: Why do we sample with replacement in the bootstrap? "
   ]
  },
  {
   "cell_type": "markdown",
   "metadata": {},
   "source": [
    "### random sampling from the generated data"
   ]
  },
  {
   "cell_type": "code",
   "execution_count": 22,
   "metadata": {},
   "outputs": [
    {
     "data": {
      "text/plain": [
       "array([-0.61162831,  0.06224417, -0.11159078, -0.31786357,  0.94966539,\n",
       "       -0.56823691, -0.10707402, -0.45155947, -0.2276391 , -0.72855696,\n",
       "        1.27853147,  0.03151184,  0.96529034,  0.68535211,  0.15853517,\n",
       "        0.6326603 ,  1.51365756, -1.02404627, -0.13632101,  0.20817527,\n",
       "        0.90517055,  0.7766391 ,  0.24066028, -0.33570979, -0.15895299,\n",
       "       -0.17260521, -0.3312947 , -1.66784581,  2.3223255 ,  0.68883591])"
      ]
     },
     "execution_count": 22,
     "metadata": {},
     "output_type": "execute_result"
    }
   ],
   "source": [
    "sample = np.random.choice(d, size = 30, replace = True)\n",
    "sample"
   ]
  },
  {
   "cell_type": "markdown",
   "metadata": {},
   "source": [
    "### random sampling (random numbers) from a range of numbers (from the lecture notes)"
   ]
  },
  {
   "cell_type": "code",
   "execution_count": 30,
   "metadata": {},
   "outputs": [
    {
     "data": {
      "text/plain": [
       "array([ 86,  57,  92,  50,  18, 101,  83,  44,   6,  24, 124,  38, 143,\n",
       "        33,  68, 117,  85,  56,  84,  67,  60, 142, 123, 110,  53,  65,\n",
       "        42, 130, 133,   8])"
      ]
     },
     "execution_count": 30,
     "metadata": {},
     "output_type": "execute_result"
    }
   ],
   "source": [
    "sample2 = np.random.choice(range(146), size = 30, replace = False)\n",
    "sample2"
   ]
  },
  {
   "cell_type": "markdown",
   "metadata": {},
   "source": [
    "## A function to simulate random numbers N times"
   ]
  },
  {
   "cell_type": "code",
   "execution_count": 35,
   "metadata": {},
   "outputs": [],
   "source": [
    "# using print statements to check the output of each line\n",
    "def N_random_sample(data, N = 1000, sample_size = 25):\n",
    "    Nsample = np.zeros((N, sample_size))\n",
    "\n",
    "    iter = 1\n",
    "\n",
    "    while iter < N:\n",
    "        Nsample[iter, :] = np.random.choice(data, size = sample_size, replace = True)\n",
    "        iter = iter + 1\n",
    "    \n",
    "    return Nsample"
   ]
  },
  {
   "cell_type": "code",
   "execution_count": 36,
   "metadata": {},
   "outputs": [
    {
     "name": "stdout",
     "output_type": "stream",
     "text": [
      "[[ 0.          0.          0.          0.          0.          0.\n",
      "   0.          0.          0.          0.          0.          0.\n",
      "   0.          0.          0.          0.          0.          0.\n",
      "   0.          0.          0.          0.          0.          0.\n",
      "   0.        ]\n",
      " [ 0.52279639  2.07129058  1.54381406 -0.49795686  0.74734941  0.94072782\n",
      "  -0.22110994  0.36508431  0.03611432  0.84172119  1.37729395 -0.70009667\n",
      "   0.79786478 -0.54429121  0.31205619 -0.23921756  0.36484525 -0.42701114\n",
      "  -0.19427339 -1.09145492  0.7766391  -2.58192459 -0.71205276 -0.56823691\n",
      "   0.34348867]\n",
      " [-1.67005072 -0.49795686  1.87502887 -0.2276391   0.46697283 -0.54429121\n",
      "   0.34985531  0.56681673 -0.94612834  0.3746259  -0.30582969  0.50791189\n",
      "   0.67364523 -0.98524452 -1.01124209 -0.12530988  0.99935972  0.79237625\n",
      "   0.33335059  1.20545764  1.11287017 -0.48368608  0.27150314 -1.27973433\n",
      "  -0.01226274]\n",
      " [ 0.17009326  0.09903325 -1.65238796 -1.50857806  0.20879827  1.17212239\n",
      "   1.30035089 -0.49936834 -0.50661363  0.11016304 -0.42509524  0.63717426\n",
      "  -1.76266077 -0.17431232 -0.25516315 -1.26468996  0.42242721 -1.48768156\n",
      "  -2.03616631  0.36511397 -0.96622545  0.03255446 -0.72722935 -0.62442245\n",
      "   1.69846876]\n",
      " [-0.44147042 -0.39316212 -1.23144637 -2.23474572 -0.09962552  0.91129306\n",
      "  -0.61039764 -1.72105869 -0.75355617  0.91385624 -0.54038183 -0.12769304\n",
      "   0.91385624  0.57678452  0.13659203  0.57681062  1.90617248 -1.49171382\n",
      "   0.04603307 -0.31932992  0.76151344 -1.77048465 -0.0555839   0.12031512\n",
      "  -1.11314452]\n",
      " [-0.71205276 -0.41985118  0.06826747  0.16507145  1.64077639  1.21064772\n",
      "   0.11409259 -0.18812232  0.92456392 -0.39143108 -0.40860186  0.04281972\n",
      "  -0.0235519   0.26661564  0.7888952  -1.68059615  1.37828139 -0.76713497\n",
      "   1.61537293 -0.34045511  1.70772293 -0.2276391  -1.16129979  0.11409259\n",
      "   0.7766391 ]\n",
      " [ 0.13809576 -0.3980615   0.28267241 -0.98249166 -0.2901647  -1.89687499\n",
      "   1.86967495 -0.10196802  1.00758455  0.85234787 -1.41819339 -1.32563911\n",
      "   0.11409259 -1.94776705 -0.56384621 -1.48768156  0.55199781  1.89566711\n",
      "   1.30165954 -0.58878069 -1.02513503  0.24857913  0.5988436  -0.52537557\n",
      "   0.4186368 ]\n",
      " [-0.59727527 -0.14402008 -0.66394961 -1.25550588 -1.84394923 -0.30582969\n",
      "  -0.35116067  0.30568028  0.06456886  1.32568662  0.9059472  -1.46820455\n",
      "  -0.45155947  0.70783445  0.56704589 -0.60297402  1.32568662 -1.49984439\n",
      "   1.64077639 -0.68301707 -0.13632101  1.45687889 -1.86095693 -0.00841941\n",
      "   0.10347358]\n",
      " [-1.25520213 -1.94741509  0.76151344  0.84701967 -0.19333859  1.28578383\n",
      "  -1.22669762 -0.45155947 -0.63010477 -0.68301707  0.36891461 -0.15652203\n",
      "  -0.91901875  0.42766482  0.89960758 -0.955933    1.17718372 -0.42536159\n",
      "  -1.25520213  1.70850158 -0.31531218  0.92761799 -0.12530988  1.46068488\n",
      "   1.67369006]\n",
      " [-1.43862072 -0.24354939 -0.03146529 -0.588046   -0.11159078 -0.76713497\n",
      "   1.10136534 -1.29758194  1.15913302 -0.95581209 -2.40122618 -0.51791705\n",
      "  -0.49795686 -0.08243179 -1.9894048   0.18901723 -0.09428745  1.89581596\n",
      "   0.65129236 -0.5722393   0.11016304 -0.04644025  0.42242721  0.79206835\n",
      "   0.57678452]]\n"
     ]
    }
   ],
   "source": [
    "# again generate data\n",
    "# 1000 samples (numbers) drawn from normal distribution\n",
    "samples = N_random_sample(data = d, N = 10)\n",
    "print(samples)"
   ]
  },
  {
   "cell_type": "code",
   "execution_count": null,
   "metadata": {},
   "outputs": [],
   "source": [
    "\n",
    "# print(samples)\n"
   ]
  },
  {
   "cell_type": "markdown",
   "metadata": {},
   "source": [
    "## A function to be applied to numbers as input"
   ]
  },
  {
   "cell_type": "code",
   "execution_count": 39,
   "metadata": {},
   "outputs": [],
   "source": [
    "\n",
    "# taked array a and apply function fcn to array a\n",
    "# Inputs:  a      - the array of numbers\n",
    "#          fcn    - function to be applied to array a\n",
    "# Outputs: Result - Result of applying fcn to array a\n",
    "def myFunction(a, fcn = np.mean):\n",
    "    res = fcn(a)\n",
    "    return res"
   ]
  },
  {
   "cell_type": "code",
   "execution_count": 40,
   "metadata": {},
   "outputs": [
    {
     "data": {
      "text/plain": [
       "np.float64(-0.06530796317040946)"
      ]
     },
     "execution_count": 40,
     "metadata": {},
     "output_type": "execute_result"
    }
   ],
   "source": [
    "myFunction(d)"
   ]
  },
  {
   "cell_type": "code",
   "execution_count": 42,
   "metadata": {},
   "outputs": [
    {
     "data": {
      "text/plain": [
       "np.float64(-3.382163813209486)"
      ]
     },
     "execution_count": 42,
     "metadata": {},
     "output_type": "execute_result"
    }
   ],
   "source": [
    "myFunction(d, np.min)"
   ]
  },
  {
   "cell_type": "code",
   "execution_count": null,
   "metadata": {},
   "outputs": [],
   "source": []
  },
  {
   "cell_type": "code",
   "execution_count": null,
   "metadata": {},
   "outputs": [],
   "source": []
  },
  {
   "cell_type": "markdown",
   "metadata": {},
   "source": [
    "## bootstrap pseudocode"
   ]
  },
  {
   "cell_type": "markdown",
   "metadata": {},
   "source": [
    "For 10000 times: (use for or while loop)\n",
    "    \n",
    "    * resample N data points **with replacement**\n",
    "    * calculate the sample statistic \n",
    "    * record sample statistic (store it in a numpy array that you have initialized before the loop)\n",
    "    \n",
    "   return recorded sample statistics (distribution of sample statistic)"
   ]
  },
  {
   "cell_type": "markdown",
   "metadata": {},
   "source": [
    "# Getting the qth percentile \n",
    "(Lecture notes - first slide for confidence interval: slide 21)"
   ]
  },
  {
   "cell_type": "markdown",
   "metadata": {},
   "source": [
    "There are two ways to do it:\n",
    "- https://docs.scipy.org/doc/numpy/reference/generated/numpy.quantile.html\n",
    "- https://docs.scipy.org/doc/numpy/reference/generated/numpy.percentile.html"
   ]
  },
  {
   "cell_type": "code",
   "execution_count": 46,
   "metadata": {},
   "outputs": [
    {
     "data": {
      "text/plain": [
       "np.float64(-2.01691132674235)"
      ]
     },
     "execution_count": 46,
     "metadata": {},
     "output_type": "execute_result"
    }
   ],
   "source": [
    "np.quantile(d, q = 0.025)"
   ]
  },
  {
   "cell_type": "code",
   "execution_count": 49,
   "metadata": {},
   "outputs": [
    {
     "name": "stdout",
     "output_type": "stream",
     "text": [
      "-1.438541015965769\n",
      "-1.438541015965769\n"
     ]
    }
   ],
   "source": [
    "print(np.percentile(d, q=10))\n",
    "print(np.quantile(d, q = 0.1))"
   ]
  },
  {
   "cell_type": "markdown",
   "metadata": {},
   "source": [
    "# plotting vertical and horizental lines"
   ]
  },
  {
   "cell_type": "code",
   "execution_count": 55,
   "metadata": {},
   "outputs": [
    {
     "data": {
      "text/plain": [
       "<matplotlib.lines.Line2D at 0x169b4dee0>"
      ]
     },
     "execution_count": 55,
     "metadata": {},
     "output_type": "execute_result"
    },
    {
     "data": {
      "image/png": "[encoded data removed]",
      "text/plain": [
       "<Figure size 640x480 with 1 Axes>"
      ]
     },
     "metadata": {},
     "output_type": "display_data"
    }
   ],
   "source": [
    "# plot the histogram for the data and draw a vertical red line at 95th percentile\n",
    "plt.hist(d)\n",
    "plt.axvline(x = np.percentile(d, q = 95), color = 'r')\n",
    "plt.axvline(x = np.percentile(d, q = 5), color = 'r')"
   ]
  },
  {
   "cell_type": "markdown",
   "metadata": {},
   "source": [
    "# About the Assignment\n"
   ]
  },
  {
   "cell_type": "markdown",
   "metadata": {},
   "source": [
    "## Task 2 - Question 1\n",
    "- Correction: What is the mean finishing time in the whole population of runners? Written answer: How much does it differ from the mean finishing time of the sample analyzed in Task 1\n",
    "- To Answer the question, Calculate proportions and means and justify your answer with the numbers you have calculated"
   ]
  },
  {
   "cell_type": "markdown",
   "metadata": {},
   "source": [
    "More on groupby: https://pandas.pydata.org/pandas-docs/stable/user_guide/groupby.html\n",
    "- use groupby to get a groupby object\n",
    "- You can use groups.keys() to get the group keys\n",
    "- Use get_group() with one of the keys to get the data for that group\n",
    "- Use .count() or .size() the same way as you did with .mean()\n"
   ]
  },
  {
   "cell_type": "code",
   "execution_count": 58,
   "metadata": {},
   "outputs": [],
   "source": [
    "df = pd.DataFrame({\n",
    "    'A': ['foo', 'bar', 'foo', 'bar', \n",
    "          'foo', 'bar', 'foo', 'foo'],\n",
    "    'B': ['one', 'one', 'two', 'three',\n",
    "          'two', 'two', 'one', 'three'],\n",
    "    'C': np.random.randn(8),\n",
    "    'D': np.random.randn(8)\n",
    "})\n"
   ]
  },
  {
   "cell_type": "code",
   "execution_count": 59,
   "metadata": {},
   "outputs": [
    {
     "data": {
      "text/plain": [
       "<pandas.core.groupby.generic.DataFrameGroupBy object at 0x16a977c70>"
      ]
     },
     "execution_count": 59,
     "metadata": {},
     "output_type": "execute_result"
    }
   ],
   "source": [
    "grouped = df.groupby('A')\n",
    "grouped.groupby..."
   ]
  },
  {
   "cell_type": "code",
   "execution_count": null,
   "metadata": {},
   "outputs": [],
   "source": [
    "bar_group = grouped.get_group('bar').count()\n",
    "bar_group"
   ]
  },
  {
   "cell_type": "code",
   "execution_count": null,
   "metadata": {},
   "outputs": [],
   "source": []
  }
 ],
 "metadata": {
  "kernelspec": {
   "display_name": "base",
   "language": "python",
   "name": "python3"
  },
  "language_info": {
   "codemirror_mode": {
    "name": "ipython",
    "version": 3
   },
   "file_extension": ".py",
   "mimetype": "text/x-python",
   "name": "python",
   "nbconvert_exporter": "python",
   "pygments_lexer": "ipython3",
   "version": "3.9.6"
  }
 },
 "nbformat": 4,
 "nbformat_minor": 2
}
