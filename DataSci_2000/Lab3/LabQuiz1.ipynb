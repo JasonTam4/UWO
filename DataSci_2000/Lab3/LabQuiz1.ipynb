{
 "cells": [
  {
   "cell_type": "code",
   "execution_count": 1,
   "metadata": {},
   "outputs": [],
   "source": [
    "import pandas as pd\n",
    "import numpy as np\n",
    "import matplotlib.pyplot as plt\n",
    "import seaborn as sns\n",
    "\n",
    "%matplotlib inline"
   ]
  },
  {
   "cell_type": "code",
   "execution_count": 6,
   "metadata": {},
   "outputs": [
    {
     "data": {
      "text/html": [
       "<div>\n",
       "<style scoped>\n",
       "    .dataframe tbody tr th:only-of-type {\n",
       "        vertical-align: middle;\n",
       "    }\n",
       "\n",
       "    .dataframe tbody tr th {\n",
       "        vertical-align: top;\n",
       "    }\n",
       "\n",
       "    .dataframe thead th {\n",
       "        text-align: right;\n",
       "    }\n",
       "</style>\n",
       "<table border=\"1\" class=\"dataframe\">\n",
       "  <thead>\n",
       "    <tr style=\"text-align: right;\">\n",
       "      <th></th>\n",
       "      <th>SN</th>\n",
       "      <th>age</th>\n",
       "      <th>gender</th>\n",
       "      <th>hand</th>\n",
       "      <th>tDCS</th>\n",
       "      <th>Error_pre</th>\n",
       "      <th>Error_post</th>\n",
       "      <th>MT_pre</th>\n",
       "      <th>MT_post</th>\n",
       "    </tr>\n",
       "  </thead>\n",
       "  <tbody>\n",
       "    <tr>\n",
       "      <th>0</th>\n",
       "      <td>2</td>\n",
       "      <td>23</td>\n",
       "      <td>M</td>\n",
       "      <td>1</td>\n",
       "      <td>1</td>\n",
       "      <td>0.06250</td>\n",
       "      <td>0.15625</td>\n",
       "      <td>2.6281</td>\n",
       "      <td>1.13440</td>\n",
       "    </tr>\n",
       "    <tr>\n",
       "      <th>1</th>\n",
       "      <td>3</td>\n",
       "      <td>25</td>\n",
       "      <td>M</td>\n",
       "      <td>1</td>\n",
       "      <td>1</td>\n",
       "      <td>0.18750</td>\n",
       "      <td>0.12500</td>\n",
       "      <td>1.6000</td>\n",
       "      <td>0.69828</td>\n",
       "    </tr>\n",
       "    <tr>\n",
       "      <th>2</th>\n",
       "      <td>4</td>\n",
       "      <td>21</td>\n",
       "      <td>M</td>\n",
       "      <td>1</td>\n",
       "      <td>0</td>\n",
       "      <td>0.31250</td>\n",
       "      <td>0.18750</td>\n",
       "      <td>2.4852</td>\n",
       "      <td>1.38610</td>\n",
       "    </tr>\n",
       "    <tr>\n",
       "      <th>3</th>\n",
       "      <td>5</td>\n",
       "      <td>27</td>\n",
       "      <td>F</td>\n",
       "      <td>1</td>\n",
       "      <td>0</td>\n",
       "      <td>0.21875</td>\n",
       "      <td>0.12500</td>\n",
       "      <td>2.6045</td>\n",
       "      <td>1.60670</td>\n",
       "    </tr>\n",
       "    <tr>\n",
       "      <th>4</th>\n",
       "      <td>6</td>\n",
       "      <td>28</td>\n",
       "      <td>M</td>\n",
       "      <td>1</td>\n",
       "      <td>1</td>\n",
       "      <td>0.28125</td>\n",
       "      <td>0.09375</td>\n",
       "      <td>3.2695</td>\n",
       "      <td>1.45480</td>\n",
       "    </tr>\n",
       "    <tr>\n",
       "      <th>5</th>\n",
       "      <td>7</td>\n",
       "      <td>33</td>\n",
       "      <td>M</td>\n",
       "      <td>1</td>\n",
       "      <td>0</td>\n",
       "      <td>0.34375</td>\n",
       "      <td>0.18750</td>\n",
       "      <td>3.1833</td>\n",
       "      <td>1.46690</td>\n",
       "    </tr>\n",
       "    <tr>\n",
       "      <th>6</th>\n",
       "      <td>9</td>\n",
       "      <td>21</td>\n",
       "      <td>F</td>\n",
       "      <td>1</td>\n",
       "      <td>1</td>\n",
       "      <td>0.03125</td>\n",
       "      <td>0.12500</td>\n",
       "      <td>2.3630</td>\n",
       "      <td>0.95781</td>\n",
       "    </tr>\n",
       "    <tr>\n",
       "      <th>7</th>\n",
       "      <td>10</td>\n",
       "      <td>23</td>\n",
       "      <td>M</td>\n",
       "      <td>1</td>\n",
       "      <td>1</td>\n",
       "      <td>0.03125</td>\n",
       "      <td>0.09375</td>\n",
       "      <td>3.5820</td>\n",
       "      <td>0.86422</td>\n",
       "    </tr>\n",
       "    <tr>\n",
       "      <th>8</th>\n",
       "      <td>11</td>\n",
       "      <td>25</td>\n",
       "      <td>M</td>\n",
       "      <td>1</td>\n",
       "      <td>1</td>\n",
       "      <td>0.03125</td>\n",
       "      <td>0.09375</td>\n",
       "      <td>3.5642</td>\n",
       "      <td>1.09750</td>\n",
       "    </tr>\n",
       "    <tr>\n",
       "      <th>9</th>\n",
       "      <td>12</td>\n",
       "      <td>27</td>\n",
       "      <td>F</td>\n",
       "      <td>1</td>\n",
       "      <td>0</td>\n",
       "      <td>0.03125</td>\n",
       "      <td>0.09375</td>\n",
       "      <td>3.5031</td>\n",
       "      <td>1.47340</td>\n",
       "    </tr>\n",
       "    <tr>\n",
       "      <th>10</th>\n",
       "      <td>13</td>\n",
       "      <td>21</td>\n",
       "      <td>M</td>\n",
       "      <td>1</td>\n",
       "      <td>1</td>\n",
       "      <td>0.00000</td>\n",
       "      <td>0.12500</td>\n",
       "      <td>3.4283</td>\n",
       "      <td>0.68844</td>\n",
       "    </tr>\n",
       "    <tr>\n",
       "      <th>11</th>\n",
       "      <td>14</td>\n",
       "      <td>25</td>\n",
       "      <td>M</td>\n",
       "      <td>1</td>\n",
       "      <td>0</td>\n",
       "      <td>0.18750</td>\n",
       "      <td>0.03125</td>\n",
       "      <td>2.3189</td>\n",
       "      <td>0.92828</td>\n",
       "    </tr>\n",
       "    <tr>\n",
       "      <th>12</th>\n",
       "      <td>15</td>\n",
       "      <td>26</td>\n",
       "      <td>F</td>\n",
       "      <td>1</td>\n",
       "      <td>0</td>\n",
       "      <td>0.06250</td>\n",
       "      <td>0.03125</td>\n",
       "      <td>2.1842</td>\n",
       "      <td>1.54030</td>\n",
       "    </tr>\n",
       "    <tr>\n",
       "      <th>13</th>\n",
       "      <td>16</td>\n",
       "      <td>28</td>\n",
       "      <td>M</td>\n",
       "      <td>1</td>\n",
       "      <td>0</td>\n",
       "      <td>0.06250</td>\n",
       "      <td>0.12500</td>\n",
       "      <td>1.7388</td>\n",
       "      <td>1.10440</td>\n",
       "    </tr>\n",
       "    <tr>\n",
       "      <th>14</th>\n",
       "      <td>17</td>\n",
       "      <td>23</td>\n",
       "      <td>F</td>\n",
       "      <td>1</td>\n",
       "      <td>0</td>\n",
       "      <td>0.06250</td>\n",
       "      <td>0.06250</td>\n",
       "      <td>2.1919</td>\n",
       "      <td>1.65110</td>\n",
       "    </tr>\n",
       "    <tr>\n",
       "      <th>15</th>\n",
       "      <td>18</td>\n",
       "      <td>23</td>\n",
       "      <td>F</td>\n",
       "      <td>1</td>\n",
       "      <td>1</td>\n",
       "      <td>0.06250</td>\n",
       "      <td>0.09375</td>\n",
       "      <td>3.2992</td>\n",
       "      <td>1.04300</td>\n",
       "    </tr>\n",
       "    <tr>\n",
       "      <th>16</th>\n",
       "      <td>37</td>\n",
       "      <td>25</td>\n",
       "      <td>M</td>\n",
       "      <td>1</td>\n",
       "      <td>1</td>\n",
       "      <td>0.28125</td>\n",
       "      <td>0.06250</td>\n",
       "      <td>2.7953</td>\n",
       "      <td>0.60938</td>\n",
       "    </tr>\n",
       "    <tr>\n",
       "      <th>17</th>\n",
       "      <td>39</td>\n",
       "      <td>21</td>\n",
       "      <td>M</td>\n",
       "      <td>1</td>\n",
       "      <td>1</td>\n",
       "      <td>0.18750</td>\n",
       "      <td>0.18750</td>\n",
       "      <td>2.4470</td>\n",
       "      <td>0.71609</td>\n",
       "    </tr>\n",
       "    <tr>\n",
       "      <th>18</th>\n",
       "      <td>40</td>\n",
       "      <td>999</td>\n",
       "      <td>F</td>\n",
       "      <td>1</td>\n",
       "      <td>0</td>\n",
       "      <td>0.06250</td>\n",
       "      <td>0.00000</td>\n",
       "      <td>3.4725</td>\n",
       "      <td>1.32340</td>\n",
       "    </tr>\n",
       "    <tr>\n",
       "      <th>19</th>\n",
       "      <td>41</td>\n",
       "      <td>23</td>\n",
       "      <td>M</td>\n",
       "      <td>1</td>\n",
       "      <td>1</td>\n",
       "      <td>0.28125</td>\n",
       "      <td>0.06250</td>\n",
       "      <td>3.2611</td>\n",
       "      <td>0.76953</td>\n",
       "    </tr>\n",
       "    <tr>\n",
       "      <th>20</th>\n",
       "      <td>42</td>\n",
       "      <td>25</td>\n",
       "      <td>F</td>\n",
       "      <td>1</td>\n",
       "      <td>1</td>\n",
       "      <td>0.09375</td>\n",
       "      <td>0.06250</td>\n",
       "      <td>1.9762</td>\n",
       "      <td>0.61781</td>\n",
       "    </tr>\n",
       "    <tr>\n",
       "      <th>21</th>\n",
       "      <td>44</td>\n",
       "      <td>28</td>\n",
       "      <td>F</td>\n",
       "      <td>1</td>\n",
       "      <td>0</td>\n",
       "      <td>0.15625</td>\n",
       "      <td>0.12500</td>\n",
       "      <td>2.7391</td>\n",
       "      <td>1.16110</td>\n",
       "    </tr>\n",
       "    <tr>\n",
       "      <th>22</th>\n",
       "      <td>45</td>\n",
       "      <td>999</td>\n",
       "      <td>M</td>\n",
       "      <td>1</td>\n",
       "      <td>0</td>\n",
       "      <td>0.00000</td>\n",
       "      <td>0.15625</td>\n",
       "      <td>1.8306</td>\n",
       "      <td>1.08890</td>\n",
       "    </tr>\n",
       "    <tr>\n",
       "      <th>23</th>\n",
       "      <td>46</td>\n",
       "      <td>19</td>\n",
       "      <td>F</td>\n",
       "      <td>1</td>\n",
       "      <td>0</td>\n",
       "      <td>0.12500</td>\n",
       "      <td>0.06250</td>\n",
       "      <td>2.7372</td>\n",
       "      <td>1.49730</td>\n",
       "    </tr>\n",
       "  </tbody>\n",
       "</table>\n",
       "</div>"
      ],
      "text/plain": [
       "    SN  age gender  hand  tDCS  Error_pre  Error_post  MT_pre  MT_post\n",
       "0    2   23      M     1     1    0.06250     0.15625  2.6281  1.13440\n",
       "1    3   25      M     1     1    0.18750     0.12500  1.6000  0.69828\n",
       "2    4   21      M     1     0    0.31250     0.18750  2.4852  1.38610\n",
       "3    5   27      F     1     0    0.21875     0.12500  2.6045  1.60670\n",
       "4    6   28      M     1     1    0.28125     0.09375  3.2695  1.45480\n",
       "5    7   33      M     1     0    0.34375     0.18750  3.1833  1.46690\n",
       "6    9   21      F     1     1    0.03125     0.12500  2.3630  0.95781\n",
       "7   10   23      M     1     1    0.03125     0.09375  3.5820  0.86422\n",
       "8   11   25      M     1     1    0.03125     0.09375  3.5642  1.09750\n",
       "9   12   27      F     1     0    0.03125     0.09375  3.5031  1.47340\n",
       "10  13   21      M     1     1    0.00000     0.12500  3.4283  0.68844\n",
       "11  14   25      M     1     0    0.18750     0.03125  2.3189  0.92828\n",
       "12  15   26      F     1     0    0.06250     0.03125  2.1842  1.54030\n",
       "13  16   28      M     1     0    0.06250     0.12500  1.7388  1.10440\n",
       "14  17   23      F     1     0    0.06250     0.06250  2.1919  1.65110\n",
       "15  18   23      F     1     1    0.06250     0.09375  3.2992  1.04300\n",
       "16  37   25      M     1     1    0.28125     0.06250  2.7953  0.60938\n",
       "17  39   21      M     1     1    0.18750     0.18750  2.4470  0.71609\n",
       "18  40  999      F     1     0    0.06250     0.00000  3.4725  1.32340\n",
       "19  41   23      M     1     1    0.28125     0.06250  3.2611  0.76953\n",
       "20  42   25      F     1     1    0.09375     0.06250  1.9762  0.61781\n",
       "21  44   28      F     1     0    0.15625     0.12500  2.7391  1.16110\n",
       "22  45  999      M     1     0    0.00000     0.15625  1.8306  1.08890\n",
       "23  46   19      F     1     0    0.12500     0.06250  2.7372  1.49730"
      ]
     },
     "metadata": {},
     "output_type": "display_data"
    }
   ],
   "source": [
    "df = pd.read_csv(\"tDCS_study_data.csv\")\n",
    "display(df)"
   ]
  },
  {
   "cell_type": "code",
   "execution_count": 5,
   "metadata": {},
   "outputs": [
    {
     "name": "stdout",
     "output_type": "stream",
     "text": [
      "24\n"
     ]
    }
   ],
   "source": [
    "# Q1\n",
    "print(len(df))"
   ]
  },
  {
   "cell_type": "code",
   "execution_count": 18,
   "metadata": {},
   "outputs": [
    {
     "data": {
      "text/plain": [
       "(array([2., 4., 6., 1., 1., 1., 3., 1., 0., 3., 1., 1.]),\n",
       " array([0.        , 0.02864583, 0.05729167, 0.0859375 , 0.11458333,\n",
       "        0.14322917, 0.171875  , 0.20052083, 0.22916667, 0.2578125 ,\n",
       "        0.28645833, 0.31510417, 0.34375   ]),\n",
       " <BarContainer object of 12 artists>)"
      ]
     },
     "execution_count": 18,
     "metadata": {},
     "output_type": "execute_result"
    },
    {
     "data": {
      "image/png": "[encoded data removed]",
      "text/plain": [
       "<Figure size 640x480 with 1 Axes>"
      ]
     },
     "metadata": {},
     "output_type": "display_data"
    }
   ],
   "source": [
    "# Q2\n",
    "plt.hist(df['Error_pre'], bins = 12)"
   ]
  },
  {
   "cell_type": "code",
   "execution_count": 23,
   "metadata": {},
   "outputs": [
    {
     "name": "stdout",
     "output_type": "stream",
     "text": [
      "0.13151041666666666\n"
     ]
    }
   ],
   "source": [
    "# Q3\n",
    "print(df['Error_pre'].mean())"
   ]
  },
  {
   "cell_type": "code",
   "execution_count": 25,
   "metadata": {},
   "outputs": [
    {
     "name": "stdout",
     "output_type": "stream",
     "text": [
      "0.078125\n"
     ]
    }
   ],
   "source": [
    "# Q4\n",
    "print(df['Error_pre'].median())"
   ]
  },
  {
   "cell_type": "code",
   "execution_count": 33,
   "metadata": {},
   "outputs": [
    {
     "name": "stdout",
     "output_type": "stream",
     "text": [
      "2.6826499999999998\n",
      "1.9819999999999998\n"
     ]
    },
    {
     "data": {
      "text/plain": [
       "<Axes: xlabel='tDCS', ylabel='MT_pre'>"
      ]
     },
     "execution_count": 33,
     "metadata": {},
     "output_type": "execute_result"
    },
    {
     "data": {
      "image/png": "[encoded data removed]",
      "text/plain": [
       "<Figure size 640x480 with 1 Axes>"
      ]
     },
     "metadata": {},
     "output_type": "display_data"
    }
   ],
   "source": [
    "# Q5\n",
    "sns.boxplot(data = df, x = 'tDCS', y = 'MT_pre')"
   ]
  },
  {
   "cell_type": "code",
   "execution_count": 34,
   "metadata": {},
   "outputs": [
    {
     "data": {
      "text/plain": [
       "<Axes: xlabel='tDCS', ylabel='MT_post'>"
      ]
     },
     "execution_count": 34,
     "metadata": {},
     "output_type": "execute_result"
    },
    {
     "data": {
      "image/png": "[encoded data removed]",
      "text/plain": [
       "<Figure size 640x480 with 1 Axes>"
      ]
     },
     "metadata": {},
     "output_type": "display_data"
    }
   ],
   "source": [
    "# Q6\n",
    "sns.boxplot(data = df, x = 'tDCS', y = 'MT_post')"
   ]
  },
  {
   "cell_type": "code",
   "execution_count": 40,
   "metadata": {},
   "outputs": [
    {
     "name": "stdout",
     "output_type": "stream",
     "text": [
      "gender   F   M  All\n",
      "tDCS               \n",
      "0        7   5   12\n",
      "1        3   9   12\n",
      "All     10  14   24\n",
      "0.125\n"
     ]
    }
   ],
   "source": [
    "# Q7\n",
    "table = pd.crosstab(df[\"tDCS\"], df[\"gender\"], margins = True)\n",
    "print(table)\n",
    "p = table[\"F\"][1]/table[\"All\"][\"All\"]\n",
    "print(p)\n"
   ]
  },
  {
   "cell_type": "code",
   "execution_count": 42,
   "metadata": {},
   "outputs": [],
   "source": [
    "# Q8\n",
    "p = table[\"M\"][1]/table[\"M\"][\"All\"]\n"
   ]
  },
  {
   "cell_type": "code",
   "execution_count": null,
   "metadata": {},
   "outputs": [],
   "source": [
    "# Q9\n"
   ]
  }
 ],
 "metadata": {
  "kernelspec": {
   "display_name": "Python 3",
   "language": "python",
   "name": "python3"
  },
  "language_info": {
   "codemirror_mode": {
    "name": "ipython",
    "version": 3
   },
   "file_extension": ".py",
   "mimetype": "text/x-python",
   "name": "python",
   "nbconvert_exporter": "python",
   "pygments_lexer": "ipython3",
   "version": "3.9.6"
  }
 },
 "nbformat": 4,
 "nbformat_minor": 2
}
