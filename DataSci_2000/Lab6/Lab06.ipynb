{
 "cells": [
  {
   "cell_type": "markdown",
   "metadata": {},
   "source": [
    "# Lab06 Tutorial\n",
    "## Learning outcomes\n",
    "We will be doing Bayesian inference for discrete and continous variables. <br>\n",
    "We will also use a new package called scipy stats:\n",
    "https://docs.scipy.org/doc/scipy/reference/stats.html\n",
    "## Preliminaries\n",
    "Sets up the environment by importing pandas, numpy, matplotlib, and seaborn. Because we are using plots make sure that you configure your notebook such that plots are shown inline (see Assignment 2). Preliminaries are already taken care off in the workbook. "
   ]
  },
  {
   "cell_type": "code",
   "execution_count": 13,
   "metadata": {},
   "outputs": [],
   "source": [
    "import matplotlib\n",
    "matplotlib.use('TkAgg')\n",
    "import matplotlib.pyplot as plt\n",
    "%matplotlib inline\n",
    "import scipy.stats as ss\n",
    "import pandas as pd\n",
    "import numpy as np\n",
    "import seaborn as sns"
   ]
  },
  {
   "cell_type": "markdown",
   "metadata": {},
   "source": [
    "# Bayesian Inference for Discrete variable\n",
    "One of the side effects of diabetes medication is weight gain. 10% of people using these drugs gain weight. A drug company is claiming that it has a drug that reduces the rate of weight gain to 5% of people that take the drug. suppose that the side effect after the drug use has been observed in 8 out of 100 people! Calculate the p-value and power.\n",
    "\n",
    "H0: The drug does not impact the rate of side effect(i.e. p=0.1)\n",
    "\n",
    "H1: The drug halves the complication rate (i.e. p=0.05)\n",
    "\n",
    "The probability of success (side effect) changes under the H0 and H1"
   ]
  },
  {
   "cell_type": "markdown",
   "metadata": {},
   "source": [
    "## Monte Carlo Simulation \n",
    "* Having the side effect can be like the outcome of a coin toss. You either have the side effect (heads) or you don't (tails).\n",
    "* It is also a discrete variable (0 and 1)"
   ]
  },
  {
   "cell_type": "code",
   "execution_count": 14,
   "metadata": {},
   "outputs": [
    {
     "data": {
      "text/plain": [
       "array([ 0.,  1.,  2.,  3.,  4.,  5.,  6.,  7.,  8.,  9., 10., 11.])"
      ]
     },
     "execution_count": 14,
     "metadata": {},
     "output_type": "execute_result"
    }
   ],
   "source": [
    "np.array(range(0, 12),dtype = 'float64')"
   ]
  },
  {
   "cell_type": "code",
   "execution_count": null,
   "metadata": {},
   "outputs": [],
   "source": []
  },
  {
   "cell_type": "code",
   "execution_count": 15,
   "metadata": {},
   "outputs": [],
   "source": [
    "def monteCarloSim(p,N,numIter):\n",
    "    # does the montecarlo simulation\n",
    "    # Inputs:\n",
    "    # p : probability of success\n",
    "    # N : number of coin tosses\n",
    "    # numIter: number of iteration\n",
    "    # Outputs:\n",
    "    # numHeads: distribution for the number of heads\n",
    "\n",
    "    numHeads = np.array(range(numIter),dtype = 'float64')\n",
    "\n",
    "    for i in range(numIter):\n",
    "        options = [0,1] # possible outcomes\n",
    "        probDist = [1-p,p] # the probability associated for each possible outcome\n",
    "\n",
    "        # Solution 1: use random choice and sum over hits\n",
    "        a=np.random.choice(options,N,p=probDist)  #随机抽取 N 次，得到 N 个 0 或 1 组成的数组 a。\n",
    "        #a.sum() 计算 1 的个数，也就是正面朝上的次数，存入 numHeads[i]\n",
    "        numHeads[i]=a.sum() ## distribution for the number of heads  \n",
    "        # Solution 2: Use random binomial \n",
    "        # numHeads[i]=np.random.binomial(N,p) \n",
    "    return numHeads"
   ]
  },
  {
   "cell_type": "markdown",
   "metadata": {},
   "source": [
    "## Distribution under the null hypothesis\n",
    "H0: Drug does not impact the rate of side effects.\n",
    "\n",
    "* probability of gaining weight in general is 0.1.\n",
    "* \"_8 out of __100__ people have the side effect_\". Number of coin tosses = 100\n",
    "* Let's set the number of iterations to 1000"
   ]
  },
  {
   "cell_type": "code",
   "execution_count": 16,
   "metadata": {},
   "outputs": [
    {
     "name": "stdout",
     "output_type": "stream",
     "text": [
      "<class 'numpy.ndarray'>\n",
      "(1000,)\n"
     ]
    },
    {
     "data": {
      "text/plain": [
       "Text(0, 0.5, 'Frequency')"
      ]
     },
     "execution_count": 16,
     "metadata": {},
     "output_type": "execute_result"
    },
    {
     "data": {
      "image/png": "[encoded data removed]",
      "text/plain": [
       "<Figure size 640x480 with 1 Axes>"
      ]
     },
     "metadata": {},
     "output_type": "display_data"
    }
   ],
   "source": [
    "# distribution under the null hypothesis:\n",
    "# what are the inputs to monteCarloSim?\n",
    "## p probability of detecting the intruder: 0.1\n",
    "## N number of coin tosses (number of people that have been examined): 100\n",
    "## numIter number of times you want to do the simulation: 1000\n",
    "numHeads0 = monteCarloSim(0.1, 100, 1000)\n",
    "\n",
    "# practice debugging: One of the problems that you will run into is the \"Shape\" problem\n",
    "# indexOutOfRange OR ValueError: not enough values to unpack (expected 2, got 1)\n",
    "## print the type \n",
    "print(type(numHeads0))\n",
    "## print the shape\n",
    "# [r, c] = numHeads0.shape\n",
    "print(numHeads0.shape)\n",
    "#print(numHeads0.reshape((-1, 1)).shape)\n",
    "\n",
    "# plot the distribution\n",
    "plt.hist(numHeads0)\n",
    "plt.xlabel('Number of heads (having the side effect)')\n",
    "plt.ylabel('Frequency')"
   ]
  },
  {
   "cell_type": "markdown",
   "metadata": {},
   "source": [
    "## Distribution under the Alternative hypothesis\n",
    "H1: Drug halves the rate of side effect.\n",
    "\n",
    "In this case, the probability of having the side effect will be 0.05.\n",
    "\n",
    "* probability of gaining weight if using drug is 0.05.\n",
    "* \"_8 out of __100__ people have the side effect_\". Number of coin tosses = 100\n",
    "* Let's set the number of iterations to 1000"
   ]
  },
  {
   "cell_type": "code",
   "execution_count": 12,
   "metadata": {},
   "outputs": [
    {
     "data": {
      "text/plain": [
       "(1000, 1)"
      ]
     },
     "execution_count": 12,
     "metadata": {},
     "output_type": "execute_result"
    }
   ],
   "source": [
    "monteCarloSim(0.05, 100, 1000).reshape((-1, 1)).shape"
   ]
  },
  {
   "cell_type": "code",
   "execution_count": 4,
   "metadata": {},
   "outputs": [
    {
     "name": "stdout",
     "output_type": "stream",
     "text": [
      "<class 'numpy.ndarray'>\n",
      "(1000,)\n",
      "(1000, 1)\n"
     ]
    },
    {
     "data": {
      "text/plain": [
       "Text(0, 0.5, 'Frequency')"
      ]
     },
     "execution_count": 4,
     "metadata": {},
     "output_type": "execute_result"
    },
    {
     "data": {
      "image/png": "[encoded data removed]",
      "text/plain": [
       "<Figure size 432x288 with 1 Axes>"
      ]
     },
     "metadata": {
      "needs_background": "light"
     },
     "output_type": "display_data"
    }
   ],
   "source": [
    "# distribution under the alternative hypothesis (that the new surveillance system doubles the intruder detection rate)\n",
    "# what are the inputs to monteCarloSim?\n",
    "## p probability of detecting the intruder: 0.6\n",
    "## N number of coin tosses (number of people that have entered the building): 1000\n",
    "## numIter number of times you want to do the simulation\n",
    "numHeads1 = monteCarloSim(0.05, 100, 1000)\n",
    "\n",
    "# practice debugging: One of the problems that you will run into is the \"Shape\" problem\n",
    "# indexOutOfRange OR ValueError: not enough values to unpack (expected 2, got 1)\n",
    "## print the type\n",
    "print(type(numHeads1))\n",
    "## print the shape\n",
    "# [r, c] = numHeads1.shape\n",
    "print(numHeads1.shape)\n",
    "print(numHeads1.reshape((-1, 1)).shape) ## to transfer the result to a 2-dimensional array \n",
    "## for what?: easy to plot. since when ploting with (x,y), X 通常需要是二维的 (1000, 1)\n",
    "\n",
    "# plot the distribution\n",
    "plt.hist(numHeads1)\n",
    "plt.xlabel('Number of heads (having the side effect)')\n",
    "plt.ylabel('Frequency')"
   ]
  },
  {
   "cell_type": "markdown",
   "metadata": {},
   "source": [
    "## Plot both distribution on top of each other with a vertical line showing the observed number of people that have the side effect:"
   ]
  },
  {
   "cell_type": "code",
   "execution_count": 5,
   "metadata": {},
   "outputs": [
    {
     "data": {
      "text/plain": [
       "Text(0, 0.5, 'Frequency')"
      ]
     },
     "execution_count": 5,
     "metadata": {},
     "output_type": "execute_result"
    },
    {
     "data": {
      "image/png": "[encoded data removed]",
      "text/plain": [
       "<Figure size 432x288 with 1 Axes>"
      ]
     },
     "metadata": {
      "needs_background": "light"
     },
     "output_type": "display_data"
    }
   ],
   "source": [
    "# plot the distributions in a single figure\n",
    "plt.hist(numHeads0)\n",
    "plt.hist(numHeads1)\n",
    "plt.axvline(x = 8, color = 'k')\n",
    "plt.legend(('observed', 'H0', 'H1'))\n",
    "plt.xlabel('Number of heads (having the side effect)')\n",
    "plt.ylabel('Frequency')"
   ]
  },
  {
   "cell_type": "markdown",
   "metadata": {},
   "source": [
    "## Calculate p-value and power <font color = 'red'>(Slide 3)\n"
   ]
  },
  {
   "cell_type": "code",
   "execution_count": 6,
   "metadata": {},
   "outputs": [
    {
     "name": "stdout",
     "output_type": "stream",
     "text": [
      "0.317\n",
      "0.942\n"
     ]
    }
   ],
   "source": [
    "# how to calculate p-value and power?\n",
    "## calculate p-value\n",
    "### p-value is the probability of rejecting the null hypothesis given that it's true!\n",
    "#### which distribution must be used to get the p-value?\n",
    "pVal = sum(numHeads0<=8)/1000\n",
    "## calculate power\n",
    "### power is rejecting the H0 given that H1 is true\n",
    "#### which distribution must be used?\n",
    "power = sum(numHeads1<=8)/1000\n",
    "\n",
    "print(pVal)\n",
    "print(power)"
   ]
  },
  {
   "cell_type": "code",
   "execution_count": 7,
   "metadata": {},
   "outputs": [
    {
     "data": {
      "text/plain": [
       "0.5309734513274336"
      ]
     },
     "execution_count": 7,
     "metadata": {},
     "output_type": "execute_result"
    }
   ],
   "source": [
    "# Calculate the Bayes factor\n",
    "# BF10 = p(Data|H1)/p(Data|H0)\n",
    "BF10 = (sum(numHeads1 == 8)/1000) / (sum(numHeads0 == 8)/1000)\n",
    "BF10"
   ]
  },
  {
   "cell_type": "markdown",
   "metadata": {},
   "source": [
    "# Bayesian Inference for Continous variable\n",
    "In the movieDataset, let's see whether the box office revenue of movies directed by female directors is higher than that of movies directed by male directors.\n",
    "\n",
    "boxoff is the total box-office revnue of the movie in $10,000. \n",
    "\n",
    "H0: boxoff(female) <= boxoff(male)<br>\n",
    "H1: boxoff(female) > boxoff(male) by $50,000. \n",
    "\n",
    "__Box office revenue is a continous variable__\n",
    "\n",
    "Use a Bayesian hypothesis test to determine how strong the evidence is that the gender of the director being female  is associated with a significant reduction in box office revenue.You decide that it is appropriate to use a normal approximation for the average boxoff difference, both under the H1 and H0. Further, you assume the standard error of the mean difference is the same under the H1 and the H0 - although you still need to estimate the value. Build an approximation for the probability density for the real mean difference under H1 and H0. Then calculate and report the Bayes Factor of the H1 over the H0. What can you conclude from this result? \n",
    "\n",
    "\n",
    "## Important:\n",
    "read about probability density function (pdf) and probability mass function (pmf): <br>\n",
    "https://en.wikipedia.org/wiki/Probability_mass_function\n",
    "\n",
    "https://en.wikipedia.org/wiki/Probability_density_function"
   ]
  },
  {
   "cell_type": "code",
   "execution_count": 18,
   "metadata": {},
   "outputs": [
    {
     "data": {
      "text/html": [
       "<div>\n",
       "<style scoped>\n",
       "    .dataframe tbody tr th:only-of-type {\n",
       "        vertical-align: middle;\n",
       "    }\n",
       "\n",
       "    .dataframe tbody tr th {\n",
       "        vertical-align: top;\n",
       "    }\n",
       "\n",
       "    .dataframe thead th {\n",
       "        text-align: right;\n",
       "    }\n",
       "</style>\n",
       "<table border=\"1\" class=\"dataframe\">\n",
       "  <thead>\n",
       "    <tr style=\"text-align: right;\">\n",
       "      <th></th>\n",
       "      <th>Unnamed: 0</th>\n",
       "      <th>boxoff</th>\n",
       "      <th>prodcost</th>\n",
       "      <th>dirIncome</th>\n",
       "      <th>dirGender</th>\n",
       "      <th>year</th>\n",
       "      <th>month</th>\n",
       "      <th>genre</th>\n",
       "      <th>numTheatres</th>\n",
       "    </tr>\n",
       "  </thead>\n",
       "  <tbody>\n",
       "    <tr>\n",
       "      <th>0</th>\n",
       "      <td>0</td>\n",
       "      <td>88.648583</td>\n",
       "      <td>44.742936</td>\n",
       "      <td>3.393535</td>\n",
       "      <td>male</td>\n",
       "      <td>2012</td>\n",
       "      <td>3</td>\n",
       "      <td>comedy</td>\n",
       "      <td>139.0</td>\n",
       "    </tr>\n",
       "    <tr>\n",
       "      <th>1</th>\n",
       "      <td>1</td>\n",
       "      <td>145.334924</td>\n",
       "      <td>38.835516</td>\n",
       "      <td>1.134711</td>\n",
       "      <td>female</td>\n",
       "      <td>2014</td>\n",
       "      <td>11</td>\n",
       "      <td>drama</td>\n",
       "      <td>213.0</td>\n",
       "    </tr>\n",
       "    <tr>\n",
       "      <th>2</th>\n",
       "      <td>2</td>\n",
       "      <td>238.265684</td>\n",
       "      <td>29.532283</td>\n",
       "      <td>2.418883</td>\n",
       "      <td>male</td>\n",
       "      <td>2015</td>\n",
       "      <td>6</td>\n",
       "      <td>other</td>\n",
       "      <td>100.0</td>\n",
       "    </tr>\n",
       "    <tr>\n",
       "      <th>3</th>\n",
       "      <td>3</td>\n",
       "      <td>212.714742</td>\n",
       "      <td>157.111899</td>\n",
       "      <td>2.034115</td>\n",
       "      <td>male</td>\n",
       "      <td>2014</td>\n",
       "      <td>10</td>\n",
       "      <td>adventure</td>\n",
       "      <td>436.0</td>\n",
       "    </tr>\n",
       "    <tr>\n",
       "      <th>4</th>\n",
       "      <td>4</td>\n",
       "      <td>120.175461</td>\n",
       "      <td>30.547155</td>\n",
       "      <td>0.963219</td>\n",
       "      <td>female</td>\n",
       "      <td>2012</td>\n",
       "      <td>1</td>\n",
       "      <td>comedy</td>\n",
       "      <td>115.0</td>\n",
       "    </tr>\n",
       "  </tbody>\n",
       "</table>\n",
       "</div>"
      ],
      "text/plain": [
       "   Unnamed: 0      boxoff    prodcost  dirIncome dirGender  year  month  \\\n",
       "0           0   88.648583   44.742936   3.393535      male  2012      3   \n",
       "1           1  145.334924   38.835516   1.134711    female  2014     11   \n",
       "2           2  238.265684   29.532283   2.418883      male  2015      6   \n",
       "3           3  212.714742  157.111899   2.034115      male  2014     10   \n",
       "4           4  120.175461   30.547155   0.963219    female  2012      1   \n",
       "\n",
       "       genre  numTheatres  \n",
       "0     comedy        139.0  \n",
       "1      drama        213.0  \n",
       "2      other        100.0  \n",
       "3  adventure        436.0  \n",
       "4     comedy        115.0  "
      ]
     },
     "execution_count": 18,
     "metadata": {},
     "output_type": "execute_result"
    }
   ],
   "source": [
    "df = pd.read_csv('movieDataset.csv')\n",
    "df.head()"
   ]
  },
  {
   "cell_type": "markdown",
   "metadata": {},
   "source": [
    "## Calculate the difference between mean boxoffice revenue for movies directed by female and male directors"
   ]
  },
  {
   "cell_type": "code",
   "execution_count": 19,
   "metadata": {},
   "outputs": [
    {
     "data": {
      "text/plain": [
       "-7.297305964184233"
      ]
     },
     "execution_count": 19,
     "metadata": {},
     "output_type": "execute_result"
    }
   ],
   "source": [
    "# group boxoff by dirGender and return the difference between the mean boxoff of the two groups\n",
    "## There are multiple ways to do it.\n",
    "## Uisng groupby is just one way of doing it.\n",
    "def meanDif(D): \n",
    "    group = D['boxoff'].groupby(D['dirGender']).mean()\n",
    "    ## print(group)\n",
    "    difference = group[0] - group[1]\n",
    "    return difference\n",
    "\n",
    "diff = meanDif(df)\n",
    "diff\n",
    "# Negative numbers mean that box-office in higher for movies directed by male directors"
   ]
  },
  {
   "cell_type": "markdown",
   "metadata": {},
   "source": [
    "## Randomization test \n",
    "Our permutation function here will also return the distribution of the test statistic!\n",
    "We need this to estimate the standard error of the mean difference under the null hypothesis."
   ]
  },
  {
   "cell_type": "code",
   "execution_count": 20,
   "metadata": {},
   "outputs": [],
   "source": [
    "# modify the permutation function so that it returns p value and the distribution of the test stat\n",
    "def performRandomization(D,fcn,shuffle,numIterations=500,sides=1, nbins = 10):\n",
    "    listOfTS =  np.array(range(numIterations),dtype = 'float64')\n",
    "    for i in range(numIterations):\n",
    "        #1. Randomly shuffle the data\n",
    "        S=D.copy()                    # Make copy of the data frame\n",
    "        x = np.array(range(len(D.index))) # Make copy of the data frame\n",
    "        np.random.shuffle(x)          # randomly shuffle x - note that this changes x itself!\n",
    "        y = S[shuffle].iloc[x]   # copy the newly reorded values into a new Series\n",
    "        y = y.reset_index(drop=True)   #reoder the indices\n",
    "        S[shuffle]=y           # Copy back into the data frame\n",
    "\n",
    "        #2. Calculate test statistics\n",
    "        listOfTS[i] = fcn(S)\n",
    "\n",
    "    # 3. Caluclate the real test statistic\n",
    "    realTS = fcn(D)\n",
    "\n",
    "    # 4. Plot a histogram of the\n",
    "    sns.histplot(listOfTS,bins= nbins)\n",
    "    plt.axvline(x=realTS, color='k')\n",
    "\n",
    "    # 5. determine p-value (one sided)\n",
    "    if sides==1:\n",
    "        p=sum(listOfTS>=realTS)/len(listOfTS)\n",
    "        print(' P-value of the randomisation test is p= ',p)\n",
    "    if sides==2:\n",
    "        plt.axvline(x=-realTS, color='r')\n",
    "        p=sum(np.absolute(listOfTS)>=realTS)/len(listOfTS)\n",
    "        print(' P-value of the randomisation test is p= ',p)\n",
    "    return [p, listOfTS]"
   ]
  },
  {
   "cell_type": "code",
   "execution_count": 23,
   "metadata": {},
   "outputs": [
    {
     "name": "stdout",
     "output_type": "stream",
     "text": [
      " P-value of the randomisation test is p=  0.676\n"
     ]
    },
    {
     "data": {
      "text/plain": [
       "Text(0, 0.5, 'frequency')"
      ]
     },
     "execution_count": 23,
     "metadata": {},
     "output_type": "execute_result"
    },
    {
     "data": {
      "image/png": "[encoded data removed]",
      "text/plain": [
       "<Figure size 640x480 with 1 Axes>"
      ]
     },
     "metadata": {},
     "output_type": "display_data"
    }
   ],
   "source": [
    "# Call the permutation function with dirGender as the exchangeable variable\n",
    "[p, TS ]= performRandomization(df,meanDif,'dirGender',numIterations=500,sides=1, nbins = 10)\n",
    "plt.xlabel('test stat')\n",
    "plt.ylabel('frequency')"
   ]
  },
  {
   "cell_type": "markdown",
   "metadata": {},
   "source": [
    "## Calculate the Bayes factor BF10\n",
    "use std of the test stat to get values an estimate of the standard error of the mean difference "
   ]
  },
  {
   "cell_type": "code",
   "execution_count": 25,
   "metadata": {},
   "outputs": [
    {
     "data": {
      "text/plain": [
       "13.641450469584708"
      ]
     },
     "execution_count": 25,
     "metadata": {},
     "output_type": "execute_result"
    }
   ],
   "source": [
    "SD = np.std(TS)\n",
    "SD "
   ]
  },
  {
   "cell_type": "markdown",
   "metadata": {},
   "source": [
    "Now we look the value for the difference we get To read from the normal distribution:<br>\n",
    "https://docs.scipy.org/doc/scipy/reference/generated/scipy.stats.norm.html"
   ]
  },
  {
   "cell_type": "code",
   "execution_count": 26,
   "metadata": {},
   "outputs": [
    {
     "name": "stdout",
     "output_type": "stream",
     "text": [
      "0.02534611285672355\n",
      "0.019479899543254738\n",
      "Evidence in favor of the Alternative hypothesis: 0.769\n",
      "Evidence in favor of the Null hypothesis: 1.301\n"
     ]
    }
   ],
   "source": [
    "# ss.norm.pdf(x, mean, std_dev)\n",
    "\n",
    "p0 = ss.norm.pdf(diff, 0, SD)\n",
    "\n",
    "\"\"\"diff：difference of mean。\n",
    "0：H0 mean, set hypothesis as mean diff = 0。\n",
    "SD：standatd deviation。\n",
    "p0 : probability density \"\"\"\n",
    "\n",
    "print(p0) \n",
    "p1 = ss.norm.pdf(diff, 5.0, SD)  ##H1: boxoff(female) > boxoff(male) by $50,000.\n",
    "print(p1) \n",
    "\n",
    "BF = p1/p0\n",
    "print(f'Evidence in favor of the Alternative hypothesis: {BF:.3f}')\n",
    "print(f'Evidence in favor of the Null hypothesis: {1/BF:.3f}')\n",
    "\n",
    "# So overall inconclusive evidence in either direction."
   ]
  },
  {
   "cell_type": "markdown",
   "metadata": {},
   "source": [
    "pr"
   ]
  },
  {
   "cell_type": "markdown",
   "metadata": {},
   "source": [
    "## Calculating posterior <font color = 'red'>(slides 5, 8, 9)\n",
    "We will be using Bayes formula:\n",
    "P(H|E) = (P(H) * P(E|H))/ P(E)"
   ]
  },
  {
   "cell_type": "code",
   "execution_count": 29,
   "metadata": {},
   "outputs": [],
   "source": [
    "prior1 = 0.3\n",
    "prior0 = 0.7\n",
    "posterior1 = (prior1*p1)/(prior1*p1 + prior0*p0)\n"
   ]
  }
 ],
 "metadata": {
  "kernelspec": {
   "display_name": "Python 3 (ipykernel)",
   "language": "python",
   "name": "python3"
  },
  "language_info": {
   "codemirror_mode": {
    "name": "ipython",
    "version": 3
   },
   "file_extension": ".py",
   "mimetype": "text/x-python",
   "name": "python",
   "nbconvert_exporter": "python",
   "pygments_lexer": "ipython3",
   "version": "3.8.8"
  }
 },
 "nbformat": 4,
 "nbformat_minor": 2
}
