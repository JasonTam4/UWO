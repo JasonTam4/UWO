{
 "cells": [
  {
   "cell_type": "markdown",
   "metadata": {},
   "source": [
    "# Assignment 10: Regression with discrete variables\n",
    "## Learning Outcomes:\n",
    "This assignment introduces the use of discrete variables in regression analysis. Task 1 will use discrete variables as explanatory variables, in Task 2 we will use discrete variables as response variables and introduce logistic regression. \n",
    "\n",
    "## Data set \n",
    "Throught the assignment you will use the full possum.csv data set.  \n",
    "The data set includes measures from 104 possums that were caught in New Zealand in a field study. \n",
    "Variables: \n",
    "-\tsite: The site number where the possum was trapped.\n",
    "-\tpop: Population, either Vic (Victoria) or other (New South Wales or Queensland).\n",
    "-\tsex: Gender, either m (male) or f (female).\n",
    "-\tage: Age in years\n",
    "-\theadL: Head length, in mm.\n",
    "-\tskullW: Skull width, in mm.\n",
    "-\ttotalL: Total length, in cm.\n",
    "-\ttailL: Tail length, in cm.\n",
    "\n",
    "## Preliminaries\n",
    "Set up the environment by importing pandas, numpy, and matplotlib, scipy.optimize. This is already done in the preliminaries. Ensure that you have fully mastered all previous assignments (especially 8, 9) before starting the assignment. Import the regression functions that you used for the last homeworks. "
   ]
  },
  {
   "cell_type": "code",
   "execution_count": 2,
   "metadata": {},
   "outputs": [],
   "source": [
    "import matplotlib\n",
    "matplotlib.use('TkAgg')\n",
    "import matplotlib.pyplot as plt\n",
    "%matplotlib inline\n",
    "import scipy.optimize as so\n",
    "import pandas as pd\n",
    "import numpy as np\n",
    "\n",
    "def simpleRegPredict(b,x):\n",
    "    \"\"\"Prediction function for simple regression\n",
    "    Args:\n",
    "        b (array): 2 element array with intercept and slope\n",
    "        x (array): array of x values\n",
    "    Returns:\n",
    "        yp (array): array of predicted y valuess\n",
    "    \"\"\"\n",
    "    yp=b[0]+b[1]*x\n",
    "    return yp\n",
    "\n",
    "def simpleRegLossRSS(b,x,y):\n",
    "    \"\"\"Simple residual sums of squares loss functions\n",
    "    Args:\n",
    "        b (array): 2 element array with intercept and slope\n",
    "        x (array): array of x values\n",
    "        y (array): array of y values\n",
    "\n",
    "    Returns:\n",
    "        rss (float): Residual sums of squares\n",
    "        deriv (array): array of derivatives of the loss function with respect to b\n",
    "    \"\"\"\n",
    "    predY = simpleRegPredict(b,x)\n",
    "    res = y-predY\n",
    "    rss = sum(res**2)\n",
    "    deriv = np.zeros(2)\n",
    "    deriv[0]=-2*sum(res)\n",
    "    deriv[1]=-2*sum(res*x)\n",
    "    return (rss,deriv)\n",
    "\n",
    "def plotPrediction(b,x,y,predfcn):\n",
    "    \"\"\"Plot the prediction of a simple regression\n",
    "    Args:\n",
    "        b (array): array of parameter values\n",
    "        x (array): array of x values\n",
    "        y (array): array of y values\n",
    "        predfcn (function): prediction function\n",
    "    \"\"\"\n",
    "    fig = plt.figure()\n",
    "    ax = fig.add_subplot(1,1,1)\n",
    "    ax.scatter(x,y)\n",
    "    xp = np.linspace(min(x),max(x),num=50)\n",
    "    yp = predfcn(b,xp)\n",
    "    ax.plot(xp,yp,'r')\n",
    "\n",
    "def simpleRegFit(x,y,lossFcn=simpleRegLossRSS):\n",
    "    \"\"\"Perform simple regression fit with a loss function\n",
    "    Args:\n",
    "        x (array): array of x values\n",
    "        y (array): array of y values\n",
    "        lossFcn (function): Loss function Defaults to simpleRegLossRSS.\n",
    "\n",
    "    Returns:\n",
    "        R2 (float): Coefficient of determination\n",
    "        b (array): array of fitted parameter values\n",
    "    \"\"\"\n",
    "    b0=[np.mean(y),0]\n",
    "    RES = so.minimize(lossFcn,b0,args=(x,y),jac=True)\n",
    "    b=RES.x # Results\n",
    "    plotPrediction(b,x,y,simpleRegPredict)\n",
    "    res = y-np.mean(y)\n",
    "    TSS = sum(res**2)\n",
    "    RSS,grad = simpleRegLossRSS(b,x,y)\n",
    "    R2 = 1-RSS/TSS\n",
    "    return (R2,b)\n",
    "\n",
    "def addPrediction(b,x,predFunc,ax,linestyle='r:'):\n",
    "    \"\"\"Add a prediction to a plot\n",
    "    Args:\n",
    "        b (array): array of parameter values\n",
    "        x (array): array of x values\n",
    "        predFunc (function): prediction function\n",
    "        ax (axis): axis to plot on\n",
    "        linestyle (string): linestyle for the plot\n",
    "    \"\"\"\n",
    "    xrange = max(x)-min(x)\n",
    "    xp = np.linspace(min(x)-xrange/30,max(x)+xrange/30,num=50)\n",
    "    yp = predFunc(b,xp)\n",
    "    ax.plot(xp,yp,linestyle)\n",
    "    return(ax)\n",
    "\n",
    "def multRegPredict(b,D,xname):\n",
    "    \"\"\"Model prediction function for multiple regression\n",
    "\n",
    "    Args:\n",
    "        b (array): Q+1 regression coefficients for Q variables\n",
    "        D (pd.DataFrame): Data frame\n",
    "        xname (list): Names of explanatory variables\n",
    "\n",
    "    Returns:\n",
    "        yp (array): predicted y-values\n",
    "    \"\"\"\n",
    "    yp=np.ones(len(D.index))*b[0]        # Intercept\n",
    "    for i in range(len(xname)):\n",
    "        yp=yp+D[xname[i]]*b[i+1]         # Add each regression value\n",
    "    return yp\n",
    "\n",
    "def multRegLossRSS(b,D,y,xname):\n",
    "    \"\"\"Residual sums of squares loss function for multiple regression\n",
    "    Args:\n",
    "        b (array): Q+1 regression coefficients for Q variables\n",
    "        D (pd.DataFrame): Data frame\n",
    "        xname (list): Names of explanatory variables\n",
    "\n",
    "    Returns:\n",
    "        rss (float): Residual sums of squares\n",
    "        deriv (array): array of derivatives of the loss function with respect to b\n",
    "    \"\"\"\n",
    "    predY = multRegPredict(b,D,xname)\n",
    "    res = y-predY\n",
    "    rss = sum(res**2)\n",
    "    grad=np.zeros(len(b))\n",
    "    grad[0]=-2*np.sum(res)\n",
    "    for i in range(len(xname)):\n",
    "        grad[i+1]=-2*np.sum(D[xname[i]]*res)\n",
    "    return (rss,grad)\n",
    "\n",
    "def multRegFit(D,y,xname):\n",
    "    \"\"\"Multiple regression fitting function\n",
    "    Args:\n",
    "        D (pd.DataFrame): Data frame\n",
    "        y (array): array of y values\n",
    "        xname (list): Names of explanatory variables\n",
    "\n",
    "    Returns:\n",
    "        R2 (float): Coefficient of determination\n",
    "        b (array): array of fitted parameter values\n",
    "    \"\"\"\n",
    "    N=len(xname)\n",
    "    b0=np.zeros((N+1,))\n",
    "    RES = so.minimize(multRegLossRSS,b0,args=(D,y,xname),\n",
    "                    jac=True,\n",
    "                    tol=1e-3)\n",
    "    if (not(RES.success)):\n",
    "        print('unsuccessful fit')\n",
    "        print(RES)\n",
    "    b=RES.x # Results\n",
    "    res = y-np.mean(y)\n",
    "    TSS = sum(res**2)\n",
    "    RSS,deriv = multRegLossRSS(b,D,y,xname)\n",
    "    R2 = 1-RSS/TSS\n",
    "    return (R2,b)\n",
    "\n",
    "def bootstrapReg(D,y,args,fitfcn,numIter=1000):\n",
    "    \"\"\"Bootstrap for regression\n",
    "\n",
    "    Args:\n",
    "        D (pd.DataFrame): Data frame with explanatory variables\n",
    "        y (array): array of y values\n",
    "        args (tuple): additional arguments for the fit function\n",
    "        fitfcn (function): fit function\n",
    "        numIter (int, optional): Number of bootstrap samples. Defaults to 1000.\n",
    "\n",
    "    Returns:\n",
    "        stats(array): 2-D array of parameter values\n",
    "    \"\"\"\n",
    "    r2,b=fitfcn(D,y,args)\n",
    "    numParams=len(b)\n",
    "    N = len(D.index)\n",
    "    ind  = np.arange(N)\n",
    "    stats = np.zeros((numIter,numParams))\n",
    "    for i in range(numIter):\n",
    "        sample=np.random.choice(ind,N)\n",
    "        r2,stats[i,:]=fitfcn(D.iloc[sample],y[sample],args)\n",
    "    return stats\n",
    "\n",
    "def confidenceInt(data,perc):\n",
    "    \"\"\"Confidence interval for data from percentiles method\n",
    "    Args:\n",
    "        data (array): _description_\n",
    "        perc (Percent within confidence interval): percent within confidence interval\n",
    "    Returns:\n",
    "        int (tuple): tuple with lower and upper bounds of confidence interval\n",
    "    \"\"\"\n",
    "    Int=(np.percentile(data,(100-perc)/2),np.percentile(data,100-(100-perc)/2))\n",
    "    return Int"
   ]
  },
  {
   "cell_type": "markdown",
   "metadata": {},
   "source": [
    "## Task 1: Discrete predictor variables\n",
    "\n",
    "### Question 1.1 (5 pt)\n",
    "Load the data set possum.csv. \n",
    "Generate 3 new columns in the data frame: \n",
    "- bodyL: The length of the main body (totalL - tailL) \n",
    "- popI:  Population identifier, 0: if pop is 'other', 1: if pop is 'Vic'\n",
    "- sexI:  Sex indentifier, 0: if sex is 'm', 1: if sex is 'f'\n",
    "\n",
    "Use your function `multRegFit` from last homework to run a regression analysis of bodyL (response variable) against sexI (explanatory variable). Make a plot (with labeled axes) that show sex on the x-axis and body length on the y axis. Add the prediction line from the regression. "
   ]
  },
  {
   "cell_type": "code",
   "execution_count": 3,
   "metadata": {},
   "outputs": [
    {
     "data": {
      "text/plain": [
       "Text(0.5, 1.0, 'Body Length vs Sex')"
      ]
     },
     "execution_count": 3,
     "metadata": {},
     "output_type": "execute_result"
    },
    {
     "data": {
      "image/png": "[encoded data removed]",
      "text/plain": [
       "<Figure size 640x480 with 1 Axes>"
      ]
     },
     "metadata": {},
     "output_type": "display_data"
    }
   ],
   "source": [
    "df = pd.read_csv('possum.csv')\n",
    "df['bodyL'] = df['totalL'] - df['tailL'] \n",
    "df['popI'] = df['pop'] == 'Vic'\n",
    "poplID = np.double(df['popI'])\n",
    "df['popI'] = poplID\n",
    "\n",
    "df['sexI'] = df['sex'] == 'f'\n",
    "sexlID = np.double(df['sexI'])\n",
    "df['sexI'] = sexlID\n",
    "\n",
    "\n",
    "R2, b = multRegFit(df, df['bodyL'], ['sexI'])\n",
    "plt.scatter(df['sexI'], df['bodyL'], alpha=0.5)\n",
    "plt.xlabel('Sex (0: male, 1: female)')\n",
    "plt.ylabel('Body Length (cm)')\n",
    "plt.title('Body Length vs Sex')\n"
   ]
  },
  {
   "cell_type": "markdown",
   "metadata": {},
   "source": [
    "### Question 1.2 (10pt)\n",
    "Use boostrap to estimate a 95% confidence interval on the regression parameter of sex as a explanatory variable for body length. Report the confidence interval. Does the confidence interval include 0? What does this mean for the relationship between sex and body length?"
   ]
  },
  {
   "cell_type": "code",
   "execution_count": 5,
   "metadata": {},
   "outputs": [
    {
     "ename": "AttributeError",
     "evalue": "'numpy.ndarray' object has no attribute 'index'",
     "output_type": "error",
     "traceback": [
      "\u001b[0;31m---------------------------------------------------------------------------\u001b[0m",
      "\u001b[0;31mAttributeError\u001b[0m                            Traceback (most recent call last)",
      "Cell \u001b[0;32mIn[5], line 9\u001b[0m\n\u001b[1;32m      6\u001b[0m x \u001b[38;5;241m=\u001b[39m df[\u001b[38;5;124m'\u001b[39m\u001b[38;5;124msexI\u001b[39m\u001b[38;5;124m'\u001b[39m]\u001b[38;5;241m.\u001b[39mvalues\n\u001b[1;32m      7\u001b[0m y \u001b[38;5;241m=\u001b[39m df[\u001b[38;5;124m'\u001b[39m\u001b[38;5;124mbodyL\u001b[39m\u001b[38;5;124m'\u001b[39m]\u001b[38;5;241m.\u001b[39mvalues\n\u001b[0;32m----> 9\u001b[0m stats \u001b[38;5;241m=\u001b[39m \u001b[43mbootstrapReg\u001b[49m\u001b[43m(\u001b[49m\u001b[43mx\u001b[49m\u001b[43m,\u001b[49m\u001b[43m \u001b[49m\u001b[43my\u001b[49m\u001b[43m,\u001b[49m\u001b[43m \u001b[49m\u001b[43msimpleRegLossRSS\u001b[49m\u001b[43m,\u001b[49m\u001b[43m \u001b[49m\u001b[43msimpleRegFit\u001b[49m\u001b[43m)\u001b[49m\n\u001b[1;32m     11\u001b[0m intercept_CI \u001b[38;5;241m=\u001b[39m confidenceInt(stats[:,\u001b[38;5;241m0\u001b[39m], \u001b[38;5;241m95\u001b[39m)\n\u001b[1;32m     12\u001b[0m slope_CI \u001b[38;5;241m=\u001b[39m confidenceInt(stats[:,\u001b[38;5;241m1\u001b[39m], \u001b[38;5;241m95\u001b[39m)\n",
      "Cell \u001b[0;32mIn[2], line 167\u001b[0m, in \u001b[0;36mbootstrapReg\u001b[0;34m(D, y, args, fitfcn, numIter)\u001b[0m\n\u001b[1;32m    165\u001b[0m r2,b\u001b[38;5;241m=\u001b[39mfitfcn(D,y,args)\n\u001b[1;32m    166\u001b[0m numParams\u001b[38;5;241m=\u001b[39m\u001b[38;5;28mlen\u001b[39m(b)\n\u001b[0;32m--> 167\u001b[0m N \u001b[38;5;241m=\u001b[39m \u001b[38;5;28mlen\u001b[39m(\u001b[43mD\u001b[49m\u001b[38;5;241;43m.\u001b[39;49m\u001b[43mindex\u001b[49m)\n\u001b[1;32m    168\u001b[0m ind  \u001b[38;5;241m=\u001b[39m np\u001b[38;5;241m.\u001b[39marange(N)\n\u001b[1;32m    169\u001b[0m stats \u001b[38;5;241m=\u001b[39m np\u001b[38;5;241m.\u001b[39mzeros((numIter,numParams))\n",
      "\u001b[0;31mAttributeError\u001b[0m: 'numpy.ndarray' object has no attribute 'index'"
     ]
    },
    {
     "data": {
      "image/png": "[encoded data removed]",
      "text/plain": [
       "<Figure size 640x480 with 1 Axes>"
      ]
     },
     "metadata": {},
     "output_type": "display_data"
    }
   ],
   "source": [
    "df = pd.read_csv('possum.csv')\n",
    "df['bodyL'] = df['totalL'] - df['tailL']\n",
    "df['sexI'] = (df['sex'] == 'f').astype(int)\n",
    "\n",
    "# Extract sexI values as numpy array\n",
    "x = df['sexI'].values\n",
    "y = df['bodyL'].values\n",
    "\n",
    "stats = bootstrapReg(x, y, simpleRegLossRSS, simpleRegFit)\n",
    "\n",
    "intercept_CI = confidenceInt(stats[:,0], 95)\n",
    "slope_CI = confidenceInt(stats[:,1], 95)\n",
    "\n",
    "print(\"95% Confidence Intervals:\")\n",
    "print(f\"Intercept: ({intercept_CI[0]:.2f}, {intercept_CI[1]:.2f})\")\n",
    "print(f\"Effect of sex: ({slope_CI[0]:.2f}, {slope_CI[1]:.2f})\")\n",
    "\n",
    "if slope_CI[0] <= 0 <= slope_CI[1]:\n",
    "    print(\"\\nThe confidence interval for sex includes 0,\")\n",
    "    print(\"suggesting no significant relationship between sex and body length\")\n",
    "else:\n",
    "    print(\"\\nThe confidence interval for sex does not include 0,\")\n",
    "    if slope_CI[0] > 0:\n",
    "        print(\"suggesting females have significantly longer bodies than males\")\n",
    "    else:\n",
    "        print(\"suggesting males have significantly longer bodies than females\")"
   ]
  },
  {
   "cell_type": "markdown",
   "metadata": {},
   "source": [
    "A CI that includesof 0 means the relationship is insignificant"
   ]
  },
  {
   "cell_type": "markdown",
   "metadata": {},
   "source": [
    "### Question 1.3 (10pt)\n",
    "Make a scatter plot of age (x-axis) against body length (y-axis), with male and female possums shown in different colors. \n",
    "You can do this by plotting two scatter plots sequentially - each time selecting either male or female possums. The second one will simply add points in a different color to the first plot.  \n",
    "\n",
    "Estimate a multiple regression model that explains bodyL as a function of age and sex. What is the R2-value? \n",
    "\n",
    "Get the predicted values from the regression, and plot the predicted values in the same graph seperately for male and female possums. "
   ]
  },
  {
   "cell_type": "code",
   "execution_count": null,
   "metadata": {},
   "outputs": [],
   "source": []
  },
  {
   "cell_type": "markdown",
   "metadata": {},
   "source": [
    "### Question 1.4 (7pt)\n",
    "Run a bootstrap analysis on the bodyL ~ age + sexI regression model. Report the 95% confidence interval for the regression parameters of sex and age on body length. How big is the effect of age onto body length in the context of the model? Does the confidence interval for the parameter include 0?\n",
    "\n",
    "\n",
    "How big is the estimate of the effect of sex on body length? What is the CI? Does it include zero?   \n"
   ]
  },
  {
   "cell_type": "code",
   "execution_count": null,
   "metadata": {},
   "outputs": [],
   "source": []
  },
  {
   "cell_type": "markdown",
   "metadata": {},
   "source": [
    "### Question 1.5 (10pt)\n",
    "Estimate a multiple regression model that explains bodyL as a function of age and population (Vic vs. other). What is the R2-value? Make a scatter plot like for Question 3, but this time splitting the data for the two populations, rather than based on sex. \n",
    "\n",
    "Which of the two population (Vic or other) has a larger mean body size? What is the mean differences in body size?  \n",
    "\n",
    "Compare the mean difference in body size with the value of the regression coefficient for popI. Why are they not the same? \n",
    "\n",
    "In comparison to the simple mean difference in body size, how do you interpret the value of the regression coefficient for popI?  "
   ]
  },
  {
   "cell_type": "code",
   "execution_count": null,
   "metadata": {},
   "outputs": [],
   "source": []
  },
  {
   "cell_type": "markdown",
   "metadata": {},
   "source": [
    "### Question 1.6 (8pt)\n",
    "Run a bootstrap analysis on the bodyL ~ age + popI regression model. Report the 95% confidence interval for the regression parameters of popI and age on body length. In the conext of the model, is there evidence for a positive effect of age onto body length? How about the relationship between population and body length? \n"
   ]
  },
  {
   "cell_type": "code",
   "execution_count": null,
   "metadata": {},
   "outputs": [],
   "source": []
  },
  {
   "cell_type": "markdown",
   "metadata": {},
   "source": [
    "## Task 2: Discrete response variable\n",
    "In this task we will investigate regression models in which the response variable is a discrete, dichotomous variable. \n",
    "### Question 2.1: Logistic Function (10pt)\n",
    "Starting with your function for multRegPredict, write a function logisticRegPredict(b,D,xname). As inputs it should take the \n",
    "- b: np-array of regression coefficients (the first one being the intercept)\n",
    "- D: Data frame\n",
    "- xname: a list of column names (in D) that are being used as regressors. \n",
    "\n",
    "The function should first calculate a = b[0] + b[1] * D[xname[0]] + b[2] * D[xname[1]] + ... \n",
    "and then return the logistic function of a. \n",
    "\n",
    "Then make a Data frame with a single column with the values from -4 to 4 (in small steps). Plot the logistic function for the parameter values: \n",
    "- b = [0,0]\n",
    "- b = [0,1]\n",
    "- b = [0,2]\n",
    "- b = [0,-2]\n",
    "\n",
    "What happens as the slope value changes? \n",
    "\n",
    "Then plot the logistic function for the parameter values: \n",
    "- b = [0,2]\n",
    "- b = [1,2]\n",
    "- b = [2,2]\n",
    "- b = [-2,2]\n",
    "\n",
    "What happens as the intercept value changes? For each value - where does the predicted line cross p=0.5? \n",
    "\n"
   ]
  },
  {
   "cell_type": "code",
   "execution_count": null,
   "metadata": {},
   "outputs": [],
   "source": []
  },
  {
   "cell_type": "markdown",
   "metadata": {},
   "source": [
    "### Question 2.2 (10pt)\n",
    "Make a Scatterplot of tail length (as a x-variable) against popI (Population, 1:Victoria 0:other). \n",
    "Written answer: What relationship can you see? \n"
   ]
  },
  {
   "cell_type": "code",
   "execution_count": null,
   "metadata": {},
   "outputs": [],
   "source": []
  },
  {
   "cell_type": "markdown",
   "metadata": {},
   "source": [
    "### Question 2.3 (10pt)\n",
    "Write a function logisticRegLoss(b,D,y,name) that calculates the Loss function for the logistic regression (negative log-likelihood, see lecture). The function should call logisticRegPredict to get the prediction, and then calculate the Loss and the derivative of the loss in respect to all regression paramaters. The function should be able to use multiple regressors (like multRegLossRSS from previous homeworks).    \n",
    "\n",
    "Report the negative log likelihood (and derivates) for a logistic regression model that predicts popI as a function of tailL: \n",
    "- for the parameter values [0,0]\n",
    "- for the parameter values [17.5,-0.5]\n",
    "- for the parameter values [25.56,-0.7]\n",
    "\n",
    "Which one is the best parameter setting of the three? "
   ]
  },
  {
   "cell_type": "code",
   "execution_count": null,
   "metadata": {},
   "outputs": [],
   "source": []
  },
  {
   "cell_type": "markdown",
   "metadata": {},
   "source": [
    "### Question 2.4 (10pt)\n",
    "Write a function logisticRegFit(D,y,xname,figure=True) that fits the logistic model by minimizing the above Loss function. \n",
    "- D: A data frame with the explanatory variables \n",
    "- y: A dichotomous (0 or 1) response variable \n",
    "- xname: Names of x variables to be used \n",
    "- figure: Flag (True / False) indicating if the code should produce a figure. \n",
    "When there is only one x-variable, and figure==True, then function should produce a scatter plot of the data and the predicted values. \n",
    "\n",
    "The function should return the log-likelihood of the data under the best model and the best fitting (maximum liklihood) estimates of b. Remember that the function value you are minimizing is the *negative* log-likelihood, and the best fitting value is stored in RES.fun\n",
    "\n",
    "Fit a logistic regression model that predicts popI as a function of tailL. Make sure the function generates a plot. Report log-likelihood and b-values. "
   ]
  },
  {
   "cell_type": "code",
   "execution_count": null,
   "metadata": {},
   "outputs": [],
   "source": []
  },
  {
   "cell_type": "markdown",
   "metadata": {},
   "source": [
    "### Question 2.5 (10pt)\n",
    "Now fit the model explaing popI from tailL and bodyL in a multiple logistic regression model. Report the log-likelihood and parameter values. Is the fit better than tailL alone? \n",
    "\n",
    "Also fit the model explaing popI from tailL and totalL in a multiple logistic regression model. Again, report the log-likelihood and parameter values. \n",
    "\n",
    "What do you observe in terms of log-likelihood and in terms of paramters? Why do these two models yield exactly the same log-liklihood? "
   ]
  },
  {
   "cell_type": "code",
   "execution_count": null,
   "metadata": {},
   "outputs": [],
   "source": []
  }
 ],
 "metadata": {
  "kernelspec": {
   "display_name": "Python 3",
   "language": "python",
   "name": "python3"
  },
  "language_info": {
   "codemirror_mode": {
    "name": "ipython",
    "version": 3
   },
   "file_extension": ".py",
   "mimetype": "text/x-python",
   "name": "python",
   "nbconvert_exporter": "python",
   "pygments_lexer": "ipython3",
   "version": "3.9.6"
  }
 },
 "nbformat": 4,
 "nbformat_minor": 1
}
