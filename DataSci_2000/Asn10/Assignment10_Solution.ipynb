{
 "cells": [
  {
   "cell_type": "markdown",
   "metadata": {},
   "source": [
    "# Assignment 10: Regression with discrete variables\n",
    "## Learning Outcomes:\n",
    "This assignment introduces the use of discrete variables in regression analysis. Task 1 will use discrete variables as explanatory variables, in Task 2 we will use discrete variables as response variables and introduce logistic regression. \n",
    "\n",
    "## Data set \n",
    "Throught the assignment you will use the full possum.csv data set.  \n",
    "The data set includes measures from 104 possums that were caught in New Zealand in a field study. \n",
    "Variables: \n",
    "-\tsite: The site number where the possum was trapped.\n",
    "-\tpop: Population, either Vic (Victoria) or other (New South Wales or Queensland).\n",
    "-\tsex: Gender, either m (male) or f (female).\n",
    "-\tage: Age in years\n",
    "-\theadL: Head length, in mm.\n",
    "-\tskullW: Skull width, in mm.\n",
    "-\ttotalL: Total length, in cm.\n",
    "-\ttailL: Tail length, in cm.\n",
    "\n",
    "## Preliminaries\n",
    "Set up the environment by importing pandas, numpy, and matplotlib, scipy.optimize. This is already done in the preliminaries. Ensure that you have fully mastered all previous assignments (especially 8, 9) before starting the assignment. Import the regression functions that you used for the last homeworks. "
   ]
  },
  {
   "cell_type": "code",
   "execution_count": 24,
   "metadata": {},
   "outputs": [],
   "source": [
    "import matplotlib\n",
    "matplotlib.use('TkAgg')\n",
    "import matplotlib.pyplot as plt\n",
    "%matplotlib inline\n",
    "import scipy.optimize as so\n",
    "import pandas as pd\n",
    "import numpy as np\n",
    "\n",
    "def simpleRegPredict(b,x):\n",
    "    \"\"\"Prediction function for simple regression\n",
    "    Args:\n",
    "        b (array): 2 element array with intercept and slope\n",
    "        x (array): array of x values\n",
    "    Returns:\n",
    "        yp (array): array of predicted y valuess\n",
    "    \"\"\"\n",
    "    yp=b[0]+b[1]*x\n",
    "    return yp\n",
    "\n",
    "def simpleRegLossRSS(b,x,y):\n",
    "    \"\"\"Simple residual sums of squares loss functions\n",
    "    Args:\n",
    "        b (array): 2 element array with intercept and slope\n",
    "        x (array): array of x values\n",
    "        y (array): array of y values\n",
    "\n",
    "    Returns:\n",
    "        rss (float): Residual sums of squares\n",
    "        deriv (array): array of derivatives of the loss function with respect to b\n",
    "    \"\"\"\n",
    "    predY = simpleRegPredict(b,x)\n",
    "    res = y-predY\n",
    "    rss = sum(res**2)\n",
    "    deriv = np.zeros(2)\n",
    "    deriv[0]=-2*sum(res)\n",
    "    deriv[1]=-2*sum(res*x)\n",
    "    return (rss,deriv)\n",
    "\n",
    "def plotPrediction(b,x,y,predfcn):\n",
    "    \"\"\"Plot the prediction of a simple regression\n",
    "    Args:\n",
    "        b (array): array of parameter values\n",
    "        x (array): array of x values\n",
    "        y (array): array of y values\n",
    "        predfcn (function): prediction function\n",
    "    \"\"\"\n",
    "    fig = plt.figure()\n",
    "    ax = fig.add_subplot(1,1,1)\n",
    "    ax.scatter(x,y)\n",
    "    xp = np.linspace(min(x),max(x),num=50)\n",
    "    yp = predfcn(b,xp)\n",
    "    ax.plot(xp,yp,'r')\n",
    "\n",
    "def simpleRegFit(x,y,lossFcn=simpleRegLossRSS):\n",
    "    \"\"\"Perform simple regression fit with a loss function\n",
    "    Args:\n",
    "        x (array): array of x values\n",
    "        y (array): array of y values\n",
    "        lossFcn (function): Loss function Defaults to simpleRegLossRSS.\n",
    "\n",
    "    Returns:\n",
    "        R2 (float): Coefficient of determination\n",
    "        b (array): array of fitted parameter values\n",
    "    \"\"\"\n",
    "    b0=[np.mean(y),0]\n",
    "    RES = so.minimize(lossFcn,b0,args=(x,y),jac=True)\n",
    "    b=RES.x # Results\n",
    "    plotPrediction(b,x,y,simpleRegPredict)\n",
    "    res = y-np.mean(y)\n",
    "    TSS = sum(res**2)\n",
    "    RSS,grad = simpleRegLossRSS(b,x,y)\n",
    "    R2 = 1-RSS/TSS\n",
    "    return (R2,b)\n",
    "\n",
    "def addPrediction(b,x,predFunc,ax,linestyle='r:'):\n",
    "    \"\"\"Add a prediction to a plot\n",
    "    Args:\n",
    "        b (array): array of parameter values\n",
    "        x (array): array of x values\n",
    "        predFunc (function): prediction function\n",
    "        ax (axis): axis to plot on\n",
    "        linestyle (string): linestyle for the plot\n",
    "    \"\"\"\n",
    "    xrange = max(x)-min(x)\n",
    "    xp = np.linspace(min(x)-xrange/30,max(x)+xrange/30,num=50)\n",
    "    yp = predFunc(b,xp)\n",
    "    ax.plot(xp,yp,linestyle)\n",
    "    return(ax)\n",
    "\n",
    "def multRegPredict(b,D,xname):\n",
    "    \"\"\"Model prediction function for multiple regression\n",
    "\n",
    "    Args:\n",
    "        b (array): Q+1 regression coefficients for Q variables\n",
    "        D (pd.DataFrame): Data frame\n",
    "        xname (list): Names of explanatory variables\n",
    "\n",
    "    Returns:\n",
    "        yp (array): predicted y-values\n",
    "    \"\"\"\n",
    "    yp=np.ones(len(D.index))*b[0]        # Intercept\n",
    "    for i in range(len(xname)):\n",
    "        yp=yp+D[xname[i]]*b[i+1]         # Add each regression value\n",
    "    return yp\n",
    "\n",
    "def multRegLossRSS(b,D,y,xname):\n",
    "    \"\"\"Residual sums of squares loss function for multiple regression\n",
    "    Args:\n",
    "        b (array): Q+1 regression coefficients for Q variables\n",
    "        D (pd.DataFrame): Data frame\n",
    "        xname (list): Names of explanatory variables\n",
    "\n",
    "    Returns:\n",
    "        rss (float): Residual sums of squares\n",
    "        deriv (array): array of derivatives of the loss function with respect to b\n",
    "    \"\"\"\n",
    "    predY = multRegPredict(b,D,xname)\n",
    "    res = y-predY\n",
    "    rss = sum(res**2)\n",
    "    grad=np.zeros(len(b))\n",
    "    grad[0]=-2*np.sum(res)\n",
    "    for i in range(len(xname)):\n",
    "        grad[i+1]=-2*np.sum(D[xname[i]]*res)\n",
    "    return (rss,grad)\n",
    "\n",
    "def multRegFit(D,y,xname):\n",
    "    \"\"\"Multiple regression fitting function\n",
    "    Args:\n",
    "        D (pd.DataFrame): Data frame\n",
    "        y (array): array of y values\n",
    "        xname (list): Names of explanatory variables\n",
    "\n",
    "    Returns:\n",
    "        R2 (float): Coefficient of determination\n",
    "        b (array): array of fitted parameter values\n",
    "    \"\"\"\n",
    "    N=len(xname)\n",
    "    b0=np.zeros((N+1,))\n",
    "    RES = so.minimize(multRegLossRSS,b0,args=(D,y,xname),\n",
    "                    jac=True,\n",
    "                    tol=1e-3)\n",
    "    if (not(RES.success)):\n",
    "        print('unsuccessful fit')\n",
    "        print(RES)\n",
    "    b=RES.x # Results\n",
    "    res = y-np.mean(y)\n",
    "    TSS = sum(res**2)\n",
    "    RSS,deriv = multRegLossRSS(b,D,y,xname)\n",
    "    R2 = 1-RSS/TSS\n",
    "    return (R2,b)\n",
    "\n",
    "def bootstrapReg(D,y,args,fitfcn,numIter=1000):\n",
    "    \"\"\"Bootstrap for regression\n",
    "\n",
    "    Args:\n",
    "        D (pd.DataFrame): Data frame with explanatory variables\n",
    "        y (array): array of y values\n",
    "        args (tuple): additional arguments for the fit function\n",
    "        fitfcn (function): fit function\n",
    "        numIter (int, optional): Number of bootstrap samples. Defaults to 1000.\n",
    "\n",
    "    Returns:\n",
    "        stats(array): 2-D array of parameter values\n",
    "    \"\"\"\n",
    "    r2,b=fitfcn(D,y,args)\n",
    "    numParams=len(b)\n",
    "    N = len(D.index)\n",
    "    ind  = np.arange(N)\n",
    "    stats = np.zeros((numIter,numParams))\n",
    "    for i in range(numIter):\n",
    "        sample=np.random.choice(ind,N)\n",
    "        r2,stats[i,:]=fitfcn(D.iloc[sample],y[sample],args)\n",
    "    return stats\n",
    "\n",
    "def confidenceInt(data,perc):\n",
    "    \"\"\"Confidence interval for data from percentiles method\n",
    "    Args:\n",
    "        data (array): _description_\n",
    "        perc (Percent within confidence interval): percent within confidence interval\n",
    "    Returns:\n",
    "        int (tuple): tuple with lower and upper bounds of confidence interval\n",
    "    \"\"\"\n",
    "    Int=(np.percentile(data,(100-perc)/2),np.percentile(data,100-(100-perc)/2))\n",
    "    return Int"
   ]
  },
  {
   "cell_type": "markdown",
   "metadata": {},
   "source": [
    "## Task 1: Discrete predictor variables\n",
    "\n",
    "### Question 1.1 (5 pt)\n",
    "Load the data set possum.csv. \n",
    "Generate 3 new columns in the data frame: \n",
    "- bodyL: The length of the main body (totalL - tailL) \n",
    "- popI:  Population identifier, 0: if pop is 'other', 1: if pop is 'Vic'\n",
    "- sexI:  Sex indentifier, 0: if sex is 'm', 1: if sex is 'f'\n",
    "\n",
    "Use your function `multRegFit` from last homework to run a regression analysis of bodyL (response variable) against sexI (explanatory variable). Make a plot (with labeled axes) that show sex on the x-axis and body length on the y axis. Add the prediction line from the regression. "
   ]
  },
  {
   "cell_type": "code",
   "execution_count": 25,
   "metadata": {},
   "outputs": [
    {
     "data": {
      "text/plain": [
       "Text(0, 0.5, 'Body length [cm]')"
      ]
     },
     "execution_count": 25,
     "metadata": {},
     "output_type": "execute_result"
    },
    {
     "data": {
      "image/png": "[encoded data removed]",
      "text/plain": [
       "<Figure size 432x288 with 1 Axes>"
      ]
     },
     "metadata": {
      "needs_background": "light"
     },
     "output_type": "display_data"
    }
   ],
   "source": [
    "# Load the data and add the required columns\n",
    "D=pd.read_csv('possum.csv')\n",
    "D['bodyL']=D['totalL']-D['tailL']\n",
    "D['popI']=np.double(D['pop']=='Vic')\n",
    "D['sexI']=np.double(D['sex']=='f')\n",
    "\n",
    "# Run the regression\n",
    "R2,b=multRegFit(D,D.bodyL,['sexI'])\n",
    "\n",
    "# plot it\n",
    "plt.scatter(D.sexI,D.bodyL)\n",
    "yp = multRegPredict(b,D,['sexI'])\n",
    "plt.plot(D.sexI,yp,'r-')\n",
    "plt.xlabel('Sex (is female?)')\n",
    "plt.ylabel('Body length [cm]')\n"
   ]
  },
  {
   "cell_type": "markdown",
   "metadata": {},
   "source": [
    "*Figure*. scatter plot of body length in two sex groups (female = 1 and male = 0). The linear regression line with the sex as the regressor is plotted in red on top of the scatter plot."
   ]
  },
  {
   "cell_type": "markdown",
   "metadata": {},
   "source": [
    "### Question 1.2 (10pt)\n",
    "Use boostrap to estimate a 95% confidence interval on the regression parameter of sex as a explanatory variable for body length. Report the confidence interval. Does the confidence interval include 0? What does this mean for the relationship between sex and body length?"
   ]
  },
  {
   "cell_type": "code",
   "execution_count": 26,
   "metadata": {},
   "outputs": [
    {
     "name": "stdout",
     "output_type": "stream",
     "text": [
      "Confidence interval for influence of sex -0.12-2.61\n"
     ]
    },
    {
     "data": {
      "text/plain": [
       "Text(0, 0.5, 'frequency')"
      ]
     },
     "execution_count": 26,
     "metadata": {},
     "output_type": "execute_result"
    },
    {
     "data": {
      "image/png": "[encoded data removed]",
      "text/plain": [
       "<Figure size 432x288 with 1 Axes>"
      ]
     },
     "metadata": {
      "needs_background": "light"
     },
     "output_type": "display_data"
    }
   ],
   "source": [
    "B=bootstrapReg(D,D.bodyL,['sexI'],multRegFit)\n",
    "plt.hist(B[:,1])\n",
    "Int1=confidenceInt(B[:,1],95)\n",
    "print(f\"Confidence interval for influence of sex {Int1[0]:3.2f}-{Int1[1]:3.2f}\")\n",
    "plt.xlabel('the slope parameter')\n",
    "plt.ylabel('frequency')"
   ]
  },
  {
   "cell_type": "markdown",
   "metadata": {},
   "source": [
    "*Figure*. The histogram for the slope parameter."
   ]
  },
  {
   "cell_type": "markdown",
   "metadata": {},
   "source": [
    "> The confidence interval includes 0, so we cannot be more than 95% that body length (male) != body length (female)"
   ]
  },
  {
   "cell_type": "markdown",
   "metadata": {},
   "source": [
    "### Question 1.3 (10pt)\n",
    "Make a scatter plot of age (x-axis) against body length (y-axis), with male and female possums shown in different colors. \n",
    "You can do this by plotting two scatter plots sequentially - each time selecting either male or female possums. The second one will simply add points in a different color to the first plot.  \n",
    "\n",
    "Estimate a multiple regression model that explains bodyL as a function of age and sex. What is the R2-value? \n",
    "\n",
    "Get the predicted values from the regression, and plot the predicted values in the same graph seperately for male and female possums. "
   ]
  },
  {
   "cell_type": "code",
   "execution_count": 27,
   "metadata": {},
   "outputs": [
    {
     "name": "stdout",
     "output_type": "stream",
     "text": [
      "R2 is 0.09\n"
     ]
    },
    {
     "data": {
      "image/png": "[encoded data removed]",
      "text/plain": [
       "<Figure size 432x288 with 1 Axes>"
      ]
     },
     "metadata": {
      "needs_background": "light"
     },
     "output_type": "display_data"
    }
   ],
   "source": [
    "plt.scatter(D.age[D.sexI==0],D.bodyL[D.sexI==0])\n",
    "plt.scatter(D.age[D.sexI==1],D.bodyL[D.sexI==1])\n",
    "R2,b=multRegFit(D,D.bodyL,['age','sexI'])\n",
    "yp = multRegPredict(b,D,['age','sexI'])\n",
    "plt.plot(D.age[D.sexI==0],yp[D.sexI==0],'b-')\n",
    "plt.plot(D.age[D.sexI==1],yp[D.sexI==1],'r-')\n",
    "plt.xlabel('Age [years]')\n",
    "plt.ylabel('Body length [cm]')\n",
    "print(f\"R2 is {R2:3.2f}\")"
   ]
  },
  {
   "cell_type": "markdown",
   "metadata": {},
   "source": [
    "*Figure*. scatter plot of body length vs age. Data points are grouped by sex (male and female)"
   ]
  },
  {
   "cell_type": "markdown",
   "metadata": {},
   "source": [
    "> Blue dots are showing male, the orange dots are showing the female possums. The R2 of the combined model is 0.09. "
   ]
  },
  {
   "cell_type": "markdown",
   "metadata": {},
   "source": [
    "### Question 1.4 (7pt)\n",
    "Run a bootstrap analysis on the bodyL ~ age + sexI regression model. Report the 95% confidence interval for the regression parameters of sex and age on body length. How big is the effect of age onto body length in the context of the model? Does the confidence interval for the parameter include 0?\n",
    "\n",
    "\n",
    "How big is the estimate of the effect of sex on body length? What is the CI? Does it include zero?   \n"
   ]
  },
  {
   "cell_type": "code",
   "execution_count": 28,
   "metadata": {},
   "outputs": [
    {
     "name": "stdout",
     "output_type": "stream",
     "text": [
      "Confidence interval for influence of age 0.10-0.77\n",
      "Confidence interval for influence of sex -0.28-2.45\n"
     ]
    }
   ],
   "source": [
    "B=bootstrapReg(D,D.bodyL,['age','sexI'],multRegFit)\n",
    "Int1=confidenceInt(B[:,1],95)\n",
    "Int2=confidenceInt(B[:,2],95)\n",
    "print(f\"Confidence interval for influence of age {Int1[0]:3.2f}-{Int1[1]:3.2f}\")\n",
    "print(f\"Confidence interval for influence of sex {Int2[0]:3.2f}-{Int2[1]:3.2f}\")"
   ]
  },
  {
   "cell_type": "markdown",
   "metadata": {},
   "source": [
    "> Within the combined model, the influence of age onto bodyLength is significant - the influence of sex is not. "
   ]
  },
  {
   "cell_type": "markdown",
   "metadata": {},
   "source": [
    "### Question 1.5 (10pt)\n",
    "Estimate a multiple regression model that explains bodyL as a function of age and population (Vic vs. other). What is the R2-value? Make a scatter plot like for Question 3, but this time splitting the data for the two populations, rather than based on sex. \n",
    "\n",
    "Which of the two population (Vic or other) has a larger mean body size? What is the mean differences in body size?  \n",
    "\n",
    "Compare the mean difference in body size with the value of the regression coefficient for popI. Why are they not the same? \n",
    "\n",
    "In comparison to the simple mean difference in body size, how do you interpret the value of the regression coefficient for popI?  "
   ]
  },
  {
   "cell_type": "code",
   "execution_count": 29,
   "metadata": {},
   "outputs": [
    {
     "name": "stdout",
     "output_type": "stream",
     "text": [
      "R2 is 0.18\n"
     ]
    },
    {
     "data": {
      "image/png": "[encoded data removed]",
      "text/plain": [
       "<Figure size 432x288 with 1 Axes>"
      ]
     },
     "metadata": {
      "needs_background": "light"
     },
     "output_type": "display_data"
    }
   ],
   "source": [
    "R2,b=multRegFit(D,D.bodyL,['age','popI'])\n",
    "yp = multRegPredict(b,D,['age','popI'])\n",
    "plt.scatter(D.age[D.popI==0],D.bodyL[D.popI==0])\n",
    "plt.scatter(D.age[D.popI==1],D.bodyL[D.popI==1])\n",
    "plt.plot(D.age[D.popI==0],yp[D.popI==0],'b-')\n",
    "plt.plot(D.age[D.popI==1],yp[D.popI==1],'r-')\n",
    "plt.xlabel('Age [years]')\n",
    "plt.ylabel('Body length [cm]')\n",
    "print(f\"R2 is {R2:3.2f}\")\n"
   ]
  },
  {
   "cell_type": "markdown",
   "metadata": {},
   "source": [
    "*Figure*. Scatter plot of body lengths vs Age. The data points are grouped by population groups (Victorian and other)"
   ]
  },
  {
   "cell_type": "code",
   "execution_count": 30,
   "metadata": {},
   "outputs": [
    {
     "name": "stdout",
     "output_type": "stream",
     "text": [
      "The mean difference between populations is 2.61 cm\n"
     ]
    }
   ],
   "source": [
    "meanD = D.bodyL[D.popI==1].mean()-D.bodyL[D.popI==0].mean()\n",
    "print(\"The mean difference between populations is {0:3.2f} cm\".format(meanD))"
   ]
  },
  {
   "cell_type": "code",
   "execution_count": 31,
   "metadata": {},
   "outputs": [
    {
     "name": "stdout",
     "output_type": "stream",
     "text": [
      "The estimate for the population parameter is 2.48\n"
     ]
    }
   ],
   "source": [
    "print(\"The estimate for the population parameter is {0:3.2f}\".format(b[2]))"
   ]
  },
  {
   "cell_type": "markdown",
   "metadata": {},
   "source": [
    "The Victoria population is larger than the population from other populations. The mean difference is 2.61. In contrast, the regression estimate for the group difference is slightly smaller - 2.48cm. This is because the regression estimate accounts for the small age-difference between the populations. Animals from the Victoria population tend to be slightly older, which can account for (or explain away) some of the difference in body length. "
   ]
  },
  {
   "cell_type": "markdown",
   "metadata": {},
   "source": [
    "### Question 1.6 (8pt)\n",
    "Run a bootstrap analysis on the bodyL ~ age + popI regression model. Report the 95% confidence interval for the regression parameters of popI and age on body length. In the conext of the model, is there evidence for a positive effect of age onto body length? How about the relationship between population and body length? \n"
   ]
  },
  {
   "cell_type": "code",
   "execution_count": null,
   "metadata": {},
   "outputs": [
    {
     "name": "stdout",
     "output_type": "stream",
     "text": [
      "Confidence interval for influence of age 0.10-0.72\n",
      "Confidence interval for influence of population 1.07-3.64\n"
     ]
    }
   ],
   "source": [
    "B=bootstrapReg(D,D.bodyL,['age','popI'],multRegFit)\n",
    "Int1=confidenceInt(B[:,1],95)\n",
    "Int2=confidenceInt(B[:,2],95)\n",
    "print(\"Confidence interval for influence of age {0:3.2f}-{1:3.2f}\".format(Int1[0],Int1[1]))\n",
    "print(\"Confidence interval for influence of population {0:3.2f}-{1:3.2f}\".format(Int2[0],Int2[1]))"
   ]
  },
  {
   "cell_type": "markdown",
   "metadata": {},
   "source": [
    "> Both confidence intervals exclude 0, so it can be said that the the effects of both age and population on body length are significant."
   ]
  },
  {
   "cell_type": "markdown",
   "metadata": {},
   "source": [
    "## Task 2: Discrete response variable\n",
    "In this task we will investigate regression models in which the response variable is a discrete, dichotomous variable. \n",
    "### Question 2.1: Logistic Function (10pt)\n",
    "Starting with your function for multRegPredict, write a function logisticRegPredict(b,D,xname). As inputs it should take the \n",
    "- b: np-array of regression coefficients (the first one being the intercept)\n",
    "- D: Data frame\n",
    "- xname: a list of column names (in D) that are being used as regressors. \n",
    "\n",
    "The function should first calculate a = b[0] + b[1] * D[xname[0]] + b[2] * D[xname[1]] + ... \n",
    "and then return the logistic function of a. \n",
    "\n",
    "Then make a Data frame with a single column with the values from -4 to 4 (in small steps). Plot the logistic function for the parameter values: \n",
    "- b = [0,0]\n",
    "- b = [0,1]\n",
    "- b = [0,2]\n",
    "- b = [0,-2]\n",
    "\n",
    "What happens as the slope value changes? \n",
    "\n",
    "Then plot the logistic function for the parameter values: \n",
    "- b = [0,2]\n",
    "- b = [1,2]\n",
    "- b = [2,2]\n",
    "- b = [-2,2]\n",
    "\n",
    "What happens as the intercept value changes? For each value - where does the predicted line cross p=0.5? \n",
    "\n"
   ]
  },
  {
   "cell_type": "code",
   "execution_count": 33,
   "metadata": {},
   "outputs": [],
   "source": [
    "def logisticRegPredict(b,D,xname):\n",
    "    yp=np.ones(len(D.index))*b[0]       # Start out with the intercept\n",
    "    for i in range(len(xname)):\n",
    "        yp=yp+D[xname[i]]*b[i+1]        # Add the prediction of each regressor seperately\n",
    "    p = np.exp(yp)/(1+np.exp(yp))\n",
    "    return p"
   ]
  },
  {
   "cell_type": "code",
   "execution_count": 34,
   "metadata": {},
   "outputs": [],
   "source": [
    "A=pd.DataFrame(np.linspace(-4,4,num=50),columns=['name'])"
   ]
  },
  {
   "cell_type": "code",
   "execution_count": 35,
   "metadata": {},
   "outputs": [
    {
     "data": {
      "text/plain": [
       "Text(0, 0.5, 'probability')"
      ]
     },
     "execution_count": 35,
     "metadata": {},
     "output_type": "execute_result"
    },
    {
     "data": {
      "image/png": "[encoded data removed]",
      "text/plain": [
       "<Figure size 432x288 with 1 Axes>"
      ]
     },
     "metadata": {
      "needs_background": "light"
     },
     "output_type": "display_data"
    }
   ],
   "source": [
    "plt.plot(A.name,logisticRegPredict([0,0],A,['name']))\n",
    "plt.plot(A.name,logisticRegPredict([0,1],A,['name']))\n",
    "plt.plot(A.name,logisticRegPredict([0,2],A,['name']))\n",
    "plt.plot(A.name,logisticRegPredict([0,-2],A,['name']))\n",
    "\n",
    "plt.xlabel('x')\n",
    "plt.ylabel('probability')"
   ]
  },
  {
   "cell_type": "markdown",
   "metadata": {},
   "source": [
    "*Figure*. plot of logistic function for different values of slope as the intercept value is kept constant at 0."
   ]
  },
  {
   "cell_type": "code",
   "execution_count": 36,
   "metadata": {},
   "outputs": [
    {
     "data": {
      "text/plain": [
       "Text(0, 0.5, 'probability')"
      ]
     },
     "execution_count": 36,
     "metadata": {},
     "output_type": "execute_result"
    },
    {
     "data": {
      "image/png": "[encoded data removed]",
      "text/plain": [
       "<Figure size 432x288 with 1 Axes>"
      ]
     },
     "metadata": {
      "needs_background": "light"
     },
     "output_type": "display_data"
    }
   ],
   "source": [
    "plt.plot(A.name,logisticRegPredict([0,2],A,['name']))\n",
    "plt.plot(A.name,logisticRegPredict([1,2],A,['name']))\n",
    "plt.plot(A.name,logisticRegPredict([2,2],A,['name']))\n",
    "plt.plot(A.name,logisticRegPredict([-2,2],A,['name']))\n",
    "\n",
    "plt.xlabel('x')\n",
    "plt.ylabel('probability')"
   ]
  },
  {
   "cell_type": "markdown",
   "metadata": {},
   "source": [
    "*Figure*. Plot of logistic function for different values of intercept as the slope value is kept constant at 2."
   ]
  },
  {
   "cell_type": "markdown",
   "metadata": {},
   "source": [
    "> As the value for the slope increases (while the intercept is kept at a constant value), the plots become steeper, meaning that they will will go from 0 to 1 (for positive slope) and 1 to 0 (for negative slope) faster. The horizontal line is showing the function for b = [0, 0]. It can be seen that it is the p = 0.5 line. Changing the slope while the intercept is kept constant, does not change the p = 0.5 crossing point."
   ]
  },
  {
   "cell_type": "markdown",
   "metadata": {},
   "source": [
    "> As the intercept value changes (while the slope is kept at a constant value), the graph is shifted. It will be shifted to the right for negative values and to the left for positive values. It can be seen that the crossing point for p = 0.5 also changes."
   ]
  },
  {
   "cell_type": "markdown",
   "metadata": {},
   "source": [
    "### Question 2.2 (10pt)\n",
    "Make a Scatterplot of tail length (as a x-variable) against popI (Population, 1:Victoria 0:other). \n",
    "Written answer: What relationship can you see? \n"
   ]
  },
  {
   "cell_type": "code",
   "execution_count": 37,
   "metadata": {},
   "outputs": [
    {
     "data": {
      "text/plain": [
       "Text(0, 0.5, 'Population group')"
      ]
     },
     "execution_count": 37,
     "metadata": {},
     "output_type": "execute_result"
    },
    {
     "data": {
      "image/png": "[encoded data removed]",
      "text/plain": [
       "<Figure size 432x288 with 1 Axes>"
      ]
     },
     "metadata": {
      "needs_background": "light"
     },
     "output_type": "display_data"
    }
   ],
   "source": [
    "plt.scatter(D.tailL,D.popI)\n",
    "plt.xlabel('Total Length(cm)')\n",
    "plt.ylabel('Population group')"
   ]
  },
  {
   "cell_type": "markdown",
   "metadata": {},
   "source": [
    "*Figure*. Scatter plot of population group vs. total length with the Victorians plotted at 1 and \"other\" plotted at 0."
   ]
  },
  {
   "cell_type": "markdown",
   "metadata": {},
   "source": [
    "> The larger the total length of the animal, the more likely popI is zero - that is, it is not from a Victoria population."
   ]
  },
  {
   "cell_type": "markdown",
   "metadata": {},
   "source": [
    "### Question 2.3 (10pt)\n",
    "Write a function logisticRegLoss(b,D,y,name) that calculates the Loss function for the logistic regression (negative log-likelihood, see lecture). The function should call logisticRegPredict to get the prediction, and then calculate the Loss and the derivative of the loss in respect to all regression paramaters. The function should be able to use multiple regressors (like multRegLossRSS from previous homeworks).    \n",
    "\n",
    "Report the negative log likelihood (and derivates) for a logistic regression model that predicts popI as a function of tailL: \n",
    "- for the parameter values [0,0]\n",
    "- for the parameter values [17.5,-0.5]\n",
    "- for the parameter values [25.56,-0.7]\n",
    "\n",
    "Which one is the best parameter setting of the three? "
   ]
  },
  {
   "cell_type": "code",
   "execution_count": 38,
   "metadata": {},
   "outputs": [],
   "source": [
    "def logisticRegLoss(b,D,y,xname):\n",
    "    p = logisticRegPredict(b,D,xname)\n",
    "    cost = -y*np.log(p)-(1-y)*np.log(1-p)\n",
    "    N=len(xname)\n",
    "    grad=np.zeros(N+1)\n",
    "    res = y-p\n",
    "    grad[0]=-sum(res)\n",
    "    for i in range(N):\n",
    "        grad[i+1]=-np.sum(D[xname[i]]*res)         # Add each regressor\n",
    "    return (cost.sum(),grad)"
   ]
  },
  {
   "cell_type": "code",
   "execution_count": 39,
   "metadata": {},
   "outputs": [
    {
     "data": {
      "text/plain": [
       "(72.0873067782343, array([  6. , 271.5]))"
      ]
     },
     "execution_count": 39,
     "metadata": {},
     "output_type": "execute_result"
    }
   ],
   "source": [
    "logisticRegLoss([0,0],D,D.popI,['tailL'])"
   ]
  },
  {
   "cell_type": "code",
   "execution_count": 40,
   "metadata": {},
   "outputs": [
    {
     "data": {
      "text/plain": [
       "(63.01497836859197, array([ -14.65999642, -527.46450906]))"
      ]
     },
     "execution_count": 40,
     "metadata": {},
     "output_type": "execute_result"
    }
   ],
   "source": [
    "logisticRegLoss([17.5,-0.5],D,D.popI,['tailL'])"
   ]
  },
  {
   "cell_type": "code",
   "execution_count": 41,
   "metadata": {},
   "outputs": [
    {
     "data": {
      "text/plain": [
       "(56.72412770882329, array([ -0.37160079, -13.678462  ]))"
      ]
     },
     "execution_count": 41,
     "metadata": {},
     "output_type": "execute_result"
    }
   ],
   "source": [
    "logisticRegLoss([25.56,-0.7],D,D.popI,['tailL'])"
   ]
  },
  {
   "cell_type": "markdown",
   "metadata": {},
   "source": [
    "> The third parameter setting has the best fit from the three. (Note that it's not the absolute best fit, as the derivatives are not zero - given the negative derivative, we probably have to increase the slope).  "
   ]
  },
  {
   "cell_type": "markdown",
   "metadata": {},
   "source": [
    "### Question 2.4 (10pt)\n",
    "Write a function logisticRegFit(D,y,xname,figure=True) that fits the logistic model by minimizing the above Loss function. \n",
    "- D: A data frame with the explanatory variables \n",
    "- y: A dichotomous (0 or 1) response variable \n",
    "- xname: Names of x variables to be used \n",
    "- figure: Flag (True / False) indicating if the code should produce a figure. \n",
    "When there is only one x-variable, and figure==True, then function should produce a scatter plot of the data and the predicted values. \n",
    "\n",
    "The function should return the log-likelihood of the data under the best model and the best fitting (maximum liklihood) estimates of b. Remember that the function value you are minimizing is the *negative* log-likelihood, and the best fitting value is stored in RES.fun\n",
    "\n",
    "Fit a logistic regression model that predicts popI as a function of tailL. Make sure the function generates a plot. Report log-likelihood and b-values. "
   ]
  },
  {
   "cell_type": "code",
   "execution_count": 42,
   "metadata": {},
   "outputs": [],
   "source": [
    "def logisticRegFit(D,y,xname,figure=1):\n",
    "    N=len(xname)\n",
    "    b0=np.zeros(N+1)\n",
    "    RES = so.minimize(logisticRegLoss,b0,args=(D,y,xname),jac=True)\n",
    "    b = RES.x\n",
    "    ll = -RES.fun # Negative function value is the log likelihood\n",
    "    p = logisticRegPredict(b,D,xname)\n",
    "    if (N==1 & figure==1):\n",
    "        fig = plt.figure()\n",
    "        ax = fig.add_subplot(1,1,1)\n",
    "        ax.scatter(D[xname[0]],y)\n",
    "        xRange=[min(D[xname[0]]),max(D[xname[0]])]\n",
    "        xp=np.arange(xRange[0],xRange[1],(xRange[1]-xRange[0])/50)\n",
    "        yp=b[0]+b[1]*xp\n",
    "        print(b[0])\n",
    "        print(b[1])\n",
    "        pp=np.exp(yp)/(1+np.exp(yp))\n",
    "        ax.plot(xp,pp,'r-')\n",
    "        ax.spines['top'].set_visible(False)\n",
    "        ax.spines['right'].set_visible(False)\n",
    "    return (ll,b)"
   ]
  },
  {
   "cell_type": "code",
   "execution_count": 43,
   "metadata": {},
   "outputs": [
    {
     "name": "stdout",
     "output_type": "stream",
     "text": [
      "25.566204374962513\n",
      "-0.6996406079773353\n",
      "LogLiklihood is -56.72\n"
     ]
    },
    {
     "data": {
      "text/plain": [
       "Text(0, 0.5, 'Probability')"
      ]
     },
     "execution_count": 43,
     "metadata": {},
     "output_type": "execute_result"
    },
    {
     "data": {
      "image/png": "[encoded data removed]",
      "text/plain": [
       "<Figure size 432x288 with 1 Axes>"
      ]
     },
     "metadata": {
      "needs_background": "light"
     },
     "output_type": "display_data"
    }
   ],
   "source": [
    "ll,b=logisticRegFit(D,D.popI,['tailL'])\n",
    "print(\"LogLiklihood is {0:3.2f}\".format(ll))\n",
    "b\n",
    "plt.xlabel('tail length')\n",
    "plt.ylabel('Probability')"
   ]
  },
  {
   "cell_type": "markdown",
   "metadata": {},
   "source": [
    "*Figure*. scatter plot of probability of being in a population group (1 for victorian and 0 for other) vs tail length with the logistic function showing the probability of being in each group plotted in red."
   ]
  },
  {
   "cell_type": "markdown",
   "metadata": {},
   "source": [
    "### Question 2.5 (10pt)\n",
    "Now fit the model explaing popI from tailL and bodyL in a multiple logistic regression model. Report the log-likelihood and parameter values. Is the fit better than tailL alone? \n",
    "\n",
    "Also fit the model explaing popI from tailL and totalL in a multiple logistic regression model. Again, report the log-likelihood and parameter values. \n",
    "\n",
    "What do you observe in terms of log-likelihood and in terms of paramters? Why do these two models yield exactly the same log-liklihood? "
   ]
  },
  {
   "cell_type": "code",
   "execution_count": 44,
   "metadata": {},
   "outputs": [
    {
     "name": "stdout",
     "output_type": "stream",
     "text": [
      "LogLiklihood is -43.20\n"
     ]
    },
    {
     "data": {
      "text/plain": [
       "array([16.57735312, -0.98846114,  0.39180167])"
      ]
     },
     "execution_count": 44,
     "metadata": {},
     "output_type": "execute_result"
    }
   ],
   "source": [
    "ll,b=logisticRegFit(D,D.popI,['tailL','bodyL'])\n",
    "print(f\"LogLiklihood is {ll:3.2f}\")\n",
    "b"
   ]
  },
  {
   "cell_type": "code",
   "execution_count": 45,
   "metadata": {},
   "outputs": [
    {
     "name": "stdout",
     "output_type": "stream",
     "text": [
      "LogLiklihood is -43.20\n"
     ]
    },
    {
     "data": {
      "text/plain": [
       "array([16.5773531 , -1.38026281,  0.39180168])"
      ]
     },
     "execution_count": 45,
     "metadata": {},
     "output_type": "execute_result"
    }
   ],
   "source": [
    "ll,b=logisticRegFit(D,D.popI,['tailL','totalL'])\n",
    "print(f\"LogLiklihood is {ll:3.2f}\")\n",
    "b"
   ]
  },
  {
   "cell_type": "markdown",
   "metadata": {},
   "source": [
    "> The likelihood for both models is higher than the simple model. However, the likelihood of the two models is identical - the two models give the identical fit. This is because totalLength = bodyLength + tailLength. The same fit is achieved by subtracting 0.3918 (the weight of bodyLength) from the tailL regression weight. "
   ]
  }
 ],
 "metadata": {
  "kernelspec": {
   "display_name": "Python 3 (ipykernel)",
   "language": "python",
   "name": "python3"
  },
  "language_info": {
   "codemirror_mode": {
    "name": "ipython",
    "version": 3
   },
   "file_extension": ".py",
   "mimetype": "text/x-python",
   "name": "python",
   "nbconvert_exporter": "python",
   "pygments_lexer": "ipython3",
   "version": "3.9.5"
  }
 },
 "nbformat": 4,
 "nbformat_minor": 1
}
