{
  "cells": [
    {
      "cell_type": "markdown",
      "metadata": {
        "id": "S9yERFupcVSO"
      },
      "source": [
        "# Midterm Data Science 2000\n",
        "## Student ID: xxxxxx\n",
        "## General comments\n",
        "The open-book Midterm tests for knowledge and skills acquired in the first half of the semester, especially in the first 6 Assignments. You are allowed to use any document and source on your computer and look up documents on the internet. You or not allowed to share documents, or communicate in any other way with people inside or outside the class room during the midterm. You are not allowed to use ChatGPT, co-pilot or any other similar AI.\n",
        "\n",
        "In VScode, you need to have the CoPilot and CoPilot extension **uninstalled** before starting the midterm.\n",
        "In Google Collab you need to go to settings to disable the AI functionality. See last announcement for details.\n",
        "\n",
        "**If you get caught with AI completion installed (even if it seems disabled at this point), it will be reported as academic dishonesty.**\n",
        "\n",
        "You need to submit the midterm by the due date (12:20) on OWL under Midterm_OpenBook. Late submission will be scored with 0 pts, unless you have received extra accommodation. So please start your submission five minutes before the deadline!  \n",
        "\n",
        "### Additional Guidance\n",
        "The midterm is supposed to be challenging. If you get stuck on a particular question because you can't solve a programming problem, just write down in text *how* you would try to solve the problem - if correct, this can give you partial points. Then continue the next question.\n",
        "If you need the solution from a previous problem, just *assume* some outcome and answer the question under that assumption. If you do this, make your assumptions explicit.\n",
        "\n",
        "Read all the questions carefully. Most questions demands a written answer as part of it. These need to be spelled out in a whole English sentence.\n",
        "\n",
        "To finish the midterm in the alloted time, you will have to work fast and efficiently. Good luck!\n",
        "\n",
        "## General grading criteria\n",
        "- The code must be working. After you are done clear the output and re-run the whole notebook to check.\n",
        "- The notebook should be submitted with the final output shown.\n",
        "- Results should be reported in understandable sentences.\n",
        "- Results should be reported rounded to a reasonable number of decimals.\n",
        "- Each figure needs to have x and y axes labeled.\n",
        "- Each Figure should have a text caption that explains what is displayed in the Figure (type of plot, x, y, grouping variables).\n",
        "\n",
        "\n",
        "## Preliminaries\n",
        "You are allowed to use the following packages in python, but no other packages. For solving the problems, use the approaches and concepts you learned in class."
      ]
    },
    {
      "cell_type": "code",
      "execution_count": null,
      "metadata": {
        "id": "RfX2m-b2cVSP"
      },
      "outputs": [],
      "source": [
        "import matplotlib.pyplot as plt\n",
        "import scipy.stats as ss\n",
        "import pandas as pd\n",
        "import numpy as np\n",
        "import seaborn as sb"
      ]
    },
    {
      "cell_type": "markdown",
      "metadata": {
        "id": "IcmOTcpecVSQ"
      },
      "source": [
        "## Data set\n",
        "Based on your suggestions from the close-book portion of the exam, the researchers from the weight-loss study have redone their experiment with a full random assignment of participants to the four groups. This time they relied only on random assignment and did not block for gender.\n",
        "As before, the experiment compares different weight-loss drugs against each other. Adult participants were recruited to the experiment. Participants were randomly assigned to one of four groups: Placebo (P), Semaglutide (S), Phentermine-topiramate (Pt), and Orlistat (O). They received the medication. a nutritional plan, and a regular exercise regiment. The main outcome variable was body weight - this was measured before and after 1 month of taking the drug / placebo and following the program.\n",
        "\n",
        "The data frame contains the data fields\n",
        "- group: \t        Whether the participant was in the Placebo (P), Semaglutide (S), Phentermine-topiramate (Pt), or Orlistat (O) group\n",
        "- age:   \t\t    Age of the person in years\n",
        "- gender:\t\t\t'M':male  or 'F':female\n",
        "- weight_before: \tweight (in kg) at the Beginning of the study\n",
        "- weight_after:     weight (in kg) at the end of the study\n",
        "- weight_change:    Difference in weight from before to after\n",
        "\n",
        "Note that some participants did not finish the trial - this may be because they did not tolerate the side-effects of the medication, or because they terminated the study for other reasons not related to the medication.\n",
        "These participants have a `nan` value as missing value for the weight_after and weight_change."
      ]
    },
    {
      "cell_type": "markdown",
      "metadata": {
        "id": "VLElDgtecVSR"
      },
      "source": [
        "## Question 1 (4pt)\n",
        "Load the weight_loss.csv file.\n",
        "Report the frequencies of male and female participants in the four groups in a table. [2ts]\n",
        "\n",
        "Written answer: Which group has the largest proportion of female participants? [2pts]\n"
      ]
    },
    {
      "cell_type": "code",
      "execution_count": null,
      "metadata": {
        "colab": {
          "base_uri": "https://localhost:8080/",
          "height": 235
        },
        "id": "Cvze_RQycVSR",
        "outputId": "40dd246c-78fd-4054-9d62-9c2edf2b005e"
      },
      "outputs": [],
      "source": []
    },
    {
      "cell_type": "markdown",
      "metadata": {
        "id": "i27t-OY_cVSS"
      },
      "source": [
        "## Question 2 (5pt)\n",
        "Generate a box plot, which shows the weight change  for the four groups, separately for male and female participants.\n",
        "Remember to provide X and Y label and a figure caption.\n",
        "\n",
        "Written answers: Which group shows the largest average weight loss overall?\n",
        "\n",
        "What other observation can you make that is relevant when interpreting how well each medication works? Why is it relevant?"
      ]
    },
    {
      "cell_type": "code",
      "execution_count": null,
      "metadata": {
        "colab": {
          "base_uri": "https://localhost:8080/",
          "height": 466
        },
        "id": "doHFeWY0cVSS",
        "outputId": "79d3a8e0-0cdf-4f48-dd2c-25706cd3273b"
      },
      "outputs": [],
      "source": []
    },
    {
      "cell_type": "markdown",
      "metadata": {
        "id": "mO_8rXcIcVST"
      },
      "source": [
        "## Question 3 (4pts)\n",
        "It has been shown that the amount of weight loss is usually proportional to the initial weight of the person.\n",
        "\n",
        "Given this, calculate and report the mean initial weight (`weight_before`) for each of the groups (P, S, Pt, O),\n",
        "\n",
        "Also report the mean initial weight, split only by gender.\n",
        "\n",
        "Written answer: Give this, and the observations from Question 1 amd 2, explain how these group differences could bias your conclusion about which medication is the most effective."
      ]
    },
    {
      "cell_type": "code",
      "execution_count": null,
      "metadata": {
        "colab": {
          "base_uri": "https://localhost:8080/"
        },
        "id": "XJ-0DSKCcVSU",
        "outputId": "f44ef2f4-18ab-4c3d-821f-52a2353a0369"
      },
      "outputs": [],
      "source": []
    },
    {
      "cell_type": "markdown",
      "metadata": {
        "id": "1VdtVoR1cVSV"
      },
      "source": [
        "## Question 4 (3pt)\n",
        "\n",
        "Based on your insights from Question 1-3, suggest a way of avoiding a bias when you try to estimate the mean effect of the medication.\n",
        "Without having to redo the study and collect new data, how could you address this issue in the analysis? Describe your approach in a few sentences. "
      ]
    },
    {
      "cell_type": "markdown",
      "metadata": {},
      "source": []
    },
    {
      "cell_type": "markdown",
      "metadata": {
        "id": "_8r9m_xycVSW"
      },
      "source": [
        "## Question 5 [5pts]\n",
        "Calculate and report the dropout rates for the four groups.\n",
        "\n",
        "Written answer: What could could the dropout rates you observed mean? How may this influence you conclusion from the study?"
      ]
    },
    {
      "cell_type": "code",
      "execution_count": null,
      "metadata": {
        "colab": {
          "base_uri": "https://localhost:8080/"
        },
        "id": "Hf5YtKOscVSW",
        "outputId": "9352ccd8-6d89-4c7e-eb0b-fa326af19868"
      },
      "outputs": [],
      "source": []
    },
    {
      "cell_type": "markdown",
      "metadata": {
        "id": "L9t3rWZMcVSW"
      },
      "source": [
        "## Question 6 (5pts)\n",
        "Write a function that calculates and the Chi2-square value for the difference between the observed dropout rate and the expected dropout rate across groups, assuming that the dropout is independent of the medication group.  \n",
        "Call the function and report the Chi2-value. "
      ]
    },
    {
      "cell_type": "code",
      "execution_count": null,
      "metadata": {
        "colab": {
          "base_uri": "https://localhost:8080/"
        },
        "id": "1bGk6kfBcVSX",
        "outputId": "bfd90a6f-29ab-4d3e-fb7c-0b59c8e24803"
      },
      "outputs": [],
      "source": []
    },
    {
      "cell_type": "markdown",
      "metadata": {
        "id": "hRd3eJSkcVSX"
      },
      "source": [
        "# Question 7 (5pts)\n",
        "Using the function from Q4, test the hypothesis that the dropout rates are the same for all groups (use a permutation test).\n",
        "\n",
        "Written answer: What is your null hypothesis and what is your conclusion?"
      ]
    },
    {
      "cell_type": "code",
      "execution_count": null,
      "metadata": {},
      "outputs": [],
      "source": []
    },
    {
      "cell_type": "markdown",
      "metadata": {
        "id": "EeWJ7w70cVSY"
      },
      "source": [
        "## Question 8 (4pt)\n",
        "Write a function that calculates the difference in the median of one of the groups and the median of the placebo group. The group of interest should be an optional input parameter of the function, with the default value of 'S'. Report the median difference for all three groups (S, Pt, O) compared to the placebo group rounded to 3 decimal places.\n",
        "\n",
        "Written answer: Which group shows the largest difference?"
      ]
    },
    {
      "cell_type": "code",
      "execution_count": null,
      "metadata": {
        "id": "iMQUkgSgcVSY"
      },
      "outputs": [],
      "source": []
    },
    {
      "cell_type": "markdown",
      "metadata": {
        "id": "-jcc99hTcVSY"
      },
      "source": [
        "## Question 9 (5pts)\n",
        "Conduct a permutation test to test the hypothesis that the median weight loss in the Semaglutide group is larger than the Placebo group.\n",
        "Your code should produce a figure that shows the distribution of the chosen test statistics under the Null hypothesis, as well as the empirical value as a vertical line.  Remember to provide axis labels and a caption.\n",
        "\n",
        "Written answer: Report the value of the statistics and the associated p-value, using at least 5000 iterations. What do you conclude regarding the hypothesis formulated above, using a significance threshold of p=0.05?"
      ]
    },
    {
      "cell_type": "code",
      "execution_count": null,
      "metadata": {
        "colab": {
          "base_uri": "https://localhost:8080/",
          "height": 483
        },
        "id": "fVTwalf0cVSY",
        "outputId": "f8586b49-7fa0-4990-8f1d-998f70d8d8b4"
      },
      "outputs": [],
      "source": []
    },
    {
      "cell_type": "markdown",
      "metadata": {
        "id": "hhrRYV2ycVSZ"
      },
      "source": [
        "## Question 10 (10pts)\n",
        "We are coming back to Question 9 and on the closed-book exam:\n",
        "Here we wanted to establish the average effect size (median weight loss difference per month) for Semaglutide vs. Placebo group with confidence interval. You hopefully recommended to perform a bootstrap as opposed to a randomization test. The correct approach here is to resample data for each group separately, each time calculating the median difference between the two bootstrap groups. Write a bootstrap function that achieves this goal.\n",
        "Plot the histogram on the bootstrap estimates of the median difference. Remember to provide X and Y label and caption. Report the 95% confidence interval for the median difference in weight loss between the Semaglutide and Placebo group. Show the CI in your plot.\n",
        "\n",
        "Written answer: How would the CI change if we conducted a bootstrap on the Semaglutide only, and each time subtract the median of the real (non-boostrapped) Placebo group? Why would this not the the correct approach?  "
      ]
    },
    {
      "cell_type": "code",
      "execution_count": null,
      "metadata": {
        "id": "4cnHO1_OcVSZ"
      },
      "outputs": [],
      "source": []
    }
  ],
  "metadata": {
    "colab": {
      "provenance": []
    },
    "kernelspec": {
      "display_name": "base",
      "language": "python",
      "name": "python3"
    },
    "language_info": {
      "codemirror_mode": {
        "name": "ipython",
        "version": 3
      },
      "file_extension": ".py",
      "mimetype": "text/x-python",
      "name": "python",
      "nbconvert_exporter": "python",
      "pygments_lexer": "ipython3",
      "version": "3.9.5"
    }
  },
  "nbformat": 4,
  "nbformat_minor": 0
}
