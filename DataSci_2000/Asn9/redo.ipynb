{
 "cells": [
  {
   "cell_type": "markdown",
   "metadata": {},
   "source": [
    "# Assignment 9: Multiple regression\n",
    "\n",
    "### Learning Outcomes\n",
    "This assignment introduces you to multiple regression analysis, model comparison between different multiple regression models, and bootstrap to obtain confidence intervals for regression parameters. \n",
    "### Data set \n",
    "An investigator is interested in understanding the relationship, if any, between the analytical skills of young gifted children and the following variables: father’s IQ, mother’s IQ, age in month when the child first said ‘mummy’ or ‘daddy’, age in month when the child first counted to 10 successfully, average number of hours per week the child’s mother or father reads to the child, average number of hours per week the child watched an educational program on TV during the past three months, average number of hours per week the child watched cartoons on TV during the past three months. \n",
    "\n",
    "The analytical skills are evaluated using a standard testing procedure, and the score on this test is used as the response variable. Data were collected from schools in a large city on a set of thirty-six children who were identified as gifted children soon after they reached the age of four.\n",
    " \n",
    "The data frame stored in gifted.csv contains the variables: \n",
    "- score:       Score in test of analytical skills.\n",
    "- fatheriq:    Father’s IQ.\n",
    "- motheriq:  Mother’s IQ.\n",
    "- speak:       Age in months when the child first said ‘mummy’ or ‘daddy’.\n",
    "- count:       Age in months when the child first counted to 10 successfully.\n",
    "- read:         Average number of hours per week the child’s mother or father reads to the child.\n",
    "- edutv:       Average number of hours per week the child watched an educational program on TV during the past three months.\n",
    "- cartoons:  Average number of hours per week the child watched cartoons on TV during the past three months.\n",
    "\n",
    "### Preliminaries\n",
    "Set up the environment by importing pandas, numpy, and matplotlib, scipy.optimize. This is already done in the preliminaries. Ensure that you have fully mastered and understood HW7 before starting the assignment. \n"
   ]
  },
  {
   "cell_type": "code",
   "execution_count": 2,
   "metadata": {},
   "outputs": [],
   "source": [
    "import matplotlib.pyplot as plt\n",
    "import scipy.optimize as so\n",
    "import pandas as pd\n",
    "import numpy as np"
   ]
  },
  {
   "cell_type": "markdown",
   "metadata": {},
   "source": [
    "## Task 1: Implementing multiple regression ( / 28 pts)\n",
    "### Question 1.1 ( / 6 pts)\n",
    "Implement the function multRegPredict(b,D,xname). \n",
    "  - b is a list of parameter, with the first one being the intercept \n",
    "  - D is a DataFrame that contains the regressors\n",
    "  - xname is a list of column names in D that will be added as regressors \n",
    "\n",
    "b needs to contain one more parameter (the intercept) than the numbers of regressors in xname. It will be helpful to start from the corresponding functions from last homework for polynomial regression. \n",
    "\n",
    "Then make a scatterplot of D.read and D.score \n",
    "Call your new function with yp = multRegPredict([134,11.8], D,['read']) and add predicted values to your plot (just call plt.scatter again – the dots will be added in a different color).  "
   ]
  },
  {
   "cell_type": "code",
   "execution_count": 143,
   "metadata": {},
   "outputs": [],
   "source": [
    "def multRegPredict(b, D, xname):\n",
    "    yp=np.ones(len(D))*b[0] \n",
    "\n",
    "    for i in range(len(xname)):\n",
    "        yp += b[i+1]*D[xname[i]]\n",
    "    return yp"
   ]
  },
  {
   "cell_type": "code",
   "execution_count": 20,
   "metadata": {},
   "outputs": [
    {
     "data": {
      "text/plain": [
       "<matplotlib.collections.PathCollection at 0x1552629d0>"
      ]
     },
     "execution_count": 20,
     "metadata": {},
     "output_type": "execute_result"
    },
    {
     "data": {
      "image/png": "[encoded data removed]",
      "text/plain": [
       "<Figure size 640x480 with 1 Axes>"
      ]
     },
     "metadata": {},
     "output_type": "display_data"
    }
   ],
   "source": [
    "df = pd.read_csv('gifted.csv')\n",
    "plt.scatter(df['read'], df['score'])\n",
    "\n",
    "yp = multRegPredict([134,11.8], df,['read'])\n",
    "plt.scatter(df['read'], yp)"
   ]
  },
  {
   "cell_type": "markdown",
   "metadata": {},
   "source": []
  },
  {
   "cell_type": "markdown",
   "metadata": {},
   "source": [
    "### Question 1.2 ( / 10 pts)\n",
    "Implement the function multRegLossRSS(b,D,y,xname). y is a list or np-array for the response variable. The function should get the predictions from multRegPredict, and then calculate the residual sum-of-squares, and the derivative of the loss function in respect to each parameter. \n",
    "\n",
    "Test the function by calling multRegLossRSS([134,11.8],D,D.score,['read']). Report the resulting RSS for the regression of score (response variable) against read (explanatory variable)- as well as the derivatives for each parameter. Written answer: From the value of the derivative, do you have to increase or decrease the slope parameter to get a better fit?"
   ]
  },
  {
   "cell_type": "code",
   "execution_count": 161,
   "metadata": {},
   "outputs": [
    {
     "data": {
      "text/plain": [
       "(543.5100000000003, array([ 4.84, 10.3 ]))"
      ]
     },
     "execution_count": 161,
     "metadata": {},
     "output_type": "execute_result"
    }
   ],
   "source": [
    "def multRegLossRSS(b,D,y,xname):\n",
    "    deriv = np.zeros(len(b))\n",
    "    yp = multRegPredict(b, D, xname)\n",
    "    res = y - yp\n",
    "    rss = sum(res**2)\n",
    "    deriv[0]=-2*sum(res)\n",
    "    for i in range(len(xname)):\n",
    "        deriv[i+1] = -2*sum(res*D[xname[i]])\n",
    "    return rss, deriv\n",
    "\n",
    "multRegLossRSS([134,11.8],df,df.score,['read'])"
   ]
  },
  {
   "cell_type": "markdown",
   "metadata": {},
   "source": [
    "### Question 1.3 ( / 12 pts)\n",
    "Implement the function multRegFit(D,y,xname), which uses so.minimize and multRegLossRSS to estimate the parameter values, and then calls multRegLossRSS again to calculate the R2 of the fit. The function should then return the R2 values and regression coefficients b. Use this print on the screen the R2-values for the models:\n",
    "\n",
    "- y = b0  (hint, set xname = [])\n",
    "- y = b0 + b1 \\* read \n",
    "- y = b0 + b1 \\* motheriq \n",
    "- y = b0 + b1 \\* motheriq + b2 \\* read\n",
    "\n",
    "Which model has the highest R2? How do you interpret these results? How much of the variance of the response variable is uniquely explained by reading, how much by motheriq? Do the two variables explain each other away or explain independent parts of the variance? "
   ]
  },
  {
   "cell_type": "code",
   "execution_count": 142,
   "metadata": {},
   "outputs": [],
   "source": [
    "def multRegFit(D, y, xname):\n",
    "    b0 = np.zeros(len(xname)+1)\n",
    "    RESULT = so.minimize(multRegLossRSS, b0, args=(D,y,xname), jac=True)\n",
    "    b = RESULT.x\n",
    "\n",
    "    RSS = multRegLossRSS(b,D,y,xname)[0]\n",
    "    TSS = sum((y - np.mean(y))**2)\n",
    "    R2 = 1 - RSS/TSS\n",
    "\n",
    "    return R2, b"
   ]
  },
  {
   "cell_type": "code",
   "execution_count": 40,
   "metadata": {},
   "outputs": [
    {
     "name": "stdout",
     "output_type": "stream",
     "text": [
      "Intercept\n",
      "R2 is 0.000\n",
      "Read\n",
      "R2 is 0.276\n",
      "MotherIQ\n",
      "R2 is 0.326\n",
      "Read + MotherIQ\n",
      "R2 is 0.629\n"
     ]
    }
   ],
   "source": [
    "print('Intercept')\n",
    "R0,B0=multRegFit(df,df.score,[])\n",
    "print(\"R2 is {0:3.3f}\".format(R0))\n",
    "print('Read')\n",
    "R1,B1=multRegFit(df,df.score,['read'])\n",
    "print(\"R2 is {0:3.3f}\".format(R1))\n",
    "print('MotherIQ')\n",
    "R2,B2=multRegFit(df,df.score,['motheriq'])\n",
    "print(\"R2 is {0:3.3f}\".format(R2))\n",
    "print('Read + MotherIQ')\n",
    "R3,B3=multRegFit(df,df.score,['read','motheriq'])\n",
    "print(\"R2 is {0:3.3f}\".format(R3))\n"
   ]
  },
  {
   "cell_type": "markdown",
   "metadata": {},
   "source": []
  },
  {
   "cell_type": "markdown",
   "metadata": {},
   "source": [
    "## Task 2: Do crossvalidation on these models  ( / 32 pts)\n",
    "### Question 2.1 ( / 12 pts)\n",
    "Modify the leaveOneOutCV function from last homework, so it works on a data frame with the multiple regression analysis. The inputs to the function are:  \n",
    "\n",
    "def leaveOneOutCV(D,y,args=(),fitfcn=multRegFit,predictfcn=multRegPredict):\n",
    " - D: Data Frame with explanatory variables \n",
    " - y: A list or np-array of the response variable\n",
    " - args: Input arguments for the fitfcn and predict function (xname) \n",
    " - fitfcn: Function for fitting called as fitfcn(D,y,args)\n",
    " - predictfcn: Function for prediction called as predictfcn(D,y,args)\n"
   ]
  },
  {
   "cell_type": "code",
   "execution_count": 138,
   "metadata": {},
   "outputs": [],
   "source": [
    "def leaveOneOutCV(D, y, xname, fit_fcn=multRegFit, predict_fcn=multRegPredict):\n",
    "    N = len(D)\n",
    "    yp = np.zeros(N)\n",
    "    ind = np.arange(N)\n",
    "    for i in range(N):\n",
    "        R2, b = fit_fcn(D[ind!=i], y[ind!=i], xname)\n",
    "        yp[i] = predict_fcn(b, D.loc[i], xname)[0]\n",
    "    \n",
    "    TSS = sum((y - np.mean(y))**2)\n",
    "    RSScv = sum((y-yp)**2)\n",
    "    R2cv = 1 - RSScv/TSS\n",
    "\n",
    "\n",
    "    return R2cv"
   ]
  },
  {
   "cell_type": "markdown",
   "metadata": {},
   "source": [
    "### Question 2.2 ( / 8 pts)\n",
    "Call the function to get the cross-validated $R^2$ for the 4 models specified in Task 1, Question 3. How to you interpret these results? Is there evidence that reading increases the analytic score over and above what the IQ of the mother does? "
   ]
  },
  {
   "cell_type": "code",
   "execution_count": 139,
   "metadata": {},
   "outputs": [
    {
     "name": "stdout",
     "output_type": "stream",
     "text": [
      "Predictive R2 for intercept is -0.058\n"
     ]
    }
   ],
   "source": [
    "pR2_1 = leaveOneOutCV(df,df.score,[])\n",
    "print(f'Predictive R2 for intercept is {pR2_1:3.3f}')"
   ]
  },
  {
   "cell_type": "code",
   "execution_count": 162,
   "metadata": {},
   "outputs": [
    {
     "name": "stdout",
     "output_type": "stream",
     "text": [
      "Predictive R2 for reading is 0.204\n"
     ]
    }
   ],
   "source": [
    "pR2_2 = leaveOneOutCV(df,df.score,['read'])\n",
    "print(f'Predictive R2 for reading is {pR2_2:3.3f}')"
   ]
  },
  {
   "cell_type": "code",
   "execution_count": 157,
   "metadata": {},
   "outputs": [
    {
     "name": "stdout",
     "output_type": "stream",
     "text": [
      "Predictive R2 for motherIQ is 0.236\n"
     ]
    }
   ],
   "source": [
    "pR2_3 = leaveOneOutCV(df,df.score,['motheriq'])\n",
    "print(f'Predictive R2 for motherIQ is {pR2_3:3.3f}')"
   ]
  },
  {
   "cell_type": "code",
   "execution_count": 158,
   "metadata": {},
   "outputs": [
    {
     "name": "stdout",
     "output_type": "stream",
     "text": [
      "Predictive R2 for read + motherIQ is 0.576\n"
     ]
    }
   ],
   "source": [
    "pR2_4 = leaveOneOutCV(df,df.score,['read','motheriq'])\n",
    "print(f'Predictive R2 for read + motherIQ is {pR2_4:3.3f}')"
   ]
  },
  {
   "cell_type": "markdown",
   "metadata": {},
   "source": []
  },
  {
   "cell_type": "markdown",
   "metadata": {},
   "source": [
    "### Question 2.3 ( / 4 pts)\n",
    "Add the variable fatheriq to the model containing read and motheriq. Is there evidence that the IQ of the father improves the prediction over and above what hours reading and mother IQ can predict? "
   ]
  },
  {
   "cell_type": "code",
   "execution_count": null,
   "metadata": {},
   "outputs": [
    {
     "name": "stdout",
     "output_type": "stream",
     "text": [
      "Predictive R2 for read + motherIQ + fatherIQ is 0.633\n",
      "(0.6872499977248245, array([44.3655658 , 12.76631915,  0.42824745,  0.32147751]))\n"
     ]
    }
   ],
   "source": [
    "pR2_5 = leaveOneOutCV(df,df.score,['read','motheriq', 'fatheriq'])\n",
    "print(f'Predictive R2 for read + motherIQ + fatherIQ is {pR2_5:3.3f}')"
   ]
  },
  {
   "cell_type": "markdown",
   "metadata": {},
   "source": []
  },
  {
   "cell_type": "markdown",
   "metadata": {},
   "source": [
    "### Question 2.4 ( / 8 pts)\n",
    "Is edutv (hours of educational TV) alone a reliable predictor of the analytic score? Does it add prediction power over and above from what the model motheriq + read + fatheriq can predict? \n"
   ]
  },
  {
   "cell_type": "code",
   "execution_count": 165,
   "metadata": {},
   "outputs": [
    {
     "name": "stdout",
     "output_type": "stream",
     "text": [
      "Predictive R2 for edutv is 0.037\n"
     ]
    }
   ],
   "source": [
    "pR2_6 = leaveOneOutCV(df,df.score,['edutv'])\n",
    "print(f'Predictive R2 for edutv is {pR2_6:3.3f}')"
   ]
  },
  {
   "cell_type": "code",
   "execution_count": 168,
   "metadata": {},
   "outputs": [
    {
     "name": "stdout",
     "output_type": "stream",
     "text": [
      "Predictive R2 for read + motherIQ + fatherIQ + edutv is 0.621\n",
      "(0.7002993395259491, array([49.09254661, 12.27995661,  0.39867851,  0.3373051 , -1.02671515]))\n"
     ]
    }
   ],
   "source": [
    "pR2_7 = leaveOneOutCV(df,df.score,['read','motheriq', 'fatheriq', 'edutv'])\n",
    "print(f'Predictive R2 for read + motherIQ + fatherIQ + edutv is {pR2_7:3.3f}')"
   ]
  },
  {
   "cell_type": "markdown",
   "metadata": {},
   "source": []
  },
  {
   "cell_type": "markdown",
   "metadata": {},
   "source": [
    "## Task 3: Bootstrap for multiple regression. ( / 40 pts)\n",
    "### Question 3.1 ( / 14 pts)\n",
    "Implement bootstrap for linear regression. Start from the function bootstrap from Homework 3. The function should have input parameters\n",
    "\n",
    "```\n",
    "def bootstrapReg(D,y,args,fitfcn,numIter=500):\n",
    "```\n",
    "and should return a numIter x numParams np.array of bootstrap estimates.  \n",
    "\n",
    "fitfcn is the function that will be used to get the parameter estimates.\n",
    "numParams is the length of b-vector returned from the fitfcn (in our case multiRegFit). That is, each column of the array should be the boostrap estimates for one of the regression coefficients. \n",
    "\n",
    "Note: you will also have to use here the following functions (add them to your notebook): \n",
    "- confidenceInt from HW 3\n",
    "\n",
    "Run the bootstrap on the data set in gifted.csv. Run the bootstrap on a simple regression model that explains ‘score’ from the explanatory variable ‘edutv’ alone. Report the CI for edutv -slope. Does the CI include zero - i.e. is there evidence that the relationship between edutv and score is not zero? Which direction is the association between the two variables? "
   ]
  },
  {
   "cell_type": "code",
   "execution_count": 174,
   "metadata": {},
   "outputs": [],
   "source": [
    "def bootstrapReg(D, y, xname, fitfcn=multRegFit, numIter=500):\n",
    "    N = len(D)\n",
    "    array = np.zeros((numIter, len(xname)+1))\n",
    "    ind = np.arange(N)\n",
    "    for i in range(numIter):\n",
    "        sample = np.random.choice(ind, N, replace=True)\n",
    "        R2, array[i,:] = fitfcn(D.iloc[sample], y[sample], xname)\n",
    "    return array\n",
    "\n",
    "\n",
    "def confidenceInt(data, prec):\n",
    "    lower = (100-prec)/2\n",
    "    upper = (prec + lower)\n",
    "    list = [np.percentile(data, lower), np.percentile(data, upper)]\n",
    "    return list\n"
   ]
  },
  {
   "cell_type": "code",
   "execution_count": 175,
   "metadata": {},
   "outputs": [
    {
     "data": {
      "text/plain": [
       "[np.float64(-5.09353575397918), np.float64(-0.28049155353026606)]"
      ]
     },
     "execution_count": 175,
     "metadata": {},
     "output_type": "execute_result"
    }
   ],
   "source": [
    "array = bootstrapReg(df, df['score'], ['edutv'])\n",
    "confidenceInt(array[:,1], 95)"
   ]
  },
  {
   "cell_type": "markdown",
   "metadata": {},
   "source": []
  },
  {
   "cell_type": "markdown",
   "metadata": {},
   "source": [
    "### Question 3.2 ( / 8 pts)\n",
    "Run the bootstrap on the model that explains score as a function of hours of cartoons watched. Does the confidence interval for the slope between ‘cartoons’ and ‘score’ include zero? "
   ]
  },
  {
   "cell_type": "code",
   "execution_count": 176,
   "metadata": {},
   "outputs": [
    {
     "data": {
      "text/plain": [
       "[np.float64(-0.7384846266772139), np.float64(4.127554212828971)]"
      ]
     },
     "execution_count": 176,
     "metadata": {},
     "output_type": "execute_result"
    }
   ],
   "source": [
    "array = bootstrapReg(df, df['score'], ['cartoons'])\n",
    "confidenceInt(array[:,1], 95)"
   ]
  },
  {
   "cell_type": "markdown",
   "metadata": {},
   "source": []
  },
  {
   "cell_type": "markdown",
   "metadata": {},
   "source": [
    "### Question 3.3 ( / 8 pts)\n",
    "Run the bootstrap on a model that explains score as a function of edutv and cartoons. Report the CIs for both variabless. Do the conclusion from Question 1 and 2 change? Have the CIs become smaller or larger as compared to the simple regression models from Question 1 and 2?"
   ]
  },
  {
   "cell_type": "code",
   "execution_count": 179,
   "metadata": {},
   "outputs": [
    {
     "name": "stdout",
     "output_type": "stream",
     "text": [
      "[np.float64(-14.66112248564409), np.float64(-1.3701077835088946)]\n",
      "[np.float64(-11.796345896347011), np.float64(0.6859131542269168)]\n"
     ]
    }
   ],
   "source": [
    "array = bootstrapReg(df, df['score'], ['edutv', 'cartoons'])\n",
    "print(confidenceInt(array[:,1], 95))\n",
    "print(confidenceInt(array[:,2], 95))"
   ]
  },
  {
   "cell_type": "markdown",
   "metadata": {},
   "source": []
  },
  {
   "cell_type": "markdown",
   "metadata": {},
   "source": [
    "### Question 3.4 ( / 10 pts)\n",
    "Plot the bootstrap estimates for edutv and cartoons from Question 3 against each other in a scatter plot. Are they positively or negatively related? What does this mean for the relationship between the regressors?"
   ]
  },
  {
   "cell_type": "code",
   "execution_count": 181,
   "metadata": {},
   "outputs": [
    {
     "data": {
      "text/plain": [
       "Text(0, 0.5, 'cartoon slope')"
      ]
     },
     "execution_count": 181,
     "metadata": {},
     "output_type": "execute_result"
    },
    {
     "data": {
      "image/png": "[encoded data removed]",
      "text/plain": [
       "<Figure size 640x480 with 1 Axes>"
      ]
     },
     "metadata": {},
     "output_type": "display_data"
    }
   ],
   "source": [
    "plt.scatter(array[:,1],array[:,2])\n",
    "plt.xlabel('edutv slope')\n",
    "plt.ylabel('cartoon slope')"
   ]
  },
  {
   "cell_type": "markdown",
   "metadata": {},
   "source": []
  },
  {
   "cell_type": "markdown",
   "metadata": {},
   "source": []
  }
 ],
 "metadata": {
  "kernelspec": {
   "display_name": "Python 3",
   "language": "python",
   "name": "python3"
  },
  "language_info": {
   "codemirror_mode": {
    "name": "ipython",
    "version": 3
   },
   "file_extension": ".py",
   "mimetype": "text/x-python",
   "name": "python",
   "nbconvert_exporter": "python",
   "pygments_lexer": "ipython3",
   "version": "3.9.6"
  }
 },
 "nbformat": 4,
 "nbformat_minor": 1
}
