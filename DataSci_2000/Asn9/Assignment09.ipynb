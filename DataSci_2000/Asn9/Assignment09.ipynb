{
 "cells": [
  {
   "cell_type": "markdown",
   "metadata": {},
   "source": [
    "# Assignment 9: Multiple regression\n",
    "\n",
    "### Learning Outcomes\n",
    "This assignment introduces you to multiple regression analysis, model comparison between different multiple regression models, and bootstrap to obtain confidence intervals for regression parameters. \n",
    "### Data set \n",
    "An investigator is interested in understanding the relationship, if any, between the analytical skills of young gifted children and the following variables: father’s IQ, mother’s IQ, age in month when the child first said ‘mummy’ or ‘daddy’, age in month when the child first counted to 10 successfully, average number of hours per week the child’s mother or father reads to the child, average number of hours per week the child watched an educational program on TV during the past three months, average number of hours per week the child watched cartoons on TV during the past three months. \n",
    "\n",
    "The analytical skills are evaluated using a standard testing procedure, and the score on this test is used as the response variable. Data were collected from schools in a large city on a set of thirty-six children who were identified as gifted children soon after they reached the age of four.\n",
    " \n",
    "The data frame stored in gifted.csv contains the variables: \n",
    "- score:       Score in test of analytical skills.\n",
    "- fatheriq:    Father’s IQ.\n",
    "- motheriq:  Mother’s IQ.\n",
    "- speak:       Age in months when the child first said ‘mummy’ or ‘daddy’.\n",
    "- count:       Age in months when the child first counted to 10 successfully.\n",
    "- read:         Average number of hours per week the child’s mother or father reads to the child.\n",
    "- edutv:       Average number of hours per week the child watched an educational program on TV during the past three months.\n",
    "- cartoons:  Average number of hours per week the child watched cartoons on TV during the past three months.\n",
    "\n",
    "### Preliminaries\n",
    "Set up the environment by importing pandas, numpy, and matplotlib, scipy.optimize. This is already done in the preliminaries. Ensure that you have fully mastered and understood HW7 before starting the assignment. \n"
   ]
  },
  {
   "cell_type": "code",
   "execution_count": 1,
   "metadata": {},
   "outputs": [],
   "source": [
    "import matplotlib.pyplot as plt\n",
    "import scipy.optimize as so\n",
    "import pandas as pd\n",
    "import numpy as np"
   ]
  },
  {
   "cell_type": "markdown",
   "metadata": {},
   "source": [
    "## Task 1: Implementing multiple regression ( / 28 pts)\n",
    "### Question 1.1 ( / 6 pts)\n",
    "Implement the function multRegPredict(b,D,xname). \n",
    "  - b is a list of parameter, with the first one being the intercept \n",
    "  - D is a DataFrame that contains the regressors\n",
    "  - xname is a list of column names in D that will be added as regressors \n",
    "\n",
    "b needs to contain one more parameter (the intercept) than the numbers of regressors in xname. It will be helpful to start from the corresponding functions from last homework for polynomial regression. \n",
    "\n",
    "Then make a scatterplot of D.read and D.score \n",
    "Call your new function with yp = multRegPredict([134,11.8], D,['read']) and add predicted values to your plot (just call plt.scatter again – the dots will be added in a different color).  "
   ]
  },
  {
   "cell_type": "code",
   "execution_count": 5,
   "metadata": {},
   "outputs": [],
   "source": [
    "D = pd.read_csv('gifted.csv')\n"
   ]
  },
  {
   "cell_type": "code",
   "execution_count": 10,
   "metadata": {},
   "outputs": [
    {
     "data": {
      "text/plain": [
       "<matplotlib.collections.PathCollection at 0x14f029a90>"
      ]
     },
     "execution_count": 10,
     "metadata": {},
     "output_type": "execute_result"
    },
    {
     "data": {
      "image/png": "[encoded data removed]",
      "text/plain": [
       "<Figure size 640x480 with 1 Axes>"
      ]
     },
     "metadata": {},
     "output_type": "display_data"
    }
   ],
   "source": [
    "def multRegPredict(b,D,xname):\n",
    "    yp = np.ones(len(D)) * b[0]\n",
    "    \n",
    "    for i, name in enumerate(xname):\n",
    "        yp += b[i+1] * D[name]\n",
    "\n",
    "\n",
    "    return yp\n",
    "\n",
    "plt.scatter(D.read, D.score, label='Data')\n",
    "\n",
    "yp = multRegPredict([134,11.8], D,['read'])\n",
    "plt.scatter(D.read, yp, label='Data')\n",
    "\n"
   ]
  },
  {
   "cell_type": "markdown",
   "metadata": {},
   "source": []
  },
  {
   "cell_type": "markdown",
   "metadata": {},
   "source": [
    "### Question 1.2 ( / 10 pts)\n",
    "Implement the function multRegLossRSS(b,D,y,xname). y is a list or np-array for the response variable. The function should get the predictions from multRegPredict, and then calculate the residual sum-of-squares, and the derivative of the loss function in respect to each parameter. \n",
    "\n",
    "Test the function by calling multRegLossRSS([134,11.8],D,D.score,['read']). Report the resulting RSS for the regression of score (response variable) against read (explanatory variable)- as well as the derivatives for each parameter. Written answer: From the value of the derivative, do you have to increase or decrease the slope parameter to get a better fit?"
   ]
  },
  {
   "cell_type": "code",
   "execution_count": 18,
   "metadata": {},
   "outputs": [
    {
     "name": "stdout",
     "output_type": "stream",
     "text": [
      "RSS: 543.5100000000003\n",
      "Intercept: 4.839999999999975, slope:10.299999999999889\n"
     ]
    }
   ],
   "source": [
    "def multRegLossRSS(b,D,y,xname):\n",
    "    yp = multRegPredict(b,D,xname)\n",
    "    \n",
    "    res = y - yp\n",
    "    RSS = np.sum(res**2)\n",
    "    \n",
    "    deriv = np.zeros(len(b))\n",
    "    deriv[0] = -2 * np.sum(res)\n",
    "    \n",
    "    for i, name in enumerate(xname):\n",
    "        deriv[i+1] = -2 * np.sum(res * D[name])\n",
    "    \n",
    "    return RSS, deriv\n",
    "\n",
    "RSS, deriv = multRegLossRSS([134,11.8], D, D.score, ['read'])\n",
    "print(f'RSS: {RSS}')\n",
    "print(f'Intercept: {deriv[0]}, slope:{deriv[1]}')\n",
    "\n"
   ]
  },
  {
   "cell_type": "markdown",
   "metadata": {},
   "source": [
    "### Question 1.3 ( / 12 pts)\n",
    "Implement the function multRegFit(D,y,xname), which uses so.minimize and multRegLossRSS to estimate the parameter values, and then calls multRegLossRSS again to calculate the R2 of the fit. The function should then return the R2 values and regression coefficients b. Use this print on the screen the R2-values for the models:\n",
    "\n",
    "- y = b0  (hint, set xname = [])\n",
    "- y = b0 + b1 \\* read \n",
    "- y = b0 + b1 \\* motheriq \n",
    "- y = b0 + b1 \\* motheriq + b2 \\* read\n",
    "\n",
    "Which model has the highest R2? How do you interpret these results? How much of the variance of the response variable is uniquely explained by reading, how much by motheriq? Do the two variables explain each other away or explain independent parts of the variance? "
   ]
  },
  {
   "cell_type": "code",
   "execution_count": 15,
   "metadata": {},
   "outputs": [],
   "source": [
    "def multRegFit(D, y, xname):\n",
    "    def lossfcn(b):\n",
    "        RSS, _ = multRegLossRSS(b, D, y, xname)\n",
    "        return RSS\n",
    "    \n",
    "    b0 = np.zeros(len(xname) + 1)\n",
    "    b0[0] = np.mean(y)\n",
    "    \n",
    "    res = so.minimize(lossfcn, b0)\n",
    "    b = res.x\n",
    "    \n",
    "    RSS, _ = multRegLossRSS(b, D, y, xname)\n",
    "    TSS = np.sum((y - np.mean(y))**2)\n",
    "    R2 = 1 - RSS/TSS\n",
    "    \n",
    "    return R2, b"
   ]
  },
  {
   "cell_type": "code",
   "execution_count": 14,
   "metadata": {},
   "outputs": [
    {
     "name": "stdout",
     "output_type": "stream",
     "text": [
      "Model: y = b0\n",
      "R² = 0.000\n",
      "Parameters: b0 = 159.1\n",
      "\n",
      "Model: y = b0 + b1 * read\n",
      "R² = 0.276\n",
      "Parameters: b0 = 133.9, b1 = 11.8\n",
      "\n",
      "Model: y = b0 + b1 * motheriq\n",
      "R² = 0.326\n",
      "Parameters: b0 = 111.1, b1 = 0.4\n",
      "\n",
      "Model: y = b0 + b1 * motheriq + b2 * read\n",
      "R² = 0.629\n",
      "Parameters: b0 = 82.6, b1 = 0.4, b2 = 12.4\n"
     ]
    }
   ],
   "source": [
    "print(\"Model: y = b0\")\n",
    "R2_0, b_0 = multRegFit(D, D.score, [])\n",
    "print(f'R² = {R2_0:.3f}')\n",
    "print(f'Parameters: b0 = {b_0[0]:.1f}\\n')\n",
    "\n",
    "print(\"Model: y = b0 + b1 * read\")\n",
    "R2_1, b_1 = multRegFit(D, D.score, ['read'])\n",
    "print(f'R² = {R2_1:.3f}')\n",
    "print(f'Parameters: b0 = {b_1[0]:.1f}, b1 = {b_1[1]:.1f}\\n')\n",
    "\n",
    "print(\"Model: y = b0 + b1 * motheriq\")\n",
    "R2_2, b_2 = multRegFit(D, D.score, ['motheriq'])\n",
    "print(f'R² = {R2_2:.3f}')\n",
    "print(f'Parameters: b0 = {b_2[0]:.1f}, b1 = {b_2[1]:.1f}\\n')\n",
    "\n",
    "print(\"Model: y = b0 + b1 * motheriq + b2 * read\")\n",
    "R2_3, b_3 = multRegFit(D, D.score, ['motheriq', 'read'])\n",
    "print(f'R² = {R2_3:.3f}')\n",
    "print(f'Parameters: b0 = {b_3[0]:.1f}, b1 = {b_3[1]:.1f}, b2 = {b_3[2]:.1f}')\n"
   ]
  },
  {
   "cell_type": "markdown",
   "metadata": {},
   "source": [
    "The last model has the highest R2 . Most of the variance is explained bt the motheriq. This may be overfitting."
   ]
  },
  {
   "cell_type": "markdown",
   "metadata": {},
   "source": [
    "## Task 2: Do crossvalidation on these models  ( / 32 pts)\n",
    "### Question 2.1 ( / 12 pts)\n",
    "Modify the leaveOneOutCV function from last homework, so it works on a data frame with the multiple regression analysis. The inputs to the function are:  \n",
    "\n",
    "def leaveOneOutCV(D,y,args=(),fitfcn=multRegFit,predictfcn=multRegPredict):\n",
    " - D: Data Frame with explanatory variables \n",
    " - y: A list or np-array of the response variable\n",
    " - args: Input arguments for the fitfcn and predict function (xname) \n",
    " - fitfcn: Function for fitting called as fitfcn(D,y,args)\n",
    " - predictfcn: Function for prediction called as predictfcn(D,y,args)\n"
   ]
  },
  {
   "cell_type": "code",
   "execution_count": 20,
   "metadata": {},
   "outputs": [
    {
     "name": "stdout",
     "output_type": "stream",
     "text": [
      "Testing leaveOneOutCV with different models:\n",
      "\n",
      "Model: y = b0\n",
      "Cross-validated R² = -0.058\n",
      "\n",
      "Model: y = b0 + b1 * read\n"
     ]
    },
    {
     "name": "stderr",
     "output_type": "stream",
     "text": [
      "/var/folders/m7/x0qbfd55451fl063_lpv3kxm0000gn/T/ipykernel_75279/781666820.py:20: DeprecationWarning: Conversion of an array with ndim > 0 to a scalar is deprecated, and will error in future. Ensure you extract a single element from your array before performing this operation. (Deprecated NumPy 1.25.)\n",
      "  yp[i] = predictfcn(b, D_test, args)\n",
      "/var/folders/m7/x0qbfd55451fl063_lpv3kxm0000gn/T/ipykernel_75279/781666820.py:20: DeprecationWarning: Conversion of an array with ndim > 0 to a scalar is deprecated, and will error in future. Ensure you extract a single element from your array before performing this operation. (Deprecated NumPy 1.25.)\n",
      "  yp[i] = predictfcn(b, D_test, args)\n",
      "/var/folders/m7/x0qbfd55451fl063_lpv3kxm0000gn/T/ipykernel_75279/781666820.py:20: DeprecationWarning: Conversion of an array with ndim > 0 to a scalar is deprecated, and will error in future. Ensure you extract a single element from your array before performing this operation. (Deprecated NumPy 1.25.)\n",
      "  yp[i] = predictfcn(b, D_test, args)\n",
      "/var/folders/m7/x0qbfd55451fl063_lpv3kxm0000gn/T/ipykernel_75279/781666820.py:20: FutureWarning: Calling float on a single element Series is deprecated and will raise a TypeError in the future. Use float(ser.iloc[0]) instead\n",
      "  yp[i] = predictfcn(b, D_test, args)\n",
      "/var/folders/m7/x0qbfd55451fl063_lpv3kxm0000gn/T/ipykernel_75279/781666820.py:20: FutureWarning: Calling float on a single element Series is deprecated and will raise a TypeError in the future. Use float(ser.iloc[0]) instead\n",
      "  yp[i] = predictfcn(b, D_test, args)\n",
      "/var/folders/m7/x0qbfd55451fl063_lpv3kxm0000gn/T/ipykernel_75279/781666820.py:20: FutureWarning: Calling float on a single element Series is deprecated and will raise a TypeError in the future. Use float(ser.iloc[0]) instead\n",
      "  yp[i] = predictfcn(b, D_test, args)\n",
      "/var/folders/m7/x0qbfd55451fl063_lpv3kxm0000gn/T/ipykernel_75279/781666820.py:20: FutureWarning: Calling float on a single element Series is deprecated and will raise a TypeError in the future. Use float(ser.iloc[0]) instead\n",
      "  yp[i] = predictfcn(b, D_test, args)\n",
      "/var/folders/m7/x0qbfd55451fl063_lpv3kxm0000gn/T/ipykernel_75279/781666820.py:20: FutureWarning: Calling float on a single element Series is deprecated and will raise a TypeError in the future. Use float(ser.iloc[0]) instead\n",
      "  yp[i] = predictfcn(b, D_test, args)\n",
      "/var/folders/m7/x0qbfd55451fl063_lpv3kxm0000gn/T/ipykernel_75279/781666820.py:20: FutureWarning: Calling float on a single element Series is deprecated and will raise a TypeError in the future. Use float(ser.iloc[0]) instead\n",
      "  yp[i] = predictfcn(b, D_test, args)\n",
      "/var/folders/m7/x0qbfd55451fl063_lpv3kxm0000gn/T/ipykernel_75279/781666820.py:20: FutureWarning: Calling float on a single element Series is deprecated and will raise a TypeError in the future. Use float(ser.iloc[0]) instead\n",
      "  yp[i] = predictfcn(b, D_test, args)\n",
      "/var/folders/m7/x0qbfd55451fl063_lpv3kxm0000gn/T/ipykernel_75279/781666820.py:20: FutureWarning: Calling float on a single element Series is deprecated and will raise a TypeError in the future. Use float(ser.iloc[0]) instead\n",
      "  yp[i] = predictfcn(b, D_test, args)\n",
      "/var/folders/m7/x0qbfd55451fl063_lpv3kxm0000gn/T/ipykernel_75279/781666820.py:20: FutureWarning: Calling float on a single element Series is deprecated and will raise a TypeError in the future. Use float(ser.iloc[0]) instead\n",
      "  yp[i] = predictfcn(b, D_test, args)\n",
      "/var/folders/m7/x0qbfd55451fl063_lpv3kxm0000gn/T/ipykernel_75279/781666820.py:20: FutureWarning: Calling float on a single element Series is deprecated and will raise a TypeError in the future. Use float(ser.iloc[0]) instead\n",
      "  yp[i] = predictfcn(b, D_test, args)\n",
      "/var/folders/m7/x0qbfd55451fl063_lpv3kxm0000gn/T/ipykernel_75279/781666820.py:20: FutureWarning: Calling float on a single element Series is deprecated and will raise a TypeError in the future. Use float(ser.iloc[0]) instead\n",
      "  yp[i] = predictfcn(b, D_test, args)\n",
      "/var/folders/m7/x0qbfd55451fl063_lpv3kxm0000gn/T/ipykernel_75279/781666820.py:20: FutureWarning: Calling float on a single element Series is deprecated and will raise a TypeError in the future. Use float(ser.iloc[0]) instead\n",
      "  yp[i] = predictfcn(b, D_test, args)\n",
      "/var/folders/m7/x0qbfd55451fl063_lpv3kxm0000gn/T/ipykernel_75279/781666820.py:20: FutureWarning: Calling float on a single element Series is deprecated and will raise a TypeError in the future. Use float(ser.iloc[0]) instead\n",
      "  yp[i] = predictfcn(b, D_test, args)\n",
      "/var/folders/m7/x0qbfd55451fl063_lpv3kxm0000gn/T/ipykernel_75279/781666820.py:20: FutureWarning: Calling float on a single element Series is deprecated and will raise a TypeError in the future. Use float(ser.iloc[0]) instead\n",
      "  yp[i] = predictfcn(b, D_test, args)\n",
      "/var/folders/m7/x0qbfd55451fl063_lpv3kxm0000gn/T/ipykernel_75279/781666820.py:20: FutureWarning: Calling float on a single element Series is deprecated and will raise a TypeError in the future. Use float(ser.iloc[0]) instead\n",
      "  yp[i] = predictfcn(b, D_test, args)\n",
      "/var/folders/m7/x0qbfd55451fl063_lpv3kxm0000gn/T/ipykernel_75279/781666820.py:20: FutureWarning: Calling float on a single element Series is deprecated and will raise a TypeError in the future. Use float(ser.iloc[0]) instead\n",
      "  yp[i] = predictfcn(b, D_test, args)\n",
      "/var/folders/m7/x0qbfd55451fl063_lpv3kxm0000gn/T/ipykernel_75279/781666820.py:20: FutureWarning: Calling float on a single element Series is deprecated and will raise a TypeError in the future. Use float(ser.iloc[0]) instead\n",
      "  yp[i] = predictfcn(b, D_test, args)\n",
      "/var/folders/m7/x0qbfd55451fl063_lpv3kxm0000gn/T/ipykernel_75279/781666820.py:20: FutureWarning: Calling float on a single element Series is deprecated and will raise a TypeError in the future. Use float(ser.iloc[0]) instead\n",
      "  yp[i] = predictfcn(b, D_test, args)\n",
      "/var/folders/m7/x0qbfd55451fl063_lpv3kxm0000gn/T/ipykernel_75279/781666820.py:20: FutureWarning: Calling float on a single element Series is deprecated and will raise a TypeError in the future. Use float(ser.iloc[0]) instead\n",
      "  yp[i] = predictfcn(b, D_test, args)\n",
      "/var/folders/m7/x0qbfd55451fl063_lpv3kxm0000gn/T/ipykernel_75279/781666820.py:20: FutureWarning: Calling float on a single element Series is deprecated and will raise a TypeError in the future. Use float(ser.iloc[0]) instead\n",
      "  yp[i] = predictfcn(b, D_test, args)\n",
      "/var/folders/m7/x0qbfd55451fl063_lpv3kxm0000gn/T/ipykernel_75279/781666820.py:20: FutureWarning: Calling float on a single element Series is deprecated and will raise a TypeError in the future. Use float(ser.iloc[0]) instead\n",
      "  yp[i] = predictfcn(b, D_test, args)\n",
      "/var/folders/m7/x0qbfd55451fl063_lpv3kxm0000gn/T/ipykernel_75279/781666820.py:20: FutureWarning: Calling float on a single element Series is deprecated and will raise a TypeError in the future. Use float(ser.iloc[0]) instead\n",
      "  yp[i] = predictfcn(b, D_test, args)\n",
      "/var/folders/m7/x0qbfd55451fl063_lpv3kxm0000gn/T/ipykernel_75279/781666820.py:20: FutureWarning: Calling float on a single element Series is deprecated and will raise a TypeError in the future. Use float(ser.iloc[0]) instead\n",
      "  yp[i] = predictfcn(b, D_test, args)\n",
      "/var/folders/m7/x0qbfd55451fl063_lpv3kxm0000gn/T/ipykernel_75279/781666820.py:20: FutureWarning: Calling float on a single element Series is deprecated and will raise a TypeError in the future. Use float(ser.iloc[0]) instead\n",
      "  yp[i] = predictfcn(b, D_test, args)\n",
      "/var/folders/m7/x0qbfd55451fl063_lpv3kxm0000gn/T/ipykernel_75279/781666820.py:20: FutureWarning: Calling float on a single element Series is deprecated and will raise a TypeError in the future. Use float(ser.iloc[0]) instead\n",
      "  yp[i] = predictfcn(b, D_test, args)\n"
     ]
    },
    {
     "name": "stdout",
     "output_type": "stream",
     "text": [
      "Cross-validated R² = 0.204\n",
      "\n",
      "Model: y = b0 + b1 * motheriq\n",
      "Cross-validated R² = 0.236\n",
      "\n",
      "Model: y = b0 + b1 * motheriq + b2 * read\n"
     ]
    },
    {
     "name": "stderr",
     "output_type": "stream",
     "text": [
      "/var/folders/m7/x0qbfd55451fl063_lpv3kxm0000gn/T/ipykernel_75279/781666820.py:20: FutureWarning: Calling float on a single element Series is deprecated and will raise a TypeError in the future. Use float(ser.iloc[0]) instead\n",
      "  yp[i] = predictfcn(b, D_test, args)\n",
      "/var/folders/m7/x0qbfd55451fl063_lpv3kxm0000gn/T/ipykernel_75279/781666820.py:20: FutureWarning: Calling float on a single element Series is deprecated and will raise a TypeError in the future. Use float(ser.iloc[0]) instead\n",
      "  yp[i] = predictfcn(b, D_test, args)\n",
      "/var/folders/m7/x0qbfd55451fl063_lpv3kxm0000gn/T/ipykernel_75279/781666820.py:20: FutureWarning: Calling float on a single element Series is deprecated and will raise a TypeError in the future. Use float(ser.iloc[0]) instead\n",
      "  yp[i] = predictfcn(b, D_test, args)\n",
      "/var/folders/m7/x0qbfd55451fl063_lpv3kxm0000gn/T/ipykernel_75279/781666820.py:20: FutureWarning: Calling float on a single element Series is deprecated and will raise a TypeError in the future. Use float(ser.iloc[0]) instead\n",
      "  yp[i] = predictfcn(b, D_test, args)\n",
      "/var/folders/m7/x0qbfd55451fl063_lpv3kxm0000gn/T/ipykernel_75279/781666820.py:20: FutureWarning: Calling float on a single element Series is deprecated and will raise a TypeError in the future. Use float(ser.iloc[0]) instead\n",
      "  yp[i] = predictfcn(b, D_test, args)\n",
      "/var/folders/m7/x0qbfd55451fl063_lpv3kxm0000gn/T/ipykernel_75279/781666820.py:20: FutureWarning: Calling float on a single element Series is deprecated and will raise a TypeError in the future. Use float(ser.iloc[0]) instead\n",
      "  yp[i] = predictfcn(b, D_test, args)\n",
      "/var/folders/m7/x0qbfd55451fl063_lpv3kxm0000gn/T/ipykernel_75279/781666820.py:20: FutureWarning: Calling float on a single element Series is deprecated and will raise a TypeError in the future. Use float(ser.iloc[0]) instead\n",
      "  yp[i] = predictfcn(b, D_test, args)\n",
      "/var/folders/m7/x0qbfd55451fl063_lpv3kxm0000gn/T/ipykernel_75279/781666820.py:20: FutureWarning: Calling float on a single element Series is deprecated and will raise a TypeError in the future. Use float(ser.iloc[0]) instead\n",
      "  yp[i] = predictfcn(b, D_test, args)\n",
      "/var/folders/m7/x0qbfd55451fl063_lpv3kxm0000gn/T/ipykernel_75279/781666820.py:20: FutureWarning: Calling float on a single element Series is deprecated and will raise a TypeError in the future. Use float(ser.iloc[0]) instead\n",
      "  yp[i] = predictfcn(b, D_test, args)\n",
      "/var/folders/m7/x0qbfd55451fl063_lpv3kxm0000gn/T/ipykernel_75279/781666820.py:20: FutureWarning: Calling float on a single element Series is deprecated and will raise a TypeError in the future. Use float(ser.iloc[0]) instead\n",
      "  yp[i] = predictfcn(b, D_test, args)\n",
      "/var/folders/m7/x0qbfd55451fl063_lpv3kxm0000gn/T/ipykernel_75279/781666820.py:20: FutureWarning: Calling float on a single element Series is deprecated and will raise a TypeError in the future. Use float(ser.iloc[0]) instead\n",
      "  yp[i] = predictfcn(b, D_test, args)\n",
      "/var/folders/m7/x0qbfd55451fl063_lpv3kxm0000gn/T/ipykernel_75279/781666820.py:20: FutureWarning: Calling float on a single element Series is deprecated and will raise a TypeError in the future. Use float(ser.iloc[0]) instead\n",
      "  yp[i] = predictfcn(b, D_test, args)\n",
      "/var/folders/m7/x0qbfd55451fl063_lpv3kxm0000gn/T/ipykernel_75279/781666820.py:20: FutureWarning: Calling float on a single element Series is deprecated and will raise a TypeError in the future. Use float(ser.iloc[0]) instead\n",
      "  yp[i] = predictfcn(b, D_test, args)\n",
      "/var/folders/m7/x0qbfd55451fl063_lpv3kxm0000gn/T/ipykernel_75279/781666820.py:20: FutureWarning: Calling float on a single element Series is deprecated and will raise a TypeError in the future. Use float(ser.iloc[0]) instead\n",
      "  yp[i] = predictfcn(b, D_test, args)\n",
      "/var/folders/m7/x0qbfd55451fl063_lpv3kxm0000gn/T/ipykernel_75279/781666820.py:20: FutureWarning: Calling float on a single element Series is deprecated and will raise a TypeError in the future. Use float(ser.iloc[0]) instead\n",
      "  yp[i] = predictfcn(b, D_test, args)\n",
      "/var/folders/m7/x0qbfd55451fl063_lpv3kxm0000gn/T/ipykernel_75279/781666820.py:20: FutureWarning: Calling float on a single element Series is deprecated and will raise a TypeError in the future. Use float(ser.iloc[0]) instead\n",
      "  yp[i] = predictfcn(b, D_test, args)\n",
      "/var/folders/m7/x0qbfd55451fl063_lpv3kxm0000gn/T/ipykernel_75279/781666820.py:20: FutureWarning: Calling float on a single element Series is deprecated and will raise a TypeError in the future. Use float(ser.iloc[0]) instead\n",
      "  yp[i] = predictfcn(b, D_test, args)\n",
      "/var/folders/m7/x0qbfd55451fl063_lpv3kxm0000gn/T/ipykernel_75279/781666820.py:20: FutureWarning: Calling float on a single element Series is deprecated and will raise a TypeError in the future. Use float(ser.iloc[0]) instead\n",
      "  yp[i] = predictfcn(b, D_test, args)\n",
      "/var/folders/m7/x0qbfd55451fl063_lpv3kxm0000gn/T/ipykernel_75279/781666820.py:20: FutureWarning: Calling float on a single element Series is deprecated and will raise a TypeError in the future. Use float(ser.iloc[0]) instead\n",
      "  yp[i] = predictfcn(b, D_test, args)\n",
      "/var/folders/m7/x0qbfd55451fl063_lpv3kxm0000gn/T/ipykernel_75279/781666820.py:20: FutureWarning: Calling float on a single element Series is deprecated and will raise a TypeError in the future. Use float(ser.iloc[0]) instead\n",
      "  yp[i] = predictfcn(b, D_test, args)\n",
      "/var/folders/m7/x0qbfd55451fl063_lpv3kxm0000gn/T/ipykernel_75279/781666820.py:20: FutureWarning: Calling float on a single element Series is deprecated and will raise a TypeError in the future. Use float(ser.iloc[0]) instead\n",
      "  yp[i] = predictfcn(b, D_test, args)\n",
      "/var/folders/m7/x0qbfd55451fl063_lpv3kxm0000gn/T/ipykernel_75279/781666820.py:20: FutureWarning: Calling float on a single element Series is deprecated and will raise a TypeError in the future. Use float(ser.iloc[0]) instead\n",
      "  yp[i] = predictfcn(b, D_test, args)\n",
      "/var/folders/m7/x0qbfd55451fl063_lpv3kxm0000gn/T/ipykernel_75279/781666820.py:20: FutureWarning: Calling float on a single element Series is deprecated and will raise a TypeError in the future. Use float(ser.iloc[0]) instead\n",
      "  yp[i] = predictfcn(b, D_test, args)\n",
      "/var/folders/m7/x0qbfd55451fl063_lpv3kxm0000gn/T/ipykernel_75279/781666820.py:20: FutureWarning: Calling float on a single element Series is deprecated and will raise a TypeError in the future. Use float(ser.iloc[0]) instead\n",
      "  yp[i] = predictfcn(b, D_test, args)\n",
      "/var/folders/m7/x0qbfd55451fl063_lpv3kxm0000gn/T/ipykernel_75279/781666820.py:20: FutureWarning: Calling float on a single element Series is deprecated and will raise a TypeError in the future. Use float(ser.iloc[0]) instead\n",
      "  yp[i] = predictfcn(b, D_test, args)\n",
      "/var/folders/m7/x0qbfd55451fl063_lpv3kxm0000gn/T/ipykernel_75279/781666820.py:20: FutureWarning: Calling float on a single element Series is deprecated and will raise a TypeError in the future. Use float(ser.iloc[0]) instead\n",
      "  yp[i] = predictfcn(b, D_test, args)\n",
      "/var/folders/m7/x0qbfd55451fl063_lpv3kxm0000gn/T/ipykernel_75279/781666820.py:20: FutureWarning: Calling float on a single element Series is deprecated and will raise a TypeError in the future. Use float(ser.iloc[0]) instead\n",
      "  yp[i] = predictfcn(b, D_test, args)\n",
      "/var/folders/m7/x0qbfd55451fl063_lpv3kxm0000gn/T/ipykernel_75279/781666820.py:20: FutureWarning: Calling float on a single element Series is deprecated and will raise a TypeError in the future. Use float(ser.iloc[0]) instead\n",
      "  yp[i] = predictfcn(b, D_test, args)\n",
      "/var/folders/m7/x0qbfd55451fl063_lpv3kxm0000gn/T/ipykernel_75279/781666820.py:20: FutureWarning: Calling float on a single element Series is deprecated and will raise a TypeError in the future. Use float(ser.iloc[0]) instead\n",
      "  yp[i] = predictfcn(b, D_test, args)\n"
     ]
    },
    {
     "name": "stdout",
     "output_type": "stream",
     "text": [
      "Cross-validated R² = 0.576\n"
     ]
    },
    {
     "name": "stderr",
     "output_type": "stream",
     "text": [
      "/var/folders/m7/x0qbfd55451fl063_lpv3kxm0000gn/T/ipykernel_75279/781666820.py:20: FutureWarning: Calling float on a single element Series is deprecated and will raise a TypeError in the future. Use float(ser.iloc[0]) instead\n",
      "  yp[i] = predictfcn(b, D_test, args)\n"
     ]
    }
   ],
   "source": [
    "def leaveOneOutCV(D, y, args=(), fitfcn=multRegFit, predictfcn=multRegPredict):\n",
    "    n = len(y)\n",
    "    yp = np.zeros(n)\n",
    "    \n",
    "    # For each data point\n",
    "    for i in range(n):\n",
    "        # Create training data by excluding point i\n",
    "        mask = np.ones(n, dtype=bool)\n",
    "        mask[i] = False\n",
    "        \n",
    "        # Create training DataFrame excluding point i\n",
    "        D_train = D.iloc[mask].copy()\n",
    "        y_train = y[mask]\n",
    "        \n",
    "        # Fit model on training data\n",
    "        _, b = fitfcn(D_train, y_train, args)\n",
    "        \n",
    "        # Predict for left out point using test DataFrame\n",
    "        D_test = D.iloc[[i]]\n",
    "        yp[i] = predictfcn(b, D_test, args)\n",
    "    \n",
    "    # Calculate R² for cross-validation predictions\n",
    "    RSS = np.sum((y - yp)**2)\n",
    "    TSS = np.sum((y - np.mean(y))**2)\n",
    "    R2 = 1 - RSS/TSS\n",
    "    \n",
    "    return R2, yp\n",
    "\n",
    "# Test the function\n",
    "print(\"Testing leaveOneOutCV with different models:\")\n",
    "\n",
    "print(\"\\nModel: y = b0\")\n",
    "R2_cv0, _ = leaveOneOutCV(D, D.score, [])\n",
    "print(f'Cross-validated R² = {R2_cv0:.3f}')\n",
    "\n",
    "print(\"\\nModel: y = b0 + b1 * read\")\n",
    "R2_cv1, _ = leaveOneOutCV(D, D.score, ['read'])\n",
    "print(f'Cross-validated R² = {R2_cv1:.3f}')\n",
    "\n",
    "print(\"\\nModel: y = b0 + b1 * motheriq\")\n",
    "R2_cv2, _ = leaveOneOutCV(D, D.score, ['motheriq'])\n",
    "print(f'Cross-validated R² = {R2_cv2:.3f}')\n",
    "\n",
    "print(\"\\nModel: y = b0 + b1 * motheriq + b2 * read\")\n",
    "R2_cv3, _ = leaveOneOutCV(D, D.score, ['motheriq', 'read'])\n",
    "print(f'Cross-validated R² = {R2_cv3:.3f}')\n"
   ]
  },
  {
   "cell_type": "markdown",
   "metadata": {},
   "source": [
    "### Question 2.2 ( / 8 pts)\n",
    "Call the function to get the cross-validated $R^2$ for the 4 models specified in Task 1, Question 3. How to you interpret these results? Is there evidence that reading increases the analytic score over and above what the IQ of the mother does? "
   ]
  },
  {
   "cell_type": "code",
   "execution_count": null,
   "metadata": {},
   "outputs": [],
   "source": []
  },
  {
   "cell_type": "code",
   "execution_count": null,
   "metadata": {},
   "outputs": [],
   "source": []
  },
  {
   "cell_type": "code",
   "execution_count": null,
   "metadata": {},
   "outputs": [],
   "source": []
  },
  {
   "cell_type": "code",
   "execution_count": null,
   "metadata": {},
   "outputs": [],
   "source": []
  },
  {
   "cell_type": "markdown",
   "metadata": {},
   "source": []
  },
  {
   "cell_type": "markdown",
   "metadata": {},
   "source": [
    "### Question 2.3 ( / 4 pts)\n",
    "Add the variable fatheriq to the model containing read and motheriq. Is there evidence that the IQ of the father improves the prediction over and above what hours reading and mother IQ can predict? "
   ]
  },
  {
   "cell_type": "code",
   "execution_count": null,
   "metadata": {},
   "outputs": [],
   "source": []
  },
  {
   "cell_type": "markdown",
   "metadata": {},
   "source": []
  },
  {
   "cell_type": "markdown",
   "metadata": {},
   "source": [
    "### Question 2.4 ( / 8 pts)\n",
    "Is edutv (hours of educational TV) alone a reliable predictor of the analytic score? Does it add prediction power over and above from what the model motheriq + read + fatheriq can predict? \n"
   ]
  },
  {
   "cell_type": "code",
   "execution_count": null,
   "metadata": {},
   "outputs": [],
   "source": []
  },
  {
   "cell_type": "code",
   "execution_count": null,
   "metadata": {},
   "outputs": [],
   "source": []
  },
  {
   "cell_type": "markdown",
   "metadata": {},
   "source": []
  },
  {
   "cell_type": "markdown",
   "metadata": {},
   "source": [
    "## Task 3: Bootstrap for multiple regression. ( / 40 pts)\n",
    "### Question 3.1 ( / 14 pts)\n",
    "Implement bootstrap for linear regression. Start from the function bootstrap from Homework 3. The function should have input parameters\n",
    "\n",
    "```\n",
    "def bootstrapReg(D,y,args,fitfcn,numIter=500):\n",
    "```\n",
    "and should return a numIter x numParams np.array of bootstrap estimates.  \n",
    "\n",
    "fitfcn is the function that will be used to get the parameter estimates.\n",
    "numParams is the length of b-vector returned from the fitfcn (in our case multiRegFit). That is, each column of the array should be the boostrap estimates for one of the regression coefficients. \n",
    "\n",
    "Note: you will also have to use here the following functions (add them to your notebook): \n",
    "- confidenceInt from HW 3\n",
    "\n",
    "Run the bootstrap on the data set in gifted.csv. Run the bootstrap on a simple regression model that explains ‘score’ from the explanatory variable ‘edutv’ alone. Report the CI for edutv -slope. Does the CI include zero - i.e. is there evidence that the relationship between edutv and score is not zero? Which direction is the association between the two variables? "
   ]
  },
  {
   "cell_type": "code",
   "execution_count": null,
   "metadata": {},
   "outputs": [],
   "source": []
  },
  {
   "cell_type": "code",
   "execution_count": null,
   "metadata": {},
   "outputs": [],
   "source": []
  },
  {
   "cell_type": "markdown",
   "metadata": {},
   "source": []
  },
  {
   "cell_type": "markdown",
   "metadata": {},
   "source": [
    "### Question 3.2 ( / 8 pts)\n",
    "Run the bootstrap on the model that explains score as a function of hours of cartoons watched. Does the confidence interval for the slope between ‘cartoons’ and ‘score’ include zero? "
   ]
  },
  {
   "cell_type": "code",
   "execution_count": null,
   "metadata": {},
   "outputs": [],
   "source": []
  },
  {
   "cell_type": "markdown",
   "metadata": {},
   "source": []
  },
  {
   "cell_type": "markdown",
   "metadata": {},
   "source": [
    "### Question 3.3 ( / 8 pts)\n",
    "Run the bootstrap on a model that explains score as a function of edutv and cartoons. Report the CIs for both variabless. Do the conclusion from Question 1 and 2 change? Have the CIs become smaller or larger as compared to the simple regression models from Question 1 and 2?"
   ]
  },
  {
   "cell_type": "code",
   "execution_count": null,
   "metadata": {},
   "outputs": [],
   "source": []
  },
  {
   "cell_type": "markdown",
   "metadata": {},
   "source": []
  },
  {
   "cell_type": "markdown",
   "metadata": {},
   "source": [
    "### Question 3.4 ( / 10 pts)\n",
    "Plot the bootstrap estimates for edutv and cartoons from Question 3 against each other in a scatter plot. Are they positively or negatively related? What does this mean for the relationship between the regressors?"
   ]
  },
  {
   "cell_type": "code",
   "execution_count": null,
   "metadata": {},
   "outputs": [],
   "source": []
  },
  {
   "cell_type": "markdown",
   "metadata": {},
   "source": []
  },
  {
   "cell_type": "markdown",
   "metadata": {},
   "source": []
  }
 ],
 "metadata": {
  "kernelspec": {
   "display_name": "Python 3",
   "language": "python",
   "name": "python3"
  },
  "language_info": {
   "codemirror_mode": {
    "name": "ipython",
    "version": 3
   },
   "file_extension": ".py",
   "mimetype": "text/x-python",
   "name": "python",
   "nbconvert_exporter": "python",
   "pygments_lexer": "ipython3",
   "version": "3.9.6"
  }
 },
 "nbformat": 4,
 "nbformat_minor": 1
}
