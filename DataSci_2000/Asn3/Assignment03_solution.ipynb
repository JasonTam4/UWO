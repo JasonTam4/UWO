{
 "cells": [
  {
   "cell_type": "markdown",
   "metadata": {
    "collapsed": true
   },
   "source": [
    "# Assignment 3: Bootstrap, confidence intervals & standard errors\n",
    "\n",
    "## Learning Outcomes:\n",
    "In this homework we will look at Estimates, Bootstrap, Confidence intervals, and Standard error.\n",
    "## Dataset \n",
    "The data set run10sample.csv contains data from random sample of 25 runner of the 16923 competitor in the 2012 Cherry blossom run (cherryblossom.org). The variables in the file are: \n",
    "\n",
    "- Place:  Finishing position. Separate positions are provided for each gender.\n",
    "- time: The total run time (in min) \n",
    "- Pace: The listed pace (/mile) for each runner.\n",
    "- Age: Age.\n",
    "- Gender: Gender.\n",
    "- Location: Hometown city. \n",
    "- State: Hometown state \n",
    "- divPlace: Age Division place, also broken up by gender.\n",
    "- divTot: Total number of people in the division (again, also split by gender).\n",
    "\n",
    "The data set run10.csv contains the data from all 16923 competitors, so you can also analyze the whole population. \n",
    "\n",
    "## Preliminaries\n",
    "Set up the environment by importing pandas, numpy, scipy, and matplotlib. "
   ]
  },
  {
   "cell_type": "code",
   "execution_count": 1,
   "metadata": {},
   "outputs": [],
   "source": [
    "import pandas as pd\n",
    "import numpy as np\n",
    "import scipy as ss\n",
    "import matplotlib.pyplot as plt\n",
    "import seaborn as sns\n",
    "import matplotlib"
   ]
  },
  {
   "cell_type": "markdown",
   "metadata": {},
   "source": [
    "## Task 1: Analyzing a sample from the  population (12pt)\n",
    "In this task you will use the sample of runners that you got. \n",
    "### Question 1.1 (4pt)\n",
    "What was the mean finishing time in the random sample?"
   ]
  },
  {
   "cell_type": "code",
   "execution_count": 2,
   "metadata": {},
   "outputs": [
    {
     "data": {
      "text/html": [
       "<div>\n",
       "<style scoped>\n",
       "    .dataframe tbody tr th:only-of-type {\n",
       "        vertical-align: middle;\n",
       "    }\n",
       "\n",
       "    .dataframe tbody tr th {\n",
       "        vertical-align: top;\n",
       "    }\n",
       "\n",
       "    .dataframe thead th {\n",
       "        text-align: right;\n",
       "    }\n",
       "</style>\n",
       "<table border=\"1\" class=\"dataframe\">\n",
       "  <thead>\n",
       "    <tr style=\"text-align: right;\">\n",
       "      <th></th>\n",
       "      <th>place</th>\n",
       "      <th>time</th>\n",
       "      <th>pace</th>\n",
       "      <th>age</th>\n",
       "      <th>gender</th>\n",
       "      <th>location</th>\n",
       "      <th>state</th>\n",
       "      <th>divPlace</th>\n",
       "      <th>divTot</th>\n",
       "    </tr>\n",
       "  </thead>\n",
       "  <tbody>\n",
       "    <tr>\n",
       "      <th>0</th>\n",
       "      <td>4494</td>\n",
       "      <td>92.25</td>\n",
       "      <td>9.225</td>\n",
       "      <td>38.0</td>\n",
       "      <td>M</td>\n",
       "      <td>Chesapeake Beach MD</td>\n",
       "      <td>MD</td>\n",
       "      <td>690.0</td>\n",
       "      <td>1093.0</td>\n",
       "    </tr>\n",
       "    <tr>\n",
       "      <th>1</th>\n",
       "      <td>6298</td>\n",
       "      <td>106.35</td>\n",
       "      <td>10.635</td>\n",
       "      <td>33.0</td>\n",
       "      <td>M</td>\n",
       "      <td>Washington DC</td>\n",
       "      <td>DC</td>\n",
       "      <td>1322.0</td>\n",
       "      <td>1490.0</td>\n",
       "    </tr>\n",
       "    <tr>\n",
       "      <th>2</th>\n",
       "      <td>2502</td>\n",
       "      <td>89.33</td>\n",
       "      <td>8.933</td>\n",
       "      <td>55.0</td>\n",
       "      <td>F</td>\n",
       "      <td>McLean VA</td>\n",
       "      <td>VA</td>\n",
       "      <td>37.0</td>\n",
       "      <td>236.0</td>\n",
       "    </tr>\n",
       "    <tr>\n",
       "      <th>3</th>\n",
       "      <td>8176</td>\n",
       "      <td>113.50</td>\n",
       "      <td>11.350</td>\n",
       "      <td>24.0</td>\n",
       "      <td>F</td>\n",
       "      <td>Alexandria VA</td>\n",
       "      <td>VA</td>\n",
       "      <td>878.0</td>\n",
       "      <td>974.0</td>\n",
       "    </tr>\n",
       "    <tr>\n",
       "      <th>4</th>\n",
       "      <td>3413</td>\n",
       "      <td>86.52</td>\n",
       "      <td>8.652</td>\n",
       "      <td>54.0</td>\n",
       "      <td>M</td>\n",
       "      <td>San Francisco CA</td>\n",
       "      <td>CA</td>\n",
       "      <td>213.0</td>\n",
       "      <td>483.0</td>\n",
       "    </tr>\n",
       "    <tr>\n",
       "      <th>5</th>\n",
       "      <td>8008</td>\n",
       "      <td>112.30</td>\n",
       "      <td>11.230</td>\n",
       "      <td>42.0</td>\n",
       "      <td>F</td>\n",
       "      <td>Chevy Chase MD</td>\n",
       "      <td>MD</td>\n",
       "      <td>785.0</td>\n",
       "      <td>974.0</td>\n",
       "    </tr>\n",
       "    <tr>\n",
       "      <th>6</th>\n",
       "      <td>8791</td>\n",
       "      <td>118.45</td>\n",
       "      <td>11.845</td>\n",
       "      <td>36.0</td>\n",
       "      <td>F</td>\n",
       "      <td>Fairfax VA</td>\n",
       "      <td>VA</td>\n",
       "      <td>1215.0</td>\n",
       "      <td>1367.0</td>\n",
       "    </tr>\n",
       "    <tr>\n",
       "      <th>7</th>\n",
       "      <td>3987</td>\n",
       "      <td>95.17</td>\n",
       "      <td>9.517</td>\n",
       "      <td>25.0</td>\n",
       "      <td>F</td>\n",
       "      <td>Arlington VA</td>\n",
       "      <td>VA</td>\n",
       "      <td>1230.0</td>\n",
       "      <td>2782.0</td>\n",
       "    </tr>\n",
       "    <tr>\n",
       "      <th>8</th>\n",
       "      <td>3451</td>\n",
       "      <td>93.25</td>\n",
       "      <td>9.325</td>\n",
       "      <td>25.0</td>\n",
       "      <td>F</td>\n",
       "      <td>Philadelphia PA</td>\n",
       "      <td>PA</td>\n",
       "      <td>1074.0</td>\n",
       "      <td>2782.0</td>\n",
       "    </tr>\n",
       "    <tr>\n",
       "      <th>9</th>\n",
       "      <td>1046</td>\n",
       "      <td>72.37</td>\n",
       "      <td>7.237</td>\n",
       "      <td>43.0</td>\n",
       "      <td>M</td>\n",
       "      <td>Pasadena MD</td>\n",
       "      <td>MD</td>\n",
       "      <td>111.0</td>\n",
       "      <td>931.0</td>\n",
       "    </tr>\n",
       "    <tr>\n",
       "      <th>10</th>\n",
       "      <td>3484</td>\n",
       "      <td>86.90</td>\n",
       "      <td>8.690</td>\n",
       "      <td>55.0</td>\n",
       "      <td>M</td>\n",
       "      <td>Falls Church VA</td>\n",
       "      <td>VA</td>\n",
       "      <td>138.0</td>\n",
       "      <td>375.0</td>\n",
       "    </tr>\n",
       "    <tr>\n",
       "      <th>11</th>\n",
       "      <td>2987</td>\n",
       "      <td>84.47</td>\n",
       "      <td>8.447</td>\n",
       "      <td>30.0</td>\n",
       "      <td>M</td>\n",
       "      <td>Potomac MD</td>\n",
       "      <td>MD</td>\n",
       "      <td>659.0</td>\n",
       "      <td>1490.0</td>\n",
       "    </tr>\n",
       "    <tr>\n",
       "      <th>12</th>\n",
       "      <td>4427</td>\n",
       "      <td>96.65</td>\n",
       "      <td>9.665</td>\n",
       "      <td>39.0</td>\n",
       "      <td>F</td>\n",
       "      <td>Walnut CA</td>\n",
       "      <td>CA</td>\n",
       "      <td>587.0</td>\n",
       "      <td>1367.0</td>\n",
       "    </tr>\n",
       "    <tr>\n",
       "      <th>13</th>\n",
       "      <td>6496</td>\n",
       "      <td>108.93</td>\n",
       "      <td>10.893</td>\n",
       "      <td>40.0</td>\n",
       "      <td>M</td>\n",
       "      <td>Springfield VA</td>\n",
       "      <td>VA</td>\n",
       "      <td>846.0</td>\n",
       "      <td>931.0</td>\n",
       "    </tr>\n",
       "    <tr>\n",
       "      <th>14</th>\n",
       "      <td>5827</td>\n",
       "      <td>101.58</td>\n",
       "      <td>10.158</td>\n",
       "      <td>30.0</td>\n",
       "      <td>F</td>\n",
       "      <td>Washington DC</td>\n",
       "      <td>DC</td>\n",
       "      <td>1297.0</td>\n",
       "      <td>2228.0</td>\n",
       "    </tr>\n",
       "    <tr>\n",
       "      <th>15</th>\n",
       "      <td>1224</td>\n",
       "      <td>82.78</td>\n",
       "      <td>8.278</td>\n",
       "      <td>24.0</td>\n",
       "      <td>F</td>\n",
       "      <td>Arlington VA</td>\n",
       "      <td>VA</td>\n",
       "      <td>164.0</td>\n",
       "      <td>974.0</td>\n",
       "    </tr>\n",
       "    <tr>\n",
       "      <th>16</th>\n",
       "      <td>4942</td>\n",
       "      <td>98.32</td>\n",
       "      <td>9.832</td>\n",
       "      <td>45.0</td>\n",
       "      <td>F</td>\n",
       "      <td>Potomac MD</td>\n",
       "      <td>MD</td>\n",
       "      <td>255.0</td>\n",
       "      <td>554.0</td>\n",
       "    </tr>\n",
       "    <tr>\n",
       "      <th>17</th>\n",
       "      <td>9579</td>\n",
       "      <td>134.18</td>\n",
       "      <td>13.418</td>\n",
       "      <td>33.0</td>\n",
       "      <td>F</td>\n",
       "      <td>Sterling VA</td>\n",
       "      <td>VA</td>\n",
       "      <td>2189.0</td>\n",
       "      <td>2228.0</td>\n",
       "    </tr>\n",
       "    <tr>\n",
       "      <th>18</th>\n",
       "      <td>6425</td>\n",
       "      <td>107.98</td>\n",
       "      <td>10.798</td>\n",
       "      <td>41.0</td>\n",
       "      <td>M</td>\n",
       "      <td>Arlington VA</td>\n",
       "      <td>VA</td>\n",
       "      <td>831.0</td>\n",
       "      <td>931.0</td>\n",
       "    </tr>\n",
       "    <tr>\n",
       "      <th>19</th>\n",
       "      <td>5951</td>\n",
       "      <td>102.08</td>\n",
       "      <td>10.208</td>\n",
       "      <td>36.0</td>\n",
       "      <td>F</td>\n",
       "      <td>Alexandria VA</td>\n",
       "      <td>VA</td>\n",
       "      <td>809.0</td>\n",
       "      <td>1367.0</td>\n",
       "    </tr>\n",
       "    <tr>\n",
       "      <th>20</th>\n",
       "      <td>8609</td>\n",
       "      <td>116.78</td>\n",
       "      <td>11.678</td>\n",
       "      <td>38.0</td>\n",
       "      <td>F</td>\n",
       "      <td>Edison NJ</td>\n",
       "      <td>NJ</td>\n",
       "      <td>1189.0</td>\n",
       "      <td>1367.0</td>\n",
       "    </tr>\n",
       "    <tr>\n",
       "      <th>21</th>\n",
       "      <td>3586</td>\n",
       "      <td>87.42</td>\n",
       "      <td>8.742</td>\n",
       "      <td>45.0</td>\n",
       "      <td>M</td>\n",
       "      <td>Branchville NJ</td>\n",
       "      <td>NJ</td>\n",
       "      <td>314.0</td>\n",
       "      <td>648.0</td>\n",
       "    </tr>\n",
       "    <tr>\n",
       "      <th>22</th>\n",
       "      <td>3823</td>\n",
       "      <td>94.58</td>\n",
       "      <td>9.458</td>\n",
       "      <td>35.0</td>\n",
       "      <td>F</td>\n",
       "      <td>New Market MD</td>\n",
       "      <td>MD</td>\n",
       "      <td>517.0</td>\n",
       "      <td>1367.0</td>\n",
       "    </tr>\n",
       "    <tr>\n",
       "      <th>23</th>\n",
       "      <td>2123</td>\n",
       "      <td>79.25</td>\n",
       "      <td>7.925</td>\n",
       "      <td>37.0</td>\n",
       "      <td>M</td>\n",
       "      <td>McLean VA</td>\n",
       "      <td>VA</td>\n",
       "      <td>307.0</td>\n",
       "      <td>1093.0</td>\n",
       "    </tr>\n",
       "    <tr>\n",
       "      <th>24</th>\n",
       "      <td>4517</td>\n",
       "      <td>92.37</td>\n",
       "      <td>9.237</td>\n",
       "      <td>23.0</td>\n",
       "      <td>M</td>\n",
       "      <td>Washington DC</td>\n",
       "      <td>DC</td>\n",
       "      <td>229.0</td>\n",
       "      <td>347.0</td>\n",
       "    </tr>\n",
       "  </tbody>\n",
       "</table>\n",
       "</div>"
      ],
      "text/plain": [
       "    place    time    pace   age gender             location state  divPlace  \\\n",
       "0    4494   92.25   9.225  38.0      M  Chesapeake Beach MD    MD     690.0   \n",
       "1    6298  106.35  10.635  33.0      M        Washington DC    DC    1322.0   \n",
       "2    2502   89.33   8.933  55.0      F            McLean VA    VA      37.0   \n",
       "3    8176  113.50  11.350  24.0      F        Alexandria VA    VA     878.0   \n",
       "4    3413   86.52   8.652  54.0      M     San Francisco CA    CA     213.0   \n",
       "5    8008  112.30  11.230  42.0      F       Chevy Chase MD    MD     785.0   \n",
       "6    8791  118.45  11.845  36.0      F           Fairfax VA    VA    1215.0   \n",
       "7    3987   95.17   9.517  25.0      F         Arlington VA    VA    1230.0   \n",
       "8    3451   93.25   9.325  25.0      F      Philadelphia PA    PA    1074.0   \n",
       "9    1046   72.37   7.237  43.0      M          Pasadena MD    MD     111.0   \n",
       "10   3484   86.90   8.690  55.0      M      Falls Church VA    VA     138.0   \n",
       "11   2987   84.47   8.447  30.0      M           Potomac MD    MD     659.0   \n",
       "12   4427   96.65   9.665  39.0      F            Walnut CA    CA     587.0   \n",
       "13   6496  108.93  10.893  40.0      M       Springfield VA    VA     846.0   \n",
       "14   5827  101.58  10.158  30.0      F        Washington DC    DC    1297.0   \n",
       "15   1224   82.78   8.278  24.0      F         Arlington VA    VA     164.0   \n",
       "16   4942   98.32   9.832  45.0      F           Potomac MD    MD     255.0   \n",
       "17   9579  134.18  13.418  33.0      F          Sterling VA    VA    2189.0   \n",
       "18   6425  107.98  10.798  41.0      M         Arlington VA    VA     831.0   \n",
       "19   5951  102.08  10.208  36.0      F        Alexandria VA    VA     809.0   \n",
       "20   8609  116.78  11.678  38.0      F            Edison NJ    NJ    1189.0   \n",
       "21   3586   87.42   8.742  45.0      M       Branchville NJ    NJ     314.0   \n",
       "22   3823   94.58   9.458  35.0      F        New Market MD    MD     517.0   \n",
       "23   2123   79.25   7.925  37.0      M            McLean VA    VA     307.0   \n",
       "24   4517   92.37   9.237  23.0      M        Washington DC    DC     229.0   \n",
       "\n",
       "    divTot  \n",
       "0   1093.0  \n",
       "1   1490.0  \n",
       "2    236.0  \n",
       "3    974.0  \n",
       "4    483.0  \n",
       "5    974.0  \n",
       "6   1367.0  \n",
       "7   2782.0  \n",
       "8   2782.0  \n",
       "9    931.0  \n",
       "10   375.0  \n",
       "11  1490.0  \n",
       "12  1367.0  \n",
       "13   931.0  \n",
       "14  2228.0  \n",
       "15   974.0  \n",
       "16   554.0  \n",
       "17  2228.0  \n",
       "18   931.0  \n",
       "19  1367.0  \n",
       "20  1367.0  \n",
       "21   648.0  \n",
       "22  1367.0  \n",
       "23  1093.0  \n",
       "24   347.0  "
      ]
     },
     "execution_count": 2,
     "metadata": {},
     "output_type": "execute_result"
    }
   ],
   "source": [
    "dfSample = pd.read_csv('run10sample.csv')\n",
    "dfSample"
   ]
  },
  {
   "cell_type": "code",
   "execution_count": 3,
   "metadata": {},
   "outputs": [
    {
     "data": {
      "text/plain": [
       "np.float64(98.1504)"
      ]
     },
     "execution_count": 3,
     "metadata": {},
     "output_type": "execute_result"
    }
   ],
   "source": [
    "dfSample['time'].mean()"
   ]
  },
  {
   "cell_type": "markdown",
   "metadata": {},
   "source": [
    "### Question 1.2 (4pt)\n",
    "What is the number of men and women in your sample (tip: use groupby and size or count)?"
   ]
  },
  {
   "cell_type": "code",
   "execution_count": 4,
   "metadata": {},
   "outputs": [
    {
     "data": {
      "text/plain": [
       "gender\n",
       "F    14\n",
       "M    11\n",
       "dtype: int64"
      ]
     },
     "execution_count": 4,
     "metadata": {},
     "output_type": "execute_result"
    }
   ],
   "source": [
    "groupedGenderS = dfSample.groupby(dfSample['gender']).size()\n",
    "groupedGenderS\n",
    "# alternatively, you could use count instead of size\n",
    "# groupedGenderS = dfSample.groupby(dfSample['gender']).count()\n",
    "# groupedGenderS"
   ]
  },
  {
   "cell_type": "markdown",
   "metadata": {},
   "source": [
    "### Question 1.3 (4pt)\n",
    "What was the mean finishing time when you split the sample up by gender (see Homework 2, task 4)? "
   ]
  },
  {
   "cell_type": "code",
   "execution_count": 5,
   "metadata": {},
   "outputs": [
    {
     "data": {
      "text/plain": [
       "gender\n",
       "F    103.496429\n",
       "M     91.346364\n",
       "Name: time, dtype: float64"
      ]
     },
     "execution_count": 5,
     "metadata": {},
     "output_type": "execute_result"
    }
   ],
   "source": [
    "meanFTimeSample = dfSample['time'].groupby(dfSample['gender']).mean()\n",
    "meanFTimeSample"
   ]
  },
  {
   "cell_type": "markdown",
   "metadata": {},
   "source": [
    "## Task 2: Resampling from the population (42 Points)\n",
    "In this task you will have access to the data from the whole population to determine how much confidence you should have in the numbers you obained in Task 1.The dataset run10.csv contain the total population of 16923 competitors in the 2012 Cherry blossom run (cherryblossom.org). Having the whole population gives us the opportunity to check how good our sample estimate is. \n",
    "\n",
    "### Question 2.1 (10pt)\n",
    "\n",
    "What is the mean finishing time in the whole population of runners? Written answer: How much does it differ from the mean finishing time of the sample analyzed in Task 1? Can this difference be explained by the fact that our sample differs from the population in terms of gender distribution? How about age? Knowing these differences, how could we have improved our estimate?"
   ]
  },
  {
   "cell_type": "code",
   "execution_count": 6,
   "metadata": {},
   "outputs": [
    {
     "name": "stdout",
     "output_type": "stream",
     "text": [
      "the mean finishing time of the population was 94.516\n"
     ]
    }
   ],
   "source": [
    "df = pd.read_csv('run10.csv')\n",
    "meanFTime = df['time'].mean()\n",
    "print(f'the mean finishing time of the population was {meanFTime:.3f}')"
   ]
  },
  {
   "cell_type": "code",
   "execution_count": 7,
   "metadata": {},
   "outputs": [
    {
     "name": "stdout",
     "output_type": "stream",
     "text": [
      "********** total number of male and female runners in the population **********\n",
      "gender\n",
      "F    9732\n",
      "M    7191\n",
      "Name: time, dtype: int64 \n",
      "\n",
      "********** total number of male and female runners in the sample **********\n",
      "gender\n",
      "F    14\n",
      "M    11\n",
      "Name: time, dtype: int64 \n",
      "\n",
      "The total number of runners in the population is 16923\n",
      "The total number of runners in the sample is 25\n",
      "\n",
      "The female ratio in the population is 0.5751\n",
      "The female ratio in the sample is 0.5600\n",
      "\n",
      "the mean age of the runners in the population is 35.521\n",
      "the mean age of the runners in the sample is 37.040\n",
      "\n"
     ]
    }
   ],
   "source": [
    "# to see whether the difference can be explained by the differences in gender distribution between the sample\n",
    "# and the population, we will calculate the proportion of male and female runners\n",
    "dfByGenderP = df['time'].groupby(df['gender'])\n",
    "dfByGenderS = dfSample['time'].groupby(dfSample['gender'])\n",
    "print('********** total number of male and female runners in the population **********')\n",
    "print(dfByGenderP.count(), '\\n')\n",
    "print('********** total number of male and female runners in the sample **********')\n",
    "print(dfByGenderS.count(), '\\n')\n",
    "\n",
    "## calculating the total number of runners in the population and the sample\n",
    "### Alternatively, you could just calculate the ratio of the female runners in both the population and the sample\n",
    "### by using the outputs of the groupby (as printed in the output)\n",
    "totalNP = (dfByGenderP.get_group('F').count()) + (dfByGenderP.get_group('M').count())\n",
    "totalNS = (dfByGenderS.get_group('F').count()) + (dfByGenderS.get_group('M').count())\n",
    "print(f'The total number of runners in the population is {totalNP}')\n",
    "print(f'The total number of runners in the sample is {totalNS}\\n')\n",
    "\n",
    "## calculating female and male proportions in the population and the sample\n",
    "### population\n",
    "fRatioP = (dfByGenderP.get_group('F').count())/totalNP\n",
    "print(f'The female ratio in the population is {fRatioP:.4f}')\n",
    "\n",
    "### sample\n",
    "fRatioS = (dfByGenderS.get_group('F').count())/totalNS\n",
    "print(f'The female ratio in the sample is {fRatioS:.4f}\\n')\n",
    "\n",
    "\n",
    "# to see whether the difference can be explained by the differences in age distribution between the sample\n",
    "# and the population, we will calculate the mean age for the population and the sample\n",
    "print(f'the mean age of the runners in the population is {df.age.mean():.3f}')\n",
    "print(f'the mean age of the runners in the sample is {dfSample.age.mean():.3f}\\n')"
   ]
  },
  {
   "cell_type": "markdown",
   "metadata": {},
   "source": [
    "> The mean finishing time of the population and the sample are 94.516 and 98.1504, respectively. So the mean finishing time of the sample is ~3.63 higher that that of the population. We can see that the proportion of women in the population and the sample are roughly the same. On the other hand, the mean age of runners in the sample is about 1.52 years higher than that of the population. So we can conclude that the differences in the age distribution can explain the difference between the mean finishing times of the sample and the population, since older people tend to run slower. To improve the estimates, we probably should have used a stratifed sample to make the gender distribution and the age distribution equal to the population."
   ]
  },
  {
   "cell_type": "markdown",
   "metadata": {},
   "source": [
    "### Question 2.2 (10pt)\n",
    "Write a function **bootstrap**, which takes a data series (data) as an input and then performs a bootstrap. The function should take numIter samples from the data (with replacement) of size N. It should then calculate the statistics defined in fcn for each iteration and record it in a numpy-array, which it should then return.\n",
    "In this task we will use the bootstrap function to resample from the population. \n",
    "\n",
    "Input arguments \n",
    "- data: data series to resample\n",
    "- N: Sample size for each iteration \n",
    "- fcn: function to apply to the sample to get the statistics\n",
    "- numIter: Number of resamples (should default to 1000) \n",
    "\n",
    "Output argument: \n",
    "- Numpy array of size numIter that contains the estimates of the statistic (i.e. the bootstrap sample)\n",
    "\n",
    "Hints: \n",
    "- You can use np.random.choice to draw a sample (with or without replacement) from a data series "
   ]
  },
  {
   "cell_type": "code",
   "execution_count": 8,
   "metadata": {},
   "outputs": [],
   "source": [
    "def bootstrap(data, N, fcn, numIter = 1000):\n",
    "    stats = np.array(range(numIter), dtype = 'float64') ## initializing the stats array (the function output)\n",
    "    stats = np.array(range(numIter),dtype = 'float64')\n",
    "    for i in range(numIter):\n",
    "        sample=np.random.choice(data,N, replace = True)\n",
    "        stats[i]=fcn(sample)\n",
    "    return stats\n",
    "# alternatively, using a while loop, the function would look like this:\n",
    "#def bootstrap(data,N,fcn,numIter=1000):\n",
    "#    it = 0 ## setting the iteration variable to zero. It will be increased each time a loop is executed\n",
    "#    while it < numIter:\n",
    "#        sample = np.random.choice(data, size = N, replace = True) ## Generates a random sample from a given 1-D array\n",
    "#        stats[it] = fcn(sample)\n",
    "#        it = it + 1\n",
    "#    return stats\n"
   ]
  },
  {
   "cell_type": "markdown",
   "metadata": {},
   "source": [
    "### Question 2.3 (8pt)\n",
    "Call the bootstrap function from Question 2 with the finishing time of whole population as the data series, mean as the statistic, and a sample size of 25. This will give you a sampling distribution. Plot a histogram of the sampling distribution – make sure your x-axis and y-axis are labeled and a caption added. Report the mean and the standard deviation of the sampling distribution. \n",
    "\n",
    "Written answer: \n",
    "Is the mean of the sampling distribution close to the mean of the population? Why? \n",
    "Is the standard deviation close of the sampling distribution to the standard deviation of the population? Why not?"
   ]
  },
  {
   "cell_type": "code",
   "execution_count": 9,
   "metadata": {},
   "outputs": [
    {
     "name": "stdout",
     "output_type": "stream",
     "text": [
      "Sample distribution mean: 94.503\n",
      "\n",
      "the standard deviation of the sample distribution is 3.174\n"
     ]
    },
    {
     "data": {
      "image/png": "[encoded data removed]",
      "text/plain": [
       "<Figure size 640x480 with 1 Axes>"
      ]
     },
     "metadata": {},
     "output_type": "display_data"
    }
   ],
   "source": [
    "# setting the input values to the bootstrap function\n",
    "fTime = df['time'] ## the data array\n",
    "N     = 25         ## the sample size\n",
    "fcn   = np.mean    ## the function that will return the stats needed\n",
    "\n",
    "statDist = bootstrap(fTime, N, fcn, numIter = 10000)\n",
    "\n",
    "# plotting the histogram using seaborn\n",
    "# Alternatively, you could use plt.hist or sns.displot\n",
    "fig = plt.figure()\n",
    "sns.histplot(statDist)\n",
    "plt.xlabel('time')\n",
    "plt.ylabel('count')\n",
    "\n",
    "# calculate the mean and standard deviation of the distribution\n",
    "print(f'Sample distribution mean: {statDist.mean():.3f}\\n')\n",
    "print(f'the standard deviation of the sample distribution is {statDist.std():.3f}' % statDist.std())"
   ]
  },
  {
   "cell_type": "markdown",
   "metadata": {},
   "source": [
    "Is the mean of the sampling distribution close to the mean of the population? Why? \n",
    "\n",
    "When we resample from the population many times, the mean of the sampling distribution will be very close to the population mean.\n",
    "\n",
    "Is the standard deviation close of the sampling distribution to the standard deviation of the population? Why not?\n",
    "\n",
    "The standard deviation of the sampling distribution will be smaller than the standard deviation of the population by factor sqrt(sample_size). "
   ]
  },
  {
   "cell_type": "markdown",
   "metadata": {},
   "source": [
    "*Figure 1.* The histogram showing the distribution of bootstrap means"
   ]
  },
  {
   "cell_type": "markdown",
   "metadata": {},
   "source": [
    "### Question 2.4 (8pt)\n",
    "Call your bootstrap function again as in question 3, this time increasing the sample size first to 50, and then to 100. Which of the values (mean, standard deviation) of the sampling distribution changes most and why? "
   ]
  },
  {
   "cell_type": "code",
   "execution_count": 10,
   "metadata": {},
   "outputs": [
    {
     "name": "stdout",
     "output_type": "stream",
     "text": [
      "The mean of the mean distribution using sample size of 50 is 94.359\n",
      "The std of the mean distribution using sample size of 50 is 2.249\n",
      "The mean of the mean distribution using sample size of 100 is 94.480\n",
      "The std of the mean distribution using sample size of 100 is 1.523\n"
     ]
    }
   ],
   "source": [
    "# calculating the mean of the distribution using sample size of 50\n",
    "statDist50 = bootstrap(fTime, 50, fcn, numIter = 1000)\n",
    "statMean50 = statDist50.mean()\n",
    "statStd50  = statDist50.std()\n",
    "print(f'The mean of the mean distribution using sample size of 50 is {statMean50:.3f}' )\n",
    "print(f'The std of the mean distribution using sample size of 50 is {statStd50:.3f}')\n",
    "\n",
    "# calculating the mean of the distribution using sample size of 100\n",
    "statDist100 = bootstrap(fTime, 100, fcn, numIter = 1000)\n",
    "statMean100 = statDist100.mean()\n",
    "statStd100  = statDist100.std()\n",
    "print(f'The mean of the mean distribution using sample size of 100 is {statMean100:.3f}')\n",
    "print(f'The std of the mean distribution using sample size of 100 is {statStd100:.3f}')"
   ]
  },
  {
   "cell_type": "markdown",
   "metadata": {},
   "source": [
    "> The mean of the distribution stays roughly the same (close to the population mean). However, the standard deviation decreases as we increase the sample size. That's because by increasing the sample size, we are including more data points in out estimates, hence the standard deviation of the stat decreases."
   ]
  },
  {
   "cell_type": "markdown",
   "metadata": {
    "collapsed": true
   },
   "source": [
    "### Question 2.5 (6pt)\n",
    "Calculate the predicted standard error of the sample mean from the population standard deviation and the same size for  N=25, N=50, and N=100. Write a line of code for each sample size that prints the answer in a full sentence. Written answer: Do these match up with the SEMs that you got from question 4? "
   ]
  },
  {
   "cell_type": "code",
   "execution_count": 11,
   "metadata": {},
   "outputs": [
    {
     "name": "stdout",
     "output_type": "stream",
     "text": [
      "The predicted SEM for N=25 samples is 3.184\n",
      "The predicted SEM for N=50 samples is 2.252\n",
      "The predicted SEM for N=100 samples is 1.592\n"
     ]
    }
   ],
   "source": [
    "sd = df['time'].std()\n",
    "print(f'The predicted SEM for N=25 samples is {sd/np.sqrt(25):.3f}')\n",
    "print(f'The predicted SEM for N=50 samples is {sd/np.sqrt(50):.3f}')\n",
    "print(f'The predicted SEM for N=100 samples is {sd/np.sqrt(100):.3f}')"
   ]
  },
  {
   "cell_type": "markdown",
   "metadata": {},
   "source": [
    "> The predicted SEMs very tightly match ones obtained by resampling from the population. "
   ]
  },
  {
   "cell_type": "markdown",
   "metadata": {},
   "source": [
    "## Task 3: Calculating confidence intervals (24pt) \n",
    "### Question 3.1 (8pt)\n",
    "Write a function (confidenceInt) that constructs a confidence interval from sampling distribution using the percentile method (see lecture). \t\n",
    "\n",
    "Input arguments \n",
    "- data: Sample of estimates – usually this is output from a resampling or bootstrap function (from task 2 Q2)\n",
    "- prec: What Confidence interval in percent? 95= 95% confidence interval <br/>\n",
    "Output argument: \n",
    "- A list with 2 values: the lower and upper bound of the interval. \n",
    "\n",
    "Tip: Use np.percentile to get a specific percentile of the data. The lower bound of a 95% confidence interval is the (100-95)/2=2.5 percentile. "
   ]
  },
  {
   "cell_type": "code",
   "execution_count": 12,
   "metadata": {},
   "outputs": [],
   "source": [
    "def confidenceInt(data, prec):\n",
    "    lp = (100 - prec)/2\n",
    "    Int = [np.percentile(data, lp), np.percentile(data, 100-(lp/2))]\n",
    "    return Int"
   ]
  },
  {
   "cell_type": "markdown",
   "metadata": {},
   "source": [
    "### Question 3.2 (8pt)\n",
    "Determine the confidence 95% interval for the mean estimate of your sample of 25? Use your bootstrap function (from Task 2.2) to resample 1000 artificial samples of 25 from your population. Then use your confidenceInt function to get the 95% confidence interval.  Report the interval. \n"
   ]
  },
  {
   "cell_type": "code",
   "execution_count": 13,
   "metadata": {},
   "outputs": [
    {
     "data": {
      "text/plain": [
       "[np.float64(88.61806999999999), np.float64(101.62611500000001)]"
      ]
     },
     "execution_count": 13,
     "metadata": {},
     "output_type": "execute_result"
    }
   ],
   "source": [
    "sampleDist = bootstrap(df['time'], 25, np.mean, numIter = 1000)\n",
    "ci = confidenceInt(sampleDist, 95)\n",
    "ci"
   ]
  },
  {
   "cell_type": "markdown",
   "metadata": {},
   "source": [
    "### Question 3.3  (8pt)\n",
    "Repeat the plotting of the histogram from task 2.3 – but this time plot the lower and upper bound of the confidence interval as a vertical line – see plt.axvline. Make sure that the graph has x- and y-labels and a caption."
   ]
  },
  {
   "cell_type": "code",
   "execution_count": 14,
   "metadata": {},
   "outputs": [
    {
     "data": {
      "text/plain": [
       "Text(0, 0.5, 'frequency')"
      ]
     },
     "execution_count": 14,
     "metadata": {},
     "output_type": "execute_result"
    },
    {
     "data": {
      "image/png": "[encoded data removed]",
      "text/plain": [
       "<Figure size 640x480 with 1 Axes>"
      ]
     },
     "metadata": {},
     "output_type": "display_data"
    }
   ],
   "source": [
    "fig = plt.figure()\n",
    "sns.histplot(sampleDist)\n",
    "plt.axvline(x = ci[0], color = 'r')\n",
    "plt.axvline(x = ci[1], color = 'r')\n",
    "plt.xlabel('time')\n",
    "plt.ylabel('frequency')"
   ]
  },
  {
   "cell_type": "markdown",
   "metadata": {},
   "source": [
    "*Figure 2.* sampling distribution of the mean calculated using resampling, with sample sizes of 25. The upper bound and lower bounds of the 95% confidence interval are shown in red vertical lines"
   ]
  },
  {
   "cell_type": "markdown",
   "metadata": {},
   "source": [
    "## Task 4: Bootstraping from the sample (22pt)\n",
    "Now let's forget that you ever had the data from the whole population. Say, you only have your initial sample of 25 participants. How would you get an estimate of the confidence interval of the mean of the sample? \n",
    "### Question 4.1 (8pt)\n",
    "Load the sample stored in run10sample.csv. Now call the bootstrap function with the sample data. In each loop the function should resampling 25 data points from 25 data points (with replacement!). You have now taken 1000 bootstrap samples. Report the mean of the bootstrap samples, the standard deviation of the the samples, and the 95% confidence interval."
   ]
  },
  {
   "cell_type": "code",
   "execution_count": 15,
   "metadata": {},
   "outputs": [
    {
     "name": "stdout",
     "output_type": "stream",
     "text": [
      "the estimated mean of the sample distribution is 98.262\n",
      "the estimated std of the sample distribution is 2.707\n",
      "the 95% confidence interval is [np.float64(93.30068), np.float64(104.92456)]\n"
     ]
    }
   ],
   "source": [
    "dfSample = pd.read_csv('run10Sample.csv')\n",
    "\n",
    "# using bootstrap to estimate the sampling distribution\n",
    "statDistSample = bootstrap(dfSample['time'], 25, np.mean, numIter = 1000)\n",
    "\n",
    "# calculating the mean and standard deviation of the sampling distribution\n",
    "statDistSampleMean = statDistSample.mean()\n",
    "statDistSampleStd  = statDistSample.std()\n",
    "statDistSampleCi   = confidenceInt(statDistSample, 95)\n",
    "\n",
    "## reporting mean, std and confidence interval\n",
    "print(f'the estimated mean of the sample distribution is {statDistSampleMean:.3f}')\n",
    "print(f'the estimated std of the sample distribution is {statDistSampleStd:.3f}')\n",
    "print(f'the 95% confidence interval is {statDistSampleCi}')"
   ]
  },
  {
   "cell_type": "markdown",
   "metadata": {},
   "source": [
    "### Question 4.2 (8pt)\n",
    "Plot of the histogram of your bootstrap samples –plot the lower and upper bound of the confidence interval as a vertical line – see plt.axvline (see homework 3). Plot the true population mean (Task 2.1) as a red vertical line. Make sure that the graph has x- and y-labels. "
   ]
  },
  {
   "cell_type": "code",
   "execution_count": 16,
   "metadata": {},
   "outputs": [
    {
     "data": {
      "text/plain": [
       "Text(5.069444444444445, 0.5, 'frequency')"
      ]
     },
     "execution_count": 16,
     "metadata": {},
     "output_type": "execute_result"
    },
    {
     "data": {
      "text/plain": [
       "<Figure size 640x480 with 0 Axes>"
      ]
     },
     "metadata": {},
     "output_type": "display_data"
    },
    {
     "data": {
      "image/png": "[encoded data removed]",
      "text/plain": [
       "<Figure size 500x500 with 1 Axes>"
      ]
     },
     "metadata": {},
     "output_type": "display_data"
    }
   ],
   "source": [
    "fig = plt.figure()\n",
    "sns.displot(statDistSample)\n",
    "plt.axvline(x = statDistSampleCi[0], color = 'g')\n",
    "plt.axvline(x = statDistSampleCi[1], color = 'g')\n",
    "plt.axvline(x = meanFTime, color = 'r')\n",
    "plt.xlabel('time')\n",
    "plt.ylabel('frequency')"
   ]
  },
  {
   "cell_type": "markdown",
   "metadata": {},
   "source": [
    "*Figure 3.* The sampling distribution calculated using bootstrap resampling with sample size of 25. The upper and lower bounds of 95% confidence interval are shown in green. The real population mean is shown in red."
   ]
  },
  {
   "cell_type": "markdown",
   "metadata": {},
   "source": [
    "### Question 4.3: (6pt)\n",
    "Written answer: Does the 95% confidence interval include the true population mean? Does it include the mean value from last year’s cherry blossom run (101min)? Is there statistical evidence from your sample of N=25, that the race times have gotten faster from last year? "
   ]
  },
  {
   "cell_type": "markdown",
   "metadata": {},
   "source": [
    "> Both the population mean and the time for last year's are included in the confidence interval. Thus there is no statstical evidence from our sample, that the race has gotten faster. "
   ]
  }
 ],
 "metadata": {
  "kernelspec": {
   "display_name": "Python 3",
   "language": "python",
   "name": "python3"
  },
  "language_info": {
   "codemirror_mode": {
    "name": "ipython",
    "version": 3
   },
   "file_extension": ".py",
   "mimetype": "text/x-python",
   "name": "python",
   "nbconvert_exporter": "python",
   "pygments_lexer": "ipython3",
   "version": "3.9.6"
  }
 },
 "nbformat": 4,
 "nbformat_minor": 2
}
