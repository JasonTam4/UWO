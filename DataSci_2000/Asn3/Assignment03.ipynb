{
 "cells": [
  {
   "cell_type": "markdown",
   "metadata": {
    "collapsed": true
   },
   "source": [
    "# Assignment 3: Bootstrap, confidence intervals & standard errors\n",
    "\n",
    "## Learning Outcomes:\n",
    "In this homework we will look at Estimates, Bootstrap, Confidence intervals, and Standard error.\n",
    "## Dataset \n",
    "The data set run10sample.csv contains data from random sample of 25 runner of the 16923 competitor in the 2012 Cherry blossom run (cherryblossom.org). The variables in the file are: \n",
    "\n",
    "- Place:  Finishing position. Separate positions are provided for each gender.\n",
    "- time: The total run time (in min) \n",
    "- Pace: The listed pace (/mile) for each runner.\n",
    "- Age: Age.\n",
    "- Gender: Gender.\n",
    "- Location: Hometown city. \n",
    "- State: Hometown state \n",
    "- divPlace: Age Division place, also broken up by gender.\n",
    "- divTot: Total number of people in the division (again, also split by gender).\n",
    "\n",
    "The data set run10.csv contains the data from all 16923 competitors, so you can also analyze the whole population. \n",
    "\n",
    "## Preliminaries\n",
    "Set up the environment by importing pandas, numpy, scipy, and matplotlib. "
   ]
  },
  {
   "cell_type": "code",
   "execution_count": 74,
   "metadata": {},
   "outputs": [],
   "source": [
    "import pandas as pd\n",
    "import numpy as np\n",
    "import scipy as ss\n",
    "import matplotlib.pyplot as plt\n",
    "import seaborn as sns\n",
    "import matplotlib"
   ]
  },
  {
   "cell_type": "markdown",
   "metadata": {},
   "source": [
    "## Task 1: Analyzing a sample from the  population (12pt)\n",
    "In this task you will use the sample of runners that you got. \n",
    "### Question 1.1 (4pt)\n",
    "What was the mean finishing time in the random sample?"
   ]
  },
  {
   "cell_type": "code",
   "execution_count": 75,
   "metadata": {},
   "outputs": [
    {
     "data": {
      "text/plain": [
       "np.float64(98.1504)"
      ]
     },
     "execution_count": 75,
     "metadata": {},
     "output_type": "execute_result"
    }
   ],
   "source": [
    "sample_df = pd.read_csv(\"run10sample.csv\")\n",
    "\n",
    "sample_df['time'].mean()\n",
    "\n"
   ]
  },
  {
   "cell_type": "markdown",
   "metadata": {},
   "source": [
    "### Question 1.2 (4pt)\n",
    "What is the number of men and women in your sample (tip: use groupby and size or count)?"
   ]
  },
  {
   "cell_type": "code",
   "execution_count": 76,
   "metadata": {},
   "outputs": [
    {
     "name": "stdout",
     "output_type": "stream",
     "text": [
      "11\n",
      "14\n"
     ]
    }
   ],
   "source": [
    "grouped = sample_df.groupby('gender')\n",
    "#grouped.groups.keys() \n",
    "print(grouped.size()['M'])\n",
    "print(grouped.size()['F'])"
   ]
  },
  {
   "cell_type": "markdown",
   "metadata": {},
   "source": [
    "### Question 1.3 (4pt)\n",
    "What was the mean finishing time when you split the sample up by gender (see Homework 2, task 4)? "
   ]
  },
  {
   "cell_type": "code",
   "execution_count": 77,
   "metadata": {},
   "outputs": [
    {
     "name": "stdout",
     "output_type": "stream",
     "text": [
      "gender\n",
      "F    99.015584\n",
      "M    88.426391\n",
      "Name: time, dtype: float64\n"
     ]
    }
   ],
   "source": [
    "timeMean = df['time'].groupby(df['gender']).mean()\n",
    "print(timeMean)\n"
   ]
  },
  {
   "cell_type": "markdown",
   "metadata": {},
   "source": [
    "## Task 2: Resampling from the population (42 Points)\n",
    "In this task you will have access to the data from the whole population to determine how much confidence you should have in the numbers you obained in Task 1.The dataset run10.csv contain the total population of 16923 competitors in the 2012 Cherry blossom run (cherryblossom.org). Having the whole population gives us the opportunity to check how good our sample estimate is. \n",
    "\n",
    "### Question 2.1 (10pt)\n",
    "\n",
    "What is the mean finishing time in the whole population of runners? Written answer: How much does it differ from the mean finishing time of the sample analyzed in Task 1? Can this difference be explained by the fact that our sample differs from the population in terms of gender distribution? How about age? Knowing these differences, how could we have improved our estimate?"
   ]
  },
  {
   "cell_type": "code",
   "execution_count": 78,
   "metadata": {},
   "outputs": [
    {
     "name": "stdout",
     "output_type": "stream",
     "text": [
      "Sample mean time: 98.1504\n",
      "Population mean time: 94.51597470897596\n",
      "Population number of male: 7191\n",
      "Population number of females: 9732\n",
      "Population age mean is: 35.52106600484548\n",
      "Population age mean is: 37.04\n"
     ]
    }
   ],
   "source": [
    "df = pd.read_csv(\"run10.csv\")\n",
    "\n",
    "print(f\"Sample mean time: {sample_df['time'].mean()}\")\n",
    "print(f\"Population mean time: {df['time'].mean()}\")\n",
    "\n",
    "df_gender_grouped = df.groupby('gender')\n",
    "print(f\"Population number of male: {df_gender_grouped.size()['M']}\")\n",
    "print(f\"Population number of females: {df_gender_grouped.size()['F']}\")\n",
    "\n",
    "print(f\"Population age mean is: {df['age'].mean()}\")\n",
    "print(f\"Population age mean is: {sample_df['age'].mean()}\")\n",
    "\n"
   ]
  },
  {
   "cell_type": "markdown",
   "metadata": {},
   "source": [
    "This differs from the mean finising time by 4 seconds. Yes, this could be because our sample differs from the gender or age distribution. If we knew the differences in gender distribution, we could take the mean time of men and women, then reweight our estimate. Same thing for age, if we have the difference in mean age, we could reweight our guess."
   ]
  },
  {
   "cell_type": "markdown",
   "metadata": {},
   "source": [
    "### Question 2.2 (10pt)\n",
    "Write a function **bootstrap**, which takes a data series (data) as an input and then performs a bootstrap. The function should take numIter samples from the data (with replacement) of size N. It should then calculate the statistics defined in fcn for each iteration and record it in a numpy-array, which it should then return.\n",
    "In this task we will use the bootstrap function to resample from the population. \n",
    "\n",
    "Input arguments \n",
    "- data: data series to resample\n",
    "- N: Sample size for each iteration \n",
    "- fcn: function to apply to the sample to get the statistics\n",
    "- numIter: Number of resamples (should default to 1000) \n",
    "\n",
    "Output argument: \n",
    "- Numpy array of size numIter that contains the estimates of the statistic (i.e. the bootstrap sample)\n",
    "\n",
    "Hints: \n",
    "- You can use np.random.choice to draw a sample (with or without replacement) from a data series "
   ]
  },
  {
   "cell_type": "code",
   "execution_count": 79,
   "metadata": {},
   "outputs": [],
   "source": [
    "def bootstrap(data, N, fcn = np.sqrt, numIter=1000):\n",
    "    Nsamp  = np.zeros(numIter)\n",
    "\n",
    "    iter = 1 # iteration number\n",
    "    while iter < numIter:\n",
    "        #print(f\"iteration {iter}\")\n",
    "        Nsamp[iter] = fcn(np.random.choice(data, size = N, replace = True))\n",
    "        \n",
    "        \n",
    "        iter = iter + 1\n",
    "    return Nsamp"
   ]
  },
  {
   "cell_type": "markdown",
   "metadata": {},
   "source": [
    "### Question 2.3 (8pt)\n",
    "Call the bootstrap function from Question 2 with the finishing time of whole population as the data series, mean as the statistic, and a sample size of 25. This will give you a sampling distribution. Plot a histogram of the sampling distribution – make sure your x-axis and y-axis are labeled and a caption added. Report the mean and the standard deviation of the sampling distribution. \n",
    "\n",
    "Written answer: \n",
    "Is the mean of the sampling distribution close to the mean of the population? Why? \n",
    "Is the standard deviation close of the sampling distribution to the standard deviation of the population? Why not?"
   ]
  },
  {
   "cell_type": "code",
   "execution_count": 80,
   "metadata": {},
   "outputs": [
    {
     "data": {
      "image/png": "[encoded data removed]",
      "text/plain": [
       "<Figure size 640x480 with 1 Axes>"
      ]
     },
     "metadata": {},
     "output_type": "display_data"
    },
    {
     "name": "stdout",
     "output_type": "stream",
     "text": [
      "4.390170771516133\n",
      "15.921655434555316\n"
     ]
    }
   ],
   "source": [
    "sample_means = bootstrap(df['time'], 25, np.mean)\n",
    "plt.hist(sample_means, bins = 100)\n",
    "plt.xlabel(\"mean\") \n",
    "plt.ylabel(\"count\")\n",
    "plt.show()\n",
    "\n",
    "std_dev = np.std(sample_means)\n",
    "print(std_dev)\n",
    "\n",
    "std_dev_pop = np.std(df['time'])\n",
    "print(std_dev_pop)"
   ]
  },
  {
   "cell_type": "markdown",
   "metadata": {},
   "source": [
    "Yes, the mean of the sampling distributions are close to the mean of the population. This is because the sample distribution draws from the population. No the standard deviation of the sampling distribution is not similar to the standard deviation of the population. This is because we are taking the means from the population which is the averages of times instead of just the deviation of times."
   ]
  },
  {
   "cell_type": "markdown",
   "metadata": {},
   "source": [
    "### Question 2.4 (8pt)\n",
    "Call your bootstrap function again as in question 3, this time increasing the sample size first to 50, and then to 100. Which of the values (mean, standard deviation) of the sampling distribution changes most and why? "
   ]
  },
  {
   "cell_type": "code",
   "execution_count": 81,
   "metadata": {},
   "outputs": [
    {
     "name": "stdout",
     "output_type": "stream",
     "text": [
      "94.4583891\n",
      "3.4075819442254347\n"
     ]
    }
   ],
   "source": [
    "sample_means = bootstrap(df['time'], 100, np.mean)\n",
    "\n",
    "print(sample_means.mean())\n",
    "std_dev = np.std(sample_means)\n",
    "print(std_dev)\n"
   ]
  },
  {
   "cell_type": "markdown",
   "metadata": {},
   "source": [
    "Standard deviation is reduced for every increase in sample size. The mean stays about the same."
   ]
  },
  {
   "cell_type": "markdown",
   "metadata": {
    "collapsed": true
   },
   "source": [
    "### Question 2.5 (6pt)\n",
    "Calculate the predicted standard error of the sample mean from the population standard deviation and the same size for  N=25, N=50, and N=100. Write a line of code for each sample size that prints the answer in a full sentence. Written answer: Do these match up with the SEMs that you got from question 4? "
   ]
  },
  {
   "cell_type": "code",
   "execution_count": 82,
   "metadata": {},
   "outputs": [
    {
     "name": "stdout",
     "output_type": "stream",
     "text": [
      "The predicted standard error of the sample mean for N=25 is 0.88.\n",
      "The predicted standard error of the sample mean for N=50 is 0.53.\n",
      "The predicted standard error of the sample mean for N=100 is 0.34.\n"
     ]
    }
   ],
   "source": [
    "sample_sizes = [25, 50, 100]\n",
    "\n",
    "# Calculate and print the SEM for each sample size\n",
    "for N in sample_sizes:\n",
    "    sample_means = bootstrap(df['time'], N, np.mean)\n",
    "    std_dev = np.std(sample_means)\n",
    "\n",
    "    sem = std_dev / (N ** 0.5)  # Calculate SEM\n",
    "    print(f\"The predicted standard error of the sample mean for N={N} is {sem:.2f}.\")"
   ]
  },
  {
   "cell_type": "markdown",
   "metadata": {},
   "source": [
    "The values are not the same. However the decreasing error for an increasing sample size stays the same."
   ]
  },
  {
   "cell_type": "markdown",
   "metadata": {},
   "source": [
    "## Task 3: Calculating confidence intervals (24pt) \n",
    "### Question 3.1 (8pt)\n",
    "Write a function (confidenceInt) that constructs a confidence interval from sampling distribution using the percentile method (see lecture). \t\n",
    "\n",
    "Input arguments \n",
    "- data: Sample of estimates – usually this is output from a resampling or bootstrap function (from task 2 Q2)\n",
    "- prec: What Confidence interval in percent? 95= 95% confidence interval <br/>\n",
    "Output argument: \n",
    "- A list with 2 values: the lower and upper bound of the interval. \n",
    "\n",
    "Tip: Use np.percentile to get a specific percentile of the data. The lower bound of a 95% confidence interval is the (100-95)/2=2.5 percentile. "
   ]
  },
  {
   "cell_type": "code",
   "execution_count": 83,
   "metadata": {},
   "outputs": [],
   "source": [
    "def confidenceInt(data, prec):\n",
    "    lower_percentile = (100 - prec) / 2\n",
    "    upper_percentile = 100 - lower_percentile\n",
    "\n",
    "    lower_bound = np.percentile(data, lower_percentile)\n",
    "    upper_bound = np.percentile(data, upper_percentile)\n",
    "\n",
    "    return [lower_bound, upper_bound]"
   ]
  },
  {
   "cell_type": "markdown",
   "metadata": {},
   "source": [
    "### Question 3.2 (8pt)\n",
    "Determine the confidence 95% interval for the mean estimate of your sample of 25? Use your bootstrap function (from Task 2.2) to resample 1000 artificial samples of 25 from your population. Then use your confidenceInt function to get the 95% confidence interval.  Report the interval. \n"
   ]
  },
  {
   "cell_type": "code",
   "execution_count": null,
   "metadata": {},
   "outputs": [],
   "source": []
  },
  {
   "cell_type": "markdown",
   "metadata": {},
   "source": [
    "### Question 3.3  (8pt)\n",
    "Repeat the plotting of the histogram from task 2.3 – but this time plot the lower and upper bound of the confidence interval as a vertical line – see plt.axvline. Make sure that the graph has x- and y-labels and a caption."
   ]
  },
  {
   "cell_type": "code",
   "execution_count": null,
   "metadata": {},
   "outputs": [],
   "source": []
  },
  {
   "cell_type": "markdown",
   "metadata": {},
   "source": [
    "## Task 4: Bootstraping from the sample (22pt)\n",
    "Now let's forget that you ever had the data from the whole population. Say, you only have your initial sample of 25 participants. How would you get an estimate of the confidence interval of the mean of the sample? \n",
    "### Question 4.1 (8pt)\n",
    "Load the sample stored in run10sample.csv. Now call the bootstrap function with the sample data. In each loop the function should resampling 25 data points from 25 data points (with replacement!). You have now taken 1000 bootstrap samples. Report the mean of the bootstrap distribution, the standard deviation of the the bootstrap distribution, and the 95% confidence interval for your sample mean. "
   ]
  },
  {
   "cell_type": "code",
   "execution_count": null,
   "metadata": {},
   "outputs": [],
   "source": []
  },
  {
   "cell_type": "markdown",
   "metadata": {},
   "source": [
    "### Question 4.2 (8pt)\n",
    "Plot of the histogram of your bootstrap distribution –plot the lower and upper bound of the confidence interval as a vertical line – see plt.axvline (see homework 3). Plot the true population mean (Task 2.1) as a red vertical line. Make sure that the graph has x- and y-labels. "
   ]
  },
  {
   "cell_type": "code",
   "execution_count": null,
   "metadata": {},
   "outputs": [],
   "source": []
  },
  {
   "cell_type": "markdown",
   "metadata": {},
   "source": [
    "### Question 4.3: (6pt)\n",
    "Written answer: Does the 95% confidence interval include the true population mean? Does it include the mean value from last year’s cherry blossom run (101min)? Is there statistical evidence from your sample of N=25, that the race times have gotten faster from last year? "
   ]
  }
 ],
 "metadata": {
  "kernelspec": {
   "display_name": "Python 3",
   "language": "python",
   "name": "python3"
  },
  "language_info": {
   "codemirror_mode": {
    "name": "ipython",
    "version": 3
   },
   "file_extension": ".py",
   "mimetype": "text/x-python",
   "name": "python",
   "nbconvert_exporter": "python",
   "pygments_lexer": "ipython3",
   "version": "3.9.6"
  }
 },
 "nbformat": 4,
 "nbformat_minor": 2
}
