{
 "cells": [
  {
   "cell_type": "markdown",
   "metadata": {
    "collapsed": true
   },
   "source": [
    "# Assignment 3: Bootstrap, confidence intervals & standard errors\n",
    "\n",
    "## Learning Outcomes:\n",
    "In this homework we will look at Estimates, Bootstrap, Confidence intervals, and Standard error.\n",
    "## Dataset \n",
    "The data set run10sample.csv contains data from random sample of 25 runner of the 16923 competitor in the 2012 Cherry blossom run (cherryblossom.org). The variables in the file are: \n",
    "\n",
    "- Place:  Finishing position. Separate positions are provided for each gender.\n",
    "- time: The total run time (in min) \n",
    "- Pace: The listed pace (/mile) for each runner.\n",
    "- Age: Age.\n",
    "- Gender: Gender.\n",
    "- Location: Hometown city. \n",
    "- State: Hometown state \n",
    "- divPlace: Age Division place, also broken up by gender.\n",
    "- divTot: Total number of people in the division (again, also split by gender).\n",
    "\n",
    "The data set run10.csv contains the data from all 16923 competitors, so you can also analyze the whole population. \n",
    "\n",
    "## Preliminaries\n",
    "Set up the environment by importing pandas, numpy, scipy, and matplotlib. "
   ]
  },
  {
   "cell_type": "code",
   "execution_count": 1,
   "metadata": {},
   "outputs": [],
   "source": [
    "import pandas as pd\n",
    "import numpy as np\n",
    "import scipy as ss\n",
    "import matplotlib.pyplot as plt\n",
    "import seaborn as sns\n",
    "import matplotlib"
   ]
  },
  {
   "cell_type": "markdown",
   "metadata": {},
   "source": [
    "## Task 1: Analyzing a sample from the  population (12pt)\n",
    "In this task you will use the sample of runners that you got. \n",
    "### Question 1.1 (4pt)\n",
    "What was the mean finishing time in the random sample?"
   ]
  },
  {
   "cell_type": "code",
   "execution_count": 16,
   "metadata": {},
   "outputs": [
    {
     "data": {
      "text/plain": [
       "np.float64(98.1504)"
      ]
     },
     "execution_count": 16,
     "metadata": {},
     "output_type": "execute_result"
    }
   ],
   "source": [
    "df_sample = pd.read_csv('run10sample.csv')\n",
    "\n",
    "mean_finish_time = df_sample['time'].mean()\n",
    "mean_finish_time"
   ]
  },
  {
   "cell_type": "markdown",
   "metadata": {},
   "source": [
    "### Question 1.2 (4pt)\n",
    "What is the number of men and women in your sample (tip: use groupby and size or count)?"
   ]
  },
  {
   "cell_type": "code",
   "execution_count": 17,
   "metadata": {},
   "outputs": [
    {
     "data": {
      "text/plain": [
       "gender\n",
       "F    14\n",
       "M    11\n",
       "dtype: int64"
      ]
     },
     "execution_count": 17,
     "metadata": {},
     "output_type": "execute_result"
    }
   ],
   "source": [
    "genders = df_sample.groupby(df_sample['gender']).size()\n",
    "genders"
   ]
  },
  {
   "cell_type": "markdown",
   "metadata": {},
   "source": [
    "### Question 1.3 (4pt)\n",
    "What was the mean finishing time when you split the sample up by gender (see Homework 2, task 4)? "
   ]
  },
  {
   "cell_type": "code",
   "execution_count": 18,
   "metadata": {},
   "outputs": [
    {
     "data": {
      "text/plain": [
       "gender\n",
       "F    103.496429\n",
       "M     91.346364\n",
       "Name: time, dtype: float64"
      ]
     },
     "execution_count": 18,
     "metadata": {},
     "output_type": "execute_result"
    }
   ],
   "source": [
    "times = df_sample['time'].groupby(df_sample['gender']).mean()\n",
    "times"
   ]
  },
  {
   "cell_type": "markdown",
   "metadata": {},
   "source": [
    "## Task 2: Resampling from the population (42 Points)\n",
    "In this task you will have access to the data from the whole population to determine how much confidence you should have in the numbers you obained in Task 1.The dataset run10.csv contain the total population of 16923 competitors in the 2012 Cherry blossom run (cherryblossom.org). Having the whole population gives us the opportunity to check how good our sample estimate is. \n",
    "\n",
    "### Question 2.1 (10pt)\n",
    "\n",
    "What is the mean finishing time in the whole population of runners? Written answer: How much does it differ from the mean finishing time of the sample analyzed in Task 1? Can this difference be explained by the fact that our sample differs from the population in terms of gender distribution? How about age? Knowing these differences, how could we have improved our estimate?"
   ]
  },
  {
   "cell_type": "code",
   "execution_count": 35,
   "metadata": {},
   "outputs": [
    {
     "name": "stdout",
     "output_type": "stream",
     "text": [
      "population mean finishing time 94.51597470897596\n",
      "population proportion\n",
      "0.5750753412515511\n",
      "sample proportion\n",
      "0.56\n"
     ]
    }
   ],
   "source": [
    "df = pd.read_csv('run10.csv')\n",
    "\n",
    "print(f\"population mean finishing time {df['time'].mean()}\")\n",
    "\n",
    "print(\"population proportion\")\n",
    "pop_gender_distribution = df.groupby(df['gender']).size()\n",
    "pop_total_count = pop_gender_distribution['M'] + pop_gender_distribution['F'] \n",
    "pop_gender_propotion = pop_gender_distribution['F']/pop_total_count\n",
    "print(pop_gender_propotion)\n",
    "\n",
    "print(\"sample proportion\")\n",
    "sam_gender_distribution = df_sample.groupby(df['gender']).size()\n",
    "sam_total_count = sam_gender_distribution['M'] + sam_gender_distribution['F'] \n",
    "sam_gender_propotion = sam_gender_distribution['F']/sam_total_count\n",
    "print(sam_gender_propotion)"
   ]
  },
  {
   "cell_type": "markdown",
   "metadata": {},
   "source": [
    "### Question 2.2 (10pt)\n",
    "Write a function **bootstrap**, which takes a data series (data) as an input and then performs a bootstrap. The function should take numIter samples from the data (with replacement) of size N. It should then calculate the statistics defined in fcn for each iteration and record it in a numpy-array, which it should then return.\n",
    "In this task we will use the bootstrap function to resample from the population. \n",
    "\n",
    "Input arguments \n",
    "- data: data series to resample\n",
    "- N: Sample size for each iteration \n",
    "- fcn: function to apply to the sample to get the statistics\n",
    "- numIter: Number of resamples (should default to 1000) \n",
    "\n",
    "Output argument: \n",
    "- Numpy array of size numIter that contains the estimates of the statistic (i.e. the bootstrap sample)\n",
    "\n",
    "Hints: \n",
    "- You can use np.random.choice to draw a sample (with or without replacement) from a data series "
   ]
  },
  {
   "cell_type": "code",
   "execution_count": 46,
   "metadata": {},
   "outputs": [],
   "source": [
    "def bootstrap(data, N, fcn, numIter=1000):\n",
    "    array = np.zeros(numIter)\n",
    "    for i in range(numIter):\n",
    "        sample = np.random.choice(data, N, replace=True)\n",
    "        array[i] = fcn(sample)\n",
    "    \n",
    "    return array\n",
    "    \n",
    "\n",
    "\n",
    "def mean_fcn(data):\n",
    "    return data.mean()"
   ]
  },
  {
   "cell_type": "markdown",
   "metadata": {},
   "source": [
    "### Question 2.3 (8pt)\n",
    "Call the bootstrap function from Question 2 with the finishing time of whole population as the data series, mean as the statistic, and a sample size of 25. This will give you a sampling distribution. Plot a histogram of the sampling distribution – make sure your x-axis and y-axis are labeled and a caption added. Report the mean and the standard deviation of the sampling distribution. \n",
    "\n",
    "Written answer: \n",
    "Is the mean of the sampling distribution close to the mean of the population? Why? \n",
    "Is the standard deviation close of the sampling distribution to the standard deviation of the population? Why not?"
   ]
  },
  {
   "cell_type": "code",
   "execution_count": 51,
   "metadata": {},
   "outputs": [
    {
     "data": {
      "image/png": "[encoded data removed]",
      "text/plain": [
       "<Figure size 640x480 with 1 Axes>"
      ]
     },
     "metadata": {},
     "output_type": "display_data"
    }
   ],
   "source": [
    "sampling_dist = bootstrap(df['time'], 25, mean_fcn)\n",
    "plt.hist(sampling_dist, bins=50)\n",
    "plt.show()"
   ]
  },
  {
   "cell_type": "markdown",
   "metadata": {},
   "source": [
    "### Question 2.4 (8pt)\n",
    "Call your bootstrap function again as in question 3, this time increasing the sample size first to 50, and then to 100. Which of the values (mean, standard deviation) of the sampling distribution changes most and why? "
   ]
  },
  {
   "cell_type": "code",
   "execution_count": 54,
   "metadata": {},
   "outputs": [
    {
     "data": {
      "image/png": "[encoded data removed]",
      "text/plain": [
       "<Figure size 640x480 with 1 Axes>"
      ]
     },
     "metadata": {},
     "output_type": "display_data"
    }
   ],
   "source": [
    "sampling_dist = bootstrap(df['time'], 50, mean_fcn)\n",
    "plt.hist(sampling_dist, bins=50)\n",
    "\n",
    "sampling_dist = bootstrap(df['time'], 100, mean_fcn)\n",
    "plt.hist(sampling_dist, bins=50)\n",
    "\n",
    "\n",
    "plt.show()"
   ]
  },
  {
   "cell_type": "markdown",
   "metadata": {
    "collapsed": true
   },
   "source": [
    "### Question 2.5 (6pt)\n",
    "Calculate the predicted standard error of the sample mean from the population standard deviation and the same size for  N=25, N=50, and N=100. Write a line of code for each sample size that prints the answer in a full sentence. Written answer: Do these match up with the SEMs that you got from question 4? "
   ]
  },
  {
   "cell_type": "code",
   "execution_count": 79,
   "metadata": {},
   "outputs": [
    {
     "data": {
      "text/plain": [
       "np.float64(0.07200642213867761)"
      ]
     },
     "execution_count": 79,
     "metadata": {},
     "output_type": "execute_result"
    }
   ],
   "source": [
    "sampling_dist = bootstrap(df['time'], 50, mean_fcn)\n",
    "standard_error = sampling_dist.std()/np.sqrt(len(sampling_dist))\n",
    "\n",
    "standard_error"
   ]
  },
  {
   "cell_type": "markdown",
   "metadata": {},
   "source": [
    "## Task 3: Calculating confidence intervals (24pt) \n",
    "### Question 3.1 (8pt)\n",
    "Write a function (confidenceInt) that constructs a confidence interval from sampling distribution using the percentile method (see lecture). \t\n",
    "\n",
    "Input arguments \n",
    "- data: Sample of estimates – usually this is output from a resampling or bootstrap function (from task 2 Q2)\n",
    "- prec: What Confidence interval in percent? 95= 95% confidence interval <br/>\n",
    "Output argument: \n",
    "- A list with 2 values: the lower and upper bound of the interval. \n",
    "\n",
    "Tip: Use np.percentile to get a specific percentile of the data. The lower bound of a 95% confidence interval is the (100-95)/2=2.5 percentile. "
   ]
  },
  {
   "cell_type": "code",
   "execution_count": 80,
   "metadata": {},
   "outputs": [],
   "source": [
    "def confidenceInt(data, prec):\n",
    "    lower = (100-prec)/2\n",
    "    upper = (prec + lower)\n",
    "    list = [np.percentile(data, lower), np.percentile(data, upper)]\n",
    "    return list\n"
   ]
  },
  {
   "cell_type": "markdown",
   "metadata": {},
   "source": [
    "### Question 3.2 (8pt)\n",
    "Determine the confidence 95% interval for the mean estimate of your sample of 25? Use your bootstrap function (from Task 2.2) to resample 1000 artificial samples of 25 from your population. Then use your confidenceInt function to get the 95% confidence interval.  Report the interval. \n"
   ]
  },
  {
   "cell_type": "code",
   "execution_count": 81,
   "metadata": {},
   "outputs": [
    {
     "data": {
      "text/plain": [
       "[np.float64(88.20224), np.float64(100.61482999999998)]"
      ]
     },
     "execution_count": 81,
     "metadata": {},
     "output_type": "execute_result"
    }
   ],
   "source": [
    "sampling_dist = bootstrap(df['time'], 25, mean_fcn)\n",
    "confidenceInt(sampling_dist, 95)"
   ]
  },
  {
   "cell_type": "markdown",
   "metadata": {},
   "source": [
    "### Question 3.3  (8pt)\n",
    "Repeat the plotting of the histogram from task 2.3 – but this time plot the lower and upper bound of the confidence interval as a vertical line – see plt.axvline. Make sure that the graph has x- and y-labels and a caption."
   ]
  },
  {
   "cell_type": "code",
   "execution_count": 84,
   "metadata": {},
   "outputs": [
    {
     "data": {
      "image/png": "[encoded data removed]",
      "text/plain": [
       "<Figure size 640x480 with 1 Axes>"
      ]
     },
     "metadata": {},
     "output_type": "display_data"
    }
   ],
   "source": [
    "sampling_dist = bootstrap(df['time'], 25, mean_fcn)\n",
    "plt.hist(sampling_dist, bins=50)\n",
    "confidence_list = confidenceInt(sampling_dist, 95)\n",
    "plt.axvline(confidence_list[0], color='red')\n",
    "plt.axvline(confidence_list[1], color='red')\n",
    "\n",
    "plt.show()"
   ]
  },
  {
   "cell_type": "markdown",
   "metadata": {},
   "source": [
    "## Task 4: Bootstraping from the sample (22pt)\n",
    "Now let's forget that you ever had the data from the whole population. Say, you only have your initial sample of 25 participants. How would you get an estimate of the confidence interval of the mean of the sample? \n",
    "### Question 4.1 (8pt)\n",
    "Load the sample stored in run10sample.csv. Now call the bootstrap function with the sample data. In each loop the function should resampling 25 data points from 25 data points (with replacement!). You have now taken 1000 bootstrap samples. Report the mean of the bootstrap distribution, the standard deviation of the the bootstrap distribution, and the 95% confidence interval for your sample mean. "
   ]
  },
  {
   "cell_type": "code",
   "execution_count": 103,
   "metadata": {},
   "outputs": [
    {
     "name": "stdout",
     "output_type": "stream",
     "text": [
      "98.1629776\n",
      "2.9038542270538032\n",
      "[np.float64(76.498), np.float64(124.74199999999998)]\n"
     ]
    }
   ],
   "source": [
    "array = bootstrap(df_sample['time'], 25, mean_fcn)\n",
    "print(array.mean())\n",
    "print(array.std())\n",
    "print(confidenceInt(df_sample['time'], 95))"
   ]
  },
  {
   "cell_type": "markdown",
   "metadata": {},
   "source": [
    "### Question 4.2 (8pt)\n",
    "Plot of the histogram of your bootstrap distribution –plot the lower and upper bound of the confidence interval as a vertical line – see plt.axvline (see homework 3). Plot the true population mean (Task 2.1) as a red vertical line. Make sure that the graph has x- and y-labels. "
   ]
  },
  {
   "cell_type": "code",
   "execution_count": 104,
   "metadata": {},
   "outputs": [
    {
     "data": {
      "image/png": "[encoded data removed]",
      "text/plain": [
       "<Figure size 640x480 with 1 Axes>"
      ]
     },
     "metadata": {},
     "output_type": "display_data"
    }
   ],
   "source": [
    "plt.hist(array, bins=50)\n",
    "confidence_list = confidenceInt(array, 95)\n",
    "plt.axvline(confidence_list[0], color='red')\n",
    "plt.axvline(confidence_list[1], color='red')\n",
    "\n",
    "plt.show()"
   ]
  },
  {
   "cell_type": "markdown",
   "metadata": {},
   "source": [
    "### Question 4.3: (6pt)\n",
    "Written answer: Does the 95% confidence interval include the true population mean? Does it include the mean value from last year’s cherry blossom run (101min)? Is there statistical evidence from your sample of N=25, that the race times have gotten faster from last year? "
   ]
  }
 ],
 "metadata": {
  "kernelspec": {
   "display_name": "Python 3",
   "language": "python",
   "name": "python3"
  },
  "language_info": {
   "codemirror_mode": {
    "name": "ipython",
    "version": 3
   },
   "file_extension": ".py",
   "mimetype": "text/x-python",
   "name": "python",
   "nbconvert_exporter": "python",
   "pygments_lexer": "ipython3",
   "version": "3.9.6"
  }
 },
 "nbformat": 4,
 "nbformat_minor": 2
}
